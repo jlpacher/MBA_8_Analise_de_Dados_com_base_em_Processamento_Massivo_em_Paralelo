{
 "cells": [
  {
   "cell_type": "markdown",
   "metadata": {
    "id": "o1X5s78e7kOH"
   },
   "source": [
    "# <span style=\"color:blue\">MBA em Ciência de Dados</span>\n",
    "# <span style=\"color:blue\">Análise de Dados com Base em Processamento Massivo em Paralelo</span>\n",
    "\n",
    "## <span style=\"color:blue\">Aula 03: Processo de ETL/ELT</span>\n",
    "## <span style=\"color:blue\">Exemplo usando Pandas</span>\n",
    "\n",
    "**Material Produzido por:**<br>\n",
    ">**Profa. Dra. Cristina Dutra de Aguiar**<br>\n",
    "**CEMEAI - ICMC/USP São Carlos**\n",
    "\n",
    "**Essa lista de exercícios contém 10 exercícios, os quais estão espalhados ao longo do texto. Por favor, procurem por EXERCÍCIO para encontrar a especificação dos exercícios e também o local no qual os comandos devem ser inseridos.**\n",
    "\n",
    "**Recomenda-se fortemente que a lista de exercícios seja respondida antes de se consultar as respostas dos exercícios.** "
   ]
  },
  {
   "cell_type": "markdown",
   "metadata": {
    "id": "CKb-rhim7kOI"
   },
   "source": [
    "\n",
    "\n",
    "**Conteúdo**\n",
    "1. Fontes de Dados\n",
    "\n",
    "2. Projeto do *Data Mart*\n",
    "\n",
    "3. Importação usando Pandas\n",
    "\n",
    "4. Integração de esquemas\n",
    "   \n",
    "   4.1. Conflito de nome (sinônimos)\n",
    "   \n",
    "   4.2. Conflito semântico\n",
    "   \n",
    "   4.3. Padronização das colunas\n",
    "\n",
    "5. Integração de instâncias\n",
    "    \n",
    "    5.1. Considerando a fonte de dados funcionarioRelacional\n",
    "    \n",
    "    5.2. Considerando a fonte de dados colaboradorJSON\n",
    "    \n",
    "6. Carga dos dados no *Data Mart*"
   ]
  },
  {
   "cell_type": "markdown",
   "metadata": {
    "id": "fukYOo3vgaJB"
   },
   "source": [
    "### 1 Fontes de Dados\n",
    "\n",
    "Os dados dos funcionários estão armazenados em três fontes diferentes.\n",
    "\n",
    "**Fonte 1**. *funcionarioRelacional.csv*: referente a um banco de dados relacional. Essa fonte armazena os funcionários da área de Engenharia.\n",
    "\n",
    "**Fonte 2**. *colaboradorJSON.json*: arquivo JSON referente a uma base de dados NoSQL (Not Only SQL). Essa fonte armazena os funcionários da área de *Marketing*.\n",
    "\n",
    "**Fonte 3**. *empregadoPlanilha.xlsx*: arquivo referente a uma planilha Excel. Essa fonte armazena os funcionários da área de Recursos Humanos. \n",
    "\n",
    "Na parte da aula, serão usadas as fontes 1 (funcionarioRelacional) e 2 (colaboradorJSON). A fonte 3 (empregadoPlanilha) será usada na lista de exercícios.\n",
    "\n"
   ]
  },
  {
   "cell_type": "markdown",
   "metadata": {
    "id": "IRzizjJUuwXg"
   },
   "source": [
    "## 2 Projeto do *Data Mart*\n",
    "\n",
    "O projeto do **data mart** refere-se ao esquema de relação *funcionario*. Esse esquema é definido a seguir, sendo que a chave primária é representada pelo atributo funcPK. \n",
    "\n",
    "funcionario (<ins>funcPK</ins>, funcMatricula, funcNome, funcSexo, funcDataNascimento, funcDiaNascimento, funcMesNascimento, funcAnoNascimento, funcCidade, funcEstadoNome, funcEstadoSigla, funcRegiaoNome, funcRegiaoSigla, funcPaisNome, funcPaisSigla)\n"
   ]
  },
  {
   "cell_type": "markdown",
   "metadata": {
    "id": "4Q6lAFKogO2l"
   },
   "source": [
    "## 3 Importação usando Pandas \n",
    "\n",
    "As fontes de dados são importadas por meio da estrutura `Dataframe`. Essa estrutura permite a leitura das diferentes fontes consideradas: `csv`, `json` e `xlsx`. Quando essas fontes são importadas, elas são unificadas em um formato único, o formato do `Dataframe`, facilitando a manipulação."
   ]
  },
  {
   "cell_type": "code",
   "execution_count": 1,
   "metadata": {
    "id": "OZDCnzouJlVN"
   },
   "outputs": [],
   "source": [
    "import pandas as pd"
   ]
  },
  {
   "cell_type": "markdown",
   "metadata": {
    "id": "BUMcL4M6JyQs"
   },
   "source": [
    "O comando a seguir realiza a importação dos dados dos funcionários armazenados em *funcionarioRelacional.csv* e armazena o resultado no `Dataframe` chamado funcionarioRelacional.\n"
   ]
  },
  {
   "cell_type": "code",
   "execution_count": 2,
   "metadata": {
    "id": "l8pEFcnl8ABD"
   },
   "outputs": [],
   "source": [
    "funcionarioRelacional = pd.read_csv('https://raw.githubusercontent.com/GuiMuzziUSP/ETL_Funcionarios/main/funcionarioRelacional.csv')"
   ]
  },
  {
   "cell_type": "markdown",
   "metadata": {
    "id": "B5gqmHWDx-bc"
   },
   "source": [
    "Os comandos a seguir exibem a quantidade de funcionários importados e os primeiros elementos de funcionarioRelacional."
   ]
  },
  {
   "cell_type": "code",
   "execution_count": 3,
   "metadata": {
    "colab": {
     "base_uri": "https://localhost:8080/",
     "height": 221
    },
    "executionInfo": {
     "elapsed": 86,
     "status": "ok",
     "timestamp": 1634226297570,
     "user": {
      "displayName": "Cristina Aguiar",
      "photoUrl": "https://lh3.googleusercontent.com/a-/AOh14Ghm5-HutuB5OUCrYhu0nhLTQcZZyzBZhLySrDpjFQ=s64",
      "userId": "02805498492766545440"
     },
     "user_tz": 180
    },
    "id": "tKfVS2j-9jLt",
    "outputId": "c0b02857-a8b1-47b8-f686-671ad68544dd"
   },
   "outputs": [
    {
     "name": "stdout",
     "output_type": "stream",
     "text": [
      "Quantidade de funcionários importados da Fonte 1 (funcionarioRelacional.csv):  56\n"
     ]
    },
    {
     "data": {
      "text/html": [
       "<div>\n",
       "<style scoped>\n",
       "    .dataframe tbody tr th:only-of-type {\n",
       "        vertical-align: middle;\n",
       "    }\n",
       "\n",
       "    .dataframe tbody tr th {\n",
       "        vertical-align: top;\n",
       "    }\n",
       "\n",
       "    .dataframe thead th {\n",
       "        text-align: right;\n",
       "    }\n",
       "</style>\n",
       "<table border=\"1\" class=\"dataframe\">\n",
       "  <thead>\n",
       "    <tr style=\"text-align: right;\">\n",
       "      <th></th>\n",
       "      <th>funcMatricula</th>\n",
       "      <th>funcNome</th>\n",
       "      <th>funcSexo</th>\n",
       "      <th>funcDataNasc</th>\n",
       "      <th>funcCidade</th>\n",
       "      <th>funcEstado</th>\n",
       "      <th>funcPais</th>\n",
       "    </tr>\n",
       "  </thead>\n",
       "  <tbody>\n",
       "    <tr>\n",
       "      <th>0</th>\n",
       "      <td>1</td>\n",
       "      <td>ALINE ALMEIDA</td>\n",
       "      <td>F</td>\n",
       "      <td>1/1/1990</td>\n",
       "      <td>sao paulo</td>\n",
       "      <td>sp</td>\n",
       "      <td>brasil</td>\n",
       "    </tr>\n",
       "    <tr>\n",
       "      <th>1</th>\n",
       "      <td>2</td>\n",
       "      <td>NaN</td>\n",
       "      <td>M</td>\n",
       "      <td>2/2/1990</td>\n",
       "      <td>campinas</td>\n",
       "      <td>sp</td>\n",
       "      <td>brasil</td>\n",
       "    </tr>\n",
       "    <tr>\n",
       "      <th>2</th>\n",
       "      <td>3</td>\n",
       "      <td>ARON ANDRADE</td>\n",
       "      <td>M</td>\n",
       "      <td>3/3/1990</td>\n",
       "      <td>santos</td>\n",
       "      <td>sp</td>\n",
       "      <td>brasil</td>\n",
       "    </tr>\n",
       "    <tr>\n",
       "      <th>3</th>\n",
       "      <td>4</td>\n",
       "      <td>ADA BARBOSA</td>\n",
       "      <td>NaN</td>\n",
       "      <td>4/4/1990</td>\n",
       "      <td>santo andre</td>\n",
       "      <td>sp</td>\n",
       "      <td>brasil</td>\n",
       "    </tr>\n",
       "    <tr>\n",
       "      <th>4</th>\n",
       "      <td>5</td>\n",
       "      <td>ABADE BATISTA</td>\n",
       "      <td>M</td>\n",
       "      <td>5/5/1990</td>\n",
       "      <td>piracicaba</td>\n",
       "      <td>sp</td>\n",
       "      <td>brasil</td>\n",
       "    </tr>\n",
       "  </tbody>\n",
       "</table>\n",
       "</div>"
      ],
      "text/plain": [
       "   funcMatricula       funcNome funcSexo funcDataNasc   funcCidade funcEstado  \\\n",
       "0              1  ALINE ALMEIDA        F     1/1/1990    sao paulo         sp   \n",
       "1              2            NaN        M     2/2/1990     campinas         sp   \n",
       "2              3   ARON ANDRADE        M     3/3/1990       santos         sp   \n",
       "3              4    ADA BARBOSA      NaN     4/4/1990  santo andre         sp   \n",
       "4              5  ABADE BATISTA        M     5/5/1990   piracicaba         sp   \n",
       "\n",
       "  funcPais  \n",
       "0   brasil  \n",
       "1   brasil  \n",
       "2   brasil  \n",
       "3   brasil  \n",
       "4   brasil  "
      ]
     },
     "execution_count": 3,
     "metadata": {},
     "output_type": "execute_result"
    }
   ],
   "source": [
    "print('Quantidade de funcionários importados da Fonte 1 (funcionarioRelacional.csv): ', funcionarioRelacional.shape[0])\n",
    "funcionarioRelacional.head()"
   ]
  },
  {
   "cell_type": "markdown",
   "metadata": {
    "id": "6IaQ4oVcaZpA"
   },
   "source": [
    "O comando a seguir realiza a importação dos dados dos funcionários armazenados em *colaboradorJSON.json* e armazena o resultado no `Dataframe` chamado colaboradorJSON."
   ]
  },
  {
   "cell_type": "code",
   "execution_count": 4,
   "metadata": {
    "id": "K46xIf5w9y3Y"
   },
   "outputs": [],
   "source": [
    "colaboradorJSON = pd.read_json('https://raw.githubusercontent.com/GuiMuzziUSP/ETL_Funcionarios/main/colaboradorJSON.json')"
   ]
  },
  {
   "cell_type": "markdown",
   "metadata": {
    "id": "KSmK9McHlCBg"
   },
   "source": [
    "Os comandos a seguir exibem a quantidade de funcionários importados e os primeiros elementos de colaboradorJSON."
   ]
  },
  {
   "cell_type": "code",
   "execution_count": 5,
   "metadata": {
    "colab": {
     "base_uri": "https://localhost:8080/",
     "height": 221
    },
    "executionInfo": {
     "elapsed": 63,
     "status": "ok",
     "timestamp": 1634226297571,
     "user": {
      "displayName": "Cristina Aguiar",
      "photoUrl": "https://lh3.googleusercontent.com/a-/AOh14Ghm5-HutuB5OUCrYhu0nhLTQcZZyzBZhLySrDpjFQ=s64",
      "userId": "02805498492766545440"
     },
     "user_tz": 180
    },
    "id": "5wfCT3WGTJJz",
    "outputId": "f280499c-fb89-4113-fc87-5bd153837230"
   },
   "outputs": [
    {
     "name": "stdout",
     "output_type": "stream",
     "text": [
      "Quantidade de funcionários importados da Fonte 2 (colaboradorJSON.json):  31\n"
     ]
    },
    {
     "data": {
      "text/html": [
       "<div>\n",
       "<style scoped>\n",
       "    .dataframe tbody tr th:only-of-type {\n",
       "        vertical-align: middle;\n",
       "    }\n",
       "\n",
       "    .dataframe tbody tr th {\n",
       "        vertical-align: top;\n",
       "    }\n",
       "\n",
       "    .dataframe thead th {\n",
       "        text-align: right;\n",
       "    }\n",
       "</style>\n",
       "<table border=\"1\" class=\"dataframe\">\n",
       "  <thead>\n",
       "    <tr style=\"text-align: right;\">\n",
       "      <th></th>\n",
       "      <th>colab_matricula</th>\n",
       "      <th>colab_nome</th>\n",
       "      <th>colab_sexo</th>\n",
       "      <th>colab_data_nasc</th>\n",
       "      <th>colab_cidade</th>\n",
       "      <th>colab_estado</th>\n",
       "      <th>colab_pais</th>\n",
       "    </tr>\n",
       "  </thead>\n",
       "  <tbody>\n",
       "    <tr>\n",
       "      <th>0</th>\n",
       "      <td>2</td>\n",
       "      <td>Arao Alves</td>\n",
       "      <td>NaN</td>\n",
       "      <td>None</td>\n",
       "      <td>None</td>\n",
       "      <td>None</td>\n",
       "      <td>None</td>\n",
       "    </tr>\n",
       "    <tr>\n",
       "      <th>1</th>\n",
       "      <td>4</td>\n",
       "      <td>None</td>\n",
       "      <td>1.0</td>\n",
       "      <td>None</td>\n",
       "      <td>None</td>\n",
       "      <td>None</td>\n",
       "      <td>None</td>\n",
       "    </tr>\n",
       "    <tr>\n",
       "      <th>2</th>\n",
       "      <td>8</td>\n",
       "      <td>None</td>\n",
       "      <td>NaN</td>\n",
       "      <td>1990-08-08</td>\n",
       "      <td>None</td>\n",
       "      <td>None</td>\n",
       "      <td>None</td>\n",
       "    </tr>\n",
       "    <tr>\n",
       "      <th>3</th>\n",
       "      <td>13</td>\n",
       "      <td>Arao Alves</td>\n",
       "      <td>0.0</td>\n",
       "      <td>None</td>\n",
       "      <td>None</td>\n",
       "      <td>RJ</td>\n",
       "      <td>BRA</td>\n",
       "    </tr>\n",
       "    <tr>\n",
       "      <th>4</th>\n",
       "      <td>52</td>\n",
       "      <td>Adailton Costa</td>\n",
       "      <td>0.0</td>\n",
       "      <td>1951-04-21</td>\n",
       "      <td>Recife</td>\n",
       "      <td>PE</td>\n",
       "      <td>BRA</td>\n",
       "    </tr>\n",
       "  </tbody>\n",
       "</table>\n",
       "</div>"
      ],
      "text/plain": [
       "   colab_matricula      colab_nome  colab_sexo colab_data_nasc colab_cidade  \\\n",
       "0                2      Arao Alves         NaN            None         None   \n",
       "1                4            None         1.0            None         None   \n",
       "2                8            None         NaN      1990-08-08         None   \n",
       "3               13      Arao Alves         0.0            None         None   \n",
       "4               52  Adailton Costa         0.0      1951-04-21       Recife   \n",
       "\n",
       "  colab_estado colab_pais  \n",
       "0         None       None  \n",
       "1         None       None  \n",
       "2         None       None  \n",
       "3           RJ        BRA  \n",
       "4           PE        BRA  "
      ]
     },
     "execution_count": 5,
     "metadata": {},
     "output_type": "execute_result"
    }
   ],
   "source": [
    "print('Quantidade de funcionários importados da Fonte 2 (colaboradorJSON.json): ', colaboradorJSON.shape[0])\n",
    "colaboradorJSON.head()"
   ]
  },
  {
   "cell_type": "markdown",
   "metadata": {
    "id": "rpXLSiYMbbZE"
   },
   "source": [
    "**EXERCÍCIO 1**. Realize a importação dos dados dos funcionários armazenados em empregadoPlanilha.xlsx. Considere que essa fonte está localizada na URL https://github.com/GuiMuzziUSP/ETL_Funcionarios/blob/main/empregadoPlanilha.xlsx?raw=true"
   ]
  },
  {
   "cell_type": "code",
   "execution_count": 6,
   "metadata": {
    "id": "rbFSOUhwRt21"
   },
   "outputs": [],
   "source": [
    "empregadoPlanilha = pd.read_excel('https://github.com/GuiMuzziUSP/ETL_Funcionarios/blob/main/empregadoPlanilha.xlsx?raw=true')# insira seu código de importação"
   ]
  },
  {
   "cell_type": "code",
   "execution_count": 7,
   "metadata": {
    "id": "f-XAjAwsR3XM"
   },
   "outputs": [
    {
     "name": "stdout",
     "output_type": "stream",
     "text": [
      "Quantidade de funcionários importados da Fonte 3 (empregadoPlanilha.xlsx):  29\n"
     ]
    }
   ],
   "source": [
    "# imprima a quantidade de instâncias em 'empregadoPlanilha'\n",
    "print('Quantidade de funcionários importados da Fonte 3 (empregadoPlanilha.xlsx): ', empregadoPlanilha.shape[0])"
   ]
  },
  {
   "cell_type": "code",
   "execution_count": 8,
   "metadata": {
    "id": "MiL6XvFXSDGM"
   },
   "outputs": [
    {
     "data": {
      "text/html": [
       "<div>\n",
       "<style scoped>\n",
       "    .dataframe tbody tr th:only-of-type {\n",
       "        vertical-align: middle;\n",
       "    }\n",
       "\n",
       "    .dataframe tbody tr th {\n",
       "        vertical-align: top;\n",
       "    }\n",
       "\n",
       "    .dataframe thead th {\n",
       "        text-align: right;\n",
       "    }\n",
       "</style>\n",
       "<table border=\"1\" class=\"dataframe\">\n",
       "  <thead>\n",
       "    <tr style=\"text-align: right;\">\n",
       "      <th></th>\n",
       "      <th>Matrícula do Empregado</th>\n",
       "      <th>Nome do Empregado</th>\n",
       "      <th>Sexo do Empregado</th>\n",
       "      <th>Data de Nascimento</th>\n",
       "      <th>Cidade de Residência</th>\n",
       "      <th>Estado de Residência</th>\n",
       "    </tr>\n",
       "  </thead>\n",
       "  <tbody>\n",
       "    <tr>\n",
       "      <th>0</th>\n",
       "      <td>13</td>\n",
       "      <td>Dias, Abdiel</td>\n",
       "      <td>NaN</td>\n",
       "      <td>13/01/1990</td>\n",
       "      <td>Rio De Janeiro</td>\n",
       "      <td>Rio de Janeiro</td>\n",
       "    </tr>\n",
       "    <tr>\n",
       "      <th>1</th>\n",
       "      <td>16</td>\n",
       "      <td>NaN</td>\n",
       "      <td>NaN</td>\n",
       "      <td>NaN</td>\n",
       "      <td>Praia Seca</td>\n",
       "      <td>Rio de Janeiro</td>\n",
       "    </tr>\n",
       "    <tr>\n",
       "      <th>2</th>\n",
       "      <td>32</td>\n",
       "      <td>Costa, Abdiel</td>\n",
       "      <td>NaN</td>\n",
       "      <td>NaN</td>\n",
       "      <td>Piracicaba</td>\n",
       "      <td>Sao Paulo</td>\n",
       "    </tr>\n",
       "    <tr>\n",
       "      <th>3</th>\n",
       "      <td>66</td>\n",
       "      <td>NaN</td>\n",
       "      <td>NaN</td>\n",
       "      <td>05/06/1965</td>\n",
       "      <td>NaN</td>\n",
       "      <td>Sao Paulo</td>\n",
       "    </tr>\n",
       "    <tr>\n",
       "      <th>4</th>\n",
       "      <td>67</td>\n",
       "      <td>Borges, Adelma</td>\n",
       "      <td>NaN</td>\n",
       "      <td>NaN</td>\n",
       "      <td>Rio De Janeiro</td>\n",
       "      <td>Rio de Janeiro</td>\n",
       "    </tr>\n",
       "    <tr>\n",
       "      <th>5</th>\n",
       "      <td>77</td>\n",
       "      <td>Ferreira, Abener</td>\n",
       "      <td>Masculino</td>\n",
       "      <td>16/5/1976</td>\n",
       "      <td>Guaratuba</td>\n",
       "      <td>Parana</td>\n",
       "    </tr>\n",
       "    <tr>\n",
       "      <th>6</th>\n",
       "      <td>78</td>\n",
       "      <td>Garcia, Adenir</td>\n",
       "      <td>Masculino</td>\n",
       "      <td>17/6/1977</td>\n",
       "      <td>Morretes</td>\n",
       "      <td>Parana</td>\n",
       "    </tr>\n",
       "    <tr>\n",
       "      <th>7</th>\n",
       "      <td>79</td>\n",
       "      <td>Gomes, Adenil</td>\n",
       "      <td>Masculino</td>\n",
       "      <td>18/7/1978</td>\n",
       "      <td>Recife</td>\n",
       "      <td>Pernambuco</td>\n",
       "    </tr>\n",
       "    <tr>\n",
       "      <th>8</th>\n",
       "      <td>80</td>\n",
       "      <td>Lima, Abener</td>\n",
       "      <td>Masculino</td>\n",
       "      <td>19/8/1979</td>\n",
       "      <td>Recife</td>\n",
       "      <td>Pernambuco</td>\n",
       "    </tr>\n",
       "    <tr>\n",
       "      <th>9</th>\n",
       "      <td>81</td>\n",
       "      <td>Almeida, Adenevaldo</td>\n",
       "      <td>Masculino</td>\n",
       "      <td>20/9/1980</td>\n",
       "      <td>Recife</td>\n",
       "      <td>Pernambuco</td>\n",
       "    </tr>\n",
       "  </tbody>\n",
       "</table>\n",
       "</div>"
      ],
      "text/plain": [
       "   Matrícula do Empregado    Nome do Empregado Sexo do Empregado  \\\n",
       "0                      13         Dias, Abdiel               NaN   \n",
       "1                      16                  NaN               NaN   \n",
       "2                      32        Costa, Abdiel               NaN   \n",
       "3                      66                  NaN               NaN   \n",
       "4                      67       Borges, Adelma               NaN   \n",
       "5                      77     Ferreira, Abener         Masculino   \n",
       "6                      78       Garcia, Adenir         Masculino   \n",
       "7                      79        Gomes, Adenil         Masculino   \n",
       "8                      80         Lima, Abener         Masculino   \n",
       "9                      81  Almeida, Adenevaldo         Masculino   \n",
       "\n",
       "  Data de Nascimento Cidade de Residência Estado de Residência  \n",
       "0         13/01/1990       Rio De Janeiro       Rio de Janeiro  \n",
       "1                NaN           Praia Seca       Rio de Janeiro  \n",
       "2                NaN           Piracicaba            Sao Paulo  \n",
       "3         05/06/1965                  NaN            Sao Paulo  \n",
       "4                NaN       Rio De Janeiro       Rio de Janeiro  \n",
       "5          16/5/1976            Guaratuba               Parana  \n",
       "6          17/6/1977             Morretes               Parana  \n",
       "7          18/7/1978               Recife           Pernambuco  \n",
       "8          19/8/1979               Recife           Pernambuco  \n",
       "9          20/9/1980               Recife           Pernambuco  "
      ]
     },
     "execution_count": 8,
     "metadata": {},
     "output_type": "execute_result"
    }
   ],
   "source": [
    "# imprima as 10 primeiras instâncias de 'empregadoPlanilha'\n",
    "# display(empregadoPlanilha.head(10))\n",
    "empregadoPlanilha.head(10)"
   ]
  },
  {
   "cell_type": "markdown",
   "metadata": {
    "id": "PiFRmyrGs1Ty"
   },
   "source": [
    "## 4 Integração de Esquemas\n",
    "\n",
    "Analisando-se as três fontes de dados, verifica-se que existem vários conflitos de nome e um conflito semântico. Todos esses conflitos devem ser tratados na integração de esquemas, conforme descrito a seguir."
   ]
  },
  {
   "cell_type": "markdown",
   "metadata": {
    "id": "MhF7y8YldIfx"
   },
   "source": [
    "### 4.1 Conflitos de nome (sinônimo)\n",
    "\n",
    "Um conflito de nome (sinônimo) ocorre quando diferentes nomes são aplicados ao mesmo elemento. funcionarioRelacional, colaboradorJSON e empregadoPlanilha armazenam dados de funcionários. Existem vários conflitos de nome quando  os nomes dos atributos do esquema de relação *funcionario* são comparados com os nomes das colunas oriundas das respectivas fontes de dados. \n",
    "\n",
    "A partir da identificação dos conflitos, são definidas as correspondências existentes entre as fontes de dados e o esquema de relação do *data mart*. Essas correspondências são as mesmas que as identificadas no documento textual que acompanha esta aula. Elas são repetidas aqui por completude.\n",
    "\n",
    "As correspondências entre os esquemas de *funcionario* e funcionarioRelacional são:\n",
    "\n",
    "1. *funcionario* $\\equiv$ funcionarioRelacional\n",
    "\n",
    "> (a) funcMatricula = funcMatricula\n",
    "\n",
    "> (b) funcNome = funcNome\n",
    "\n",
    "> (c) funcSexo = funcSexo\n",
    "\n",
    "> (d) funcDataNascimento = funcDataNasc\n",
    "\n",
    "> (e) funcCidade = funcCidade\n",
    "\n",
    "> (f) funcEstadoSigla = funcEstado\n",
    "\n",
    "> (g) funcPaisNome = funcPais\n",
    "\n",
    "De acordo com essas correspondências, o comando a seguir mapeia os nomes das colunas de funcionarioRelacional para os nomes dos atributos de *funcionario*. \n"
   ]
  },
  {
   "cell_type": "code",
   "execution_count": 9,
   "metadata": {
    "id": "txjl57BJRkRi"
   },
   "outputs": [],
   "source": [
    "funcionarioRelacional.columns = ['funcMatricula','funcNome','funcSexo','funcDataNascimento','funcCidade','funcEstadoSigla','funcPaisNome']"
   ]
  },
  {
   "cell_type": "markdown",
   "metadata": {
    "id": "pf-4CxPb7iWh"
   },
   "source": [
    "O comando a seguir exibe a nova estrutura e o primeiro elemento de funcionarioRelacional."
   ]
  },
  {
   "cell_type": "code",
   "execution_count": 10,
   "metadata": {
    "id": "d-TGChoh7Xpr"
   },
   "outputs": [
    {
     "data": {
      "text/html": [
       "<div>\n",
       "<style scoped>\n",
       "    .dataframe tbody tr th:only-of-type {\n",
       "        vertical-align: middle;\n",
       "    }\n",
       "\n",
       "    .dataframe tbody tr th {\n",
       "        vertical-align: top;\n",
       "    }\n",
       "\n",
       "    .dataframe thead th {\n",
       "        text-align: right;\n",
       "    }\n",
       "</style>\n",
       "<table border=\"1\" class=\"dataframe\">\n",
       "  <thead>\n",
       "    <tr style=\"text-align: right;\">\n",
       "      <th></th>\n",
       "      <th>funcMatricula</th>\n",
       "      <th>funcNome</th>\n",
       "      <th>funcSexo</th>\n",
       "      <th>funcDataNascimento</th>\n",
       "      <th>funcCidade</th>\n",
       "      <th>funcEstadoSigla</th>\n",
       "      <th>funcPaisNome</th>\n",
       "    </tr>\n",
       "  </thead>\n",
       "  <tbody>\n",
       "    <tr>\n",
       "      <th>0</th>\n",
       "      <td>1</td>\n",
       "      <td>ALINE ALMEIDA</td>\n",
       "      <td>F</td>\n",
       "      <td>1/1/1990</td>\n",
       "      <td>sao paulo</td>\n",
       "      <td>sp</td>\n",
       "      <td>brasil</td>\n",
       "    </tr>\n",
       "  </tbody>\n",
       "</table>\n",
       "</div>"
      ],
      "text/plain": [
       "   funcMatricula       funcNome funcSexo funcDataNascimento funcCidade  \\\n",
       "0              1  ALINE ALMEIDA        F           1/1/1990  sao paulo   \n",
       "\n",
       "  funcEstadoSigla funcPaisNome  \n",
       "0              sp       brasil  "
      ]
     },
     "execution_count": 10,
     "metadata": {},
     "output_type": "execute_result"
    }
   ],
   "source": [
    "funcionarioRelacional.head(1)"
   ]
  },
  {
   "cell_type": "markdown",
   "metadata": {
    "id": "rur8Wex_ychB"
   },
   "source": [
    "As correspondências entre os esquemas de funcionario e colaboradorJSON são:\n",
    "\n",
    "2. *funcionario* $\\equiv$ colaboradorJSON\n",
    "\n",
    "> (a) funcMatricula = colab_matricula\n",
    "\n",
    "> (b) funcNome = colab_nome\n",
    "\n",
    "> (c) funcSexo = colab_sexo\n",
    "\n",
    "> (d) funcDataNascimento = colab_data_nasc\n",
    "\n",
    "> (e) funcCidade = colab_cidade\n",
    "\n",
    "> (f) funcEstadoSigla = colab_estado\n",
    "\n",
    "> (g) funcPaisSigla = colab_pais\n",
    "\n",
    "De acordo com essas correspondências, o comando a seguir mapeia os nomes das colunas de colaboradorJSON para os nomes dos atributos de *funcionario*.\n",
    "\n"
   ]
  },
  {
   "cell_type": "code",
   "execution_count": 11,
   "metadata": {
    "id": "4pYadEh_TmiE"
   },
   "outputs": [],
   "source": [
    "colaboradorJSON.columns = ['funcMatricula','funcNome','funcSexo','funcDataNascimento','funcCidade','funcEstadoSigla','funcPaisSigla']"
   ]
  },
  {
   "cell_type": "markdown",
   "metadata": {
    "id": "BNn5GSr28Ht3"
   },
   "source": [
    "O comando a seguir exibe a nova estrutura e o primeiro elemento de colaboradorJSON."
   ]
  },
  {
   "cell_type": "code",
   "execution_count": 12,
   "metadata": {
    "id": "OQi5G5rZ8HIW"
   },
   "outputs": [
    {
     "data": {
      "text/html": [
       "<div>\n",
       "<style scoped>\n",
       "    .dataframe tbody tr th:only-of-type {\n",
       "        vertical-align: middle;\n",
       "    }\n",
       "\n",
       "    .dataframe tbody tr th {\n",
       "        vertical-align: top;\n",
       "    }\n",
       "\n",
       "    .dataframe thead th {\n",
       "        text-align: right;\n",
       "    }\n",
       "</style>\n",
       "<table border=\"1\" class=\"dataframe\">\n",
       "  <thead>\n",
       "    <tr style=\"text-align: right;\">\n",
       "      <th></th>\n",
       "      <th>funcMatricula</th>\n",
       "      <th>funcNome</th>\n",
       "      <th>funcSexo</th>\n",
       "      <th>funcDataNascimento</th>\n",
       "      <th>funcCidade</th>\n",
       "      <th>funcEstadoSigla</th>\n",
       "      <th>funcPaisSigla</th>\n",
       "    </tr>\n",
       "  </thead>\n",
       "  <tbody>\n",
       "    <tr>\n",
       "      <th>0</th>\n",
       "      <td>2</td>\n",
       "      <td>Arao Alves</td>\n",
       "      <td>NaN</td>\n",
       "      <td>None</td>\n",
       "      <td>None</td>\n",
       "      <td>None</td>\n",
       "      <td>None</td>\n",
       "    </tr>\n",
       "  </tbody>\n",
       "</table>\n",
       "</div>"
      ],
      "text/plain": [
       "   funcMatricula    funcNome  funcSexo funcDataNascimento funcCidade  \\\n",
       "0              2  Arao Alves       NaN               None       None   \n",
       "\n",
       "  funcEstadoSigla funcPaisSigla  \n",
       "0            None          None  "
      ]
     },
     "execution_count": 12,
     "metadata": {},
     "output_type": "execute_result"
    }
   ],
   "source": [
    "colaboradorJSON.head(1)"
   ]
  },
  {
   "cell_type": "markdown",
   "metadata": {
    "id": "Lj26TiTMb-ht"
   },
   "source": [
    "**EXERCÍCIO 2**. Considere as correspondências entre os esquemas de funcionario e empregadoPlanilha definidas a seguir:\n",
    "\n",
    "3. *funcionario* $\\equiv$ empregadoPlanilha\n",
    "\n",
    "> (a) funcMatricula = Matrícula do Empregado\n",
    "\n",
    "> (b) funcNome = Nome do Empregado\n",
    "\n",
    "> (c) funcSexo = Sexo do Empregado\n",
    "\n",
    "> (d) funcDataNascimento = Data de Nascimento\n",
    "\n",
    "> (e) funcCidade = Cidade de Residência\n",
    "\n",
    "> (f) funcEstadoNome = Estado de Residência\n",
    "\n",
    "De acordo com essas regras correspondências, \n",
    "\n"
   ]
  },
  {
   "cell_type": "markdown",
   "metadata": {
    "id": "2jp6V6-vSjLD"
   },
   "source": [
    "**EXERCÍCIO 2a.** Realize o mapeamento dos nomes das colunas de empregadoPlanilha para os nomes dos atributos de *funcionario*."
   ]
  },
  {
   "cell_type": "code",
   "execution_count": 13,
   "metadata": {
    "id": "FfiNz7gASskJ"
   },
   "outputs": [],
   "source": [
    "# realize o mapeamento em 'empregadoPlanilha', de acordo com as instrucoes acima\n",
    "empregadoPlanilha.columns = ['funcMatricula','funcNome','funcSexo','funcDataNascimento','funcCidade','funcEstadoNome']"
   ]
  },
  {
   "cell_type": "markdown",
   "metadata": {
    "id": "W6w_d3xhSo0T"
   },
   "source": [
    "**EXERCÍCIO 2b.** Exiba a nova estrutura e o primeiro elemento de empregadoPlanilha."
   ]
  },
  {
   "cell_type": "code",
   "execution_count": 14,
   "metadata": {
    "id": "c-KAcY3WSs7z"
   },
   "outputs": [
    {
     "data": {
      "text/html": [
       "<div>\n",
       "<style scoped>\n",
       "    .dataframe tbody tr th:only-of-type {\n",
       "        vertical-align: middle;\n",
       "    }\n",
       "\n",
       "    .dataframe tbody tr th {\n",
       "        vertical-align: top;\n",
       "    }\n",
       "\n",
       "    .dataframe thead th {\n",
       "        text-align: right;\n",
       "    }\n",
       "</style>\n",
       "<table border=\"1\" class=\"dataframe\">\n",
       "  <thead>\n",
       "    <tr style=\"text-align: right;\">\n",
       "      <th></th>\n",
       "      <th>funcMatricula</th>\n",
       "      <th>funcNome</th>\n",
       "      <th>funcSexo</th>\n",
       "      <th>funcDataNascimento</th>\n",
       "      <th>funcCidade</th>\n",
       "      <th>funcEstadoNome</th>\n",
       "    </tr>\n",
       "  </thead>\n",
       "  <tbody>\n",
       "    <tr>\n",
       "      <th>0</th>\n",
       "      <td>13</td>\n",
       "      <td>Dias, Abdiel</td>\n",
       "      <td>NaN</td>\n",
       "      <td>13/01/1990</td>\n",
       "      <td>Rio De Janeiro</td>\n",
       "      <td>Rio de Janeiro</td>\n",
       "    </tr>\n",
       "  </tbody>\n",
       "</table>\n",
       "</div>"
      ],
      "text/plain": [
       "   funcMatricula      funcNome funcSexo funcDataNascimento      funcCidade  \\\n",
       "0             13  Dias, Abdiel      NaN         13/01/1990  Rio De Janeiro   \n",
       "\n",
       "   funcEstadoNome  \n",
       "0  Rio de Janeiro  "
      ]
     },
     "execution_count": 14,
     "metadata": {},
     "output_type": "execute_result"
    }
   ],
   "source": [
    "# imprima a primeira instância de 'empregadoPlanilha'\n",
    "empregadoPlanilha.head(1)"
   ]
  },
  {
   "cell_type": "markdown",
   "metadata": {
    "id": "9KDO53IKKoj7"
   },
   "source": [
    "### 4.2 Conflito semântico\n",
    "\n",
    "Um conflito semântico ocorre quando o mesmo elemento é modelado em diferentes esquemas, porém representando conjuntos que se sobrepõem. Como definido anteriormente, funcionarioRelacional armazena os funcionários da área de Engenharia, enquanto que colaboradorJSON armazena os funcionários da área de *Marketing*. É importante notar que: (i) existem funcionários que são diferentes entre si; (ii) o mesmo funcionário pode estar armazenado em mais do que uma fonte de dados, desde que ele mudou de área de atuação durante a sua trajetória.\n",
    "\n",
    "Assim, devem ser identificados os funcionários que correspondem à mesma entidade do mundo real. Nesta aplicação de *data warehousing*, isso é feito por meio das **matrículas** dos funcionários, ou seja, considera-se a identificação unívoca das entidades. Considera-se também que os valores referentes à matricula dos funcionários já foram analisados na operação de limpeza dos dados e representam valores acurados. Portanto, `funcMatricula` pode ser usado para identificar os funcionários."
   ]
  },
  {
   "cell_type": "markdown",
   "metadata": {
    "id": "6dFRbpi413c4"
   },
   "source": [
    "O comando a seguir mostra a quantidade de funcionários que aparecem em ambos funcionarioRelacional e colaboradorJSON, bem como detalhes desses funcionários. Isso significa que o funcionário transitou entre as áreas de Engenharia e *Marketing*. O sufixo `_x` indica colunas de funcionarioRelacional, enquanto que o sufixo `_y` indica colunas de colaboradorJSON. Como resultado, o `DataFrame` funcionario_colaborador possui os funcionários presentes em ambas fontes de dados. Os conflitos têm que ser resolvidos, o que será realizado durante a integração de instâncias."
   ]
  },
  {
   "cell_type": "code",
   "execution_count": 15,
   "metadata": {
    "id": "iVRMrJ5Famjw"
   },
   "outputs": [
    {
     "name": "stdout",
     "output_type": "stream",
     "text": [
      "Quantidade de mesmos funcionários cadastrados nas fontes 1 e 2:  7\n"
     ]
    },
    {
     "data": {
      "text/html": [
       "<div>\n",
       "<style scoped>\n",
       "    .dataframe tbody tr th:only-of-type {\n",
       "        vertical-align: middle;\n",
       "    }\n",
       "\n",
       "    .dataframe tbody tr th {\n",
       "        vertical-align: top;\n",
       "    }\n",
       "\n",
       "    .dataframe thead th {\n",
       "        text-align: right;\n",
       "    }\n",
       "</style>\n",
       "<table border=\"1\" class=\"dataframe\">\n",
       "  <thead>\n",
       "    <tr style=\"text-align: right;\">\n",
       "      <th></th>\n",
       "      <th>funcMatricula</th>\n",
       "      <th>funcNome_x</th>\n",
       "      <th>funcNome_y</th>\n",
       "      <th>funcCidade_x</th>\n",
       "      <th>funcCidade_y</th>\n",
       "      <th>funcPaisNome_x</th>\n",
       "      <th>funcPaisSigla_y</th>\n",
       "    </tr>\n",
       "  </thead>\n",
       "  <tbody>\n",
       "    <tr>\n",
       "      <th>0</th>\n",
       "      <td>2</td>\n",
       "      <td>NaN</td>\n",
       "      <td>Arao Alves</td>\n",
       "      <td>campinas</td>\n",
       "      <td>None</td>\n",
       "      <td>brasil</td>\n",
       "      <td>None</td>\n",
       "    </tr>\n",
       "    <tr>\n",
       "      <th>1</th>\n",
       "      <td>4</td>\n",
       "      <td>ADA BARBOSA</td>\n",
       "      <td>None</td>\n",
       "      <td>santo andre</td>\n",
       "      <td>None</td>\n",
       "      <td>brasil</td>\n",
       "      <td>None</td>\n",
       "    </tr>\n",
       "    <tr>\n",
       "      <th>2</th>\n",
       "      <td>8</td>\n",
       "      <td>ABADIAS CAMPOS</td>\n",
       "      <td>None</td>\n",
       "      <td>ilha bela</td>\n",
       "      <td>None</td>\n",
       "      <td>brasil</td>\n",
       "      <td>None</td>\n",
       "    </tr>\n",
       "    <tr>\n",
       "      <th>3</th>\n",
       "      <td>13</td>\n",
       "      <td>ABDIEL DIAS</td>\n",
       "      <td>Arao Alves</td>\n",
       "      <td>rio de janeiro</td>\n",
       "      <td>None</td>\n",
       "      <td>brasil</td>\n",
       "      <td>BRA</td>\n",
       "    </tr>\n",
       "    <tr>\n",
       "      <th>4</th>\n",
       "      <td>64</td>\n",
       "      <td>ABILIO BARBOSA</td>\n",
       "      <td>None</td>\n",
       "      <td>NaN</td>\n",
       "      <td>Osasco</td>\n",
       "      <td>NaN</td>\n",
       "      <td>BRA</td>\n",
       "    </tr>\n",
       "    <tr>\n",
       "      <th>5</th>\n",
       "      <td>67</td>\n",
       "      <td>ADELMA BORGES</td>\n",
       "      <td>None</td>\n",
       "      <td>NaN</td>\n",
       "      <td>None</td>\n",
       "      <td>brasil</td>\n",
       "      <td>None</td>\n",
       "    </tr>\n",
       "    <tr>\n",
       "      <th>6</th>\n",
       "      <td>83</td>\n",
       "      <td>ADENIAS ANDRADE</td>\n",
       "      <td>Adenias Andrade</td>\n",
       "      <td>campinas</td>\n",
       "      <td>None</td>\n",
       "      <td>NaN</td>\n",
       "      <td>BRA</td>\n",
       "    </tr>\n",
       "  </tbody>\n",
       "</table>\n",
       "</div>"
      ],
      "text/plain": [
       "   funcMatricula       funcNome_x       funcNome_y    funcCidade_x  \\\n",
       "0              2              NaN       Arao Alves        campinas   \n",
       "1              4      ADA BARBOSA             None     santo andre   \n",
       "2              8   ABADIAS CAMPOS             None       ilha bela   \n",
       "3             13      ABDIEL DIAS       Arao Alves  rio de janeiro   \n",
       "4             64   ABILIO BARBOSA             None             NaN   \n",
       "5             67    ADELMA BORGES             None             NaN   \n",
       "6             83  ADENIAS ANDRADE  Adenias Andrade        campinas   \n",
       "\n",
       "  funcCidade_y funcPaisNome_x funcPaisSigla_y  \n",
       "0         None         brasil            None  \n",
       "1         None         brasil            None  \n",
       "2         None         brasil            None  \n",
       "3         None         brasil             BRA  \n",
       "4       Osasco            NaN             BRA  \n",
       "5         None         brasil            None  \n",
       "6         None            NaN             BRA  "
      ]
     },
     "metadata": {},
     "output_type": "display_data"
    }
   ],
   "source": [
    "funcionario_colaborador = funcionarioRelacional.merge(colaboradorJSON, on = 'funcMatricula')\n",
    "print('Quantidade de mesmos funcionários cadastrados nas fontes 1 e 2: ', funcionario_colaborador.shape[0])\n",
    "\n",
    "# renomeando algumas colunas sem sufixo\n",
    "funcionario_colaborador = funcionario_colaborador.rename(columns = {'funcPaisSigla': 'funcPaisSigla_y', 'funcPaisNome': 'funcPaisNome_x'}, inplace = False)\n",
    "\n",
    "# apresente o resultado do conflito\n",
    "colunas_display = ['funcMatricula', 'funcNome_x', 'funcNome_y', 'funcCidade_x', 'funcCidade_y', 'funcPaisNome_x', 'funcPaisSigla_y']\n",
    "display(funcionario_colaborador[colunas_display])"
   ]
  },
  {
   "cell_type": "markdown",
   "metadata": {
    "id": "3mMUaIPWc1Lh"
   },
   "source": [
    "**EXERCÍCIO 3.** Especifique comandos similares aos comandos definidos acima para funcionario_colaborador, considerando as seguintes aspectos:"
   ]
  },
  {
   "cell_type": "markdown",
   "metadata": {
    "id": "biJYSSiVTP-6"
   },
   "source": [
    "**EXERCÍCIO 3a.** Gere o DataFrame funcionario_empregado, o qual contém os funcionários que aparecem em ambos funcionarioRelacional e empregadoPlanilha. Nesse exercício você utilizará as fontes `funcionarioRelacional` e `empregadoPlanilha`."
   ]
  },
  {
   "cell_type": "code",
   "execution_count": 16,
   "metadata": {
    "id": "t27Q-mFkTh_8"
   },
   "outputs": [
    {
     "name": "stdout",
     "output_type": "stream",
     "text": [
      "Quantidade de mesmos funcionários cadastrados nas fontes 1 e 3:  7\n"
     ]
    },
    {
     "data": {
      "text/html": [
       "<div>\n",
       "<style scoped>\n",
       "    .dataframe tbody tr th:only-of-type {\n",
       "        vertical-align: middle;\n",
       "    }\n",
       "\n",
       "    .dataframe tbody tr th {\n",
       "        vertical-align: top;\n",
       "    }\n",
       "\n",
       "    .dataframe thead th {\n",
       "        text-align: right;\n",
       "    }\n",
       "</style>\n",
       "<table border=\"1\" class=\"dataframe\">\n",
       "  <thead>\n",
       "    <tr style=\"text-align: right;\">\n",
       "      <th></th>\n",
       "      <th>funcMatricula</th>\n",
       "      <th>funcNome_x</th>\n",
       "      <th>funcSexo_x</th>\n",
       "      <th>funcDataNascimento_x</th>\n",
       "      <th>funcCidade_x</th>\n",
       "      <th>funcEstadoSigla</th>\n",
       "      <th>funcPaisNome</th>\n",
       "      <th>funcNome_y</th>\n",
       "      <th>funcSexo_y</th>\n",
       "      <th>funcDataNascimento_y</th>\n",
       "      <th>funcCidade_y</th>\n",
       "      <th>funcEstadoNome</th>\n",
       "    </tr>\n",
       "  </thead>\n",
       "  <tbody>\n",
       "    <tr>\n",
       "      <th>0</th>\n",
       "      <td>13</td>\n",
       "      <td>ABDIEL DIAS</td>\n",
       "      <td>M</td>\n",
       "      <td>13/1/1990</td>\n",
       "      <td>rio de janeiro</td>\n",
       "      <td>rj</td>\n",
       "      <td>brasil</td>\n",
       "      <td>Dias, Abdiel</td>\n",
       "      <td>NaN</td>\n",
       "      <td>13/01/1990</td>\n",
       "      <td>Rio De Janeiro</td>\n",
       "      <td>Rio de Janeiro</td>\n",
       "    </tr>\n",
       "    <tr>\n",
       "      <th>1</th>\n",
       "      <td>16</td>\n",
       "      <td>ABDALLA FERNANDES</td>\n",
       "      <td>M</td>\n",
       "      <td>16/4/1990</td>\n",
       "      <td>NaN</td>\n",
       "      <td>NaN</td>\n",
       "      <td>brasil</td>\n",
       "      <td>NaN</td>\n",
       "      <td>NaN</td>\n",
       "      <td>NaN</td>\n",
       "      <td>Praia Seca</td>\n",
       "      <td>Rio de Janeiro</td>\n",
       "    </tr>\n",
       "    <tr>\n",
       "      <th>2</th>\n",
       "      <td>32</td>\n",
       "      <td>NaN</td>\n",
       "      <td>M</td>\n",
       "      <td>1/8/1990</td>\n",
       "      <td>NaN</td>\n",
       "      <td>NaN</td>\n",
       "      <td>NaN</td>\n",
       "      <td>Costa, Abdiel</td>\n",
       "      <td>NaN</td>\n",
       "      <td>NaN</td>\n",
       "      <td>Piracicaba</td>\n",
       "      <td>Sao Paulo</td>\n",
       "    </tr>\n",
       "    <tr>\n",
       "      <th>3</th>\n",
       "      <td>86</td>\n",
       "      <td>ADENILDE BARROS</td>\n",
       "      <td>NaN</td>\n",
       "      <td>25/2/1985</td>\n",
       "      <td>NaN</td>\n",
       "      <td>NaN</td>\n",
       "      <td>NaN</td>\n",
       "      <td>Barros, Adenilde</td>\n",
       "      <td>Feminino</td>\n",
       "      <td>NaN</td>\n",
       "      <td>Piracicaba</td>\n",
       "      <td>Sao Paulo</td>\n",
       "    </tr>\n",
       "    <tr>\n",
       "      <th>4</th>\n",
       "      <td>90</td>\n",
       "      <td>NaN</td>\n",
       "      <td>NaN</td>\n",
       "      <td>29/6/1989</td>\n",
       "      <td>sao jose do rio preto</td>\n",
       "      <td>sp</td>\n",
       "      <td>brasil</td>\n",
       "      <td>Carvalho, Adenilton</td>\n",
       "      <td>Masculino</td>\n",
       "      <td>29/6/1989</td>\n",
       "      <td>NaN</td>\n",
       "      <td>NaN</td>\n",
       "    </tr>\n",
       "    <tr>\n",
       "      <th>5</th>\n",
       "      <td>67</td>\n",
       "      <td>ADELMA BORGES</td>\n",
       "      <td>M</td>\n",
       "      <td>6/7/1966</td>\n",
       "      <td>NaN</td>\n",
       "      <td>rj</td>\n",
       "      <td>brasil</td>\n",
       "      <td>Borges, Adelma</td>\n",
       "      <td>NaN</td>\n",
       "      <td>NaN</td>\n",
       "      <td>Rio De Janeiro</td>\n",
       "      <td>Rio de Janeiro</td>\n",
       "    </tr>\n",
       "    <tr>\n",
       "      <th>6</th>\n",
       "      <td>83</td>\n",
       "      <td>ADENIAS ANDRADE</td>\n",
       "      <td>NaN</td>\n",
       "      <td>22/11/1982</td>\n",
       "      <td>campinas</td>\n",
       "      <td>sp</td>\n",
       "      <td>NaN</td>\n",
       "      <td>NaN</td>\n",
       "      <td>Masculino</td>\n",
       "      <td>22/11/1982</td>\n",
       "      <td>Campinas</td>\n",
       "      <td>Sao Paulo</td>\n",
       "    </tr>\n",
       "  </tbody>\n",
       "</table>\n",
       "</div>"
      ],
      "text/plain": [
       "   funcMatricula         funcNome_x funcSexo_x funcDataNascimento_x  \\\n",
       "0             13        ABDIEL DIAS          M            13/1/1990   \n",
       "1             16  ABDALLA FERNANDES          M            16/4/1990   \n",
       "2             32                NaN          M             1/8/1990   \n",
       "3             86    ADENILDE BARROS        NaN            25/2/1985   \n",
       "4             90                NaN        NaN            29/6/1989   \n",
       "5             67      ADELMA BORGES          M             6/7/1966   \n",
       "6             83    ADENIAS ANDRADE        NaN           22/11/1982   \n",
       "\n",
       "            funcCidade_x funcEstadoSigla funcPaisNome           funcNome_y  \\\n",
       "0         rio de janeiro              rj       brasil         Dias, Abdiel   \n",
       "1                    NaN             NaN       brasil                  NaN   \n",
       "2                    NaN             NaN          NaN        Costa, Abdiel   \n",
       "3                    NaN             NaN          NaN     Barros, Adenilde   \n",
       "4  sao jose do rio preto              sp       brasil  Carvalho, Adenilton   \n",
       "5                    NaN              rj       brasil       Borges, Adelma   \n",
       "6               campinas              sp          NaN                  NaN   \n",
       "\n",
       "  funcSexo_y funcDataNascimento_y    funcCidade_y  funcEstadoNome  \n",
       "0        NaN           13/01/1990  Rio De Janeiro  Rio de Janeiro  \n",
       "1        NaN                  NaN      Praia Seca  Rio de Janeiro  \n",
       "2        NaN                  NaN      Piracicaba       Sao Paulo  \n",
       "3   Feminino                  NaN      Piracicaba       Sao Paulo  \n",
       "4  Masculino            29/6/1989             NaN             NaN  \n",
       "5        NaN                  NaN  Rio De Janeiro  Rio de Janeiro  \n",
       "6  Masculino           22/11/1982        Campinas       Sao Paulo  "
      ]
     },
     "metadata": {},
     "output_type": "display_data"
    }
   ],
   "source": [
    "funcionario_empregado = funcionarioRelacional.merge(empregadoPlanilha, on = 'funcMatricula')\n",
    "print('Quantidade de mesmos funcionários cadastrados nas fontes 1 e 3: ', funcionario_empregado.shape[0])\n",
    "\n",
    "# apresente o resultado do conflito\n",
    "display(funcionario_empregado)"
   ]
  },
  {
   "cell_type": "code",
   "execution_count": null,
   "metadata": {},
   "outputs": [],
   "source": []
  },
  {
   "cell_type": "markdown",
   "metadata": {
    "id": "ZhcBO2fpTPmE"
   },
   "source": [
    "**EXERCÍCIO 3b.** Gere o DataFrame colaborador_empregado, o qual contém os funcionários que aparecem em ambos colaboradorJSON e empregadoPlanilha. Nesse exercício você utilizará as fontes `colaboradorJSON` e `empregadoPlanilha`."
   ]
  },
  {
   "cell_type": "code",
   "execution_count": 17,
   "metadata": {
    "id": "hxMan1pcUI9T"
   },
   "outputs": [
    {
     "name": "stdout",
     "output_type": "stream",
     "text": [
      "Quantidade de mesmos funcionários cadastrados nas fontes 2 e 3:  5\n"
     ]
    },
    {
     "data": {
      "text/html": [
       "<div>\n",
       "<style scoped>\n",
       "    .dataframe tbody tr th:only-of-type {\n",
       "        vertical-align: middle;\n",
       "    }\n",
       "\n",
       "    .dataframe tbody tr th {\n",
       "        vertical-align: top;\n",
       "    }\n",
       "\n",
       "    .dataframe thead th {\n",
       "        text-align: right;\n",
       "    }\n",
       "</style>\n",
       "<table border=\"1\" class=\"dataframe\">\n",
       "  <thead>\n",
       "    <tr style=\"text-align: right;\">\n",
       "      <th></th>\n",
       "      <th>funcMatricula</th>\n",
       "      <th>funcNome_x</th>\n",
       "      <th>funcSexo_x</th>\n",
       "      <th>funcDataNascimento_x</th>\n",
       "      <th>funcCidade_x</th>\n",
       "      <th>funcEstadoSigla</th>\n",
       "      <th>funcPaisSigla</th>\n",
       "      <th>funcNome_y</th>\n",
       "      <th>funcSexo_y</th>\n",
       "      <th>funcDataNascimento_y</th>\n",
       "      <th>funcCidade_y</th>\n",
       "      <th>funcEstadoNome</th>\n",
       "    </tr>\n",
       "  </thead>\n",
       "  <tbody>\n",
       "    <tr>\n",
       "      <th>0</th>\n",
       "      <td>13</td>\n",
       "      <td>Arao Alves</td>\n",
       "      <td>0.0</td>\n",
       "      <td>None</td>\n",
       "      <td>None</td>\n",
       "      <td>RJ</td>\n",
       "      <td>BRA</td>\n",
       "      <td>Dias, Abdiel</td>\n",
       "      <td>NaN</td>\n",
       "      <td>13/01/1990</td>\n",
       "      <td>Rio De Janeiro</td>\n",
       "      <td>Rio de Janeiro</td>\n",
       "    </tr>\n",
       "    <tr>\n",
       "      <th>1</th>\n",
       "      <td>66</td>\n",
       "      <td>Adelita Barros</td>\n",
       "      <td>1.0</td>\n",
       "      <td>None</td>\n",
       "      <td>Barueri</td>\n",
       "      <td>None</td>\n",
       "      <td>BRA</td>\n",
       "      <td>NaN</td>\n",
       "      <td>NaN</td>\n",
       "      <td>05/06/1965</td>\n",
       "      <td>NaN</td>\n",
       "      <td>Sao Paulo</td>\n",
       "    </tr>\n",
       "    <tr>\n",
       "      <th>2</th>\n",
       "      <td>67</td>\n",
       "      <td>None</td>\n",
       "      <td>0.0</td>\n",
       "      <td>1966-07-06</td>\n",
       "      <td>None</td>\n",
       "      <td>RJ</td>\n",
       "      <td>None</td>\n",
       "      <td>Borges, Adelma</td>\n",
       "      <td>NaN</td>\n",
       "      <td>NaN</td>\n",
       "      <td>Rio De Janeiro</td>\n",
       "      <td>Rio de Janeiro</td>\n",
       "    </tr>\n",
       "    <tr>\n",
       "      <th>3</th>\n",
       "      <td>83</td>\n",
       "      <td>Adenias Andrade</td>\n",
       "      <td>0.0</td>\n",
       "      <td>1982-11-22</td>\n",
       "      <td>None</td>\n",
       "      <td>None</td>\n",
       "      <td>BRA</td>\n",
       "      <td>NaN</td>\n",
       "      <td>Masculino</td>\n",
       "      <td>22/11/1982</td>\n",
       "      <td>Campinas</td>\n",
       "      <td>Sao Paulo</td>\n",
       "    </tr>\n",
       "    <tr>\n",
       "      <th>4</th>\n",
       "      <td>99</td>\n",
       "      <td>Adercio Gomes</td>\n",
       "      <td>0.0</td>\n",
       "      <td>None</td>\n",
       "      <td>None</td>\n",
       "      <td>None</td>\n",
       "      <td>None</td>\n",
       "      <td>NaN</td>\n",
       "      <td>NaN</td>\n",
       "      <td>7/3/1998</td>\n",
       "      <td>Araguari</td>\n",
       "      <td>Minas Gerais</td>\n",
       "    </tr>\n",
       "  </tbody>\n",
       "</table>\n",
       "</div>"
      ],
      "text/plain": [
       "   funcMatricula       funcNome_x  funcSexo_x funcDataNascimento_x  \\\n",
       "0             13       Arao Alves         0.0                 None   \n",
       "1             66   Adelita Barros         1.0                 None   \n",
       "2             67             None         0.0           1966-07-06   \n",
       "3             83  Adenias Andrade         0.0           1982-11-22   \n",
       "4             99    Adercio Gomes         0.0                 None   \n",
       "\n",
       "  funcCidade_x funcEstadoSigla funcPaisSigla      funcNome_y funcSexo_y  \\\n",
       "0         None              RJ           BRA    Dias, Abdiel        NaN   \n",
       "1      Barueri            None           BRA             NaN        NaN   \n",
       "2         None              RJ          None  Borges, Adelma        NaN   \n",
       "3         None            None           BRA             NaN  Masculino   \n",
       "4         None            None          None             NaN        NaN   \n",
       "\n",
       "  funcDataNascimento_y    funcCidade_y  funcEstadoNome  \n",
       "0           13/01/1990  Rio De Janeiro  Rio de Janeiro  \n",
       "1           05/06/1965             NaN       Sao Paulo  \n",
       "2                  NaN  Rio De Janeiro  Rio de Janeiro  \n",
       "3           22/11/1982        Campinas       Sao Paulo  \n",
       "4             7/3/1998        Araguari    Minas Gerais  "
      ]
     },
     "metadata": {},
     "output_type": "display_data"
    }
   ],
   "source": [
    "colaborador_empregado = colaboradorJSON.merge(empregadoPlanilha, on = 'funcMatricula')\n",
    "print('Quantidade de mesmos funcionários cadastrados nas fontes 2 e 3: ', colaborador_empregado.shape[0])\n",
    "\n",
    "# apresente o resultado do conflito\n",
    "display(colaborador_empregado)"
   ]
  },
  {
   "cell_type": "markdown",
   "metadata": {
    "id": "wENlYzbKUSJZ"
   },
   "source": [
    "**EXERCÍCIO 3c.** Gere o DataFrame funcionario_colaborador_empregado, o qual contém os funcionários que aparecem em todas as fontes de dados. Nesse exercício você utilizará os DataFrame `funcionario_colaborador` e `empregadoPlanilha`."
   ]
  },
  {
   "cell_type": "code",
   "execution_count": 18,
   "metadata": {
    "id": "m9H-P7VyUhQa"
   },
   "outputs": [
    {
     "name": "stdout",
     "output_type": "stream",
     "text": [
      "Quantidade de mesmos funcionários cadastrados nas fontes 1, 2 e 3:  3\n"
     ]
    },
    {
     "data": {
      "text/html": [
       "<div>\n",
       "<style scoped>\n",
       "    .dataframe tbody tr th:only-of-type {\n",
       "        vertical-align: middle;\n",
       "    }\n",
       "\n",
       "    .dataframe tbody tr th {\n",
       "        vertical-align: top;\n",
       "    }\n",
       "\n",
       "    .dataframe thead th {\n",
       "        text-align: right;\n",
       "    }\n",
       "</style>\n",
       "<table border=\"1\" class=\"dataframe\">\n",
       "  <thead>\n",
       "    <tr style=\"text-align: right;\">\n",
       "      <th></th>\n",
       "      <th>funcMatricula</th>\n",
       "      <th>funcNome_x</th>\n",
       "      <th>funcSexo_x</th>\n",
       "      <th>funcDataNascimento_x</th>\n",
       "      <th>funcCidade_x</th>\n",
       "      <th>funcEstadoSigla_x</th>\n",
       "      <th>funcPaisNome_x</th>\n",
       "      <th>funcNome_y</th>\n",
       "      <th>funcSexo_y</th>\n",
       "      <th>funcDataNascimento_y</th>\n",
       "      <th>funcCidade_y</th>\n",
       "      <th>funcEstadoSigla_y</th>\n",
       "      <th>funcPaisSigla_y</th>\n",
       "      <th>funcNome</th>\n",
       "      <th>funcSexo</th>\n",
       "      <th>funcDataNascimento</th>\n",
       "      <th>funcCidade</th>\n",
       "      <th>funcEstadoNome</th>\n",
       "    </tr>\n",
       "  </thead>\n",
       "  <tbody>\n",
       "    <tr>\n",
       "      <th>0</th>\n",
       "      <td>13</td>\n",
       "      <td>ABDIEL DIAS</td>\n",
       "      <td>M</td>\n",
       "      <td>13/1/1990</td>\n",
       "      <td>rio de janeiro</td>\n",
       "      <td>rj</td>\n",
       "      <td>brasil</td>\n",
       "      <td>Arao Alves</td>\n",
       "      <td>0.0</td>\n",
       "      <td>None</td>\n",
       "      <td>None</td>\n",
       "      <td>RJ</td>\n",
       "      <td>BRA</td>\n",
       "      <td>Dias, Abdiel</td>\n",
       "      <td>NaN</td>\n",
       "      <td>13/01/1990</td>\n",
       "      <td>Rio De Janeiro</td>\n",
       "      <td>Rio de Janeiro</td>\n",
       "    </tr>\n",
       "    <tr>\n",
       "      <th>1</th>\n",
       "      <td>67</td>\n",
       "      <td>ADELMA BORGES</td>\n",
       "      <td>M</td>\n",
       "      <td>6/7/1966</td>\n",
       "      <td>NaN</td>\n",
       "      <td>rj</td>\n",
       "      <td>brasil</td>\n",
       "      <td>None</td>\n",
       "      <td>0.0</td>\n",
       "      <td>1966-07-06</td>\n",
       "      <td>None</td>\n",
       "      <td>RJ</td>\n",
       "      <td>None</td>\n",
       "      <td>Borges, Adelma</td>\n",
       "      <td>NaN</td>\n",
       "      <td>NaN</td>\n",
       "      <td>Rio De Janeiro</td>\n",
       "      <td>Rio de Janeiro</td>\n",
       "    </tr>\n",
       "    <tr>\n",
       "      <th>2</th>\n",
       "      <td>83</td>\n",
       "      <td>ADENIAS ANDRADE</td>\n",
       "      <td>NaN</td>\n",
       "      <td>22/11/1982</td>\n",
       "      <td>campinas</td>\n",
       "      <td>sp</td>\n",
       "      <td>NaN</td>\n",
       "      <td>Adenias Andrade</td>\n",
       "      <td>0.0</td>\n",
       "      <td>1982-11-22</td>\n",
       "      <td>None</td>\n",
       "      <td>None</td>\n",
       "      <td>BRA</td>\n",
       "      <td>NaN</td>\n",
       "      <td>Masculino</td>\n",
       "      <td>22/11/1982</td>\n",
       "      <td>Campinas</td>\n",
       "      <td>Sao Paulo</td>\n",
       "    </tr>\n",
       "  </tbody>\n",
       "</table>\n",
       "</div>"
      ],
      "text/plain": [
       "   funcMatricula       funcNome_x funcSexo_x funcDataNascimento_x  \\\n",
       "0             13      ABDIEL DIAS          M            13/1/1990   \n",
       "1             67    ADELMA BORGES          M             6/7/1966   \n",
       "2             83  ADENIAS ANDRADE        NaN           22/11/1982   \n",
       "\n",
       "     funcCidade_x funcEstadoSigla_x funcPaisNome_x       funcNome_y  \\\n",
       "0  rio de janeiro                rj         brasil       Arao Alves   \n",
       "1             NaN                rj         brasil             None   \n",
       "2        campinas                sp            NaN  Adenias Andrade   \n",
       "\n",
       "   funcSexo_y funcDataNascimento_y funcCidade_y funcEstadoSigla_y  \\\n",
       "0         0.0                 None         None                RJ   \n",
       "1         0.0           1966-07-06         None                RJ   \n",
       "2         0.0           1982-11-22         None              None   \n",
       "\n",
       "  funcPaisSigla_y        funcNome   funcSexo funcDataNascimento  \\\n",
       "0             BRA    Dias, Abdiel        NaN         13/01/1990   \n",
       "1            None  Borges, Adelma        NaN                NaN   \n",
       "2             BRA             NaN  Masculino         22/11/1982   \n",
       "\n",
       "       funcCidade  funcEstadoNome  \n",
       "0  Rio De Janeiro  Rio de Janeiro  \n",
       "1  Rio De Janeiro  Rio de Janeiro  \n",
       "2        Campinas       Sao Paulo  "
      ]
     },
     "metadata": {},
     "output_type": "display_data"
    }
   ],
   "source": [
    "funcionario_colaborador_empregado = funcionario_colaborador.merge(empregadoPlanilha, on = 'funcMatricula')\n",
    "print('Quantidade de mesmos funcionários cadastrados nas fontes 1, 2 e 3: ', funcionario_colaborador_empregado.shape[0])\n",
    "\n",
    "# apresente o resultado do conflito\n",
    "display(funcionario_colaborador_empregado)"
   ]
  },
  {
   "cell_type": "markdown",
   "metadata": {
    "id": "_4v7xiQ0VfhM"
   },
   "source": [
    "### 4.3 Padronização das colunas\n",
    "\n",
    "O esquema de relação *funcionario* possui vários atributos que não estão presentes nas fontes de dados. Os comandos a seguir visam acrescentar colunas a funcionarioRelacional e colaboradorJSON. É atributído valor NULO para os valores dessas colunas. \n",
    "\n",
    "Os comandos a seguir realizam as seguintes ações para funcionarioRelacional. Primeiro, é mostrada a estrutura atual. Depois, são adicionadas as novas colunas, ou seja, as colunas faltantes. Por fim, é exibida a estrutura final."
   ]
  },
  {
   "cell_type": "code",
   "execution_count": 19,
   "metadata": {
    "id": "qq-fWEzlVvya"
   },
   "outputs": [
    {
     "data": {
      "text/plain": [
       "['funcMatricula',\n",
       " 'funcNome',\n",
       " 'funcSexo',\n",
       " 'funcDataNascimento',\n",
       " 'funcCidade',\n",
       " 'funcEstadoSigla',\n",
       " 'funcPaisNome']"
      ]
     },
     "execution_count": 19,
     "metadata": {},
     "output_type": "execute_result"
    }
   ],
   "source": [
    "funcionarioRelacional.columns.tolist()"
   ]
  },
  {
   "cell_type": "code",
   "execution_count": 20,
   "metadata": {
    "id": "qytCekS_V5zj"
   },
   "outputs": [],
   "source": [
    "funcionarioRelacional['funcDiaNascimento'] = None\n",
    "funcionarioRelacional['funcMesNascimento'] = None\n",
    "funcionarioRelacional['funcAnoNascimento'] = None\n",
    "funcionarioRelacional['funcEstadoNome'] = None\n",
    "funcionarioRelacional['funcRegiaoNome'] = None\n",
    "funcionarioRelacional['funcRegiaoSigla'] = None\n",
    "funcionarioRelacional['funcPaisSigla'] = None"
   ]
  },
  {
   "cell_type": "code",
   "execution_count": 21,
   "metadata": {
    "id": "UPzFlsL1GSUI"
   },
   "outputs": [
    {
     "data": {
      "text/plain": [
       "['funcMatricula',\n",
       " 'funcNome',\n",
       " 'funcSexo',\n",
       " 'funcDataNascimento',\n",
       " 'funcCidade',\n",
       " 'funcEstadoSigla',\n",
       " 'funcPaisNome',\n",
       " 'funcDiaNascimento',\n",
       " 'funcMesNascimento',\n",
       " 'funcAnoNascimento',\n",
       " 'funcEstadoNome',\n",
       " 'funcRegiaoNome',\n",
       " 'funcRegiaoSigla',\n",
       " 'funcPaisSigla']"
      ]
     },
     "execution_count": 21,
     "metadata": {},
     "output_type": "execute_result"
    }
   ],
   "source": [
    "funcionarioRelacional.columns.tolist()"
   ]
  },
  {
   "cell_type": "markdown",
   "metadata": {
    "id": "sCL8r6JgHjaj"
   },
   "source": [
    "Os comandos a seguir realizam as seguintes ações para colaboradorJSON. Primeiro, é mostrada a estrutura atual. Depois, são adicionadas as novas colunas, ou seja, as colunas faltantes. Por fim, é exibida a estrutura final."
   ]
  },
  {
   "cell_type": "code",
   "execution_count": 22,
   "metadata": {
    "id": "MSsNunloVqTq"
   },
   "outputs": [
    {
     "data": {
      "text/plain": [
       "['funcMatricula',\n",
       " 'funcNome',\n",
       " 'funcSexo',\n",
       " 'funcDataNascimento',\n",
       " 'funcCidade',\n",
       " 'funcEstadoSigla',\n",
       " 'funcPaisSigla']"
      ]
     },
     "execution_count": 22,
     "metadata": {},
     "output_type": "execute_result"
    }
   ],
   "source": [
    "colaboradorJSON.columns.tolist()"
   ]
  },
  {
   "cell_type": "code",
   "execution_count": 23,
   "metadata": {
    "id": "EVfglWFdWAhZ"
   },
   "outputs": [],
   "source": [
    "colaboradorJSON['funcDiaNascimento'] = None\n",
    "colaboradorJSON['funcMesNascimento'] = None\n",
    "colaboradorJSON['funcAnoNascimento'] = None\n",
    "colaboradorJSON['funcEstadoNome'] = None\n",
    "colaboradorJSON['funcRegiaoNome'] = None\n",
    "colaboradorJSON['funcRegiaoSigla'] = None\n",
    "colaboradorJSON['funcPaisNome'] = None"
   ]
  },
  {
   "cell_type": "code",
   "execution_count": 24,
   "metadata": {
    "id": "7EqZxR2NH2K7"
   },
   "outputs": [
    {
     "data": {
      "text/plain": [
       "['funcMatricula',\n",
       " 'funcNome',\n",
       " 'funcSexo',\n",
       " 'funcDataNascimento',\n",
       " 'funcCidade',\n",
       " 'funcEstadoSigla',\n",
       " 'funcPaisSigla',\n",
       " 'funcDiaNascimento',\n",
       " 'funcMesNascimento',\n",
       " 'funcAnoNascimento',\n",
       " 'funcEstadoNome',\n",
       " 'funcRegiaoNome',\n",
       " 'funcRegiaoSigla',\n",
       " 'funcPaisNome']"
      ]
     },
     "execution_count": 24,
     "metadata": {},
     "output_type": "execute_result"
    }
   ],
   "source": [
    "colaboradorJSON.columns.tolist()"
   ]
  },
  {
   "cell_type": "markdown",
   "metadata": {
    "id": "wESvRvMGdpHB"
   },
   "source": [
    "**EXERCÍCIO 4.** Adicione as colunas faltantes em empregadoPlanilha, de forma similar aos comandos anteriores."
   ]
  },
  {
   "cell_type": "code",
   "execution_count": 25,
   "metadata": {
    "id": "OxvaN44fUqWx"
   },
   "outputs": [
    {
     "data": {
      "text/plain": [
       "['funcMatricula',\n",
       " 'funcNome',\n",
       " 'funcSexo',\n",
       " 'funcDataNascimento',\n",
       " 'funcCidade',\n",
       " 'funcEstadoNome']"
      ]
     },
     "execution_count": 25,
     "metadata": {},
     "output_type": "execute_result"
    }
   ],
   "source": [
    "# apresente as colunas de 'empregadoPlanilha'\n",
    "empregadoPlanilha.columns.tolist()"
   ]
  },
  {
   "cell_type": "code",
   "execution_count": 26,
   "metadata": {
    "id": "ysWb0qsHUrC4"
   },
   "outputs": [],
   "source": [
    "# adicione as colunas faltantes em 'empregadoPlanilha'\n",
    "empregadoPlanilha['funcDiaNascimento'] = None\n",
    "empregadoPlanilha['funcMesNascimento'] = None\n",
    "empregadoPlanilha['funcAnoNascimento'] = None\n",
    "empregadoPlanilha['funcEstadoSigla'] = None\n",
    "empregadoPlanilha['funcRegiaoNome'] = None\n",
    "empregadoPlanilha['funcRegiaoSigla'] = None\n",
    "empregadoPlanilha['funcPaisNome'] = None\n",
    "empregadoPlanilha['funcPaisSigla'] = None"
   ]
  },
  {
   "cell_type": "code",
   "execution_count": 27,
   "metadata": {
    "id": "NZLvJ5tPUrTo"
   },
   "outputs": [
    {
     "data": {
      "text/plain": [
       "['funcMatricula',\n",
       " 'funcNome',\n",
       " 'funcSexo',\n",
       " 'funcDataNascimento',\n",
       " 'funcCidade',\n",
       " 'funcEstadoNome',\n",
       " 'funcDiaNascimento',\n",
       " 'funcMesNascimento',\n",
       " 'funcAnoNascimento',\n",
       " 'funcEstadoSigla',\n",
       " 'funcRegiaoNome',\n",
       " 'funcRegiaoSigla',\n",
       " 'funcPaisNome',\n",
       " 'funcPaisSigla']"
      ]
     },
     "execution_count": 27,
     "metadata": {},
     "output_type": "execute_result"
    }
   ],
   "source": [
    "# apresente todas as colunas atuais de 'empregadoPlanilha'\n",
    "empregadoPlanilha.columns.tolist()"
   ]
  },
  {
   "cell_type": "markdown",
   "metadata": {
    "id": "st0AHXwTazyx"
   },
   "source": [
    "## 5 Integração de Instâncias\n",
    "\n",
    "Após a integração dos esquemas, é necessário realizar a integração de instâncias. Todas as instâncias presentes em funcionarioRelacional e em colaboradorJSON têm que ser integradas em *funcionario*, considerando o tipo de dados e o formato dos atributos desse esquema de relação.\n",
    "\n",
    "Os seguintes tipos de dados e formatos são considerados para os atributos de *funcionario*:\n",
    "\n",
    "a) funcMatricula: numérico;\n",
    "\n",
    "b) funcNome: alfanumérico, com todas as letras maiúsculas;\n",
    "\n",
    "c) funcSexo: alfanumérico de 1 caractere, com M indicando masculino e F indicando feminino;\n",
    "\n",
    "d) funcDataNascimento: alfanumérico, com formato `dia/mês/ano`;\n",
    "\n",
    "e) funcCidade: alfanumérico, com todas as letras maiúsculas;\n",
    "\n",
    "f) funcEstadoNome: alfanumérico, com todas as letras maiúsculas;\n",
    "\n",
    "g) funcEstadoSigla: alfanumérico de 2 caracteres, com todas as letras maiúsculas;\n",
    "\n",
    "h) funcPaisNome: alfanumérico, com todas as letras maiúsculas;\n",
    "\n",
    "i) funcPaisSigla: alfanumérico de 3 letras, com todas as letras maiúsculas; \n"
   ]
  },
  {
   "cell_type": "markdown",
   "metadata": {
    "id": "dgE0ghr4TzW2"
   },
   "source": [
    "### 5.1 Considerando a fonte de dados funcionarioRelacional\n",
    "\n",
    "O comando a seguir exemplifica instâncias de funcionarioRelacional.\n",
    "\n"
   ]
  },
  {
   "cell_type": "code",
   "execution_count": 28,
   "metadata": {
    "id": "Keym-fFVL71X"
   },
   "outputs": [
    {
     "data": {
      "text/html": [
       "<div>\n",
       "<style scoped>\n",
       "    .dataframe tbody tr th:only-of-type {\n",
       "        vertical-align: middle;\n",
       "    }\n",
       "\n",
       "    .dataframe tbody tr th {\n",
       "        vertical-align: top;\n",
       "    }\n",
       "\n",
       "    .dataframe thead th {\n",
       "        text-align: right;\n",
       "    }\n",
       "</style>\n",
       "<table border=\"1\" class=\"dataframe\">\n",
       "  <thead>\n",
       "    <tr style=\"text-align: right;\">\n",
       "      <th></th>\n",
       "      <th>funcMatricula</th>\n",
       "      <th>funcNome</th>\n",
       "      <th>funcSexo</th>\n",
       "      <th>funcDataNascimento</th>\n",
       "      <th>funcCidade</th>\n",
       "      <th>funcEstadoSigla</th>\n",
       "      <th>funcPaisNome</th>\n",
       "      <th>funcDiaNascimento</th>\n",
       "      <th>funcMesNascimento</th>\n",
       "      <th>funcAnoNascimento</th>\n",
       "      <th>funcEstadoNome</th>\n",
       "      <th>funcRegiaoNome</th>\n",
       "      <th>funcRegiaoSigla</th>\n",
       "      <th>funcPaisSigla</th>\n",
       "    </tr>\n",
       "  </thead>\n",
       "  <tbody>\n",
       "    <tr>\n",
       "      <th>0</th>\n",
       "      <td>1</td>\n",
       "      <td>ALINE ALMEIDA</td>\n",
       "      <td>F</td>\n",
       "      <td>1/1/1990</td>\n",
       "      <td>sao paulo</td>\n",
       "      <td>sp</td>\n",
       "      <td>brasil</td>\n",
       "      <td>None</td>\n",
       "      <td>None</td>\n",
       "      <td>None</td>\n",
       "      <td>None</td>\n",
       "      <td>None</td>\n",
       "      <td>None</td>\n",
       "      <td>None</td>\n",
       "    </tr>\n",
       "    <tr>\n",
       "      <th>1</th>\n",
       "      <td>2</td>\n",
       "      <td>NaN</td>\n",
       "      <td>M</td>\n",
       "      <td>2/2/1990</td>\n",
       "      <td>campinas</td>\n",
       "      <td>sp</td>\n",
       "      <td>brasil</td>\n",
       "      <td>None</td>\n",
       "      <td>None</td>\n",
       "      <td>None</td>\n",
       "      <td>None</td>\n",
       "      <td>None</td>\n",
       "      <td>None</td>\n",
       "      <td>None</td>\n",
       "    </tr>\n",
       "    <tr>\n",
       "      <th>2</th>\n",
       "      <td>3</td>\n",
       "      <td>ARON ANDRADE</td>\n",
       "      <td>M</td>\n",
       "      <td>3/3/1990</td>\n",
       "      <td>santos</td>\n",
       "      <td>sp</td>\n",
       "      <td>brasil</td>\n",
       "      <td>None</td>\n",
       "      <td>None</td>\n",
       "      <td>None</td>\n",
       "      <td>None</td>\n",
       "      <td>None</td>\n",
       "      <td>None</td>\n",
       "      <td>None</td>\n",
       "    </tr>\n",
       "  </tbody>\n",
       "</table>\n",
       "</div>"
      ],
      "text/plain": [
       "   funcMatricula       funcNome funcSexo funcDataNascimento funcCidade  \\\n",
       "0              1  ALINE ALMEIDA        F           1/1/1990  sao paulo   \n",
       "1              2            NaN        M           2/2/1990   campinas   \n",
       "2              3   ARON ANDRADE        M           3/3/1990     santos   \n",
       "\n",
       "  funcEstadoSigla funcPaisNome funcDiaNascimento funcMesNascimento  \\\n",
       "0              sp       brasil              None              None   \n",
       "1              sp       brasil              None              None   \n",
       "2              sp       brasil              None              None   \n",
       "\n",
       "  funcAnoNascimento funcEstadoNome funcRegiaoNome funcRegiaoSigla  \\\n",
       "0              None           None           None            None   \n",
       "1              None           None           None            None   \n",
       "2              None           None           None            None   \n",
       "\n",
       "  funcPaisSigla  \n",
       "0          None  \n",
       "1          None  \n",
       "2          None  "
      ]
     },
     "execution_count": 28,
     "metadata": {},
     "output_type": "execute_result"
    }
   ],
   "source": [
    "funcionarioRelacional.head(3)"
   ]
  },
  {
   "cell_type": "markdown",
   "metadata": {
    "id": "uJ9ZlOsqMOGk"
   },
   "source": [
    "Para facilitar as manipulações que devem ser realizadas nas instâncias de  funcionarioRelacional, é criada uma classe em Python chamada `ProcessamentoFonteRelacional`. Nessa classe, são criados vários métodos. Cada método é responsável pela tranformação de um dos atributos do conjunto de dados. Para essa fonte foram aplicados os seguintes mapeamentos: e (funcCidade), g (funcEstadoSigla), h (funcPaisNome)."
   ]
  },
  {
   "cell_type": "code",
   "execution_count": 29,
   "metadata": {
    "id": "KxeR-4jOONGL"
   },
   "outputs": [],
   "source": [
    "class ProcessamentoFonteRelacional:\n",
    "  \"\"\"\n",
    "  Realiza a tranformacao de um dataframe com formato da fonte \n",
    "  funcionarioRelacional para um dataframe que segue os padrões definidos \n",
    "  para o esquema de relação funcionario.\n",
    "  \"\"\"\n",
    "\n",
    "  def __init__(self, dados_funcionario):\n",
    "    self.fonte_dados = dados_funcionario.copy(deep=True)\n",
    "\n",
    "  def processar_cidade(self, cidade):\n",
    "    \"\"\"\n",
    "    O atributo que representa a cidade em funcionarioRelacional precisa ser\n",
    "    transformado para caracteres maiúsculos. Esta função realiza essa\n",
    "    transformação.\n",
    "    \"\"\"\n",
    "    if pd.isna(cidade):\n",
    "      return None\n",
    "\n",
    "    return cidade.upper()\n",
    "    \n",
    "  def processar_estado_sigla(self, estado):\n",
    "    \"\"\"\n",
    "    O atributo que representa a sigla do estado em funcionarioRelacional \n",
    "    precisa ser transformado para caracteres maiúsculos. Essa função realiza \n",
    "    essa transformação.\n",
    "    \"\"\"\n",
    "    if pd.isna(estado):\n",
    "      return None\n",
    "\n",
    "    return estado.upper()\n",
    "\n",
    "  def processar_pais_nome(self, paisNome):\n",
    "    \"\"\"\n",
    "    O atributo que representa o nome do país em funcionarioRelacional precisa \n",
    "    ser transformado para caracteres maiúsculos. Essa função realiza essa\n",
    "    transformação.\n",
    "    \"\"\"\n",
    "    if pd.isna(paisNome):\n",
    "      return None\n",
    "\n",
    "    return paisNome.upper()\n",
    "\n",
    "  def executar_transformacoes(self):\n",
    "    \"\"\"\n",
    "    Essa função processa cada atributo do dataframe composto pelos dados da \n",
    "    fonte funcionarioRelacional\n",
    "    \"\"\"\n",
    "    \n",
    "    self.fonte_dados['funcCidade'] = self.fonte_dados.apply(lambda x : self.processar_cidade(x['funcCidade']), axis=1)\n",
    "    self.fonte_dados['funcEstadoSigla'] = self.fonte_dados.apply(lambda x : self.processar_estado_sigla(x['funcEstadoSigla']), axis=1)\n",
    "    self.fonte_dados['funcPaisNome'] = self.fonte_dados.apply(lambda x : self.processar_pais_nome(x['funcPaisNome']), axis=1)\n",
    "    \n",
    "    return self.fonte_dados"
   ]
  },
  {
   "cell_type": "markdown",
   "metadata": {
    "id": "ojOBJYdTSMp1"
   },
   "source": [
    "O primeiro comando a seguir realiza o processamento da fonte funcionarioRelacional, enquanto que o segundo comando mostra alguns funcionários de funcionarioRelacional depois de ser realizado o mapeamento para o tipo de dados e o formato de funcionario."
   ]
  },
  {
   "cell_type": "code",
   "execution_count": 30,
   "metadata": {
    "id": "gjP3sa_BSwB7"
   },
   "outputs": [],
   "source": [
    "novo_funcionario_relacional = ProcessamentoFonteRelacional(funcionarioRelacional).executar_transformacoes()"
   ]
  },
  {
   "cell_type": "code",
   "execution_count": 31,
   "metadata": {
    "id": "7-tNSXU8S_jE"
   },
   "outputs": [
    {
     "data": {
      "text/html": [
       "<div>\n",
       "<style scoped>\n",
       "    .dataframe tbody tr th:only-of-type {\n",
       "        vertical-align: middle;\n",
       "    }\n",
       "\n",
       "    .dataframe tbody tr th {\n",
       "        vertical-align: top;\n",
       "    }\n",
       "\n",
       "    .dataframe thead th {\n",
       "        text-align: right;\n",
       "    }\n",
       "</style>\n",
       "<table border=\"1\" class=\"dataframe\">\n",
       "  <thead>\n",
       "    <tr style=\"text-align: right;\">\n",
       "      <th></th>\n",
       "      <th>funcMatricula</th>\n",
       "      <th>funcNome</th>\n",
       "      <th>funcSexo</th>\n",
       "      <th>funcDataNascimento</th>\n",
       "      <th>funcCidade</th>\n",
       "      <th>funcEstadoSigla</th>\n",
       "      <th>funcPaisNome</th>\n",
       "      <th>funcDiaNascimento</th>\n",
       "      <th>funcMesNascimento</th>\n",
       "      <th>funcAnoNascimento</th>\n",
       "      <th>funcEstadoNome</th>\n",
       "      <th>funcRegiaoNome</th>\n",
       "      <th>funcRegiaoSigla</th>\n",
       "      <th>funcPaisSigla</th>\n",
       "    </tr>\n",
       "  </thead>\n",
       "  <tbody>\n",
       "    <tr>\n",
       "      <th>0</th>\n",
       "      <td>1</td>\n",
       "      <td>ALINE ALMEIDA</td>\n",
       "      <td>F</td>\n",
       "      <td>1/1/1990</td>\n",
       "      <td>SAO PAULO</td>\n",
       "      <td>SP</td>\n",
       "      <td>BRASIL</td>\n",
       "      <td>None</td>\n",
       "      <td>None</td>\n",
       "      <td>None</td>\n",
       "      <td>None</td>\n",
       "      <td>None</td>\n",
       "      <td>None</td>\n",
       "      <td>None</td>\n",
       "    </tr>\n",
       "    <tr>\n",
       "      <th>1</th>\n",
       "      <td>2</td>\n",
       "      <td>NaN</td>\n",
       "      <td>M</td>\n",
       "      <td>2/2/1990</td>\n",
       "      <td>CAMPINAS</td>\n",
       "      <td>SP</td>\n",
       "      <td>BRASIL</td>\n",
       "      <td>None</td>\n",
       "      <td>None</td>\n",
       "      <td>None</td>\n",
       "      <td>None</td>\n",
       "      <td>None</td>\n",
       "      <td>None</td>\n",
       "      <td>None</td>\n",
       "    </tr>\n",
       "    <tr>\n",
       "      <th>2</th>\n",
       "      <td>3</td>\n",
       "      <td>ARON ANDRADE</td>\n",
       "      <td>M</td>\n",
       "      <td>3/3/1990</td>\n",
       "      <td>SANTOS</td>\n",
       "      <td>SP</td>\n",
       "      <td>BRASIL</td>\n",
       "      <td>None</td>\n",
       "      <td>None</td>\n",
       "      <td>None</td>\n",
       "      <td>None</td>\n",
       "      <td>None</td>\n",
       "      <td>None</td>\n",
       "      <td>None</td>\n",
       "    </tr>\n",
       "    <tr>\n",
       "      <th>3</th>\n",
       "      <td>4</td>\n",
       "      <td>ADA BARBOSA</td>\n",
       "      <td>NaN</td>\n",
       "      <td>4/4/1990</td>\n",
       "      <td>SANTO ANDRE</td>\n",
       "      <td>SP</td>\n",
       "      <td>BRASIL</td>\n",
       "      <td>None</td>\n",
       "      <td>None</td>\n",
       "      <td>None</td>\n",
       "      <td>None</td>\n",
       "      <td>None</td>\n",
       "      <td>None</td>\n",
       "      <td>None</td>\n",
       "    </tr>\n",
       "    <tr>\n",
       "      <th>4</th>\n",
       "      <td>5</td>\n",
       "      <td>ABADE BATISTA</td>\n",
       "      <td>M</td>\n",
       "      <td>5/5/1990</td>\n",
       "      <td>PIRACICABA</td>\n",
       "      <td>SP</td>\n",
       "      <td>BRASIL</td>\n",
       "      <td>None</td>\n",
       "      <td>None</td>\n",
       "      <td>None</td>\n",
       "      <td>None</td>\n",
       "      <td>None</td>\n",
       "      <td>None</td>\n",
       "      <td>None</td>\n",
       "    </tr>\n",
       "  </tbody>\n",
       "</table>\n",
       "</div>"
      ],
      "text/plain": [
       "   funcMatricula       funcNome funcSexo funcDataNascimento   funcCidade  \\\n",
       "0              1  ALINE ALMEIDA        F           1/1/1990    SAO PAULO   \n",
       "1              2            NaN        M           2/2/1990     CAMPINAS   \n",
       "2              3   ARON ANDRADE        M           3/3/1990       SANTOS   \n",
       "3              4    ADA BARBOSA      NaN           4/4/1990  SANTO ANDRE   \n",
       "4              5  ABADE BATISTA        M           5/5/1990   PIRACICABA   \n",
       "\n",
       "  funcEstadoSigla funcPaisNome funcDiaNascimento funcMesNascimento  \\\n",
       "0              SP       BRASIL              None              None   \n",
       "1              SP       BRASIL              None              None   \n",
       "2              SP       BRASIL              None              None   \n",
       "3              SP       BRASIL              None              None   \n",
       "4              SP       BRASIL              None              None   \n",
       "\n",
       "  funcAnoNascimento funcEstadoNome funcRegiaoNome funcRegiaoSigla  \\\n",
       "0              None           None           None            None   \n",
       "1              None           None           None            None   \n",
       "2              None           None           None            None   \n",
       "3              None           None           None            None   \n",
       "4              None           None           None            None   \n",
       "\n",
       "  funcPaisSigla  \n",
       "0          None  \n",
       "1          None  \n",
       "2          None  \n",
       "3          None  \n",
       "4          None  "
      ]
     },
     "execution_count": 31,
     "metadata": {},
     "output_type": "execute_result"
    }
   ],
   "source": [
    "novo_funcionario_relacional.head()"
   ]
  },
  {
   "cell_type": "markdown",
   "metadata": {
    "id": "1skQLL0bZXxF"
   },
   "source": [
    "### 5.2 Considerando a fonte de dados colaboradorJSON\n",
    "\n",
    "O comando a seguir exemplifica instâncias de colaboradorJSON."
   ]
  },
  {
   "cell_type": "code",
   "execution_count": 32,
   "metadata": {
    "id": "Q1-hL8AOM9_3"
   },
   "outputs": [
    {
     "data": {
      "text/html": [
       "<div>\n",
       "<style scoped>\n",
       "    .dataframe tbody tr th:only-of-type {\n",
       "        vertical-align: middle;\n",
       "    }\n",
       "\n",
       "    .dataframe tbody tr th {\n",
       "        vertical-align: top;\n",
       "    }\n",
       "\n",
       "    .dataframe thead th {\n",
       "        text-align: right;\n",
       "    }\n",
       "</style>\n",
       "<table border=\"1\" class=\"dataframe\">\n",
       "  <thead>\n",
       "    <tr style=\"text-align: right;\">\n",
       "      <th></th>\n",
       "      <th>funcMatricula</th>\n",
       "      <th>funcNome</th>\n",
       "      <th>funcSexo</th>\n",
       "      <th>funcDataNascimento</th>\n",
       "      <th>funcCidade</th>\n",
       "      <th>funcEstadoSigla</th>\n",
       "      <th>funcPaisSigla</th>\n",
       "      <th>funcDiaNascimento</th>\n",
       "      <th>funcMesNascimento</th>\n",
       "      <th>funcAnoNascimento</th>\n",
       "      <th>funcEstadoNome</th>\n",
       "      <th>funcRegiaoNome</th>\n",
       "      <th>funcRegiaoSigla</th>\n",
       "      <th>funcPaisNome</th>\n",
       "    </tr>\n",
       "  </thead>\n",
       "  <tbody>\n",
       "    <tr>\n",
       "      <th>0</th>\n",
       "      <td>2</td>\n",
       "      <td>Arao Alves</td>\n",
       "      <td>NaN</td>\n",
       "      <td>None</td>\n",
       "      <td>None</td>\n",
       "      <td>None</td>\n",
       "      <td>None</td>\n",
       "      <td>None</td>\n",
       "      <td>None</td>\n",
       "      <td>None</td>\n",
       "      <td>None</td>\n",
       "      <td>None</td>\n",
       "      <td>None</td>\n",
       "      <td>None</td>\n",
       "    </tr>\n",
       "    <tr>\n",
       "      <th>1</th>\n",
       "      <td>4</td>\n",
       "      <td>None</td>\n",
       "      <td>1.0</td>\n",
       "      <td>None</td>\n",
       "      <td>None</td>\n",
       "      <td>None</td>\n",
       "      <td>None</td>\n",
       "      <td>None</td>\n",
       "      <td>None</td>\n",
       "      <td>None</td>\n",
       "      <td>None</td>\n",
       "      <td>None</td>\n",
       "      <td>None</td>\n",
       "      <td>None</td>\n",
       "    </tr>\n",
       "    <tr>\n",
       "      <th>2</th>\n",
       "      <td>8</td>\n",
       "      <td>None</td>\n",
       "      <td>NaN</td>\n",
       "      <td>1990-08-08</td>\n",
       "      <td>None</td>\n",
       "      <td>None</td>\n",
       "      <td>None</td>\n",
       "      <td>None</td>\n",
       "      <td>None</td>\n",
       "      <td>None</td>\n",
       "      <td>None</td>\n",
       "      <td>None</td>\n",
       "      <td>None</td>\n",
       "      <td>None</td>\n",
       "    </tr>\n",
       "  </tbody>\n",
       "</table>\n",
       "</div>"
      ],
      "text/plain": [
       "   funcMatricula    funcNome  funcSexo funcDataNascimento funcCidade  \\\n",
       "0              2  Arao Alves       NaN               None       None   \n",
       "1              4        None       1.0               None       None   \n",
       "2              8        None       NaN         1990-08-08       None   \n",
       "\n",
       "  funcEstadoSigla funcPaisSigla funcDiaNascimento funcMesNascimento  \\\n",
       "0            None          None              None              None   \n",
       "1            None          None              None              None   \n",
       "2            None          None              None              None   \n",
       "\n",
       "  funcAnoNascimento funcEstadoNome funcRegiaoNome funcRegiaoSigla funcPaisNome  \n",
       "0              None           None           None            None         None  \n",
       "1              None           None           None            None         None  \n",
       "2              None           None           None            None         None  "
      ]
     },
     "execution_count": 32,
     "metadata": {},
     "output_type": "execute_result"
    }
   ],
   "source": [
    "colaboradorJSON.head(3)"
   ]
  },
  {
   "cell_type": "markdown",
   "metadata": {
    "id": "n0nKStGNNGO3"
   },
   "source": [
    "Para facilitar as manipulações que devem ser realizadas nas instâncias de  colaboradorJSON, foi criada uma classe em Python chamada `ProcessamentoFonteJSON`. Nessa classe, são criados vários métodos. Cada método é responsável pela tranformação de um dos atributos do conjunto de dados. Para essa fonte foram aplicados os seguintes mapeamentos: b (funcNome), c (funcSexo), d (funcDataNascimento), e (funcCidade), g (funcEstadoSigla), i (funcPaisSigla)."
   ]
  },
  {
   "cell_type": "code",
   "execution_count": 33,
   "metadata": {
    "id": "OWlGn_SRyaEt"
   },
   "outputs": [],
   "source": [
    "class ProcessamentoFonteJSON:\n",
    "  \"\"\"\n",
    "  Realiza a tranformacao de um dataframe com formato da fonte colaboradorJSON \n",
    "  para um dataframe que segue os padrões definidos pelo esquema de \n",
    "  relação funcionario.\n",
    "  \"\"\"\n",
    "\n",
    "  def __init__(self, dados_funcionario):\n",
    "    self.fonte_dados = dados_funcionario.copy(deep=True)\n",
    "\n",
    "  def processar_nome(self, nome):\n",
    "    \"\"\"\n",
    "    O atributo que representa a o nome do funcionário em colaboradorJSON \n",
    "    precisa ser transformado para caracteres maiúsculos. Essa função realiza \n",
    "    essa transformação.\n",
    "    \"\"\"\n",
    "    if pd.isna(nome):\n",
    "      return None\n",
    "\n",
    "    return nome.upper()\n",
    "    \n",
    "  def processar_sexo(self, sexo):\n",
    "    \"\"\"\n",
    "    O atributo que representa sexo em colaboradorJSON utiliza uma representação\n",
    "    binária, na qual o valor 0 representa masculino e 1 representa feminino. \n",
    "    Essa função é responsável por representar os valores de sexo como M e F,\n",
    "    respectivamente. \n",
    "    \"\"\"\n",
    "    if pd.isna(sexo):\n",
    "      return None\n",
    "\n",
    "    return 'M' if sexo == 0 else 'F'\n",
    "\n",
    "  def processar_data(self, data):\n",
    "    \"\"\"\n",
    "    O atributo que representa a data de nascimento em colaboradorJSON precisa \n",
    "    ser transformado para o formato 'dia/mês/ano'.  Essa função realiza essa\n",
    "    transformação.\n",
    "    \"\"\"\n",
    "    if pd.isna(data):\n",
    "      return None\n",
    "      \n",
    "    ano, mes, dia = data.split('-')\n",
    "    return '%02d/%02d/%d' % (int(dia), int(mes), int(ano))\n",
    "\n",
    "  def processar_cidade(self, cidade):\n",
    "    \"\"\"\n",
    "    O atributo que representa o nome da cidade em colaboradorJSON precisa ser\n",
    "    transformado para caracteres minúsculos. Essa função realiza essa\n",
    "    transformação.\n",
    "    \"\"\"\n",
    "    if pd.isna(cidade):\n",
    "      return None\n",
    "\n",
    "    return cidade.upper()\n",
    "    \n",
    "  def processar_estado_sigla(self, estado):\n",
    "    \"\"\"\n",
    "    O atributo que representa a sigla do estado em colaboradorJSON precisa ser\n",
    "    transformado para caracteres minúsculos. Essa função realiza essa\n",
    "    transformação.\n",
    "    \"\"\"\n",
    "    if pd.isna(estado):\n",
    "      return None\n",
    "\n",
    "    return estado.upper()\n",
    "\n",
    "  def processar_pais_sigla(self, pais):\n",
    "    \"\"\"\n",
    "    O atributo que representa a sigla do pais em colaboradorJSON \n",
    "    segue o mesmo padrão adotado pelo atributo funcPaisSigla de funcionario. \n",
    "    Portanto, não há necessidade de realizar transformação.\n",
    "    \"\"\"\n",
    "    if pd.isna(pais):\n",
    "      return None\n",
    "\n",
    "    return pais.upper()\n",
    "\n",
    "  def executar_transformacoes(self):\n",
    "    \"\"\"\n",
    "    Essa função processa cada atributo do dataframe composto pelos dados da \n",
    "    fonte colaboradorJSON\n",
    "    \"\"\"\n",
    "    self.fonte_dados['funcNome'] = self.fonte_dados.apply(lambda x : self.processar_nome(x['funcNome']), axis=1)\n",
    "    self.fonte_dados['funcSexo'] = self.fonte_dados.apply(lambda x : self.processar_sexo(x['funcSexo']), axis=1)\n",
    "    self.fonte_dados['funcDataNascimento'] = self.fonte_dados.apply(lambda x : self.processar_data(x['funcDataNascimento']), axis=1)\n",
    "    self.fonte_dados['funcCidade'] = self.fonte_dados.apply(lambda x : self.processar_cidade(x['funcCidade']), axis=1)\n",
    "    self.fonte_dados['funcEstadoSigla'] = self.fonte_dados.apply(lambda x : self.processar_estado_sigla(x['funcEstadoSigla']), axis=1)\n",
    "    self.fonte_dados['funcPaisSigla'] = self.fonte_dados.apply(lambda x : self.processar_pais_sigla(x['funcPaisSigla']), axis=1)\n",
    "    \n",
    "    return self.fonte_dados"
   ]
  },
  {
   "cell_type": "markdown",
   "metadata": {
    "id": "sQ5yvBiY2i8e"
   },
   "source": [
    "O primeiro comando a seguir realiza o processamento da fonte colaboradorJSON,  enquanto que o segundo comando mostra alguns funcionários de colaborador JSON depois de ser realizado o mapeamento para o tipo de dados e o formato de *funcionario*.\n"
   ]
  },
  {
   "cell_type": "code",
   "execution_count": 34,
   "metadata": {
    "id": "NBVIUgMS2-NQ"
   },
   "outputs": [],
   "source": [
    "novo_colaborador_JSON = ProcessamentoFonteJSON(colaboradorJSON).executar_transformacoes()"
   ]
  },
  {
   "cell_type": "code",
   "execution_count": 35,
   "metadata": {
    "id": "S836ui8oRR2P"
   },
   "outputs": [
    {
     "data": {
      "text/html": [
       "<div>\n",
       "<style scoped>\n",
       "    .dataframe tbody tr th:only-of-type {\n",
       "        vertical-align: middle;\n",
       "    }\n",
       "\n",
       "    .dataframe tbody tr th {\n",
       "        vertical-align: top;\n",
       "    }\n",
       "\n",
       "    .dataframe thead th {\n",
       "        text-align: right;\n",
       "    }\n",
       "</style>\n",
       "<table border=\"1\" class=\"dataframe\">\n",
       "  <thead>\n",
       "    <tr style=\"text-align: right;\">\n",
       "      <th></th>\n",
       "      <th>funcMatricula</th>\n",
       "      <th>funcNome</th>\n",
       "      <th>funcSexo</th>\n",
       "      <th>funcDataNascimento</th>\n",
       "      <th>funcCidade</th>\n",
       "      <th>funcEstadoSigla</th>\n",
       "      <th>funcPaisSigla</th>\n",
       "      <th>funcDiaNascimento</th>\n",
       "      <th>funcMesNascimento</th>\n",
       "      <th>funcAnoNascimento</th>\n",
       "      <th>funcEstadoNome</th>\n",
       "      <th>funcRegiaoNome</th>\n",
       "      <th>funcRegiaoSigla</th>\n",
       "      <th>funcPaisNome</th>\n",
       "    </tr>\n",
       "  </thead>\n",
       "  <tbody>\n",
       "    <tr>\n",
       "      <th>0</th>\n",
       "      <td>2</td>\n",
       "      <td>ARAO ALVES</td>\n",
       "      <td>None</td>\n",
       "      <td>None</td>\n",
       "      <td>None</td>\n",
       "      <td>None</td>\n",
       "      <td>None</td>\n",
       "      <td>None</td>\n",
       "      <td>None</td>\n",
       "      <td>None</td>\n",
       "      <td>None</td>\n",
       "      <td>None</td>\n",
       "      <td>None</td>\n",
       "      <td>None</td>\n",
       "    </tr>\n",
       "    <tr>\n",
       "      <th>1</th>\n",
       "      <td>4</td>\n",
       "      <td>None</td>\n",
       "      <td>F</td>\n",
       "      <td>None</td>\n",
       "      <td>None</td>\n",
       "      <td>None</td>\n",
       "      <td>None</td>\n",
       "      <td>None</td>\n",
       "      <td>None</td>\n",
       "      <td>None</td>\n",
       "      <td>None</td>\n",
       "      <td>None</td>\n",
       "      <td>None</td>\n",
       "      <td>None</td>\n",
       "    </tr>\n",
       "    <tr>\n",
       "      <th>2</th>\n",
       "      <td>8</td>\n",
       "      <td>None</td>\n",
       "      <td>None</td>\n",
       "      <td>08/08/1990</td>\n",
       "      <td>None</td>\n",
       "      <td>None</td>\n",
       "      <td>None</td>\n",
       "      <td>None</td>\n",
       "      <td>None</td>\n",
       "      <td>None</td>\n",
       "      <td>None</td>\n",
       "      <td>None</td>\n",
       "      <td>None</td>\n",
       "      <td>None</td>\n",
       "    </tr>\n",
       "    <tr>\n",
       "      <th>3</th>\n",
       "      <td>13</td>\n",
       "      <td>ARAO ALVES</td>\n",
       "      <td>M</td>\n",
       "      <td>None</td>\n",
       "      <td>None</td>\n",
       "      <td>RJ</td>\n",
       "      <td>BRA</td>\n",
       "      <td>None</td>\n",
       "      <td>None</td>\n",
       "      <td>None</td>\n",
       "      <td>None</td>\n",
       "      <td>None</td>\n",
       "      <td>None</td>\n",
       "      <td>None</td>\n",
       "    </tr>\n",
       "    <tr>\n",
       "      <th>4</th>\n",
       "      <td>52</td>\n",
       "      <td>ADAILTON COSTA</td>\n",
       "      <td>M</td>\n",
       "      <td>21/04/1951</td>\n",
       "      <td>RECIFE</td>\n",
       "      <td>PE</td>\n",
       "      <td>BRA</td>\n",
       "      <td>None</td>\n",
       "      <td>None</td>\n",
       "      <td>None</td>\n",
       "      <td>None</td>\n",
       "      <td>None</td>\n",
       "      <td>None</td>\n",
       "      <td>None</td>\n",
       "    </tr>\n",
       "  </tbody>\n",
       "</table>\n",
       "</div>"
      ],
      "text/plain": [
       "   funcMatricula        funcNome funcSexo funcDataNascimento funcCidade  \\\n",
       "0              2      ARAO ALVES     None               None       None   \n",
       "1              4            None        F               None       None   \n",
       "2              8            None     None         08/08/1990       None   \n",
       "3             13      ARAO ALVES        M               None       None   \n",
       "4             52  ADAILTON COSTA        M         21/04/1951     RECIFE   \n",
       "\n",
       "  funcEstadoSigla funcPaisSigla funcDiaNascimento funcMesNascimento  \\\n",
       "0            None          None              None              None   \n",
       "1            None          None              None              None   \n",
       "2            None          None              None              None   \n",
       "3              RJ           BRA              None              None   \n",
       "4              PE           BRA              None              None   \n",
       "\n",
       "  funcAnoNascimento funcEstadoNome funcRegiaoNome funcRegiaoSigla funcPaisNome  \n",
       "0              None           None           None            None         None  \n",
       "1              None           None           None            None         None  \n",
       "2              None           None           None            None         None  \n",
       "3              None           None           None            None         None  \n",
       "4              None           None           None            None         None  "
      ]
     },
     "execution_count": 35,
     "metadata": {},
     "output_type": "execute_result"
    }
   ],
   "source": [
    "novo_colaborador_JSON.head()"
   ]
  },
  {
   "cell_type": "markdown",
   "metadata": {
    "id": "NkRcq-GseInz"
   },
   "source": [
    "### 5.3 Considerando a fonte de dados empregadoPlanilha\n",
    "\n",
    "**EXERCÍCIO 5.** Para facilitar as manipulações que devem ser realizadas nas instâncias de  empregadoPlanilha, crie uma classe em Python chamada `ProcessamentoFontePlanilha`. Nessa classe, devem criados vários métodos. Cada método deve ser responsável pela tranformação de um dos atributos do conjunto de dados. Para essa fonte devem ser aplicados os seguintes mapeamentos: b) (funcNome), c (funcSexo), e (funcCidade), f (funcEstadoNome)."
   ]
  },
  {
   "cell_type": "code",
   "execution_count": 36,
   "metadata": {
    "id": "PYoYvkFeVpcT"
   },
   "outputs": [
    {
     "data": {
      "text/html": [
       "<div>\n",
       "<style scoped>\n",
       "    .dataframe tbody tr th:only-of-type {\n",
       "        vertical-align: middle;\n",
       "    }\n",
       "\n",
       "    .dataframe tbody tr th {\n",
       "        vertical-align: top;\n",
       "    }\n",
       "\n",
       "    .dataframe thead th {\n",
       "        text-align: right;\n",
       "    }\n",
       "</style>\n",
       "<table border=\"1\" class=\"dataframe\">\n",
       "  <thead>\n",
       "    <tr style=\"text-align: right;\">\n",
       "      <th></th>\n",
       "      <th>funcMatricula</th>\n",
       "      <th>funcNome</th>\n",
       "      <th>funcSexo</th>\n",
       "      <th>funcDataNascimento</th>\n",
       "      <th>funcCidade</th>\n",
       "      <th>funcEstadoNome</th>\n",
       "      <th>funcDiaNascimento</th>\n",
       "      <th>funcMesNascimento</th>\n",
       "      <th>funcAnoNascimento</th>\n",
       "      <th>funcEstadoSigla</th>\n",
       "      <th>funcRegiaoNome</th>\n",
       "      <th>funcRegiaoSigla</th>\n",
       "      <th>funcPaisNome</th>\n",
       "      <th>funcPaisSigla</th>\n",
       "    </tr>\n",
       "  </thead>\n",
       "  <tbody>\n",
       "    <tr>\n",
       "      <th>0</th>\n",
       "      <td>13</td>\n",
       "      <td>Dias, Abdiel</td>\n",
       "      <td>NaN</td>\n",
       "      <td>13/01/1990</td>\n",
       "      <td>Rio De Janeiro</td>\n",
       "      <td>Rio de Janeiro</td>\n",
       "      <td>None</td>\n",
       "      <td>None</td>\n",
       "      <td>None</td>\n",
       "      <td>None</td>\n",
       "      <td>None</td>\n",
       "      <td>None</td>\n",
       "      <td>None</td>\n",
       "      <td>None</td>\n",
       "    </tr>\n",
       "    <tr>\n",
       "      <th>1</th>\n",
       "      <td>16</td>\n",
       "      <td>NaN</td>\n",
       "      <td>NaN</td>\n",
       "      <td>NaN</td>\n",
       "      <td>Praia Seca</td>\n",
       "      <td>Rio de Janeiro</td>\n",
       "      <td>None</td>\n",
       "      <td>None</td>\n",
       "      <td>None</td>\n",
       "      <td>None</td>\n",
       "      <td>None</td>\n",
       "      <td>None</td>\n",
       "      <td>None</td>\n",
       "      <td>None</td>\n",
       "    </tr>\n",
       "    <tr>\n",
       "      <th>2</th>\n",
       "      <td>32</td>\n",
       "      <td>Costa, Abdiel</td>\n",
       "      <td>NaN</td>\n",
       "      <td>NaN</td>\n",
       "      <td>Piracicaba</td>\n",
       "      <td>Sao Paulo</td>\n",
       "      <td>None</td>\n",
       "      <td>None</td>\n",
       "      <td>None</td>\n",
       "      <td>None</td>\n",
       "      <td>None</td>\n",
       "      <td>None</td>\n",
       "      <td>None</td>\n",
       "      <td>None</td>\n",
       "    </tr>\n",
       "    <tr>\n",
       "      <th>3</th>\n",
       "      <td>66</td>\n",
       "      <td>NaN</td>\n",
       "      <td>NaN</td>\n",
       "      <td>05/06/1965</td>\n",
       "      <td>NaN</td>\n",
       "      <td>Sao Paulo</td>\n",
       "      <td>None</td>\n",
       "      <td>None</td>\n",
       "      <td>None</td>\n",
       "      <td>None</td>\n",
       "      <td>None</td>\n",
       "      <td>None</td>\n",
       "      <td>None</td>\n",
       "      <td>None</td>\n",
       "    </tr>\n",
       "    <tr>\n",
       "      <th>4</th>\n",
       "      <td>67</td>\n",
       "      <td>Borges, Adelma</td>\n",
       "      <td>NaN</td>\n",
       "      <td>NaN</td>\n",
       "      <td>Rio De Janeiro</td>\n",
       "      <td>Rio de Janeiro</td>\n",
       "      <td>None</td>\n",
       "      <td>None</td>\n",
       "      <td>None</td>\n",
       "      <td>None</td>\n",
       "      <td>None</td>\n",
       "      <td>None</td>\n",
       "      <td>None</td>\n",
       "      <td>None</td>\n",
       "    </tr>\n",
       "    <tr>\n",
       "      <th>5</th>\n",
       "      <td>77</td>\n",
       "      <td>Ferreira, Abener</td>\n",
       "      <td>Masculino</td>\n",
       "      <td>16/5/1976</td>\n",
       "      <td>Guaratuba</td>\n",
       "      <td>Parana</td>\n",
       "      <td>None</td>\n",
       "      <td>None</td>\n",
       "      <td>None</td>\n",
       "      <td>None</td>\n",
       "      <td>None</td>\n",
       "      <td>None</td>\n",
       "      <td>None</td>\n",
       "      <td>None</td>\n",
       "    </tr>\n",
       "    <tr>\n",
       "      <th>6</th>\n",
       "      <td>78</td>\n",
       "      <td>Garcia, Adenir</td>\n",
       "      <td>Masculino</td>\n",
       "      <td>17/6/1977</td>\n",
       "      <td>Morretes</td>\n",
       "      <td>Parana</td>\n",
       "      <td>None</td>\n",
       "      <td>None</td>\n",
       "      <td>None</td>\n",
       "      <td>None</td>\n",
       "      <td>None</td>\n",
       "      <td>None</td>\n",
       "      <td>None</td>\n",
       "      <td>None</td>\n",
       "    </tr>\n",
       "    <tr>\n",
       "      <th>7</th>\n",
       "      <td>79</td>\n",
       "      <td>Gomes, Adenil</td>\n",
       "      <td>Masculino</td>\n",
       "      <td>18/7/1978</td>\n",
       "      <td>Recife</td>\n",
       "      <td>Pernambuco</td>\n",
       "      <td>None</td>\n",
       "      <td>None</td>\n",
       "      <td>None</td>\n",
       "      <td>None</td>\n",
       "      <td>None</td>\n",
       "      <td>None</td>\n",
       "      <td>None</td>\n",
       "      <td>None</td>\n",
       "    </tr>\n",
       "    <tr>\n",
       "      <th>8</th>\n",
       "      <td>80</td>\n",
       "      <td>Lima, Abener</td>\n",
       "      <td>Masculino</td>\n",
       "      <td>19/8/1979</td>\n",
       "      <td>Recife</td>\n",
       "      <td>Pernambuco</td>\n",
       "      <td>None</td>\n",
       "      <td>None</td>\n",
       "      <td>None</td>\n",
       "      <td>None</td>\n",
       "      <td>None</td>\n",
       "      <td>None</td>\n",
       "      <td>None</td>\n",
       "      <td>None</td>\n",
       "    </tr>\n",
       "    <tr>\n",
       "      <th>9</th>\n",
       "      <td>81</td>\n",
       "      <td>Almeida, Adenevaldo</td>\n",
       "      <td>Masculino</td>\n",
       "      <td>20/9/1980</td>\n",
       "      <td>Recife</td>\n",
       "      <td>Pernambuco</td>\n",
       "      <td>None</td>\n",
       "      <td>None</td>\n",
       "      <td>None</td>\n",
       "      <td>None</td>\n",
       "      <td>None</td>\n",
       "      <td>None</td>\n",
       "      <td>None</td>\n",
       "      <td>None</td>\n",
       "    </tr>\n",
       "  </tbody>\n",
       "</table>\n",
       "</div>"
      ],
      "text/plain": [
       "   funcMatricula             funcNome   funcSexo funcDataNascimento  \\\n",
       "0             13         Dias, Abdiel        NaN         13/01/1990   \n",
       "1             16                  NaN        NaN                NaN   \n",
       "2             32        Costa, Abdiel        NaN                NaN   \n",
       "3             66                  NaN        NaN         05/06/1965   \n",
       "4             67       Borges, Adelma        NaN                NaN   \n",
       "5             77     Ferreira, Abener  Masculino          16/5/1976   \n",
       "6             78       Garcia, Adenir  Masculino          17/6/1977   \n",
       "7             79        Gomes, Adenil  Masculino          18/7/1978   \n",
       "8             80         Lima, Abener  Masculino          19/8/1979   \n",
       "9             81  Almeida, Adenevaldo  Masculino          20/9/1980   \n",
       "\n",
       "       funcCidade  funcEstadoNome funcDiaNascimento funcMesNascimento  \\\n",
       "0  Rio De Janeiro  Rio de Janeiro              None              None   \n",
       "1      Praia Seca  Rio de Janeiro              None              None   \n",
       "2      Piracicaba       Sao Paulo              None              None   \n",
       "3             NaN       Sao Paulo              None              None   \n",
       "4  Rio De Janeiro  Rio de Janeiro              None              None   \n",
       "5       Guaratuba          Parana              None              None   \n",
       "6        Morretes          Parana              None              None   \n",
       "7          Recife      Pernambuco              None              None   \n",
       "8          Recife      Pernambuco              None              None   \n",
       "9          Recife      Pernambuco              None              None   \n",
       "\n",
       "  funcAnoNascimento funcEstadoSigla funcRegiaoNome funcRegiaoSigla  \\\n",
       "0              None            None           None            None   \n",
       "1              None            None           None            None   \n",
       "2              None            None           None            None   \n",
       "3              None            None           None            None   \n",
       "4              None            None           None            None   \n",
       "5              None            None           None            None   \n",
       "6              None            None           None            None   \n",
       "7              None            None           None            None   \n",
       "8              None            None           None            None   \n",
       "9              None            None           None            None   \n",
       "\n",
       "  funcPaisNome funcPaisSigla  \n",
       "0         None          None  \n",
       "1         None          None  \n",
       "2         None          None  \n",
       "3         None          None  \n",
       "4         None          None  \n",
       "5         None          None  \n",
       "6         None          None  \n",
       "7         None          None  \n",
       "8         None          None  \n",
       "9         None          None  "
      ]
     },
     "execution_count": 36,
     "metadata": {},
     "output_type": "execute_result"
    }
   ],
   "source": [
    "# visualize a estrutura atual, para em seguida definir como criar a classe de processamento\n",
    "empregadoPlanilha.head(10)"
   ]
  },
  {
   "cell_type": "code",
   "execution_count": 39,
   "metadata": {
    "id": "L-eItG_MVpLa"
   },
   "outputs": [],
   "source": [
    "class ProcessamentoFontePlanilha:\n",
    "  \"\"\"\n",
    "  Realiza a tranformacao de um dataframe com formato da fonte 3 (Planilha) para\n",
    "  um dataframe que segue os padrões definidos pelo data warehouse\n",
    "  \"\"\"\n",
    "\n",
    "  def __init__(self, dados_funcionario):\n",
    "    self.fonte_dados = dados_funcionario.copy(deep=True)\n",
    "\n",
    "  # ...\n",
    "  # adicione os metodos a serem utilizados aqui\n",
    "  def processar_nome(self, nome):\n",
    "    \"\"\"\n",
    "    O atributo que representa a o nome do funcionário em empregadoPlanilha \n",
    "    precisa ser transformado para caracteres maiúsculos. Essa função realiza \n",
    "    essa transformação.\n",
    "    \"\"\"\n",
    "    if pd.isna(nome):\n",
    "      return None\n",
    "\n",
    "    ultimo, primeiro = nome.split(', ', maxsplit=1)\n",
    "    nome = '%s %s' % (primeiro.upper(), ultimo.upper())\n",
    "    return nome\n",
    "    \n",
    "  def processar_sexo(self, sexo):\n",
    "    \"\"\"\n",
    "    O atributo que representa sexo em empregadoPlanilha utiliza uma representação\n",
    "    binária, na qual o valor 0 representa Masculino e 1 representa Feminino. \n",
    "    Essa função é responsável por representar os valores de sexo como M e F,\n",
    "    respectivamente. \n",
    "    \"\"\"\n",
    "    if pd.isna(sexo):\n",
    "        return None\n",
    "\n",
    "    return 'M' if sexo == 'Masculino' else 'F'\n",
    "\n",
    "  def processar_cidade(self, cidade):\n",
    "    \"\"\"\n",
    "    O atributo que representa o nome da cidade em empregadoPlanilha precisa ser\n",
    "    transformado para caracteres maiúsculos. Essa função realiza essa\n",
    "    transformação.\n",
    "    \"\"\"\n",
    "    if pd.isna(cidade):\n",
    "        return None\n",
    "\n",
    "    return cidade.upper()\n",
    "    \n",
    "  def processar_estado(self, estado):\n",
    "    \"\"\"\n",
    "    O atributo que representa o nome do estado em empregadoPlanilha \n",
    "    precisa ser transformado para caracteres maiúsculos. Essa função realiza \n",
    "    essa transformação.\n",
    "    \"\"\"\n",
    "    if pd.isna(estado):\n",
    "        return None\n",
    "\n",
    "    return estado.upper()\n",
    "  # ...                                                              \n",
    "  def executar_transformacoes(self):\n",
    "    \"\"\"Processa cada atributo do dataframe composto por dados da fonte 3 (Planilha)\n",
    "    \"\"\"\n",
    "    self.fonte_dados['funcNome'] = self.fonte_dados.apply(lambda x : self.processar_nome(x['funcNome']), axis=1)\n",
    "    self.fonte_dados['funcSexo'] = self.fonte_dados.apply(lambda x : self.processar_sexo(x['funcSexo']), axis=1)\n",
    "    self.fonte_dados['funcCidade'] = self.fonte_dados.apply(lambda x : self.processar_cidade(x['funcCidade']), axis=1)\n",
    "    self.fonte_dados['funcEstadoNome'] = self.fonte_dados.apply(lambda x : self.processar_estado(x['funcEstadoNome']), axis=1)\n",
    "\n",
    "    return self.fonte_dados                                                                \n",
    "                                                                \n",
    "        "
   ]
  },
  {
   "cell_type": "code",
   "execution_count": 40,
   "metadata": {
    "id": "K0vQi5YSVpr9"
   },
   "outputs": [],
   "source": [
    "# visualize o resultado\n",
    "novo_empregado_planilha = ProcessamentoFontePlanilha(empregadoPlanilha).executar_transformacoes()"
   ]
  },
  {
   "cell_type": "code",
   "execution_count": 41,
   "metadata": {
    "id": "B-skucmhVu-A"
   },
   "outputs": [
    {
     "data": {
      "text/html": [
       "<div>\n",
       "<style scoped>\n",
       "    .dataframe tbody tr th:only-of-type {\n",
       "        vertical-align: middle;\n",
       "    }\n",
       "\n",
       "    .dataframe tbody tr th {\n",
       "        vertical-align: top;\n",
       "    }\n",
       "\n",
       "    .dataframe thead th {\n",
       "        text-align: right;\n",
       "    }\n",
       "</style>\n",
       "<table border=\"1\" class=\"dataframe\">\n",
       "  <thead>\n",
       "    <tr style=\"text-align: right;\">\n",
       "      <th></th>\n",
       "      <th>funcMatricula</th>\n",
       "      <th>funcNome</th>\n",
       "      <th>funcSexo</th>\n",
       "      <th>funcDataNascimento</th>\n",
       "      <th>funcCidade</th>\n",
       "      <th>funcEstadoNome</th>\n",
       "      <th>funcDiaNascimento</th>\n",
       "      <th>funcMesNascimento</th>\n",
       "      <th>funcAnoNascimento</th>\n",
       "      <th>funcEstadoSigla</th>\n",
       "      <th>funcRegiaoNome</th>\n",
       "      <th>funcRegiaoSigla</th>\n",
       "      <th>funcPaisNome</th>\n",
       "      <th>funcPaisSigla</th>\n",
       "    </tr>\n",
       "  </thead>\n",
       "  <tbody>\n",
       "    <tr>\n",
       "      <th>0</th>\n",
       "      <td>13</td>\n",
       "      <td>ABDIEL DIAS</td>\n",
       "      <td>None</td>\n",
       "      <td>13/01/1990</td>\n",
       "      <td>RIO DE JANEIRO</td>\n",
       "      <td>RIO DE JANEIRO</td>\n",
       "      <td>None</td>\n",
       "      <td>None</td>\n",
       "      <td>None</td>\n",
       "      <td>None</td>\n",
       "      <td>None</td>\n",
       "      <td>None</td>\n",
       "      <td>None</td>\n",
       "      <td>None</td>\n",
       "    </tr>\n",
       "    <tr>\n",
       "      <th>1</th>\n",
       "      <td>16</td>\n",
       "      <td>None</td>\n",
       "      <td>None</td>\n",
       "      <td>NaN</td>\n",
       "      <td>PRAIA SECA</td>\n",
       "      <td>RIO DE JANEIRO</td>\n",
       "      <td>None</td>\n",
       "      <td>None</td>\n",
       "      <td>None</td>\n",
       "      <td>None</td>\n",
       "      <td>None</td>\n",
       "      <td>None</td>\n",
       "      <td>None</td>\n",
       "      <td>None</td>\n",
       "    </tr>\n",
       "    <tr>\n",
       "      <th>2</th>\n",
       "      <td>32</td>\n",
       "      <td>ABDIEL COSTA</td>\n",
       "      <td>None</td>\n",
       "      <td>NaN</td>\n",
       "      <td>PIRACICABA</td>\n",
       "      <td>SAO PAULO</td>\n",
       "      <td>None</td>\n",
       "      <td>None</td>\n",
       "      <td>None</td>\n",
       "      <td>None</td>\n",
       "      <td>None</td>\n",
       "      <td>None</td>\n",
       "      <td>None</td>\n",
       "      <td>None</td>\n",
       "    </tr>\n",
       "    <tr>\n",
       "      <th>3</th>\n",
       "      <td>66</td>\n",
       "      <td>None</td>\n",
       "      <td>None</td>\n",
       "      <td>05/06/1965</td>\n",
       "      <td>None</td>\n",
       "      <td>SAO PAULO</td>\n",
       "      <td>None</td>\n",
       "      <td>None</td>\n",
       "      <td>None</td>\n",
       "      <td>None</td>\n",
       "      <td>None</td>\n",
       "      <td>None</td>\n",
       "      <td>None</td>\n",
       "      <td>None</td>\n",
       "    </tr>\n",
       "    <tr>\n",
       "      <th>4</th>\n",
       "      <td>67</td>\n",
       "      <td>ADELMA BORGES</td>\n",
       "      <td>None</td>\n",
       "      <td>NaN</td>\n",
       "      <td>RIO DE JANEIRO</td>\n",
       "      <td>RIO DE JANEIRO</td>\n",
       "      <td>None</td>\n",
       "      <td>None</td>\n",
       "      <td>None</td>\n",
       "      <td>None</td>\n",
       "      <td>None</td>\n",
       "      <td>None</td>\n",
       "      <td>None</td>\n",
       "      <td>None</td>\n",
       "    </tr>\n",
       "  </tbody>\n",
       "</table>\n",
       "</div>"
      ],
      "text/plain": [
       "   funcMatricula       funcNome funcSexo funcDataNascimento      funcCidade  \\\n",
       "0             13    ABDIEL DIAS     None         13/01/1990  RIO DE JANEIRO   \n",
       "1             16           None     None                NaN      PRAIA SECA   \n",
       "2             32   ABDIEL COSTA     None                NaN      PIRACICABA   \n",
       "3             66           None     None         05/06/1965            None   \n",
       "4             67  ADELMA BORGES     None                NaN  RIO DE JANEIRO   \n",
       "\n",
       "   funcEstadoNome funcDiaNascimento funcMesNascimento funcAnoNascimento  \\\n",
       "0  RIO DE JANEIRO              None              None              None   \n",
       "1  RIO DE JANEIRO              None              None              None   \n",
       "2       SAO PAULO              None              None              None   \n",
       "3       SAO PAULO              None              None              None   \n",
       "4  RIO DE JANEIRO              None              None              None   \n",
       "\n",
       "  funcEstadoSigla funcRegiaoNome funcRegiaoSigla funcPaisNome funcPaisSigla  \n",
       "0            None           None            None         None          None  \n",
       "1            None           None            None         None          None  \n",
       "2            None           None            None         None          None  \n",
       "3            None           None            None         None          None  \n",
       "4            None           None            None         None          None  "
      ]
     },
     "execution_count": 41,
     "metadata": {},
     "output_type": "execute_result"
    }
   ],
   "source": [
    "# visualize o resultado\n",
    "novo_empregado_planilha.head()"
   ]
  },
  {
   "cell_type": "markdown",
   "metadata": {
    "id": "G-bh-FLTUHiK"
   },
   "source": [
    "### 5.4 Integrando as instâncias\n",
    "\n",
    "Todas as instâncias presentes em novo_funcionario_relacional e novo_colaborador_JSON devem ser integradas. \n",
    "\n",
    "Apenas para relembrar, existem funcionários presentes tanto em funcionarioRelacional quanto em colaboradorJSON. O comando a seguir mostra alguns exemplos de colunas que possuem valores diferentes de atributos. Colunas com sufixo `_x` representam colunas de novo_funcionario_relacional, enquanto que colunas com sufixo `_y` representam colunas de novo_colaborador_JSON. "
   ]
  },
  {
   "cell_type": "code",
   "execution_count": 42,
   "metadata": {
    "id": "n6P7ZwYrQMmw"
   },
   "outputs": [
    {
     "data": {
      "text/html": [
       "<div>\n",
       "<style scoped>\n",
       "    .dataframe tbody tr th:only-of-type {\n",
       "        vertical-align: middle;\n",
       "    }\n",
       "\n",
       "    .dataframe tbody tr th {\n",
       "        vertical-align: top;\n",
       "    }\n",
       "\n",
       "    .dataframe thead th {\n",
       "        text-align: right;\n",
       "    }\n",
       "</style>\n",
       "<table border=\"1\" class=\"dataframe\">\n",
       "  <thead>\n",
       "    <tr style=\"text-align: right;\">\n",
       "      <th></th>\n",
       "      <th>funcNome_x</th>\n",
       "      <th>funcNome_y</th>\n",
       "      <th>funcCidade_x</th>\n",
       "      <th>funcCidade_y</th>\n",
       "      <th>funcPaisNome_x</th>\n",
       "      <th>funcPaisSigla_y</th>\n",
       "    </tr>\n",
       "  </thead>\n",
       "  <tbody>\n",
       "    <tr>\n",
       "      <th>0</th>\n",
       "      <td>NaN</td>\n",
       "      <td>ARAO ALVES</td>\n",
       "      <td>CAMPINAS</td>\n",
       "      <td>None</td>\n",
       "      <td>BRASIL</td>\n",
       "      <td>None</td>\n",
       "    </tr>\n",
       "    <tr>\n",
       "      <th>1</th>\n",
       "      <td>ADA BARBOSA</td>\n",
       "      <td>None</td>\n",
       "      <td>SANTO ANDRE</td>\n",
       "      <td>None</td>\n",
       "      <td>BRASIL</td>\n",
       "      <td>None</td>\n",
       "    </tr>\n",
       "    <tr>\n",
       "      <th>2</th>\n",
       "      <td>ABADIAS CAMPOS</td>\n",
       "      <td>None</td>\n",
       "      <td>ILHA BELA</td>\n",
       "      <td>None</td>\n",
       "      <td>BRASIL</td>\n",
       "      <td>None</td>\n",
       "    </tr>\n",
       "    <tr>\n",
       "      <th>3</th>\n",
       "      <td>ABDIEL DIAS</td>\n",
       "      <td>ARAO ALVES</td>\n",
       "      <td>RIO DE JANEIRO</td>\n",
       "      <td>None</td>\n",
       "      <td>BRASIL</td>\n",
       "      <td>BRA</td>\n",
       "    </tr>\n",
       "    <tr>\n",
       "      <th>4</th>\n",
       "      <td>ABILIO BARBOSA</td>\n",
       "      <td>None</td>\n",
       "      <td>None</td>\n",
       "      <td>OSASCO</td>\n",
       "      <td>None</td>\n",
       "      <td>BRA</td>\n",
       "    </tr>\n",
       "    <tr>\n",
       "      <th>5</th>\n",
       "      <td>ADELMA BORGES</td>\n",
       "      <td>None</td>\n",
       "      <td>None</td>\n",
       "      <td>None</td>\n",
       "      <td>BRASIL</td>\n",
       "      <td>None</td>\n",
       "    </tr>\n",
       "    <tr>\n",
       "      <th>6</th>\n",
       "      <td>ADENIAS ANDRADE</td>\n",
       "      <td>ADENIAS ANDRADE</td>\n",
       "      <td>CAMPINAS</td>\n",
       "      <td>None</td>\n",
       "      <td>None</td>\n",
       "      <td>BRA</td>\n",
       "    </tr>\n",
       "  </tbody>\n",
       "</table>\n",
       "</div>"
      ],
      "text/plain": [
       "        funcNome_x       funcNome_y    funcCidade_x funcCidade_y  \\\n",
       "0              NaN       ARAO ALVES        CAMPINAS         None   \n",
       "1      ADA BARBOSA             None     SANTO ANDRE         None   \n",
       "2   ABADIAS CAMPOS             None       ILHA BELA         None   \n",
       "3      ABDIEL DIAS       ARAO ALVES  RIO DE JANEIRO         None   \n",
       "4   ABILIO BARBOSA             None            None       OSASCO   \n",
       "5    ADELMA BORGES             None            None         None   \n",
       "6  ADENIAS ANDRADE  ADENIAS ANDRADE        CAMPINAS         None   \n",
       "\n",
       "  funcPaisNome_x funcPaisSigla_y  \n",
       "0         BRASIL            None  \n",
       "1         BRASIL            None  \n",
       "2         BRASIL            None  \n",
       "3         BRASIL             BRA  \n",
       "4           None             BRA  \n",
       "5         BRASIL            None  \n",
       "6           None             BRA  "
      ]
     },
     "execution_count": 42,
     "metadata": {},
     "output_type": "execute_result"
    }
   ],
   "source": [
    "colunas_display = ['funcNome_x', 'funcNome_y', 'funcCidade_x', 'funcCidade_y', 'funcPaisNome_x', 'funcPaisSigla_y']\n",
    "novo_funcionario_relacional.merge(right=novo_colaborador_JSON, on='funcMatricula')[colunas_display]"
   ]
  },
  {
   "cell_type": "markdown",
   "metadata": {
    "id": "X0A_BnWvQHCU"
   },
   "source": [
    "Para facilitar o processo, a coluna `funcMatricula` é transformada em índice do `DataFrame`."
   ]
  },
  {
   "cell_type": "code",
   "execution_count": 43,
   "metadata": {
    "id": "Pq3E7f1eg5Js"
   },
   "outputs": [],
   "source": [
    "def preprocessamento_dataframe(df):\n",
    "  \"\"\"\n",
    "  Clona o DataFrame, e altera o indice para funcMatricula\n",
    "  \"\"\"\n",
    "  ndf = df.copy(deep=True)\n",
    "  return ndf.set_index('funcMatricula')"
   ]
  },
  {
   "cell_type": "code",
   "execution_count": 44,
   "metadata": {
    "id": "H8Kst8LbhIgs"
   },
   "outputs": [],
   "source": [
    "novo_funcionario_relacional = preprocessamento_dataframe(novo_funcionario_relacional)\n",
    "novo_colaborador_JSON = preprocessamento_dataframe(novo_colaborador_JSON)\n",
    "novo_empregado_planilha = preprocessamento_dataframe(novo_empregado_planilha)"
   ]
  },
  {
   "cell_type": "markdown",
   "metadata": {
    "id": "T0Urcxn1gTDv"
   },
   "source": [
    "Um aspecto importante considerado na integração de instâncias é a confiabilidade das fontes, definida da seguinte forma: a fonte 1 é a mais confiável, seguida pela fonte 2, seguida pela fonte 3 que é a fonte menos confiável.\n",
    "\n",
    "O comando a seguir escolhe o valor do atributo mais confiável tendo como entrada 2 fontes representadas por A e B."
   ]
  },
  {
   "cell_type": "code",
   "execution_count": 45,
   "metadata": {
    "id": "V4hPLLQ6ULOZ"
   },
   "outputs": [],
   "source": [
    "def processar_conflitos(indices, fonte_A, fonte_B):\n",
    "  \"\"\"\n",
    "  Processa os conflitos das fontes com base na confiabilidade das mesmas,\n",
    "  Sendo a fonte_A a mais confiável.\n",
    "  \"\"\"\n",
    "  columns = fonte_A.columns\n",
    "  for index in indices:\n",
    "    a = fonte_A.loc[index]\n",
    "    b = fonte_B.loc[index]\n",
    "    for column in columns:\n",
    "      fonte_A.at[index, column] = b[column] if pd.isna(a[column]) else a[column]\n",
    "  return fonte_A"
   ]
  },
  {
   "cell_type": "markdown",
   "metadata": {
    "id": "SdkAcA8WgTNt"
   },
   "source": [
    "O comando a seguir integra instâncias presentes tanto em novo_funcionario_relacional quanto em novo_colaborador_JSON usando como base a confiabilidade das fontes. Os valores dos atributos do primeiro `DataFrame` são escolhidos a menos que sejam valores nulos. Nesse caso, são escolhidos os valores dos atributos do segundo `DataFrame`. Note que, em `df_processado`, são armazenados todos os funcionários da fonte funcionarioRelacional, sendo que, para os funcionários presentes também em colaboradorJSON, ocorre a resolução dos valores dos atributos."
   ]
  },
  {
   "cell_type": "code",
   "execution_count": 46,
   "metadata": {
    "id": "Uei9anQtfnA2"
   },
   "outputs": [],
   "source": [
    "# comandos para resolver indices do conflito da fonte 1 (mais confiável) e fonte 2\n",
    "# DataFrame de conflito entre a fonte 1 e fonte 2\n",
    "indices = funcionario_colaborador['funcMatricula'].tolist()\n",
    "# processa a integracao\n",
    "df_processado = processar_conflitos(indices, novo_funcionario_relacional, novo_colaborador_JSON)"
   ]
  },
  {
   "cell_type": "code",
   "execution_count": 47,
   "metadata": {
    "id": "1yS3maIlljYD"
   },
   "outputs": [
    {
     "data": {
      "text/html": [
       "<div>\n",
       "<style scoped>\n",
       "    .dataframe tbody tr th:only-of-type {\n",
       "        vertical-align: middle;\n",
       "    }\n",
       "\n",
       "    .dataframe tbody tr th {\n",
       "        vertical-align: top;\n",
       "    }\n",
       "\n",
       "    .dataframe thead th {\n",
       "        text-align: right;\n",
       "    }\n",
       "</style>\n",
       "<table border=\"1\" class=\"dataframe\">\n",
       "  <thead>\n",
       "    <tr style=\"text-align: right;\">\n",
       "      <th></th>\n",
       "      <th>funcNome</th>\n",
       "      <th>funcCidade</th>\n",
       "      <th>funcPaisNome</th>\n",
       "      <th>funcPaisSigla</th>\n",
       "    </tr>\n",
       "    <tr>\n",
       "      <th>funcMatricula</th>\n",
       "      <th></th>\n",
       "      <th></th>\n",
       "      <th></th>\n",
       "      <th></th>\n",
       "    </tr>\n",
       "  </thead>\n",
       "  <tbody>\n",
       "    <tr>\n",
       "      <th>2</th>\n",
       "      <td>ARAO ALVES</td>\n",
       "      <td>CAMPINAS</td>\n",
       "      <td>BRASIL</td>\n",
       "      <td>None</td>\n",
       "    </tr>\n",
       "    <tr>\n",
       "      <th>4</th>\n",
       "      <td>ADA BARBOSA</td>\n",
       "      <td>SANTO ANDRE</td>\n",
       "      <td>BRASIL</td>\n",
       "      <td>None</td>\n",
       "    </tr>\n",
       "    <tr>\n",
       "      <th>8</th>\n",
       "      <td>ABADIAS CAMPOS</td>\n",
       "      <td>ILHA BELA</td>\n",
       "      <td>BRASIL</td>\n",
       "      <td>None</td>\n",
       "    </tr>\n",
       "    <tr>\n",
       "      <th>13</th>\n",
       "      <td>ABDIEL DIAS</td>\n",
       "      <td>RIO DE JANEIRO</td>\n",
       "      <td>BRASIL</td>\n",
       "      <td>BRA</td>\n",
       "    </tr>\n",
       "    <tr>\n",
       "      <th>64</th>\n",
       "      <td>ABILIO BARBOSA</td>\n",
       "      <td>OSASCO</td>\n",
       "      <td>None</td>\n",
       "      <td>BRA</td>\n",
       "    </tr>\n",
       "    <tr>\n",
       "      <th>67</th>\n",
       "      <td>ADELMA BORGES</td>\n",
       "      <td>None</td>\n",
       "      <td>BRASIL</td>\n",
       "      <td>None</td>\n",
       "    </tr>\n",
       "    <tr>\n",
       "      <th>83</th>\n",
       "      <td>ADENIAS ANDRADE</td>\n",
       "      <td>CAMPINAS</td>\n",
       "      <td>None</td>\n",
       "      <td>BRA</td>\n",
       "    </tr>\n",
       "  </tbody>\n",
       "</table>\n",
       "</div>"
      ],
      "text/plain": [
       "                      funcNome      funcCidade funcPaisNome funcPaisSigla\n",
       "funcMatricula                                                            \n",
       "2                   ARAO ALVES        CAMPINAS       BRASIL          None\n",
       "4                  ADA BARBOSA     SANTO ANDRE       BRASIL          None\n",
       "8               ABADIAS CAMPOS       ILHA BELA       BRASIL          None\n",
       "13                 ABDIEL DIAS  RIO DE JANEIRO       BRASIL           BRA\n",
       "64              ABILIO BARBOSA          OSASCO         None           BRA\n",
       "67               ADELMA BORGES            None       BRASIL          None\n",
       "83             ADENIAS ANDRADE        CAMPINAS         None           BRA"
      ]
     },
     "execution_count": 47,
     "metadata": {},
     "output_type": "execute_result"
    }
   ],
   "source": [
    "# visualiza o resultado da integração, adicao de valores a fonte 1, provenientes da fonte 2\n",
    "df_processado.loc[indices][['funcNome', 'funcCidade', 'funcPaisNome', 'funcPaisSigla']]"
   ]
  },
  {
   "cell_type": "markdown",
   "metadata": {
    "id": "5EF8mCZJgWSl"
   },
   "source": [
    "**EXERCÍCIO 6.** Realize comandos para integrar as instâncias, conforme especificado a seguir.\n"
   ]
  },
  {
   "cell_type": "markdown",
   "metadata": {
    "id": "j25Gx1e1XGZo"
   },
   "source": [
    "**EXERCÍCIO 6a.** Realize os dois comandos que aparecem no comentário # comandos para resolver indices ..., porém, considerando conflitos entre a fonte 1 (mais confiável) e a fonte 3 (menos confiável). Para gerar `df_processado`, deve ser usado duas fontes: `df_processado` e `novo_empregado_planilha`. Além disso, utilize o `DataFrame` resultante do conflito da fonte 1 e fonte 3 para identificar os `indices`."
   ]
  },
  {
   "cell_type": "code",
   "execution_count": 51,
   "metadata": {
    "id": "RSeeAXN8XJ64"
   },
   "outputs": [],
   "source": [
    "# comandos para resolver indices do conflito da fonte 1 (mais confiável) e fonte 3\n",
    "# DataFrame de conflito entre a fonte 1 e fonte 3\n",
    "indices = funcionario_empregado['funcMatricula'].tolist()\n",
    "# processa a integracao\n",
    "df_processado = processar_conflitos(indices, df_processado, novo_empregado_planilha)"
   ]
  },
  {
   "cell_type": "code",
   "execution_count": 52,
   "metadata": {
    "id": "IGEYH0NNYmBf"
   },
   "outputs": [
    {
     "data": {
      "text/html": [
       "<div>\n",
       "<style scoped>\n",
       "    .dataframe tbody tr th:only-of-type {\n",
       "        vertical-align: middle;\n",
       "    }\n",
       "\n",
       "    .dataframe tbody tr th {\n",
       "        vertical-align: top;\n",
       "    }\n",
       "\n",
       "    .dataframe thead th {\n",
       "        text-align: right;\n",
       "    }\n",
       "</style>\n",
       "<table border=\"1\" class=\"dataframe\">\n",
       "  <thead>\n",
       "    <tr style=\"text-align: right;\">\n",
       "      <th></th>\n",
       "      <th>funcNome</th>\n",
       "      <th>funcCidade</th>\n",
       "      <th>funcPaisNome</th>\n",
       "      <th>funcPaisSigla</th>\n",
       "    </tr>\n",
       "    <tr>\n",
       "      <th>funcMatricula</th>\n",
       "      <th></th>\n",
       "      <th></th>\n",
       "      <th></th>\n",
       "      <th></th>\n",
       "    </tr>\n",
       "  </thead>\n",
       "  <tbody>\n",
       "    <tr>\n",
       "      <th>13</th>\n",
       "      <td>ABDIEL DIAS</td>\n",
       "      <td>RIO DE JANEIRO</td>\n",
       "      <td>BRASIL</td>\n",
       "      <td>BRA</td>\n",
       "    </tr>\n",
       "    <tr>\n",
       "      <th>16</th>\n",
       "      <td>ABDALLA FERNANDES</td>\n",
       "      <td>PRAIA SECA</td>\n",
       "      <td>BRASIL</td>\n",
       "      <td>None</td>\n",
       "    </tr>\n",
       "    <tr>\n",
       "      <th>32</th>\n",
       "      <td>ABDIEL COSTA</td>\n",
       "      <td>PIRACICABA</td>\n",
       "      <td>None</td>\n",
       "      <td>None</td>\n",
       "    </tr>\n",
       "    <tr>\n",
       "      <th>86</th>\n",
       "      <td>ADENILDE BARROS</td>\n",
       "      <td>PIRACICABA</td>\n",
       "      <td>None</td>\n",
       "      <td>None</td>\n",
       "    </tr>\n",
       "    <tr>\n",
       "      <th>90</th>\n",
       "      <td>ADENILTON CARVALHO</td>\n",
       "      <td>SAO JOSE DO RIO PRETO</td>\n",
       "      <td>BRASIL</td>\n",
       "      <td>None</td>\n",
       "    </tr>\n",
       "    <tr>\n",
       "      <th>67</th>\n",
       "      <td>ADELMA BORGES</td>\n",
       "      <td>RIO DE JANEIRO</td>\n",
       "      <td>BRASIL</td>\n",
       "      <td>None</td>\n",
       "    </tr>\n",
       "    <tr>\n",
       "      <th>83</th>\n",
       "      <td>ADENIAS ANDRADE</td>\n",
       "      <td>CAMPINAS</td>\n",
       "      <td>None</td>\n",
       "      <td>BRA</td>\n",
       "    </tr>\n",
       "  </tbody>\n",
       "</table>\n",
       "</div>"
      ],
      "text/plain": [
       "                         funcNome             funcCidade funcPaisNome  \\\n",
       "funcMatricula                                                           \n",
       "13                    ABDIEL DIAS         RIO DE JANEIRO       BRASIL   \n",
       "16              ABDALLA FERNANDES             PRAIA SECA       BRASIL   \n",
       "32                   ABDIEL COSTA             PIRACICABA         None   \n",
       "86                ADENILDE BARROS             PIRACICABA         None   \n",
       "90             ADENILTON CARVALHO  SAO JOSE DO RIO PRETO       BRASIL   \n",
       "67                  ADELMA BORGES         RIO DE JANEIRO       BRASIL   \n",
       "83                ADENIAS ANDRADE               CAMPINAS         None   \n",
       "\n",
       "              funcPaisSigla  \n",
       "funcMatricula                \n",
       "13                      BRA  \n",
       "16                     None  \n",
       "32                     None  \n",
       "86                     None  \n",
       "90                     None  \n",
       "67                     None  \n",
       "83                      BRA  "
      ]
     },
     "execution_count": 52,
     "metadata": {},
     "output_type": "execute_result"
    }
   ],
   "source": [
    "df_processado.loc[indices][['funcNome', 'funcCidade', 'funcPaisNome', 'funcPaisSigla']]"
   ]
  },
  {
   "cell_type": "raw",
   "metadata": {},
   "source": [
    "# Essa seria a minha solução (porém parece que df_processado aqui será usado mais à frente)\n",
    "df_processado = processar_conflitos(indices, novo_funcionario_relacional, novo_empregado_planilha)\n",
    "df_processado.loc[indices][['funcNome', 'funcCidade', 'funcPaisNome', 'funcPaisSigla']]"
   ]
  },
  {
   "cell_type": "markdown",
   "metadata": {
    "id": "bbmKoikxXH3G"
   },
   "source": [
    "**EXERCÍCIO 6b.** Realize os dois comandos que aparecem no comentário # comandos para resolver indices ..., porém, considerando conflitos entre a fonte 2 (mais confiável) e a fonte 3 (menos confiável). Para gerar `df_processado2`, deve ser usado duas fontes: `novo_colaborador_JSON` e `novo_empregado_planilha`. Além disso, utilize o `DataFrame` resultante do conflito da fonte 1 e fonte 3 para identificar os `indices`."
   ]
  },
  {
   "cell_type": "code",
   "execution_count": 53,
   "metadata": {
    "id": "31mUEQAZXKRQ"
   },
   "outputs": [],
   "source": [
    "# comandos para resolver indices do conflito da fonte 2 e fonte 3\n",
    "# DataFrame de conflito entre a fonte 2 e fonte 3\n",
    "indices = colaborador_empregado['funcMatricula'].tolist()\n",
    "# processa a integracao\n",
    "df_processado2 = processar_conflitos(indices, novo_colaborador_JSON, novo_empregado_planilha)"
   ]
  },
  {
   "cell_type": "code",
   "execution_count": 54,
   "metadata": {
    "id": "uJSZk0epYojt"
   },
   "outputs": [
    {
     "data": {
      "text/html": [
       "<div>\n",
       "<style scoped>\n",
       "    .dataframe tbody tr th:only-of-type {\n",
       "        vertical-align: middle;\n",
       "    }\n",
       "\n",
       "    .dataframe tbody tr th {\n",
       "        vertical-align: top;\n",
       "    }\n",
       "\n",
       "    .dataframe thead th {\n",
       "        text-align: right;\n",
       "    }\n",
       "</style>\n",
       "<table border=\"1\" class=\"dataframe\">\n",
       "  <thead>\n",
       "    <tr style=\"text-align: right;\">\n",
       "      <th></th>\n",
       "      <th>funcNome</th>\n",
       "      <th>funcCidade</th>\n",
       "      <th>funcPaisNome</th>\n",
       "      <th>funcPaisSigla</th>\n",
       "    </tr>\n",
       "    <tr>\n",
       "      <th>funcMatricula</th>\n",
       "      <th></th>\n",
       "      <th></th>\n",
       "      <th></th>\n",
       "      <th></th>\n",
       "    </tr>\n",
       "  </thead>\n",
       "  <tbody>\n",
       "    <tr>\n",
       "      <th>13</th>\n",
       "      <td>ARAO ALVES</td>\n",
       "      <td>RIO DE JANEIRO</td>\n",
       "      <td>None</td>\n",
       "      <td>BRA</td>\n",
       "    </tr>\n",
       "    <tr>\n",
       "      <th>66</th>\n",
       "      <td>ADELITA BARROS</td>\n",
       "      <td>BARUERI</td>\n",
       "      <td>None</td>\n",
       "      <td>BRA</td>\n",
       "    </tr>\n",
       "    <tr>\n",
       "      <th>67</th>\n",
       "      <td>ADELMA BORGES</td>\n",
       "      <td>RIO DE JANEIRO</td>\n",
       "      <td>None</td>\n",
       "      <td>None</td>\n",
       "    </tr>\n",
       "    <tr>\n",
       "      <th>83</th>\n",
       "      <td>ADENIAS ANDRADE</td>\n",
       "      <td>CAMPINAS</td>\n",
       "      <td>None</td>\n",
       "      <td>BRA</td>\n",
       "    </tr>\n",
       "    <tr>\n",
       "      <th>99</th>\n",
       "      <td>ADERCIO GOMES</td>\n",
       "      <td>ARAGUARI</td>\n",
       "      <td>None</td>\n",
       "      <td>None</td>\n",
       "    </tr>\n",
       "  </tbody>\n",
       "</table>\n",
       "</div>"
      ],
      "text/plain": [
       "                      funcNome      funcCidade funcPaisNome funcPaisSigla\n",
       "funcMatricula                                                            \n",
       "13                  ARAO ALVES  RIO DE JANEIRO         None           BRA\n",
       "66              ADELITA BARROS         BARUERI         None           BRA\n",
       "67               ADELMA BORGES  RIO DE JANEIRO         None          None\n",
       "83             ADENIAS ANDRADE        CAMPINAS         None           BRA\n",
       "99               ADERCIO GOMES        ARAGUARI         None          None"
      ]
     },
     "execution_count": 54,
     "metadata": {},
     "output_type": "execute_result"
    }
   ],
   "source": [
    "df_processado2.loc[indices][['funcNome', 'funcCidade', 'funcPaisNome', 'funcPaisSigla']]"
   ]
  },
  {
   "cell_type": "markdown",
   "metadata": {
    "id": "05XFK5fyjgm0"
   },
   "source": [
    "O esquema de relação *funcionario* a ser armazenado no *data mart* deve conter todos os funcionários. Entretanto, como resultado do último comando, esse esquema contém apenas os funcionários presentes na fonte funcionarioRelacional. O comando a seguir incorpora também a *funcionario* todos os funcionários presentes na fonte colaboradorJSON, com exceção dos funcionários já considerados anteriormente. Como resultado, são geradas todas as instâncias de *funcionario*. Na sequência, o próximo comando ilustra algumas linhas geradas."
   ]
  },
  {
   "cell_type": "code",
   "execution_count": 55,
   "metadata": {
    "id": "Mm9f5PW8W0jz"
   },
   "outputs": [],
   "source": [
    "def interseccao_indices(lst1, lst2):\n",
    "  \"\"\"\n",
    "  Retornar os indices duplicados\n",
    "  \"\"\"\n",
    "  return list(set(lst1).intersection(lst2))\n",
    "\n",
    "\n",
    "def combina_funcionario(df1, df2):\n",
    "  \"\"\"\n",
    "  Realiza a uniao dos dataframes\n",
    "  \"\"\"\n",
    "  indices1 = df1.index.tolist()\n",
    "  indices2 = df2.index.tolist()\n",
    "  # remove os indices duplicados\n",
    "  indices_drop = interseccao_indices(indices1, indices2)\n",
    "  df2_drop = df2.drop(indices_drop)\n",
    "  # retorna a uniao dos dois dataframes\n",
    "  return df1.append(df2_drop).sort_index()"
   ]
  },
  {
   "cell_type": "code",
   "execution_count": 56,
   "metadata": {
    "id": "fbfQsFoudITD"
   },
   "outputs": [],
   "source": [
    "funcionario = combina_funcionario(df_processado, df_processado2)"
   ]
  },
  {
   "cell_type": "markdown",
   "metadata": {
    "id": "NQQ0fCzKhxJy"
   },
   "source": [
    "**EXERCÍCIO 7.** Especifique um comando que incorpore também a `funcionario` todos os funcionarios presentes na fonte `novo_empregado_planilha` (dica: usar a função `combina_funcionario` e a variável `funcionario` produzida acima)."
   ]
  },
  {
   "cell_type": "code",
   "execution_count": 57,
   "metadata": {
    "id": "7LASLqEPY4lp"
   },
   "outputs": [],
   "source": [
    "# complete\n",
    "funcionario = combina_funcionario(funcionario, novo_empregado_planilha)"
   ]
  },
  {
   "cell_type": "markdown",
   "metadata": {
    "id": "PSFh9_XZZUzL"
   },
   "source": [
    "Função para embaralhar os funcionários, e visualização da fonte final (dica: deve conter 100 instâncias).\n",
    "\n",
    "Nessa etapa, embaralhamos os dados para simular a extração de dados, visto que os dados usualmente veem \"bagunçados\". Independentemente de `funcMatricula` estar ordenado, algo que raramente ocorre, será atribuído <u>funcPK</u> na fonte final."
   ]
  },
  {
   "cell_type": "code",
   "execution_count": 58,
   "metadata": {
    "id": "y4Npxvz5ZPwx"
   },
   "outputs": [],
   "source": [
    "funcionario = funcionario.reset_index().sample(frac=1)"
   ]
  },
  {
   "cell_type": "code",
   "execution_count": 59,
   "metadata": {
    "id": "2H3hmGR1mYE1"
   },
   "outputs": [
    {
     "name": "stdout",
     "output_type": "stream",
     "text": [
      "Tamanho da fonte final:  100\n"
     ]
    },
    {
     "data": {
      "text/html": [
       "<div>\n",
       "<style scoped>\n",
       "    .dataframe tbody tr th:only-of-type {\n",
       "        vertical-align: middle;\n",
       "    }\n",
       "\n",
       "    .dataframe tbody tr th {\n",
       "        vertical-align: top;\n",
       "    }\n",
       "\n",
       "    .dataframe thead th {\n",
       "        text-align: right;\n",
       "    }\n",
       "</style>\n",
       "<table border=\"1\" class=\"dataframe\">\n",
       "  <thead>\n",
       "    <tr style=\"text-align: right;\">\n",
       "      <th></th>\n",
       "      <th>funcMatricula</th>\n",
       "      <th>funcNome</th>\n",
       "      <th>funcSexo</th>\n",
       "      <th>funcDataNascimento</th>\n",
       "      <th>funcCidade</th>\n",
       "      <th>funcEstadoSigla</th>\n",
       "      <th>funcPaisNome</th>\n",
       "      <th>funcDiaNascimento</th>\n",
       "      <th>funcMesNascimento</th>\n",
       "      <th>funcAnoNascimento</th>\n",
       "      <th>funcEstadoNome</th>\n",
       "      <th>funcRegiaoNome</th>\n",
       "      <th>funcRegiaoSigla</th>\n",
       "      <th>funcPaisSigla</th>\n",
       "    </tr>\n",
       "  </thead>\n",
       "  <tbody>\n",
       "    <tr>\n",
       "      <th>62</th>\n",
       "      <td>63</td>\n",
       "      <td>ADELINO ANDRADE</td>\n",
       "      <td>M</td>\n",
       "      <td>02/03/1962</td>\n",
       "      <td>SAO JOSE DO RIO PRETO</td>\n",
       "      <td>SP</td>\n",
       "      <td>None</td>\n",
       "      <td>None</td>\n",
       "      <td>None</td>\n",
       "      <td>None</td>\n",
       "      <td>None</td>\n",
       "      <td>None</td>\n",
       "      <td>None</td>\n",
       "      <td>BRA</td>\n",
       "    </tr>\n",
       "    <tr>\n",
       "      <th>55</th>\n",
       "      <td>56</td>\n",
       "      <td>ABELARD FERNANDES</td>\n",
       "      <td>M</td>\n",
       "      <td>25/08/1955</td>\n",
       "      <td>CAMPINAS</td>\n",
       "      <td>SP</td>\n",
       "      <td>None</td>\n",
       "      <td>None</td>\n",
       "      <td>None</td>\n",
       "      <td>None</td>\n",
       "      <td>None</td>\n",
       "      <td>None</td>\n",
       "      <td>None</td>\n",
       "      <td>BRA</td>\n",
       "    </tr>\n",
       "    <tr>\n",
       "      <th>42</th>\n",
       "      <td>43</td>\n",
       "      <td>ABEDENEGO ANDRADE</td>\n",
       "      <td>M</td>\n",
       "      <td>12/7/1990</td>\n",
       "      <td>PRAIA SECA</td>\n",
       "      <td>RJ</td>\n",
       "      <td>BRASIL</td>\n",
       "      <td>None</td>\n",
       "      <td>None</td>\n",
       "      <td>None</td>\n",
       "      <td>None</td>\n",
       "      <td>None</td>\n",
       "      <td>None</td>\n",
       "      <td>None</td>\n",
       "    </tr>\n",
       "    <tr>\n",
       "      <th>2</th>\n",
       "      <td>3</td>\n",
       "      <td>ARON ANDRADE</td>\n",
       "      <td>M</td>\n",
       "      <td>3/3/1990</td>\n",
       "      <td>SANTOS</td>\n",
       "      <td>SP</td>\n",
       "      <td>BRASIL</td>\n",
       "      <td>None</td>\n",
       "      <td>None</td>\n",
       "      <td>None</td>\n",
       "      <td>None</td>\n",
       "      <td>None</td>\n",
       "      <td>None</td>\n",
       "      <td>None</td>\n",
       "    </tr>\n",
       "    <tr>\n",
       "      <th>88</th>\n",
       "      <td>89</td>\n",
       "      <td>ADENILSON CARDOSO</td>\n",
       "      <td>M</td>\n",
       "      <td>28/5/1988</td>\n",
       "      <td>ILHA BELA</td>\n",
       "      <td>None</td>\n",
       "      <td>None</td>\n",
       "      <td>None</td>\n",
       "      <td>None</td>\n",
       "      <td>None</td>\n",
       "      <td>SAO PAULO</td>\n",
       "      <td>None</td>\n",
       "      <td>None</td>\n",
       "      <td>None</td>\n",
       "    </tr>\n",
       "    <tr>\n",
       "      <th>...</th>\n",
       "      <td>...</td>\n",
       "      <td>...</td>\n",
       "      <td>...</td>\n",
       "      <td>...</td>\n",
       "      <td>...</td>\n",
       "      <td>...</td>\n",
       "      <td>...</td>\n",
       "      <td>...</td>\n",
       "      <td>...</td>\n",
       "      <td>...</td>\n",
       "      <td>...</td>\n",
       "      <td>...</td>\n",
       "      <td>...</td>\n",
       "      <td>...</td>\n",
       "    </tr>\n",
       "    <tr>\n",
       "      <th>96</th>\n",
       "      <td>97</td>\n",
       "      <td>ADENOR FERREIRA</td>\n",
       "      <td>M</td>\n",
       "      <td>5/1/1996</td>\n",
       "      <td>PRAIA SECA</td>\n",
       "      <td>None</td>\n",
       "      <td>None</td>\n",
       "      <td>None</td>\n",
       "      <td>None</td>\n",
       "      <td>None</td>\n",
       "      <td>RIO DE JANEIRO</td>\n",
       "      <td>None</td>\n",
       "      <td>None</td>\n",
       "      <td>None</td>\n",
       "    </tr>\n",
       "    <tr>\n",
       "      <th>14</th>\n",
       "      <td>15</td>\n",
       "      <td>ABDALLA FREITAS</td>\n",
       "      <td>M</td>\n",
       "      <td>15/3/1990</td>\n",
       "      <td>ANGRA</td>\n",
       "      <td>RJ</td>\n",
       "      <td>BRASIL</td>\n",
       "      <td>None</td>\n",
       "      <td>None</td>\n",
       "      <td>None</td>\n",
       "      <td>None</td>\n",
       "      <td>None</td>\n",
       "      <td>None</td>\n",
       "      <td>None</td>\n",
       "    </tr>\n",
       "    <tr>\n",
       "      <th>7</th>\n",
       "      <td>8</td>\n",
       "      <td>ABADIAS CAMPOS</td>\n",
       "      <td>M</td>\n",
       "      <td>08/08/1990</td>\n",
       "      <td>ILHA BELA</td>\n",
       "      <td>SP</td>\n",
       "      <td>BRASIL</td>\n",
       "      <td>None</td>\n",
       "      <td>None</td>\n",
       "      <td>None</td>\n",
       "      <td>None</td>\n",
       "      <td>None</td>\n",
       "      <td>None</td>\n",
       "      <td>None</td>\n",
       "    </tr>\n",
       "    <tr>\n",
       "      <th>74</th>\n",
       "      <td>75</td>\n",
       "      <td>ADENAIR FREITAS</td>\n",
       "      <td>F</td>\n",
       "      <td>14/03/1974</td>\n",
       "      <td>CURITIBA</td>\n",
       "      <td>PR</td>\n",
       "      <td>None</td>\n",
       "      <td>None</td>\n",
       "      <td>None</td>\n",
       "      <td>None</td>\n",
       "      <td>None</td>\n",
       "      <td>None</td>\n",
       "      <td>None</td>\n",
       "      <td>BRA</td>\n",
       "    </tr>\n",
       "    <tr>\n",
       "      <th>75</th>\n",
       "      <td>76</td>\n",
       "      <td>ADENILDO FERNANDES</td>\n",
       "      <td>M</td>\n",
       "      <td>15/04/1975</td>\n",
       "      <td>LONDRINA</td>\n",
       "      <td>PR</td>\n",
       "      <td>None</td>\n",
       "      <td>None</td>\n",
       "      <td>None</td>\n",
       "      <td>None</td>\n",
       "      <td>None</td>\n",
       "      <td>None</td>\n",
       "      <td>None</td>\n",
       "      <td>BRA</td>\n",
       "    </tr>\n",
       "  </tbody>\n",
       "</table>\n",
       "<p>100 rows × 14 columns</p>\n",
       "</div>"
      ],
      "text/plain": [
       "    funcMatricula            funcNome funcSexo funcDataNascimento  \\\n",
       "62             63     ADELINO ANDRADE        M         02/03/1962   \n",
       "55             56   ABELARD FERNANDES        M         25/08/1955   \n",
       "42             43   ABEDENEGO ANDRADE        M          12/7/1990   \n",
       "2               3        ARON ANDRADE        M           3/3/1990   \n",
       "88             89   ADENILSON CARDOSO        M          28/5/1988   \n",
       "..            ...                 ...      ...                ...   \n",
       "96             97     ADENOR FERREIRA        M           5/1/1996   \n",
       "14             15     ABDALLA FREITAS        M          15/3/1990   \n",
       "7               8      ABADIAS CAMPOS        M         08/08/1990   \n",
       "74             75     ADENAIR FREITAS        F         14/03/1974   \n",
       "75             76  ADENILDO FERNANDES        M         15/04/1975   \n",
       "\n",
       "               funcCidade funcEstadoSigla funcPaisNome funcDiaNascimento  \\\n",
       "62  SAO JOSE DO RIO PRETO              SP         None              None   \n",
       "55               CAMPINAS              SP         None              None   \n",
       "42             PRAIA SECA              RJ       BRASIL              None   \n",
       "2                  SANTOS              SP       BRASIL              None   \n",
       "88              ILHA BELA            None         None              None   \n",
       "..                    ...             ...          ...               ...   \n",
       "96             PRAIA SECA            None         None              None   \n",
       "14                  ANGRA              RJ       BRASIL              None   \n",
       "7               ILHA BELA              SP       BRASIL              None   \n",
       "74               CURITIBA              PR         None              None   \n",
       "75               LONDRINA              PR         None              None   \n",
       "\n",
       "   funcMesNascimento funcAnoNascimento  funcEstadoNome funcRegiaoNome  \\\n",
       "62              None              None            None           None   \n",
       "55              None              None            None           None   \n",
       "42              None              None            None           None   \n",
       "2               None              None            None           None   \n",
       "88              None              None       SAO PAULO           None   \n",
       "..               ...               ...             ...            ...   \n",
       "96              None              None  RIO DE JANEIRO           None   \n",
       "14              None              None            None           None   \n",
       "7               None              None            None           None   \n",
       "74              None              None            None           None   \n",
       "75              None              None            None           None   \n",
       "\n",
       "   funcRegiaoSigla funcPaisSigla  \n",
       "62            None           BRA  \n",
       "55            None           BRA  \n",
       "42            None          None  \n",
       "2             None          None  \n",
       "88            None          None  \n",
       "..             ...           ...  \n",
       "96            None          None  \n",
       "14            None          None  \n",
       "7             None          None  \n",
       "74            None           BRA  \n",
       "75            None           BRA  \n",
       "\n",
       "[100 rows x 14 columns]"
      ]
     },
     "metadata": {},
     "output_type": "display_data"
    }
   ],
   "source": [
    "print('Tamanho da fonte final: ', funcionario.shape[0])\n",
    "display(funcionario)"
   ]
  },
  {
   "cell_type": "markdown",
   "metadata": {
    "id": "aVugmqZCxaCY"
   },
   "source": [
    "## 6 Carga dos Dados no *Data Mart*\n",
    "\n",
    "Antes dos dados serem carregados no *data mart*, devem ser realizados processamentos adicionais. Esses processamentos referem-se a: (i) verificação de valores nulos; e (ii) geração automática de dados para preencher colunas que não foram preenchidas pelos dados oriundos das fontes."
   ]
  },
  {
   "cell_type": "markdown",
   "metadata": {
    "id": "mzR0X24H_wwt"
   },
   "source": [
    "O comando a seguir verifica a presença de valores nulos e também valores de colunas que não foram preenchidas."
   ]
  },
  {
   "cell_type": "code",
   "execution_count": 60,
   "metadata": {
    "id": "MhKaLC4yyEw5"
   },
   "outputs": [
    {
     "name": "stdout",
     "output_type": "stream",
     "text": [
      "<class 'pandas.core.frame.DataFrame'>\n",
      "Int64Index: 100 entries, 62 to 75\n",
      "Data columns (total 14 columns):\n",
      " #   Column              Non-Null Count  Dtype \n",
      "---  ------              --------------  ----- \n",
      " 0   funcMatricula       100 non-null    int64 \n",
      " 1   funcNome            100 non-null    object\n",
      " 2   funcSexo            100 non-null    object\n",
      " 3   funcDataNascimento  100 non-null    object\n",
      " 4   funcCidade          100 non-null    object\n",
      " 5   funcEstadoSigla     75 non-null     object\n",
      " 6   funcPaisNome        52 non-null     object\n",
      " 7   funcDiaNascimento   0 non-null      object\n",
      " 8   funcMesNascimento   0 non-null      object\n",
      " 9   funcAnoNascimento   0 non-null      object\n",
      " 10  funcEstadoNome      28 non-null     object\n",
      " 11  funcRegiaoNome      0 non-null      object\n",
      " 12  funcRegiaoSigla     0 non-null      object\n",
      " 13  funcPaisSigla       26 non-null     object\n",
      "dtypes: int64(1), object(13)\n",
      "memory usage: 11.7+ KB\n"
     ]
    }
   ],
   "source": [
    "funcionario.info()"
   ]
  },
  {
   "cell_type": "markdown",
   "metadata": {
    "id": "J1-x-smlX8ap"
   },
   "source": [
    "O comando a seguir realiza o preenchimento de dados nas colunas de `funcEstadoNome` usando como base `funcEstadoSigla`."
   ]
  },
  {
   "cell_type": "code",
   "execution_count": 61,
   "metadata": {
    "id": "3pxUJlanZPTQ"
   },
   "outputs": [
    {
     "data": {
      "text/plain": [
       "array(['SP', 'RJ', None, 'PR', 'MG', 'PE'], dtype=object)"
      ]
     },
     "execution_count": 61,
     "metadata": {},
     "output_type": "execute_result"
    }
   ],
   "source": [
    "funcionario['funcEstadoSigla'].unique()"
   ]
  },
  {
   "cell_type": "code",
   "execution_count": 62,
   "metadata": {
    "id": "xj-zqIcsYTNm"
   },
   "outputs": [],
   "source": [
    "mapear_estados_nome = {'RJ':'RIO DE JANEIRO', 'SP':'SAO PAULO',\\\n",
    "                  'PR':'PARANA', 'PE':'PERNAMBUCO', 'MG':'MINAS GERAIS'}\n",
    "funcEstadoNome = lambda x, y: y if pd.isna(x) else mapear_estados_nome[x]\n",
    "funcionario['funcEstadoNome'] = funcionario.apply(lambda x: funcEstadoNome(x['funcEstadoSigla'], x['funcEstadoNome']), axis=1)"
   ]
  },
  {
   "cell_type": "markdown",
   "metadata": {
    "id": "KMzTR1hRZ_UN"
   },
   "source": [
    "O comando a seguir realiza o preenchimento de dados nas colunas de `funcEstadoSigla` usando como base `funcEstadoNome`."
   ]
  },
  {
   "cell_type": "markdown",
   "metadata": {
    "id": "-jEVI-2GZ94v"
   },
   "source": [
    "**EXERCÍCIO 8.** Implemente o mapeamento de `funcEstadoSigla` utilizando os dados de `funcEstadoNome`."
   ]
  },
  {
   "cell_type": "code",
   "execution_count": 63,
   "metadata": {
    "id": "LKCqgszAaM0V"
   },
   "outputs": [],
   "source": [
    "# complete\n",
    "mapear_estados_sigla = {'RIO DE JANEIRO':'RJ', 'SAO PAULO':'SP',\\\n",
    "                  'PARANA':'PR', 'PERNAMBUCO':'PE', 'MINAS GERAIS':'MG', None:None}\n",
    "funcEstadoSigla = lambda x, y: y if pd.isna(x) else mapear_estados_sigla[x]\n",
    "# complete\n",
    "funcionario['funcEstadoSigla'] = funcionario.apply(lambda x: funcEstadoSigla(x['funcEstadoNome'], x['funcEstadoSigla']), axis=1)"
   ]
  },
  {
   "cell_type": "markdown",
   "metadata": {
    "id": "wVgzbXznalBG"
   },
   "source": [
    "Os comandos a seguir realizam o preenchimento de dados nas colunas `funcPaisSigla` e `funcPais`."
   ]
  },
  {
   "cell_type": "code",
   "execution_count": 64,
   "metadata": {
    "id": "jv8nwnFTaqVW"
   },
   "outputs": [
    {
     "data": {
      "text/plain": [
       "array(['BRA', None], dtype=object)"
      ]
     },
     "execution_count": 64,
     "metadata": {},
     "output_type": "execute_result"
    }
   ],
   "source": [
    "funcionario['funcPaisSigla'].unique()"
   ]
  },
  {
   "cell_type": "code",
   "execution_count": 65,
   "metadata": {
    "id": "Q5upD8mlauA-"
   },
   "outputs": [
    {
     "data": {
      "text/plain": [
       "array([None, 'BRASIL'], dtype=object)"
      ]
     },
     "execution_count": 65,
     "metadata": {},
     "output_type": "execute_result"
    }
   ],
   "source": [
    "funcionario['funcPaisNome'].unique()"
   ]
  },
  {
   "cell_type": "code",
   "execution_count": 66,
   "metadata": {
    "id": "eKj1QVEMawZ9"
   },
   "outputs": [],
   "source": [
    "funcionario['funcPaisSigla'] = 'BRA'\n",
    "funcionario['funcPaisNome'] = 'BRASIL'"
   ]
  },
  {
   "cell_type": "markdown",
   "metadata": {
    "id": "phGIXqA9a6XN"
   },
   "source": [
    "O comando a seguir verifica novamente a presença de valores nulos e também valores de colunas que não foram preenchidas. "
   ]
  },
  {
   "cell_type": "code",
   "execution_count": 67,
   "metadata": {
    "id": "3Qzo8oRfZtwJ"
   },
   "outputs": [
    {
     "name": "stdout",
     "output_type": "stream",
     "text": [
      "<class 'pandas.core.frame.DataFrame'>\n",
      "Int64Index: 100 entries, 62 to 75\n",
      "Data columns (total 14 columns):\n",
      " #   Column              Non-Null Count  Dtype \n",
      "---  ------              --------------  ----- \n",
      " 0   funcMatricula       100 non-null    int64 \n",
      " 1   funcNome            100 non-null    object\n",
      " 2   funcSexo            100 non-null    object\n",
      " 3   funcDataNascimento  100 non-null    object\n",
      " 4   funcCidade          100 non-null    object\n",
      " 5   funcEstadoSigla     100 non-null    object\n",
      " 6   funcPaisNome        100 non-null    object\n",
      " 7   funcDiaNascimento   0 non-null      object\n",
      " 8   funcMesNascimento   0 non-null      object\n",
      " 9   funcAnoNascimento   0 non-null      object\n",
      " 10  funcEstadoNome      100 non-null    object\n",
      " 11  funcRegiaoNome      0 non-null      object\n",
      " 12  funcRegiaoSigla     0 non-null      object\n",
      " 13  funcPaisSigla       100 non-null    object\n",
      "dtypes: int64(1), object(13)\n",
      "memory usage: 11.7+ KB\n"
     ]
    }
   ],
   "source": [
    "funcionario.info()"
   ]
  },
  {
   "cell_type": "markdown",
   "metadata": {
    "id": "32hZE3jga2fe"
   },
   "source": [
    "Os comandos a seguir realizam o preenchimento de dados nas colunas   `funcDiaNascimento` e `funcMesNascimento`, e `funcAnoNascimento`. Para tanto, são usados os valores presentes em `funcDataNascimento`."
   ]
  },
  {
   "cell_type": "code",
   "execution_count": 68,
   "metadata": {
    "id": "aB0VHW_4th95"
   },
   "outputs": [],
   "source": [
    "# extraindo o dia, mês e ano de nascimento\n",
    "dataNascimento = {'DIA': 0, 'MES': 1, 'ANO': 2}\n",
    "\n",
    "def processa_data_nascimento(dataNascimento, campo):\n",
    "  if pd.isna(dataNascimento):\n",
    "    return None\n",
    "  return dataNascimento.split('/')[campo]\n",
    "\n",
    "\n",
    "funcionario['funcDiaNascimento'] = funcionario.apply(lambda x: processa_data_nascimento(x['funcDataNascimento'], dataNascimento['DIA']), axis=1)\n",
    "funcionario['funcMesNascimento'] = funcionario.apply(lambda x: processa_data_nascimento(x['funcDataNascimento'], dataNascimento['MES']), axis=1)\n",
    "funcionario['funcAnoNascimento'] = funcionario.apply(lambda x: processa_data_nascimento(x['funcDataNascimento'], dataNascimento['ANO']), axis=1)"
   ]
  },
  {
   "cell_type": "markdown",
   "metadata": {
    "id": "m9iAApsXBnSk"
   },
   "source": [
    "Os comandos a seguir realizam o preenchimento de dados nas colunas funcRegiaoNome e funcRegiaoSigla."
   ]
  },
  {
   "cell_type": "code",
   "execution_count": 69,
   "metadata": {
    "id": "ib65Ahk-xWaN"
   },
   "outputs": [],
   "source": [
    "mapear_regiao_nome = {'RJ':'SUDESTE', 'SP':'SUDESTE',\\\n",
    "                  'PR':'SUL', 'PE':'NORDESTE', 'MG':'SUDESTE', None:None}\n",
    "funcionario['funcRegiaoNome'] = funcionario.apply(lambda x: mapear_regiao_nome[x['funcEstadoSigla']], axis=1)"
   ]
  },
  {
   "cell_type": "markdown",
   "metadata": {
    "id": "CFrWQiZPaN3c"
   },
   "source": [
    "**EXERCÍCIO 9.** Implemente o mapeamento de `funcRegiaoSigla` utilizando os dados de `funcRegiaoNome`."
   ]
  },
  {
   "cell_type": "code",
   "execution_count": 70,
   "metadata": {
    "id": "IlY6-qScy73q"
   },
   "outputs": [],
   "source": [
    "# complete\n",
    "mapear_regiao_sigla = {'SUDESTE':'SE', 'SUL':'S', 'NORDESTE':'NE', None:None}\n",
    "funcionario['funcRegiaoSigla'] = funcionario.apply(lambda x: mapear_regiao_sigla[x['funcRegiaoNome']], axis=1)"
   ]
  },
  {
   "cell_type": "markdown",
   "metadata": {
    "id": "q-cJ--b2Bsb_"
   },
   "source": [
    "Por fim, tem-se a coluna `funcPK`. Em *funcionario*, já existe a coluna `funcMatricula`, que identifica univocamente cada funcionário. Entretanto, pode ser que o valor dessa coluna seja preenchido com dados muito grandes, contendo letras e números. Nesse caso, quando se projeta o esquema do *data mart*, acrescenta-se uma coluna adicional para representar a chave primária, a qual é preenchida com valores incrementados de 1 em 1 em ordem crescente. \n",
    "\n",
    "O comando a seguir acrescenta a coluna funcPK a funcionario."
   ]
  },
  {
   "cell_type": "code",
   "execution_count": 71,
   "metadata": {
    "id": "WJpT-gOu11lJ"
   },
   "outputs": [],
   "source": [
    "funcionario.reset_index(drop=True, inplace=True)\n",
    "funcionario['funcPK'] = list(range(1, funcionario.shape[0]+1))"
   ]
  },
  {
   "cell_type": "markdown",
   "metadata": {
    "id": "6ekIjX24bTol"
   },
   "source": [
    "O comando a seguir ilustra a nova estrutura do esquema de relação *funcionario*, bem como alguns de seus dados"
   ]
  },
  {
   "cell_type": "code",
   "execution_count": 72,
   "metadata": {
    "id": "AJImzZ100yKn"
   },
   "outputs": [
    {
     "data": {
      "text/html": [
       "<div>\n",
       "<style scoped>\n",
       "    .dataframe tbody tr th:only-of-type {\n",
       "        vertical-align: middle;\n",
       "    }\n",
       "\n",
       "    .dataframe tbody tr th {\n",
       "        vertical-align: top;\n",
       "    }\n",
       "\n",
       "    .dataframe thead th {\n",
       "        text-align: right;\n",
       "    }\n",
       "</style>\n",
       "<table border=\"1\" class=\"dataframe\">\n",
       "  <thead>\n",
       "    <tr style=\"text-align: right;\">\n",
       "      <th></th>\n",
       "      <th>funcPK</th>\n",
       "      <th>funcMatricula</th>\n",
       "      <th>funcNome</th>\n",
       "      <th>funcSexo</th>\n",
       "      <th>funcCidade</th>\n",
       "      <th>funcEstadoNome</th>\n",
       "      <th>funcRegiaoNome</th>\n",
       "      <th>funcPaisNome</th>\n",
       "    </tr>\n",
       "  </thead>\n",
       "  <tbody>\n",
       "    <tr>\n",
       "      <th>0</th>\n",
       "      <td>1</td>\n",
       "      <td>63</td>\n",
       "      <td>ADELINO ANDRADE</td>\n",
       "      <td>M</td>\n",
       "      <td>SAO JOSE DO RIO PRETO</td>\n",
       "      <td>SAO PAULO</td>\n",
       "      <td>SUDESTE</td>\n",
       "      <td>BRASIL</td>\n",
       "    </tr>\n",
       "    <tr>\n",
       "      <th>1</th>\n",
       "      <td>2</td>\n",
       "      <td>56</td>\n",
       "      <td>ABELARD FERNANDES</td>\n",
       "      <td>M</td>\n",
       "      <td>CAMPINAS</td>\n",
       "      <td>SAO PAULO</td>\n",
       "      <td>SUDESTE</td>\n",
       "      <td>BRASIL</td>\n",
       "    </tr>\n",
       "    <tr>\n",
       "      <th>2</th>\n",
       "      <td>3</td>\n",
       "      <td>43</td>\n",
       "      <td>ABEDENEGO ANDRADE</td>\n",
       "      <td>M</td>\n",
       "      <td>PRAIA SECA</td>\n",
       "      <td>RIO DE JANEIRO</td>\n",
       "      <td>SUDESTE</td>\n",
       "      <td>BRASIL</td>\n",
       "    </tr>\n",
       "    <tr>\n",
       "      <th>3</th>\n",
       "      <td>4</td>\n",
       "      <td>3</td>\n",
       "      <td>ARON ANDRADE</td>\n",
       "      <td>M</td>\n",
       "      <td>SANTOS</td>\n",
       "      <td>SAO PAULO</td>\n",
       "      <td>SUDESTE</td>\n",
       "      <td>BRASIL</td>\n",
       "    </tr>\n",
       "    <tr>\n",
       "      <th>4</th>\n",
       "      <td>5</td>\n",
       "      <td>89</td>\n",
       "      <td>ADENILSON CARDOSO</td>\n",
       "      <td>M</td>\n",
       "      <td>ILHA BELA</td>\n",
       "      <td>SAO PAULO</td>\n",
       "      <td>SUDESTE</td>\n",
       "      <td>BRASIL</td>\n",
       "    </tr>\n",
       "    <tr>\n",
       "      <th>...</th>\n",
       "      <td>...</td>\n",
       "      <td>...</td>\n",
       "      <td>...</td>\n",
       "      <td>...</td>\n",
       "      <td>...</td>\n",
       "      <td>...</td>\n",
       "      <td>...</td>\n",
       "      <td>...</td>\n",
       "    </tr>\n",
       "    <tr>\n",
       "      <th>95</th>\n",
       "      <td>96</td>\n",
       "      <td>97</td>\n",
       "      <td>ADENOR FERREIRA</td>\n",
       "      <td>M</td>\n",
       "      <td>PRAIA SECA</td>\n",
       "      <td>RIO DE JANEIRO</td>\n",
       "      <td>SUDESTE</td>\n",
       "      <td>BRASIL</td>\n",
       "    </tr>\n",
       "    <tr>\n",
       "      <th>96</th>\n",
       "      <td>97</td>\n",
       "      <td>15</td>\n",
       "      <td>ABDALLA FREITAS</td>\n",
       "      <td>M</td>\n",
       "      <td>ANGRA</td>\n",
       "      <td>RIO DE JANEIRO</td>\n",
       "      <td>SUDESTE</td>\n",
       "      <td>BRASIL</td>\n",
       "    </tr>\n",
       "    <tr>\n",
       "      <th>97</th>\n",
       "      <td>98</td>\n",
       "      <td>8</td>\n",
       "      <td>ABADIAS CAMPOS</td>\n",
       "      <td>M</td>\n",
       "      <td>ILHA BELA</td>\n",
       "      <td>SAO PAULO</td>\n",
       "      <td>SUDESTE</td>\n",
       "      <td>BRASIL</td>\n",
       "    </tr>\n",
       "    <tr>\n",
       "      <th>98</th>\n",
       "      <td>99</td>\n",
       "      <td>75</td>\n",
       "      <td>ADENAIR FREITAS</td>\n",
       "      <td>F</td>\n",
       "      <td>CURITIBA</td>\n",
       "      <td>PARANA</td>\n",
       "      <td>SUL</td>\n",
       "      <td>BRASIL</td>\n",
       "    </tr>\n",
       "    <tr>\n",
       "      <th>99</th>\n",
       "      <td>100</td>\n",
       "      <td>76</td>\n",
       "      <td>ADENILDO FERNANDES</td>\n",
       "      <td>M</td>\n",
       "      <td>LONDRINA</td>\n",
       "      <td>PARANA</td>\n",
       "      <td>SUL</td>\n",
       "      <td>BRASIL</td>\n",
       "    </tr>\n",
       "  </tbody>\n",
       "</table>\n",
       "<p>100 rows × 8 columns</p>\n",
       "</div>"
      ],
      "text/plain": [
       "    funcPK  funcMatricula            funcNome funcSexo             funcCidade  \\\n",
       "0        1             63     ADELINO ANDRADE        M  SAO JOSE DO RIO PRETO   \n",
       "1        2             56   ABELARD FERNANDES        M               CAMPINAS   \n",
       "2        3             43   ABEDENEGO ANDRADE        M             PRAIA SECA   \n",
       "3        4              3        ARON ANDRADE        M                 SANTOS   \n",
       "4        5             89   ADENILSON CARDOSO        M              ILHA BELA   \n",
       "..     ...            ...                 ...      ...                    ...   \n",
       "95      96             97     ADENOR FERREIRA        M             PRAIA SECA   \n",
       "96      97             15     ABDALLA FREITAS        M                  ANGRA   \n",
       "97      98              8      ABADIAS CAMPOS        M              ILHA BELA   \n",
       "98      99             75     ADENAIR FREITAS        F               CURITIBA   \n",
       "99     100             76  ADENILDO FERNANDES        M               LONDRINA   \n",
       "\n",
       "    funcEstadoNome funcRegiaoNome funcPaisNome  \n",
       "0        SAO PAULO        SUDESTE       BRASIL  \n",
       "1        SAO PAULO        SUDESTE       BRASIL  \n",
       "2   RIO DE JANEIRO        SUDESTE       BRASIL  \n",
       "3        SAO PAULO        SUDESTE       BRASIL  \n",
       "4        SAO PAULO        SUDESTE       BRASIL  \n",
       "..             ...            ...          ...  \n",
       "95  RIO DE JANEIRO        SUDESTE       BRASIL  \n",
       "96  RIO DE JANEIRO        SUDESTE       BRASIL  \n",
       "97       SAO PAULO        SUDESTE       BRASIL  \n",
       "98          PARANA            SUL       BRASIL  \n",
       "99          PARANA            SUL       BRASIL  \n",
       "\n",
       "[100 rows x 8 columns]"
      ]
     },
     "metadata": {},
     "output_type": "display_data"
    }
   ],
   "source": [
    "display(funcionario[['funcPK', 'funcMatricula', 'funcNome', 'funcSexo', 'funcCidade', 'funcEstadoNome', 'funcRegiaoNome', 'funcPaisNome']])"
   ]
  },
  {
   "cell_type": "markdown",
   "metadata": {
    "id": "OXWovA3W01RZ"
   },
   "source": [
    "O comando a seguir verifica a presença de valores nulos em funcionario. No vídeo de aula, ainda existiam valores nulos. Ao final desta lista de exercícios, todos os valores devem ter sido preenchidos, de forma que a coluna `Non-Null Count` deve sempre listar `100 non-null`. \n",
    "\n",
    "**EXERCÍCIO 10.** Executar o comando a seguir, e verificar se o resultado esperado foi obtido.\n"
   ]
  },
  {
   "cell_type": "code",
   "execution_count": 73,
   "metadata": {
    "id": "1ievCtg1Qwvm"
   },
   "outputs": [
    {
     "name": "stdout",
     "output_type": "stream",
     "text": [
      "<class 'pandas.core.frame.DataFrame'>\n",
      "RangeIndex: 100 entries, 0 to 99\n",
      "Data columns (total 15 columns):\n",
      " #   Column              Non-Null Count  Dtype \n",
      "---  ------              --------------  ----- \n",
      " 0   funcMatricula       100 non-null    int64 \n",
      " 1   funcNome            100 non-null    object\n",
      " 2   funcSexo            100 non-null    object\n",
      " 3   funcDataNascimento  100 non-null    object\n",
      " 4   funcCidade          100 non-null    object\n",
      " 5   funcEstadoSigla     100 non-null    object\n",
      " 6   funcPaisNome        100 non-null    object\n",
      " 7   funcDiaNascimento   100 non-null    object\n",
      " 8   funcMesNascimento   100 non-null    object\n",
      " 9   funcAnoNascimento   100 non-null    object\n",
      " 10  funcEstadoNome      100 non-null    object\n",
      " 11  funcRegiaoNome      100 non-null    object\n",
      " 12  funcRegiaoSigla     100 non-null    object\n",
      " 13  funcPaisSigla       100 non-null    object\n",
      " 14  funcPK              100 non-null    int64 \n",
      "dtypes: int64(2), object(13)\n",
      "memory usage: 11.8+ KB\n"
     ]
    }
   ],
   "source": [
    "funcionario.info()"
   ]
  },
  {
   "cell_type": "markdown",
   "metadata": {
    "id": "GhrvPEUuBvGu"
   },
   "source": [
    "Como o *data mart* é armazenado seguindo o modelo relacional, o comando a seguir gera um arquivo *.csv* referente a *funcionario*. "
   ]
  },
  {
   "cell_type": "code",
   "execution_count": 74,
   "metadata": {
    "id": "s3VhcQAwbYJT"
   },
   "outputs": [],
   "source": [
    "funcionario.to_csv('funcionario.csv')"
   ]
  }
 ],
 "metadata": {
  "colab": {
   "collapsed_sections": [],
   "name": "MBA Aula 03 Lista de Exercicios.ipynb",
   "provenance": [],
   "toc_visible": true
  },
  "kernelspec": {
   "display_name": "Python 3",
   "language": "python",
   "name": "python3"
  },
  "language_info": {
   "codemirror_mode": {
    "name": "ipython",
    "version": 3
   },
   "file_extension": ".py",
   "mimetype": "text/x-python",
   "name": "python",
   "nbconvert_exporter": "python",
   "pygments_lexer": "ipython3",
   "version": "3.8.10"
  },
  "toc": {
   "base_numbering": 1,
   "nav_menu": {},
   "number_sections": true,
   "sideBar": true,
   "skip_h1_title": false,
   "title_cell": "Table of Contents",
   "title_sidebar": "Contents",
   "toc_cell": false,
   "toc_position": {},
   "toc_section_display": true,
   "toc_window_display": false
  }
 },
 "nbformat": 4,
 "nbformat_minor": 1
}

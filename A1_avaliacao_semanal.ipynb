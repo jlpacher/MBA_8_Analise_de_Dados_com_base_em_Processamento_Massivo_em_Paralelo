{
 "cells": [
  {
   "cell_type": "markdown",
   "id": "be739f52",
   "metadata": {},
   "source": [
    "# AS1 - ADPMP - Introdução"
   ]
  },
  {
   "cell_type": "markdown",
   "id": "6303f4f0",
   "metadata": {},
   "source": [
    "Questão 1:\n",
    "\n",
    "Qual a sigla para o local no qual os dados estão armazenados, sendo este local um dos componentes do ambiente de data warehousing? <br>\n",
    "\n",
    "<font color='red'>a.DW </font><br>\n",
    "b.OLAP<br>\n",
    "c.OLTP<br>\n",
    "d.BI<br>\n",
    "e.ETL<br>"
   ]
  },
  {
   "cell_type": "markdown",
   "id": "99dd5be7",
   "metadata": {},
   "source": [
    "Questão 2:\n",
    "\n",
    "No ambiente OLTP (online transaction processing), os tipos de operação mais frequentes são:<br>\n",
    "\n",
    "a.Extração, transformação e carga.<br>\n",
    "b.Leitura, análise e atualização.<br>\n",
    "<font color='red'>c.Inserção, remoção e atualização. </font><br>\n",
    "d.Inserção, remoção e consultas analíticas.<br>\n",
    "e.Leitura, análise e geração de relatórios.<br>"
   ]
  },
  {
   "cell_type": "markdown",
   "id": "a27c76bd",
   "metadata": {},
   "source": [
    "Questão 3:\n",
    "\n",
    "Marque a alternativa **correta**:<br>\n",
    "\n",
    "a.Business intelligence consiste no processo de transformação dos dados brutos primeiro em conhecimento e depois em informação.<br>\n",
    "\n",
    "b.Um dos objetivos de business intelligence é produzir a informação certa para a pessoa certa. Porém, não é necessário que esta informação seja entregue na hora certa.<br>\n",
    "\n",
    "<font color='red'>c.O uso exploratório das informações com possibilidade de identificar tendências e realizar predições é um exemplo de necessidade relacionada a business intelligence. </font><br>\n",
    "\n",
    "d.Informação advém da interpretação, da análise e do processamento do conhecimento gerado. Ela possui o valor mais agregado e pode ser usada para orientar as ações das empresas, possibilitando a tomada de decisão estratégica.<br>\n",
    "\n",
    "e.Quando se pensa em business intelligence e em data warehousing, pensa-se em transações (ou seja, inserções, atualizações e remoções) ao invés de geração de conhecimento.<br>"
   ]
  },
  {
   "cell_type": "markdown",
   "id": "5ce41944",
   "metadata": {},
   "source": [
    "BI: Dados Brutos => Informação => Conhecimento"
   ]
  },
  {
   "cell_type": "markdown",
   "id": "bc91b53c",
   "metadata": {},
   "source": [
    "Questão 4:\n",
    "\n",
    "Considere as seguintes afirmações:<br>\n",
    "\n",
    "I - Data warehouse se refere ao local onde os dados estão fisicamente armazenados, enquanto data warehousing é um conceito mais abrangente, que se refere ao ambiente como um todo.<br>\n",
    "II - O projeto do data warehouse é normalizado. Portanto, ele foca em entidades e relacionamentos entre essas entidades.<br>\n",
    "III - Exemplos de usuários do ambiente operacional incluem administradores do sistema, projetistas e usuários finais, enquanto exemplos de usuários do ambiente informacional incluem analistas, gerentes e executivos.<br>\n",
    "\n",
    "Assinale a alternativa que contém as afirmações **corretas**.<br>\n",
    "\n",
    "a.I, II, e III.<br>\n",
    "<font color='red'>b.I e III.</font><br>\n",
    "c.I e II.<br>\n",
    "d.Somente II.<br>\n",
    "e.II e III.<br>"
   ]
  },
  {
   "cell_type": "markdown",
   "id": "73ce3544",
   "metadata": {},
   "source": [
    "I-ok<br>\n",
    "II-Projeto do Datawarehouse (DW) é multidimensional e não normalizado. Considera as diferentes perspectivas de análise dos usuários de SSD (sistemas de suporte às decisões), além de considerar os aspéctos temporais.<br>\n",
    "III-ok<br>"
   ]
  },
  {
   "cell_type": "markdown",
   "id": "55ed1f8e",
   "metadata": {},
   "source": [
    "Questão 5:\n",
    "\n",
    "Marque **a alternativa** que é composta por exemplos comuns de aplicações em um ambiente informacional:<br>\n",
    "\n",
    "<font color='red'>a.Planejamento de marketing, tomada de decisão e análise financeira.</font><br>\n",
    "b.Planejamento estratégico, análise de tendências e empréstimos de livros.<br>\n",
    "c.Transações bancárias, empréstimos de livros, matrículas em cursos.<br>\n",
    "d.Transações bancárias, planejamento de marketing e análise de tendências.<br>\n",
    "e.Análises históricas, planejamento estratégico e matrículas em cursos.<br>"
   ]
  }
 ],
 "metadata": {
  "kernelspec": {
   "display_name": "Python 3",
   "language": "python",
   "name": "python3"
  },
  "language_info": {
   "codemirror_mode": {
    "name": "ipython",
    "version": 3
   },
   "file_extension": ".py",
   "mimetype": "text/x-python",
   "name": "python",
   "nbconvert_exporter": "python",
   "pygments_lexer": "ipython3",
   "version": "3.8.10"
  }
 },
 "nbformat": 4,
 "nbformat_minor": 5
}

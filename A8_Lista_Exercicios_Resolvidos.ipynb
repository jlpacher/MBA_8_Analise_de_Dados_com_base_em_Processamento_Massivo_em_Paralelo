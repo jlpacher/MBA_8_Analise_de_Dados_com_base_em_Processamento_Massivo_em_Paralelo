{
  "nbformat": 4,
  "nbformat_minor": 0,
  "metadata": {
    "colab": {
      "name": "MBA Aula 08 Lista de Exercicios.ipynb",
      "provenance": [],
      "collapsed_sections": [],
      "toc_visible": true
    },
    "kernelspec": {
      "display_name": "Python 3",
      "language": "python",
      "name": "python3"
    },
    "language_info": {
      "codemirror_mode": {
        "name": "ipython",
        "version": 3
      },
      "file_extension": ".py",
      "mimetype": "text/x-python",
      "name": "python",
      "nbconvert_exporter": "python",
      "pygments_lexer": "ipython3",
      "version": "3.8.10"
    }
  },
  "cells": [
    {
      "cell_type": "markdown",
      "metadata": {
        "id": "flekT6GFDN6m"
      },
      "source": [
        "# <span style=\"color:blue\">MBA em Ciência de Dados</span>\n",
        "# <span style=\"color:blue\">Análise de Dados com Base em Processamento Massivo em Paralelo</span>\n",
        "\n",
        "## <span style=\"color:blue\">Aula 08: Explorando o Módulo pyspark.sql</span>\n",
        "## <span style=\"color:blue\">Lista de Exercícios</span>\n",
        "\n",
        "**Material Produzido por:**<br>\n",
        ">**Profa. Dra. Cristina Dutra de Aguiar**<br>\n",
        "\n",
        "**CEMEAI - ICMC/USP São Carlos**\n",
        "\n",
        "Este *notebook* contém exercícios classificados como essenciais e complementares. A indicação da classificação de cada exercício é feita junto de sua definição. Os exercícios estão espalhados ao longo do texto. Por favor, procure por EXERCÍCIO para encontrar a especificação dos exercícios e o local onde as respostas devem ser inseridas. Também é possível localizar os exercícios utilizando o menu de navegação. Por completude, o *notebook* possui todas as descrições apresentadas na parte prática da Aula 08. Recomenda-se fortemente que a lista de exercícios seja respondida antes de se consultar as respostas dos exercícios.\n",
        "\n",
        "**IMPORTANTE: O uso do *framework* Spark requer diversas configurações no ambiente de desenvolvimento para executar o *notebook*. Dado que tal complexidade foge do escopo de nossa disciplina, recomenda-se que o *notebook* seja executado na plataforma de desenvolvimento COLAB. O uso do COLAB  proporciona um ambiente de desenvolvimento pré-configurado e remove a complexidade de instalação e configuração de pacotes e *frameworks* que são utilizados na disciplina.**"
      ]
    },
    {
      "cell_type": "markdown",
      "metadata": {
        "id": "3o3dN_WLQcyD"
      },
      "source": [
        "#1 Constelação de Fatos da BI Solutions\n",
        "\n",
        "A aplicação de *data warehousing* da BI Solutions utiliza como base uma contelação de fatos, conforme descrita a seguir.\n",
        "\n",
        "**Tabelas de dimensão**\n",
        "\n",
        "- data (dataPK, dataCompleta, dataDia, dataMes, dataBimestre, dataTrimestre, dataSemestre, dataAno)\n",
        "- funcionario (funcPK, funcMatricula, funcNome, funcSexo, funcDataNascimento, funcDiaNascimento, funcMesNascimento, funcAnoNascimento, funcCidade, funcEstadoNome, funcEstadoSigla, funcRegiaoNome, funcRegiaoSigla, funcPaisNome, funcPaisSigla)\n",
        "- equipe (equipePK, equipeNome, filialNome, filialCidade, filialEstadoNome, filialEstadoSigla, filialRegiaoNome, filialRegiaoSigla, filialPaisNome, filialPaisSigla)\n",
        "- cargo (cargoPK, cargoNome, cargoRegimeTrabalho, cargoEscolaridadeMinima, cargoNivel)\n",
        "- cliente (clientePK, clienteNomeFantasia, clienteSetor, clienteCidade, clienteEstadoNome, clienteEstadoSigla, clienteRegiaoNome, clienteRegiaoSigla, clientePaisNome, clientePaisSigla)\n",
        "\n",
        "**Tabelas de fatos**\n",
        "- pagamento (dataPK, funcPK, equipePK, cargoPK, salario, quantidadeLancamentos)\n",
        "- negociacao (dataPK, equipePK, clientePK, receita, quantidadeNegociacoes)\n"
      ]
    },
    {
      "cell_type": "markdown",
      "metadata": {
        "id": "gETER91TrAJG"
      },
      "source": [
        "### Usar no Colab !"
      ]
    },
    {
      "cell_type": "markdown",
      "metadata": {
        "id": "BGeh8KdXwVCQ"
      },
      "source": [
        "#2 Obtenção dos Dados da BI Solutions\n"
      ]
    },
    {
      "cell_type": "markdown",
      "metadata": {
        "id": "CCCNC64AzBG0"
      },
      "source": [
        "## 2.1 Baixando o Módulo wget\n",
        "\n",
        "Para baixar os dados referentes ao esquema relacional da constelação de fatos da BI Solutions, é utilizado o módulo  **wget**. O comando a seguir realiza a instalação desse módulo. <br>"
      ]
    },
    {
      "cell_type": "code",
      "metadata": {
        "id": "3e0Eao1K0EYG"
      },
      "source": [
        "#instalando o módulo wget\n",
        "%%capture\n",
        "!pip install -q wget\n",
        "!mkdir data"
      ],
      "execution_count": null,
      "outputs": []
    },
    {
      "cell_type": "markdown",
      "metadata": {
        "id": "j56pVJ2hZ2i5"
      },
      "source": [
        "## 2.2 Obtenção dos Dados das Tabelas de Dimensão\n",
        "\n",
        "Os comandos a seguir baixam os dados que povoam as tabelas de dimensão. "
      ]
    },
    {
      "cell_type": "code",
      "metadata": {
        "cellView": "both",
        "colab": {
          "base_uri": "https://localhost:8080/",
          "height": 35
        },
        "id": "46QzTpLJwfkW",
        "outputId": "8dd4b29c-0a14-4122-ae61-2c67d30ecee1"
      },
      "source": [
        "#baixando os dados das tabelas de dimensão\n",
        "import wget\n",
        "\n",
        "url = \"https://raw.githubusercontent.com/GuiMuzziUSP/Data_Mart_BI_Solutions/main/data.csv\"\n",
        "wget.download(url, \"data/data.csv\")\n",
        "\n",
        "url = \"https://raw.githubusercontent.com/GuiMuzziUSP/Data_Mart_BI_Solutions/main/funcionario.csv\"\n",
        "wget.download(url, \"data/funcionario.csv\")\n",
        "\n",
        "url = \"https://raw.githubusercontent.com/GuiMuzziUSP/Data_Mart_BI_Solutions/main/equipe.csv\"\n",
        "wget.download(url, \"data/equipe.csv\")\n",
        "\n",
        "url = \"https://raw.githubusercontent.com/GuiMuzziUSP/Data_Mart_BI_Solutions/main/cargo.csv\"\n",
        "wget.download(url, \"data/cargo.csv\")\n",
        "\n",
        "url = \"https://raw.githubusercontent.com/GuiMuzziUSP/Data_Mart_BI_Solutions/main/cliente.csv\"\n",
        "wget.download(url, \"data/cliente.csv\")"
      ],
      "execution_count": null,
      "outputs": [
        {
          "output_type": "execute_result",
          "data": {
            "application/vnd.google.colaboratory.intrinsic+json": {
              "type": "string"
            },
            "text/plain": [
              "'data/cliente.csv'"
            ]
          },
          "metadata": {},
          "execution_count": 2
        }
      ]
    },
    {
      "cell_type": "markdown",
      "metadata": {
        "id": "0o-dC7feszRc"
      },
      "source": [
        "## 2.3 Obtenção dos Dados Tabelas de Fatos\n",
        "\n",
        "Os comandos a seguir baixam os dados que povoam as tabelas de fatos. "
      ]
    },
    {
      "cell_type": "code",
      "metadata": {
        "colab": {
          "base_uri": "https://localhost:8080/",
          "height": 35
        },
        "id": "XWM-CUFgBl_8",
        "outputId": "0b1e087d-3a15-4f44-9bf6-4f79e95bd35c"
      },
      "source": [
        "#baixando os dados das tabelas de fatos\n",
        "url = \"https://raw.githubusercontent.com/GuiMuzziUSP/Data_Mart_BI_Solutions/main/pagamento.csv\"\n",
        "wget.download(url, \"data/pagamento.csv\")\n",
        "\n",
        "url = \"https://raw.githubusercontent.com/GuiMuzziUSP/Data_Mart_BI_Solutions/main/negociacao.csv\"\n",
        "wget.download(url, \"data/negociacao.csv\")"
      ],
      "execution_count": null,
      "outputs": [
        {
          "output_type": "execute_result",
          "data": {
            "application/vnd.google.colaboratory.intrinsic+json": {
              "type": "string"
            },
            "text/plain": [
              "'data/negociacao.csv'"
            ]
          },
          "metadata": {},
          "execution_count": 3
        }
      ]
    },
    {
      "cell_type": "markdown",
      "metadata": {
        "id": "sO16-7-jOioq"
      },
      "source": [
        "# 3 Apache Spark Cluster"
      ]
    },
    {
      "cell_type": "markdown",
      "metadata": {
        "id": "YVEgY9qKflBV"
      },
      "source": [
        "## 3.1 Instalação\n",
        "\n",
        "Neste *notebook* é criado um *cluster* Spark composto apenas por um **nó mestre**. Ou seja, o *cluster* não possui um ou mais **nós de trabalho** e o **gerenciador de cluster**. Nessa configuração, as tarefas (*tasks*) são realizadas no próprio *driver* localizado no **nó mestre**."
      ]
    },
    {
      "cell_type": "markdown",
      "metadata": {
        "id": "KaM-OnIjgLS2"
      },
      "source": [
        "Para que o cluster possa ser criado, primeiramente é instalado o Java Runtime Environment (JRE) versão 8. "
      ]
    },
    {
      "cell_type": "code",
      "metadata": {
        "id": "NXls3bfoglKW"
      },
      "source": [
        "#instalando Java Runtime Environment (JRE) versão 8\n",
        "%%capture\n",
        "!apt-get remove openjdk*\n",
        "!apt-get update --fix-missing\n",
        "!apt-get install openjdk-8-jdk-headless -qq > /dev/null"
      ],
      "execution_count": null,
      "outputs": []
    },
    {
      "cell_type": "markdown",
      "metadata": {
        "id": "7BQzZfDYhb4j"
      },
      "source": [
        "Na sequência, é feito o *download* do Apache Spark versão 3.0.0."
      ]
    },
    {
      "cell_type": "code",
      "metadata": {
        "id": "8a_Yv59zg3gm"
      },
      "source": [
        "#baixando Apache Spark versão 3.0.0\n",
        "%%capture\n",
        "!wget -q https://archive.apache.org/dist/spark/spark-3.0.0/spark-3.0.0-bin-hadoop2.7.tgz\n",
        "!tar xf spark-3.0.0-bin-hadoop2.7.tgz && rm spark-3.0.0-bin-hadoop2.7.tgz"
      ],
      "execution_count": null,
      "outputs": []
    },
    {
      "cell_type": "markdown",
      "metadata": {
        "id": "RETWX6wqhkLf"
      },
      "source": [
        "Na sequência, são configuradas as variáveis de ambiente JAVA_HOME e SPARK_HOME. Isto permite que tanto o Java quanto o Spark possam ser encontrados."
      ]
    },
    {
      "cell_type": "code",
      "metadata": {
        "id": "iZpR7NwOh2EB"
      },
      "source": [
        "import os\n",
        "#configurando a variável de ambiente JAVA_HOME\n",
        "os.environ[\"JAVA_HOME\"] = \"/usr/lib/jvm/java-8-openjdk-amd64\"\n",
        "#configurando a variável de ambiente SPARK_HOME\n",
        "os.environ[\"SPARK_HOME\"] = \"/content/spark-3.0.0-bin-hadoop2.7\""
      ],
      "execution_count": null,
      "outputs": []
    },
    {
      "cell_type": "markdown",
      "metadata": {
        "id": "Ql0z7Ro1iHQb"
      },
      "source": [
        "Por fim, são instalados dois pacotes da linguagem de programação Python, cujas funcionalidades são descritas a seguir.\n",
        "\n",
        "> **Pacote findspark:** Usado para ler a variável de ambiente SPARK_HOME e armazenar seu valor na variável dinâmica de ambiente PYTHONPATH. Como resultado, Python pode encontrar a instalação do Spark. \n",
        "\n",
        "> **Pacote pyspark:** PySpark é a API do Python para Spark. Ela possibilita o uso de Python, considerando que o *framework* Apache Spark encontra-se desenvolvido na linguagem de programação Scala. "
      ]
    },
    {
      "cell_type": "code",
      "metadata": {
        "id": "5oSYOwKljPf5"
      },
      "source": [
        "%%capture\n",
        "#instalando o pacote findspark\n",
        "!pip install -q findspark==1.4.2\n",
        "#instalando o pacote pyspark\n",
        "!pip install -q pyspark==3.0.0"
      ],
      "execution_count": null,
      "outputs": []
    },
    {
      "cell_type": "markdown",
      "metadata": {
        "id": "eAaLyjPzmIwZ"
      },
      "source": [
        "## 3.2 Conexão\n",
        "\n",
        "PySpark não é adicionado ao *sys.path* por padrão. Isso significa que não é possível importá-lo, pois o interpretador da linguagem Python não sabe onde encontrá-lo. \n",
        "\n",
        "Para resolver esse aspecto, é necessário instalar o módulo `findspark`. Esse módulo mostra onde PySpark está localizado. Os comandos a seguir têm essa finalidade.\n"
      ]
    },
    {
      "cell_type": "code",
      "metadata": {
        "id": "-zm1pBTEmjp4"
      },
      "source": [
        "#importando o módulo findspark\n",
        "import findspark\n",
        "#carregando a variávels SPARK_HOME na variável dinâmica PYTHONPATH\n",
        "findspark.init()"
      ],
      "execution_count": null,
      "outputs": []
    },
    {
      "cell_type": "markdown",
      "metadata": {
        "id": "ZDqfefF7YUab"
      },
      "source": [
        "Depois de configurados os pacotes e módulos e inicializadas as variáveis de ambiente, é possível iniciar o uso do Spark na aplicação de `data warehousing`. Para tanto, é necessário importar o comando `SparkSession` do módulo `pyspark.sql`. São utilizados os seguintes conceitos: <br>\n",
        "\n",
        "- `SparkSession`: permite a criação de `DataFrames`. Como resultado, as tabelas relacionais podem ser manipuladas por meio de `DataFrames` e é possível realizar consultas OLAP por meio de comandos SQL. <br>\n",
        "- `builder`: cria uma instância de SparkSession. <br>\n",
        "- `appName`: define um nome para a aplicação, o qual pode ser visto na interface de usuário web do Spark. <br> \n",
        "- `master`: define onde está o nó mestre do *cluster*. Como a aplicação é executada localmente e não em um *cluster*, indica-se isso pela *string* `local` seguida do parâmetro `[*]`. Ou seja, define-se que apenas núcleos locais são utilizados. \n",
        "- `getOrCreate`: cria uma SparkSession. Caso ela já exista, retorna a instância existente. \n",
        "\n",
        "\n",
        "**Observação**: A lista completa de todos os parâmetros que podem ser utilizados na inicialização do *cluster* pode ser encontrada neste [link](https://spark.apache.org/docs/latest/spark-standalone.html#cluster-launch-scripts)."
      ]
    },
    {
      "cell_type": "code",
      "metadata": {
        "id": "9TxljJ_cwBCy"
      },
      "source": [
        "from pyspark.sql import SparkSession\n",
        "\n",
        "spark = SparkSession.builder.appName(\"pyspark-notebook\").master(\"local[*]\").getOrCreate()"
      ],
      "execution_count": null,
      "outputs": []
    },
    {
      "cell_type": "markdown",
      "metadata": {
        "id": "5qL9SiR_pQE2"
      },
      "source": [
        "# 4 Geração dos DataFrames da BI Solutions\n",
        "\n",
        "Um `DataFrame` em Spark é equivalente a uma tabela relacional. Portanto, um `DataFrame` possui um esquema, uma ou mais linhas (ou tuplas) e uma ou mais colunas (ou atributos).\n"
      ]
    },
    {
      "cell_type": "markdown",
      "metadata": {
        "id": "ffWOrkjDp8Al"
      },
      "source": [
        "## 4.1 Métodos para Leitura e Escrita"
      ]
    },
    {
      "cell_type": "markdown",
      "metadata": {
        "id": "WtUGn-uyBJWY"
      },
      "source": [
        "### Método spark.read.csv()\n",
        "\n",
        "``spark.read.csv()``\n",
        "\n",
        "Realiza a leitura dos dados de um arquivo `.csv` e armazena esses dados em um `DataFrame`. Alguns parâmetros do método são: \n",
        "\n",
        "- `path`: indica o endereço do arquivo que é lido.\n",
        "\n",
        "- `header`: indica se o arquivo possui um cabeçalho.\n",
        "\n",
        "- `sep`: especifica o caractere que separa os campos do arquivo.\n",
        "\n",
        "- `inferSchema`: infere o tipo de dados de cada atributo automaticamente a partir dos dados do arquivo `.csv`. Para que isto seja possível, existe a necessidade de se ler os dados mais uma vez. Se esse parâmetro não for especificado, seu valor padrão é `false`. \n",
        "\n",
        "Entretanto, vários parâmetros podem ser especificados. Uma lista completa desses parâmetros pode ser encontrada neste [link](https://docs.databricks.com/data/data-sources/read-csv.html). \n",
        "\n",
        "\n"
      ]
    },
    {
      "cell_type": "markdown",
      "metadata": {
        "id": "gBaQWmfzkYdF"
      },
      "source": [
        "### Método show()\n",
        "\n",
        "`show(number=20, truncate=True, vertical=False)`\n",
        "\n",
        "Mostra o conteúdo do `DataFrame`. Caso o parâmetro `number` seja especificado, é mostrado o número de linhas especificado. Caso contrário, são exibidas as 20 primeiras linhas.  O parâmetro `truncate` indica que  *strings* com tamanho maior do que 20 caracteres são truncadas. O último parâmetro, `vertical`, indica que a saída é composta por um conjunto de linhas divididas em colunas (forma de uma tabela). Caso seja especificado `vertical=True`, cada coluna de cada linha é exibida em uma linha diferente."
      ]
    },
    {
      "cell_type": "markdown",
      "metadata": {
        "id": "z8MxhBV6mBmR"
      },
      "source": [
        "### Método printSchema()\n",
        "\n",
        "`printSchema()`\n",
        "\n",
        "Mostra o esquema do `DataFrame` no formato de uma árvore. São exibidos os nomes das colunas e os tipos de dados dessas colunas. `nullable = true` indica que o valor nulo é usado para indicar valores que não são conhecidos ou que são foram preenchidos quando o arquivo foi lido em um `DataFrame`.  \n",
        "\n"
      ]
    },
    {
      "cell_type": "markdown",
      "metadata": {
        "id": "WQFYmNbrs6gZ"
      },
      "source": [
        "### Método write.csv()\n",
        "\n",
        "`write.csv()`\n",
        "\n",
        "Realiza a escrita dos dados de um `DataFrame` em um arquivo `.csv`. Podem ser definidos vários parâmetros, como `path` para indicar o endereço do arquivo que é escrito, `header` para armazenar os nomes das colunas do `DataFrame` como um cabeçalho do arquivo e `sep` para especificar o caractere que separa os campos do arquivo. Uma lista completa desses parâmetros pode ser encontrada neste [link](https://docs.databricks.com/data/data-sources/read-csv.html). \n"
      ]
    },
    {
      "cell_type": "markdown",
      "metadata": {
        "id": "DRVoz-SGt87W"
      },
      "source": [
        "## 4.2 Criação dos DataFrames"
      ]
    },
    {
      "cell_type": "code",
      "metadata": {
        "cellView": "both",
        "colab": {
          "base_uri": "https://localhost:8080/"
        },
        "id": "FNR-3dV6oYk4",
        "outputId": "2b0ff780-ee68-42fc-f458-3093c5a66c6b"
      },
      "source": [
        "#criando e exibindo o DataFrame para a tabela de dimensão cargo\n",
        "cargo = spark.read.csv(path=\"data/cargo.csv\", header=True, sep=\",\")\n",
        "cargo.show(5)\n",
        "cargo.printSchema()\n"
      ],
      "execution_count": null,
      "outputs": [
        {
          "output_type": "stream",
          "name": "stdout",
          "text": [
            "+-------+--------------------+-------------------+--------------------+-----------------------+----------+\n",
            "|cargoPK|           cargoNome|cargoRegimeTrabalho|cargoJornadaTrabalho|cargoEscolaridadeMinima|cargoNivel|\n",
            "+-------+--------------------+-------------------+--------------------+-----------------------+----------+\n",
            "|      1|PROGRAMADOR DE SI...|         TEMPORARIO|                 20H|                  MEDIO|    JUNIOR|\n",
            "|      2|PROGRAMADOR DE SI...|         TEMPORARIO|                 20H|               SUPERIOR|     PLENO|\n",
            "|      3|PROGRAMADOR DE SI...|         TEMPORARIO|                 20H|                    POS|    SENIOR|\n",
            "|      4|PROGRAMADOR DE SI...|         TEMPORARIO|                 40H|                  MEDIO|    JUNIOR|\n",
            "|      5|PROGRAMADOR DE SI...|         TEMPORARIO|                 40H|               SUPERIOR|     PLENO|\n",
            "+-------+--------------------+-------------------+--------------------+-----------------------+----------+\n",
            "only showing top 5 rows\n",
            "\n",
            "root\n",
            " |-- cargoPK: string (nullable = true)\n",
            " |-- cargoNome: string (nullable = true)\n",
            " |-- cargoRegimeTrabalho: string (nullable = true)\n",
            " |-- cargoJornadaTrabalho: string (nullable = true)\n",
            " |-- cargoEscolaridadeMinima: string (nullable = true)\n",
            " |-- cargoNivel: string (nullable = true)\n",
            "\n"
          ]
        }
      ]
    },
    {
      "cell_type": "code",
      "metadata": {
        "colab": {
          "base_uri": "https://localhost:8080/"
        },
        "id": "LPCF-SyBtuPW",
        "outputId": "f71d47ba-fec2-47d9-dea7-f91887988043"
      },
      "source": [
        "#criando e exibindo o DataFrame para a tabela de dimensão cliente\n",
        "cliente = spark.read.csv(path=\"data/cliente.csv\", header=True, sep=\",\")\n",
        "cliente.show(5)\n",
        "cliente.printSchema()"
      ],
      "execution_count": null,
      "outputs": [
        {
          "output_type": "stream",
          "name": "stdout",
          "text": [
            "+---------+-------------------+-------------------+-------------+-----------------+------------------+-----------------+------------------+---------------+----------------+\n",
            "|clientePK|clienteNomeFantasia|       clienteSetor|clienteCidade|clienteEstadoNome|clienteEstadoSigla|clienteRegiaoNome|clienteRegiaoSigla|clientePaisNome|clientePaisSigla|\n",
            "+---------+-------------------+-------------------+-------------+-----------------+------------------+-----------------+------------------+---------------+----------------+\n",
            "|        1|           VIA FOOD|BEBIDAS E ALIMENTOS|    SAO PAULO|        SAO PAULO|                SP|          SUDESTE|                SE|         BRASIL|              BR|\n",
            "|        2|          VIA PIZZA|BEBIDAS E ALIMENTOS|    SAO PAULO|        SAO PAULO|                SP|          SUDESTE|                SE|         BRASIL|              BR|\n",
            "|        3|           VIA JAPA|BEBIDAS E ALIMENTOS|    SAO PAULO|        SAO PAULO|                SP|          SUDESTE|                SE|         BRASIL|              BR|\n",
            "|        4|            VIA VEG|BEBIDAS E ALIMENTOS|    SAO PAULO|        SAO PAULO|                SP|          SUDESTE|                SE|         BRASIL|              BR|\n",
            "|        5|          VIA DRINK|BEBIDAS E ALIMENTOS|   SAO CARLOS|        SAO PAULO|                SP|          SUDESTE|                SE|         BRASIL|              BR|\n",
            "+---------+-------------------+-------------------+-------------+-----------------+------------------+-----------------+------------------+---------------+----------------+\n",
            "only showing top 5 rows\n",
            "\n",
            "root\n",
            " |-- clientePK: string (nullable = true)\n",
            " |-- clienteNomeFantasia: string (nullable = true)\n",
            " |-- clienteSetor: string (nullable = true)\n",
            " |-- clienteCidade: string (nullable = true)\n",
            " |-- clienteEstadoNome: string (nullable = true)\n",
            " |-- clienteEstadoSigla: string (nullable = true)\n",
            " |-- clienteRegiaoNome: string (nullable = true)\n",
            " |-- clienteRegiaoSigla: string (nullable = true)\n",
            " |-- clientePaisNome: string (nullable = true)\n",
            " |-- clientePaisSigla: string (nullable = true)\n",
            "\n"
          ]
        }
      ]
    },
    {
      "cell_type": "code",
      "metadata": {
        "colab": {
          "base_uri": "https://localhost:8080/"
        },
        "id": "w3p9dLUKts73",
        "outputId": "698456d6-ab94-438d-cdd1-53834adfc82a"
      },
      "source": [
        "#criando e exibindo o DataFrame para a tabela de dimensão data\n",
        "data = spark.read.csv(path=\"data/data.csv\", header=True, sep=\",\") \n",
        "data.show(5)\n",
        "data.printSchema()"
      ],
      "execution_count": null,
      "outputs": [
        {
          "output_type": "stream",
          "name": "stdout",
          "text": [
            "+------+------------+-------+-------+------------+-------------+------------+-------+\n",
            "|dataPK|dataCompleta|dataDia|dataMes|dataBimestre|dataTrimestre|dataSemestre|dataAno|\n",
            "+------+------------+-------+-------+------------+-------------+------------+-------+\n",
            "|     1|    1/1/2016|      1|      1|           1|            1|           1|   2016|\n",
            "|     2|    2/1/2016|      2|      1|           1|            1|           1|   2016|\n",
            "|     3|    3/1/2016|      3|      1|           1|            1|           1|   2016|\n",
            "|     4|    4/1/2016|      4|      1|           1|            1|           1|   2016|\n",
            "|     5|    5/1/2016|      5|      1|           1|            1|           1|   2016|\n",
            "+------+------------+-------+-------+------------+-------------+------------+-------+\n",
            "only showing top 5 rows\n",
            "\n",
            "root\n",
            " |-- dataPK: string (nullable = true)\n",
            " |-- dataCompleta: string (nullable = true)\n",
            " |-- dataDia: string (nullable = true)\n",
            " |-- dataMes: string (nullable = true)\n",
            " |-- dataBimestre: string (nullable = true)\n",
            " |-- dataTrimestre: string (nullable = true)\n",
            " |-- dataSemestre: string (nullable = true)\n",
            " |-- dataAno: string (nullable = true)\n",
            "\n"
          ]
        }
      ]
    },
    {
      "cell_type": "code",
      "metadata": {
        "colab": {
          "base_uri": "https://localhost:8080/"
        },
        "id": "Obef8NfyttuJ",
        "outputId": "9f73914d-1593-45c4-a554-d32b9dad8d8c"
      },
      "source": [
        "#criando e exibindo o DataFrame para a tabela de dimensão equipe\n",
        "equipe = spark.read.csv(path=\"data/equipe.csv\", header=True, sep=\",\")\n",
        "equipe.show(5)\n",
        "equipe.printSchema()"
      ],
      "execution_count": null,
      "outputs": [
        {
          "output_type": "stream",
          "name": "stdout",
          "text": [
            "+--------+-------------+--------------------+--------------+------------------+-----------------+----------------+-----------------+--------------+---------------+\n",
            "|equipePK|   equipeNome|          filialNome|  filialCidade|  filialEstadoNome|filialEstadoSigla|filialRegiaoNome|filialRegiaoSigla|filialPaisNome|filialPaisSigla|\n",
            "+--------+-------------+--------------------+--------------+------------------+-----------------+----------------+-----------------+--------------+---------------+\n",
            "|       1|APP - DESKTOP|SAO PAULO - AV. P...|     SAO PAULO|         SAO PAULO|               SP|         SUDESTE|               SE|        BRASIL|             BR|\n",
            "|       2|APP - DESKTOP|RIO DE JANEIRO - ...|RIO DE JANEIRO|    RIO DE JANEIRO|               RJ|         SUDESTE|               SE|        BRASIL|             BR|\n",
            "|       3|          WEB|SAO PAULO - AV. P...|     SAO PAULO|         SAO PAULO|               SP|         SUDESTE|               SE|        BRASIL|             BR|\n",
            "|       4|          WEB|RIO DE JANEIRO - ...|RIO DE JANEIRO|    RIO DE JANEIRO|               RJ|         SUDESTE|               SE|        BRASIL|             BR|\n",
            "|       5|          WEB|CAMPO GRANDE - CE...|  CAMPO GRANDE|MATO GROSSO DO SUL|               MS|    CENTRO-OESTE|               CO|        BRASIL|             BR|\n",
            "+--------+-------------+--------------------+--------------+------------------+-----------------+----------------+-----------------+--------------+---------------+\n",
            "only showing top 5 rows\n",
            "\n",
            "root\n",
            " |-- equipePK: string (nullable = true)\n",
            " |-- equipeNome: string (nullable = true)\n",
            " |-- filialNome: string (nullable = true)\n",
            " |-- filialCidade: string (nullable = true)\n",
            " |-- filialEstadoNome: string (nullable = true)\n",
            " |-- filialEstadoSigla: string (nullable = true)\n",
            " |-- filialRegiaoNome: string (nullable = true)\n",
            " |-- filialRegiaoSigla: string (nullable = true)\n",
            " |-- filialPaisNome: string (nullable = true)\n",
            " |-- filialPaisSigla: string (nullable = true)\n",
            "\n"
          ]
        }
      ]
    },
    {
      "cell_type": "code",
      "metadata": {
        "colab": {
          "base_uri": "https://localhost:8080/"
        },
        "id": "RsF4rcS7Zp4O",
        "outputId": "6d7960c4-81a0-46cf-ac74-885eec3fe855"
      },
      "source": [
        "#criando e exibindo o DataFrame para a tabela de fatos funcionario\n",
        "funcionario = spark.read.csv(path=\"data/funcionario.csv\", header=True, sep=\",\")\n",
        "funcionario.show(5)\n",
        "funcionario.printSchema()"
      ],
      "execution_count": null,
      "outputs": [
        {
          "output_type": "stream",
          "name": "stdout",
          "text": [
            "+------+-------------+-------------+--------+------------------+-----------------+-----------------+-----------------+-----------+--------------+---------------+--------------+---------------+------------+-------------+\n",
            "|funcPK|funcMatricula|     funcNome|funcSexo|funcDataNascimento|funcDiaNascimento|funcMesNascimento|funcAnoNascimento| funcCidade|funcEstadoNome|funcEstadoSigla|funcRegiaoNome|funcRegiaoSigla|funcPaisNome|funcPaisSigla|\n",
            "+------+-------------+-------------+--------+------------------+-----------------+-----------------+-----------------+-----------+--------------+---------------+--------------+---------------+------------+-------------+\n",
            "|     1|          M-1|ALINE ALMEIDA|       F|          1/1/1990|                1|                1|             1990|  SAO PAULO|     SAO PAULO|             SP|       SUDESTE|             SE|      BRASIL|           BR|\n",
            "|     2|          M-2|   ARAO ALVES|       M|          2/2/1990|                2|                2|             1990|   CAMPINAS|     SAO PAULO|             SP|       SUDESTE|             SE|      BRASIL|           BR|\n",
            "|     3|          M-3| ARON ANDRADE|       M|          3/3/1990|                3|                3|             1990|     SANTOS|     SAO PAULO|             SP|       SUDESTE|             SE|      BRASIL|           BR|\n",
            "|     4|          M-4|  ADA BARBOSA|       F|          4/4/1990|                4|                4|             1990|SANTO ANDRE|     SAO PAULO|             SP|       SUDESTE|             SE|      BRASIL|           BR|\n",
            "|     5|          M-5|ABADE BATISTA|       M|          5/5/1990|                5|                5|             1990| PIRACICABA|     SAO PAULO|             SP|       SUDESTE|             SE|      BRASIL|           BR|\n",
            "+------+-------------+-------------+--------+------------------+-----------------+-----------------+-----------------+-----------+--------------+---------------+--------------+---------------+------------+-------------+\n",
            "only showing top 5 rows\n",
            "\n",
            "root\n",
            " |-- funcPK: string (nullable = true)\n",
            " |-- funcMatricula: string (nullable = true)\n",
            " |-- funcNome: string (nullable = true)\n",
            " |-- funcSexo: string (nullable = true)\n",
            " |-- funcDataNascimento: string (nullable = true)\n",
            " |-- funcDiaNascimento: string (nullable = true)\n",
            " |-- funcMesNascimento: string (nullable = true)\n",
            " |-- funcAnoNascimento: string (nullable = true)\n",
            " |-- funcCidade: string (nullable = true)\n",
            " |-- funcEstadoNome: string (nullable = true)\n",
            " |-- funcEstadoSigla: string (nullable = true)\n",
            " |-- funcRegiaoNome: string (nullable = true)\n",
            " |-- funcRegiaoSigla: string (nullable = true)\n",
            " |-- funcPaisNome: string (nullable = true)\n",
            " |-- funcPaisSigla: string (nullable = true)\n",
            "\n"
          ]
        }
      ]
    },
    {
      "cell_type": "code",
      "metadata": {
        "colab": {
          "base_uri": "https://localhost:8080/"
        },
        "id": "s4aZ0M6OZvg2",
        "outputId": "a4ffe33d-dea4-4d3c-a8f9-724d21820da9"
      },
      "source": [
        "#criando e exibindo o DataFrame para a tabela de fatos negociacao\n",
        "negociacao = spark.read.csv(path=\"data/negociacao.csv\", header=True, sep=\",\")\n",
        "negociacao.show(5)\n",
        "negociacao.printSchema()"
      ],
      "execution_count": null,
      "outputs": [
        {
          "output_type": "stream",
          "name": "stdout",
          "text": [
            "+--------+---------+------+--------+---------------------+\n",
            "|equipePK|clientePK|dataPK| receita|quantidadeNegociacoes|\n",
            "+--------+---------+------+--------+---------------------+\n",
            "|       2|        9|    22|11564.75|                    1|\n",
            "|       2|       24|    11| 17990.5|                    1|\n",
            "|       2|       28|    21| 16335.9|                    1|\n",
            "|       1|       30|    23| 8495.55|                    1|\n",
            "|       2|       43|    30|24748.75|                    1|\n",
            "+--------+---------+------+--------+---------------------+\n",
            "only showing top 5 rows\n",
            "\n",
            "root\n",
            " |-- equipePK: string (nullable = true)\n",
            " |-- clientePK: string (nullable = true)\n",
            " |-- dataPK: string (nullable = true)\n",
            " |-- receita: string (nullable = true)\n",
            " |-- quantidadeNegociacoes: string (nullable = true)\n",
            "\n"
          ]
        }
      ]
    },
    {
      "cell_type": "code",
      "metadata": {
        "colab": {
          "base_uri": "https://localhost:8080/"
        },
        "id": "DzVUaFptodHJ",
        "outputId": "f65400b2-ce13-49ba-bc96-dd72ca90dc72"
      },
      "source": [
        "#criando e exibindo o DataFrame para a tabela de fatos pagamento\n",
        "pagamento = spark.read.csv(path=\"data/pagamento.csv\", header=True, sep=\",\")\n",
        "pagamento.show()\n",
        "pagamento.printSchema()"
      ],
      "execution_count": null,
      "outputs": [
        {
          "output_type": "stream",
          "name": "stdout",
          "text": [
            "+------+--------+------+-------+--------+---------------------+\n",
            "|funcPK|equipePK|dataPK|cargoPK| salario|quantidadeLancamentos|\n",
            "+------+--------+------+-------+--------+---------------------+\n",
            "|   147|       2|     5|     64| 1559.94|                    1|\n",
            "|   124|       2|     5|    329| 8102.77|                    1|\n",
            "|   175|       1|     5|    328| 2532.51|                    1|\n",
            "|   171|       1|     5|    245|  7882.7|                    1|\n",
            "|   148|       2|     5|     65| 4404.59|                    1|\n",
            "|     5|       2|     5|    112| 2226.66|                    1|\n",
            "|   128|       1|     5|    341| 6157.04|                    1|\n",
            "|    82|       2|     5|     43| 1585.51|                    1|\n",
            "|    28|       1|     5|    253| 1594.02|                    1|\n",
            "|    46|       1|     5|    390| 9880.16|                    1|\n",
            "|    91|       2|     5|    233|10931.47|                    1|\n",
            "|   176|       2|     5|    241| 2005.49|                    1|\n",
            "|   172|       1|     5|    351|14218.28|                    1|\n",
            "|   155|       1|     5|    121| 2002.57|                    1|\n",
            "|    19|       2|     5|    223| 1778.26|                    1|\n",
            "|    94|       1|     5|    394|  2505.1|                    1|\n",
            "|    26|       2|     5|    350| 9162.46|                    1|\n",
            "|    55|       2|     5|    313| 3215.53|                    1|\n",
            "|    29|       1|     5|     62| 4128.44|                    1|\n",
            "|   181|       1|     5|    249|11082.75|                    1|\n",
            "+------+--------+------+-------+--------+---------------------+\n",
            "only showing top 20 rows\n",
            "\n",
            "root\n",
            " |-- funcPK: string (nullable = true)\n",
            " |-- equipePK: string (nullable = true)\n",
            " |-- dataPK: string (nullable = true)\n",
            " |-- cargoPK: string (nullable = true)\n",
            " |-- salario: string (nullable = true)\n",
            " |-- quantidadeLancamentos: string (nullable = true)\n",
            "\n"
          ]
        }
      ]
    },
    {
      "cell_type": "markdown",
      "metadata": {
        "id": "EM_lc4wAqwjQ"
      },
      "source": [
        "## 4.3 Manipulação da Tipagem dos Dados\n",
        "\n",
        "Como pode ser observado nos comandos relativos ao método `printSchema()` aplicado a cada um dos `DataFrames` gerados, todos os tipos de dados importados são *string*. Entretanto, alguns valores devem ser do tipo de dado *numérico*. Portanto, primeiramente é usado o método `cast()` para a conversão entre os tipos de dados e depois o método `withColumn()` para substituir a colunas existentes por novas colunas contendo os valores convertidos. \n",
        "\n",
        "É importante salientar que, mesmo que o parâmetro `inferSchema` fosse especificado como `true` no método `spark.read.csv()`, ainda existiria a necessidade de se verificar os tipos de dados e realizar a conversão caso necessário.    \n"
      ]
    },
    {
      "cell_type": "markdown",
      "metadata": {
        "id": "_FYAnVsGf-vm"
      },
      "source": [
        "### Método cast()\n",
        "\n",
        "`cast(tipoDeDado)`\n",
        "\n",
        "Converte o atributo para o `tipoDeDado` passado como parâmetro. Podem ser definidos os seguintes valores para `tipoDeDado`: DataType, NullType, StringType, BinaryType, BooleanType, DateType, TimestampType, DecimalType, DoubleType, FloatType, ByteType, IntegerType, LongType, ShortType, ArrayType, MapType, StructField, StructType.\n",
        "\n"
      ]
    },
    {
      "cell_type": "markdown",
      "metadata": {
        "id": "ezQ3qIR1xTI8"
      },
      "source": [
        "### Método withColumn()\n",
        "\n",
        "`withColumn(nomeColuna, exprColuna)`\n",
        "\n",
        "Retorna um novo `DataFrame` adicionando uma coluna de `nomeColuna` ou substituindo uma coluna existente que possui o mesmo nome `nomeColuna`, usando o parâmetro `exprColuna` para o preenchimento dos valores daquela coluna.  \n",
        "\n",
        "Este comando considera o `DataFrame` sobre o qual ele foi aplicado, não permitindo adicionar a esse `DataFrame` colunas de um segundo `DataFrame`."
      ]
    },
    {
      "cell_type": "markdown",
      "metadata": {
        "id": "mrch9vLgjl_H"
      },
      "source": [
        "## 4.4 Atualização dos Tipos de Dados "
      ]
    },
    {
      "cell_type": "markdown",
      "metadata": {
        "id": "9A_ot2pOjsWB"
      },
      "source": [
        "Nos comandos a seguir, primeiro são identificados quais colunas de quais `DataFrames` devem ser do tipo de dado inteiro. Na sequência, ocorre a conversão. Por fim, são exibidos os esquemas dos `DataFrames`, possibilitando visualizar a mudança de tipo de dados das colunas especificadas."
      ]
    },
    {
      "cell_type": "code",
      "metadata": {
        "id": "jmCV6Mur__z6"
      },
      "source": [
        "# identificando quais colunas de quais DataFrames devem ser do tipo de dado inteiro\n",
        "colunas_cargo = [\"cargoPK\"]\n",
        "colunas_cliente = [\"clientePK\"]\n",
        "colunas_data = [\"dataPk\", \"dataDia\", \"dataMes\", \"dataBimestre\", \"dataTrimestre\", \"dataSemestre\", \"dataAno\"]\n",
        "colunas_equipe = [\"equipePK\"]\n",
        "colunas_funcionario = [\"funcPK\", \"funcDiaNascimento\", \"funcMesNascimento\", \"funcAnoNascimento\"]\n",
        "colunas_negociacao = [\"equipePK\", \"clientePK\", \"dataPK\", \"quantidadeNegociacoes\"]\n",
        "colunas_pagamento = [\"funcPK\", \"equipePK\", \"dataPK\", \"cargoPK\", \"quantidadeLancamentos\"]"
      ],
      "execution_count": null,
      "outputs": []
    },
    {
      "cell_type": "code",
      "metadata": {
        "id": "yPNnDJcG9R5H"
      },
      "source": [
        "# importando o tipo de dado desejado\n",
        "from pyspark.sql.types import IntegerType\n",
        "\n",
        "\n",
        "# atualizando o tipo de dado das colunas especificadas \n",
        "# substituindo as colunas já existentes \n",
        "\n",
        "for coluna in colunas_cargo:\n",
        "  cargo = cargo.withColumn(coluna, cargo[coluna].cast(IntegerType()))\n",
        "\n",
        "for coluna in colunas_cliente:\n",
        "  cliente = cliente.withColumn(coluna, cliente[coluna].cast(IntegerType()))\n",
        "\n",
        "for coluna in colunas_data:\n",
        "  data = data.withColumn(coluna, data[coluna].cast(IntegerType()))\n",
        "\n",
        "for coluna in colunas_equipe:\n",
        "  equipe = equipe.withColumn(coluna, equipe[coluna].cast(IntegerType()))\n",
        "\n",
        "for coluna in colunas_funcionario:\n",
        "  funcionario = funcionario.withColumn(coluna, funcionario[coluna].cast(IntegerType()))\n",
        "\n",
        "for coluna in colunas_negociacao:\n",
        "  negociacao = negociacao.withColumn(coluna, negociacao[coluna].cast(IntegerType()))\n",
        "\n",
        "for coluna in colunas_pagamento:\n",
        "  pagamento = pagamento.withColumn(coluna, pagamento[coluna].cast(IntegerType()))"
      ],
      "execution_count": null,
      "outputs": []
    },
    {
      "cell_type": "code",
      "metadata": {
        "colab": {
          "base_uri": "https://localhost:8080/"
        },
        "id": "DMCTiqh_iUsJ",
        "outputId": "676610de-7bbb-46e3-e8cc-3f93c0719ca4"
      },
      "source": [
        "# exibindo o esquema dos DataFrames após as alterações realizadas\n",
        "cargo.printSchema()\n",
        "cliente.printSchema()\n",
        "data.printSchema()\n",
        "equipe.printSchema()\n",
        "funcionario.printSchema()\n",
        "pagamento.printSchema()\n",
        "negociacao.printSchema()"
      ],
      "execution_count": null,
      "outputs": [
        {
          "output_type": "stream",
          "name": "stdout",
          "text": [
            "root\n",
            " |-- cargoPK: integer (nullable = true)\n",
            " |-- cargoNome: string (nullable = true)\n",
            " |-- cargoRegimeTrabalho: string (nullable = true)\n",
            " |-- cargoJornadaTrabalho: string (nullable = true)\n",
            " |-- cargoEscolaridadeMinima: string (nullable = true)\n",
            " |-- cargoNivel: string (nullable = true)\n",
            "\n",
            "root\n",
            " |-- clientePK: integer (nullable = true)\n",
            " |-- clienteNomeFantasia: string (nullable = true)\n",
            " |-- clienteSetor: string (nullable = true)\n",
            " |-- clienteCidade: string (nullable = true)\n",
            " |-- clienteEstadoNome: string (nullable = true)\n",
            " |-- clienteEstadoSigla: string (nullable = true)\n",
            " |-- clienteRegiaoNome: string (nullable = true)\n",
            " |-- clienteRegiaoSigla: string (nullable = true)\n",
            " |-- clientePaisNome: string (nullable = true)\n",
            " |-- clientePaisSigla: string (nullable = true)\n",
            "\n",
            "root\n",
            " |-- dataPk: integer (nullable = true)\n",
            " |-- dataCompleta: string (nullable = true)\n",
            " |-- dataDia: integer (nullable = true)\n",
            " |-- dataMes: integer (nullable = true)\n",
            " |-- dataBimestre: integer (nullable = true)\n",
            " |-- dataTrimestre: integer (nullable = true)\n",
            " |-- dataSemestre: integer (nullable = true)\n",
            " |-- dataAno: integer (nullable = true)\n",
            "\n",
            "root\n",
            " |-- equipePK: integer (nullable = true)\n",
            " |-- equipeNome: string (nullable = true)\n",
            " |-- filialNome: string (nullable = true)\n",
            " |-- filialCidade: string (nullable = true)\n",
            " |-- filialEstadoNome: string (nullable = true)\n",
            " |-- filialEstadoSigla: string (nullable = true)\n",
            " |-- filialRegiaoNome: string (nullable = true)\n",
            " |-- filialRegiaoSigla: string (nullable = true)\n",
            " |-- filialPaisNome: string (nullable = true)\n",
            " |-- filialPaisSigla: string (nullable = true)\n",
            "\n",
            "root\n",
            " |-- funcPK: integer (nullable = true)\n",
            " |-- funcMatricula: string (nullable = true)\n",
            " |-- funcNome: string (nullable = true)\n",
            " |-- funcSexo: string (nullable = true)\n",
            " |-- funcDataNascimento: string (nullable = true)\n",
            " |-- funcDiaNascimento: integer (nullable = true)\n",
            " |-- funcMesNascimento: integer (nullable = true)\n",
            " |-- funcAnoNascimento: integer (nullable = true)\n",
            " |-- funcCidade: string (nullable = true)\n",
            " |-- funcEstadoNome: string (nullable = true)\n",
            " |-- funcEstadoSigla: string (nullable = true)\n",
            " |-- funcRegiaoNome: string (nullable = true)\n",
            " |-- funcRegiaoSigla: string (nullable = true)\n",
            " |-- funcPaisNome: string (nullable = true)\n",
            " |-- funcPaisSigla: string (nullable = true)\n",
            "\n",
            "root\n",
            " |-- funcPK: integer (nullable = true)\n",
            " |-- equipePK: integer (nullable = true)\n",
            " |-- dataPK: integer (nullable = true)\n",
            " |-- cargoPK: integer (nullable = true)\n",
            " |-- salario: string (nullable = true)\n",
            " |-- quantidadeLancamentos: integer (nullable = true)\n",
            "\n",
            "root\n",
            " |-- equipePK: integer (nullable = true)\n",
            " |-- clientePK: integer (nullable = true)\n",
            " |-- dataPK: integer (nullable = true)\n",
            " |-- receita: string (nullable = true)\n",
            " |-- quantidadeNegociacoes: integer (nullable = true)\n",
            "\n"
          ]
        }
      ]
    },
    {
      "cell_type": "markdown",
      "metadata": {
        "id": "J0dX_7U_AzIY"
      },
      "source": [
        "Nos comandos a seguir, primeiro são identificados quais colunas de quais `DataFrames` devem ser do tipo de dado número de ponto flutuante. Na sequência, ocorre a conversão. Por fim, são exibidos os esquemas dos `DataFrames`, possibilitando visualizar a mudança de tipo de dados das colunas especificadas."
      ]
    },
    {
      "cell_type": "code",
      "metadata": {
        "id": "RBcQ7Ep7AWqN"
      },
      "source": [
        "# identificando quais colunas de quais DataFrames devem ser do tipo de dado número de ponto flutuante\n",
        "colunas_negociacao = [\"receita\"]\n",
        "colunas_pagamento = [\"salario\"]"
      ],
      "execution_count": null,
      "outputs": []
    },
    {
      "cell_type": "code",
      "metadata": {
        "id": "rcfvkIK1BRSp"
      },
      "source": [
        "# importando o tipo de dado desejado\n",
        "from pyspark.sql.types import FloatType\n",
        "\n",
        "\n",
        "# atualizando o tipo de dado das colunas especificadas \n",
        "# substituindo as colunas já existentes \n",
        "\n",
        "for coluna in colunas_negociacao:\n",
        "  negociacao = negociacao.withColumn(coluna, negociacao[coluna].cast(FloatType()))\n",
        "\n",
        "for coluna in colunas_pagamento:\n",
        "  pagamento = pagamento.withColumn(coluna, pagamento[coluna].cast(FloatType()))"
      ],
      "execution_count": null,
      "outputs": []
    },
    {
      "cell_type": "code",
      "metadata": {
        "colab": {
          "base_uri": "https://localhost:8080/"
        },
        "id": "F_fDE1gwBoEG",
        "outputId": "5a4ed911-0ca7-4acd-d279-d5eee6da9473"
      },
      "source": [
        "# exibindo o esquema dos DataFrames após as alterações realizadas\n",
        "pagamento.printSchema()\n",
        "negociacao.printSchema()"
      ],
      "execution_count": null,
      "outputs": [
        {
          "output_type": "stream",
          "name": "stdout",
          "text": [
            "root\n",
            " |-- funcPK: integer (nullable = true)\n",
            " |-- equipePK: integer (nullable = true)\n",
            " |-- dataPK: integer (nullable = true)\n",
            " |-- cargoPK: integer (nullable = true)\n",
            " |-- salario: float (nullable = true)\n",
            " |-- quantidadeLancamentos: integer (nullable = true)\n",
            "\n",
            "root\n",
            " |-- equipePK: integer (nullable = true)\n",
            " |-- clientePK: integer (nullable = true)\n",
            " |-- dataPK: integer (nullable = true)\n",
            " |-- receita: float (nullable = true)\n",
            " |-- quantidadeNegociacoes: integer (nullable = true)\n",
            "\n"
          ]
        }
      ]
    },
    {
      "cell_type": "markdown",
      "metadata": {
        "id": "SohIY0GFj5oP"
      },
      "source": [
        "Note que outras conversões de formato também poderiam ser realizadas, como mudar as colunas referentes às datas para o tipo de dado `DateType`. "
      ]
    },
    {
      "cell_type": "markdown",
      "metadata": {
        "id": "2x0nrB3RukpX"
      },
      "source": [
        "#5 Métodos Similares às Cláusulas SQL"
      ]
    },
    {
      "cell_type": "markdown",
      "metadata": {
        "id": "C0y4a8vNk8es"
      },
      "source": [
        "O módulo `pyspark.sql` oferece diversos métodos com funcionalidades similares às cláusulas da linguagem SQL. Esses métodos são descritos considerando as similaridades com a estrutura básica do comando SELECT, com as funções de agregação e agrupamento e com as operações sobre conjuntos. "
      ]
    },
    {
      "cell_type": "markdown",
      "metadata": {
        "id": "flk6RXGRLhs8"
      },
      "source": [
        "## 5.1 Estrutura Básica do Comando SELECT"
      ]
    },
    {
      "cell_type": "markdown",
      "metadata": {
        "id": "MFvln3nMv3oq"
      },
      "source": [
        "### Método select()\n",
        "\n",
        "`select (coluna_1, ..., coluna_n)`\n",
        "\n",
        "Lista as colunas definidas, gerando um novo `DataFrame`. É possível utilizar o caractere `*` para indicar que todas as colunas do `DataFrame` devem ser exibidas. \n",
        "\n",
        "Este método é equivalente à cláusula `SELECT` da linguagem SQL."
      ]
    },
    {
      "cell_type": "markdown",
      "metadata": {
        "id": "Qm2BqCQ95l3r"
      },
      "source": [
        "Os comandos a seguir selecionam as duas primeiras colunas do `DataFrame funcionario`."
      ]
    },
    {
      "cell_type": "code",
      "metadata": {
        "colab": {
          "base_uri": "https://localhost:8080/"
        },
        "id": "yZek4vPH5sDx",
        "outputId": "79a8a792-180b-4788-e7b6-5614119fee7b"
      },
      "source": [
        "#exemplo que mostra o esquema selecionado\n",
        "funcionario\\\n",
        "   .select('funcPK', 'funcMatricula')\n"
      ],
      "execution_count": null,
      "outputs": [
        {
          "output_type": "execute_result",
          "data": {
            "text/plain": [
              "DataFrame[funcPK: int, funcMatricula: string]"
            ]
          },
          "metadata": {},
          "execution_count": 23
        }
      ]
    },
    {
      "cell_type": "code",
      "metadata": {
        "colab": {
          "base_uri": "https://localhost:8080/"
        },
        "id": "lYNZUwY-6UaT",
        "outputId": "dc16eab6-9ebf-4c0d-b5c0-664de7d9dd6d"
      },
      "source": [
        "#exibindo os dados usando o método .take\n",
        "#exibindo linha a linha\n",
        "funcionario\\\n",
        "   .select('funcPK', 'funcMatricula')\\\n",
        "   .take(5)"
      ],
      "execution_count": null,
      "outputs": [
        {
          "output_type": "execute_result",
          "data": {
            "text/plain": [
              "[Row(funcPK=1, funcMatricula='M-1'),\n",
              " Row(funcPK=2, funcMatricula='M-2'),\n",
              " Row(funcPK=3, funcMatricula='M-3'),\n",
              " Row(funcPK=4, funcMatricula='M-4'),\n",
              " Row(funcPK=5, funcMatricula='M-5')]"
            ]
          },
          "metadata": {},
          "execution_count": 24
        }
      ]
    },
    {
      "cell_type": "code",
      "metadata": {
        "colab": {
          "base_uri": "https://localhost:8080/"
        },
        "id": "98Un8DFf6V3z",
        "outputId": "a7d340dc-e380-4e96-c4f3-244154f92484"
      },
      "source": [
        "#exibindo as linhas na forma de tabela\n",
        "funcionario\\\n",
        "   .select('funcPK', 'funcMatricula')\\\n",
        "   .show(5)"
      ],
      "execution_count": null,
      "outputs": [
        {
          "output_type": "stream",
          "name": "stdout",
          "text": [
            "+------+-------------+\n",
            "|funcPK|funcMatricula|\n",
            "+------+-------------+\n",
            "|     1|          M-1|\n",
            "|     2|          M-2|\n",
            "|     3|          M-3|\n",
            "|     4|          M-4|\n",
            "|     5|          M-5|\n",
            "+------+-------------+\n",
            "only showing top 5 rows\n",
            "\n"
          ]
        }
      ]
    },
    {
      "cell_type": "code",
      "metadata": {
        "colab": {
          "base_uri": "https://localhost:8080/"
        },
        "id": "6VSXPshz-N8a",
        "outputId": "69605236-4dec-41d6-93c9-cbb9c4608416"
      },
      "source": [
        "#exibindo as linhas na forma de tabela\n",
        "#forma de representação alternativa\n",
        "funcionario\\\n",
        "   .select(funcionario[\"funcPK\"], funcionario[\"funcMatricula\"])\\\n",
        "   .show(5)"
      ],
      "execution_count": null,
      "outputs": [
        {
          "output_type": "stream",
          "name": "stdout",
          "text": [
            "+------+-------------+\n",
            "|funcPK|funcMatricula|\n",
            "+------+-------------+\n",
            "|     1|          M-1|\n",
            "|     2|          M-2|\n",
            "|     3|          M-3|\n",
            "|     4|          M-4|\n",
            "|     5|          M-5|\n",
            "+------+-------------+\n",
            "only showing top 5 rows\n",
            "\n"
          ]
        }
      ]
    },
    {
      "cell_type": "markdown",
      "metadata": {
        "id": "sJhFyXwkvTIH"
      },
      "source": [
        "### Método selectExpr()\n",
        "\n",
        "`selectExpr (expressao_1, ..., expressao_n)`\n",
        "\n",
        "Lista as expressões definidas, as quais podem ser nomes de colunas, gerando um novo `DataFrame`. \n",
        "\n",
        "Este método é uma variação do método `select()` que permite a especificação de expressões SQL. \n",
        "\n",
        "Este método é equivalente à cláusula `SELECT` da linguagem SQL."
      ]
    },
    {
      "cell_type": "markdown",
      "metadata": {
        "id": "49QKuNkHvxsE"
      },
      "source": [
        "O comando a seguir seleciona as duas primeiras colunas do `DataFrame funcionario`, multiplicando a primeira coluna por 2."
      ]
    },
    {
      "cell_type": "code",
      "metadata": {
        "colab": {
          "base_uri": "https://localhost:8080/"
        },
        "id": "0Sx6Bkgvv5k4",
        "outputId": "b4a64c85-7553-4961-9ba5-ece7334db90f"
      },
      "source": [
        "funcionario\\\n",
        "   .selectExpr(\"funcPK * 2\", \"funcMatricula\")\\\n",
        "   .show(5)"
      ],
      "execution_count": null,
      "outputs": [
        {
          "output_type": "stream",
          "name": "stdout",
          "text": [
            "+------------+-------------+\n",
            "|(funcPK * 2)|funcMatricula|\n",
            "+------------+-------------+\n",
            "|           2|          M-1|\n",
            "|           4|          M-2|\n",
            "|           6|          M-3|\n",
            "|           8|          M-4|\n",
            "|          10|          M-5|\n",
            "+------------+-------------+\n",
            "only showing top 5 rows\n",
            "\n"
          ]
        }
      ]
    },
    {
      "cell_type": "markdown",
      "metadata": {
        "id": "U4SQpqjiCTw4"
      },
      "source": [
        "### Método distinct()\n",
        "\n",
        "`distinct()`\n",
        "\n",
        "Retorna um novo `DataFrame` contendo apenas linhas cujos valores são diferentes entre si. \n",
        "\n",
        "Este método é equivalente à cláusula `DISTINCT` da linguagem SQL."
      ]
    },
    {
      "cell_type": "markdown",
      "metadata": {
        "id": "bMXZtiIRFD86"
      },
      "source": [
        "Nos comandos a seguir, primeiro é listada somente a coluna `funcSexo` de funcionário, mostrando valores repetidos para os sexos. Na sequência, é listada a coluna `funcSexo` de funcionário, porém sem listar valores repetidos."
      ]
    },
    {
      "cell_type": "code",
      "metadata": {
        "colab": {
          "base_uri": "https://localhost:8080/"
        },
        "id": "euGR31rjCqhT",
        "outputId": "373d488b-696b-49d6-a5b6-7bac21a7715d"
      },
      "source": [
        "funcionario\\\n",
        "   .select('funcSexo')\\\n",
        "   .show(10)"
      ],
      "execution_count": null,
      "outputs": [
        {
          "output_type": "stream",
          "name": "stdout",
          "text": [
            "+--------+\n",
            "|funcSexo|\n",
            "+--------+\n",
            "|       F|\n",
            "|       M|\n",
            "|       M|\n",
            "|       F|\n",
            "|       M|\n",
            "|       M|\n",
            "|       F|\n",
            "|       M|\n",
            "|       M|\n",
            "|       M|\n",
            "+--------+\n",
            "only showing top 10 rows\n",
            "\n"
          ]
        }
      ]
    },
    {
      "cell_type": "code",
      "metadata": {
        "colab": {
          "base_uri": "https://localhost:8080/"
        },
        "id": "HYT6tK_ODj_H",
        "outputId": "435f25cd-9e65-4070-8bcf-e4c0dd80661a"
      },
      "source": [
        "funcionario\\\n",
        "   .select('funcSexo')\\\n",
        "   .distinct()\\\n",
        "   .show()"
      ],
      "execution_count": null,
      "outputs": [
        {
          "output_type": "stream",
          "name": "stdout",
          "text": [
            "+--------+\n",
            "|funcSexo|\n",
            "+--------+\n",
            "|       F|\n",
            "|       M|\n",
            "+--------+\n",
            "\n"
          ]
        }
      ]
    },
    {
      "cell_type": "markdown",
      "metadata": {
        "id": "1LzjS9SUzymp"
      },
      "source": [
        "### Método filter()\n",
        "\n",
        "`filter (condição)`\n",
        "\n",
        "Filtra as linhas do `DataFrame` de acordo com a `condição` especificada, gerando um novo `DataFrame`. Este método é equivalente ao método `where()`. \n",
        "\n",
        "Este método é equivalente à cláusula `WHERE` da linguagem SQL."
      ]
    },
    {
      "cell_type": "markdown",
      "metadata": {
        "id": "aG0vPBirBqio"
      },
      "source": [
        "O comando a seguir seleciona os funcionários do sexo feminino cujo valor de `funcPK` é maior do que 160."
      ]
    },
    {
      "cell_type": "code",
      "metadata": {
        "colab": {
          "base_uri": "https://localhost:8080/"
        },
        "id": "mMKIeeQx8CIU",
        "outputId": "9397a03e-e9f3-4096-9b0a-208a49e77f4e"
      },
      "source": [
        "funcionario\\\n",
        "   .filter(\"funcPK > 160 AND funcSexo = 'F'\")\\\n",
        "   .show()"
      ],
      "execution_count": null,
      "outputs": [
        {
          "output_type": "stream",
          "name": "stdout",
          "text": [
            "+------+-------------+----------------+--------+------------------+-----------------+-----------------+-----------------+--------------+--------------+---------------+--------------+---------------+------------+-------------+\n",
            "|funcPK|funcMatricula|        funcNome|funcSexo|funcDataNascimento|funcDiaNascimento|funcMesNascimento|funcAnoNascimento|    funcCidade|funcEstadoNome|funcEstadoSigla|funcRegiaoNome|funcRegiaoSigla|funcPaisNome|funcPaisSigla|\n",
            "+------+-------------+----------------+--------+------------------+-----------------+-----------------+-----------------+--------------+--------------+---------------+--------------+---------------+------------+-------------+\n",
            "|   161|        M-161|  ABINOA ALMEIDA|       F|          9/5/1990|                9|                5|             1990|        RECIFE|    PERNAMBUCO|             PE|      NORDESTE|             NE|      BRASIL|           BR|\n",
            "|   162|        M-162|   ABINOAN ALVES|       F|         10/6/1990|               10|                6|             1990|        RECIFE|    PERNAMBUCO|             PE|      NORDESTE|             NE|      BRASIL|           BR|\n",
            "|   166|        M-166|ABIQUEILA BARROS|       F|        14/10/1990|               14|               10|             1990|   SANTO ANDRE|     SAO PAULO|             SP|       SUDESTE|             SE|      BRASIL|           BR|\n",
            "|   169|        M-169|ABISAGUE CARDOSO|       F|         17/1/1990|               17|                1|             1990|RIBEIRAO PRETO|     SAO PAULO|             SP|       SUDESTE|             SE|      BRASIL|           BR|\n",
            "|   179|        M-179|   ABKEILA GOMES|       F|        27/11/1957|               27|               11|             1957|BELO HORIZONTE|  MINAS GERAIS|             MG|       SUDESTE|             SE|      BRASIL|           BR|\n",
            "|   180|        M-180|     ADELAR LIMA|       F|        28/12/1958|               28|               12|             1958|      ARAGUARI|  MINAS GERAIS|             MG|       SUDESTE|             SE|      BRASIL|           BR|\n",
            "|   181|        M-181| ADILENE ALMEIDA|       F|         29/1/1959|               29|                1|             1959|    OURO PRETO|  MINAS GERAIS|             MG|       SUDESTE|             SE|      BRASIL|           BR|\n",
            "|   185|        M-185|    ADNA BATISTA|       F|          4/5/1963|                4|                5|             1963|     GUARATUBA|        PARANA|             PR|           SUL|              S|      BRASIL|           BR|\n",
            "|   195|        M-195|  ABNOAN FREITAS|       F|         14/3/1973|               14|                3|             1973|    SAO CARLOS|     SAO PAULO|             SP|       SUDESTE|             SE|      BRASIL|           BR|\n",
            "|   196|        M-196|ABNOAN FERNANDES|       F|         15/4/1974|               15|                4|             1974|RIBEIRAO PRETO|     SAO PAULO|             SP|       SUDESTE|             SE|      BRASIL|           BR|\n",
            "+------+-------------+----------------+--------+------------------+-----------------+-----------------+-----------------+--------------+--------------+---------------+--------------+---------------+------------+-------------+\n",
            "\n"
          ]
        }
      ]
    },
    {
      "cell_type": "markdown",
      "metadata": {
        "id": "H0H1NxQ65H8V"
      },
      "source": [
        "### Método where()\n",
        "\n",
        "`where (condição)`\n",
        "\n",
        "Filtra as linhas do `DataFrame` de acordo com a condição especificada, criando um novo `DataFrame`. Este método é equivalente ao método `filter()`. \n",
        "\n",
        "Este método é equivalente à cláusula `WHERE` da linguagem SQL."
      ]
    },
    {
      "cell_type": "markdown",
      "metadata": {
        "id": "Jx1Tq9VZB3bd"
      },
      "source": [
        "O comando a seguir seleciona os funcionários do sexo feminino cujo valor de `funcPK` é maior do que 160."
      ]
    },
    {
      "cell_type": "code",
      "metadata": {
        "colab": {
          "base_uri": "https://localhost:8080/"
        },
        "id": "MtDWjjTwB8Ul",
        "outputId": "63ecf45f-d587-4929-d372-2133519a16ea"
      },
      "source": [
        "funcionario\\\n",
        "   .where(\"funcPK > 160 AND funcSexo = 'F'\")\\\n",
        "   .show()"
      ],
      "execution_count": null,
      "outputs": [
        {
          "output_type": "stream",
          "name": "stdout",
          "text": [
            "+------+-------------+----------------+--------+------------------+-----------------+-----------------+-----------------+--------------+--------------+---------------+--------------+---------------+------------+-------------+\n",
            "|funcPK|funcMatricula|        funcNome|funcSexo|funcDataNascimento|funcDiaNascimento|funcMesNascimento|funcAnoNascimento|    funcCidade|funcEstadoNome|funcEstadoSigla|funcRegiaoNome|funcRegiaoSigla|funcPaisNome|funcPaisSigla|\n",
            "+------+-------------+----------------+--------+------------------+-----------------+-----------------+-----------------+--------------+--------------+---------------+--------------+---------------+------------+-------------+\n",
            "|   161|        M-161|  ABINOA ALMEIDA|       F|          9/5/1990|                9|                5|             1990|        RECIFE|    PERNAMBUCO|             PE|      NORDESTE|             NE|      BRASIL|           BR|\n",
            "|   162|        M-162|   ABINOAN ALVES|       F|         10/6/1990|               10|                6|             1990|        RECIFE|    PERNAMBUCO|             PE|      NORDESTE|             NE|      BRASIL|           BR|\n",
            "|   166|        M-166|ABIQUEILA BARROS|       F|        14/10/1990|               14|               10|             1990|   SANTO ANDRE|     SAO PAULO|             SP|       SUDESTE|             SE|      BRASIL|           BR|\n",
            "|   169|        M-169|ABISAGUE CARDOSO|       F|         17/1/1990|               17|                1|             1990|RIBEIRAO PRETO|     SAO PAULO|             SP|       SUDESTE|             SE|      BRASIL|           BR|\n",
            "|   179|        M-179|   ABKEILA GOMES|       F|        27/11/1957|               27|               11|             1957|BELO HORIZONTE|  MINAS GERAIS|             MG|       SUDESTE|             SE|      BRASIL|           BR|\n",
            "|   180|        M-180|     ADELAR LIMA|       F|        28/12/1958|               28|               12|             1958|      ARAGUARI|  MINAS GERAIS|             MG|       SUDESTE|             SE|      BRASIL|           BR|\n",
            "|   181|        M-181| ADILENE ALMEIDA|       F|         29/1/1959|               29|                1|             1959|    OURO PRETO|  MINAS GERAIS|             MG|       SUDESTE|             SE|      BRASIL|           BR|\n",
            "|   185|        M-185|    ADNA BATISTA|       F|          4/5/1963|                4|                5|             1963|     GUARATUBA|        PARANA|             PR|           SUL|              S|      BRASIL|           BR|\n",
            "|   195|        M-195|  ABNOAN FREITAS|       F|         14/3/1973|               14|                3|             1973|    SAO CARLOS|     SAO PAULO|             SP|       SUDESTE|             SE|      BRASIL|           BR|\n",
            "|   196|        M-196|ABNOAN FERNANDES|       F|         15/4/1974|               15|                4|             1974|RIBEIRAO PRETO|     SAO PAULO|             SP|       SUDESTE|             SE|      BRASIL|           BR|\n",
            "+------+-------------+----------------+--------+------------------+-----------------+-----------------+-----------------+--------------+--------------+---------------+--------------+---------------+------------+-------------+\n",
            "\n"
          ]
        }
      ]
    },
    {
      "cell_type": "markdown",
      "metadata": {
        "id": "rH96L5MqbVif"
      },
      "source": [
        "### Método between()\n",
        "\n",
        "`between (valorInferior, valorSuperior)`\n",
        "\n",
        "Retorna as linhas cujos valores são maiores ou iguais ao `valorInferior` e menores ou iguais ao `valorSuperior`.\n",
        "\n",
        "Este método é equivalente ao operador de comparação `BETWEEN ... AND` da linguagem SQL.\n"
      ]
    },
    {
      "cell_type": "markdown",
      "metadata": {
        "id": "I5pX68pUmtSZ"
      },
      "source": [
        "O comando a seguir seleciona os funcionários cujo valor de `funcPK` é maior ou igual a 10 e menor ou igual a 15."
      ]
    },
    {
      "cell_type": "code",
      "metadata": {
        "colab": {
          "base_uri": "https://localhost:8080/"
        },
        "id": "DGInxweLmizE",
        "outputId": "590d19ad-411a-4c41-bfea-6b96eb4a9636"
      },
      "source": [
        "funcionario\\\n",
        "   .filter(\"funcPK BETWEEN 10 AND 15\")\\\n",
        "   .show()"
      ],
      "execution_count": null,
      "outputs": [
        {
          "output_type": "stream",
          "name": "stdout",
          "text": [
            "+------+-------------+---------------+--------+------------------+-----------------+-----------------+-----------------+--------------+--------------+---------------+--------------+---------------+------------+-------------+\n",
            "|funcPK|funcMatricula|       funcNome|funcSexo|funcDataNascimento|funcDiaNascimento|funcMesNascimento|funcAnoNascimento|    funcCidade|funcEstadoNome|funcEstadoSigla|funcRegiaoNome|funcRegiaoSigla|funcPaisNome|funcPaisSigla|\n",
            "+------+-------------+---------------+--------+------------------+-----------------+-----------------+-----------------+--------------+--------------+---------------+--------------+---------------+------------+-------------+\n",
            "|    10|         M-10| ADETE CARVALHO|       M|        10/10/1990|               10|               10|             1990|        OSASCO|     SAO PAULO|             SP|       SUDESTE|             SE|      BRASIL|           BR|\n",
            "|    11|         M-11|     ABD CASTRO|       M|        11/11/1990|               11|               11|             1990|    ARARAQUARA|     SAO PAULO|             SP|       SUDESTE|             SE|      BRASIL|           BR|\n",
            "|    12|         M-12|     ABDA COSTA|       F|        12/12/1990|               12|               12|             1990|       BARUERI|     SAO PAULO|             SP|       SUDESTE|             SE|      BRASIL|           BR|\n",
            "|    13|         M-13|    ABDIEL DIAS|       M|         13/1/1990|               13|                1|             1990|RIO DE JANEIRO|RIO DE JANEIRO|             RJ|       SUDESTE|             SE|      BRASIL|           BR|\n",
            "|    14|         M-14|  ABDALA DUARTE|       M|         14/2/1990|               14|                2|             1990| VOLTA REDONDA|RIO DE JANEIRO|             RJ|       SUDESTE|             SE|      BRASIL|           BR|\n",
            "|    15|         M-15|ABDALLA FREITAS|       M|         15/3/1990|               15|                3|             1990|ANGRA DOS REIS|RIO DE JANEIRO|             RJ|       SUDESTE|             SE|      BRASIL|           BR|\n",
            "+------+-------------+---------------+--------+------------------+-----------------+-----------------+-----------------+--------------+--------------+---------------+--------------+---------------+------------+-------------+\n",
            "\n"
          ]
        }
      ]
    },
    {
      "cell_type": "markdown",
      "metadata": {
        "id": "B5rg_-r4dA6z"
      },
      "source": [
        "### Métodos isNull() e isNotNull()\n",
        "\n",
        "Os métodos `isNull()` e `isNotNull()` estão relacionados com a verificação de valores nulos, da seguinte forma:\n",
        "\n",
        "- `isNull()`: Retorna verdadeiro se o valor do atributo for nulo. \n",
        "\n",
        "- `isNotNull()`: Retorna verdadeiro se o valor do atributo não for nulo.\n",
        "\n",
        "Estes métodos são equivalentes aos operadores de comparação `IS NULL` e `IS NOT NULL` da linguagem SQL."
      ]
    },
    {
      "cell_type": "markdown",
      "metadata": {
        "id": "IPy2sJeZm-Ka"
      },
      "source": [
        "Nos comandos a seguir, primeiramente solicita-se a listagem de todas as linhas cujo valor do atributo `funcPK` seja nulo. Nenhuma linha é retornada. Na sequência, são retornadas todas as linhas do `DataFrame` `funcionario`, desde que todos os valores do atributo `funcPK` não são nulos. "
      ]
    },
    {
      "cell_type": "code",
      "metadata": {
        "colab": {
          "base_uri": "https://localhost:8080/"
        },
        "id": "SzbgGpfWd2nJ",
        "outputId": "a7670a9d-3f89-4563-f589-1cf8a04f9922"
      },
      "source": [
        "from pyspark.sql import Row\n",
        "\n",
        "funcionario\\\n",
        "   .filter(funcionario.funcPK.isNull())\\\n",
        "   .show(5)"
      ],
      "execution_count": null,
      "outputs": [
        {
          "output_type": "stream",
          "name": "stdout",
          "text": [
            "+------+-------------+--------+--------+------------------+-----------------+-----------------+-----------------+----------+--------------+---------------+--------------+---------------+------------+-------------+\n",
            "|funcPK|funcMatricula|funcNome|funcSexo|funcDataNascimento|funcDiaNascimento|funcMesNascimento|funcAnoNascimento|funcCidade|funcEstadoNome|funcEstadoSigla|funcRegiaoNome|funcRegiaoSigla|funcPaisNome|funcPaisSigla|\n",
            "+------+-------------+--------+--------+------------------+-----------------+-----------------+-----------------+----------+--------------+---------------+--------------+---------------+------------+-------------+\n",
            "+------+-------------+--------+--------+------------------+-----------------+-----------------+-----------------+----------+--------------+---------------+--------------+---------------+------------+-------------+\n",
            "\n"
          ]
        }
      ]
    },
    {
      "cell_type": "code",
      "metadata": {
        "colab": {
          "base_uri": "https://localhost:8080/"
        },
        "id": "Cy_tY5fmeRB5",
        "outputId": "e654ec91-1a6c-4315-d150-d0b781178968"
      },
      "source": [
        "funcionario\\\n",
        "   .filter(funcionario.funcPK.isNotNull())\\\n",
        "   .show(5)"
      ],
      "execution_count": null,
      "outputs": [
        {
          "output_type": "stream",
          "name": "stdout",
          "text": [
            "+------+-------------+-------------+--------+------------------+-----------------+-----------------+-----------------+-----------+--------------+---------------+--------------+---------------+------------+-------------+\n",
            "|funcPK|funcMatricula|     funcNome|funcSexo|funcDataNascimento|funcDiaNascimento|funcMesNascimento|funcAnoNascimento| funcCidade|funcEstadoNome|funcEstadoSigla|funcRegiaoNome|funcRegiaoSigla|funcPaisNome|funcPaisSigla|\n",
            "+------+-------------+-------------+--------+------------------+-----------------+-----------------+-----------------+-----------+--------------+---------------+--------------+---------------+------------+-------------+\n",
            "|     1|          M-1|ALINE ALMEIDA|       F|          1/1/1990|                1|                1|             1990|  SAO PAULO|     SAO PAULO|             SP|       SUDESTE|             SE|      BRASIL|           BR|\n",
            "|     2|          M-2|   ARAO ALVES|       M|          2/2/1990|                2|                2|             1990|   CAMPINAS|     SAO PAULO|             SP|       SUDESTE|             SE|      BRASIL|           BR|\n",
            "|     3|          M-3| ARON ANDRADE|       M|          3/3/1990|                3|                3|             1990|     SANTOS|     SAO PAULO|             SP|       SUDESTE|             SE|      BRASIL|           BR|\n",
            "|     4|          M-4|  ADA BARBOSA|       F|          4/4/1990|                4|                4|             1990|SANTO ANDRE|     SAO PAULO|             SP|       SUDESTE|             SE|      BRASIL|           BR|\n",
            "|     5|          M-5|ABADE BATISTA|       M|          5/5/1990|                5|                5|             1990| PIRACICABA|     SAO PAULO|             SP|       SUDESTE|             SE|      BRASIL|           BR|\n",
            "+------+-------------+-------------+--------+------------------+-----------------+-----------------+-----------------+-----------+--------------+---------------+--------------+---------------+------------+-------------+\n",
            "only showing top 5 rows\n",
            "\n"
          ]
        }
      ]
    },
    {
      "cell_type": "markdown",
      "metadata": {
        "id": "zLTMTwIbecTz"
      },
      "source": [
        "### Método isin()\n",
        "\n",
        "`isin(listaDeValores)`\n",
        "\n",
        "Retorna verdadeiro se o valor do atributo estiver contido na `listaDeValores` passada como parâmetro.\n",
        "\n",
        "Este método é equivalente ao operador de comparação `IN` da linguagem SQL."
      ]
    },
    {
      "cell_type": "markdown",
      "metadata": {
        "id": "nt12rzSaneSa"
      },
      "source": [
        "No comando a seguir, são listados os dados dos funcionários cujo valor de `funcPK` está contido na lista identificada pelos valores `1, 2, 3, 4, 5`. "
      ]
    },
    {
      "cell_type": "code",
      "metadata": {
        "colab": {
          "base_uri": "https://localhost:8080/"
        },
        "id": "JGcn-mGye-PO",
        "outputId": "d20317bb-e2d2-4ef1-8c95-c4a7817f4392"
      },
      "source": [
        "funcionario[funcionario.funcPK.isin([1,2,3,4,5])]\\\n",
        "   .show()"
      ],
      "execution_count": null,
      "outputs": [
        {
          "output_type": "stream",
          "name": "stdout",
          "text": [
            "+------+-------------+-------------+--------+------------------+-----------------+-----------------+-----------------+-----------+--------------+---------------+--------------+---------------+------------+-------------+\n",
            "|funcPK|funcMatricula|     funcNome|funcSexo|funcDataNascimento|funcDiaNascimento|funcMesNascimento|funcAnoNascimento| funcCidade|funcEstadoNome|funcEstadoSigla|funcRegiaoNome|funcRegiaoSigla|funcPaisNome|funcPaisSigla|\n",
            "+------+-------------+-------------+--------+------------------+-----------------+-----------------+-----------------+-----------+--------------+---------------+--------------+---------------+------------+-------------+\n",
            "|     1|          M-1|ALINE ALMEIDA|       F|          1/1/1990|                1|                1|             1990|  SAO PAULO|     SAO PAULO|             SP|       SUDESTE|             SE|      BRASIL|           BR|\n",
            "|     2|          M-2|   ARAO ALVES|       M|          2/2/1990|                2|                2|             1990|   CAMPINAS|     SAO PAULO|             SP|       SUDESTE|             SE|      BRASIL|           BR|\n",
            "|     3|          M-3| ARON ANDRADE|       M|          3/3/1990|                3|                3|             1990|     SANTOS|     SAO PAULO|             SP|       SUDESTE|             SE|      BRASIL|           BR|\n",
            "|     4|          M-4|  ADA BARBOSA|       F|          4/4/1990|                4|                4|             1990|SANTO ANDRE|     SAO PAULO|             SP|       SUDESTE|             SE|      BRASIL|           BR|\n",
            "|     5|          M-5|ABADE BATISTA|       M|          5/5/1990|                5|                5|             1990| PIRACICABA|     SAO PAULO|             SP|       SUDESTE|             SE|      BRASIL|           BR|\n",
            "+------+-------------+-------------+--------+------------------+-----------------+-----------------+-----------------+-----------+--------------+---------------+--------------+---------------+------------+-------------+\n",
            "\n"
          ]
        }
      ]
    },
    {
      "cell_type": "markdown",
      "metadata": {
        "id": "QNAasgklzke5"
      },
      "source": [
        "### Método like()\n",
        "\n",
        "like(expressão)\n",
        "\n",
        "Quando aplicado a uma coluna de um `DataFrame`, retorna as linhas que são similares à `expressão` definida como parâmetro.\n",
        "\n",
        "A comparação é sensível ao caso. Pode ser utilizado % para substituir qualquer *string*. \n",
        "\n",
        "Este método é equivalente ao operador de comparação `LIKE` da linguagem SQL.\n"
      ]
    },
    {
      "cell_type": "code",
      "metadata": {
        "colab": {
          "base_uri": "https://localhost:8080/"
        },
        "id": "Q9Jelnu_0SR3",
        "outputId": "885c9e2d-aac3-4aa1-8eac-c1f3ecb37423"
      },
      "source": [
        "funcionario\\\n",
        "   .filter(funcionario.funcNome.like('ADA%'))\\\n",
        "   .show()"
      ],
      "execution_count": null,
      "outputs": [
        {
          "output_type": "stream",
          "name": "stdout",
          "text": [
            "+------+-------------+--------------+--------+------------------+-----------------+-----------------+-----------------+-----------+--------------+---------------+--------------+---------------+------------+-------------+\n",
            "|funcPK|funcMatricula|      funcNome|funcSexo|funcDataNascimento|funcDiaNascimento|funcMesNascimento|funcAnoNascimento| funcCidade|funcEstadoNome|funcEstadoSigla|funcRegiaoNome|funcRegiaoSigla|funcPaisNome|funcPaisSigla|\n",
            "+------+-------------+--------------+--------+------------------+-----------------+-----------------+-----------------+-----------+--------------+---------------+--------------+---------------+------------+-------------+\n",
            "|     4|          M-4|   ADA BARBOSA|       F|          4/4/1990|                4|                4|             1990|SANTO ANDRE|     SAO PAULO|             SP|       SUDESTE|             SE|      BRASIL|           BR|\n",
            "|    52|         M-52|ADAILTON COSTA|       M|         21/4/1951|               21|                4|             1951|     RECIFE|    PERNAMBUCO|             PE|      NORDESTE|             NE|      BRASIL|           BR|\n",
            "|   113|        M-113|    ADAIR DIAS|       F|         21/5/1990|               21|                5|             1990| PIRACICABA|     SAO PAULO|             SP|       SUDESTE|             SE|      BRASIL|           BR|\n",
            "+------+-------------+--------------+--------+------------------+-----------------+-----------------+-----------------+-----------+--------------+---------------+--------------+---------------+------------+-------------+\n",
            "\n"
          ]
        }
      ]
    },
    {
      "cell_type": "markdown",
      "metadata": {
        "id": "tl_EBG_25itp"
      },
      "source": [
        "### Método withColumnRenamed()\n",
        "\n",
        "`withColumnRenamed(nomeColunaAtual, novoNomeColuna)`\n",
        "\n",
        "Renomeia o nome de uma coluna já existente, identificado pelo parâmetro `nomeColunaAtual`, para o novo nome identificado pelo parâmetro `novoNomeColuna`. \n",
        "\n",
        "Este método é equivalente à cláusula AS da linguagem SQL quando utilizada para renomear atributos.\n",
        "\n"
      ]
    },
    {
      "cell_type": "code",
      "metadata": {
        "colab": {
          "base_uri": "https://localhost:8080/"
        },
        "id": "FG0hdHYX6YIM",
        "outputId": "2ba9677a-0510-4be4-fe68-fd47cae8f683"
      },
      "source": [
        "pagamento\\\n",
        "   .select('*')\\\n",
        "   .show(2)"
      ],
      "execution_count": null,
      "outputs": [
        {
          "output_type": "stream",
          "name": "stdout",
          "text": [
            "+------+--------+------+-------+-------+---------------------+\n",
            "|funcPK|equipePK|dataPK|cargoPK|salario|quantidadeLancamentos|\n",
            "+------+--------+------+-------+-------+---------------------+\n",
            "|   147|       2|     5|     64|1559.94|                    1|\n",
            "|   124|       2|     5|    329|8102.77|                    1|\n",
            "+------+--------+------+-------+-------+---------------------+\n",
            "only showing top 2 rows\n",
            "\n"
          ]
        }
      ]
    },
    {
      "cell_type": "code",
      "metadata": {
        "colab": {
          "base_uri": "https://localhost:8080/"
        },
        "id": "QKXYQCrn6m1c",
        "outputId": "0ac97c75-b11d-4b1e-aff5-c7c427c1bb5b"
      },
      "source": [
        "pagamento\\\n",
        "   .withColumnRenamed(\"salario\", \"Salário do funcionário\")\\\n",
        "   .show(2)"
      ],
      "execution_count": null,
      "outputs": [
        {
          "output_type": "stream",
          "name": "stdout",
          "text": [
            "+------+--------+------+-------+----------------------+---------------------+\n",
            "|funcPK|equipePK|dataPK|cargoPK|Salário do funcionário|quantidadeLancamentos|\n",
            "+------+--------+------+-------+----------------------+---------------------+\n",
            "|   147|       2|     5|     64|               1559.94|                    1|\n",
            "|   124|       2|     5|    329|               8102.77|                    1|\n",
            "+------+--------+------+-------+----------------------+---------------------+\n",
            "only showing top 2 rows\n",
            "\n"
          ]
        }
      ]
    },
    {
      "cell_type": "markdown",
      "metadata": {
        "id": "NyM9nbLXD_1F"
      },
      "source": [
        "### Método crossJoin()\n",
        "\n",
        "`crossJoin(segundoDataFrame)`\n",
        "\n",
        "Retorna o produto cartesiano de dois `DataFrames`, criando um novo `DataFrame`. É passado como parâmetro o segundo `DataFrame`. \n",
        "\n",
        "No produto cartesiano, quaisquer duas linhas são combinadas, independentemente da integridade referencial existente entre elas. Portanto, como resultado, são produzidas todas as combinações de linhas possíveis entre os dois `DataFrames` participantes.\n",
        "\n",
        "Este método é equivalente à cláusula `FROM` da linguagem SQL."
      ]
    },
    {
      "cell_type": "markdown",
      "metadata": {
        "id": "CMFKGyoUGArA"
      },
      "source": [
        "Nos comandos a seguir, é feito o produto cartesiano dos `DataFrames` relacionados a `funcionario` e `pagamento`, mostrando que `funcPK` de `funcionario` pode ser diferente de `funcPK` de `pagamento`."
      ]
    },
    {
      "cell_type": "code",
      "metadata": {
        "colab": {
          "base_uri": "https://localhost:8080/"
        },
        "id": "eO1QacE0D_Pd",
        "outputId": "d474d482-2c21-4ea5-f6dd-dc829401ef26"
      },
      "source": [
        "funcSelecionado = funcionario.select('funcPK', 'funcMatricula')\n",
        "pagSelecionado = pagamento.select ('funcPK', 'salario')\n",
        "funcSelecionado.crossJoin(pagSelecionado).show(10)"
      ],
      "execution_count": null,
      "outputs": [
        {
          "output_type": "stream",
          "name": "stdout",
          "text": [
            "+------+-------------+------+-------+\n",
            "|funcPK|funcMatricula|funcPK|salario|\n",
            "+------+-------------+------+-------+\n",
            "|     1|          M-1|   147|1559.94|\n",
            "|     2|          M-2|   147|1559.94|\n",
            "|     3|          M-3|   147|1559.94|\n",
            "|     4|          M-4|   147|1559.94|\n",
            "|     5|          M-5|   147|1559.94|\n",
            "|     6|          M-6|   147|1559.94|\n",
            "|     7|          M-7|   147|1559.94|\n",
            "|     8|          M-8|   147|1559.94|\n",
            "|     9|          M-9|   147|1559.94|\n",
            "|    10|         M-10|   147|1559.94|\n",
            "+------+-------------+------+-------+\n",
            "only showing top 10 rows\n",
            "\n"
          ]
        }
      ]
    },
    {
      "cell_type": "markdown",
      "metadata": {
        "id": "ovQ_4BY-Gspn"
      },
      "source": [
        "### Método join()\n",
        "\n",
        "`join(segundoDataFrame, on=None, how=None)`\n",
        "\n",
        "Retorna a junção de dois `DataFrames`, criando um novo `DataFrame`. O primeiro parâmetro indica qual o segundo `DataFrame` a ser considerado na junção. O parâmetro `on` indica a condição de junção. O terceiro parâmetro, `how`, especifica como a junção deve ser feita. O valor padrão é `inner`. Também pode ser: `cross`, `outer`, `full`, `fullouter`, `full_outer`, `left`, `leftouter`, `left_outer`, `right`, `rightouter`, `right_outer`.\n",
        "\n",
        "Na junção,  as linhas são combinadas de acordo com a integridade referencial existente entre elas, a qual deve ser definida no parâmetro `on`.\n",
        "\n",
        "Este método é equivalente à cláusula `JOIN` da linguagem SQL."
      ]
    },
    {
      "cell_type": "markdown",
      "metadata": {
        "id": "nOR7WVG-IZDH"
      },
      "source": [
        "Nos comandos a seguir, é feita a junção interna (`inner join`) dos `DataFrames` relacionados a `funcionario` e `pagamento`, mostrando que `funcPK` de funcionario é igual à `funcPK` de `pagamento`."
      ]
    },
    {
      "cell_type": "code",
      "metadata": {
        "colab": {
          "base_uri": "https://localhost:8080/"
        },
        "id": "2Z9j3u-AIlDa",
        "outputId": "06eaa4ff-b738-4adf-99ed-bf4b1bcacaf5"
      },
      "source": [
        "# realizando a junção passo a passo\n",
        "funcSelecionado = funcionario.select('funcPK', 'funcMatricula')\n",
        "pagSelecionado = pagamento.select('funcPK', 'salario')\n",
        "funcSelecionado\\\n",
        "   .join(pagSelecionado, funcSelecionado[\"funcPK\"] == pagSelecionado[\"funcPK\"], 'inner')\\\n",
        "   .show(10)"
      ],
      "execution_count": null,
      "outputs": [
        {
          "output_type": "stream",
          "name": "stdout",
          "text": [
            "+------+-------------+------+-------+\n",
            "|funcPK|funcMatricula|funcPK|salario|\n",
            "+------+-------------+------+-------+\n",
            "|   147|        M-147|   147|1559.94|\n",
            "|   124|        M-124|   124|8102.77|\n",
            "|   175|        M-175|   175|2532.51|\n",
            "|   171|        M-171|   171| 7882.7|\n",
            "|   148|        M-148|   148|4404.59|\n",
            "|     5|          M-5|     5|2226.66|\n",
            "|   128|        M-128|   128|6157.04|\n",
            "|    82|         M-82|    82|1585.51|\n",
            "|    28|         M-28|    28|1594.02|\n",
            "|    46|         M-46|    46|9880.16|\n",
            "+------+-------------+------+-------+\n",
            "only showing top 10 rows\n",
            "\n"
          ]
        }
      ]
    },
    {
      "cell_type": "code",
      "metadata": {
        "colab": {
          "base_uri": "https://localhost:8080/"
        },
        "id": "DarDF8O-JreX",
        "outputId": "40c1b789-f78f-4881-fa0a-884d51a52de5"
      },
      "source": [
        "# eliminando a coluna funcPK repetida\n",
        "funcSelecionado\\\n",
        "   .join(pagSelecionado, 'funcPK', 'inner')\\\n",
        "   .show(10)"
      ],
      "execution_count": null,
      "outputs": [
        {
          "output_type": "stream",
          "name": "stdout",
          "text": [
            "+------+-------------+-------+\n",
            "|funcPK|funcMatricula|salario|\n",
            "+------+-------------+-------+\n",
            "|   147|        M-147|1559.94|\n",
            "|   124|        M-124|8102.77|\n",
            "|   175|        M-175|2532.51|\n",
            "|   171|        M-171| 7882.7|\n",
            "|   148|        M-148|4404.59|\n",
            "|     5|          M-5|2226.66|\n",
            "|   128|        M-128|6157.04|\n",
            "|    82|         M-82|1585.51|\n",
            "|    28|         M-28|1594.02|\n",
            "|    46|         M-46|9880.16|\n",
            "+------+-------------+-------+\n",
            "only showing top 10 rows\n",
            "\n"
          ]
        }
      ]
    },
    {
      "cell_type": "markdown",
      "metadata": {
        "id": "KEK53WNrMGAS"
      },
      "source": [
        "### Método orderBy()\n",
        "\n",
        "`orderBy (colunas, ordena)`\n",
        "\n",
        "Ordena as linhas resultantes, gerando um novo `DataFrame`. Deve ser especificada uma lista de colunas ou os nomes de colunas a serem considerados na ordenação. Pode ser especificada também a ordenação ascendente ou descendente. \n",
        "\n",
        "Este método é equivalente à cláusula `ORDER BY` da linguagem SQL."
      ]
    },
    {
      "cell_type": "code",
      "metadata": {
        "colab": {
          "base_uri": "https://localhost:8080/"
        },
        "id": "j8Xiqs-GNcgf",
        "outputId": "6bd0d90e-14cd-4d52-9f6d-39819aeeb5c8"
      },
      "source": [
        "from pyspark.sql.functions import *\n",
        "\n",
        "funcionario.orderBy(desc(\"funcPK\")).show()"
      ],
      "execution_count": null,
      "outputs": [
        {
          "output_type": "stream",
          "name": "stdout",
          "text": [
            "+------+-------------+----------------+--------+------------------+-----------------+-----------------+-----------------+--------------------+--------------+---------------+--------------+---------------+------------+-------------+\n",
            "|funcPK|funcMatricula|        funcNome|funcSexo|funcDataNascimento|funcDiaNascimento|funcMesNascimento|funcAnoNascimento|          funcCidade|funcEstadoNome|funcEstadoSigla|funcRegiaoNome|funcRegiaoSigla|funcPaisNome|funcPaisSigla|\n",
            "+------+-------------+----------------+--------+------------------+-----------------+-----------------+-----------------+--------------------+--------------+---------------+--------------+---------------+------------+-------------+\n",
            "|   200|        M-200|     ABRAAO LIMA|       M|         19/8/1978|               19|                8|             1978|          ARARAQUARA|     SAO PAULO|             SP|       SUDESTE|             SE|      BRASIL|           BR|\n",
            "|   199|        M-199|   ABRAHAM GOMES|       M|         18/7/1977|               18|                7|             1977|              OSASCO|     SAO PAULO|             SP|       SUDESTE|             SE|      BRASIL|           BR|\n",
            "|   198|        M-198|     ADRA GARCIA|       M|         17/6/1976|               17|                6|             1976|SAO JOSE DO RIO P...|     SAO PAULO|             SP|       SUDESTE|             SE|      BRASIL|           BR|\n",
            "|   197|        M-197| ADNAEL FERREIRA|       M|         16/5/1975|               16|                5|             1975|           ILHA BELA|     SAO PAULO|             SP|       SUDESTE|             SE|      BRASIL|           BR|\n",
            "|   196|        M-196|ABNOAN FERNANDES|       F|         15/4/1974|               15|                4|             1974|      RIBEIRAO PRETO|     SAO PAULO|             SP|       SUDESTE|             SE|      BRASIL|           BR|\n",
            "|   195|        M-195|  ABNOAN FREITAS|       F|         14/3/1973|               14|                3|             1973|          SAO CARLOS|     SAO PAULO|             SP|       SUDESTE|             SE|      BRASIL|           BR|\n",
            "|   194|        M-194|    ABNER DUARTE|       M|         13/2/1972|               13|                2|             1972|          PIRACICABA|     SAO PAULO|             SP|       SUDESTE|             SE|      BRASIL|           BR|\n",
            "|   193|        M-193|    ADNALDO DIAS|       M|         12/1/1971|               12|                1|             1971|         SANTO ANDRE|     SAO PAULO|             SP|       SUDESTE|             SE|      BRASIL|           BR|\n",
            "|   192|        M-192|     ADNEI COSTA|       M|        11/12/1970|               11|               12|             1970|              SANTOS|     SAO PAULO|             SP|       SUDESTE|             SE|      BRASIL|           BR|\n",
            "|   191|        M-191|    ABNER CASTRO|       M|        10/11/1969|               10|               11|             1969|            CAMPINAS|     SAO PAULO|             SP|       SUDESTE|             SE|      BRASIL|           BR|\n",
            "|   190|        M-190| ADNAEL CARVALHO|       M|         9/10/1968|                9|               10|             1968|           SAO PAULO|     SAO PAULO|             SP|       SUDESTE|             SE|      BRASIL|           BR|\n",
            "|   189|        M-189|   ABNER CARDOSO|       M|          8/9/1967|                8|                9|             1967|              RECIFE|    PERNAMBUCO|             PE|      NORDESTE|             NE|      BRASIL|           BR|\n",
            "|   188|        M-188|   ADNAEL CAMPOS|       M|          7/8/1966|                7|                8|             1966|              RECIFE|    PERNAMBUCO|             PE|      NORDESTE|             NE|      BRASIL|           BR|\n",
            "|   187|        M-187| ABNADABE BORGES|       M|          6/7/1965|                6|                7|             1965|              RECIFE|    PERNAMBUCO|             PE|      NORDESTE|             NE|      BRASIL|           BR|\n",
            "|   186|        M-186|  ABNADAB BARROS|       M|          5/6/1964|                5|                6|             1964|            MORRETES|        PARANA|             PR|           SUL|              S|      BRASIL|           BR|\n",
            "|   185|        M-185|    ADNA BATISTA|       F|          4/5/1963|                4|                5|             1963|           GUARATUBA|        PARANA|             PR|           SUL|              S|      BRASIL|           BR|\n",
            "|   184|        M-184| ADMARIO BARBOSA|       M|          3/4/1962|                3|                4|             1962|            LONDRINA|        PARANA|             PR|           SUL|              S|      BRASIL|           BR|\n",
            "|   183|        M-183|   ADMAR ANDRADE|       M|          2/3/1961|                2|                3|             1961|            CURITIBA|        PARANA|             PR|           SUL|              S|      BRASIL|           BR|\n",
            "|   182|        M-182|    ABMAEL ALVES|       M|          1/2/1960|                1|                2|             1960|         MONTE VERDE|  MINAS GERAIS|             MG|       SUDESTE|             SE|      BRASIL|           BR|\n",
            "|   181|        M-181| ADILENE ALMEIDA|       F|         29/1/1959|               29|                1|             1959|          OURO PRETO|  MINAS GERAIS|             MG|       SUDESTE|             SE|      BRASIL|           BR|\n",
            "+------+-------------+----------------+--------+------------------+-----------------+-----------------+-----------------+--------------------+--------------+---------------+--------------+---------------+------------+-------------+\n",
            "only showing top 20 rows\n",
            "\n"
          ]
        }
      ]
    },
    {
      "cell_type": "code",
      "metadata": {
        "colab": {
          "base_uri": "https://localhost:8080/"
        },
        "id": "wBB4oPXUPbVh",
        "outputId": "7c39def3-8f1e-4f47-9194-5c341fd56986"
      },
      "source": [
        "funcionario.orderBy([\"funcPK\"],ascending=[0]).show()"
      ],
      "execution_count": null,
      "outputs": [
        {
          "output_type": "stream",
          "name": "stdout",
          "text": [
            "+------+-------------+----------------+--------+------------------+-----------------+-----------------+-----------------+--------------------+--------------+---------------+--------------+---------------+------------+-------------+\n",
            "|funcPK|funcMatricula|        funcNome|funcSexo|funcDataNascimento|funcDiaNascimento|funcMesNascimento|funcAnoNascimento|          funcCidade|funcEstadoNome|funcEstadoSigla|funcRegiaoNome|funcRegiaoSigla|funcPaisNome|funcPaisSigla|\n",
            "+------+-------------+----------------+--------+------------------+-----------------+-----------------+-----------------+--------------------+--------------+---------------+--------------+---------------+------------+-------------+\n",
            "|   200|        M-200|     ABRAAO LIMA|       M|         19/8/1978|               19|                8|             1978|          ARARAQUARA|     SAO PAULO|             SP|       SUDESTE|             SE|      BRASIL|           BR|\n",
            "|   199|        M-199|   ABRAHAM GOMES|       M|         18/7/1977|               18|                7|             1977|              OSASCO|     SAO PAULO|             SP|       SUDESTE|             SE|      BRASIL|           BR|\n",
            "|   198|        M-198|     ADRA GARCIA|       M|         17/6/1976|               17|                6|             1976|SAO JOSE DO RIO P...|     SAO PAULO|             SP|       SUDESTE|             SE|      BRASIL|           BR|\n",
            "|   197|        M-197| ADNAEL FERREIRA|       M|         16/5/1975|               16|                5|             1975|           ILHA BELA|     SAO PAULO|             SP|       SUDESTE|             SE|      BRASIL|           BR|\n",
            "|   196|        M-196|ABNOAN FERNANDES|       F|         15/4/1974|               15|                4|             1974|      RIBEIRAO PRETO|     SAO PAULO|             SP|       SUDESTE|             SE|      BRASIL|           BR|\n",
            "|   195|        M-195|  ABNOAN FREITAS|       F|         14/3/1973|               14|                3|             1973|          SAO CARLOS|     SAO PAULO|             SP|       SUDESTE|             SE|      BRASIL|           BR|\n",
            "|   194|        M-194|    ABNER DUARTE|       M|         13/2/1972|               13|                2|             1972|          PIRACICABA|     SAO PAULO|             SP|       SUDESTE|             SE|      BRASIL|           BR|\n",
            "|   193|        M-193|    ADNALDO DIAS|       M|         12/1/1971|               12|                1|             1971|         SANTO ANDRE|     SAO PAULO|             SP|       SUDESTE|             SE|      BRASIL|           BR|\n",
            "|   192|        M-192|     ADNEI COSTA|       M|        11/12/1970|               11|               12|             1970|              SANTOS|     SAO PAULO|             SP|       SUDESTE|             SE|      BRASIL|           BR|\n",
            "|   191|        M-191|    ABNER CASTRO|       M|        10/11/1969|               10|               11|             1969|            CAMPINAS|     SAO PAULO|             SP|       SUDESTE|             SE|      BRASIL|           BR|\n",
            "|   190|        M-190| ADNAEL CARVALHO|       M|         9/10/1968|                9|               10|             1968|           SAO PAULO|     SAO PAULO|             SP|       SUDESTE|             SE|      BRASIL|           BR|\n",
            "|   189|        M-189|   ABNER CARDOSO|       M|          8/9/1967|                8|                9|             1967|              RECIFE|    PERNAMBUCO|             PE|      NORDESTE|             NE|      BRASIL|           BR|\n",
            "|   188|        M-188|   ADNAEL CAMPOS|       M|          7/8/1966|                7|                8|             1966|              RECIFE|    PERNAMBUCO|             PE|      NORDESTE|             NE|      BRASIL|           BR|\n",
            "|   187|        M-187| ABNADABE BORGES|       M|          6/7/1965|                6|                7|             1965|              RECIFE|    PERNAMBUCO|             PE|      NORDESTE|             NE|      BRASIL|           BR|\n",
            "|   186|        M-186|  ABNADAB BARROS|       M|          5/6/1964|                5|                6|             1964|            MORRETES|        PARANA|             PR|           SUL|              S|      BRASIL|           BR|\n",
            "|   185|        M-185|    ADNA BATISTA|       F|          4/5/1963|                4|                5|             1963|           GUARATUBA|        PARANA|             PR|           SUL|              S|      BRASIL|           BR|\n",
            "|   184|        M-184| ADMARIO BARBOSA|       M|          3/4/1962|                3|                4|             1962|            LONDRINA|        PARANA|             PR|           SUL|              S|      BRASIL|           BR|\n",
            "|   183|        M-183|   ADMAR ANDRADE|       M|          2/3/1961|                2|                3|             1961|            CURITIBA|        PARANA|             PR|           SUL|              S|      BRASIL|           BR|\n",
            "|   182|        M-182|    ABMAEL ALVES|       M|          1/2/1960|                1|                2|             1960|         MONTE VERDE|  MINAS GERAIS|             MG|       SUDESTE|             SE|      BRASIL|           BR|\n",
            "|   181|        M-181| ADILENE ALMEIDA|       F|         29/1/1959|               29|                1|             1959|          OURO PRETO|  MINAS GERAIS|             MG|       SUDESTE|             SE|      BRASIL|           BR|\n",
            "+------+-------------+----------------+--------+------------------+-----------------+-----------------+-----------------+--------------------+--------------+---------------+--------------+---------------+------------+-------------+\n",
            "only showing top 20 rows\n",
            "\n"
          ]
        }
      ]
    },
    {
      "cell_type": "markdown",
      "metadata": {
        "id": "iyA5YJ6YR2UK"
      },
      "source": [
        "## 5.2 Agregação e Agrupamento"
      ]
    },
    {
      "cell_type": "markdown",
      "metadata": {
        "id": "dWJaNTkkW74W"
      },
      "source": [
        "As funções de agregação e agrupamento somente podem ser aplicadas a tipos de dados numéricos."
      ]
    },
    {
      "cell_type": "markdown",
      "metadata": {
        "id": "X4z-vBThpbPM"
      },
      "source": [
        "### Método sum()\n",
        "\n",
        "`sum(listaDeColunas)`\n",
        "\n",
        "Calcula a soma dos valores para cada coluna especificada no parâmetro  `listaDeColunas`, considerando cada agrupamento. \n",
        "\n",
        "Este método é equivalente à função `SUM()` do SQL."
      ]
    },
    {
      "cell_type": "code",
      "metadata": {
        "colab": {
          "base_uri": "https://localhost:8080/"
        },
        "id": "vIqWcieE69X3",
        "outputId": "b61d3a6e-f035-4a23-c4b9-0800c6fe5618"
      },
      "source": [
        "# listando a soma dos salários e a soma da quantidade de lancamentos\n",
        "pagamento\\\n",
        "   .select(\"salario\",\"quantidadeLancamentos\")\\\n",
        "   .groupBy()\\\n",
        "   .sum(\"salario\",\"quantidadeLancamentos\")\\\n",
        "   .withColumnRenamed(\"sum(salario)\", \"Soma dos salários\")\\\n",
        "   .withColumnRenamed(\"sum(quantidadeLancamentos)\", \"Quantidade Total de Lançamentos\")\\\n",
        "   .show() "
      ],
      "execution_count": null,
      "outputs": [
        {
          "output_type": "stream",
          "name": "stdout",
          "text": [
            "+-------------------+-------------------------------+\n",
            "|  Soma dos salários|Quantidade Total de Lançamentos|\n",
            "+-------------------+-------------------------------+\n",
            "|6.628875631347656E7|                           8640|\n",
            "+-------------------+-------------------------------+\n",
            "\n"
          ]
        }
      ]
    },
    {
      "cell_type": "markdown",
      "metadata": {
        "id": "2AGzCpCrqNVD"
      },
      "source": [
        "### Método min()\n",
        "\n",
        "`min(listaDeColunas)`\n",
        "\n",
        "Calcula o menor valor para cada coluna especificada no parâmetro  `listaDeColunas`, considerando cada agrupamento. \n",
        "\n",
        "Este método é equivalente à função `MIN()` do SQL."
      ]
    },
    {
      "cell_type": "code",
      "metadata": {
        "colab": {
          "base_uri": "https://localhost:8080/"
        },
        "id": "X5Shi9U0sDfz",
        "outputId": "63701b48-aa5b-47e8-ab88-ab653ac86209"
      },
      "source": [
        "# listando o menor salário \n",
        "pagamento\\\n",
        "   .select(\"salario\")\\\n",
        "   .groupBy()\\\n",
        "   .min(\"salario\")\\\n",
        "   .withColumnRenamed(\"min(salario)\", \"Menor Salário\")\\\n",
        "   .show()\n",
        "   "
      ],
      "execution_count": null,
      "outputs": [
        {
          "output_type": "stream",
          "name": "stdout",
          "text": [
            "+-------------+\n",
            "|Menor Salário|\n",
            "+-------------+\n",
            "|      1501.57|\n",
            "+-------------+\n",
            "\n"
          ]
        }
      ]
    },
    {
      "cell_type": "markdown",
      "metadata": {
        "id": "QCj6gzu1qUyy"
      },
      "source": [
        "### Método max()\n",
        "\n",
        "`max(listaDeColunas)`\n",
        "\n",
        "Calcula o maior valor para cada coluna especificada no parâmetro  `listaDeColunas`, considerando cada agrupamento. \n",
        "\n",
        "Este método é equivalente à função `MAX()` do SQL."
      ]
    },
    {
      "cell_type": "code",
      "metadata": {
        "colab": {
          "base_uri": "https://localhost:8080/"
        },
        "id": "C7niTNBq8C08",
        "outputId": "657f8acf-adfa-4441-f891-df783cb53b13"
      },
      "source": [
        "# listando o maior salário \n",
        "pagamento\\\n",
        "   .select(\"salario\")\\\n",
        "   .groupBy()\\\n",
        "   .max(\"salario\")\\\n",
        "   .withColumnRenamed(\"max(salario)\", \"Maior Salário\")\\\n",
        "   .show()"
      ],
      "execution_count": null,
      "outputs": [
        {
          "output_type": "stream",
          "name": "stdout",
          "text": [
            "+-------------+\n",
            "|Maior Salário|\n",
            "+-------------+\n",
            "|     47140.17|\n",
            "+-------------+\n",
            "\n"
          ]
        }
      ]
    },
    {
      "cell_type": "markdown",
      "metadata": {
        "id": "AOtTCxQnqsgN"
      },
      "source": [
        "### Método avg()\n",
        "\n",
        "`avg(listaDeColunas)`\n",
        "\n",
        "Calcula o valor médio para cada coluna especificada no parâmetro `listaDeColunas`, considerando cada grupo.  Este método é equivalente ao método `mean()`.\n",
        "\n",
        "Este método é equivalente à função de agregação `AVG()` da linguagem SQL."
      ]
    },
    {
      "cell_type": "code",
      "metadata": {
        "colab": {
          "base_uri": "https://localhost:8080/"
        },
        "id": "5sdyzIh2bvud",
        "outputId": "a2055c67-df23-4e10-9fdd-9a67f8a6c24e"
      },
      "source": [
        "pagamento\\\n",
        "   .select(\"salario\")\\\n",
        "   .groupBy()\\\n",
        "   .avg(\"salario\")\\\n",
        "   .withColumn(\"avg(salario)\", round(\"avg(salario)\",2))\\\n",
        "   .withColumnRenamed(\"avg(salario)\", \"Média dos Salários\")\\\n",
        "   .show()"
      ],
      "execution_count": null,
      "outputs": [
        {
          "output_type": "stream",
          "name": "stdout",
          "text": [
            "+------------------+\n",
            "|Média dos Salários|\n",
            "+------------------+\n",
            "|           7672.31|\n",
            "+------------------+\n",
            "\n"
          ]
        }
      ]
    },
    {
      "cell_type": "markdown",
      "metadata": {
        "id": "2VzVeDEJq3-w"
      },
      "source": [
        "### Método mean()\n",
        "\n",
        "`mean(listaDeColunas)`\n",
        "\n",
        "Calcula o valor médio para cada coluna especificada no parâmetro `listaDeColunas`, considerando cada grupo.  Este método é equivalente ao método `avg()`.\n",
        "\n",
        "Este método é equivalente à função de agregação `AVG()` da linguagem SQL."
      ]
    },
    {
      "cell_type": "code",
      "metadata": {
        "colab": {
          "base_uri": "https://localhost:8080/"
        },
        "id": "STK4EoFvssGi",
        "outputId": "3d819b54-eca1-4108-a648-058f101ddb2b"
      },
      "source": [
        "# listando a média dos salários \n",
        "pagamento\\\n",
        "   .select(\"salario\")\\\n",
        "   .groupBy()\\\n",
        "   .mean(\"salario\")\\\n",
        "   .withColumn(\"avg(salario)\", round(\"avg(salario)\",2))\\\n",
        "   .withColumnRenamed(\"avg(salario)\", \"Média dos Salários\")\\\n",
        "   .show()"
      ],
      "execution_count": null,
      "outputs": [
        {
          "output_type": "stream",
          "name": "stdout",
          "text": [
            "+------------------+\n",
            "|Média dos Salários|\n",
            "+------------------+\n",
            "|           7672.31|\n",
            "+------------------+\n",
            "\n"
          ]
        }
      ]
    },
    {
      "cell_type": "markdown",
      "metadata": {
        "id": "Vasq_HQarcxx"
      },
      "source": [
        "Método count()\n",
        "\n",
        "`count()`\n",
        "\n",
        "Retorna o número de linhas de um `DataFrame`.\n",
        "\n",
        "Este método é equivalente à função de agregação `COUNT()` da linguagem SQL."
      ]
    },
    {
      "cell_type": "code",
      "metadata": {
        "colab": {
          "base_uri": "https://localhost:8080/"
        },
        "id": "3DZW44VrswEW",
        "outputId": "6191852e-f075-48f5-e505-fb17b6f04fa0"
      },
      "source": [
        "# retornando a quantidade de linhas de pagamento\n",
        "pagamento.count()"
      ],
      "execution_count": null,
      "outputs": [
        {
          "output_type": "execute_result",
          "data": {
            "text/plain": [
              "8640"
            ]
          },
          "metadata": {},
          "execution_count": 49
        }
      ]
    },
    {
      "cell_type": "markdown",
      "metadata": {
        "id": "mtvB_NgWakPQ"
      },
      "source": [
        "### Método agg()"
      ]
    },
    {
      "cell_type": "markdown",
      "metadata": {
        "id": "3Ruw68nXtpGH"
      },
      "source": [
        "`agg(listaDeExpressões)`\n",
        "\n",
        "Aplica um método de agregação a todas as linhas do `DataFrame`, sem considerar agrupamentos. O parâmetro listaDeExpressões indica, para cada atributo sendo considerado, qual o método de agregação que deve ser aplicado. O método `agg()` representa uma sintaxe resumida para `groupBy.agg()`.  \n"
      ]
    },
    {
      "cell_type": "code",
      "metadata": {
        "colab": {
          "base_uri": "https://localhost:8080/"
        },
        "id": "ceLxQs9UuUnY",
        "outputId": "ffae4230-e894-43a4-a2e9-8c7b40e7d738"
      },
      "source": [
        "# listando o maior salário e a soma das quantidades de lançamentos\n",
        "pagamento\\\n",
        "   .agg({\"salario\": \"max\", \"quantidadeLancamentos\": \"sum\"})\\\n",
        "   .withColumnRenamed(\"max(salario)\", \"Maior Salário\")\\\n",
        "   .withColumnRenamed(\"sum(quantidadeLancamentos)\", \"Quantidade Total de Lançamentos\")\\\n",
        "   .show()"
      ],
      "execution_count": null,
      "outputs": [
        {
          "output_type": "stream",
          "name": "stdout",
          "text": [
            "+-------------+-------------------------------+\n",
            "|Maior Salário|Quantidade Total de Lançamentos|\n",
            "+-------------+-------------------------------+\n",
            "|     47140.17|                           8640|\n",
            "+-------------+-------------------------------+\n",
            "\n"
          ]
        }
      ]
    },
    {
      "cell_type": "markdown",
      "metadata": {
        "id": "ehosf7hhvQad"
      },
      "source": [
        "### Método groupBy()\n",
        "\n",
        "`groupBy(listaDeColunas)`\n",
        "\n",
        "Aplica um método de agregação a um grupo de conjunto de linhas, retornando para cada grupo do conjunto de linhas um único valor. \n",
        "\n",
        "Este método é equivalente à cláusula `GROUP BY` da linguagem SQL."
      ]
    },
    {
      "cell_type": "markdown",
      "metadata": {
        "id": "nZfho3lUvxrK"
      },
      "source": [
        "O comando a seguir lista, para cada funcPK, a soma dos salários recebidos. "
      ]
    },
    {
      "cell_type": "code",
      "metadata": {
        "colab": {
          "base_uri": "https://localhost:8080/"
        },
        "id": "duipRNNBvPXx",
        "outputId": "6c926e8d-ce6c-4d41-a08d-1051522aa164"
      },
      "source": [
        "pagamento\\\n",
        "   .select(\"funcPK\", \"salario\")\\\n",
        "   .groupBy(\"funcPK\")\\\n",
        "   .sum(\"salario\")\\\n",
        "   .orderBy(\"funcPK\")\\\n",
        "   .withColumnRenamed(\"sum(salario)\", \"Soma dos Salários\")\\\n",
        "   .show()"
      ],
      "execution_count": null,
      "outputs": [
        {
          "output_type": "stream",
          "name": "stdout",
          "text": [
            "+------+-----------------+\n",
            "|funcPK|Soma dos Salários|\n",
            "+------+-----------------+\n",
            "|     1|   864589.2890625|\n",
            "|     2|    80109.1171875|\n",
            "|     3|   284531.2734375|\n",
            "|     4|    503910.703125|\n",
            "|     5|133599.5947265625|\n",
            "|     6|   248232.9609375|\n",
            "|     7|     347159.53125|\n",
            "|     8| 43802.3994140625|\n",
            "|     9|    628010.859375|\n",
            "|    10|  332712.01171875|\n",
            "|    11|   331538.8828125|\n",
            "|    12|  72875.759765625|\n",
            "|    13|      289336.3125|\n",
            "|    14| 150465.603515625|\n",
            "|    15|    218086.078125|\n",
            "|    16|  41527.201171875|\n",
            "|    17| 309711.005859375|\n",
            "|    18| 45548.3994140625|\n",
            "|    19|106695.6005859375|\n",
            "|    20|  95876.162109375|\n",
            "+------+-----------------+\n",
            "only showing top 20 rows\n",
            "\n"
          ]
        }
      ]
    },
    {
      "cell_type": "markdown",
      "metadata": {
        "id": "nbw6ke2HpdQ_"
      },
      "source": [
        "## 5.3 Métodos sobre Conjuntos\n"
      ]
    },
    {
      "cell_type": "markdown",
      "metadata": {
        "id": "mcTetYU1eBIP"
      },
      "source": [
        "### Métodos union(), unionAll() e unionByName()\n",
        "\n",
        "Os métodos `union()`, `unionAll()` e `unionByName()` têm como objetivo realizar a operação de `união` entre conjuntos considerando dois `DataFrames`. Como resultado, tem-se um novo `DataFrame` que contém todas as linhas pertencentes ao primeiro `DataFrame`, ao segundo `DataFrame` ou a ambos os dois `DataFrames`. \n",
        "\n",
        "Os dois `DataFrames` devem ser compatíveis entre si. Ou seja, eles precisam ter o mesmo número de colunas. \n",
        "\n",
        "A sintaxe de cada um dos métodos é:\n",
        "\n",
        "- `union(segundoDataFrame)`: Realiza a união considerando o posicionamento das colunas dos `DataFrames`, independentemente dos nomes dessas colunas. As linhas repetidas não são eliminadas do resultado final. \n",
        "\n",
        "- `unionAll(segundoDataFrame)`: Realiza a união considerando o posicionamento das colunas dos `DataFrames`, independentemente dos nomes dessas colunas. As linhas repetidas não são eliminadas do resultado final. \n",
        "\n",
        "- `unionByName(segundoDataFrame)`: Realiza a união considerando o nome das colunas dos `DataFrames`, independentemente do posicionamento dessas colunas. As linhas repetidas não são eliminadas do resultado final. \n",
        "\n",
        "Estes métodos são equipalentes à operação `UNION ALL` da linguagem SQL.\n",
        "\n",
        "Caso haja a necessidade de se eliminar as linhas repetidas do resultado final, é necessário utilizar primeiro um dos métodos de união e, na sequência, aplicar o método `distinct()`."
      ]
    },
    {
      "cell_type": "code",
      "metadata": {
        "colab": {
          "base_uri": "https://localhost:8080/"
        },
        "id": "PQIY0SGcnOXt",
        "outputId": "bed2d45c-4500-4a0b-e66d-6c99d94500e6"
      },
      "source": [
        "# exemplo do método union(), sem eliminar linhas repetidas do resultado \n",
        "pagFiltro = pagamento\\\n",
        "               .filter(\"funcPK = 30 AND dataPK BETWEEN 50 AND 100\")\\\n",
        "               .select('dataPK')\n",
        "negFiltro = negociacao\\\n",
        "               .filter(\"equipePK = 2 AND dataPK BETWEEN 90 AND 110\")\\\n",
        "               .select('dataPK')\n",
        "pagFiltro\\\n",
        "   .union(negFiltro)\\\n",
        "   .orderBy('dataPK')\\\n",
        "   .show()"
      ],
      "execution_count": null,
      "outputs": [
        {
          "output_type": "stream",
          "name": "stdout",
          "text": [
            "+------+\n",
            "|dataPK|\n",
            "+------+\n",
            "|    65|\n",
            "|    90|\n",
            "|    96|\n",
            "|    96|\n",
            "|    99|\n",
            "|    99|\n",
            "|   109|\n",
            "+------+\n",
            "\n"
          ]
        }
      ]
    },
    {
      "cell_type": "code",
      "metadata": {
        "colab": {
          "base_uri": "https://localhost:8080/"
        },
        "id": "gkwOJI6zogTc",
        "outputId": "e29c2462-b660-4d01-c5be-e6861401bdde"
      },
      "source": [
        "# exemplo do método union(), eliminando as linhas repetidas do resultado \n",
        "pagFiltro\\\n",
        "   .union(negFiltro)\\\n",
        "   .distinct()\\\n",
        "   .orderBy('dataPK')\\\n",
        "   .show()"
      ],
      "execution_count": null,
      "outputs": [
        {
          "output_type": "stream",
          "name": "stdout",
          "text": [
            "+------+\n",
            "|dataPK|\n",
            "+------+\n",
            "|    65|\n",
            "|    90|\n",
            "|    96|\n",
            "|    99|\n",
            "|   109|\n",
            "+------+\n",
            "\n"
          ]
        }
      ]
    },
    {
      "cell_type": "markdown",
      "metadata": {
        "id": "W_f4AWN3p2zK"
      },
      "source": [
        "### Métodos intersect() e intersectAll() \n",
        "\n",
        "Os métodos `intersect()` e `intersectAll()` têm como objetivo realizar a operação de `intersecção` entre conjuntos considerando dois `DataFrames`. Como resultado, tem-se um novo `DataFrame` que contém todas as linhas presentes simultaneamente no primeiro `DataFrame` e no segundo `DataFrame`. \n",
        "\n",
        "Os dois DataFrames devem ser compatíveis entre si. Ou seja, eles precisam ter o mesmo número de colunas. \n",
        "\n",
        "A sintaxe de cada um dos métodos é:\n",
        "\n",
        "- `intersect(segundoDataFrame)`: Realiza a intersecção considerando o posicionamento das colunas dos `DataFrames`, independentemente dos nomes dessas colunas. Esse método elimina as linhas repetidas do resultado final. \n",
        "\n",
        "- `intersectAll(segundoDataFrame)`: Realiza a intersecção considerando o posicionamento das colunas dos `DataFrames`, independentemente dos nomes dessas colunas. Esse método não elimina as linhas repetidas do resultado final.\n",
        "\n",
        "O método `intersect()` é equivalente à operação `INTERSECT` da linguagem SQL, enquanto o método `intersectAll()` é equivalente à operação `INTERSECT ALL` da linguagem SQL."
      ]
    },
    {
      "cell_type": "code",
      "metadata": {
        "colab": {
          "base_uri": "https://localhost:8080/"
        },
        "id": "mRxQ5NgkjmpX",
        "outputId": "0898a4ad-c32a-4c4e-cae0-81185db53e61"
      },
      "source": [
        "# exemplo do método intersect()\n",
        "pagIntersect = pagamento\\\n",
        "               .filter(\"funcPK = 30 AND dataPK BETWEEN 50 AND 100\")\\\n",
        "               .select('dataPK')\n",
        "pagIntersect.show()"
      ],
      "execution_count": null,
      "outputs": [
        {
          "output_type": "stream",
          "name": "stdout",
          "text": [
            "+------+\n",
            "|dataPK|\n",
            "+------+\n",
            "|    65|\n",
            "|    96|\n",
            "+------+\n",
            "\n"
          ]
        }
      ]
    },
    {
      "cell_type": "code",
      "metadata": {
        "colab": {
          "base_uri": "https://localhost:8080/"
        },
        "id": "uCdrrpQi37cI",
        "outputId": "e35ae324-dc8a-47d7-bbc7-860f7c32ed6e"
      },
      "source": [
        "negIntersect = negociacao\\\n",
        "               .filter(\"equipePK = 2 AND dataPK BETWEEN 90 AND 110\")\\\n",
        "               .select('dataPK')\n",
        "negIntersect.show() "
      ],
      "execution_count": null,
      "outputs": [
        {
          "output_type": "stream",
          "name": "stdout",
          "text": [
            "+------+\n",
            "|dataPK|\n",
            "+------+\n",
            "|    90|\n",
            "|    99|\n",
            "|    96|\n",
            "|   109|\n",
            "|    99|\n",
            "+------+\n",
            "\n"
          ]
        }
      ]
    },
    {
      "cell_type": "code",
      "metadata": {
        "colab": {
          "base_uri": "https://localhost:8080/"
        },
        "id": "iYF9PZGd3-r_",
        "outputId": "736c69fd-7983-4b04-88d9-cfe54b07889a"
      },
      "source": [
        "pagIntersect\\\n",
        "   .intersect(negIntersect)\\\n",
        "   .orderBy('dataPK')\\\n",
        "   .show()"
      ],
      "execution_count": null,
      "outputs": [
        {
          "output_type": "stream",
          "name": "stdout",
          "text": [
            "+------+\n",
            "|dataPK|\n",
            "+------+\n",
            "|    96|\n",
            "+------+\n",
            "\n"
          ]
        }
      ]
    },
    {
      "cell_type": "markdown",
      "metadata": {
        "id": "fjFpZzAUrTFO"
      },
      "source": [
        "### Métodos subtract() e exceptAll() \n",
        "\n",
        "Os métodos `subtract()` e `exceptAll()` têm como objetivo realizar a operação de `diferença` de conjuntos considerando dois `DataFrames`. Como resultado, tem-se um novo `DataFrame` que contém todas as linhas presentes no primeiro `DataFrame`, mas que não estão no segundo `DataFrame`. \n",
        "\n",
        "Os dois `DataFrames` devem ser compatíveis entre si. Ou seja, eles precisam ter o mesmo número de colunas. \n",
        "\n",
        "A sintaxe de cada um dos métodos é:\n",
        "\n",
        "- `subtract(segundoDataFrame)`: Realiza a diferença entre conjuntos considerando o posicionamento das colunas dos `DataFrames`, independentemente dos nomes dessas colunas. Esse método elimina as linhas repetidas do resultado final.\n",
        "\n",
        "- `exceptAll(segundoDataFrame)`: Realiza a diferença entre conjuntos considerando o posicionamento das colunas dos `DataFrames`, independentemente dos nomes dessas colunas. Esse método não elimina as linhas repetidas do resultado final.\n",
        "\n",
        "O método `subtract(segundoDataFrame)` é equivalente à operação `MINUS` da linguagem SQL, enquanto que o método `exceptAll(segundoDataFrame)` é equivalente à operação `MINUS ALL` da linguagem SQL."
      ]
    },
    {
      "cell_type": "code",
      "metadata": {
        "colab": {
          "base_uri": "https://localhost:8080/"
        },
        "id": "KpOXPKbvj0TN",
        "outputId": "9b0f7b47-f8ee-4563-eb99-bf4f80fb7b26"
      },
      "source": [
        "# exemplo do método exceptAll()\n",
        "pagIntersect\\\n",
        "   .exceptAll(negIntersect)\\\n",
        "   .orderBy('dataPK')\\\n",
        "   .show()"
      ],
      "execution_count": null,
      "outputs": [
        {
          "output_type": "stream",
          "name": "stdout",
          "text": [
            "+------+\n",
            "|dataPK|\n",
            "+------+\n",
            "|    65|\n",
            "+------+\n",
            "\n"
          ]
        }
      ]
    },
    {
      "cell_type": "markdown",
      "metadata": {
        "id": "Ss0pmgplPAL3"
      },
      "source": [
        "# 6 Execução de Consultas com Foco nas Operações OLAP"
      ]
    },
    {
      "cell_type": "markdown",
      "metadata": {
        "id": "MABYjSYf7L4g"
      },
      "source": [
        "## 6.1 Operação Slice and Dice \n",
        "\n",
        "**Definição**: Restringe os dados sendo analisados a um subconjunto desses dados.\n",
        "\n",
        "- Slice: corte para um valor fixo, diminuindo a dimensionalidade do cubo.\n",
        "- Dice: seleção de faixas de valores.\n",
        "\n",
        "**Exemplo de consulta**: Qual a quantidade de pagamentos realizados no mês de setembro de 2020?"
      ]
    },
    {
      "cell_type": "code",
      "metadata": {
        "colab": {
          "base_uri": "https://localhost:8080/"
        },
        "id": "oXh3bfu148ml",
        "outputId": "c918c320-8caf-4c96-dbd5-48b3fbe3b86b"
      },
      "source": [
        "# realizando a operação de slice and dice utilizando o método filter() ou where()\n",
        "# selecionando apenas as colunas necessárias ao processamento da consulta \n",
        "dataSelecionada = \\\n",
        "   data\\\n",
        "   .filter(\"dataAno = 2020 AND dataMes=9\")\\\n",
        "   .select(\"dataPK\")\n",
        "dataSelecionada.show(5)"
      ],
      "execution_count": null,
      "outputs": [
        {
          "output_type": "stream",
          "name": "stdout",
          "text": [
            "+------+\n",
            "|dataPK|\n",
            "+------+\n",
            "|  1706|\n",
            "|  1707|\n",
            "|  1708|\n",
            "|  1709|\n",
            "|  1710|\n",
            "+------+\n",
            "only showing top 5 rows\n",
            "\n"
          ]
        }
      ]
    },
    {
      "cell_type": "code",
      "metadata": {
        "colab": {
          "base_uri": "https://localhost:8080/"
        },
        "id": "DN1Cwsrn8_gb",
        "outputId": "2baeefab-c513-4bff-d44d-4af46b0f0f15"
      },
      "source": [
        "# selecionando apenas as colunas necessárias ao processamento da consulta\n",
        "pagamentoSelecionado = \\\n",
        "   pagamento\\\n",
        "   .select(\"dataPK\", \"quantidadeLancamentos\")\n",
        "pagamentoSelecionado.show(5)"
      ],
      "execution_count": null,
      "outputs": [
        {
          "output_type": "stream",
          "name": "stdout",
          "text": [
            "+------+---------------------+\n",
            "|dataPK|quantidadeLancamentos|\n",
            "+------+---------------------+\n",
            "|     5|                    1|\n",
            "|     5|                    1|\n",
            "|     5|                    1|\n",
            "|     5|                    1|\n",
            "|     5|                    1|\n",
            "+------+---------------------+\n",
            "only showing top 5 rows\n",
            "\n"
          ]
        }
      ]
    },
    {
      "cell_type": "code",
      "metadata": {
        "colab": {
          "base_uri": "https://localhost:8080/"
        },
        "id": "rqWYKUZ79FKg",
        "outputId": "a481ac17-a590-4abd-e79d-a2951073b75c"
      },
      "source": [
        "# realizando a junção entre os resultados obtidos\n",
        "dataPagamento =\\\n",
        "   dataSelecionada\\\n",
        "   .join(pagamentoSelecionado, on=\"dataPK\")\n",
        "dataPagamento.show(5)"
      ],
      "execution_count": null,
      "outputs": [
        {
          "output_type": "stream",
          "name": "stdout",
          "text": [
            "+------+---------------------+\n",
            "|dataPK|quantidadeLancamentos|\n",
            "+------+---------------------+\n",
            "|  1710|                    1|\n",
            "|  1710|                    1|\n",
            "|  1710|                    1|\n",
            "|  1710|                    1|\n",
            "|  1710|                    1|\n",
            "+------+---------------------+\n",
            "only showing top 5 rows\n",
            "\n"
          ]
        }
      ]
    },
    {
      "cell_type": "code",
      "metadata": {
        "colab": {
          "base_uri": "https://localhost:8080/"
        },
        "id": "3xDhogu_-tqf",
        "outputId": "864c3234-a88c-4da8-ac2b-8638e7904aeb"
      },
      "source": [
        "# exibindo o resultado desejado\n",
        "dataPagamento\\\n",
        "   .select(\"quantidadeLancamentos\")\\\n",
        "   .groupBy()\\\n",
        "   .sum(\"quantidadeLancamentos\")\\\n",
        "   .withColumnRenamed(\"sum(quantidadeLancamentos)\", \"Quantidade Total de Lançamentos\")\\\n",
        "   .show()"
      ],
      "execution_count": null,
      "outputs": [
        {
          "output_type": "stream",
          "name": "stdout",
          "text": [
            "+-------------------------------+\n",
            "|Quantidade Total de Lançamentos|\n",
            "+-------------------------------+\n",
            "|                            200|\n",
            "+-------------------------------+\n",
            "\n"
          ]
        }
      ]
    },
    {
      "cell_type": "code",
      "metadata": {
        "colab": {
          "base_uri": "https://localhost:8080/"
        },
        "id": "vJOlbWZO_OjD",
        "outputId": "ab98be8a-0248-4ae4-b47c-a964bb1baa3c"
      },
      "source": [
        "# exibindo uma forma alternativa, e considerando apenas um único comando \n",
        "data\\\n",
        "   .join(pagamento, on=\"dataPK\")\\\n",
        "   .where(\"dataAno = 2020 AND dataMes=9\")\\\n",
        "   .select(\"quantidadeLancamentos\")\\\n",
        "   .groupBy()\\\n",
        "   .sum(\"quantidadeLancamentos\")\\\n",
        "   .withColumnRenamed(\"sum(quantidadeLancamentos)\", \"Quantidade Total de Lançamentos\")\\\n",
        "   .show()"
      ],
      "execution_count": null,
      "outputs": [
        {
          "output_type": "stream",
          "name": "stdout",
          "text": [
            "+-------------------------------+\n",
            "|Quantidade Total de Lançamentos|\n",
            "+-------------------------------+\n",
            "|                            200|\n",
            "+-------------------------------+\n",
            "\n"
          ]
        }
      ]
    },
    {
      "cell_type": "markdown",
      "metadata": {
        "id": "FjeYu20EoUyO"
      },
      "source": [
        "### **EXERCÍCIO 1 (Essencial)** \n",
        "\n",
        "Qual o total de negociações realizadas nos meses de Abril, Maio e Junho de 2016? Renomeie o resultado final como \"Quantidade de Negociações\". \n",
        "\n",
        "Resolva a consulta de duas formas diferentes, considerando cada uma das especificações a seguir:\n",
        "\n",
        "- **Consulta passo a passo:** Escreva a consulta passo a passo, selecionando apenas as colunas necessárias para o processamento da consulta.\n",
        "\n",
        "- **Consulta um comando:** Escreva apenas um único comando para a  consulta. \n",
        "\n",
        "Dica: utilize a medida numérica `quantidadeNegociacoes` presente na tabela `negociacao` e os dados históricos presentes na tabela `data`."
      ]
    },
    {
      "cell_type": "code",
      "metadata": {
        "id": "LgByg7PR_d3y",
        "colab": {
          "base_uri": "https://localhost:8080/"
        },
        "outputId": "0adf6b11-48ac-4f5b-9036-f2568063fb57"
      },
      "source": [
        "# Resposta do exercício - consulta passo a passo\n",
        "# selecionando apenas as colunas necessárias ao processamento da consulta \n",
        "dataSelecionada = \\\n",
        "   data\\\n",
        "   .filter(\"dataAno = 2016 AND dataMes BETWEEN 4 AND 6\")\\\n",
        "   .select(\"dataPK\")\n",
        "dataSelecionada.show(5)"
      ],
      "execution_count": null,
      "outputs": [
        {
          "output_type": "stream",
          "name": "stdout",
          "text": [
            "+------+\n",
            "|dataPK|\n",
            "+------+\n",
            "|    92|\n",
            "|    93|\n",
            "|    94|\n",
            "|    95|\n",
            "|    96|\n",
            "+------+\n",
            "only showing top 5 rows\n",
            "\n"
          ]
        }
      ]
    },
    {
      "cell_type": "code",
      "metadata": {
        "colab": {
          "base_uri": "https://localhost:8080/"
        },
        "id": "42Acb68Mu6aq",
        "outputId": "79cc45fa-45a8-4dd4-eea9-61e008417466"
      },
      "source": [
        "# selecionando apenas as colunas necessárias ao processamento da consulta\n",
        "negociacaoSelecionada = \\\n",
        "   negociacao\\\n",
        "   .select(\"dataPK\", \"quantidadeNegociacoes\")\n",
        "negociacaoSelecionada.show(5)"
      ],
      "execution_count": null,
      "outputs": [
        {
          "output_type": "stream",
          "name": "stdout",
          "text": [
            "+------+---------------------+\n",
            "|dataPK|quantidadeNegociacoes|\n",
            "+------+---------------------+\n",
            "|    22|                    1|\n",
            "|    11|                    1|\n",
            "|    21|                    1|\n",
            "|    23|                    1|\n",
            "|    30|                    1|\n",
            "+------+---------------------+\n",
            "only showing top 5 rows\n",
            "\n"
          ]
        }
      ]
    },
    {
      "cell_type": "code",
      "metadata": {
        "colab": {
          "base_uri": "https://localhost:8080/"
        },
        "id": "f1gtr4cSu6k-",
        "outputId": "815a09cc-4837-40aa-f727-dea0599bb9a3"
      },
      "source": [
        "# realizando a junção entre os resultados obtidos\n",
        "dataNegociacao =\\\n",
        "   dataSelecionada\\\n",
        "   .join(negociacaoSelecionada, on=\"dataPK\")\n",
        "dataNegociacao.show(5)"
      ],
      "execution_count": null,
      "outputs": [
        {
          "output_type": "stream",
          "name": "stdout",
          "text": [
            "+------+---------------------+\n",
            "|dataPK|quantidadeNegociacoes|\n",
            "+------+---------------------+\n",
            "|   104|                    1|\n",
            "|    99|                    1|\n",
            "|   116|                    1|\n",
            "|   114|                    1|\n",
            "|   117|                    1|\n",
            "+------+---------------------+\n",
            "only showing top 5 rows\n",
            "\n"
          ]
        }
      ]
    },
    {
      "cell_type": "code",
      "metadata": {
        "colab": {
          "base_uri": "https://localhost:8080/"
        },
        "id": "gR_jv8Eqy0K4",
        "outputId": "19588e7d-ce96-438d-fad5-ae40dd449f40"
      },
      "source": [
        "# exibindo o resultado desejado\n",
        "dataNegociacao\\\n",
        "   .select(\"quantidadeNegociacoes\")\\\n",
        "   .groupBy()\\\n",
        "   .sum(\"quantidadeNegociacoes\")\\\n",
        "   .withColumnRenamed(\"sum(quantidadeNegociacoes)\", \"Quantidade de Negociações\")\\\n",
        "   .show()"
      ],
      "execution_count": null,
      "outputs": [
        {
          "output_type": "stream",
          "name": "stdout",
          "text": [
            "+-------------------------+\n",
            "|Quantidade de Negociações|\n",
            "+-------------------------+\n",
            "|                       59|\n",
            "+-------------------------+\n",
            "\n"
          ]
        }
      ]
    },
    {
      "cell_type": "code",
      "metadata": {
        "id": "RU-XnN0J7ykx",
        "colab": {
          "base_uri": "https://localhost:8080/"
        },
        "outputId": "a939e4ea-d837-40f6-e3be-42531fbf74cc"
      },
      "source": [
        "# Resposta do exercício - consulta com um comando\n",
        "data\\\n",
        "   .join(negociacao, on=\"dataPK\")\\\n",
        "   .where(\"dataAno = 2016 AND dataTrimestre=2\")\\\n",
        "   .select(\"quantidadeNegociacoes\")\\\n",
        "   .groupBy()\\\n",
        "   .sum(\"quantidadeNegociacoes\")\\\n",
        "   .withColumnRenamed(\"sum(quantidadeNegociacoes)\", \"Quantidade de Negociações\")\\\n",
        "   .show()"
      ],
      "execution_count": null,
      "outputs": [
        {
          "output_type": "stream",
          "name": "stdout",
          "text": [
            "+-------------------------+\n",
            "|Quantidade de Negociações|\n",
            "+-------------------------+\n",
            "|                       59|\n",
            "+-------------------------+\n",
            "\n"
          ]
        }
      ]
    },
    {
      "cell_type": "markdown",
      "metadata": {
        "id": "crCnMYwi7rIm"
      },
      "source": [
        "## 6.2 Operações Drill-Down e Roll-Up\n",
        "\n",
        "**Definição**: Analisam os dados considerando níveis progressivos de agregação.\n",
        "\n",
        "- Drill-down: níveis de agregação progressivamente mais detalhados, ou de menor granularidade.\n",
        "- Roll-up: níveis de agregação progressivamente menos detalhados, ou de maior granularidade."
      ]
    },
    {
      "cell_type": "markdown",
      "metadata": {
        "id": "YC-qVTVIpyX4"
      },
      "source": [
        "Para ilustrar as operações de drill-down e roll-up, considere a consulta base definida a seguir.\n",
        "\n",
        "**Consulta base:** Qual o valor gasto em salários por ano, considerando cada **semestre**?"
      ]
    },
    {
      "cell_type": "code",
      "metadata": {
        "colab": {
          "base_uri": "https://localhost:8080/"
        },
        "id": "PT-6hG7H-HMO",
        "outputId": "b8c957aa-8b64-4c61-bf9e-73c3c4b368a7"
      },
      "source": [
        "# exibindo a resposta considerando cada semestre\n",
        "\n",
        "data\\\n",
        "   .join(pagamento, on=\"dataPK\")\\\n",
        "   .select(\"dataAno\", \"dataSemestre\", \"salario\")\\\n",
        "   .groupBy(\"dataAno\", \"dataSemestre\")\\\n",
        "   .sum(\"salario\")\\\n",
        "   .withColumn(\"sum(salario)\", round(\"sum(salario)\",2))\\\n",
        "   .withColumnRenamed(\"sum(salario)\", \"Valor gasto em salários por semestre\")\\\n",
        "   .orderBy(\"dataAno\", \"dataSemestre\")\\\n",
        "   .show()"
      ],
      "execution_count": null,
      "outputs": [
        {
          "output_type": "stream",
          "name": "stdout",
          "text": [
            "+-------+------------+------------------------------------+\n",
            "|dataAno|dataSemestre|Valor gasto em salários por semestre|\n",
            "+-------+------------+------------------------------------+\n",
            "|   2016|           1|                          2221308.55|\n",
            "|   2016|           2|                          2221308.55|\n",
            "|   2017|           1|                          4887639.92|\n",
            "|   2017|           2|                          4887639.92|\n",
            "|   2018|           1|                          7467763.23|\n",
            "|   2018|           2|                          7467763.23|\n",
            "|   2019|           1|                          9283833.23|\n",
            "|   2019|           2|                          9283833.23|\n",
            "|   2020|           1|                          9283833.23|\n",
            "|   2020|           2|                          9283833.23|\n",
            "+-------+------------+------------------------------------+\n",
            "\n"
          ]
        }
      ]
    },
    {
      "cell_type": "markdown",
      "metadata": {
        "id": "1PzzQT1Xz-4-"
      },
      "source": [
        "**Exemplo de consulta drill-down:** Qual o valor gasto em salários por ano, considerando cada **trimestre**?"
      ]
    },
    {
      "cell_type": "code",
      "metadata": {
        "colab": {
          "base_uri": "https://localhost:8080/"
        },
        "id": "TqYhD7WXDKeu",
        "outputId": "b355d4d8-88ad-44b2-f595-5dfc76451eaf"
      },
      "source": [
        "# Exibindo a resposta considerando cada trimestre (mais detalhes)\n",
        "\n",
        "data\\\n",
        "  .join(pagamento, on=\"dataPK\")\\\n",
        "  .select(\"dataAno\", \"dataTrimestre\", \"salario\")\\\n",
        "  .groupBy(\"dataAno\", \"dataTrimestre\")\\\n",
        "  .sum(\"salario\")\\\n",
        "  .withColumn(\"sum(salario)\", round(\"sum(salario)\",2))\\\n",
        "  .withColumnRenamed(\"sum(salario)\", \"Valor gasto em salários por trimestre\")\\\n",
        "  .orderBy(\"dataAno\", \"dataTrimestre\")\\\n",
        "  .show()"
      ],
      "execution_count": null,
      "outputs": [
        {
          "output_type": "stream",
          "name": "stdout",
          "text": [
            "+-------+-------------+-------------------------------------+\n",
            "|dataAno|dataTrimestre|Valor gasto em salários por trimestre|\n",
            "+-------+-------------+-------------------------------------+\n",
            "|   2016|            1|                           1110654.28|\n",
            "|   2016|            2|                           1110654.28|\n",
            "|   2016|            3|                           1110654.28|\n",
            "|   2016|            4|                           1110654.28|\n",
            "|   2017|            1|                           2443819.96|\n",
            "|   2017|            2|                           2443819.96|\n",
            "|   2017|            3|                           2443819.96|\n",
            "|   2017|            4|                           2443819.96|\n",
            "|   2018|            1|                           3733881.62|\n",
            "|   2018|            2|                           3733881.62|\n",
            "|   2018|            3|                           3733881.62|\n",
            "|   2018|            4|                           3733881.62|\n",
            "|   2019|            1|                           4641916.61|\n",
            "|   2019|            2|                           4641916.61|\n",
            "|   2019|            3|                           4641916.61|\n",
            "|   2019|            4|                           4641916.61|\n",
            "|   2020|            1|                           4641916.61|\n",
            "|   2020|            2|                           4641916.61|\n",
            "|   2020|            3|                           4641916.61|\n",
            "|   2020|            4|                           4641916.61|\n",
            "+-------+-------------+-------------------------------------+\n",
            "\n"
          ]
        }
      ]
    },
    {
      "cell_type": "markdown",
      "metadata": {
        "id": "7bFWeBr87xpN"
      },
      "source": [
        "**Exemplo de consulta roll-up:** Qual o valor gasto em salários por **ano**?"
      ]
    },
    {
      "cell_type": "code",
      "metadata": {
        "colab": {
          "base_uri": "https://localhost:8080/"
        },
        "id": "Nf2pbKfWEIdp",
        "outputId": "089c3fdf-2f65-47d8-e5b7-0f885b813428"
      },
      "source": [
        "# Exibindo a resposta considerando cada ano (menos detalhes)\n",
        "\n",
        "data\\\n",
        "  .join(pagamento, on=\"dataPK\")\\\n",
        "  .select(\"dataAno\", \"salario\")\\\n",
        "  .groupBy(\"dataAno\")\\\n",
        "  .sum(\"salario\")\\\n",
        "  .withColumn(\"sum(salario)\", round(\"sum(salario)\",2))\\\n",
        "  .withColumnRenamed(\"sum(salario)\", \"Valor gasto em salários por ano\")\\\n",
        "  .orderBy(\"dataAno\")\\\n",
        "  .show()"
      ],
      "execution_count": null,
      "outputs": [
        {
          "output_type": "stream",
          "name": "stdout",
          "text": [
            "+-------+-------------------------------+\n",
            "|dataAno|Valor gasto em salários por ano|\n",
            "+-------+-------------------------------+\n",
            "|   2016|                      4442617.1|\n",
            "|   2017|                     9775279.84|\n",
            "|   2018|                  1.493552647E7|\n",
            "|   2019|                  1.856766645E7|\n",
            "|   2020|                  1.856766645E7|\n",
            "+-------+-------------------------------+\n",
            "\n"
          ]
        }
      ]
    },
    {
      "cell_type": "markdown",
      "metadata": {
        "id": "nG_cvrxlrdx7"
      },
      "source": [
        "### **EXERCÍCIO 2 (Essencial)**  \n",
        "\n",
        "Faça 3 consultas SQL, uma para cada consulta especificada a seguir.\n",
        "\n",
        "- **Consulta base:** Qual é a soma da receita recebida em cada um dos semestres do ano de 2019? Renomeie o resultado final como \"Valor recebido em receitas por semestre no ano de 2019\".\n",
        "\n",
        "- **Consulta drill-down:** Qual é a soma da receita recebida em cada um dos trimestres do ano de 2019? Renomeie o resultado final como \"Valor recebido em receitas por trimestre no ano de 2019\".\n",
        "\n",
        "- **Consulta roll-up:** Qual é a soma da receita recebida no ano de 2019? Renomeie o resultado final como \"Valor recebido em receitas no ano de 2019\".\n",
        "\n",
        "Dica: utilize a medida numérica `receita` presente na tabela `negociacao` e os dados históricos presentes na tabela `data`."
      ]
    },
    {
      "cell_type": "code",
      "metadata": {
        "id": "UsK7-ehtFMHc",
        "colab": {
          "base_uri": "https://localhost:8080/"
        },
        "outputId": "57b74df6-15cc-423c-ef95-3c8803c2b72f"
      },
      "source": [
        "# Resposta do exercício - consulta base \n",
        "\n",
        "data\\\n",
        "   .join(negociacao, on=\"dataPK\")\\\n",
        "   .where(\"dataAno = 2019\")\\\n",
        "   .select(\"dataSemestre\", \"receita\")\\\n",
        "   .groupBy(\"dataSemestre\")\\\n",
        "   .sum(\"receita\")\\\n",
        "   .withColumn(\"sum(receita)\", round(\"sum(receita)\",2))\\\n",
        "   .withColumnRenamed(\"sum(receita)\", \"Valor recebido em receitas por semestre no ano de 2019\")\\\n",
        "   .orderBy(\"dataSemestre\")\\\n",
        "   .show()"
      ],
      "execution_count": null,
      "outputs": [
        {
          "output_type": "stream",
          "name": "stdout",
          "text": [
            "+------------+------------------------------------------------------+\n",
            "|dataSemestre|Valor recebido em receitas por semestre no ano de 2019|\n",
            "+------------+------------------------------------------------------+\n",
            "|           1|                                         1.832852694E7|\n",
            "|           2|                                         1.702479139E7|\n",
            "+------------+------------------------------------------------------+\n",
            "\n"
          ]
        }
      ]
    },
    {
      "cell_type": "code",
      "metadata": {
        "id": "QWZnWrLMFg19",
        "colab": {
          "base_uri": "https://localhost:8080/"
        },
        "outputId": "cf126418-efb4-4b9b-d43a-1a7b224920f6"
      },
      "source": [
        "# Resposta do exercício - consulta drill-down\n",
        "data\\\n",
        "   .join(negociacao, on=\"dataPK\")\\\n",
        "   .where(\"dataAno = 2019\")\\\n",
        "   .select(\"dataTrimestre\", \"receita\")\\\n",
        "   .groupBy(\"dataTrimestre\")\\\n",
        "   .sum(\"receita\")\\\n",
        "   .withColumn(\"sum(receita)\", round(\"sum(receita)\",2))\\\n",
        "   .withColumnRenamed(\"sum(receita)\", \"Valor recebido em receitas por trimestre no ano de 2019\")\\\n",
        "   .orderBy(\"dataTrimestre\")\\\n",
        "   .show()"
      ],
      "execution_count": null,
      "outputs": [
        {
          "output_type": "stream",
          "name": "stdout",
          "text": [
            "+-------------+-------------------------------------------------------+\n",
            "|dataTrimestre|Valor recebido em receitas por trimestre no ano de 2019|\n",
            "+-------------+-------------------------------------------------------+\n",
            "|            1|                                              9089432.5|\n",
            "|            2|                                             9239094.44|\n",
            "|            3|                                             8792711.21|\n",
            "|            4|                                             8232080.18|\n",
            "+-------------+-------------------------------------------------------+\n",
            "\n"
          ]
        }
      ]
    },
    {
      "cell_type": "code",
      "metadata": {
        "id": "gSw33MsEF1nV",
        "colab": {
          "base_uri": "https://localhost:8080/"
        },
        "outputId": "80e5375a-d0ce-4754-e6a1-00f9a50a4e40"
      },
      "source": [
        "# Resposta do exercício - consulta roll-up\n",
        "data\\\n",
        "   .join(negociacao, on=\"dataPK\")\\\n",
        "   .where(\"dataAno = 2019\")\\\n",
        "   .select(\"dataAno\", \"receita\")\\\n",
        "   .groupBy(\"dataAno\")\\\n",
        "   .sum(\"receita\")\\\n",
        "   .withColumn(\"sum(receita)\", round(\"sum(receita)\",2))\\\n",
        "   .withColumnRenamed(\"sum(receita)\", \"Valor recebido em receitas no ano de 2019\")\\\n",
        "   .show()"
      ],
      "execution_count": null,
      "outputs": [
        {
          "output_type": "stream",
          "name": "stdout",
          "text": [
            "+-------+-----------------------------------------+\n",
            "|dataAno|Valor recebido em receitas no ano de 2019|\n",
            "+-------+-----------------------------------------+\n",
            "|   2019|                            3.535331833E7|\n",
            "+-------+-----------------------------------------+\n",
            "\n"
          ]
        }
      ]
    },
    {
      "cell_type": "markdown",
      "metadata": {
        "id": "h1kRDhciLQnj"
      },
      "source": [
        "## 6.3 Operação Pivot\n",
        "\n",
        "**Definição:** Reorienta a visão multidimensional dos dados, oferecendo diferentes perspectivas dos mesmos dados."
      ]
    },
    {
      "cell_type": "markdown",
      "metadata": {
        "id": "eaXAXkeF1atH"
      },
      "source": [
        "Para ilustrar a operação pivot, considere a consulta base definida a seguir. \n",
        "\n",
        "**Consulta base:**  Qual o valor gasto em salários por ano, considerando cada nível de cargo?"
      ]
    },
    {
      "cell_type": "code",
      "metadata": {
        "colab": {
          "base_uri": "https://localhost:8080/"
        },
        "id": "n_hWmXflIfDu",
        "outputId": "8062aa56-8b22-4760-d7b7-dcc1ebee0d70"
      },
      "source": [
        "pagamento\\\n",
        "  .join(data, on=\"dataPK\")\\\n",
        "  .join(cargo, on=\"cargoPK\")\\\n",
        "  .select(\"dataAno\",  \"cargoNivel\", \"salario\")\\\n",
        "  .groupBy(\"dataAno\", \"cargoNivel\")\\\n",
        "  .sum(\"salario\")\\\n",
        "  .withColumn(\"sum(salario)\", round(\"sum(salario)\",2))\\\n",
        "  .withColumnRenamed(\"sum(salario)\", \"Gastos em Salários\")\\\n",
        "  .orderBy(\"dataAno\", \"cargoNivel\")\\\n",
        "  .show()"
      ],
      "execution_count": null,
      "outputs": [
        {
          "output_type": "stream",
          "name": "stdout",
          "text": [
            "+-------+----------+------------------+\n",
            "|dataAno|cargoNivel|Gastos em Salários|\n",
            "+-------+----------+------------------+\n",
            "|   2016|    JUNIOR|         489456.84|\n",
            "|   2016|     PLENO|        1454152.44|\n",
            "|   2016|    SENIOR|        2499007.82|\n",
            "|   2017|    JUNIOR|         1030642.8|\n",
            "|   2017|     PLENO|        3791593.94|\n",
            "|   2017|    SENIOR|         4953043.1|\n",
            "|   2018|    JUNIOR|         1393282.2|\n",
            "|   2018|     PLENO|        5357227.46|\n",
            "|   2018|    SENIOR|        8185016.81|\n",
            "|   2019|    JUNIOR|        1755714.36|\n",
            "|   2019|     PLENO|        6132228.26|\n",
            "|   2019|    SENIOR|     1.067972384E7|\n",
            "|   2020|    JUNIOR|        1755714.36|\n",
            "|   2020|     PLENO|        6132228.26|\n",
            "|   2020|    SENIOR|     1.067972384E7|\n",
            "+-------+----------+------------------+\n",
            "\n"
          ]
        }
      ]
    },
    {
      "cell_type": "markdown",
      "metadata": {
        "id": "DPBaswdrLWv6"
      },
      "source": [
        "**Exemplo de consulta pivot:** Qual o valor gasto em salários por nível de cargo, considerando cada ano?"
      ]
    },
    {
      "cell_type": "code",
      "metadata": {
        "colab": {
          "base_uri": "https://localhost:8080/"
        },
        "id": "S0onSN7SDTyq",
        "outputId": "39daa79f-3f77-4b5d-8f12-9240e63a6866"
      },
      "source": [
        "pagamento\\\n",
        "  .join(data, on=\"dataPK\")\\\n",
        "  .join(cargo, on=\"cargoPK\")\\\n",
        "  .select(\"cargoNivel\", \"dataAno\", \"salario\")\\\n",
        "  .groupBy(\"cargoNivel\", \"dataAno\")\\\n",
        "  .sum(\"salario\")\\\n",
        "  .orderBy(\"cargoNivel\", \"dataAno\")\\\n",
        "  .withColumn(\"sum(salario)\", round(\"sum(salario)\",2))\\\n",
        "  .withColumnRenamed(\"sum(salario)\", \"Gastos em Salários\")\\\n",
        "  .show()"
      ],
      "execution_count": null,
      "outputs": [
        {
          "output_type": "stream",
          "name": "stdout",
          "text": [
            "+----------+-------+------------------+\n",
            "|cargoNivel|dataAno|Gastos em Salários|\n",
            "+----------+-------+------------------+\n",
            "|    JUNIOR|   2016|         489456.84|\n",
            "|    JUNIOR|   2017|         1030642.8|\n",
            "|    JUNIOR|   2018|         1393282.2|\n",
            "|    JUNIOR|   2019|        1755714.36|\n",
            "|    JUNIOR|   2020|        1755714.36|\n",
            "|     PLENO|   2016|        1454152.44|\n",
            "|     PLENO|   2017|        3791593.94|\n",
            "|     PLENO|   2018|        5357227.46|\n",
            "|     PLENO|   2019|        6132228.26|\n",
            "|     PLENO|   2020|        6132228.26|\n",
            "|    SENIOR|   2016|        2499007.82|\n",
            "|    SENIOR|   2017|         4953043.1|\n",
            "|    SENIOR|   2018|        8185016.81|\n",
            "|    SENIOR|   2019|     1.067972384E7|\n",
            "|    SENIOR|   2020|     1.067972384E7|\n",
            "+----------+-------+------------------+\n",
            "\n"
          ]
        }
      ]
    },
    {
      "cell_type": "markdown",
      "metadata": {
        "id": "7D-E4clhKZgE"
      },
      "source": [
        "### Método pivot()\n",
        "\n",
        "`pivot(coluna, valores=None)`\n",
        "\n",
        "Rotaciona uma `coluna` do `DataFrame`, e exibe os valores de acordo com o parâmetro `valores`.\n",
        "\n"
      ]
    },
    {
      "cell_type": "code",
      "metadata": {
        "colab": {
          "base_uri": "https://localhost:8080/"
        },
        "id": "u-qi2luOKN6a",
        "outputId": "5496a6ae-c04c-478a-b447-27407c183b02"
      },
      "source": [
        "#metodo pivot()\n",
        "\n",
        "pagamento\\\n",
        "  .join(data, on=\"dataPK\")\\\n",
        "  .join(cargo, on=\"cargoPK\")\\\n",
        "  .select(\"dataAno\",  \"cargoNivel\", \"salario\")\\\n",
        "  .groupBy(\"dataAno\", \"cargoNivel\")\\\n",
        "  .sum(\"salario\")\\\n",
        "  .orderBy(\"dataAno\", \"cargoNivel\")\\\n",
        "  .groupBy(\"dataAno\", \"sum(salario)\")\\\n",
        "  .pivot(\"cargoNivel\")\\\n",
        "  .sum(\"sum(salario)\")\\\n",
        "  .withColumn(\"sum(salario)\", round(\"sum(salario)\",2))\\\n",
        "  .withColumnRenamed(\"sum(salario)\", \"Gastos em Salários\")\\\n",
        "  .show()"
      ],
      "execution_count": null,
      "outputs": [
        {
          "output_type": "stream",
          "name": "stdout",
          "text": [
            "+-------+------------------+------------------+------------------+------------------+\n",
            "|dataAno|Gastos em Salários|            JUNIOR|             PLENO|            SENIOR|\n",
            "+-------+------------------+------------------+------------------+------------------+\n",
            "|   2017|         4953043.1|              null|              null|   4953043.1015625|\n",
            "|   2018|         1393282.2|1393282.1967773438|              null|              null|\n",
            "|   2020|     1.067972384E7|              null|              null|1.06797238359375E7|\n",
            "|   2018|        5357227.46|              null|5357227.4560546875|              null|\n",
            "|   2016|        1454152.44|              null|  1454152.44140625|              null|\n",
            "|   2019|        6132228.26|              null|6132228.2607421875|              null|\n",
            "|   2016|         489456.84|489456.84228515625|              null|              null|\n",
            "|   2017|        3791593.94|              null|3791593.9423828125|              null|\n",
            "|   2019|     1.067972384E7|              null|              null|1.06797238359375E7|\n",
            "|   2018|        8185016.81|              null|              null|      8185016.8125|\n",
            "|   2020|        1755714.36| 1755714.357421875|              null|              null|\n",
            "|   2020|        6132228.26|              null|6132228.2607421875|              null|\n",
            "|   2016|        2499007.82|              null|              null|  2499007.81640625|\n",
            "|   2017|         1030642.8|1030642.7958984375|              null|              null|\n",
            "|   2019|        1755714.36| 1755714.357421875|              null|              null|\n",
            "+-------+------------------+------------------+------------------+------------------+\n",
            "\n"
          ]
        }
      ]
    },
    {
      "cell_type": "markdown",
      "metadata": {
        "id": "3FNsObn_vVmp"
      },
      "source": [
        "### **EXERCÍCIO 3 (Essencial)**\n",
        "\n",
        "Faça 3 consultas SQL, uma para cada consulta especificada a seguir.\n",
        "\n",
        "- **Consulta base:** Qual é a receita média gerada pelos clientes considerando seus segmentos (ou seja, os setores nos quais eles atuam), em cada um dos anos? Renomeie o resultado final como \"Média das Receitas Recebidas\". \n",
        "\n",
        "- **Consulta pivot:** Qual é a receita média gerada pelos clientes em cada um dos anos, considerando seus segmentos (ou seja, os setores nos quais eles atuam)? Renomeie o resultado final como \"Média das Receitas Recebidas\".\n",
        "\n",
        "- **Consulta método pivot():** Utilize o método pivot() para rotacionar a  coluna `clienteSetor`. Renomeie o resultado final como \"Média das Receitas Recebidas\".\n",
        "\n",
        "Dica: utilize a medida numérica `receita` presente na tabela `negociacao`, os dados de clientes presentes na tabela `cliente` e os dados históricos presentes na tabela `data`. "
      ]
    },
    {
      "cell_type": "code",
      "metadata": {
        "colab": {
          "base_uri": "https://localhost:8080/"
        },
        "id": "-z964_QcKcgT",
        "outputId": "a4b25db1-85c1-4a96-de7e-edd122a3ac5c"
      },
      "source": [
        "cliente.columns"
      ],
      "execution_count": null,
      "outputs": [
        {
          "output_type": "execute_result",
          "data": {
            "text/plain": [
              "['clientePK',\n",
              " 'clienteNomeFantasia',\n",
              " 'clienteSetor',\n",
              " 'clienteCidade',\n",
              " 'clienteEstadoNome',\n",
              " 'clienteEstadoSigla',\n",
              " 'clienteRegiaoNome',\n",
              " 'clienteRegiaoSigla',\n",
              " 'clientePaisNome',\n",
              " 'clientePaisSigla']"
            ]
          },
          "metadata": {},
          "execution_count": 77
        }
      ]
    },
    {
      "cell_type": "code",
      "metadata": {
        "id": "RiOCboahpApN",
        "colab": {
          "base_uri": "https://localhost:8080/"
        },
        "outputId": "7c9b2f86-4a71-43dd-d62a-f1ea2db01b36"
      },
      "source": [
        "# Resposta do exercício - consulta base\n",
        "negociacao\\\n",
        "  .join(data, on=\"dataPK\")\\\n",
        "  .join(cliente, on=\"clientePK\")\\\n",
        "  .select(\"clienteSetor\", \"dataAno\", \"receita\")\\\n",
        "  .groupBy(\"clienteSetor\", \"dataAno\")\\\n",
        "  .avg(\"receita\")\\\n",
        "  .withColumn(\"avg(receita)\", round(\"avg(receita)\",2))\\\n",
        "  .withColumnRenamed(\"avg(receita)\", \"Média das Receitas Recebidas\")\\\n",
        "  .orderBy(\"clienteSetor\", \"dataAno\")\\\n",
        "  .show()"
      ],
      "execution_count": null,
      "outputs": [
        {
          "output_type": "stream",
          "name": "stdout",
          "text": [
            "+-------------------+-------+----------------------------+\n",
            "|       clienteSetor|dataAno|Média das Receitas Recebidas|\n",
            "+-------------------+-------+----------------------------+\n",
            "|BEBIDAS E ALIMENTOS|   2016|                     16289.1|\n",
            "|BEBIDAS E ALIMENTOS|   2017|                    14090.94|\n",
            "|BEBIDAS E ALIMENTOS|   2018|                    13748.01|\n",
            "|BEBIDAS E ALIMENTOS|   2019|                    22625.97|\n",
            "|BEBIDAS E ALIMENTOS|   2020|                    23022.96|\n",
            "|            CREDITO|   2016|                    12478.54|\n",
            "|            CREDITO|   2017|                    15512.85|\n",
            "|            CREDITO|   2018|                    15081.67|\n",
            "|            CREDITO|   2019|                    34543.42|\n",
            "|            CREDITO|   2020|                    32824.57|\n",
            "|              SAUDE|   2016|                    19920.16|\n",
            "|              SAUDE|   2017|                    11033.73|\n",
            "|              SAUDE|   2018|                    13804.84|\n",
            "|              SAUDE|   2019|                    34020.14|\n",
            "|              SAUDE|   2020|                     30274.9|\n",
            "|         TECNOLOGIA|   2016|                    15391.56|\n",
            "|         TECNOLOGIA|   2017|                     13458.9|\n",
            "|         TECNOLOGIA|   2018|                    13690.66|\n",
            "|         TECNOLOGIA|   2019|                    34555.96|\n",
            "|         TECNOLOGIA|   2020|                    26883.52|\n",
            "+-------------------+-------+----------------------------+\n",
            "only showing top 20 rows\n",
            "\n"
          ]
        }
      ]
    },
    {
      "cell_type": "code",
      "metadata": {
        "id": "wvdx1ZvSE2iV",
        "colab": {
          "base_uri": "https://localhost:8080/"
        },
        "outputId": "e3bc2c67-835e-4fe4-ddc4-a58d3983c8ac"
      },
      "source": [
        "# Resposta do exercício - consulta pivot\n",
        "negociacao\\\n",
        "  .join(data, on=\"dataPK\")\\\n",
        "  .join(cliente, on=\"clientePK\")\\\n",
        "  .select(\"dataAno\",  \"clienteSetor\", \"receita\")\\\n",
        "  .groupBy(\"dataAno\", \"clienteSetor\")\\\n",
        "  .avg(\"receita\")\\\n",
        "  .withColumn(\"avg(receita)\", round(\"avg(receita)\",2))\\\n",
        "  .withColumnRenamed(\"avg(receita)\", \"Média das Receitas Recebidas\")\\\n",
        "  .orderBy(\"dataAno\", \"clienteSetor\")\\\n",
        "  .show()"
      ],
      "execution_count": null,
      "outputs": [
        {
          "output_type": "stream",
          "name": "stdout",
          "text": [
            "+-------+-------------------+----------------------------+\n",
            "|dataAno|       clienteSetor|Média das Receitas Recebidas|\n",
            "+-------+-------------------+----------------------------+\n",
            "|   2016|BEBIDAS E ALIMENTOS|                     16289.1|\n",
            "|   2016|            CREDITO|                    12478.54|\n",
            "|   2016|              SAUDE|                    19920.16|\n",
            "|   2016|         TECNOLOGIA|                    15391.56|\n",
            "|   2016|          VESTUARIO|                    20544.94|\n",
            "|   2017|BEBIDAS E ALIMENTOS|                    14090.94|\n",
            "|   2017|            CREDITO|                    15512.85|\n",
            "|   2017|              SAUDE|                    11033.73|\n",
            "|   2017|         TECNOLOGIA|                     13458.9|\n",
            "|   2017|          VESTUARIO|                    11848.01|\n",
            "|   2018|BEBIDAS E ALIMENTOS|                    13748.01|\n",
            "|   2018|            CREDITO|                    15081.67|\n",
            "|   2018|              SAUDE|                    13804.84|\n",
            "|   2018|         TECNOLOGIA|                    13690.66|\n",
            "|   2018|          VESTUARIO|                    12347.27|\n",
            "|   2019|BEBIDAS E ALIMENTOS|                    22625.97|\n",
            "|   2019|            CREDITO|                    34543.42|\n",
            "|   2019|              SAUDE|                    34020.14|\n",
            "|   2019|         TECNOLOGIA|                    34555.96|\n",
            "|   2019|          VESTUARIO|                     32297.8|\n",
            "+-------+-------------------+----------------------------+\n",
            "only showing top 20 rows\n",
            "\n"
          ]
        }
      ]
    },
    {
      "cell_type": "code",
      "metadata": {
        "id": "B2uo2DopMTMj",
        "colab": {
          "base_uri": "https://localhost:8080/"
        },
        "outputId": "4e22f7b7-f127-406b-e043-e53d3de3ee92"
      },
      "source": [
        "# Resposta do exercício - consulta usando o método pivot()\n",
        "negociacao\\\n",
        "  .join(data, on=\"dataPK\")\\\n",
        "  .join(cliente, on=\"clientePK\")\\\n",
        "  .select(\"dataAno\",  \"clienteSetor\", \"receita\")\\\n",
        "  .groupBy(\"dataAno\", \"clienteSetor\")\\\n",
        "  .avg(\"receita\")\\\n",
        "  .orderBy(\"dataAno\", \"clienteSetor\")\\\n",
        "  .groupBy(\"dataAno\", \"avg(receita)\")\\\n",
        "  .pivot(\"clienteSetor\")\\\n",
        "  .avg(\"avg(receita)\")\\\n",
        "  .withColumn(\"avg(receita)\", round(\"avg(receita)\",2))\\\n",
        "  .withColumnRenamed(\"avg(receita)\", \"Média das Receitas Recebidas\")\\\n",
        "  .show()"
      ],
      "execution_count": null,
      "outputs": [
        {
          "output_type": "stream",
          "name": "stdout",
          "text": [
            "+-------+----------------------------+-------------------+------------------+------------------+------------------+------------------+\n",
            "|dataAno|Média das Receitas Recebidas|BEBIDAS E ALIMENTOS|           CREDITO|             SAUDE|        TECNOLOGIA|         VESTUARIO|\n",
            "+-------+----------------------------+-------------------+------------------+------------------+------------------+------------------+\n",
            "|   2017|                    11848.01|               null|              null|              null|              null|11848.008775142202|\n",
            "|   2019|                    34555.96|               null|              null|              null| 34555.95527871002|              null|\n",
            "|   2018|                    13748.01| 13748.013788631664|              null|              null|              null|              null|\n",
            "|   2018|                    13804.84|               null|              null| 13804.83683484666|              null|              null|\n",
            "|   2020|                    26883.52|               null|              null|              null|26883.515018615723|              null|\n",
            "|   2019|                    34020.14|               null|              null| 34020.13800379435|              null|              null|\n",
            "|   2016|                    15391.56|               null|              null|              null|15391.562117293075|              null|\n",
            "|   2018|                    12347.27|               null|              null|              null|              null|12347.271779881845|\n",
            "|   2016|                    12478.54|               null|12478.537506103516|              null|              null|              null|\n",
            "|   2016|                     16289.1| 16289.097322705766|              null|              null|              null|              null|\n",
            "|   2017|                    14090.94|  14090.94184266297|              null|              null|              null|              null|\n",
            "|   2017|                    15512.85|               null|15512.845805921053|              null|              null|              null|\n",
            "|   2018|                    13690.66|               null|              null|              null|13690.658560293692|              null|\n",
            "|   2017|                    11033.73|               null|              null|11033.732471362964|              null|              null|\n",
            "|   2020|                    32824.57|               null| 32824.56550969304|              null|              null|              null|\n",
            "|   2019|                    34543.42|               null| 34543.41854623648|              null|              null|              null|\n",
            "|   2020|                     30274.9|               null|              null| 30274.89993329115|              null|              null|\n",
            "|   2019|                     32297.8|               null|              null|              null|              null| 32297.80087063697|\n",
            "|   2016|                    20544.94|               null|              null|              null|              null|20544.941490436424|\n",
            "|   2017|                     13458.9|               null|              null|              null|13458.902910505023|              null|\n",
            "+-------+----------------------------+-------------------+------------------+------------------+------------------+------------------+\n",
            "only showing top 20 rows\n",
            "\n"
          ]
        }
      ]
    },
    {
      "cell_type": "markdown",
      "metadata": {
        "id": "UtJILugUN2K_"
      },
      "source": [
        "## 6.4 Operação Drill-Across\n",
        "\n",
        "**Definição:** Compara medidas numéricas de tabelas de fatos diferentes, utilizando pelo menos uma dimensão em comum. \n",
        "\n",
        "**Exemplo de consulta:** Qual o total gasto com salários e qual o total de receitas recebidas, considerando cada ano?"
      ]
    },
    {
      "cell_type": "code",
      "metadata": {
        "colab": {
          "base_uri": "https://localhost:8080/"
        },
        "id": "81fI8hkaFrn5",
        "outputId": "f38fd771-dbbb-47b8-ca6e-6572087b4ae9"
      },
      "source": [
        "# resolvendo o primeiro bloco da consulta\n",
        "# qual o total de gastos em salários, considerando cada ano? \n",
        "pag = pagamento\\\n",
        "   .join(data, on=\"dataPK\")\\\n",
        "   .select(\"dataAno\", \"salario\")\\\n",
        "   .groupBy(\"dataAno\")\\\n",
        "   .sum(\"salario\")\n",
        "pag.show(5)"
      ],
      "execution_count": null,
      "outputs": [
        {
          "output_type": "stream",
          "name": "stdout",
          "text": [
            "+-------+--------------------+\n",
            "|dataAno|        sum(salario)|\n",
            "+-------+--------------------+\n",
            "|   2018|1.4935526465332031E7|\n",
            "|   2019|1.8567666454101562E7|\n",
            "|   2020|1.8567666454101562E7|\n",
            "|   2016|   4442617.100097656|\n",
            "|   2017|    9775279.83984375|\n",
            "+-------+--------------------+\n",
            "\n"
          ]
        }
      ]
    },
    {
      "cell_type": "code",
      "metadata": {
        "colab": {
          "base_uri": "https://localhost:8080/"
        },
        "id": "wUo8cBZpF2C1",
        "outputId": "5f665af8-50ea-4473-9c7d-d52e892c0431"
      },
      "source": [
        "# resolvendo o segundo bloco da consulta\n",
        "neg = negociacao\\\n",
        "   .join(data, on=\"dataPK\")\\\n",
        "   .select(\"dataAno\", \"receita\")\\\n",
        "   .groupBy(\"dataAno\")\\\n",
        "   .sum(\"receita\")\n",
        "neg.show(5)"
      ],
      "execution_count": null,
      "outputs": [
        {
          "output_type": "stream",
          "name": "stdout",
          "text": [
            "+-------+--------------------+\n",
            "|dataAno|        sum(receita)|\n",
            "+-------+--------------------+\n",
            "|   2018|1.1593539659606934E7|\n",
            "|   2019| 3.535331833154297E7|\n",
            "|   2020| 3.022217587109375E7|\n",
            "|   2016|   4614246.968261719|\n",
            "|   2017|  7200423.3539123535|\n",
            "+-------+--------------------+\n",
            "\n"
          ]
        }
      ]
    },
    {
      "cell_type": "code",
      "metadata": {
        "colab": {
          "base_uri": "https://localhost:8080/"
        },
        "id": "Rv2D1s0eGBJv",
        "outputId": "573d7f76-f45d-4dad-a2e6-673ac8db2813"
      },
      "source": [
        "# realizando a operação de drill-across\n",
        "# exibindo o resultado final\n",
        "pag\\\n",
        "   .join(neg, on=\"dataAno\")\\\n",
        "   .select(\"dataAno\", \"sum(salario)\", \"sum(receita)\")\\\n",
        "   .orderBy(\"dataAno\")\\\n",
        "   .withColumn(\"sum(salario)\", round(\"sum(salario)\",2))\\\n",
        "   .withColumn(\"sum(receita)\", round(\"sum(receita)\",2))\\\n",
        "   .withColumnRenamed(\"sum(salario)\", \"Total Gasto com Salários\")\\\n",
        "   .withColumnRenamed(\"sum(receita)\", \"Total de Receitas Recebidas\")\\\n",
        "   .show()"
      ],
      "execution_count": null,
      "outputs": [
        {
          "output_type": "stream",
          "name": "stdout",
          "text": [
            "+-------+------------------------+---------------------------+\n",
            "|dataAno|Total Gasto com Salários|Total de Receitas Recebidas|\n",
            "+-------+------------------------+---------------------------+\n",
            "|   2016|               4442617.1|                 4614246.97|\n",
            "|   2017|              9775279.84|                 7200423.35|\n",
            "|   2018|           1.493552647E7|              1.159353966E7|\n",
            "|   2019|           1.856766645E7|              3.535331833E7|\n",
            "|   2020|           1.856766645E7|              3.022217587E7|\n",
            "+-------+------------------------+---------------------------+\n",
            "\n"
          ]
        }
      ]
    },
    {
      "cell_type": "markdown",
      "metadata": {
        "id": "h1qyZMktxuwc"
      },
      "source": [
        "### **EXERCÍCIO 4 (Essencial)**\n",
        "\n",
        "Qual o total gasto em salários e qual o total de receitas recebidas, considerando apenas os anos de 2017, 2018 e 2019? Renomeie a saída para \"Ano\", \"Total Gasto com Salários\" e \"Total de Receitas Recebidas\".\n",
        "\n",
        "Dica: utilize a medida numérica `salario` da tabela `pagamento`, a medida numérica `receita` da tabela `negociacao` e os dados históricos presentes na tabela `data`."
      ]
    },
    {
      "cell_type": "code",
      "metadata": {
        "id": "4pcpRHkfGrKK",
        "colab": {
          "base_uri": "https://localhost:8080/"
        },
        "outputId": "65f2e92f-0092-4a2b-f98e-6f048c03d3d9"
      },
      "source": [
        "# Resposta do exercício \n",
        " # qual o total de gastos em salários, considerando cada ano? \n",
        "pag = pagamento\\\n",
        "   .join(data, on=\"dataPK\")\\\n",
        "   .select(\"dataAno\", \"salario\")\\\n",
        "   .where(\"dataAno BETWEEN 2017 AND 2019\")\\\n",
        "   .groupBy(\"dataAno\")\\\n",
        "   .sum(\"salario\")\n",
        "pag.show(5)"
      ],
      "execution_count": null,
      "outputs": [
        {
          "output_type": "stream",
          "name": "stdout",
          "text": [
            "+-------+--------------------+\n",
            "|dataAno|        sum(salario)|\n",
            "+-------+--------------------+\n",
            "|   2018|1.4935526465332031E7|\n",
            "|   2019|1.8567666454101562E7|\n",
            "|   2017|    9775279.83984375|\n",
            "+-------+--------------------+\n",
            "\n"
          ]
        }
      ]
    },
    {
      "cell_type": "code",
      "metadata": {
        "colab": {
          "base_uri": "https://localhost:8080/"
        },
        "id": "ZmhGW4PfTV7b",
        "outputId": "cbe8e064-369b-4275-a8ea-80156d30bb89"
      },
      "source": [
        "# qual o total de receitas, considerando cada ano?\n",
        "neg = negociacao\\\n",
        "   .join(data, on=\"dataPK\")\\\n",
        "   .select(\"dataAno\", \"receita\")\\\n",
        "   .where(\"dataAno BETWEEN 2017 AND 2019\")\\\n",
        "   .groupBy(\"dataAno\")\\\n",
        "   .sum(\"receita\")\n",
        "neg.show(5)"
      ],
      "execution_count": null,
      "outputs": [
        {
          "output_type": "stream",
          "name": "stdout",
          "text": [
            "+-------+--------------------+\n",
            "|dataAno|        sum(receita)|\n",
            "+-------+--------------------+\n",
            "|   2018|1.1593539659606934E7|\n",
            "|   2019| 3.535331833154297E7|\n",
            "|   2017|  7200423.3539123535|\n",
            "+-------+--------------------+\n",
            "\n"
          ]
        }
      ]
    },
    {
      "cell_type": "code",
      "metadata": {
        "colab": {
          "base_uri": "https://localhost:8080/"
        },
        "id": "W_z_O7brTV_X",
        "outputId": "db6fc9b2-7c33-4f50-fe59-fae76b391046"
      },
      "source": [
        "# realizando a operação de drill-across\n",
        "# exibindo o resultado final\n",
        "pag\\\n",
        "   .join(neg, on=\"dataAno\")\\\n",
        "   .select(\"dataAno\", \"sum(salario)\", \"sum(receita)\")\\\n",
        "   .orderBy(\"dataAno\")\\\n",
        "   .withColumn(\"sum(salario)\", round(\"sum(salario)\",2))\\\n",
        "   .withColumn(\"sum(receita)\", round(\"sum(receita)\",2))\\\n",
        "   .withColumnRenamed(\"dataAno\", \"Ano\")\\\n",
        "   .withColumnRenamed(\"sum(salario)\", \"Total Gasto com Salários\")\\\n",
        "   .withColumnRenamed(\"sum(receita)\", \"Total de Receitas Recebidas\")\\\n",
        "   .show()"
      ],
      "execution_count": null,
      "outputs": [
        {
          "output_type": "stream",
          "name": "stdout",
          "text": [
            "+----+------------------------+---------------------------+\n",
            "| Ano|Total Gasto com Salários|Total de Receitas Recebidas|\n",
            "+----+------------------------+---------------------------+\n",
            "|2017|              9775279.84|                 7200423.35|\n",
            "|2018|           1.493552647E7|              1.159353966E7|\n",
            "|2019|           1.856766645E7|              3.535331833E7|\n",
            "+----+------------------------+---------------------------+\n",
            "\n"
          ]
        }
      ]
    },
    {
      "cell_type": "markdown",
      "metadata": {
        "id": "mTjo_CX1G5jy"
      },
      "source": [
        "## 6.5 Extensões ROLLUP e CUBE  \n",
        "\n",
        "**Definição:** Constrém vários níveis de agregação.\n",
        "\n",
        "- ROLLUP: criação de subtotais para as combinações dos atributos da lista de agrupamento de acordo com a ordem desses atributos. São criados n+1 níveis de agregação, sendo n o número de atributos especificados na lista de agrupamento.\n",
        "\n",
        "- CUBE: criação de subtotais para todas as combinações dos atributos da lista de agrupamento. São criados 2ˆn (2 elevado a n) níveis, sendo n o número de atributos especificados na lista de agrupamento.\n"
      ]
    },
    {
      "cell_type": "markdown",
      "metadata": {
        "id": "UPpMbZHLoB8S"
      },
      "source": [
        "### Método rollup()\n"
      ]
    },
    {
      "cell_type": "markdown",
      "metadata": {
        "id": "VjIYDV2xSv5i"
      },
      "source": [
        "`rollup(listaDeColunas)`\n",
        "\n",
        "Cria vários níveis de agregação de acordo com a extensão ROLLUP usando as colunas especificadas no parâmetro `listaDeColunas` e possibilita a definição de um método de agregação sobre essas colunas. "
      ]
    },
    {
      "cell_type": "markdown",
      "metadata": {
        "id": "y-Qr1v9UoGQa"
      },
      "source": [
        "### Método cube()\n",
        "\n",
        "`cube(listaDeColunas)`\n",
        "\n",
        "Cria vários níveis de agregação de acordo com a extensão CUBE usando as colunas especificadas no parâmetro `listaDeColunas` e possibilita a definição de um método de agregação sobre essas colunas. "
      ]
    },
    {
      "cell_type": "markdown",
      "metadata": {
        "id": "5RRlVccmYhV_"
      },
      "source": [
        "\n",
        "**Exemplo de consulta com ROLLUP:** Liste as agregações que podem ser geradas a partir da soma da receita por setor do cliente e por cidade do cliente, para totais de receita superiores a 3.000.000,00. Crie subtotais considerando a ordem dos atributos na lista de agrupamento."
      ]
    },
    {
      "cell_type": "code",
      "metadata": {
        "colab": {
          "base_uri": "https://localhost:8080/"
        },
        "id": "BwZHLSsCW0zD",
        "outputId": "e60e7abf-884d-4f79-d2d5-706e8a9c8417"
      },
      "source": [
        "cliente.join(negociacao, on=\"clientePK\")\\\n",
        "  .select(\"clienteSetor\",  \"clienteCidade\", \"receita\")\\\n",
        "  .rollup(\"clienteSetor\", \"clienteCidade\").sum(\"receita\")\\\n",
        "  .filter(\"sum(receita) > 3000000\")\\\n",
        "  .orderBy(\"clienteSetor\", \"clienteCidade\")\\\n",
        "  .withColumn(\"sum(receita)\", round(\"sum(receita)\",2))\\\n",
        "  .withColumnRenamed(\"sum(receita)\", \"Total de Receitas\")\\\n",
        "  .show()"
      ],
      "execution_count": null,
      "outputs": [
        {
          "output_type": "stream",
          "name": "stdout",
          "text": [
            "+-------------------+--------------+-----------------+\n",
            "|       clienteSetor| clienteCidade|Total de Receitas|\n",
            "+-------------------+--------------+-----------------+\n",
            "|               null|          null|    8.898370418E7|\n",
            "|BEBIDAS E ALIMENTOS|          null|    3.540878588E7|\n",
            "|BEBIDAS E ALIMENTOS|BELO HORIZONTE|        4206811.8|\n",
            "|BEBIDAS E ALIMENTOS|       MARILIA|        4033680.5|\n",
            "|BEBIDAS E ALIMENTOS|        RECIFE|       3899358.31|\n",
            "|BEBIDAS E ALIMENTOS|RIO DE JANEIRO|       7351629.96|\n",
            "|BEBIDAS E ALIMENTOS|     SAO PAULO|       6177945.47|\n",
            "|BEBIDAS E ALIMENTOS|    UBERLANDIA|       3283351.57|\n",
            "|            CREDITO|          null|       6621387.69|\n",
            "|              SAUDE|          null|    1.831261245E7|\n",
            "|              SAUDE|        MANAUS|       3329638.24|\n",
            "|              SAUDE|     SAO PAULO|       3963055.35|\n",
            "|         TECNOLOGIA|          null|    1.656803299E7|\n",
            "|         TECNOLOGIA|     SAO PAULO|       9200352.79|\n",
            "|          VESTUARIO|          null|    1.207288518E7|\n",
            "|          VESTUARIO|RIO DE JANEIRO|       5948448.13|\n",
            "|          VESTUARIO|     SAO PAULO|        4686200.3|\n",
            "+-------------------+--------------+-----------------+\n",
            "\n"
          ]
        }
      ]
    },
    {
      "cell_type": "markdown",
      "metadata": {
        "id": "IjjDB_mtPkzw"
      },
      "source": [
        "**Exemplo de consulta com CUBE:** Liste todas as agregações que podem ser geradas a partir da soma da receita por setor do cliente e por cidade do cliente, para totais de receita superiores a 3.000.000,00."
      ]
    },
    {
      "cell_type": "code",
      "metadata": {
        "colab": {
          "base_uri": "https://localhost:8080/"
        },
        "id": "v_5lF9EVFZr6",
        "outputId": "da56fc88-ec5b-43b3-b081-d0a6cee88ffe"
      },
      "source": [
        "cliente.join(negociacao, on=\"clientePK\")\\\n",
        "  .select(\"clienteSetor\", \"clienteCidade\", \"receita\")\\\n",
        "  .cube(\"clienteSetor\", \"clienteCidade\").sum(\"receita\")\\\n",
        "  .filter(\"sum(receita) > 3000000\")\\\n",
        "  .orderBy(\"clienteSetor\", \"clienteCidade\")\\\n",
        "  .withColumn(\"sum(receita)\", round(\"sum(receita)\",2))\\\n",
        "  .withColumnRenamed(\"sum(receita)\", \"Total de Receitas\")\\\n",
        "  .show()"
      ],
      "execution_count": null,
      "outputs": [
        {
          "output_type": "stream",
          "name": "stdout",
          "text": [
            "+-------------------+--------------+-----------------+\n",
            "|       clienteSetor| clienteCidade|Total de Receitas|\n",
            "+-------------------+--------------+-----------------+\n",
            "|               null|          null|    8.898370418E7|\n",
            "|               null|BELO HORIZONTE|       4379523.84|\n",
            "|               null|  CAMPO GRANDE|       3422117.04|\n",
            "|               null|      CURITIBA|       3697625.37|\n",
            "|               null|     FORTALEZA|       3391233.25|\n",
            "|               null|        MANAUS|       5234539.23|\n",
            "|               null|       MARILIA|       7289146.09|\n",
            "|               null|  PORTO ALEGRE|       4319625.71|\n",
            "|               null|        RECIFE|       4717719.46|\n",
            "|               null|RIO DE JANEIRO|    1.525596269E7|\n",
            "|               null|    SAO CARLOS|       4192741.95|\n",
            "|               null|     SAO PAULO|    2.464599961E7|\n",
            "|               null|    UBERLANDIA|        4357595.2|\n",
            "|BEBIDAS E ALIMENTOS|          null|    3.540878588E7|\n",
            "|BEBIDAS E ALIMENTOS|BELO HORIZONTE|        4206811.8|\n",
            "|BEBIDAS E ALIMENTOS|       MARILIA|        4033680.5|\n",
            "|BEBIDAS E ALIMENTOS|        RECIFE|       3899358.31|\n",
            "|BEBIDAS E ALIMENTOS|RIO DE JANEIRO|       7351629.96|\n",
            "|BEBIDAS E ALIMENTOS|     SAO PAULO|       6177945.47|\n",
            "|BEBIDAS E ALIMENTOS|    UBERLANDIA|       3283351.57|\n",
            "+-------------------+--------------+-----------------+\n",
            "only showing top 20 rows\n",
            "\n"
          ]
        }
      ]
    },
    {
      "cell_type": "markdown",
      "metadata": {
        "id": "tgV9cze8MBY3"
      },
      "source": [
        "# 7 Execução de Consultas com Foco na Tomada de Decisão\n",
        "As consultas OLAP requisitadas por usuários de sistemas de suporte à decisão usualmente requerem que várias operações OLAP sejam realizadas simultaneamente. A seguir são ilustrados exemplos de consultas OLAP que podem ser requisitadas para a tomada de decisão estratégica."
      ]
    },
    {
      "cell_type": "markdown",
      "metadata": {
        "id": "OcaRLxX_Jd1w"
      },
      "source": [
        "## 7.1 Consulta 1\n",
        "\n",
        "Qual é a média dos salários recebidos por nível do cargo e por sexo no ano de 2019?\n",
        "\n",
        "Para se realizar esta consulta, é necessário obter dados das tabelas de dimensão `cargo`, `funcionario` e `data`, bem como da tabela de fatos `pagamento`. A junção estrela deve ocorrer considerando as seguintes integridades referenciais:\n",
        "- `pagamento.cargoPK = cargo.cargoPK`\n",
        "- `pagamento.funcPK = funcionario.funcPK`\n",
        "- `pagamento.dataPK = data.dataPK` "
      ]
    },
    {
      "cell_type": "code",
      "metadata": {
        "colab": {
          "base_uri": "https://localhost:8080/"
        },
        "id": "UeKlyc-mMt64",
        "outputId": "7f68fd94-f656-4392-89ec-a10f7209a8f5"
      },
      "source": [
        "# realizando a operação de slice and dice utilizando o método filter()\n",
        "# selecionando apenas as colunas necessárias ao processamento da consulta \n",
        "dataSelecionada =\\\n",
        "   data\\\n",
        "   .filter(\"dataAno = 2019\")\\\n",
        "   .select(\"dataPK\")\n",
        "dataSelecionada.show(5)\n"
      ],
      "execution_count": null,
      "outputs": [
        {
          "output_type": "stream",
          "name": "stdout",
          "text": [
            "+------+\n",
            "|dataPK|\n",
            "+------+\n",
            "|  1097|\n",
            "|  1098|\n",
            "|  1099|\n",
            "|  1100|\n",
            "|  1101|\n",
            "+------+\n",
            "only showing top 5 rows\n",
            "\n"
          ]
        }
      ]
    },
    {
      "cell_type": "code",
      "metadata": {
        "colab": {
          "base_uri": "https://localhost:8080/"
        },
        "id": "SguK3UyfVZf7",
        "outputId": "2e9a4e6d-ce6b-412f-cf12-f2d25e3a8322"
      },
      "source": [
        "# selecionando apenas as colunas necessárias de funcionario \n",
        "funcionarioSelecionado =\\\n",
        "   funcionario\\\n",
        "   .select(\"funcPK\", \"funcSexo\")\n",
        "funcionarioSelecionado.show(5)"
      ],
      "execution_count": null,
      "outputs": [
        {
          "output_type": "stream",
          "name": "stdout",
          "text": [
            "+------+--------+\n",
            "|funcPK|funcSexo|\n",
            "+------+--------+\n",
            "|     1|       F|\n",
            "|     2|       M|\n",
            "|     3|       M|\n",
            "|     4|       F|\n",
            "|     5|       M|\n",
            "+------+--------+\n",
            "only showing top 5 rows\n",
            "\n"
          ]
        }
      ]
    },
    {
      "cell_type": "code",
      "metadata": {
        "colab": {
          "base_uri": "https://localhost:8080/"
        },
        "id": "CVLNPuPBV4pq",
        "outputId": "ee890392-5d72-4b32-a855-808314576d69"
      },
      "source": [
        "# selecionando apenas as colunas necessárias de cargo\n",
        "cargoSelecionado = \\\n",
        "   cargo\\\n",
        "   .select(\"cargoPK\", \"cargoNivel\")\n",
        "cargoSelecionado.show()"
      ],
      "execution_count": null,
      "outputs": [
        {
          "output_type": "stream",
          "name": "stdout",
          "text": [
            "+-------+----------+\n",
            "|cargoPK|cargoNivel|\n",
            "+-------+----------+\n",
            "|      1|    JUNIOR|\n",
            "|      2|     PLENO|\n",
            "|      3|    SENIOR|\n",
            "|      4|    JUNIOR|\n",
            "|      5|     PLENO|\n",
            "|      6|    SENIOR|\n",
            "|      7|    JUNIOR|\n",
            "|      8|     PLENO|\n",
            "|      9|    SENIOR|\n",
            "|     10|    JUNIOR|\n",
            "|     11|     PLENO|\n",
            "|     12|    SENIOR|\n",
            "|     13|    JUNIOR|\n",
            "|     14|     PLENO|\n",
            "|     15|    SENIOR|\n",
            "|     16|    JUNIOR|\n",
            "|     17|     PLENO|\n",
            "|     18|    SENIOR|\n",
            "|     19|    JUNIOR|\n",
            "|     20|     PLENO|\n",
            "+-------+----------+\n",
            "only showing top 20 rows\n",
            "\n"
          ]
        }
      ]
    },
    {
      "cell_type": "code",
      "metadata": {
        "colab": {
          "base_uri": "https://localhost:8080/"
        },
        "id": "FjedOVW2WMEL",
        "outputId": "6c85c86e-b9b1-425c-a9ae-9646594d27a2"
      },
      "source": [
        "# selecionando apenas as colunas necessárias de pagamento\n",
        "pagamentoSelecionado = \\\n",
        "   pagamento\\\n",
        "   .select(\"dataPK\", \"funcPK\", \"cargoPK\", \"salario\")\n",
        "pagamentoSelecionado.show()"
      ],
      "execution_count": null,
      "outputs": [
        {
          "output_type": "stream",
          "name": "stdout",
          "text": [
            "+------+------+-------+--------+\n",
            "|dataPK|funcPK|cargoPK| salario|\n",
            "+------+------+-------+--------+\n",
            "|     5|   147|     64| 1559.94|\n",
            "|     5|   124|    329| 8102.77|\n",
            "|     5|   175|    328| 2532.51|\n",
            "|     5|   171|    245|  7882.7|\n",
            "|     5|   148|     65| 4404.59|\n",
            "|     5|     5|    112| 2226.66|\n",
            "|     5|   128|    341| 6157.04|\n",
            "|     5|    82|     43| 1585.51|\n",
            "|     5|    28|    253| 1594.02|\n",
            "|     5|    46|    390| 9880.16|\n",
            "|     5|    91|    233|10931.47|\n",
            "|     5|   176|    241| 2005.49|\n",
            "|     5|   172|    351|14218.28|\n",
            "|     5|   155|    121| 2002.57|\n",
            "|     5|    19|    223| 1778.26|\n",
            "|     5|    94|    394|  2505.1|\n",
            "|     5|    26|    350| 9162.46|\n",
            "|     5|    55|    313| 3215.53|\n",
            "|     5|    29|     62| 4128.44|\n",
            "|     5|   181|    249|11082.75|\n",
            "+------+------+-------+--------+\n",
            "only showing top 20 rows\n",
            "\n"
          ]
        }
      ]
    },
    {
      "cell_type": "code",
      "metadata": {
        "colab": {
          "base_uri": "https://localhost:8080/"
        },
        "id": "t6t3n4A9Wcsl",
        "outputId": "17b2cbb6-6f88-4dd6-ae80-fa9ac1e2eaa3"
      },
      "source": [
        "#realizando as junções par a par\n",
        "pagamentoData = \\\n",
        "   pagamentoSelecionado\\\n",
        "   .join(dataSelecionada, on=\"dataPK\")\n",
        "\n",
        "pagamentoDataFunc = \\\n",
        "   pagamentoData\\\n",
        "   .join(funcionarioSelecionado, on=\"funcPK\")\n",
        "\n",
        "pagamentoDataFuncCargo = \\\n",
        "   pagamentoDataFunc\\\n",
        "   .join(cargoSelecionado, on=\"cargoPK\")\n",
        "   \n",
        "pagamentoDataFuncCargo.show(5)"
      ],
      "execution_count": null,
      "outputs": [
        {
          "output_type": "stream",
          "name": "stdout",
          "text": [
            "+-------+------+------+-------+--------+----------+\n",
            "|cargoPK|funcPK|dataPK|salario|funcSexo|cargoNivel|\n",
            "+-------+------+------+-------+--------+----------+\n",
            "|     64|   147|  1101|1559.94|       F|    JUNIOR|\n",
            "|    329|   124|  1101|8102.77|       M|     PLENO|\n",
            "|    328|   175|  1101|2532.51|       M|    JUNIOR|\n",
            "|    245|   171|  1101| 7882.7|       M|     PLENO|\n",
            "|     65|   148|  1101|4404.59|       M|     PLENO|\n",
            "+-------+------+------+-------+--------+----------+\n",
            "only showing top 5 rows\n",
            "\n"
          ]
        }
      ]
    },
    {
      "cell_type": "code",
      "metadata": {
        "colab": {
          "base_uri": "https://localhost:8080/"
        },
        "id": "1lX3-P76XuXr",
        "outputId": "ddbd4492-0aa0-404b-dc51-58ad26d9d64c"
      },
      "source": [
        "#exibindo e calculando o resultado final\n",
        "pagamentoDataFuncCargo\\\n",
        "   .select(\"cargoNivel\", \"funcSexo\", \"salario\")\\\n",
        "   .groupBy(\"cargoNivel\", \"funcSexo\")\\\n",
        "   .avg(\"salario\")\\\n",
        "   .orderBy(\"cargoNivel\",\"funcSexo\")\\\n",
        "   .withColumn(\"avg(salario)\", round(\"avg(salario)\",2))\\\n",
        "   .withColumnRenamed(\"avg(salario)\", \"Média dos Salários\")\\\n",
        "   .show()"
      ],
      "execution_count": null,
      "outputs": [
        {
          "output_type": "stream",
          "name": "stdout",
          "text": [
            "+----------+--------+------------------+\n",
            "|cargoNivel|funcSexo|Média dos Salários|\n",
            "+----------+--------+------------------+\n",
            "|    JUNIOR|       F|           2440.23|\n",
            "|    JUNIOR|       M|           2437.86|\n",
            "|     PLENO|       F|           7641.94|\n",
            "|     PLENO|       M|           6259.61|\n",
            "|    SENIOR|       F|          12994.19|\n",
            "|    SENIOR|       M|           14480.5|\n",
            "+----------+--------+------------------+\n",
            "\n"
          ]
        }
      ]
    },
    {
      "cell_type": "code",
      "metadata": {
        "colab": {
          "base_uri": "https://localhost:8080/"
        },
        "id": "XOTINsSlYW1p",
        "outputId": "95ce4991-08f1-4c12-90a1-c80656257a5b"
      },
      "source": [
        "# realizando a consulta em um único comando\n",
        "\n",
        "pagamento\\\n",
        "   .join(data, on=\"dataPK\")\\\n",
        "   .join(cargo, on=\"cargoPK\")\\\n",
        "   .join(funcionario, on=\"funcPK\")\\\n",
        "   .where(\"dataAno = 2019\")\\\n",
        "   .select(\"cargoNivel\", \"funcSexo\", \"salario\")\\\n",
        "   .groupBy(\"cargoNivel\", \"funcSexo\").avg(\"salario\")\\\n",
        "   .orderBy(\"cargoNivel\",\"funcSexo\")\\\n",
        "   .withColumn(\"avg(salario)\", round(\"avg(salario)\",2))\\\n",
        "   .withColumnRenamed(\"avg(salario)\", \"Média dos Salários\")\\\n",
        "   .show()"
      ],
      "execution_count": null,
      "outputs": [
        {
          "output_type": "stream",
          "name": "stdout",
          "text": [
            "+----------+--------+------------------+\n",
            "|cargoNivel|funcSexo|Média dos Salários|\n",
            "+----------+--------+------------------+\n",
            "|    JUNIOR|       F|           2440.23|\n",
            "|    JUNIOR|       M|           2437.86|\n",
            "|     PLENO|       F|           7641.94|\n",
            "|     PLENO|       M|           6259.61|\n",
            "|    SENIOR|       F|          12994.19|\n",
            "|    SENIOR|       M|           14480.5|\n",
            "+----------+--------+------------------+\n",
            "\n"
          ]
        }
      ]
    },
    {
      "cell_type": "markdown",
      "metadata": {
        "id": "varyr5djDP2s"
      },
      "source": [
        "## 7.2 Consulta 2\n",
        "\n",
        "Qual o total de gastos em salários considerando os estados nos quais as equipes estão localizadas no trimestre 3 do ano de 2020? \n",
        "\n",
        "Para se realizar esta consulta, é necessário obter dados das tabelas de dimensão `equipe` e `data`, bem como da tabela de fatos `pagamento`. A junção estrela deve ocorrer considerando as seguintes integridades referenciais:\n",
        "- `pagamento.dataPK = data.dataPK`\n",
        "- `pagamento.equipePK = equipe.equipePK`\n"
      ]
    },
    {
      "cell_type": "code",
      "metadata": {
        "colab": {
          "base_uri": "https://localhost:8080/"
        },
        "id": "KSgE7xtPkGYf",
        "outputId": "e37484dc-6d97-41a8-9f85-7e95e433613e"
      },
      "source": [
        "pagamento\\\n",
        "   .join(data, on=\"dataPK\")\\\n",
        "   .join(equipe, on=\"equipePK\")\\\n",
        "   .where(\"dataAno = 2019 AND dataTrimestre = 3\")\\\n",
        "   .select(\"filialEstadoNome\", \"salario\")\\\n",
        "   .groupBy(\"filialEstadoNome\")\\\n",
        "   .sum(\"salario\")\\\n",
        "   .orderBy(\"sum(salario)\")\\\n",
        "   .withColumn(\"sum(salario)\", round(\"sum(salario)\",2))\\\n",
        "   .withColumnRenamed(\"sum(salario)\", \"Total\")\\\n",
        "   .show()"
      ],
      "execution_count": null,
      "outputs": [
        {
          "output_type": "stream",
          "name": "stdout",
          "text": [
            "+------------------+----------+\n",
            "|  filialEstadoNome|     Total|\n",
            "+------------------+----------+\n",
            "|        PERNAMBUCO| 438121.26|\n",
            "|MATO GROSSO DO SUL|1013857.75|\n",
            "|    RIO DE JANEIRO|1258479.58|\n",
            "|         SAO PAULO|1931458.02|\n",
            "+------------------+----------+\n",
            "\n"
          ]
        }
      ]
    },
    {
      "cell_type": "markdown",
      "metadata": {
        "id": "RAqNkANBOZSI"
      },
      "source": [
        "## 7.3 Consulta 3\n",
        "\n",
        "Qual o custo/benefício das equipes quando analisado o semestre 1 do ano de 2020?\n",
        "\n",
        "A idea da consulta é relacionar os gastos em salários e os ganhos em receitas considerando cada equipe e o período especificado. Portanto, para se realizar essa consulta, é necessário obter dados das tabelas de dimensão `equipe` e `data`, bem como das tabelas de fatos `pagamento` e `negociacao`. \n",
        "\n",
        " A junção estrela deve ocorrer considerando as seguintes integridades referenciais:\n",
        "- `pagamento.dataPK = data.dataPK`\n",
        "- `pagamento.equipePK = equipe.equipe.PK`\n",
        "- `negociacao.dataPK = data.dataPK`\n",
        "- `negociacao.equipePK = equipe.equipe.PK`\n"
      ]
    },
    {
      "cell_type": "markdown",
      "metadata": {
        "id": "HMyeJDwisUgu"
      },
      "source": [
        "Uma observação muito importante refere-se ao fato que, para evitar dubiedade nas respostas, elas devem ser feitas sempre considerando a chave primária, desde que a chave primária identifica univocamente cada linha. Depois de ser resolvida a consulta em termos da chave primária, então deve ser obtido os demais atributos a serem exibidos."
      ]
    },
    {
      "cell_type": "code",
      "metadata": {
        "colab": {
          "base_uri": "https://localhost:8080/"
        },
        "id": "MybQ9xten5-x",
        "outputId": "1ec03654-7f4d-4427-b97a-74cd12ffd288"
      },
      "source": [
        "# resolvendo o primeiro bloco da consulta\n",
        "# identificando para cada equipePK qual o total em gastos com salários\n",
        "pag = pagamento\\\n",
        "   .join(data, on=\"dataPK\")\\\n",
        "   .where(\"dataSemestre = 1 AND dataAno = 2020\")\\\n",
        "   .select(\"equipePK\", \"salario\")\\\n",
        "   .groupBy(\"equipePK\")\\\n",
        "   .sum(\"salario\")\\\n",
        "   .orderBy(\"equipePK\")\n",
        "pag.show()"
      ],
      "execution_count": null,
      "outputs": [
        {
          "output_type": "stream",
          "name": "stdout",
          "text": [
            "+--------+------------------+\n",
            "|equipePK|      sum(salario)|\n",
            "+--------+------------------+\n",
            "|       1|1160327.4052734375|\n",
            "|       2|1060981.1447753906|\n",
            "|       3|  1177330.32421875|\n",
            "|       4| 579893.9384765625|\n",
            "|       5| 909107.1071777344|\n",
            "|       6| 585430.8479003906|\n",
            "|       7| 876084.0717773438|\n",
            "|       8|1118608.3930664062|\n",
            "|       9| 939827.4675292969|\n",
            "|      10| 876242.5268554688|\n",
            "+--------+------------------+\n",
            "\n"
          ]
        }
      ]
    },
    {
      "cell_type": "code",
      "metadata": {
        "colab": {
          "base_uri": "https://localhost:8080/"
        },
        "id": "XzA6ABe6ai-B",
        "outputId": "8fc2b7dc-7036-4983-bce7-518d38252818"
      },
      "source": [
        "# resolvendo o segundo bloco da consulta\n",
        "# identificando para cada equipePK qual o total em ganhos com receitas\n",
        "neg = negociacao\\\n",
        "   .join(data, on=\"dataPK\")\\\n",
        "   .where(\"dataSemestre = 1 AND dataAno = 2020\")\\\n",
        "   .select(\"equipePK\", \"receita\")\\\n",
        "   .groupBy(\"equipePK\")\\\n",
        "   .sum(\"receita\")\\\n",
        "   .orderBy(\"equipePK\")\n",
        "neg.show()  \n"
      ],
      "execution_count": null,
      "outputs": [
        {
          "output_type": "stream",
          "name": "stdout",
          "text": [
            "+--------+------------------+\n",
            "|equipePK|      sum(receita)|\n",
            "+--------+------------------+\n",
            "|       1|1259907.2412109375|\n",
            "|       2|1338994.3959960938|\n",
            "|       3|     340461.296875|\n",
            "|       4|340130.64990234375|\n",
            "|       5| 614747.7039794922|\n",
            "|       6| 736591.3486328125|\n",
            "|       7| 722758.4526367188|\n",
            "|       8| 538659.2993164062|\n",
            "|       9|      4994717.6875|\n",
            "|      10| 4664745.689453125|\n",
            "+--------+------------------+\n",
            "\n"
          ]
        }
      ]
    },
    {
      "cell_type": "code",
      "metadata": {
        "colab": {
          "base_uri": "https://localhost:8080/"
        },
        "id": "UTcPN-1caq51",
        "outputId": "848f99aa-b20d-44b4-e9ae-f0b8d19d9a6f"
      },
      "source": [
        "# realizando a operação de drill-across\n",
        "parte = pag.join(neg, on=\"equipePK\")\n",
        "parte.show()"
      ],
      "execution_count": null,
      "outputs": [
        {
          "output_type": "stream",
          "name": "stdout",
          "text": [
            "+--------+------------------+------------------+\n",
            "|equipePK|      sum(salario)|      sum(receita)|\n",
            "+--------+------------------+------------------+\n",
            "|       1|1160327.4052734375|1259907.2412109375|\n",
            "|       6| 585430.8479003906| 736591.3486328125|\n",
            "|       3|  1177330.32421875|     340461.296875|\n",
            "|       5| 909107.1071777344| 614747.7039794922|\n",
            "|       9| 939827.4675292969|      4994717.6875|\n",
            "|       4| 579893.9384765625|340130.64990234375|\n",
            "|       8|1118608.3930664062| 538659.2993164062|\n",
            "|       7| 876084.0717773438| 722758.4526367188|\n",
            "|      10| 876242.5268554688| 4664745.689453125|\n",
            "|       2|1060981.1447753906|1338994.3959960938|\n",
            "+--------+------------------+------------------+\n",
            "\n"
          ]
        }
      ]
    },
    {
      "cell_type": "code",
      "metadata": {
        "colab": {
          "base_uri": "https://localhost:8080/"
        },
        "id": "D8OZpLRra7xP",
        "outputId": "dc25f0e0-941e-472d-a0db-31d6c6f3cb7d"
      },
      "source": [
        "# renomeando as colunas \n",
        "parte = parte\\\n",
        "   .withColumnRenamed(\"sum(salario)\", \"TotalSalario\")\\\n",
        "   .withColumnRenamed(\"sum(receita)\", \"TotalReceita\")\n",
        "\n",
        "#criando a coluna Lucro solicitada\n",
        "parte = parte\\\n",
        "   .withColumn(\"Lucro\", parte[\"TotalReceita\"] - parte[\"TotalSalario\"])\n",
        "parte.show()\n"
      ],
      "execution_count": null,
      "outputs": [
        {
          "output_type": "stream",
          "name": "stdout",
          "text": [
            "+--------+------------------+------------------+-------------------+\n",
            "|equipePK|      TotalSalario|      TotalReceita|              Lucro|\n",
            "+--------+------------------+------------------+-------------------+\n",
            "|       1|1160327.4052734375|1259907.2412109375|      99579.8359375|\n",
            "|       6| 585430.8479003906| 736591.3486328125| 151160.50073242188|\n",
            "|       3|  1177330.32421875|     340461.296875|   -836869.02734375|\n",
            "|       5| 909107.1071777344| 614747.7039794922| -294359.4031982422|\n",
            "|       9| 939827.4675292969|      4994717.6875|  4054890.219970703|\n",
            "|       4| 579893.9384765625|340130.64990234375|-239763.28857421875|\n",
            "|       8|1118608.3930664062| 538659.2993164062|      -579949.09375|\n",
            "|       7| 876084.0717773438| 722758.4526367188|  -153325.619140625|\n",
            "|      10| 876242.5268554688| 4664745.689453125| 3788503.1625976562|\n",
            "|       2|1060981.1447753906|1338994.3959960938|  278013.2512207031|\n",
            "+--------+------------------+------------------+-------------------+\n",
            "\n"
          ]
        }
      ]
    },
    {
      "cell_type": "code",
      "metadata": {
        "colab": {
          "base_uri": "https://localhost:8080/"
        },
        "id": "Gv_Em-JSbt_u",
        "outputId": "fa058e97-8bbb-4eda-c0d8-edec5fdf662f"
      },
      "source": [
        "# obtendo de equipe os dados semânticos a serem exibidos no resultado\n",
        "# exibindo somente as colunas solicitadas\n",
        "equipe\\\n",
        "   .join(parte, on=\"equipePK\")\\\n",
        "   .select(\"equipeNome\", \"filialNome\", round(\"Lucro\",2))\\\n",
        "   .orderBy(desc(\"Lucro\"))\\\n",
        "   .show()"
      ],
      "execution_count": null,
      "outputs": [
        {
          "output_type": "stream",
          "name": "stdout",
          "text": [
            "+--------------+--------------------+---------------+\n",
            "|    equipeNome|          filialNome|round(Lucro, 2)|\n",
            "+--------------+--------------------+---------------+\n",
            "|BI & ANALYTICS|SAO PAULO - AV. P...|     4054890.22|\n",
            "|BI & ANALYTICS|     RECIFE - CENTRO|     3788503.16|\n",
            "| APP - DESKTOP|RIO DE JANEIRO - ...|      278013.25|\n",
            "|  APP - MOBILE|SAO PAULO - AV. P...|       151160.5|\n",
            "| APP - DESKTOP|SAO PAULO - AV. P...|       99579.84|\n",
            "|  APP - MOBILE|RIO DE JANEIRO - ...|     -153325.62|\n",
            "|           WEB|RIO DE JANEIRO - ...|     -239763.29|\n",
            "|           WEB|CAMPO GRANDE - CE...|      -294359.4|\n",
            "|  APP - MOBILE|CAMPO GRANDE - CE...|     -579949.09|\n",
            "|           WEB|SAO PAULO - AV. P...|     -836869.03|\n",
            "+--------------+--------------------+---------------+\n",
            "\n"
          ]
        }
      ]
    },
    {
      "cell_type": "markdown",
      "metadata": {
        "id": "bjOw06XisjTN"
      },
      "source": [
        "## 7.4 Exercícios Essenciais"
      ]
    },
    {
      "cell_type": "markdown",
      "metadata": {
        "id": "viJLaTDdsxJR"
      },
      "source": [
        "### **EXERCÍCIO 5 (Essencial)**\n",
        "\n",
        "Qual é a quantidade de negociações realizadas por ano e semestre? "
      ]
    },
    {
      "cell_type": "code",
      "metadata": {
        "colab": {
          "base_uri": "https://localhost:8080/"
        },
        "id": "LRAck9_U05SB",
        "outputId": "f7a6255b-ddef-4624-dafc-b7b7ced6189b"
      },
      "source": [
        "negociacao.columns"
      ],
      "execution_count": null,
      "outputs": [
        {
          "output_type": "execute_result",
          "data": {
            "text/plain": [
              "['equipePK', 'clientePK', 'dataPK', 'receita', 'quantidadeNegociacoes']"
            ]
          },
          "metadata": {},
          "execution_count": 102
        }
      ]
    },
    {
      "cell_type": "code",
      "metadata": {
        "id": "8H6tnFWps28s",
        "colab": {
          "base_uri": "https://localhost:8080/"
        },
        "outputId": "1695372b-266d-46e1-82f4-6d7ef13df0d4"
      },
      "source": [
        "# Resposta do exercício\n",
        "data\\\n",
        "   .join(negociacao, on=\"dataPK\")\\\n",
        "   .select(\"dataAno\", \"dataSemestre\",\"quantidadeNegociacoes\")\\\n",
        "   .groupBy(\"dataAno\", \"dataSemestre\")\\\n",
        "   .sum(\"quantidadeNegociacoes\")\\\n",
        "   .orderBy('dataAno', 'dataSemestre')\\\n",
        "   .withColumnRenamed(\"sum(quantidadeNegociacoes)\", \"Quantidade de negociações\")\\\n",
        "   .show()"
      ],
      "execution_count": null,
      "outputs": [
        {
          "output_type": "stream",
          "name": "stdout",
          "text": [
            "+-------+------------+-------------------------+\n",
            "|dataAno|dataSemestre|Quantidade de negociações|\n",
            "+-------+------------+-------------------------+\n",
            "|   2016|           1|                      137|\n",
            "|   2016|           2|                      134|\n",
            "|   2017|           1|                      256|\n",
            "|   2017|           2|                      281|\n",
            "|   2018|           1|                      457|\n",
            "|   2018|           2|                      392|\n",
            "|   2019|           1|                      619|\n",
            "|   2019|           2|                      603|\n",
            "|   2020|           1|                      573|\n",
            "|   2020|           2|                      559|\n",
            "+-------+------------+-------------------------+\n",
            "\n"
          ]
        }
      ]
    },
    {
      "cell_type": "markdown",
      "metadata": {
        "id": "YPXnO7qVs_cA"
      },
      "source": [
        "### **EXERCÍCIO 6 (Essencial)**\n",
        "\n",
        "Compare a quantidade de negociações que cada uma das equipes realizou nos anos de 2018 e 2019.\n",
        "\n",
        "Considere relacionar as equipes por meio da operação *drill-across*."
      ]
    },
    {
      "cell_type": "code",
      "metadata": {
        "colab": {
          "base_uri": "https://localhost:8080/"
        },
        "id": "U3CfBfsZ6fpK",
        "outputId": "2a490dac-5abf-4d1b-b48f-25069c24e772"
      },
      "source": [
        "equipe.columns"
      ],
      "execution_count": null,
      "outputs": [
        {
          "output_type": "execute_result",
          "data": {
            "text/plain": [
              "['equipePK',\n",
              " 'equipeNome',\n",
              " 'filialNome',\n",
              " 'filialCidade',\n",
              " 'filialEstadoNome',\n",
              " 'filialEstadoSigla',\n",
              " 'filialRegiaoNome',\n",
              " 'filialRegiaoSigla',\n",
              " 'filialPaisNome',\n",
              " 'filialPaisSigla']"
            ]
          },
          "metadata": {},
          "execution_count": 104
        }
      ]
    },
    {
      "cell_type": "code",
      "metadata": {
        "id": "P36y0nxxtMoD",
        "colab": {
          "base_uri": "https://localhost:8080/"
        },
        "outputId": "a2d5cce2-5673-4cd4-e044-5d871115f576"
      },
      "source": [
        "# Resposta do exercício\n",
        "neg_2018 = data\\\n",
        "  .join(negociacao, on='dataPK')\\\n",
        "  .join(equipe, on='equipePK')\\\n",
        "  .where('dataAno = 2018')\\\n",
        "  .select('equipeNome', 'filialNome', 'quantidadeNegociacoes')\\\n",
        "  .groupBy('equipeNome', 'filialNome')\\\n",
        "  .sum('quantidadeNegociacoes')\\\n",
        "  .withColumnRenamed('sum(quantidadeNegociacoes)', 'negociacoes_2018')\n",
        "\n",
        "neg_2019 = data\\\n",
        "  .join(negociacao, on='dataPK')\\\n",
        "  .join(equipe, on='equipePK')\\\n",
        "  .where('dataAno=2019')\\\n",
        "  .select('equipeNome', 'filialNome', 'quantidadeNegociacoes')\\\n",
        "  .groupBy('equipeNome', 'filialNome')\\\n",
        "  .sum('quantidadeNegociacoes')\\\n",
        "  .withColumnRenamed('sum(quantidadeNegociacoes)', 'negociacoes_2019')\n",
        "\n",
        "neg_2018\\\n",
        "  .join(neg_2019, on=['equipeNome', 'filialNome'])\\\n",
        "  .show()   "
      ],
      "execution_count": null,
      "outputs": [
        {
          "output_type": "stream",
          "name": "stdout",
          "text": [
            "+-------------+--------------------+----------------+----------------+\n",
            "|   equipeNome|          filialNome|negociacoes_2018|negociacoes_2019|\n",
            "+-------------+--------------------+----------------+----------------+\n",
            "|          WEB|CAMPO GRANDE - CE...|             100|              95|\n",
            "| APP - MOBILE|SAO PAULO - AV. P...|             104|             108|\n",
            "|APP - DESKTOP|RIO DE JANEIRO - ...|             149|             135|\n",
            "| APP - MOBILE|RIO DE JANEIRO - ...|              99|             112|\n",
            "| APP - MOBILE|CAMPO GRANDE - CE...|              98|              88|\n",
            "|          WEB|RIO DE JANEIRO - ...|              91|             106|\n",
            "|APP - DESKTOP|SAO PAULO - AV. P...|             132|             135|\n",
            "|          WEB|SAO PAULO - AV. P...|              76|              87|\n",
            "+-------------+--------------------+----------------+----------------+\n",
            "\n"
          ]
        }
      ]
    },
    {
      "cell_type": "markdown",
      "metadata": {
        "id": "eNcyFcJktQyz"
      },
      "source": [
        "### **EXERCÍCIO 7 (Essencial)**\n",
        "\n",
        "Qual a quantidade de negociações realizadas pelos clientes residentes no estado de Pernambuco, por ano?"
      ]
    },
    {
      "cell_type": "code",
      "metadata": {
        "colab": {
          "base_uri": "https://localhost:8080/"
        },
        "id": "0hCqcqq0QSKY",
        "outputId": "c45542b3-454b-47f5-80b8-851d9a1ce769"
      },
      "source": [
        "cliente.columns"
      ],
      "execution_count": null,
      "outputs": [
        {
          "output_type": "execute_result",
          "data": {
            "text/plain": [
              "['clientePK',\n",
              " 'clienteNomeFantasia',\n",
              " 'clienteSetor',\n",
              " 'clienteCidade',\n",
              " 'clienteEstadoNome',\n",
              " 'clienteEstadoSigla',\n",
              " 'clienteRegiaoNome',\n",
              " 'clienteRegiaoSigla',\n",
              " 'clientePaisNome',\n",
              " 'clientePaisSigla']"
            ]
          },
          "metadata": {},
          "execution_count": 106
        }
      ]
    },
    {
      "cell_type": "code",
      "metadata": {
        "colab": {
          "base_uri": "https://localhost:8080/"
        },
        "id": "DjU5PdJWQj7O",
        "outputId": "fc840235-c064-4ec0-81f8-8a1f9d5274e3"
      },
      "source": [
        "negociacao.columns"
      ],
      "execution_count": null,
      "outputs": [
        {
          "output_type": "execute_result",
          "data": {
            "text/plain": [
              "['equipePK', 'clientePK', 'dataPK', 'receita', 'quantidadeNegociacoes']"
            ]
          },
          "metadata": {},
          "execution_count": 107
        }
      ]
    },
    {
      "cell_type": "code",
      "metadata": {
        "id": "a9YXxKJntVku",
        "colab": {
          "base_uri": "https://localhost:8080/"
        },
        "outputId": "efdb2814-db63-468d-c393-a1132536c674"
      },
      "source": [
        "# Resposta do exercício\n",
        "negociacao\\\n",
        "  .join(data, on='dataPK')\\\n",
        "  .join(cliente, on='clientePK')\\\n",
        "  .where('clienteEstadoSigla=\"PE\"')\\\n",
        "  .select('dataAno', 'quantidadeNegociacoes')\\\n",
        "  .groupBy('dataAno')\\\n",
        "  .sum('quantidadeNegociacoes')\\\n",
        "  .orderBy('dataAno')\\\n",
        "  .withColumnRenamed('sum(quantidadeNegociacoes)', 'Quantidade de negociacoes por ano')\\\n",
        "  .show()"
      ],
      "execution_count": null,
      "outputs": [
        {
          "output_type": "stream",
          "name": "stdout",
          "text": [
            "+-------+---------------------------------+\n",
            "|dataAno|Quantidade de negociacoes por ano|\n",
            "+-------+---------------------------------+\n",
            "|   2016|                               26|\n",
            "|   2017|                               48|\n",
            "|   2018|                               46|\n",
            "|   2019|                               72|\n",
            "|   2020|                               63|\n",
            "+-------+---------------------------------+\n",
            "\n"
          ]
        }
      ]
    },
    {
      "cell_type": "markdown",
      "metadata": {
        "id": "3HpvYqBcvDS0"
      },
      "source": [
        "## 7.5 Consultas Complementares"
      ]
    },
    {
      "cell_type": "markdown",
      "metadata": {
        "id": "jN4Ss3OWvWQT"
      },
      "source": [
        "### **EXERCÍCIO 8 (Complementar)**\n",
        "\n",
        "Qual o total de receita gerada no último semestre de 2020 (ou seja, semestre 2 do ano de 2020), considerando cada setor de clientes? Ordene o resultado final pelo total de receita em ordem ascendente. Renomeie o total de receitas como \"Total de Receitas\". \n",
        "\n",
        "Resolva a consulta de duas formas diferentes, considerando cada uma das especificações a seguir:\n",
        "\n",
        "- **Consulta passo a passo:** Escreva a consulta passo a passo, selecionando apenas as colunas necessárias para o processamento da consulta e executando as junções necessárias par a par.\n",
        "\n",
        "- **Consulta um comando:** Escreva apenas um único comando para a consulta. "
      ]
    },
    {
      "cell_type": "code",
      "metadata": {
        "id": "Boxgnt9qwE5E",
        "colab": {
          "base_uri": "https://localhost:8080/"
        },
        "outputId": "dce12fc2-bbf6-4cfc-8d70-da086b998c30"
      },
      "source": [
        "# Resposta do exercício - consulta passo a passo\n",
        "dataSelecionada =\\\n",
        "   data\\\n",
        "   .filter(\"dataAno = 2020 AND dataSemestre = 2\")\\\n",
        "   .select(\"dataPK\")\n",
        "dataSelecionada.show(5)"
      ],
      "execution_count": null,
      "outputs": [
        {
          "output_type": "stream",
          "name": "stdout",
          "text": [
            "+------+\n",
            "|dataPK|\n",
            "+------+\n",
            "|  1644|\n",
            "|  1645|\n",
            "|  1646|\n",
            "|  1647|\n",
            "|  1648|\n",
            "+------+\n",
            "only showing top 5 rows\n",
            "\n"
          ]
        }
      ]
    },
    {
      "cell_type": "code",
      "metadata": {
        "colab": {
          "base_uri": "https://localhost:8080/"
        },
        "id": "YYlhalQkUKyV",
        "outputId": "d10e1f48-2f58-4ebd-bac3-6732e5498aa9"
      },
      "source": [
        "receitaselecionada =\\\n",
        "   negociacao\\\n",
        "   .select(\"receita\", \"dataPK\", \"clientePK\")\n",
        "receitaselecionada.show(5)"
      ],
      "execution_count": null,
      "outputs": [
        {
          "output_type": "stream",
          "name": "stdout",
          "text": [
            "+--------+------+---------+\n",
            "| receita|dataPK|clientePK|\n",
            "+--------+------+---------+\n",
            "|11564.75|    22|        9|\n",
            "| 17990.5|    11|       24|\n",
            "| 16335.9|    21|       28|\n",
            "| 8495.55|    23|       30|\n",
            "|24748.75|    30|       43|\n",
            "+--------+------+---------+\n",
            "only showing top 5 rows\n",
            "\n"
          ]
        }
      ]
    },
    {
      "cell_type": "code",
      "metadata": {
        "colab": {
          "base_uri": "https://localhost:8080/"
        },
        "id": "5E6qbTpVULBB",
        "outputId": "795fa5eb-1824-4034-bc90-da2fe4abb049"
      },
      "source": [
        "clienteselecionado =\\\n",
        "   cliente\\\n",
        "   .select(\"clienteSetor\", \"clientePK\")\n",
        "clienteselecionado.show(5)"
      ],
      "execution_count": null,
      "outputs": [
        {
          "output_type": "stream",
          "name": "stdout",
          "text": [
            "+-------------------+---------+\n",
            "|       clienteSetor|clientePK|\n",
            "+-------------------+---------+\n",
            "|BEBIDAS E ALIMENTOS|        1|\n",
            "|BEBIDAS E ALIMENTOS|        2|\n",
            "|BEBIDAS E ALIMENTOS|        3|\n",
            "|BEBIDAS E ALIMENTOS|        4|\n",
            "|BEBIDAS E ALIMENTOS|        5|\n",
            "+-------------------+---------+\n",
            "only showing top 5 rows\n",
            "\n"
          ]
        }
      ]
    },
    {
      "cell_type": "code",
      "metadata": {
        "colab": {
          "base_uri": "https://localhost:8080/"
        },
        "id": "molaPwO0VlFB",
        "outputId": "9c43b07e-1785-4d6a-b150-e96c56c7cecd"
      },
      "source": [
        "#realizando as junções par a par\n",
        "\n",
        "receitaData = \\\n",
        "   receitaselecionada\\\n",
        "   .join(dataSelecionada, on=\"dataPK\")\n",
        "\n",
        "receitaDataCliente = \\\n",
        "   receitaData\\\n",
        "   .join(clienteselecionado, on=\"clientePK\")\n",
        "   \n",
        "receitaDataCliente.show(5)"
      ],
      "execution_count": null,
      "outputs": [
        {
          "output_type": "stream",
          "name": "stdout",
          "text": [
            "+---------+------+--------+-------------------+\n",
            "|clientePK|dataPK| receita|       clienteSetor|\n",
            "+---------+------+--------+-------------------+\n",
            "|        1|  1655|10340.05|BEBIDAS E ALIMENTOS|\n",
            "|        4|  1658| 16444.2|BEBIDAS E ALIMENTOS|\n",
            "|        4|  1657| 6704.05|BEBIDAS E ALIMENTOS|\n",
            "|        4|  1652|28041.95|BEBIDAS E ALIMENTOS|\n",
            "|        5|  1645| 6884.05|BEBIDAS E ALIMENTOS|\n",
            "+---------+------+--------+-------------------+\n",
            "only showing top 5 rows\n",
            "\n"
          ]
        }
      ]
    },
    {
      "cell_type": "code",
      "metadata": {
        "id": "j1V-CgC_fDCZ",
        "colab": {
          "base_uri": "https://localhost:8080/"
        },
        "outputId": "b57b02f9-138a-4a3c-a460-62c044d5f88e"
      },
      "source": [
        "# Resposta do exercício - consulta em um comando\n",
        "negociacao\\\n",
        "  .join(data, on='dataPK')\\\n",
        "  .join(cliente, on='clientePK')\\\n",
        "  .where('dataAno=2020 AND dataSemestre=2')\\\n",
        "  .select('receita', 'clienteSetor')\\\n",
        "  .groupBy('clienteSetor')\\\n",
        "  .sum('receita')\\\n",
        "  .orderBy('sum(receita)')\\\n",
        "  .withColumn(\"sum(receita)\", round(\"sum(receita)\",0))\\\n",
        "  .withColumnRenamed('sum(receita)', 'Total de Receitas')\\\n",
        "  .show()"
      ],
      "execution_count": null,
      "outputs": [
        {
          "output_type": "stream",
          "name": "stdout",
          "text": [
            "+-------------------+-----------------+\n",
            "|       clienteSetor|Total de Receitas|\n",
            "+-------------------+-----------------+\n",
            "|            CREDITO|         998790.0|\n",
            "|          VESTUARIO|        2336266.0|\n",
            "|         TECNOLOGIA|        2465926.0|\n",
            "|              SAUDE|        3119775.0|\n",
            "|BEBIDAS E ALIMENTOS|        5749705.0|\n",
            "+-------------------+-----------------+\n",
            "\n"
          ]
        }
      ]
    },
    {
      "cell_type": "markdown",
      "metadata": {
        "id": "-Itsh4D7xJxQ"
      },
      "source": [
        "### **EXERCÍCIO 9 (Complementar)** \n",
        "\n",
        "No exercício anterior, foi calculado o total de receita gerada no último semestre de 2020 para cada setor de atuação dos clientes. Analisando-se os resultados obtidos, é possível identificar o setor de maior receita. Utilizando esse setor, responda à seguinte consulta analítica. \n",
        "\n",
        "Qual o total de receita gerada por mês para o setor de clientes com maior receita no último semestre de 2020? Ordene o resultado final por mês em ordem ascendente. Renomeie o total de receitas como \"Total de Receitas\". "
      ]
    },
    {
      "cell_type": "code",
      "metadata": {
        "id": "57lxJu_5xWRx",
        "colab": {
          "base_uri": "https://localhost:8080/"
        },
        "outputId": "ed361adb-79e8-4d03-d50f-cd02ec98aca1"
      },
      "source": [
        "# Resposta do exercício\n",
        "negociacao\\\n",
        "  .join(data, on='dataPK')\\\n",
        "  .join(cliente, on='clientePK')\\\n",
        "  .where('dataAno=2020 AND dataSemestre=2 AND clienteSetor=\"BEBIDAS E ALIMENTOS\"')\\\n",
        "  .select('receita', 'dataMes')\\\n",
        "  .groupBy('dataMes')\\\n",
        "  .sum('receita')\\\n",
        "  .orderBy('dataMes')\\\n",
        "  .withColumn(\"sum(receita)\", round(\"sum(receita)\",0))\\\n",
        "  .withColumnRenamed('sum(receita)', 'Total de Receitas')\\\n",
        "  .show()"
      ],
      "execution_count": null,
      "outputs": [
        {
          "output_type": "stream",
          "name": "stdout",
          "text": [
            "+-------+-----------------+\n",
            "|dataMes|Total de Receitas|\n",
            "+-------+-----------------+\n",
            "|      7|         849631.0|\n",
            "|      8|         875934.0|\n",
            "|      9|         877224.0|\n",
            "|     10|        1091389.0|\n",
            "|     11|        1156403.0|\n",
            "|     12|         899123.0|\n",
            "+-------+-----------------+\n",
            "\n"
          ]
        }
      ]
    },
    {
      "cell_type": "markdown",
      "metadata": {
        "id": "SfI-JNP_ysxy"
      },
      "source": [
        "### **EXERCÍCIO 10 (Complementar)** \n",
        "\n",
        "No exercício anterior, foi calculado o total de receita gerada por mês para o setor de clientes com maior receita no último semestre de 2020. Analisando-se os resultados obtidos, é possível identificar o mês de maior receita. Utilizando esse mês, responda à seguinte consulta analítica.\n",
        "\n",
        "Qual equipe gerou mais receita para o mês de maior receita da consulta analítica anterior? Renomeie o total de receitas como \"Total de Receitas\".\n",
        "\n",
        "Resolva a consulta de duas formas diferentes, considerando cada uma das especificações a seguir:\n",
        "\n",
        "- **Consulta passo a passo:** Escreva a consulta passo a passo, selecionando apenas as colunas necessárias para o processamento da consulta e executando as junções necessárias par a par.\n",
        "\n",
        "- **Consulta um comando:** Escreva apenas um único comando para a consulta.\n"
      ]
    },
    {
      "cell_type": "code",
      "metadata": {
        "id": "BFpm28j5y_DS",
        "colab": {
          "base_uri": "https://localhost:8080/"
        },
        "outputId": "06a6f2fa-f1b3-4833-e7cb-7d75e08939a5"
      },
      "source": [
        "# Resposta do exercício - consulta passo a passo\n",
        "dataSelecionada =\\\n",
        "   data\\\n",
        "   .filter(\"dataAno = 2020 AND dataMes = 11\")\\\n",
        "   .select(\"dataPK\")\n",
        "dataSelecionada.show(5)"
      ],
      "execution_count": null,
      "outputs": [
        {
          "output_type": "stream",
          "name": "stdout",
          "text": [
            "+------+\n",
            "|dataPK|\n",
            "+------+\n",
            "|  1767|\n",
            "|  1768|\n",
            "|  1769|\n",
            "|  1770|\n",
            "|  1771|\n",
            "+------+\n",
            "only showing top 5 rows\n",
            "\n"
          ]
        }
      ]
    },
    {
      "cell_type": "code",
      "metadata": {
        "colab": {
          "base_uri": "https://localhost:8080/"
        },
        "id": "7iizFFsQbpkb",
        "outputId": "c628cf96-84b1-4710-d8cc-4dec3af9b7b3"
      },
      "source": [
        "receitaselecionada =\\\n",
        "   negociacao\\\n",
        "   .select(\"receita\", \"dataPK\", \"clientePK\", \"equipePK\")\n",
        "receitaselecionada.show(5)"
      ],
      "execution_count": null,
      "outputs": [
        {
          "output_type": "stream",
          "name": "stdout",
          "text": [
            "+--------+------+---------+--------+\n",
            "| receita|dataPK|clientePK|equipePK|\n",
            "+--------+------+---------+--------+\n",
            "|11564.75|    22|        9|       2|\n",
            "| 17990.5|    11|       24|       2|\n",
            "| 16335.9|    21|       28|       2|\n",
            "| 8495.55|    23|       30|       1|\n",
            "|24748.75|    30|       43|       2|\n",
            "+--------+------+---------+--------+\n",
            "only showing top 5 rows\n",
            "\n"
          ]
        }
      ]
    },
    {
      "cell_type": "code",
      "metadata": {
        "colab": {
          "base_uri": "https://localhost:8080/"
        },
        "id": "Nz6ut3fkcimJ",
        "outputId": "a5e47fe1-7aaa-48a4-8f89-0cc9f59fde7a"
      },
      "source": [
        "clienteselecionado =\\\n",
        "   cliente\\\n",
        "   .filter('clienteSetor=\"BEBIDAS E ALIMENTOS\"')\\\n",
        "   .select(\"clientePK\")\n",
        "clienteselecionado.show(5)"
      ],
      "execution_count": null,
      "outputs": [
        {
          "output_type": "stream",
          "name": "stdout",
          "text": [
            "+---------+\n",
            "|clientePK|\n",
            "+---------+\n",
            "|        1|\n",
            "|        2|\n",
            "|        3|\n",
            "|        4|\n",
            "|        5|\n",
            "+---------+\n",
            "only showing top 5 rows\n",
            "\n"
          ]
        }
      ]
    },
    {
      "cell_type": "code",
      "metadata": {
        "colab": {
          "base_uri": "https://localhost:8080/"
        },
        "id": "2bKHyWaWbpqx",
        "outputId": "e8ad1008-4411-4237-e4dc-be7cd24f5042"
      },
      "source": [
        "equipeselecionada =\\\n",
        "   equipe\\\n",
        "   .select(\"equipeNome\", \"equipePK\", \"filialNome\")\n",
        "equipeselecionada.show(5)"
      ],
      "execution_count": null,
      "outputs": [
        {
          "output_type": "stream",
          "name": "stdout",
          "text": [
            "+-------------+--------+--------------------+\n",
            "|   equipeNome|equipePK|          filialNome|\n",
            "+-------------+--------+--------------------+\n",
            "|APP - DESKTOP|       1|SAO PAULO - AV. P...|\n",
            "|APP - DESKTOP|       2|RIO DE JANEIRO - ...|\n",
            "|          WEB|       3|SAO PAULO - AV. P...|\n",
            "|          WEB|       4|RIO DE JANEIRO - ...|\n",
            "|          WEB|       5|CAMPO GRANDE - CE...|\n",
            "+-------------+--------+--------------------+\n",
            "only showing top 5 rows\n",
            "\n"
          ]
        }
      ]
    },
    {
      "cell_type": "code",
      "metadata": {
        "colab": {
          "base_uri": "https://localhost:8080/"
        },
        "id": "UxnfVO0zbp0O",
        "outputId": "5ce6c00a-a8f1-43a0-9b87-a97de61605ab"
      },
      "source": [
        "#realizando as junções par a par\n",
        "receitaData = \\\n",
        "   receitaselecionada\\\n",
        "   .join(dataSelecionada, on=\"dataPK\")\n",
        "\n",
        "receitaDataCliente = \\\n",
        "   receitaData\\\n",
        "   .join(clienteselecionado, on=\"clientePK\")\n",
        "\n",
        "receitaDataClienteEquipe = \\\n",
        "   receitaDataCliente\\\n",
        "   .join(equipeselecionada, on=\"equipePK\")\n",
        "   \n",
        "receitaDataClienteEquipe.show(5)"
      ],
      "execution_count": null,
      "outputs": [
        {
          "output_type": "stream",
          "name": "stdout",
          "text": [
            "+--------+---------+------+-------+--------------+--------------------+\n",
            "|equipePK|clientePK|dataPK|receita|    equipeNome|          filialNome|\n",
            "+--------+---------+------+-------+--------------+--------------------+\n",
            "|       4|        4|  1781|17695.5|           WEB|RIO DE JANEIRO - ...|\n",
            "|       7|        4|  1781| 7653.1|  APP - MOBILE|RIO DE JANEIRO - ...|\n",
            "|      10|        4|  1770|32305.8|BI & ANALYTICS|     RECIFE - CENTRO|\n",
            "|       8|        5|  1773| 5865.3|  APP - MOBILE|CAMPO GRANDE - CE...|\n",
            "|       1|        8|  1787|12818.8| APP - DESKTOP|SAO PAULO - AV. P...|\n",
            "+--------+---------+------+-------+--------------+--------------------+\n",
            "only showing top 5 rows\n",
            "\n"
          ]
        }
      ]
    },
    {
      "cell_type": "code",
      "metadata": {
        "colab": {
          "base_uri": "https://localhost:8080/"
        },
        "id": "J7KbnD9hkiIk",
        "outputId": "96f797c2-9f01-4ffb-8a8e-03d74bde2153"
      },
      "source": [
        "negociacao\\\n",
        "   .join(data, on=\"dataPK\")\\\n",
        "   .join(cliente, on=\"clientePK\")\\\n",
        "   .join(equipe, on=\"equipePK\")\\\n",
        "   .where(\"dataAno = 2020 AND dataMes = 11 AND clienteSetor = 'BEBIDAS E ALIMENTOS'\")\\\n",
        "   .select(\"equipeNome\", \"filialNome\", \"receita\")\\\n",
        "   .groupBy(\"equipeNome\", \"filialNome\")\\\n",
        "   .sum(\"receita\")\\\n",
        "   .withColumn(\"sum(receita)\", round(\"sum(receita)\", 2))\\\n",
        "   .withColumnRenamed(\"sum(receita)\", \"Total de Receitas\")\\\n",
        "   .orderBy(\"sum(receita)\")\\\n",
        "   .show()"
      ],
      "execution_count": null,
      "outputs": [
        {
          "output_type": "stream",
          "name": "stdout",
          "text": [
            "+--------------+--------------------+-----------------+\n",
            "|    equipeNome|          filialNome|Total de Receitas|\n",
            "+--------------+--------------------+-----------------+\n",
            "|           WEB|CAMPO GRANDE - CE...|         20042.75|\n",
            "|  APP - MOBILE|SAO PAULO - AV. P...|         26571.85|\n",
            "| APP - DESKTOP|RIO DE JANEIRO - ...|         35645.65|\n",
            "|  APP - MOBILE|CAMPO GRANDE - CE...|         48714.45|\n",
            "|  APP - MOBILE|RIO DE JANEIRO - ...|          62138.7|\n",
            "|           WEB|RIO DE JANEIRO - ...|          68596.1|\n",
            "|           WEB|SAO PAULO - AV. P...|          88624.5|\n",
            "| APP - DESKTOP|SAO PAULO - AV. P...|         129409.4|\n",
            "|BI & ANALYTICS|SAO PAULO - AV. P...|        149490.15|\n",
            "|BI & ANALYTICS|     RECIFE - CENTRO|        527169.75|\n",
            "+--------------+--------------------+-----------------+\n",
            "\n"
          ]
        }
      ]
    },
    {
      "cell_type": "code",
      "metadata": {
        "id": "vXl88MHDy5vE",
        "colab": {
          "base_uri": "https://localhost:8080/"
        },
        "outputId": "6936c70a-8e85-4843-8f08-161dade48ad1"
      },
      "source": [
        "# Resposta do exercício - consulta em um comando\n",
        "negociacao\\\n",
        "  .join(data, on='dataPK')\\\n",
        "  .join(cliente, on='clientePK')\\\n",
        "  .join(equipe, on='equipePK')\\\n",
        "  .where('dataAno=2020 AND dataMes=11 AND clienteSetor=\"BEBIDAS E ALIMENTOS\"')\\\n",
        "  .select('receita', \"equipeNome\", \"filialNome\")\\\n",
        "  .groupBy(\"equipeNome\", \"filialNome\")\\\n",
        "  .sum('receita')\\\n",
        "  .orderBy(\"sum(receita)\")\\\n",
        "  .withColumn(\"sum(receita)\", round(\"sum(receita)\",0))\\\n",
        "  .withColumnRenamed('sum(receita)', 'Total de Receitas')\\\n",
        "  .show()\n"
      ],
      "execution_count": null,
      "outputs": [
        {
          "output_type": "stream",
          "name": "stdout",
          "text": [
            "+--------------+--------------------+-----------------+\n",
            "|    equipeNome|          filialNome|Total de Receitas|\n",
            "+--------------+--------------------+-----------------+\n",
            "|           WEB|CAMPO GRANDE - CE...|          20043.0|\n",
            "|  APP - MOBILE|SAO PAULO - AV. P...|          26572.0|\n",
            "| APP - DESKTOP|RIO DE JANEIRO - ...|          35646.0|\n",
            "|  APP - MOBILE|CAMPO GRANDE - CE...|          48714.0|\n",
            "|  APP - MOBILE|RIO DE JANEIRO - ...|          62139.0|\n",
            "|           WEB|RIO DE JANEIRO - ...|          68596.0|\n",
            "|           WEB|SAO PAULO - AV. P...|          88624.0|\n",
            "| APP - DESKTOP|SAO PAULO - AV. P...|         129409.0|\n",
            "|BI & ANALYTICS|SAO PAULO - AV. P...|         149490.0|\n",
            "|BI & ANALYTICS|     RECIFE - CENTRO|         527170.0|\n",
            "+--------------+--------------------+-----------------+\n",
            "\n"
          ]
        }
      ]
    }
  ]
}
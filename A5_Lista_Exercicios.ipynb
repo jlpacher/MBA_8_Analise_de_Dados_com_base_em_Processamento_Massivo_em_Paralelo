{
 "cells": [
  {
   "cell_type": "markdown",
   "metadata": {
    "id": "o1X5s78e7kOH"
   },
   "source": [
    "# <span style=\"color:blue\">MBA em Ciência de Dados</span>\n",
    "# <span style=\"color:blue\">Análise de Dados com Base em Processamento Massivo em Paralelo</span>\n",
    "\n",
    "## <span style=\"color:blue\">Aula 05: Consultas OLAP</span>\n",
    "## <span style=\"color:blue\">Exemplo usando Pandas</span>\n",
    "\n",
    "**Material Produzido por:**<br>\n",
    ">**Profa. Dra. Cristina Dutra de Aguiar Ciferri**<br>\n",
    "\n",
    "**CEMEAI - ICMC/USP São Carlos**\n",
    "\n",
    "Esta lista de exercícios contém exercícios classificados como essenciais e complementares. A indicação da classificação de cada exercício é feita junto de sua definição. Os exercícios estão espalhados ao longo do texto. Por favor, procurem por EXERCÍCIO para encontrar a especificação dos exercícios e também o local no qual as respostas devem ser inseridas. Também é possível localizar os exercícios utilizando o menu de navegação. Por completude, o notebook possui todas as descrições apresentadas na parte prática da Aula 05. Recomenda-se fortemente que a lista de exercícios seja respondida antes de se consultar as respostas dos exercícios. "
   ]
  },
  {
   "cell_type": "markdown",
   "metadata": {
    "id": "-e8DjzVIdeGx"
   },
   "source": [
    "# 1 Introdução\n",
    "\n",
    "A aplicação de *data warehousing* da BI Solutions utiliza como base uma contelação de fatos que une dois esquemas estrela, conforme descrito a seguir.\n"
   ]
  },
  {
   "cell_type": "markdown",
   "metadata": {
    "id": "YRhsPRvzLNxn"
   },
   "source": [
    "## 1.1 Esquema Estrela Pagamento\n",
    "\n",
    "O primeiro esquema estrela, chamado Pagamento, é composto pelas seguintes tabelas de dimensão e tabela de fatos:\n",
    "\n",
    "- data (dataPK, dataCompleta, dataDia, dataMes, dataBimestre, dataTrimestre, dataSemestre, dataAno)\n",
    "- funcionario (funcPK, funcMatricula, funcNome, funcSexo, funcDataNascimento, funcDiaNascimento, funcMesNascimento, funcAnoNascimento, funcCidade, funcEstadoNome, funcEstadoSigla, funcRegiaoNome, funcRegiaoSigla, funcPaisNome, funcPaisSigla)\n",
    "- equipe (equipePK, equipeNome, filialNome, filialCidade, filialEstadoNome, filialEstadoSigla, filialRegiaoNome, filialRegiaoSigla, filialPaisNome, filialPaisSigla)\n",
    "- cargo (cargoPK, cargoNome, cargoRegimeTrabalho, cargoEscolaridadeMinima, cargoNivel)\n",
    "- pagamento (dataPK, funcPK, equipePK, cargoPK, salario, quantidadeLancamento)"
   ]
  },
  {
   "cell_type": "markdown",
   "metadata": {
    "id": "QO3Av9-dLRyD"
   },
   "source": [
    "## 1.2 Esquema Estrela Negociacao\n",
    "\n",
    "O segundo esquema estrela, chamado Negociacao, é composto pelas seguintes tabelas de dimensão e tabela de fatos:\n",
    "- data (dataPK, dataCompleta, dataDia, dataMes, dataBimestre, dataTrimestre, dataSemestre, dataAno)\n",
    "- equipe (equipePK, equipeNome, filialNome, filialCidade, filialEstadoNome, filialEstadoSigla, filialRegiaoNome, filialRegiaoSigla, filialPaisNome, filialPaisSigla)\n",
    "- cliente (clientePK, clienteNomeFantasia, clienteSetor, clienteCidade, clienteEstadoNome, clienteEstadoSigla, clienteRegiaoNome, clienteRegiaoSigla, clientePaisNome, clientePaisSigla)\n",
    "- negociacao (dataPK, equipePK, clientePK, receita, quantidadeNegociacao)"
   ]
  },
  {
   "cell_type": "markdown",
   "metadata": {
    "id": "1KK1h5gwvE6p"
   },
   "source": [
    "## 1.3 Constelação de Fatos\n",
    "\n",
    "Na constelação de fatos, as tabelas de dimensão data e equipe são tabelas em comum entre os dois esquemas estrela. As tabelas de dimensão e as tabelas de fatos da constelação da BI Solutions são listadas a seguir.\n",
    "\n",
    "**Tabelas de dimensão**\n",
    "\n",
    "- data (dataPK, dataCompleta, dataDia, dataMes, dataBimestre, dataTrimestre, dataSemestre, dataAno)\n",
    "- funcionario (funcPK, funcMatricula, funcNome, funcSexo, funcDataNascimento, funcDiaNascimento, funcMesNascimento, funcAnoNascimento, funcCidade, funcEstadoNome, funcEstadoSigla, funcRegiaoNome, funcRegiaoSigla, funcPaisNome, funcPaisSigla)\n",
    "- equipe (equipePK, equipeNome, filialNome, filialCidade, filialEstadoNome, filialEstadoSigla, filialRegiaoNome, filialRegiaoSigla, filialPaisNome, filialPaisSigla)\n",
    "- cargo (cargoPK, cargoNome, cargoRegimeTrabalho, cargoEscolaridadeMinima, cargoNivel)\n",
    "- cliente (clientePK, clienteNomeFantasia, clienteSetor, clienteCidade, clienteEstadoNome, clienteEstadoSigla, clienteRegiaoNome, clienteRegiaoSigla, clientePaisNome, clientePaisSigla)\n",
    "\n",
    "**Tabelas de fatos**\n",
    "- pagamento (dataPK, funcPK, equipePK, cargoPK, salario, quantidadeLancamento)\n",
    "- negociacao (dataPK, equipePK, clientePK, receita, quantidadeNegociacao)"
   ]
  },
  {
   "cell_type": "markdown",
   "metadata": {
    "id": "ufKZLEwtMXr_"
   },
   "source": [
    "## 1.4 Junção Estrela\n",
    "\n",
    "A operação de junção estrela é necessária devido à forma de organização dos dados do data warehouse segundo os tipos de esquema estrela, floco de neve e estrela-foco. \n",
    "\n",
    "No processamento de uma consulta OLAP especificada pelo usuário de sistemas de suporte à decisão, deve-se realizar as seguintes atividades:\n",
    "- Acessar a tabela de fatos e todas as tabelas de dimensão envolvidas na consulta.\n",
    "- Realizar as junções necessárias, usando como base a integridade referencial, ou seja, usando como base os pares de chave primária (PK) e chave estrangeira (FK). No caso da junção estrela, isso significa fazer a junção da chave primária de cada tabela de dimensão envolvida na consulta com a chave estrangeira daquela tabela presente na tabela de fatos.\n",
    "- Exibir os resultados obtidos.\n",
    "\n",
    "Em Pandas, a junção estrela é feita usando-se o comando `merge`. Dentro do contexto desta aula, comando `merge` realiza a junção entre dois `DataFrames`, considerando a(s) coluna(s) usada como base para a junção, chamada de coluna(s) de junção.  Maiores detalhes sobre o comando merge podem ser obtidos neste [link](https://pandas.pydata.org/pandas-docs/stable/reference/api/pandas.DataFrame.merge.html).\n"
   ]
  },
  {
   "cell_type": "markdown",
   "metadata": {
    "id": "fukYOo3vgaJB"
   },
   "source": [
    "# 2 Carregamento das Tabelas de Dimensão e das Tabelas de Fatos\n",
    "\n"
   ]
  },
  {
   "cell_type": "code",
   "execution_count": 1,
   "metadata": {
    "executionInfo": {
     "elapsed": 811,
     "status": "ok",
     "timestamp": 1635440439120,
     "user": {
      "displayName": "Cristina Aguiar",
      "photoUrl": "https://lh3.googleusercontent.com/a-/AOh14Ghm5-HutuB5OUCrYhu0nhLTQcZZyzBZhLySrDpjFQ=s64",
      "userId": "02805498492766545440"
     },
     "user_tz": 180
    },
    "id": "D_cGmYxD5B3f"
   },
   "outputs": [],
   "source": [
    "import pandas as pd"
   ]
  },
  {
   "cell_type": "markdown",
   "metadata": {
    "id": "_cl56DEqjCcx"
   },
   "source": [
    "Os comandos a seguir instanciam os `DataFrames` que são usados nas consultas analíticas. Para facilitar o entendimento dos conceitos, cada `DataFrame` possui o mesmo nome da tabela de dimensão ou da tabela de fatos correspondente.  "
   ]
  },
  {
   "cell_type": "markdown",
   "metadata": {
    "id": "I29Ovav3hVZM"
   },
   "source": [
    "### 2.1 Carregamento das Tabelas de Dimensão"
   ]
  },
  {
   "cell_type": "code",
   "execution_count": 2,
   "metadata": {
    "colab": {
     "base_uri": "https://localhost:8080/",
     "height": 142
    },
    "executionInfo": {
     "elapsed": 1312,
     "status": "ok",
     "timestamp": 1635440440990,
     "user": {
      "displayName": "Cristina Aguiar",
      "photoUrl": "https://lh3.googleusercontent.com/a-/AOh14Ghm5-HutuB5OUCrYhu0nhLTQcZZyzBZhLySrDpjFQ=s64",
      "userId": "02805498492766545440"
     },
     "user_tz": 180
    },
    "id": "DLRmtnRihItc",
    "outputId": "e01fc994-cacd-4d26-a63f-1c349388709f"
   },
   "outputs": [
    {
     "data": {
      "text/html": [
       "<div>\n",
       "<style scoped>\n",
       "    .dataframe tbody tr th:only-of-type {\n",
       "        vertical-align: middle;\n",
       "    }\n",
       "\n",
       "    .dataframe tbody tr th {\n",
       "        vertical-align: top;\n",
       "    }\n",
       "\n",
       "    .dataframe thead th {\n",
       "        text-align: right;\n",
       "    }\n",
       "</style>\n",
       "<table border=\"1\" class=\"dataframe\">\n",
       "  <thead>\n",
       "    <tr style=\"text-align: right;\">\n",
       "      <th></th>\n",
       "      <th>dataPK</th>\n",
       "      <th>dataCompleta</th>\n",
       "      <th>dataDia</th>\n",
       "      <th>dataMes</th>\n",
       "      <th>dataBimestre</th>\n",
       "      <th>dataTrimestre</th>\n",
       "      <th>dataSemestre</th>\n",
       "      <th>dataAno</th>\n",
       "    </tr>\n",
       "  </thead>\n",
       "  <tbody>\n",
       "    <tr>\n",
       "      <th>0</th>\n",
       "      <td>1</td>\n",
       "      <td>1/1/2016</td>\n",
       "      <td>1</td>\n",
       "      <td>1</td>\n",
       "      <td>1</td>\n",
       "      <td>1</td>\n",
       "      <td>1</td>\n",
       "      <td>2016</td>\n",
       "    </tr>\n",
       "    <tr>\n",
       "      <th>1</th>\n",
       "      <td>2</td>\n",
       "      <td>2/1/2016</td>\n",
       "      <td>2</td>\n",
       "      <td>1</td>\n",
       "      <td>1</td>\n",
       "      <td>1</td>\n",
       "      <td>1</td>\n",
       "      <td>2016</td>\n",
       "    </tr>\n",
       "    <tr>\n",
       "      <th>2</th>\n",
       "      <td>3</td>\n",
       "      <td>3/1/2016</td>\n",
       "      <td>3</td>\n",
       "      <td>1</td>\n",
       "      <td>1</td>\n",
       "      <td>1</td>\n",
       "      <td>1</td>\n",
       "      <td>2016</td>\n",
       "    </tr>\n",
       "  </tbody>\n",
       "</table>\n",
       "</div>"
      ],
      "text/plain": [
       "   dataPK dataCompleta  dataDia  dataMes  dataBimestre  dataTrimestre  \\\n",
       "0       1     1/1/2016        1        1             1              1   \n",
       "1       2     2/1/2016        2        1             1              1   \n",
       "2       3     3/1/2016        3        1             1              1   \n",
       "\n",
       "   dataSemestre  dataAno  \n",
       "0             1     2016  \n",
       "1             1     2016  \n",
       "2             1     2016  "
      ]
     },
     "execution_count": 2,
     "metadata": {},
     "output_type": "execute_result"
    }
   ],
   "source": [
    "# criando e exibindo o DataFrame para a tabela de dimensão data\n",
    "data = pd.read_csv('https://raw.githubusercontent.com/GuiMuzziUSP/Data_Mart_BI_Solutions/main/data.csv')\n",
    "data.head(3)"
   ]
  },
  {
   "cell_type": "code",
   "execution_count": 3,
   "metadata": {
    "colab": {
     "base_uri": "https://localhost:8080/",
     "height": 213
    },
    "executionInfo": {
     "elapsed": 21,
     "status": "ok",
     "timestamp": 1635440440990,
     "user": {
      "displayName": "Cristina Aguiar",
      "photoUrl": "https://lh3.googleusercontent.com/a-/AOh14Ghm5-HutuB5OUCrYhu0nhLTQcZZyzBZhLySrDpjFQ=s64",
      "userId": "02805498492766545440"
     },
     "user_tz": 180
    },
    "id": "CSyvo5le66Nw",
    "outputId": "3662934b-5cc0-48c2-86f9-51f8776730b0"
   },
   "outputs": [
    {
     "data": {
      "text/html": [
       "<div>\n",
       "<style scoped>\n",
       "    .dataframe tbody tr th:only-of-type {\n",
       "        vertical-align: middle;\n",
       "    }\n",
       "\n",
       "    .dataframe tbody tr th {\n",
       "        vertical-align: top;\n",
       "    }\n",
       "\n",
       "    .dataframe thead th {\n",
       "        text-align: right;\n",
       "    }\n",
       "</style>\n",
       "<table border=\"1\" class=\"dataframe\">\n",
       "  <thead>\n",
       "    <tr style=\"text-align: right;\">\n",
       "      <th></th>\n",
       "      <th>funcPK</th>\n",
       "      <th>funcMatricula</th>\n",
       "      <th>funcNome</th>\n",
       "      <th>funcSexo</th>\n",
       "      <th>funcDataNascimento</th>\n",
       "      <th>funcDiaNascimento</th>\n",
       "      <th>funcMesNascimento</th>\n",
       "      <th>funcAnoNascimento</th>\n",
       "      <th>funcCidade</th>\n",
       "      <th>funcEstadoNome</th>\n",
       "      <th>funcEstadoSigla</th>\n",
       "      <th>funcRegiaoNome</th>\n",
       "      <th>funcRegiaoSigla</th>\n",
       "      <th>funcPaisNome</th>\n",
       "      <th>funcPaisSigla</th>\n",
       "    </tr>\n",
       "  </thead>\n",
       "  <tbody>\n",
       "    <tr>\n",
       "      <th>0</th>\n",
       "      <td>1</td>\n",
       "      <td>M-1</td>\n",
       "      <td>ALINE ALMEIDA</td>\n",
       "      <td>F</td>\n",
       "      <td>1/1/1990</td>\n",
       "      <td>1</td>\n",
       "      <td>1</td>\n",
       "      <td>1990</td>\n",
       "      <td>SAO PAULO</td>\n",
       "      <td>SAO PAULO</td>\n",
       "      <td>SP</td>\n",
       "      <td>SUDESTE</td>\n",
       "      <td>SE</td>\n",
       "      <td>BRASIL</td>\n",
       "      <td>BR</td>\n",
       "    </tr>\n",
       "    <tr>\n",
       "      <th>1</th>\n",
       "      <td>2</td>\n",
       "      <td>M-2</td>\n",
       "      <td>ARAO ALVES</td>\n",
       "      <td>M</td>\n",
       "      <td>2/2/1990</td>\n",
       "      <td>2</td>\n",
       "      <td>2</td>\n",
       "      <td>1990</td>\n",
       "      <td>CAMPINAS</td>\n",
       "      <td>SAO PAULO</td>\n",
       "      <td>SP</td>\n",
       "      <td>SUDESTE</td>\n",
       "      <td>SE</td>\n",
       "      <td>BRASIL</td>\n",
       "      <td>BR</td>\n",
       "    </tr>\n",
       "    <tr>\n",
       "      <th>2</th>\n",
       "      <td>3</td>\n",
       "      <td>M-3</td>\n",
       "      <td>ARON ANDRADE</td>\n",
       "      <td>M</td>\n",
       "      <td>3/3/1990</td>\n",
       "      <td>3</td>\n",
       "      <td>3</td>\n",
       "      <td>1990</td>\n",
       "      <td>SANTOS</td>\n",
       "      <td>SAO PAULO</td>\n",
       "      <td>SP</td>\n",
       "      <td>SUDESTE</td>\n",
       "      <td>SE</td>\n",
       "      <td>BRASIL</td>\n",
       "      <td>BR</td>\n",
       "    </tr>\n",
       "  </tbody>\n",
       "</table>\n",
       "</div>"
      ],
      "text/plain": [
       "   funcPK funcMatricula       funcNome funcSexo funcDataNascimento  \\\n",
       "0       1           M-1  ALINE ALMEIDA        F           1/1/1990   \n",
       "1       2           M-2     ARAO ALVES        M           2/2/1990   \n",
       "2       3           M-3   ARON ANDRADE        M           3/3/1990   \n",
       "\n",
       "   funcDiaNascimento  funcMesNascimento  funcAnoNascimento funcCidade  \\\n",
       "0                  1                  1               1990  SAO PAULO   \n",
       "1                  2                  2               1990   CAMPINAS   \n",
       "2                  3                  3               1990     SANTOS   \n",
       "\n",
       "  funcEstadoNome funcEstadoSigla funcRegiaoNome funcRegiaoSigla funcPaisNome  \\\n",
       "0      SAO PAULO              SP        SUDESTE              SE       BRASIL   \n",
       "1      SAO PAULO              SP        SUDESTE              SE       BRASIL   \n",
       "2      SAO PAULO              SP        SUDESTE              SE       BRASIL   \n",
       "\n",
       "  funcPaisSigla  \n",
       "0            BR  \n",
       "1            BR  \n",
       "2            BR  "
      ]
     },
     "execution_count": 3,
     "metadata": {},
     "output_type": "execute_result"
    }
   ],
   "source": [
    "# criando e exibindo o DataFrame para a tabela de dimensão funcionario\n",
    "funcionario = pd.read_csv('https://raw.githubusercontent.com/GuiMuzziUSP/Data_Mart_BI_Solutions/main/funcionario.csv')\n",
    "funcionario.head(3)"
   ]
  },
  {
   "cell_type": "code",
   "execution_count": 4,
   "metadata": {
    "colab": {
     "base_uri": "https://localhost:8080/",
     "height": 210
    },
    "executionInfo": {
     "elapsed": 21,
     "status": "ok",
     "timestamp": 1635440440990,
     "user": {
      "displayName": "Cristina Aguiar",
      "photoUrl": "https://lh3.googleusercontent.com/a-/AOh14Ghm5-HutuB5OUCrYhu0nhLTQcZZyzBZhLySrDpjFQ=s64",
      "userId": "02805498492766545440"
     },
     "user_tz": 180
    },
    "id": "M9PaV3cjhP3b",
    "outputId": "e763d4fc-af28-419d-ff6c-c025af2a021b"
   },
   "outputs": [
    {
     "data": {
      "text/html": [
       "<div>\n",
       "<style scoped>\n",
       "    .dataframe tbody tr th:only-of-type {\n",
       "        vertical-align: middle;\n",
       "    }\n",
       "\n",
       "    .dataframe tbody tr th {\n",
       "        vertical-align: top;\n",
       "    }\n",
       "\n",
       "    .dataframe thead th {\n",
       "        text-align: right;\n",
       "    }\n",
       "</style>\n",
       "<table border=\"1\" class=\"dataframe\">\n",
       "  <thead>\n",
       "    <tr style=\"text-align: right;\">\n",
       "      <th></th>\n",
       "      <th>equipePK</th>\n",
       "      <th>equipeNome</th>\n",
       "      <th>filialNome</th>\n",
       "      <th>filialCidade</th>\n",
       "      <th>filialEstadoNome</th>\n",
       "      <th>filialEstadoSigla</th>\n",
       "      <th>filialRegiaoNome</th>\n",
       "      <th>filialRegiaoSigla</th>\n",
       "      <th>filialPaisNome</th>\n",
       "      <th>filialPaisSigla</th>\n",
       "    </tr>\n",
       "  </thead>\n",
       "  <tbody>\n",
       "    <tr>\n",
       "      <th>0</th>\n",
       "      <td>1</td>\n",
       "      <td>APP - DESKTOP</td>\n",
       "      <td>SAO PAULO - AV. PAULISTA</td>\n",
       "      <td>SAO PAULO</td>\n",
       "      <td>SAO PAULO</td>\n",
       "      <td>SP</td>\n",
       "      <td>SUDESTE</td>\n",
       "      <td>SE</td>\n",
       "      <td>BRASIL</td>\n",
       "      <td>BR</td>\n",
       "    </tr>\n",
       "    <tr>\n",
       "      <th>1</th>\n",
       "      <td>2</td>\n",
       "      <td>APP - DESKTOP</td>\n",
       "      <td>RIO DE JANEIRO - BARRA DA TIJUCA</td>\n",
       "      <td>RIO DE JANEIRO</td>\n",
       "      <td>RIO DE JANEIRO</td>\n",
       "      <td>RJ</td>\n",
       "      <td>SUDESTE</td>\n",
       "      <td>SE</td>\n",
       "      <td>BRASIL</td>\n",
       "      <td>BR</td>\n",
       "    </tr>\n",
       "    <tr>\n",
       "      <th>2</th>\n",
       "      <td>3</td>\n",
       "      <td>WEB</td>\n",
       "      <td>SAO PAULO - AV. PAULISTA</td>\n",
       "      <td>SAO PAULO</td>\n",
       "      <td>SAO PAULO</td>\n",
       "      <td>SP</td>\n",
       "      <td>SUDESTE</td>\n",
       "      <td>SE</td>\n",
       "      <td>BRASIL</td>\n",
       "      <td>BR</td>\n",
       "    </tr>\n",
       "  </tbody>\n",
       "</table>\n",
       "</div>"
      ],
      "text/plain": [
       "   equipePK     equipeNome                        filialNome    filialCidade  \\\n",
       "0         1  APP - DESKTOP          SAO PAULO - AV. PAULISTA       SAO PAULO   \n",
       "1         2  APP - DESKTOP  RIO DE JANEIRO - BARRA DA TIJUCA  RIO DE JANEIRO   \n",
       "2         3            WEB          SAO PAULO - AV. PAULISTA       SAO PAULO   \n",
       "\n",
       "  filialEstadoNome filialEstadoSigla filialRegiaoNome filialRegiaoSigla  \\\n",
       "0        SAO PAULO                SP          SUDESTE                SE   \n",
       "1   RIO DE JANEIRO                RJ          SUDESTE                SE   \n",
       "2        SAO PAULO                SP          SUDESTE                SE   \n",
       "\n",
       "  filialPaisNome filialPaisSigla  \n",
       "0         BRASIL              BR  \n",
       "1         BRASIL              BR  \n",
       "2         BRASIL              BR  "
      ]
     },
     "execution_count": 4,
     "metadata": {},
     "output_type": "execute_result"
    }
   ],
   "source": [
    "# criando e exibindo o DataFrame para a tabela de dimensão equipe\n",
    "equipe = pd.read_csv('https://raw.githubusercontent.com/GuiMuzziUSP/Data_Mart_BI_Solutions/main/equipe.csv')\n",
    "equipe.head(3)"
   ]
  },
  {
   "cell_type": "code",
   "execution_count": 5,
   "metadata": {
    "colab": {
     "base_uri": "https://localhost:8080/",
     "height": 142
    },
    "executionInfo": {
     "elapsed": 21,
     "status": "ok",
     "timestamp": 1635440440991,
     "user": {
      "displayName": "Cristina Aguiar",
      "photoUrl": "https://lh3.googleusercontent.com/a-/AOh14Ghm5-HutuB5OUCrYhu0nhLTQcZZyzBZhLySrDpjFQ=s64",
      "userId": "02805498492766545440"
     },
     "user_tz": 180
    },
    "id": "3mgVoF3X69N_",
    "outputId": "badd848d-ed0e-4f9b-a016-0ffa24fa3d1d"
   },
   "outputs": [
    {
     "data": {
      "text/html": [
       "<div>\n",
       "<style scoped>\n",
       "    .dataframe tbody tr th:only-of-type {\n",
       "        vertical-align: middle;\n",
       "    }\n",
       "\n",
       "    .dataframe tbody tr th {\n",
       "        vertical-align: top;\n",
       "    }\n",
       "\n",
       "    .dataframe thead th {\n",
       "        text-align: right;\n",
       "    }\n",
       "</style>\n",
       "<table border=\"1\" class=\"dataframe\">\n",
       "  <thead>\n",
       "    <tr style=\"text-align: right;\">\n",
       "      <th></th>\n",
       "      <th>cargoPK</th>\n",
       "      <th>cargoNome</th>\n",
       "      <th>cargoRegimeTrabalho</th>\n",
       "      <th>cargoJornadaTrabalho</th>\n",
       "      <th>cargoEscolaridadeMinima</th>\n",
       "      <th>cargoNivel</th>\n",
       "    </tr>\n",
       "  </thead>\n",
       "  <tbody>\n",
       "    <tr>\n",
       "      <th>0</th>\n",
       "      <td>1</td>\n",
       "      <td>PROGRAMADOR DE SISTEMAS DE INFORMACAO</td>\n",
       "      <td>TEMPORARIO</td>\n",
       "      <td>20H</td>\n",
       "      <td>MEDIO</td>\n",
       "      <td>JUNIOR</td>\n",
       "    </tr>\n",
       "    <tr>\n",
       "      <th>1</th>\n",
       "      <td>2</td>\n",
       "      <td>PROGRAMADOR DE SISTEMAS DE INFORMACAO</td>\n",
       "      <td>TEMPORARIO</td>\n",
       "      <td>20H</td>\n",
       "      <td>SUPERIOR</td>\n",
       "      <td>PLENO</td>\n",
       "    </tr>\n",
       "    <tr>\n",
       "      <th>2</th>\n",
       "      <td>3</td>\n",
       "      <td>PROGRAMADOR DE SISTEMAS DE INFORMACAO</td>\n",
       "      <td>TEMPORARIO</td>\n",
       "      <td>20H</td>\n",
       "      <td>POS</td>\n",
       "      <td>SENIOR</td>\n",
       "    </tr>\n",
       "  </tbody>\n",
       "</table>\n",
       "</div>"
      ],
      "text/plain": [
       "   cargoPK                              cargoNome cargoRegimeTrabalho  \\\n",
       "0        1  PROGRAMADOR DE SISTEMAS DE INFORMACAO          TEMPORARIO   \n",
       "1        2  PROGRAMADOR DE SISTEMAS DE INFORMACAO          TEMPORARIO   \n",
       "2        3  PROGRAMADOR DE SISTEMAS DE INFORMACAO          TEMPORARIO   \n",
       "\n",
       "  cargoJornadaTrabalho cargoEscolaridadeMinima cargoNivel  \n",
       "0                  20H                   MEDIO     JUNIOR  \n",
       "1                  20H                SUPERIOR      PLENO  \n",
       "2                  20H                     POS     SENIOR  "
      ]
     },
     "execution_count": 5,
     "metadata": {},
     "output_type": "execute_result"
    }
   ],
   "source": [
    "# criando e exibindo o DataFrame para a tabela de dimensão cargo\n",
    "cargo = pd.read_csv('https://raw.githubusercontent.com/GuiMuzziUSP/Data_Mart_BI_Solutions/main/cargo.csv')\n",
    "cargo.head(3)"
   ]
  },
  {
   "cell_type": "code",
   "execution_count": 6,
   "metadata": {
    "colab": {
     "base_uri": "https://localhost:8080/",
     "height": 213
    },
    "executionInfo": {
     "elapsed": 21,
     "status": "ok",
     "timestamp": 1635440440991,
     "user": {
      "displayName": "Cristina Aguiar",
      "photoUrl": "https://lh3.googleusercontent.com/a-/AOh14Ghm5-HutuB5OUCrYhu0nhLTQcZZyzBZhLySrDpjFQ=s64",
      "userId": "02805498492766545440"
     },
     "user_tz": 180
    },
    "id": "HN-hxAlO7GaU",
    "outputId": "3c97bc91-2b1e-45ac-b98f-41ab02c530c8"
   },
   "outputs": [
    {
     "data": {
      "text/html": [
       "<div>\n",
       "<style scoped>\n",
       "    .dataframe tbody tr th:only-of-type {\n",
       "        vertical-align: middle;\n",
       "    }\n",
       "\n",
       "    .dataframe tbody tr th {\n",
       "        vertical-align: top;\n",
       "    }\n",
       "\n",
       "    .dataframe thead th {\n",
       "        text-align: right;\n",
       "    }\n",
       "</style>\n",
       "<table border=\"1\" class=\"dataframe\">\n",
       "  <thead>\n",
       "    <tr style=\"text-align: right;\">\n",
       "      <th></th>\n",
       "      <th>clientePK</th>\n",
       "      <th>clienteNomeFantasia</th>\n",
       "      <th>clienteSetor</th>\n",
       "      <th>clienteCidade</th>\n",
       "      <th>clienteEstadoNome</th>\n",
       "      <th>clienteEstadoSigla</th>\n",
       "      <th>clienteRegiaoNome</th>\n",
       "      <th>clienteRegiaoSigla</th>\n",
       "      <th>clientePaisNome</th>\n",
       "      <th>clientePaisSigla</th>\n",
       "    </tr>\n",
       "  </thead>\n",
       "  <tbody>\n",
       "    <tr>\n",
       "      <th>0</th>\n",
       "      <td>1</td>\n",
       "      <td>VIA FOOD</td>\n",
       "      <td>BEBIDAS E ALIMENTOS</td>\n",
       "      <td>SAO PAULO</td>\n",
       "      <td>SAO PAULO</td>\n",
       "      <td>SP</td>\n",
       "      <td>SUDESTE</td>\n",
       "      <td>SE</td>\n",
       "      <td>BRASIL</td>\n",
       "      <td>BR</td>\n",
       "    </tr>\n",
       "    <tr>\n",
       "      <th>1</th>\n",
       "      <td>2</td>\n",
       "      <td>VIA PIZZA</td>\n",
       "      <td>BEBIDAS E ALIMENTOS</td>\n",
       "      <td>SAO PAULO</td>\n",
       "      <td>SAO PAULO</td>\n",
       "      <td>SP</td>\n",
       "      <td>SUDESTE</td>\n",
       "      <td>SE</td>\n",
       "      <td>BRASIL</td>\n",
       "      <td>BR</td>\n",
       "    </tr>\n",
       "    <tr>\n",
       "      <th>2</th>\n",
       "      <td>3</td>\n",
       "      <td>VIA JAPA</td>\n",
       "      <td>BEBIDAS E ALIMENTOS</td>\n",
       "      <td>SAO PAULO</td>\n",
       "      <td>SAO PAULO</td>\n",
       "      <td>SP</td>\n",
       "      <td>SUDESTE</td>\n",
       "      <td>SE</td>\n",
       "      <td>BRASIL</td>\n",
       "      <td>BR</td>\n",
       "    </tr>\n",
       "  </tbody>\n",
       "</table>\n",
       "</div>"
      ],
      "text/plain": [
       "   clientePK clienteNomeFantasia         clienteSetor clienteCidade  \\\n",
       "0          1            VIA FOOD  BEBIDAS E ALIMENTOS     SAO PAULO   \n",
       "1          2           VIA PIZZA  BEBIDAS E ALIMENTOS     SAO PAULO   \n",
       "2          3            VIA JAPA  BEBIDAS E ALIMENTOS     SAO PAULO   \n",
       "\n",
       "  clienteEstadoNome clienteEstadoSigla clienteRegiaoNome clienteRegiaoSigla  \\\n",
       "0         SAO PAULO                 SP           SUDESTE                 SE   \n",
       "1         SAO PAULO                 SP           SUDESTE                 SE   \n",
       "2         SAO PAULO                 SP           SUDESTE                 SE   \n",
       "\n",
       "  clientePaisNome clientePaisSigla  \n",
       "0          BRASIL               BR  \n",
       "1          BRASIL               BR  \n",
       "2          BRASIL               BR  "
      ]
     },
     "execution_count": 6,
     "metadata": {},
     "output_type": "execute_result"
    }
   ],
   "source": [
    "# criando e exibindo o DataFrame para a tabela de dimensão cliente\n",
    "cliente = pd.read_csv('https://raw.githubusercontent.com/GuiMuzziUSP/Data_Mart_BI_Solutions/main/cliente.csv')\n",
    "cliente.head(3)"
   ]
  },
  {
   "cell_type": "markdown",
   "metadata": {
    "id": "1c_-2otJhfNG"
   },
   "source": [
    "### 2.2 Carregamento das Tabelas de Fatos"
   ]
  },
  {
   "cell_type": "code",
   "execution_count": 7,
   "metadata": {
    "colab": {
     "base_uri": "https://localhost:8080/",
     "height": 142
    },
    "executionInfo": {
     "elapsed": 20,
     "status": "ok",
     "timestamp": 1635440440991,
     "user": {
      "displayName": "Cristina Aguiar",
      "photoUrl": "https://lh3.googleusercontent.com/a-/AOh14Ghm5-HutuB5OUCrYhu0nhLTQcZZyzBZhLySrDpjFQ=s64",
      "userId": "02805498492766545440"
     },
     "user_tz": 180
    },
    "id": "tcqznN_w7K2k",
    "outputId": "3b30a101-595b-4013-a7d4-82bdec688906"
   },
   "outputs": [
    {
     "data": {
      "text/html": [
       "<div>\n",
       "<style scoped>\n",
       "    .dataframe tbody tr th:only-of-type {\n",
       "        vertical-align: middle;\n",
       "    }\n",
       "\n",
       "    .dataframe tbody tr th {\n",
       "        vertical-align: top;\n",
       "    }\n",
       "\n",
       "    .dataframe thead th {\n",
       "        text-align: right;\n",
       "    }\n",
       "</style>\n",
       "<table border=\"1\" class=\"dataframe\">\n",
       "  <thead>\n",
       "    <tr style=\"text-align: right;\">\n",
       "      <th></th>\n",
       "      <th>funcPK</th>\n",
       "      <th>equipePK</th>\n",
       "      <th>dataPK</th>\n",
       "      <th>cargoPK</th>\n",
       "      <th>salario</th>\n",
       "      <th>quantidadeLancamentos</th>\n",
       "    </tr>\n",
       "  </thead>\n",
       "  <tbody>\n",
       "    <tr>\n",
       "      <th>0</th>\n",
       "      <td>147</td>\n",
       "      <td>2</td>\n",
       "      <td>5</td>\n",
       "      <td>64</td>\n",
       "      <td>1559.94</td>\n",
       "      <td>1</td>\n",
       "    </tr>\n",
       "    <tr>\n",
       "      <th>1</th>\n",
       "      <td>124</td>\n",
       "      <td>2</td>\n",
       "      <td>5</td>\n",
       "      <td>329</td>\n",
       "      <td>8102.77</td>\n",
       "      <td>1</td>\n",
       "    </tr>\n",
       "    <tr>\n",
       "      <th>2</th>\n",
       "      <td>175</td>\n",
       "      <td>1</td>\n",
       "      <td>5</td>\n",
       "      <td>328</td>\n",
       "      <td>2532.51</td>\n",
       "      <td>1</td>\n",
       "    </tr>\n",
       "  </tbody>\n",
       "</table>\n",
       "</div>"
      ],
      "text/plain": [
       "   funcPK  equipePK  dataPK  cargoPK  salario  quantidadeLancamentos\n",
       "0     147         2       5       64  1559.94                      1\n",
       "1     124         2       5      329  8102.77                      1\n",
       "2     175         1       5      328  2532.51                      1"
      ]
     },
     "execution_count": 7,
     "metadata": {},
     "output_type": "execute_result"
    }
   ],
   "source": [
    "#criando e exibindo o DataFrame para a tabela de fatos pagamento\n",
    "pagamento = pd.read_csv('https://raw.githubusercontent.com/GuiMuzziUSP/Data_Mart_BI_Solutions/main/pagamento.csv')\n",
    "pagamento.head(3)"
   ]
  },
  {
   "cell_type": "code",
   "execution_count": 8,
   "metadata": {
    "colab": {
     "base_uri": "https://localhost:8080/",
     "height": 142
    },
    "executionInfo": {
     "elapsed": 19,
     "status": "ok",
     "timestamp": 1635440440991,
     "user": {
      "displayName": "Cristina Aguiar",
      "photoUrl": "https://lh3.googleusercontent.com/a-/AOh14Ghm5-HutuB5OUCrYhu0nhLTQcZZyzBZhLySrDpjFQ=s64",
      "userId": "02805498492766545440"
     },
     "user_tz": 180
    },
    "id": "4K_F31QN7ZXg",
    "outputId": "9913f57e-3a1a-4064-dcd2-823a9034fad3"
   },
   "outputs": [
    {
     "data": {
      "text/html": [
       "<div>\n",
       "<style scoped>\n",
       "    .dataframe tbody tr th:only-of-type {\n",
       "        vertical-align: middle;\n",
       "    }\n",
       "\n",
       "    .dataframe tbody tr th {\n",
       "        vertical-align: top;\n",
       "    }\n",
       "\n",
       "    .dataframe thead th {\n",
       "        text-align: right;\n",
       "    }\n",
       "</style>\n",
       "<table border=\"1\" class=\"dataframe\">\n",
       "  <thead>\n",
       "    <tr style=\"text-align: right;\">\n",
       "      <th></th>\n",
       "      <th>equipePK</th>\n",
       "      <th>clientePK</th>\n",
       "      <th>dataPK</th>\n",
       "      <th>receita</th>\n",
       "      <th>quantidadeNegociacoes</th>\n",
       "    </tr>\n",
       "  </thead>\n",
       "  <tbody>\n",
       "    <tr>\n",
       "      <th>0</th>\n",
       "      <td>2</td>\n",
       "      <td>9</td>\n",
       "      <td>22</td>\n",
       "      <td>11564.75</td>\n",
       "      <td>1</td>\n",
       "    </tr>\n",
       "    <tr>\n",
       "      <th>1</th>\n",
       "      <td>2</td>\n",
       "      <td>24</td>\n",
       "      <td>11</td>\n",
       "      <td>17990.50</td>\n",
       "      <td>1</td>\n",
       "    </tr>\n",
       "    <tr>\n",
       "      <th>2</th>\n",
       "      <td>2</td>\n",
       "      <td>28</td>\n",
       "      <td>21</td>\n",
       "      <td>16335.90</td>\n",
       "      <td>1</td>\n",
       "    </tr>\n",
       "  </tbody>\n",
       "</table>\n",
       "</div>"
      ],
      "text/plain": [
       "   equipePK  clientePK  dataPK   receita  quantidadeNegociacoes\n",
       "0         2          9      22  11564.75                      1\n",
       "1         2         24      11  17990.50                      1\n",
       "2         2         28      21  16335.90                      1"
      ]
     },
     "execution_count": 8,
     "metadata": {},
     "output_type": "execute_result"
    }
   ],
   "source": [
    "#criando e exibindo o DataFrame para a tabela de fatos negociacao\n",
    "negociacao = pd.read_csv('https://raw.githubusercontent.com/GuiMuzziUSP/Data_Mart_BI_Solutions/main/negociacao.csv')\n",
    "negociacao.head(3)"
   ]
  },
  {
   "cell_type": "markdown",
   "metadata": {
    "id": "qdptiXMFje8I"
   },
   "source": [
    "# 3 Execução de Consultas com Foco nas Operações OLAP"
   ]
  },
  {
   "cell_type": "markdown",
   "metadata": {
    "id": "IRzizjJUuwXg"
   },
   "source": [
    "## 3.1 Operação Slice and Dice\n",
    "\n",
    "**Definição**: Restringe os dados sendo analisados a um subconjunto desses dados.\n",
    "\n",
    "- Slice: corte para um valor fixo, diminuindo a dimensionalidade do cubo.\n",
    "- Dice: seleção de faixas de valores.\n",
    "\n",
    "**Exemplo de consulta**: Qual a quantidade de pagamentos realizados no mês de setembro de 2020?\n"
   ]
  },
  {
   "cell_type": "code",
   "execution_count": 9,
   "metadata": {
    "executionInfo": {
     "elapsed": 19,
     "status": "ok",
     "timestamp": 1635440440992,
     "user": {
      "displayName": "Cristina Aguiar",
      "photoUrl": "https://lh3.googleusercontent.com/a-/AOh14Ghm5-HutuB5OUCrYhu0nhLTQcZZyzBZhLySrDpjFQ=s64",
      "userId": "02805498492766545440"
     },
     "user_tz": 180
    },
    "id": "JAtuxdwt92s_"
   },
   "outputs": [],
   "source": [
    "dataFiltrada = data.query('dataMes == 9 and dataAno == 2020')"
   ]
  },
  {
   "cell_type": "code",
   "execution_count": 10,
   "metadata": {
    "executionInfo": {
     "elapsed": 19,
     "status": "ok",
     "timestamp": 1635440440992,
     "user": {
      "displayName": "Cristina Aguiar",
      "photoUrl": "https://lh3.googleusercontent.com/a-/AOh14Ghm5-HutuB5OUCrYhu0nhLTQcZZyzBZhLySrDpjFQ=s64",
      "userId": "02805498492766545440"
     },
     "user_tz": 180
    },
    "id": "5loTlhcgDxcu"
   },
   "outputs": [],
   "source": [
    "pagamentoFiltrado = pagamento.merge(dataFiltrada, on = 'dataPK')"
   ]
  },
  {
   "cell_type": "code",
   "execution_count": 11,
   "metadata": {
    "colab": {
     "base_uri": "https://localhost:8080/"
    },
    "executionInfo": {
     "elapsed": 20,
     "status": "ok",
     "timestamp": 1635440440993,
     "user": {
      "displayName": "Cristina Aguiar",
      "photoUrl": "https://lh3.googleusercontent.com/a-/AOh14Ghm5-HutuB5OUCrYhu0nhLTQcZZyzBZhLySrDpjFQ=s64",
      "userId": "02805498492766545440"
     },
     "user_tz": 180
    },
    "id": "9r8uEo1qDzDn",
    "outputId": "71291a9b-bd65-4d17-f65f-889814f4c0e2"
   },
   "outputs": [
    {
     "data": {
      "text/plain": [
       "200"
      ]
     },
     "execution_count": 11,
     "metadata": {},
     "output_type": "execute_result"
    }
   ],
   "source": [
    "pagamentoFiltrado['quantidadeLancamentos'].sum()"
   ]
  },
  {
   "cell_type": "markdown",
   "metadata": {
    "id": "FjeYu20EoUyO"
   },
   "source": [
    "### **EXERCÍCIO 1 (Essencial)**\n",
    "\n",
    "Realize a contagem de negociações realizadas na tabela `negociacao`, no período de 2016, somando os valores dos meses de Abril, Maio e Junho da tabela `data`."
   ]
  },
  {
   "cell_type": "code",
   "execution_count": 17,
   "metadata": {
    "executionInfo": {
     "elapsed": 16,
     "status": "ok",
     "timestamp": 1635440440993,
     "user": {
      "displayName": "Cristina Aguiar",
      "photoUrl": "https://lh3.googleusercontent.com/a-/AOh14Ghm5-HutuB5OUCrYhu0nhLTQcZZyzBZhLySrDpjFQ=s64",
      "userId": "02805498492766545440"
     },
     "user_tz": 180
    },
    "id": "ZaqGkGfqoVd4"
   },
   "outputs": [],
   "source": [
    "# Resposta do exercício\n",
    "dataFiltrada = data.query('dataTrimestre == 2 and dataAno == 2016')"
   ]
  },
  {
   "cell_type": "code",
   "execution_count": 18,
   "metadata": {},
   "outputs": [],
   "source": [
    "negociacaoFiltrada = negociacao.merge(dataFiltrada, on = 'dataPK')"
   ]
  },
  {
   "cell_type": "code",
   "execution_count": 19,
   "metadata": {},
   "outputs": [
    {
     "data": {
      "text/plain": [
       "59"
      ]
     },
     "execution_count": 19,
     "metadata": {},
     "output_type": "execute_result"
    }
   ],
   "source": [
    "negociacaoFiltrada['quantidadeNegociacoes'].sum()"
   ]
  },
  {
   "cell_type": "markdown",
   "metadata": {
    "id": "4Q6lAFKogO2l"
   },
   "source": [
    "## 3.2 Operações Drill-Down e Roll-Up\n",
    "\n",
    "**Definição**: Analisam os dados considerando níveis progressivos de agregação.\n",
    "\n",
    "- Drill-down: níveis de agregação progressivamente mais detalhados, ou de menor granularidade.\n",
    "- Roll-up: níveis de agregação progressivamente menos detalhados, ou de maior granularidade.\n",
    "\n",
    "Para ilustrar as operações de drill-down e roll-up, considere a consulta base definida a seguir.\n",
    "\n",
    "**Consulta base:** Qual o valor gasto em salários por ano, considerando cada semestre?"
   ]
  },
  {
   "cell_type": "code",
   "execution_count": 20,
   "metadata": {
    "executionInfo": {
     "elapsed": 16,
     "status": "ok",
     "timestamp": 1635440440993,
     "user": {
      "displayName": "Cristina Aguiar",
      "photoUrl": "https://lh3.googleusercontent.com/a-/AOh14Ghm5-HutuB5OUCrYhu0nhLTQcZZyzBZhLySrDpjFQ=s64",
      "userId": "02805498492766545440"
     },
     "user_tz": 180
    },
    "id": "h1PKrPtmHXUg"
   },
   "outputs": [],
   "source": [
    "pagamentoData = pagamento.merge(data, on = 'dataPK')"
   ]
  },
  {
   "cell_type": "code",
   "execution_count": 21,
   "metadata": {
    "colab": {
     "base_uri": "https://localhost:8080/"
    },
    "executionInfo": {
     "elapsed": 16,
     "status": "ok",
     "timestamp": 1635440440993,
     "user": {
      "displayName": "Cristina Aguiar",
      "photoUrl": "https://lh3.googleusercontent.com/a-/AOh14Ghm5-HutuB5OUCrYhu0nhLTQcZZyzBZhLySrDpjFQ=s64",
      "userId": "02805498492766545440"
     },
     "user_tz": 180
    },
    "id": "KzYP9GbcHqDt",
    "outputId": "f5cf8a01-3f06-4331-975b-3e51151bec42"
   },
   "outputs": [
    {
     "data": {
      "text/plain": [
       "dataAno  dataSemestre\n",
       "2016     1               2221308.54\n",
       "         2               2221308.54\n",
       "2017     1               4887639.90\n",
       "         2               4887639.90\n",
       "2018     1               7467763.20\n",
       "         2               7467763.20\n",
       "2019     1               9283833.18\n",
       "         2               9283833.18\n",
       "2020     1               9283833.18\n",
       "         2               9283833.18\n",
       "Name: salario, dtype: float64"
      ]
     },
     "execution_count": 21,
     "metadata": {},
     "output_type": "execute_result"
    }
   ],
   "source": [
    "pagamentoData.groupby(['dataAno','dataSemestre'])['salario'].sum()"
   ]
  },
  {
   "cell_type": "code",
   "execution_count": 26,
   "metadata": {
    "colab": {
     "base_uri": "https://localhost:8080/",
     "height": 235
    },
    "executionInfo": {
     "elapsed": 15,
     "status": "ok",
     "timestamp": 1635440440994,
     "user": {
      "displayName": "Cristina Aguiar",
      "photoUrl": "https://lh3.googleusercontent.com/a-/AOh14Ghm5-HutuB5OUCrYhu0nhLTQcZZyzBZhLySrDpjFQ=s64",
      "userId": "02805498492766545440"
     },
     "user_tz": 180
    },
    "id": "U6O5jgiK-iBI",
    "outputId": "b44095a2-5016-4467-828a-a77c5a32dbb0"
   },
   "outputs": [
    {
     "data": {
      "text/html": [
       "<div>\n",
       "<style scoped>\n",
       "    .dataframe tbody tr th:only-of-type {\n",
       "        vertical-align: middle;\n",
       "    }\n",
       "\n",
       "    .dataframe tbody tr th {\n",
       "        vertical-align: top;\n",
       "    }\n",
       "\n",
       "    .dataframe thead th {\n",
       "        text-align: right;\n",
       "    }\n",
       "</style>\n",
       "<table border=\"1\" class=\"dataframe\">\n",
       "  <thead>\n",
       "    <tr style=\"text-align: right;\">\n",
       "      <th>dataSemestre</th>\n",
       "      <th>1</th>\n",
       "      <th>2</th>\n",
       "    </tr>\n",
       "    <tr>\n",
       "      <th>dataAno</th>\n",
       "      <th></th>\n",
       "      <th></th>\n",
       "    </tr>\n",
       "  </thead>\n",
       "  <tbody>\n",
       "    <tr>\n",
       "      <th>2016</th>\n",
       "      <td>2221308.54</td>\n",
       "      <td>2221308.54</td>\n",
       "    </tr>\n",
       "    <tr>\n",
       "      <th>2017</th>\n",
       "      <td>4887639.90</td>\n",
       "      <td>4887639.90</td>\n",
       "    </tr>\n",
       "    <tr>\n",
       "      <th>2018</th>\n",
       "      <td>7467763.20</td>\n",
       "      <td>7467763.20</td>\n",
       "    </tr>\n",
       "    <tr>\n",
       "      <th>2019</th>\n",
       "      <td>9283833.18</td>\n",
       "      <td>9283833.18</td>\n",
       "    </tr>\n",
       "    <tr>\n",
       "      <th>2020</th>\n",
       "      <td>9283833.18</td>\n",
       "      <td>9283833.18</td>\n",
       "    </tr>\n",
       "  </tbody>\n",
       "</table>\n",
       "</div>"
      ],
      "text/plain": [
       "dataSemestre           1           2\n",
       "dataAno                             \n",
       "2016          2221308.54  2221308.54\n",
       "2017          4887639.90  4887639.90\n",
       "2018          7467763.20  7467763.20\n",
       "2019          9283833.18  9283833.18\n",
       "2020          9283833.18  9283833.18"
      ]
     },
     "execution_count": 26,
     "metadata": {},
     "output_type": "execute_result"
    }
   ],
   "source": [
    "# modificando a visualização utilizando o .unstack()\n",
    "pagamentoData.groupby(['dataAno','dataSemestre'])['salario'].sum().unstack(level = 1)"
   ]
  },
  {
   "cell_type": "code",
   "execution_count": 27,
   "metadata": {
    "colab": {
     "base_uri": "https://localhost:8080/",
     "height": 343
    },
    "executionInfo": {
     "elapsed": 1253,
     "status": "ok",
     "timestamp": 1635440442232,
     "user": {
      "displayName": "Cristina Aguiar",
      "photoUrl": "https://lh3.googleusercontent.com/a-/AOh14Ghm5-HutuB5OUCrYhu0nhLTQcZZyzBZhLySrDpjFQ=s64",
      "userId": "02805498492766545440"
     },
     "user_tz": 180
    },
    "id": "qcz0lfTdK63v",
    "outputId": "0d9ccbc1-34b1-4a49-e59c-f37055a30231"
   },
   "outputs": [
    {
     "data": {
      "image/png": "[encoded data removed]",
      "text/plain": [
       "<Figure size 432x288 with 1 Axes>"
      ]
     },
     "metadata": {
      "needs_background": "light"
     },
     "output_type": "display_data"
    }
   ],
   "source": [
    "# imprimindo os dados de forma visual\n",
    "pagamentoData.groupby(['dataAno','dataSemestre'])['salario'].sum().plot(kind = 'bar');"
   ]
  },
  {
   "cell_type": "markdown",
   "metadata": {
    "id": "nG_cvrxlrdx7"
   },
   "source": [
    "### **EXERCÍCIO 2 (Essencial)**\n",
    "\n",
    "Qual é a soma da receita recebida no ano de 2019 em cada um dos semestres?\n",
    "\n",
    "Realize o cálculo utilizando a tabela `negociacao`, no período de 2019 da tabela `data`."
   ]
  },
  {
   "cell_type": "code",
   "execution_count": 33,
   "metadata": {
    "executionInfo": {
     "elapsed": 28,
     "status": "ok",
     "timestamp": 1635440442233,
     "user": {
      "displayName": "Cristina Aguiar",
      "photoUrl": "https://lh3.googleusercontent.com/a-/AOh14Ghm5-HutuB5OUCrYhu0nhLTQcZZyzBZhLySrDpjFQ=s64",
      "userId": "02805498492766545440"
     },
     "user_tz": 180
    },
    "id": "C9UahTSOraHw"
   },
   "outputs": [],
   "source": [
    "# Resposta do exercício\n",
    "dataFiltrada = data.query('dataAno == 2019')\n",
    "negociacaoData = negociacao.merge(dataFiltrada, on = 'dataPK')"
   ]
  },
  {
   "cell_type": "code",
   "execution_count": 34,
   "metadata": {},
   "outputs": [
    {
     "data": {
      "text/plain": [
       "dataAno  dataSemestre\n",
       "2019     1               18328526.95\n",
       "         2               17024791.35\n",
       "Name: receita, dtype: float64"
      ]
     },
     "execution_count": 34,
     "metadata": {},
     "output_type": "execute_result"
    }
   ],
   "source": [
    "negociacaoData.groupby(['dataAno','dataSemestre'])['receita'].sum()"
   ]
  },
  {
   "cell_type": "code",
   "execution_count": 35,
   "metadata": {},
   "outputs": [
    {
     "data": {
      "text/html": [
       "<div>\n",
       "<style scoped>\n",
       "    .dataframe tbody tr th:only-of-type {\n",
       "        vertical-align: middle;\n",
       "    }\n",
       "\n",
       "    .dataframe tbody tr th {\n",
       "        vertical-align: top;\n",
       "    }\n",
       "\n",
       "    .dataframe thead th {\n",
       "        text-align: right;\n",
       "    }\n",
       "</style>\n",
       "<table border=\"1\" class=\"dataframe\">\n",
       "  <thead>\n",
       "    <tr style=\"text-align: right;\">\n",
       "      <th>dataSemestre</th>\n",
       "      <th>1</th>\n",
       "      <th>2</th>\n",
       "    </tr>\n",
       "    <tr>\n",
       "      <th>dataAno</th>\n",
       "      <th></th>\n",
       "      <th></th>\n",
       "    </tr>\n",
       "  </thead>\n",
       "  <tbody>\n",
       "    <tr>\n",
       "      <th>2019</th>\n",
       "      <td>18328526.95</td>\n",
       "      <td>17024791.35</td>\n",
       "    </tr>\n",
       "  </tbody>\n",
       "</table>\n",
       "</div>"
      ],
      "text/plain": [
       "dataSemestre            1            2\n",
       "dataAno                               \n",
       "2019          18328526.95  17024791.35"
      ]
     },
     "execution_count": 35,
     "metadata": {},
     "output_type": "execute_result"
    }
   ],
   "source": [
    "# modificando a visualização utilizando o .unstack()\n",
    "negociacaoData.groupby(['dataAno','dataSemestre'])['receita'].sum().unstack(level = 1)"
   ]
  },
  {
   "cell_type": "markdown",
   "metadata": {
    "id": "2EMj-rcBuwgt"
   },
   "source": [
    "### **EXERCÍCIO 3 (Essencial)**\n",
    "\n",
    "Apresente o resultado do exercício anterior em um gráfico de barras."
   ]
  },
  {
   "cell_type": "code",
   "execution_count": 36,
   "metadata": {},
   "outputs": [
    {
     "data": {
      "image/png": "[encoded data removed]",
      "text/plain": [
       "<Figure size 432x288 with 1 Axes>"
      ]
     },
     "metadata": {
      "needs_background": "light"
     },
     "output_type": "display_data"
    }
   ],
   "source": [
    "# imprimindo os dados de forma visual\n",
    "negociacaoData.groupby(['dataAno','dataSemestre'])['receita'].sum().plot(kind = 'bar');"
   ]
  },
  {
   "cell_type": "markdown",
   "metadata": {
    "id": "94l1IEaohD0v"
   },
   "source": [
    "**Exemplo de consulta drill-down:** Qual o valor gasto em salários por ano, considerando cada trimestre?"
   ]
  },
  {
   "cell_type": "code",
   "execution_count": 37,
   "metadata": {
    "colab": {
     "base_uri": "https://localhost:8080/"
    },
    "executionInfo": {
     "elapsed": 27,
     "status": "ok",
     "timestamp": 1635440442233,
     "user": {
      "displayName": "Cristina Aguiar",
      "photoUrl": "https://lh3.googleusercontent.com/a-/AOh14Ghm5-HutuB5OUCrYhu0nhLTQcZZyzBZhLySrDpjFQ=s64",
      "userId": "02805498492766545440"
     },
     "user_tz": 180
    },
    "id": "UUzTCWEdJxC8",
    "outputId": "123e1b28-05ba-44f0-ddb9-7f4801ba2a3a"
   },
   "outputs": [
    {
     "data": {
      "text/plain": [
       "dataAno  dataTrimestre\n",
       "2016     1                1110654.27\n",
       "         2                1110654.27\n",
       "         3                1110654.27\n",
       "         4                1110654.27\n",
       "2017     1                2443819.95\n",
       "         2                2443819.95\n",
       "         3                2443819.95\n",
       "         4                2443819.95\n",
       "2018     1                3733881.60\n",
       "         2                3733881.60\n",
       "         3                3733881.60\n",
       "         4                3733881.60\n",
       "2019     1                4641916.59\n",
       "         2                4641916.59\n",
       "         3                4641916.59\n",
       "         4                4641916.59\n",
       "2020     1                4641916.59\n",
       "         2                4641916.59\n",
       "         3                4641916.59\n",
       "         4                4641916.59\n",
       "Name: salario, dtype: float64"
      ]
     },
     "execution_count": 37,
     "metadata": {},
     "output_type": "execute_result"
    }
   ],
   "source": [
    "pagamentoData.groupby(['dataAno', 'dataTrimestre'])['salario'].sum()"
   ]
  },
  {
   "cell_type": "code",
   "execution_count": 38,
   "metadata": {
    "colab": {
     "base_uri": "https://localhost:8080/",
     "height": 343
    },
    "executionInfo": {
     "elapsed": 25,
     "status": "ok",
     "timestamp": 1635440442234,
     "user": {
      "displayName": "Cristina Aguiar",
      "photoUrl": "https://lh3.googleusercontent.com/a-/AOh14Ghm5-HutuB5OUCrYhu0nhLTQcZZyzBZhLySrDpjFQ=s64",
      "userId": "02805498492766545440"
     },
     "user_tz": 180
    },
    "id": "BnTSaNsaLaNA",
    "outputId": "dba10d57-4df6-4906-d949-18e272d5c207"
   },
   "outputs": [
    {
     "data": {
      "image/png": "[encoded data removed]",
      "text/plain": [
       "<Figure size 432x288 with 1 Axes>"
      ]
     },
     "metadata": {
      "needs_background": "light"
     },
     "output_type": "display_data"
    }
   ],
   "source": [
    "pagamentoData.groupby(['dataAno', 'dataTrimestre'])['salario'].sum().plot(kind = 'bar');"
   ]
  },
  {
   "cell_type": "markdown",
   "metadata": {
    "id": "B8b8vTWYoyUr"
   },
   "source": [
    "**Exemplo de consulta roll-up:** Qual o valor gasto em salários por ano?"
   ]
  },
  {
   "cell_type": "code",
   "execution_count": 39,
   "metadata": {
    "colab": {
     "base_uri": "https://localhost:8080/"
    },
    "executionInfo": {
     "elapsed": 23,
     "status": "ok",
     "timestamp": 1635440442234,
     "user": {
      "displayName": "Cristina Aguiar",
      "photoUrl": "https://lh3.googleusercontent.com/a-/AOh14Ghm5-HutuB5OUCrYhu0nhLTQcZZyzBZhLySrDpjFQ=s64",
      "userId": "02805498492766545440"
     },
     "user_tz": 180
    },
    "id": "VUreMWiAKZuS",
    "outputId": "89ff74b3-c7b0-429a-e4f9-1e3a8bacc10b"
   },
   "outputs": [
    {
     "data": {
      "text/plain": [
       "dataAno\n",
       "2016     4442617.08\n",
       "2017     9775279.80\n",
       "2018    14935526.40\n",
       "2019    18567666.36\n",
       "2020    18567666.36\n",
       "Name: salario, dtype: float64"
      ]
     },
     "execution_count": 39,
     "metadata": {},
     "output_type": "execute_result"
    }
   ],
   "source": [
    "pagamentoData.groupby(['dataAno'])['salario'].sum()"
   ]
  },
  {
   "cell_type": "code",
   "execution_count": 40,
   "metadata": {
    "colab": {
     "base_uri": "https://localhost:8080/",
     "height": 323
    },
    "executionInfo": {
     "elapsed": 22,
     "status": "ok",
     "timestamp": 1635440442234,
     "user": {
      "displayName": "Cristina Aguiar",
      "photoUrl": "https://lh3.googleusercontent.com/a-/AOh14Ghm5-HutuB5OUCrYhu0nhLTQcZZyzBZhLySrDpjFQ=s64",
      "userId": "02805498492766545440"
     },
     "user_tz": 180
    },
    "id": "yV2uSUsLJZAx",
    "outputId": "9c83d5f1-3ceb-4dc7-8ce2-e603f5f1d4ae"
   },
   "outputs": [
    {
     "data": {
      "image/png": "[encoded data removed]",
      "text/plain": [
       "<Figure size 432x288 with 1 Axes>"
      ]
     },
     "metadata": {
      "needs_background": "light"
     },
     "output_type": "display_data"
    }
   ],
   "source": [
    "pagamentoData.groupby(['dataAno'])['salario'].sum().plot(kind = 'bar');"
   ]
  },
  {
   "cell_type": "markdown",
   "metadata": {
    "id": "m1pwyJJgKpuW"
   },
   "source": [
    "## 3.3 Operação Pivot\n",
    "\n",
    "**Definição:** Reorienta a visão multidimensional dos dados, oferecendo diferentes perspectivas dos mesmos dados.\n",
    "\n",
    "Para ilustrar a operação pivot, considere a consulta base definida a seguir. \n",
    "\n",
    "**Consulta base:**  Qual o valor gasto em salários por ano, considerando cada nível de cargo?"
   ]
  },
  {
   "cell_type": "code",
   "execution_count": 41,
   "metadata": {
    "colab": {
     "base_uri": "https://localhost:8080/"
    },
    "executionInfo": {
     "elapsed": 21,
     "status": "ok",
     "timestamp": 1635440442234,
     "user": {
      "displayName": "Cristina Aguiar",
      "photoUrl": "https://lh3.googleusercontent.com/a-/AOh14Ghm5-HutuB5OUCrYhu0nhLTQcZZyzBZhLySrDpjFQ=s64",
      "userId": "02805498492766545440"
     },
     "user_tz": 180
    },
    "id": "L2yzBU3cLKEb",
    "outputId": "6da8f74c-8060-4445-e7e4-24e8eee96207"
   },
   "outputs": [
    {
     "data": {
      "text/plain": [
       "dataAno  cargoNivel\n",
       "2016     JUNIOR          489456.84\n",
       "         PLENO          1454152.44\n",
       "         SENIOR         2499007.80\n",
       "2017     JUNIOR         1030642.80\n",
       "         PLENO          3791593.92\n",
       "         SENIOR         4953043.08\n",
       "2018     JUNIOR         1393282.20\n",
       "         PLENO          5357227.44\n",
       "         SENIOR         8185016.76\n",
       "2019     JUNIOR         1755714.36\n",
       "         PLENO          6132228.24\n",
       "         SENIOR        10679723.76\n",
       "2020     JUNIOR         1755714.36\n",
       "         PLENO          6132228.24\n",
       "         SENIOR        10679723.76\n",
       "Name: salario, dtype: float64"
      ]
     },
     "execution_count": 41,
     "metadata": {},
     "output_type": "execute_result"
    }
   ],
   "source": [
    "pagamentoData = pagamento.merge(data, on = 'dataPK')\n",
    "pagamentoDataCargo = pagamentoData.merge(cargo, on = 'cargoPK')\n",
    "pagamentoDataCargo.groupby(['dataAno', 'cargoNivel'])['salario'].sum()\n",
    "#pagamentoDataCargo.rename(mapper={\"dataAno\": \"Ano\", \"cargoNivel\": \"Nível do Cargo\", \"salario\": \"Total de Gastos em Salários\"}, axis=1).groupby(['Ano', 'Nível do Cargo'])['Total de Gastos em Salários'].sum()"
   ]
  },
  {
   "cell_type": "code",
   "execution_count": 42,
   "metadata": {
    "colab": {
     "base_uri": "https://localhost:8080/",
     "height": 235
    },
    "executionInfo": {
     "elapsed": 22,
     "status": "ok",
     "timestamp": 1635440442236,
     "user": {
      "displayName": "Cristina Aguiar",
      "photoUrl": "https://lh3.googleusercontent.com/a-/AOh14Ghm5-HutuB5OUCrYhu0nhLTQcZZyzBZhLySrDpjFQ=s64",
      "userId": "02805498492766545440"
     },
     "user_tz": 180
    },
    "id": "VdTB0c9JMk6F",
    "outputId": "4340344c-9950-4562-c689-94d6362ecdf1"
   },
   "outputs": [
    {
     "data": {
      "text/html": [
       "<div>\n",
       "<style scoped>\n",
       "    .dataframe tbody tr th:only-of-type {\n",
       "        vertical-align: middle;\n",
       "    }\n",
       "\n",
       "    .dataframe tbody tr th {\n",
       "        vertical-align: top;\n",
       "    }\n",
       "\n",
       "    .dataframe thead th {\n",
       "        text-align: right;\n",
       "    }\n",
       "</style>\n",
       "<table border=\"1\" class=\"dataframe\">\n",
       "  <thead>\n",
       "    <tr style=\"text-align: right;\">\n",
       "      <th>cargoNivel</th>\n",
       "      <th>JUNIOR</th>\n",
       "      <th>PLENO</th>\n",
       "      <th>SENIOR</th>\n",
       "    </tr>\n",
       "    <tr>\n",
       "      <th>dataAno</th>\n",
       "      <th></th>\n",
       "      <th></th>\n",
       "      <th></th>\n",
       "    </tr>\n",
       "  </thead>\n",
       "  <tbody>\n",
       "    <tr>\n",
       "      <th>2016</th>\n",
       "      <td>489456.84</td>\n",
       "      <td>1454152.44</td>\n",
       "      <td>2499007.80</td>\n",
       "    </tr>\n",
       "    <tr>\n",
       "      <th>2017</th>\n",
       "      <td>1030642.80</td>\n",
       "      <td>3791593.92</td>\n",
       "      <td>4953043.08</td>\n",
       "    </tr>\n",
       "    <tr>\n",
       "      <th>2018</th>\n",
       "      <td>1393282.20</td>\n",
       "      <td>5357227.44</td>\n",
       "      <td>8185016.76</td>\n",
       "    </tr>\n",
       "    <tr>\n",
       "      <th>2019</th>\n",
       "      <td>1755714.36</td>\n",
       "      <td>6132228.24</td>\n",
       "      <td>10679723.76</td>\n",
       "    </tr>\n",
       "    <tr>\n",
       "      <th>2020</th>\n",
       "      <td>1755714.36</td>\n",
       "      <td>6132228.24</td>\n",
       "      <td>10679723.76</td>\n",
       "    </tr>\n",
       "  </tbody>\n",
       "</table>\n",
       "</div>"
      ],
      "text/plain": [
       "cargoNivel      JUNIOR       PLENO       SENIOR\n",
       "dataAno                                        \n",
       "2016         489456.84  1454152.44   2499007.80\n",
       "2017        1030642.80  3791593.92   4953043.08\n",
       "2018        1393282.20  5357227.44   8185016.76\n",
       "2019        1755714.36  6132228.24  10679723.76\n",
       "2020        1755714.36  6132228.24  10679723.76"
      ]
     },
     "execution_count": 42,
     "metadata": {},
     "output_type": "execute_result"
    }
   ],
   "source": [
    "pagamentoDataCargo.groupby(['dataAno', 'cargoNivel'])['salario'].sum().unstack(level = 1)\n",
    "#pagamentoDataCargo.rename(mapper={\"dataAno\": \"Ano\", \"cargoNivel\": \"Nível do Cargo\", \"salario\": \"Total de Gastos em Salários\"}, axis=1).groupby(['Ano', 'Nível do Cargo'])['Total de Gastos em Salários'].sum().unstack(level = 1)"
   ]
  },
  {
   "cell_type": "code",
   "execution_count": 43,
   "metadata": {
    "colab": {
     "base_uri": "https://localhost:8080/",
     "height": 323
    },
    "executionInfo": {
     "elapsed": 21,
     "status": "ok",
     "timestamp": 1635440442236,
     "user": {
      "displayName": "Cristina Aguiar",
      "photoUrl": "https://lh3.googleusercontent.com/a-/AOh14Ghm5-HutuB5OUCrYhu0nhLTQcZZyzBZhLySrDpjFQ=s64",
      "userId": "02805498492766545440"
     },
     "user_tz": 180
    },
    "id": "4ijA_SFvL44m",
    "outputId": "5e07ad7a-8779-4f19-cc12-4a2a3f87e126"
   },
   "outputs": [
    {
     "data": {
      "image/png": "[encoded data removed]",
      "text/plain": [
       "<Figure size 432x288 with 1 Axes>"
      ]
     },
     "metadata": {
      "needs_background": "light"
     },
     "output_type": "display_data"
    }
   ],
   "source": [
    "pagamentoDataCargo.groupby(['dataAno', 'cargoNivel'])['salario'].sum().unstack(level = 1).plot(kind = 'bar', stacked = True);\n",
    "#pagamentoDataCargo.rename(mapper={\"dataAno\": \"Ano\", \"cargoNivel\": \"Nível do Cargo\", \"salario\": \"Total de Gastos em Salários\"}, axis=1).groupby(['Ano', 'Nível do Cargo'])['Total de Gastos em Salários'].sum().unstack(level = 1).plot(kind = 'bar', stacked = True)"
   ]
  },
  {
   "cell_type": "markdown",
   "metadata": {
    "id": "LxHcCpKwM06A"
   },
   "source": [
    "**Exemplo de consulta pivot:** Qual o valor gasto em salários por nível de cargo, considerando cada ano?"
   ]
  },
  {
   "cell_type": "code",
   "execution_count": 44,
   "metadata": {
    "colab": {
     "base_uri": "https://localhost:8080/"
    },
    "executionInfo": {
     "elapsed": 19,
     "status": "ok",
     "timestamp": 1635440442236,
     "user": {
      "displayName": "Cristina Aguiar",
      "photoUrl": "https://lh3.googleusercontent.com/a-/AOh14Ghm5-HutuB5OUCrYhu0nhLTQcZZyzBZhLySrDpjFQ=s64",
      "userId": "02805498492766545440"
     },
     "user_tz": 180
    },
    "id": "mx8fwIq8M5G1",
    "outputId": "f6cd9f7b-d163-43d5-97e5-7a32bf6c904e"
   },
   "outputs": [
    {
     "data": {
      "text/plain": [
       "cargoNivel  dataAno\n",
       "JUNIOR      2016         489456.84\n",
       "            2017        1030642.80\n",
       "            2018        1393282.20\n",
       "            2019        1755714.36\n",
       "            2020        1755714.36\n",
       "PLENO       2016        1454152.44\n",
       "            2017        3791593.92\n",
       "            2018        5357227.44\n",
       "            2019        6132228.24\n",
       "            2020        6132228.24\n",
       "SENIOR      2016        2499007.80\n",
       "            2017        4953043.08\n",
       "            2018        8185016.76\n",
       "            2019       10679723.76\n",
       "            2020       10679723.76\n",
       "Name: salario, dtype: float64"
      ]
     },
     "execution_count": 44,
     "metadata": {},
     "output_type": "execute_result"
    }
   ],
   "source": [
    "pagamentoDataCargo.groupby(['cargoNivel', 'dataAno'])['salario'].sum()\n",
    "#pagamentoDataCargo.rename(mapper={\"dataAno\": \"Ano\", \"cargoNivel\": \"Nível do Cargo\", \"salario\": \"Total de Gastos em Salários\"}, axis=1).groupby(['Nível do Cargo', 'Ano'])['Total de Gastos em Salários'].sum()"
   ]
  },
  {
   "cell_type": "code",
   "execution_count": 45,
   "metadata": {
    "colab": {
     "base_uri": "https://localhost:8080/",
     "height": 173
    },
    "executionInfo": {
     "elapsed": 19,
     "status": "ok",
     "timestamp": 1635440442237,
     "user": {
      "displayName": "Cristina Aguiar",
      "photoUrl": "https://lh3.googleusercontent.com/a-/AOh14Ghm5-HutuB5OUCrYhu0nhLTQcZZyzBZhLySrDpjFQ=s64",
      "userId": "02805498492766545440"
     },
     "user_tz": 180
    },
    "id": "srRiiO4aMxfs",
    "outputId": "f62792b0-28a0-4ec5-f372-a62acd8d8cc3"
   },
   "outputs": [
    {
     "data": {
      "text/html": [
       "<div>\n",
       "<style scoped>\n",
       "    .dataframe tbody tr th:only-of-type {\n",
       "        vertical-align: middle;\n",
       "    }\n",
       "\n",
       "    .dataframe tbody tr th {\n",
       "        vertical-align: top;\n",
       "    }\n",
       "\n",
       "    .dataframe thead th {\n",
       "        text-align: right;\n",
       "    }\n",
       "</style>\n",
       "<table border=\"1\" class=\"dataframe\">\n",
       "  <thead>\n",
       "    <tr style=\"text-align: right;\">\n",
       "      <th>dataAno</th>\n",
       "      <th>2016</th>\n",
       "      <th>2017</th>\n",
       "      <th>2018</th>\n",
       "      <th>2019</th>\n",
       "      <th>2020</th>\n",
       "    </tr>\n",
       "    <tr>\n",
       "      <th>cargoNivel</th>\n",
       "      <th></th>\n",
       "      <th></th>\n",
       "      <th></th>\n",
       "      <th></th>\n",
       "      <th></th>\n",
       "    </tr>\n",
       "  </thead>\n",
       "  <tbody>\n",
       "    <tr>\n",
       "      <th>JUNIOR</th>\n",
       "      <td>489456.84</td>\n",
       "      <td>1030642.80</td>\n",
       "      <td>1393282.20</td>\n",
       "      <td>1755714.36</td>\n",
       "      <td>1755714.36</td>\n",
       "    </tr>\n",
       "    <tr>\n",
       "      <th>PLENO</th>\n",
       "      <td>1454152.44</td>\n",
       "      <td>3791593.92</td>\n",
       "      <td>5357227.44</td>\n",
       "      <td>6132228.24</td>\n",
       "      <td>6132228.24</td>\n",
       "    </tr>\n",
       "    <tr>\n",
       "      <th>SENIOR</th>\n",
       "      <td>2499007.80</td>\n",
       "      <td>4953043.08</td>\n",
       "      <td>8185016.76</td>\n",
       "      <td>10679723.76</td>\n",
       "      <td>10679723.76</td>\n",
       "    </tr>\n",
       "  </tbody>\n",
       "</table>\n",
       "</div>"
      ],
      "text/plain": [
       "dataAno           2016        2017        2018         2019         2020\n",
       "cargoNivel                                                              \n",
       "JUNIOR       489456.84  1030642.80  1393282.20   1755714.36   1755714.36\n",
       "PLENO       1454152.44  3791593.92  5357227.44   6132228.24   6132228.24\n",
       "SENIOR      2499007.80  4953043.08  8185016.76  10679723.76  10679723.76"
      ]
     },
     "execution_count": 45,
     "metadata": {},
     "output_type": "execute_result"
    }
   ],
   "source": [
    "pagamentoDataCargo.groupby(['cargoNivel', 'dataAno'])['salario'].sum().unstack(level = 1)\n",
    "#pagamentoDataCargo.rename(mapper={\"dataAno\": \"Ano\", \"cargoNivel\": \"Nível do Cargo\", \"salario\": \"Total de Gastos em Salários\"}, axis=1).groupby(['Nível do Cargo', 'Ano'])['Total de Gastos em Salários'].sum().unstack(level = 1)"
   ]
  },
  {
   "cell_type": "code",
   "execution_count": 46,
   "metadata": {
    "colab": {
     "base_uri": "https://localhost:8080/",
     "height": 335
    },
    "executionInfo": {
     "elapsed": 19,
     "status": "ok",
     "timestamp": 1635440442237,
     "user": {
      "displayName": "Cristina Aguiar",
      "photoUrl": "https://lh3.googleusercontent.com/a-/AOh14Ghm5-HutuB5OUCrYhu0nhLTQcZZyzBZhLySrDpjFQ=s64",
      "userId": "02805498492766545440"
     },
     "user_tz": 180
    },
    "id": "T6KNaDl6MMUR",
    "outputId": "6be04360-50d5-4b3d-e034-d23e136c960c"
   },
   "outputs": [
    {
     "data": {
      "image/png": "[encoded data removed]",
      "text/plain": [
       "<Figure size 432x288 with 1 Axes>"
      ]
     },
     "metadata": {
      "needs_background": "light"
     },
     "output_type": "display_data"
    }
   ],
   "source": [
    "pagamentoDataCargo.groupby(['cargoNivel', 'dataAno'])['salario'].sum().unstack(level = 1).plot(kind = 'bar', stacked = True);\n",
    "#pagamentoDataCargo.rename(mapper={\"dataAno\": \"Ano\", \"cargoNivel\": \"Nível do Cargo\", \"salario\": \"Total de Gastos em Salários\"}, axis=1).groupby(['Nível do Cargo', 'Ano'])['Total de Gastos em Salários'].sum().unstack(level = 1).plot(kind = 'bar', stacked = True)"
   ]
  },
  {
   "cell_type": "markdown",
   "metadata": {
    "id": "3FNsObn_vVmp"
   },
   "source": [
    "### **EXERCÍCIO 4 (Essencial)**\n",
    "\n",
    "Qual é a receita média gerada pelos clientes considerando seus segmentos, em cada um dos anos?\n",
    "\n",
    "Realize o cálculo utilizando a tabela `negociacao`, a tabela `cliente` e a tabela `data`."
   ]
  },
  {
   "cell_type": "code",
   "execution_count": 49,
   "metadata": {
    "executionInfo": {
     "elapsed": 17,
     "status": "ok",
     "timestamp": 1635440442237,
     "user": {
      "displayName": "Cristina Aguiar",
      "photoUrl": "https://lh3.googleusercontent.com/a-/AOh14Ghm5-HutuB5OUCrYhu0nhLTQcZZyzBZhLySrDpjFQ=s64",
      "userId": "02805498492766545440"
     },
     "user_tz": 180
    },
    "id": "P1FrG2QDvVUm"
   },
   "outputs": [
    {
     "data": {
      "text/plain": [
       "dataAno  clienteSetor       \n",
       "2016     BEBIDAS E ALIMENTOS     2313051.80\n",
       "         CREDITO                  199656.60\n",
       "         SAUDE                    936247.45\n",
       "         TECNOLOGIA               569487.80\n",
       "         VESTUARIO                595803.30\n",
       "2017     BEBIDAS E ALIMENTOS     3705917.70\n",
       "         CREDITO                  589488.15\n",
       "         SAUDE                    816496.20\n",
       "         TECNOLOGIA              1413184.80\n",
       "         VESTUARIO                675336.50\n",
       "2018     BEBIDAS E ALIMENTOS     5842905.85\n",
       "         CREDITO                  708838.45\n",
       "         SAUDE                   1946482.00\n",
       "         TECNOLOGIA              1848238.90\n",
       "         VESTUARIO               1247074.45\n",
       "2019     BEBIDAS E ALIMENTOS    12127520.95\n",
       "         CREDITO                 2694386.65\n",
       "         SAUDE                   8164833.10\n",
       "         TECNOLOGIA              7360418.50\n",
       "         VESTUARIO               5006159.10\n",
       "2020     BEBIDAS E ALIMENTOS    11419389.60\n",
       "         CREDITO                 2429017.85\n",
       "         SAUDE                   6448553.70\n",
       "         TECNOLOGIA              5376703.00\n",
       "         VESTUARIO               4548511.80\n",
       "Name: receita, dtype: float64"
      ]
     },
     "execution_count": 49,
     "metadata": {},
     "output_type": "execute_result"
    }
   ],
   "source": [
    "# Resposta do exercício\n",
    "negociacaoData = negociacao.merge(data, on = 'dataPK')\n",
    "negociacaoDataCliente = negociacaoData.merge(cliente, on = 'clientePK')\n",
    "negociacaoDataCliente.groupby(['dataAno', 'clienteSetor'])['receita'].sum()"
   ]
  },
  {
   "cell_type": "markdown",
   "metadata": {
    "id": "gtUfi-M-wJqC"
   },
   "source": [
    "### **EXERCÍCIO 5 (Essencial)**\n",
    "\n",
    "Realize o pivot na resultado anterior e imprima os resultados em um gráfico de barras empilhadas."
   ]
  },
  {
   "cell_type": "code",
   "execution_count": 51,
   "metadata": {
    "executionInfo": {
     "elapsed": 17,
     "status": "ok",
     "timestamp": 1635440442237,
     "user": {
      "displayName": "Cristina Aguiar",
      "photoUrl": "https://lh3.googleusercontent.com/a-/AOh14Ghm5-HutuB5OUCrYhu0nhLTQcZZyzBZhLySrDpjFQ=s64",
      "userId": "02805498492766545440"
     },
     "user_tz": 180
    },
    "id": "kqfNJP5SwKhp"
   },
   "outputs": [
    {
     "data": {
      "image/png": "[encoded data removed]",
      "text/plain": [
       "<Figure size 432x288 with 1 Axes>"
      ]
     },
     "metadata": {
      "needs_background": "light"
     },
     "output_type": "display_data"
    }
   ],
   "source": [
    "# Resposta do exercício\n",
    "negociacaoDataCliente.groupby(['dataAno', 'clienteSetor'])['receita'].sum().unstack(level = 1).plot(kind = 'bar', stacked = True);"
   ]
  },
  {
   "cell_type": "markdown",
   "metadata": {
    "id": "UtJILugUN2K_"
   },
   "source": [
    "## 3.4 Operação Drill-Across\n",
    "\n",
    "**Definição:** Compara medidas numéricas de tabelas de fatos diferentes, utilizando pelo menos uma dimensão em comum. \n",
    "\n",
    "**Exemplo de consulta:** Qual o total gasto com salários e qual o total de receitas recebidas, considerando cada ano?"
   ]
  },
  {
   "cell_type": "code",
   "execution_count": 52,
   "metadata": {
    "executionInfo": {
     "elapsed": 18,
     "status": "ok",
     "timestamp": 1635440442238,
     "user": {
      "displayName": "Cristina Aguiar",
      "photoUrl": "https://lh3.googleusercontent.com/a-/AOh14Ghm5-HutuB5OUCrYhu0nhLTQcZZyzBZhLySrDpjFQ=s64",
      "userId": "02805498492766545440"
     },
     "user_tz": 180
    },
    "id": "6tk46fphJG-B"
   },
   "outputs": [],
   "source": [
    "#total gasto em salários considerando cada ano\n",
    "#dados obtidos utilizando a tabela de fatos pagamento\n",
    "pagamentoData = pagamento.merge(data, on = 'dataPK') \n",
    "pagamentoAno = pagamentoData.groupby(['dataAno'])['salario'].sum().to_frame()"
   ]
  },
  {
   "cell_type": "code",
   "execution_count": 53,
   "metadata": {
    "executionInfo": {
     "elapsed": 18,
     "status": "ok",
     "timestamp": 1635440442238,
     "user": {
      "displayName": "Cristina Aguiar",
      "photoUrl": "https://lh3.googleusercontent.com/a-/AOh14Ghm5-HutuB5OUCrYhu0nhLTQcZZyzBZhLySrDpjFQ=s64",
      "userId": "02805498492766545440"
     },
     "user_tz": 180
    },
    "id": "R_59AnBdKCGE"
   },
   "outputs": [],
   "source": [
    "#total de receitas recebidas, considerando cada ano\n",
    "#dados obtidos utilizando a tabela de fatos negociacao\n",
    "negociacaoData = negociacao.merge(data, on = 'dataPK')\n",
    "negociacaoAno = negociacaoData.groupby(['dataAno'])['receita'].sum().to_frame()"
   ]
  },
  {
   "cell_type": "code",
   "execution_count": 54,
   "metadata": {
    "colab": {
     "base_uri": "https://localhost:8080/",
     "height": 235
    },
    "executionInfo": {
     "elapsed": 18,
     "status": "ok",
     "timestamp": 1635440442238,
     "user": {
      "displayName": "Cristina Aguiar",
      "photoUrl": "https://lh3.googleusercontent.com/a-/AOh14Ghm5-HutuB5OUCrYhu0nhLTQcZZyzBZhLySrDpjFQ=s64",
      "userId": "02805498492766545440"
     },
     "user_tz": 180
    },
    "id": "BWwwf2VsKE2q",
    "outputId": "9a2735f6-ba44-4a6f-80ac-6947dcce2fa5"
   },
   "outputs": [
    {
     "data": {
      "text/html": [
       "<div>\n",
       "<style scoped>\n",
       "    .dataframe tbody tr th:only-of-type {\n",
       "        vertical-align: middle;\n",
       "    }\n",
       "\n",
       "    .dataframe tbody tr th {\n",
       "        vertical-align: top;\n",
       "    }\n",
       "\n",
       "    .dataframe thead th {\n",
       "        text-align: right;\n",
       "    }\n",
       "</style>\n",
       "<table border=\"1\" class=\"dataframe\">\n",
       "  <thead>\n",
       "    <tr style=\"text-align: right;\">\n",
       "      <th></th>\n",
       "      <th>salario</th>\n",
       "      <th>receita</th>\n",
       "    </tr>\n",
       "    <tr>\n",
       "      <th>dataAno</th>\n",
       "      <th></th>\n",
       "      <th></th>\n",
       "    </tr>\n",
       "  </thead>\n",
       "  <tbody>\n",
       "    <tr>\n",
       "      <th>2016</th>\n",
       "      <td>4442617.08</td>\n",
       "      <td>4614246.95</td>\n",
       "    </tr>\n",
       "    <tr>\n",
       "      <th>2017</th>\n",
       "      <td>9775279.80</td>\n",
       "      <td>7200423.35</td>\n",
       "    </tr>\n",
       "    <tr>\n",
       "      <th>2018</th>\n",
       "      <td>14935526.40</td>\n",
       "      <td>11593539.65</td>\n",
       "    </tr>\n",
       "    <tr>\n",
       "      <th>2019</th>\n",
       "      <td>18567666.36</td>\n",
       "      <td>35353318.30</td>\n",
       "    </tr>\n",
       "    <tr>\n",
       "      <th>2020</th>\n",
       "      <td>18567666.36</td>\n",
       "      <td>30222175.95</td>\n",
       "    </tr>\n",
       "  </tbody>\n",
       "</table>\n",
       "</div>"
      ],
      "text/plain": [
       "             salario      receita\n",
       "dataAno                          \n",
       "2016      4442617.08   4614246.95\n",
       "2017      9775279.80   7200423.35\n",
       "2018     14935526.40  11593539.65\n",
       "2019     18567666.36  35353318.30\n",
       "2020     18567666.36  30222175.95"
      ]
     },
     "execution_count": 54,
     "metadata": {},
     "output_type": "execute_result"
    }
   ],
   "source": [
    "#relacionado as medidas numéricas presentes nas duas tabelas de fatos\n",
    "pagamentoAno.merge(negociacaoAno, on = 'dataAno')"
   ]
  },
  {
   "cell_type": "code",
   "execution_count": 55,
   "metadata": {
    "colab": {
     "base_uri": "https://localhost:8080/",
     "height": 307
    },
    "executionInfo": {
     "elapsed": 1083,
     "status": "ok",
     "timestamp": 1635440443304,
     "user": {
      "displayName": "Cristina Aguiar",
      "photoUrl": "https://lh3.googleusercontent.com/a-/AOh14Ghm5-HutuB5OUCrYhu0nhLTQcZZyzBZhLySrDpjFQ=s64",
      "userId": "02805498492766545440"
     },
     "user_tz": 180
    },
    "id": "09-Cjk0DOB4q",
    "outputId": "09a5673a-9730-495d-99b6-de16fe3c77b5"
   },
   "outputs": [
    {
     "data": {
      "image/png": "[encoded data removed]",
      "text/plain": [
       "<Figure size 432x288 with 1 Axes>"
      ]
     },
     "metadata": {
      "needs_background": "light"
     },
     "output_type": "display_data"
    }
   ],
   "source": [
    "pagamentoAno.merge(negociacaoAno, on = 'dataAno').plot();"
   ]
  },
  {
   "cell_type": "markdown",
   "metadata": {
    "id": "h1qyZMktxuwc"
   },
   "source": [
    "### **EXERCÍCIO 6 (Essencial)**\n",
    "\n",
    "Qual é o total dos salários e qual o total de receitas recebidas, considerando apenas os anos de 2017, 2018 e 2019?\n",
    "\n",
    "Realize o cálculo utilizando as tabelas `negociacao`, `pagamento` e filtre os anos pela tabela `data` (dica: 'Slice and Dice')."
   ]
  },
  {
   "cell_type": "code",
   "execution_count": 58,
   "metadata": {
    "executionInfo": {
     "elapsed": 24,
     "status": "ok",
     "timestamp": 1635440443304,
     "user": {
      "displayName": "Cristina Aguiar",
      "photoUrl": "https://lh3.googleusercontent.com/a-/AOh14Ghm5-HutuB5OUCrYhu0nhLTQcZZyzBZhLySrDpjFQ=s64",
      "userId": "02805498492766545440"
     },
     "user_tz": 180
    },
    "id": "fxrT96tTyWsI"
   },
   "outputs": [],
   "source": [
    "# Resposta do exercício\n",
    "dataFiltrada = data.query('dataAno >= 2017 and dataAno <= 2019')\n",
    "# dataFiltrada = data.query('dataAno in [2017, 2018, 2019]')"
   ]
  },
  {
   "cell_type": "code",
   "execution_count": 60,
   "metadata": {},
   "outputs": [
    {
     "data": {
      "text/html": [
       "<div>\n",
       "<style scoped>\n",
       "    .dataframe tbody tr th:only-of-type {\n",
       "        vertical-align: middle;\n",
       "    }\n",
       "\n",
       "    .dataframe tbody tr th {\n",
       "        vertical-align: top;\n",
       "    }\n",
       "\n",
       "    .dataframe thead th {\n",
       "        text-align: right;\n",
       "    }\n",
       "</style>\n",
       "<table border=\"1\" class=\"dataframe\">\n",
       "  <thead>\n",
       "    <tr style=\"text-align: right;\">\n",
       "      <th></th>\n",
       "      <th>salario</th>\n",
       "    </tr>\n",
       "    <tr>\n",
       "      <th>dataAno</th>\n",
       "      <th></th>\n",
       "    </tr>\n",
       "  </thead>\n",
       "  <tbody>\n",
       "    <tr>\n",
       "      <th>2017</th>\n",
       "      <td>9775279.80</td>\n",
       "    </tr>\n",
       "    <tr>\n",
       "      <th>2018</th>\n",
       "      <td>14935526.40</td>\n",
       "    </tr>\n",
       "    <tr>\n",
       "      <th>2019</th>\n",
       "      <td>18567666.36</td>\n",
       "    </tr>\n",
       "  </tbody>\n",
       "</table>\n",
       "</div>"
      ],
      "text/plain": [
       "             salario\n",
       "dataAno             \n",
       "2017      9775279.80\n",
       "2018     14935526.40\n",
       "2019     18567666.36"
      ]
     },
     "execution_count": 60,
     "metadata": {},
     "output_type": "execute_result"
    }
   ],
   "source": [
    "#total gasto em salários considerando cada ano\n",
    "#dados obtidos utilizando a tabela de fatos pagamento\n",
    "pagamentoData = pagamento.merge(dataFiltrada, on = 'dataPK') \n",
    "pagamentoAno = pagamentoData.groupby(['dataAno'])['salario'].sum().to_frame()\n",
    "pagamentoAno.head()"
   ]
  },
  {
   "cell_type": "code",
   "execution_count": 61,
   "metadata": {},
   "outputs": [
    {
     "data": {
      "text/html": [
       "<div>\n",
       "<style scoped>\n",
       "    .dataframe tbody tr th:only-of-type {\n",
       "        vertical-align: middle;\n",
       "    }\n",
       "\n",
       "    .dataframe tbody tr th {\n",
       "        vertical-align: top;\n",
       "    }\n",
       "\n",
       "    .dataframe thead th {\n",
       "        text-align: right;\n",
       "    }\n",
       "</style>\n",
       "<table border=\"1\" class=\"dataframe\">\n",
       "  <thead>\n",
       "    <tr style=\"text-align: right;\">\n",
       "      <th></th>\n",
       "      <th>receita</th>\n",
       "    </tr>\n",
       "    <tr>\n",
       "      <th>dataAno</th>\n",
       "      <th></th>\n",
       "    </tr>\n",
       "  </thead>\n",
       "  <tbody>\n",
       "    <tr>\n",
       "      <th>2017</th>\n",
       "      <td>7200423.35</td>\n",
       "    </tr>\n",
       "    <tr>\n",
       "      <th>2018</th>\n",
       "      <td>11593539.65</td>\n",
       "    </tr>\n",
       "    <tr>\n",
       "      <th>2019</th>\n",
       "      <td>35353318.30</td>\n",
       "    </tr>\n",
       "  </tbody>\n",
       "</table>\n",
       "</div>"
      ],
      "text/plain": [
       "             receita\n",
       "dataAno             \n",
       "2017      7200423.35\n",
       "2018     11593539.65\n",
       "2019     35353318.30"
      ]
     },
     "execution_count": 61,
     "metadata": {},
     "output_type": "execute_result"
    }
   ],
   "source": [
    "#total de receitas recebidas, considerando cada ano\n",
    "#dados obtidos utilizando a tabela de fatos negociacao\n",
    "negociacaoData = negociacao.merge(dataFiltrada, on = 'dataPK')\n",
    "negociacaoAno = negociacaoData.groupby(['dataAno'])['receita'].sum().to_frame()\n",
    "negociacaoAno.head()"
   ]
  },
  {
   "cell_type": "code",
   "execution_count": 62,
   "metadata": {},
   "outputs": [
    {
     "data": {
      "text/html": [
       "<div>\n",
       "<style scoped>\n",
       "    .dataframe tbody tr th:only-of-type {\n",
       "        vertical-align: middle;\n",
       "    }\n",
       "\n",
       "    .dataframe tbody tr th {\n",
       "        vertical-align: top;\n",
       "    }\n",
       "\n",
       "    .dataframe thead th {\n",
       "        text-align: right;\n",
       "    }\n",
       "</style>\n",
       "<table border=\"1\" class=\"dataframe\">\n",
       "  <thead>\n",
       "    <tr style=\"text-align: right;\">\n",
       "      <th></th>\n",
       "      <th>salario</th>\n",
       "      <th>receita</th>\n",
       "    </tr>\n",
       "    <tr>\n",
       "      <th>dataAno</th>\n",
       "      <th></th>\n",
       "      <th></th>\n",
       "    </tr>\n",
       "  </thead>\n",
       "  <tbody>\n",
       "    <tr>\n",
       "      <th>2017</th>\n",
       "      <td>9775279.80</td>\n",
       "      <td>7200423.35</td>\n",
       "    </tr>\n",
       "    <tr>\n",
       "      <th>2018</th>\n",
       "      <td>14935526.40</td>\n",
       "      <td>11593539.65</td>\n",
       "    </tr>\n",
       "    <tr>\n",
       "      <th>2019</th>\n",
       "      <td>18567666.36</td>\n",
       "      <td>35353318.30</td>\n",
       "    </tr>\n",
       "  </tbody>\n",
       "</table>\n",
       "</div>"
      ],
      "text/plain": [
       "             salario      receita\n",
       "dataAno                          \n",
       "2017      9775279.80   7200423.35\n",
       "2018     14935526.40  11593539.65\n",
       "2019     18567666.36  35353318.30"
      ]
     },
     "execution_count": 62,
     "metadata": {},
     "output_type": "execute_result"
    }
   ],
   "source": [
    "#relacionado as medidas numéricas presentes nas duas tabelas de fatos\n",
    "pagamentoAno.merge(negociacaoAno, on = 'dataAno')"
   ]
  },
  {
   "cell_type": "markdown",
   "metadata": {
    "id": "emJmL6bMxvkA"
   },
   "source": [
    "### **EXERCÍCIO 7 (Essencial)**\n",
    "\n",
    "Imprima o resultado anterior em um gráfico de barras."
   ]
  },
  {
   "cell_type": "code",
   "execution_count": 65,
   "metadata": {
    "executionInfo": {
     "elapsed": 25,
     "status": "ok",
     "timestamp": 1635440443305,
     "user": {
      "displayName": "Cristina Aguiar",
      "photoUrl": "https://lh3.googleusercontent.com/a-/AOh14Ghm5-HutuB5OUCrYhu0nhLTQcZZyzBZhLySrDpjFQ=s64",
      "userId": "02805498492766545440"
     },
     "user_tz": 180
    },
    "id": "XpjxS3_6xv64"
   },
   "outputs": [
    {
     "data": {
      "image/png": "[encoded data removed]",
      "text/plain": [
       "<Figure size 432x288 with 1 Axes>"
      ]
     },
     "metadata": {
      "needs_background": "light"
     },
     "output_type": "display_data"
    }
   ],
   "source": [
    "# Resposta do exercício\n",
    "pagamentoAno.merge(negociacaoAno, on = 'dataAno').plot(kind='bar');"
   ]
  },
  {
   "cell_type": "markdown",
   "metadata": {
    "id": "CWG-aJ1rC8D8"
   },
   "source": [
    "# 3 Execução de Consultas com Foco na Tomada de Decisão\n",
    "\n",
    "As consultas OLAP requisitadas por usuários de sistemas de suporte à decisão usualmente requerem que várias operações OLAP sejam realizadas simultaneamente. A seguir são ilustrados exemplos de consultas OLAP que podem ser requisitadas para a tomada de decisão estratégica."
   ]
  },
  {
   "cell_type": "markdown",
   "metadata": {
    "id": "OcaRLxX_Jd1w"
   },
   "source": [
    "## 3.1 Consulta 1\n",
    "\n",
    "**Consulta:** Qual é a média dos salários recebidos por nível do cargo e por sexo no ano passado, sendo que o ano passado se refere ao ano de 2019?\n",
    "\n",
    "Para se realizar esta consulta, é necessário obter dados das tabelas de dimensão `cargo`, `funcionario` e `data`, bem como da tabela de fatos `pagamento`. A junção estrela deve ocorrer considerando as seguintes integridades referenciais:\n",
    "- `pagamento.cargoPK = cargo.cargoPK`\n",
    "- `pagamento.funcPK = funcionario.funcPK`\n",
    "- `pagamento.dataPK = data.dataPK` "
   ]
  },
  {
   "cell_type": "code",
   "execution_count": 66,
   "metadata": {
    "colab": {
     "base_uri": "https://localhost:8080/"
    },
    "executionInfo": {
     "elapsed": 24,
     "status": "ok",
     "timestamp": 1635440443305,
     "user": {
      "displayName": "Cristina Aguiar",
      "photoUrl": "https://lh3.googleusercontent.com/a-/AOh14Ghm5-HutuB5OUCrYhu0nhLTQcZZyzBZhLySrDpjFQ=s64",
      "userId": "02805498492766545440"
     },
     "user_tz": 180
    },
    "id": "bYNbMwYCnrFj",
    "outputId": "0e677109-3bc8-42ab-c0fa-c5ccd0ea9903"
   },
   "outputs": [
    {
     "data": {
      "text/plain": [
       "cargoNivel  funcSexo\n",
       "JUNIOR      F            2440.233125\n",
       "            M            2437.859091\n",
       "PLENO       F            7641.937619\n",
       "            M            6259.613036\n",
       "SENIOR      F           12994.190000\n",
       "            M           14480.502708\n",
       "Name: salario, dtype: float64"
      ]
     },
     "execution_count": 66,
     "metadata": {},
     "output_type": "execute_result"
    }
   ],
   "source": [
    "dataFiltrada = data.query('dataAno == 2019')\n",
    "pagamentoData = pagamento.merge(dataFiltrada, on = 'dataPK')\n",
    "pagamentoDataFunc = pagamentoData.merge(funcionario, on = 'funcPK')\n",
    "pagamentoDataFuncCargo = pagamentoDataFunc.merge(cargo, on = 'cargoPK')\n",
    "pagamentoDataFuncCargo.groupby(['cargoNivel','funcSexo'])['salario'].mean()"
   ]
  },
  {
   "cell_type": "code",
   "execution_count": 67,
   "metadata": {
    "colab": {
     "base_uri": "https://localhost:8080/",
     "height": 173
    },
    "executionInfo": {
     "elapsed": 22,
     "status": "ok",
     "timestamp": 1635440443305,
     "user": {
      "displayName": "Cristina Aguiar",
      "photoUrl": "https://lh3.googleusercontent.com/a-/AOh14Ghm5-HutuB5OUCrYhu0nhLTQcZZyzBZhLySrDpjFQ=s64",
      "userId": "02805498492766545440"
     },
     "user_tz": 180
    },
    "id": "u5lZ7O9dPh2a",
    "outputId": "da93b43e-7896-401c-81eb-6dd9489f02fb"
   },
   "outputs": [
    {
     "data": {
      "text/html": [
       "<div>\n",
       "<style scoped>\n",
       "    .dataframe tbody tr th:only-of-type {\n",
       "        vertical-align: middle;\n",
       "    }\n",
       "\n",
       "    .dataframe tbody tr th {\n",
       "        vertical-align: top;\n",
       "    }\n",
       "\n",
       "    .dataframe thead th {\n",
       "        text-align: right;\n",
       "    }\n",
       "</style>\n",
       "<table border=\"1\" class=\"dataframe\">\n",
       "  <thead>\n",
       "    <tr style=\"text-align: right;\">\n",
       "      <th>funcSexo</th>\n",
       "      <th>F</th>\n",
       "      <th>M</th>\n",
       "    </tr>\n",
       "    <tr>\n",
       "      <th>cargoNivel</th>\n",
       "      <th></th>\n",
       "      <th></th>\n",
       "    </tr>\n",
       "  </thead>\n",
       "  <tbody>\n",
       "    <tr>\n",
       "      <th>JUNIOR</th>\n",
       "      <td>2440.233125</td>\n",
       "      <td>2437.859091</td>\n",
       "    </tr>\n",
       "    <tr>\n",
       "      <th>PLENO</th>\n",
       "      <td>7641.937619</td>\n",
       "      <td>6259.613036</td>\n",
       "    </tr>\n",
       "    <tr>\n",
       "      <th>SENIOR</th>\n",
       "      <td>12994.190000</td>\n",
       "      <td>14480.502708</td>\n",
       "    </tr>\n",
       "  </tbody>\n",
       "</table>\n",
       "</div>"
      ],
      "text/plain": [
       "funcSexo               F             M\n",
       "cargoNivel                            \n",
       "JUNIOR       2440.233125   2437.859091\n",
       "PLENO        7641.937619   6259.613036\n",
       "SENIOR      12994.190000  14480.502708"
      ]
     },
     "execution_count": 67,
     "metadata": {},
     "output_type": "execute_result"
    }
   ],
   "source": [
    "pagamentoDataFuncCargo.groupby(['cargoNivel','funcSexo'])['salario'].mean().unstack(level = 1)"
   ]
  },
  {
   "cell_type": "code",
   "execution_count": 68,
   "metadata": {
    "colab": {
     "base_uri": "https://localhost:8080/",
     "height": 324
    },
    "executionInfo": {
     "elapsed": 21,
     "status": "ok",
     "timestamp": 1635440443305,
     "user": {
      "displayName": "Cristina Aguiar",
      "photoUrl": "https://lh3.googleusercontent.com/a-/AOh14Ghm5-HutuB5OUCrYhu0nhLTQcZZyzBZhLySrDpjFQ=s64",
      "userId": "02805498492766545440"
     },
     "user_tz": 180
    },
    "id": "jm31TL76Pp9f",
    "outputId": "bf237c60-ab9f-4c36-ea22-3a9f233deb03"
   },
   "outputs": [
    {
     "data": {
      "image/png": "[encoded data removed]",
      "text/plain": [
       "<Figure size 432x288 with 1 Axes>"
      ]
     },
     "metadata": {
      "needs_background": "light"
     },
     "output_type": "display_data"
    }
   ],
   "source": [
    "pagamentoDataFuncCargo.groupby(['cargoNivel','funcSexo'])['salario'].mean().unstack(level = 1).plot(kind = 'bar');"
   ]
  },
  {
   "cell_type": "markdown",
   "metadata": {
    "id": "varyr5djDP2s"
   },
   "source": [
    "## 3.2 Consulta 2\n",
    "\n",
    "**Consulta:** Qual o total de gastos em salários considerando os estados nos quais as equipes estão localizadas no trimestre 3 do ano de 2020? \n",
    "\n",
    "Para se realizar esta consulta, é necessário obter dados das tabelas de dimensão `equipe` e `data`, bem como da tabela de fatos `pagamento`. A junção estrela deve ocorrer considerando as seguintes integridades referenciais:\n",
    "- `pagamento.dataPK = data.dataPK`\n",
    "- `pagamento.equipePK = equipe.equipePK`\n"
   ]
  },
  {
   "cell_type": "code",
   "execution_count": 69,
   "metadata": {
    "colab": {
     "base_uri": "https://localhost:8080/"
    },
    "executionInfo": {
     "elapsed": 20,
     "status": "ok",
     "timestamp": 1635440443306,
     "user": {
      "displayName": "Cristina Aguiar",
      "photoUrl": "https://lh3.googleusercontent.com/a-/AOh14Ghm5-HutuB5OUCrYhu0nhLTQcZZyzBZhLySrDpjFQ=s64",
      "userId": "02805498492766545440"
     },
     "user_tz": 180
    },
    "id": "iQNmKiKTqNy8",
    "outputId": "c4fb5aaa-8b8d-4fd1-b315-a8db64aa2467"
   },
   "outputs": [
    {
     "data": {
      "text/plain": [
       "filialEstadoNome\n",
       "PERNAMBUCO             438121.26\n",
       "MATO GROSSO DO SUL    1013857.74\n",
       "RIO DE JANEIRO        1258479.57\n",
       "SAO PAULO             1931458.02\n",
       "Name: salario, dtype: float64"
      ]
     },
     "execution_count": 69,
     "metadata": {},
     "output_type": "execute_result"
    }
   ],
   "source": [
    "dataFiltrada = data.query('dataTrimestre == 3 and dataAno == 2020')\n",
    "pagamentoData = pagamento.merge(dataFiltrada, on = 'dataPK')\n",
    "pagamentoDataEquipe = pagamentoData.merge(equipe, on = 'equipePK')\n",
    "pagamentoDataEquipe.groupby(['filialEstadoNome'])['salario'].sum().sort_values()"
   ]
  },
  {
   "cell_type": "code",
   "execution_count": 70,
   "metadata": {
    "colab": {
     "base_uri": "https://localhost:8080/",
     "height": 412
    },
    "executionInfo": {
     "elapsed": 19,
     "status": "ok",
     "timestamp": 1635440443306,
     "user": {
      "displayName": "Cristina Aguiar",
      "photoUrl": "https://lh3.googleusercontent.com/a-/AOh14Ghm5-HutuB5OUCrYhu0nhLTQcZZyzBZhLySrDpjFQ=s64",
      "userId": "02805498492766545440"
     },
     "user_tz": 180
    },
    "id": "CxoohO3KPXAj",
    "outputId": "515ff8b6-e531-499e-9495-e8e748682fae"
   },
   "outputs": [
    {
     "data": {
      "image/png": "[encoded data removed]",
      "text/plain": [
       "<Figure size 432x288 with 1 Axes>"
      ]
     },
     "metadata": {
      "needs_background": "light"
     },
     "output_type": "display_data"
    }
   ],
   "source": [
    "pagamentoDataEquipe.groupby(['filialEstadoNome'])['salario'].sum().sort_values().plot(kind = 'bar');"
   ]
  },
  {
   "cell_type": "markdown",
   "metadata": {
    "id": "Pk2HFKOQIvAs"
   },
   "source": [
    "## 3.3 Consulta 3\n",
    "\n",
    "**Consulta:** Qual o custo/benefício das equipes quando analisado o semestre 1 do ano de 2020?\n",
    "\n",
    "A idea da consulta é relacionar os gastos em salários e os ganhos em receitas considerando cada equipe e o período especificado. Portanto, para se realizar essa consulta, é necessário obter dados das tabelas de dimensão `equipe` e `data`, bem como das tabelas de fatos `pagamento` e `negociacao`. \n",
    "\n",
    " A junção estrela deve ocorrer considerando as seguintes integridades referenciais:\n",
    "- `pagamento.dataPK = data.dataPK`\n",
    "- `pagamento.equipePK = equipe.equipe.PK`\n",
    "- `negociacao.dataPK = data.dataPK`\n",
    "- `negociacao.equipePK = equipe.equipe.PK`\n"
   ]
  },
  {
   "cell_type": "code",
   "execution_count": 71,
   "metadata": {
    "colab": {
     "base_uri": "https://localhost:8080/",
     "height": 390
    },
    "executionInfo": {
     "elapsed": 18,
     "status": "ok",
     "timestamp": 1635440443306,
     "user": {
      "displayName": "Cristina Aguiar",
      "photoUrl": "https://lh3.googleusercontent.com/a-/AOh14Ghm5-HutuB5OUCrYhu0nhLTQcZZyzBZhLySrDpjFQ=s64",
      "userId": "02805498492766545440"
     },
     "user_tz": 180
    },
    "id": "wY3yxSpktBfc",
    "outputId": "46ab50bd-042a-4ee8-a73f-d117d32ea7c2"
   },
   "outputs": [
    {
     "data": {
      "text/html": [
       "<div>\n",
       "<style scoped>\n",
       "    .dataframe tbody tr th:only-of-type {\n",
       "        vertical-align: middle;\n",
       "    }\n",
       "\n",
       "    .dataframe tbody tr th {\n",
       "        vertical-align: top;\n",
       "    }\n",
       "\n",
       "    .dataframe thead th {\n",
       "        text-align: right;\n",
       "    }\n",
       "</style>\n",
       "<table border=\"1\" class=\"dataframe\">\n",
       "  <thead>\n",
       "    <tr style=\"text-align: right;\">\n",
       "      <th></th>\n",
       "      <th>salario</th>\n",
       "    </tr>\n",
       "    <tr>\n",
       "      <th>equipePK</th>\n",
       "      <th></th>\n",
       "    </tr>\n",
       "  </thead>\n",
       "  <tbody>\n",
       "    <tr>\n",
       "      <th>1</th>\n",
       "      <td>1160327.40</td>\n",
       "    </tr>\n",
       "    <tr>\n",
       "      <th>2</th>\n",
       "      <td>1060981.14</td>\n",
       "    </tr>\n",
       "    <tr>\n",
       "      <th>3</th>\n",
       "      <td>1177330.32</td>\n",
       "    </tr>\n",
       "    <tr>\n",
       "      <th>4</th>\n",
       "      <td>579893.94</td>\n",
       "    </tr>\n",
       "    <tr>\n",
       "      <th>5</th>\n",
       "      <td>909107.10</td>\n",
       "    </tr>\n",
       "    <tr>\n",
       "      <th>6</th>\n",
       "      <td>585430.86</td>\n",
       "    </tr>\n",
       "    <tr>\n",
       "      <th>7</th>\n",
       "      <td>876084.06</td>\n",
       "    </tr>\n",
       "    <tr>\n",
       "      <th>8</th>\n",
       "      <td>1118608.38</td>\n",
       "    </tr>\n",
       "    <tr>\n",
       "      <th>9</th>\n",
       "      <td>939827.46</td>\n",
       "    </tr>\n",
       "    <tr>\n",
       "      <th>10</th>\n",
       "      <td>876242.52</td>\n",
       "    </tr>\n",
       "  </tbody>\n",
       "</table>\n",
       "</div>"
      ],
      "text/plain": [
       "             salario\n",
       "equipePK            \n",
       "1         1160327.40\n",
       "2         1060981.14\n",
       "3         1177330.32\n",
       "4          579893.94\n",
       "5          909107.10\n",
       "6          585430.86\n",
       "7          876084.06\n",
       "8         1118608.38\n",
       "9          939827.46\n",
       "10         876242.52"
      ]
     },
     "execution_count": 71,
     "metadata": {},
     "output_type": "execute_result"
    }
   ],
   "source": [
    "#investigando os gastos em salarios de cada equipe no último semestre ano \n",
    "dataFiltrada = data.query('dataSemestre == 1 and dataAno == 2020')\n",
    "pagamentoData = dataFiltrada.merge(pagamento, on = 'dataPK' )\n",
    "pagamentoDataEquipe = pagamentoData.groupby(['equipePK'])['salario'].sum().to_frame() \n",
    "pagamentoDataEquipe.head(10)"
   ]
  },
  {
   "cell_type": "code",
   "execution_count": 72,
   "metadata": {
    "colab": {
     "base_uri": "https://localhost:8080/",
     "height": 390
    },
    "executionInfo": {
     "elapsed": 18,
     "status": "ok",
     "timestamp": 1635440443306,
     "user": {
      "displayName": "Cristina Aguiar",
      "photoUrl": "https://lh3.googleusercontent.com/a-/AOh14Ghm5-HutuB5OUCrYhu0nhLTQcZZyzBZhLySrDpjFQ=s64",
      "userId": "02805498492766545440"
     },
     "user_tz": 180
    },
    "id": "yWP9YbmW3E58",
    "outputId": "1b3ed593-bc0e-45f9-d5b8-a388a80517ce"
   },
   "outputs": [
    {
     "data": {
      "text/html": [
       "<div>\n",
       "<style scoped>\n",
       "    .dataframe tbody tr th:only-of-type {\n",
       "        vertical-align: middle;\n",
       "    }\n",
       "\n",
       "    .dataframe tbody tr th {\n",
       "        vertical-align: top;\n",
       "    }\n",
       "\n",
       "    .dataframe thead th {\n",
       "        text-align: right;\n",
       "    }\n",
       "</style>\n",
       "<table border=\"1\" class=\"dataframe\">\n",
       "  <thead>\n",
       "    <tr style=\"text-align: right;\">\n",
       "      <th></th>\n",
       "      <th>receita</th>\n",
       "    </tr>\n",
       "    <tr>\n",
       "      <th>equipePK</th>\n",
       "      <th></th>\n",
       "    </tr>\n",
       "  </thead>\n",
       "  <tbody>\n",
       "    <tr>\n",
       "      <th>1</th>\n",
       "      <td>1259907.25</td>\n",
       "    </tr>\n",
       "    <tr>\n",
       "      <th>2</th>\n",
       "      <td>1338994.40</td>\n",
       "    </tr>\n",
       "    <tr>\n",
       "      <th>3</th>\n",
       "      <td>340461.30</td>\n",
       "    </tr>\n",
       "    <tr>\n",
       "      <th>4</th>\n",
       "      <td>340130.65</td>\n",
       "    </tr>\n",
       "    <tr>\n",
       "      <th>5</th>\n",
       "      <td>614747.70</td>\n",
       "    </tr>\n",
       "    <tr>\n",
       "      <th>6</th>\n",
       "      <td>736591.35</td>\n",
       "    </tr>\n",
       "    <tr>\n",
       "      <th>7</th>\n",
       "      <td>722758.45</td>\n",
       "    </tr>\n",
       "    <tr>\n",
       "      <th>8</th>\n",
       "      <td>538659.30</td>\n",
       "    </tr>\n",
       "    <tr>\n",
       "      <th>9</th>\n",
       "      <td>4994717.70</td>\n",
       "    </tr>\n",
       "    <tr>\n",
       "      <th>10</th>\n",
       "      <td>4664745.70</td>\n",
       "    </tr>\n",
       "  </tbody>\n",
       "</table>\n",
       "</div>"
      ],
      "text/plain": [
       "             receita\n",
       "equipePK            \n",
       "1         1259907.25\n",
       "2         1338994.40\n",
       "3          340461.30\n",
       "4          340130.65\n",
       "5          614747.70\n",
       "6          736591.35\n",
       "7          722758.45\n",
       "8          538659.30\n",
       "9         4994717.70\n",
       "10        4664745.70"
      ]
     },
     "execution_count": 72,
     "metadata": {},
     "output_type": "execute_result"
    }
   ],
   "source": [
    "#investigando os ganhos em receitas de cada equipe no semestre 1 de 2020\n",
    "dataFiltrada = data.query('dataSemestre == 1 and dataAno == 2020')\n",
    "negociacaoData = dataFiltrada.merge(negociacao, on = 'dataPK' )\n",
    "negociacaoDataEquipe = negociacaoData.groupby(['equipePK'])['receita'].sum().to_frame() \n",
    "negociacaoDataEquipe.head(10)"
   ]
  },
  {
   "cell_type": "code",
   "execution_count": 73,
   "metadata": {
    "colab": {
     "base_uri": "https://localhost:8080/",
     "height": 390
    },
    "executionInfo": {
     "elapsed": 18,
     "status": "ok",
     "timestamp": 1635440443307,
     "user": {
      "displayName": "Cristina Aguiar",
      "photoUrl": "https://lh3.googleusercontent.com/a-/AOh14Ghm5-HutuB5OUCrYhu0nhLTQcZZyzBZhLySrDpjFQ=s64",
      "userId": "02805498492766545440"
     },
     "user_tz": 180
    },
    "id": "d6aEOgeG4jbH",
    "outputId": "343df4e1-f39a-4224-9735-9f812e9d6fba"
   },
   "outputs": [
    {
     "data": {
      "text/html": [
       "<div>\n",
       "<style scoped>\n",
       "    .dataframe tbody tr th:only-of-type {\n",
       "        vertical-align: middle;\n",
       "    }\n",
       "\n",
       "    .dataframe tbody tr th {\n",
       "        vertical-align: top;\n",
       "    }\n",
       "\n",
       "    .dataframe thead th {\n",
       "        text-align: right;\n",
       "    }\n",
       "</style>\n",
       "<table border=\"1\" class=\"dataframe\">\n",
       "  <thead>\n",
       "    <tr style=\"text-align: right;\">\n",
       "      <th></th>\n",
       "      <th>salario</th>\n",
       "      <th>receita</th>\n",
       "    </tr>\n",
       "    <tr>\n",
       "      <th>equipePK</th>\n",
       "      <th></th>\n",
       "      <th></th>\n",
       "    </tr>\n",
       "  </thead>\n",
       "  <tbody>\n",
       "    <tr>\n",
       "      <th>1</th>\n",
       "      <td>1160327.40</td>\n",
       "      <td>1259907.25</td>\n",
       "    </tr>\n",
       "    <tr>\n",
       "      <th>2</th>\n",
       "      <td>1060981.14</td>\n",
       "      <td>1338994.40</td>\n",
       "    </tr>\n",
       "    <tr>\n",
       "      <th>3</th>\n",
       "      <td>1177330.32</td>\n",
       "      <td>340461.30</td>\n",
       "    </tr>\n",
       "    <tr>\n",
       "      <th>4</th>\n",
       "      <td>579893.94</td>\n",
       "      <td>340130.65</td>\n",
       "    </tr>\n",
       "    <tr>\n",
       "      <th>5</th>\n",
       "      <td>909107.10</td>\n",
       "      <td>614747.70</td>\n",
       "    </tr>\n",
       "    <tr>\n",
       "      <th>6</th>\n",
       "      <td>585430.86</td>\n",
       "      <td>736591.35</td>\n",
       "    </tr>\n",
       "    <tr>\n",
       "      <th>7</th>\n",
       "      <td>876084.06</td>\n",
       "      <td>722758.45</td>\n",
       "    </tr>\n",
       "    <tr>\n",
       "      <th>8</th>\n",
       "      <td>1118608.38</td>\n",
       "      <td>538659.30</td>\n",
       "    </tr>\n",
       "    <tr>\n",
       "      <th>9</th>\n",
       "      <td>939827.46</td>\n",
       "      <td>4994717.70</td>\n",
       "    </tr>\n",
       "    <tr>\n",
       "      <th>10</th>\n",
       "      <td>876242.52</td>\n",
       "      <td>4664745.70</td>\n",
       "    </tr>\n",
       "  </tbody>\n",
       "</table>\n",
       "</div>"
      ],
      "text/plain": [
       "             salario     receita\n",
       "equipePK                        \n",
       "1         1160327.40  1259907.25\n",
       "2         1060981.14  1338994.40\n",
       "3         1177330.32   340461.30\n",
       "4          579893.94   340130.65\n",
       "5          909107.10   614747.70\n",
       "6          585430.86   736591.35\n",
       "7          876084.06   722758.45\n",
       "8         1118608.38   538659.30\n",
       "9          939827.46  4994717.70\n",
       "10         876242.52  4664745.70"
      ]
     },
     "execution_count": 73,
     "metadata": {},
     "output_type": "execute_result"
    }
   ],
   "source": [
    "#juntando os dados obtidos\n",
    "pagamentoNegociacao = pagamentoDataEquipe.merge(negociacaoDataEquipe, on = 'equipePK' )\n",
    "pagamentoNegociacao.head(10)"
   ]
  },
  {
   "cell_type": "code",
   "execution_count": 74,
   "metadata": {
    "colab": {
     "base_uri": "https://localhost:8080/",
     "height": 359
    },
    "executionInfo": {
     "elapsed": 17,
     "status": "ok",
     "timestamp": 1635440443307,
     "user": {
      "displayName": "Cristina Aguiar",
      "photoUrl": "https://lh3.googleusercontent.com/a-/AOh14Ghm5-HutuB5OUCrYhu0nhLTQcZZyzBZhLySrDpjFQ=s64",
      "userId": "02805498492766545440"
     },
     "user_tz": 180
    },
    "id": "pc6ojx5FJX_C",
    "outputId": "45fc8e23-8983-462a-b0c1-6aa5d4d54b3d"
   },
   "outputs": [
    {
     "data": {
      "text/html": [
       "<div>\n",
       "<style scoped>\n",
       "    .dataframe tbody tr th:only-of-type {\n",
       "        vertical-align: middle;\n",
       "    }\n",
       "\n",
       "    .dataframe tbody tr th {\n",
       "        vertical-align: top;\n",
       "    }\n",
       "\n",
       "    .dataframe thead th {\n",
       "        text-align: right;\n",
       "    }\n",
       "</style>\n",
       "<table border=\"1\" class=\"dataframe\">\n",
       "  <thead>\n",
       "    <tr style=\"text-align: right;\">\n",
       "      <th></th>\n",
       "      <th>equipeNome</th>\n",
       "      <th>filialNome</th>\n",
       "      <th>salario</th>\n",
       "      <th>receita</th>\n",
       "    </tr>\n",
       "  </thead>\n",
       "  <tbody>\n",
       "    <tr>\n",
       "      <th>0</th>\n",
       "      <td>APP - DESKTOP</td>\n",
       "      <td>SAO PAULO - AV. PAULISTA</td>\n",
       "      <td>1160327.40</td>\n",
       "      <td>1259907.25</td>\n",
       "    </tr>\n",
       "    <tr>\n",
       "      <th>1</th>\n",
       "      <td>APP - DESKTOP</td>\n",
       "      <td>RIO DE JANEIRO - BARRA DA TIJUCA</td>\n",
       "      <td>1060981.14</td>\n",
       "      <td>1338994.40</td>\n",
       "    </tr>\n",
       "    <tr>\n",
       "      <th>2</th>\n",
       "      <td>WEB</td>\n",
       "      <td>SAO PAULO - AV. PAULISTA</td>\n",
       "      <td>1177330.32</td>\n",
       "      <td>340461.30</td>\n",
       "    </tr>\n",
       "    <tr>\n",
       "      <th>3</th>\n",
       "      <td>WEB</td>\n",
       "      <td>RIO DE JANEIRO - BARRA DA TIJUCA</td>\n",
       "      <td>579893.94</td>\n",
       "      <td>340130.65</td>\n",
       "    </tr>\n",
       "    <tr>\n",
       "      <th>4</th>\n",
       "      <td>WEB</td>\n",
       "      <td>CAMPO GRANDE - CENTRO</td>\n",
       "      <td>909107.10</td>\n",
       "      <td>614747.70</td>\n",
       "    </tr>\n",
       "    <tr>\n",
       "      <th>5</th>\n",
       "      <td>APP - MOBILE</td>\n",
       "      <td>SAO PAULO - AV. PAULISTA</td>\n",
       "      <td>585430.86</td>\n",
       "      <td>736591.35</td>\n",
       "    </tr>\n",
       "    <tr>\n",
       "      <th>6</th>\n",
       "      <td>APP - MOBILE</td>\n",
       "      <td>RIO DE JANEIRO - BARRA DA TIJUCA</td>\n",
       "      <td>876084.06</td>\n",
       "      <td>722758.45</td>\n",
       "    </tr>\n",
       "    <tr>\n",
       "      <th>7</th>\n",
       "      <td>APP - MOBILE</td>\n",
       "      <td>CAMPO GRANDE - CENTRO</td>\n",
       "      <td>1118608.38</td>\n",
       "      <td>538659.30</td>\n",
       "    </tr>\n",
       "    <tr>\n",
       "      <th>8</th>\n",
       "      <td>BI &amp; ANALYTICS</td>\n",
       "      <td>SAO PAULO - AV. PAULISTA</td>\n",
       "      <td>939827.46</td>\n",
       "      <td>4994717.70</td>\n",
       "    </tr>\n",
       "    <tr>\n",
       "      <th>9</th>\n",
       "      <td>BI &amp; ANALYTICS</td>\n",
       "      <td>RECIFE - CENTRO</td>\n",
       "      <td>876242.52</td>\n",
       "      <td>4664745.70</td>\n",
       "    </tr>\n",
       "  </tbody>\n",
       "</table>\n",
       "</div>"
      ],
      "text/plain": [
       "       equipeNome                        filialNome     salario     receita\n",
       "0   APP - DESKTOP          SAO PAULO - AV. PAULISTA  1160327.40  1259907.25\n",
       "1   APP - DESKTOP  RIO DE JANEIRO - BARRA DA TIJUCA  1060981.14  1338994.40\n",
       "2             WEB          SAO PAULO - AV. PAULISTA  1177330.32   340461.30\n",
       "3             WEB  RIO DE JANEIRO - BARRA DA TIJUCA   579893.94   340130.65\n",
       "4             WEB             CAMPO GRANDE - CENTRO   909107.10   614747.70\n",
       "5    APP - MOBILE          SAO PAULO - AV. PAULISTA   585430.86   736591.35\n",
       "6    APP - MOBILE  RIO DE JANEIRO - BARRA DA TIJUCA   876084.06   722758.45\n",
       "7    APP - MOBILE             CAMPO GRANDE - CENTRO  1118608.38   538659.30\n",
       "8  BI & ANALYTICS          SAO PAULO - AV. PAULISTA   939827.46  4994717.70\n",
       "9  BI & ANALYTICS                   RECIFE - CENTRO   876242.52  4664745.70"
      ]
     },
     "execution_count": 74,
     "metadata": {},
     "output_type": "execute_result"
    }
   ],
   "source": [
    "pagamentoNegociacaoEquipeCidade = pagamentoNegociacao.merge(equipe, on = 'equipePK' )\n",
    "pagamentoNegociacaoEquipeCidade.head(10)[['equipeNome', 'filialNome', 'salario', 'receita']]"
   ]
  },
  {
   "cell_type": "code",
   "execution_count": 75,
   "metadata": {
    "colab": {
     "base_uri": "https://localhost:8080/",
     "height": 359
    },
    "executionInfo": {
     "elapsed": 17,
     "status": "ok",
     "timestamp": 1635440443307,
     "user": {
      "displayName": "Cristina Aguiar",
      "photoUrl": "https://lh3.googleusercontent.com/a-/AOh14Ghm5-HutuB5OUCrYhu0nhLTQcZZyzBZhLySrDpjFQ=s64",
      "userId": "02805498492766545440"
     },
     "user_tz": 180
    },
    "id": "LhwsYWuHSXZ6",
    "outputId": "264d7f5c-2d27-4376-f2f2-3d20ed526958"
   },
   "outputs": [
    {
     "data": {
      "text/html": [
       "<div>\n",
       "<style scoped>\n",
       "    .dataframe tbody tr th:only-of-type {\n",
       "        vertical-align: middle;\n",
       "    }\n",
       "\n",
       "    .dataframe tbody tr th {\n",
       "        vertical-align: top;\n",
       "    }\n",
       "\n",
       "    .dataframe thead th {\n",
       "        text-align: right;\n",
       "    }\n",
       "</style>\n",
       "<table border=\"1\" class=\"dataframe\">\n",
       "  <thead>\n",
       "    <tr style=\"text-align: right;\">\n",
       "      <th></th>\n",
       "      <th>equipeNome</th>\n",
       "      <th>filialNome</th>\n",
       "      <th>lucro</th>\n",
       "    </tr>\n",
       "  </thead>\n",
       "  <tbody>\n",
       "    <tr>\n",
       "      <th>8</th>\n",
       "      <td>BI &amp; ANALYTICS</td>\n",
       "      <td>SAO PAULO - AV. PAULISTA</td>\n",
       "      <td>4054890.24</td>\n",
       "    </tr>\n",
       "    <tr>\n",
       "      <th>9</th>\n",
       "      <td>BI &amp; ANALYTICS</td>\n",
       "      <td>RECIFE - CENTRO</td>\n",
       "      <td>3788503.18</td>\n",
       "    </tr>\n",
       "    <tr>\n",
       "      <th>1</th>\n",
       "      <td>APP - DESKTOP</td>\n",
       "      <td>RIO DE JANEIRO - BARRA DA TIJUCA</td>\n",
       "      <td>278013.26</td>\n",
       "    </tr>\n",
       "    <tr>\n",
       "      <th>5</th>\n",
       "      <td>APP - MOBILE</td>\n",
       "      <td>SAO PAULO - AV. PAULISTA</td>\n",
       "      <td>151160.49</td>\n",
       "    </tr>\n",
       "    <tr>\n",
       "      <th>0</th>\n",
       "      <td>APP - DESKTOP</td>\n",
       "      <td>SAO PAULO - AV. PAULISTA</td>\n",
       "      <td>99579.85</td>\n",
       "    </tr>\n",
       "    <tr>\n",
       "      <th>6</th>\n",
       "      <td>APP - MOBILE</td>\n",
       "      <td>RIO DE JANEIRO - BARRA DA TIJUCA</td>\n",
       "      <td>-153325.61</td>\n",
       "    </tr>\n",
       "    <tr>\n",
       "      <th>3</th>\n",
       "      <td>WEB</td>\n",
       "      <td>RIO DE JANEIRO - BARRA DA TIJUCA</td>\n",
       "      <td>-239763.29</td>\n",
       "    </tr>\n",
       "    <tr>\n",
       "      <th>4</th>\n",
       "      <td>WEB</td>\n",
       "      <td>CAMPO GRANDE - CENTRO</td>\n",
       "      <td>-294359.40</td>\n",
       "    </tr>\n",
       "    <tr>\n",
       "      <th>7</th>\n",
       "      <td>APP - MOBILE</td>\n",
       "      <td>CAMPO GRANDE - CENTRO</td>\n",
       "      <td>-579949.08</td>\n",
       "    </tr>\n",
       "    <tr>\n",
       "      <th>2</th>\n",
       "      <td>WEB</td>\n",
       "      <td>SAO PAULO - AV. PAULISTA</td>\n",
       "      <td>-836869.02</td>\n",
       "    </tr>\n",
       "  </tbody>\n",
       "</table>\n",
       "</div>"
      ],
      "text/plain": [
       "       equipeNome                        filialNome       lucro\n",
       "8  BI & ANALYTICS          SAO PAULO - AV. PAULISTA  4054890.24\n",
       "9  BI & ANALYTICS                   RECIFE - CENTRO  3788503.18\n",
       "1   APP - DESKTOP  RIO DE JANEIRO - BARRA DA TIJUCA   278013.26\n",
       "5    APP - MOBILE          SAO PAULO - AV. PAULISTA   151160.49\n",
       "0   APP - DESKTOP          SAO PAULO - AV. PAULISTA    99579.85\n",
       "6    APP - MOBILE  RIO DE JANEIRO - BARRA DA TIJUCA  -153325.61\n",
       "3             WEB  RIO DE JANEIRO - BARRA DA TIJUCA  -239763.29\n",
       "4             WEB             CAMPO GRANDE - CENTRO  -294359.40\n",
       "7    APP - MOBILE             CAMPO GRANDE - CENTRO  -579949.08\n",
       "2             WEB          SAO PAULO - AV. PAULISTA  -836869.02"
      ]
     },
     "execution_count": 75,
     "metadata": {},
     "output_type": "execute_result"
    }
   ],
   "source": [
    "pagamentoNegociacaoEquipeCidade['lucro'] = pagamentoNegociacaoEquipeCidade['receita'] - pagamentoNegociacaoEquipeCidade['salario']\n",
    "pagamentoNegociacaoEquipeCidade[['equipeNome', 'filialNome', 'lucro']].sort_values(by='lucro', ascending=False).head(10)"
   ]
  },
  {
   "cell_type": "code",
   "execution_count": 76,
   "metadata": {
    "colab": {
     "base_uri": "https://localhost:8080/",
     "height": 290
    },
    "executionInfo": {
     "elapsed": 16,
     "status": "ok",
     "timestamp": 1635440443307,
     "user": {
      "displayName": "Cristina Aguiar",
      "photoUrl": "https://lh3.googleusercontent.com/a-/AOh14Ghm5-HutuB5OUCrYhu0nhLTQcZZyzBZhLySrDpjFQ=s64",
      "userId": "02805498492766545440"
     },
     "user_tz": 180
    },
    "id": "QQhxmsFOQTT0",
    "outputId": "febc8c7c-efc1-46ef-8aca-628b3376ae6a"
   },
   "outputs": [
    {
     "data": {
      "image/png": "[encoded data removed]",
      "text/plain": [
       "<Figure size 432x288 with 1 Axes>"
      ]
     },
     "metadata": {
      "needs_background": "light"
     },
     "output_type": "display_data"
    }
   ],
   "source": [
    "pagamentoNegociacaoEquipeCidade['lucro'].sort_values(ascending=False).head(5).plot(kind = 'bar');"
   ]
  },
  {
   "cell_type": "markdown",
   "metadata": {
    "id": "zu0qubU7xlil"
   },
   "source": [
    "## 3.4 Exercícios Essenciais"
   ]
  },
  {
   "cell_type": "markdown",
   "metadata": {
    "id": "XG1Izl8IxvH5"
   },
   "source": [
    "### **EXERCÍCIO 8 (Essencial)**\n",
    "\n",
    "Qual é a quantidade de negociações realizadas por ano e semestre? \n",
    "\n",
    "Apresente o resultado em forma de tabela, bem como em gráfico de barras empilhado. Considere utilizar `unstack()` para melhorar a visualização."
   ]
  },
  {
   "cell_type": "code",
   "execution_count": 83,
   "metadata": {
    "executionInfo": {
     "elapsed": 16,
     "status": "ok",
     "timestamp": 1635440443308,
     "user": {
      "displayName": "Cristina Aguiar",
      "photoUrl": "https://lh3.googleusercontent.com/a-/AOh14Ghm5-HutuB5OUCrYhu0nhLTQcZZyzBZhLySrDpjFQ=s64",
      "userId": "02805498492766545440"
     },
     "user_tz": 180
    },
    "id": "ZN5m4CPmxvzL"
   },
   "outputs": [
    {
     "data": {
      "text/html": [
       "<div>\n",
       "<style scoped>\n",
       "    .dataframe tbody tr th:only-of-type {\n",
       "        vertical-align: middle;\n",
       "    }\n",
       "\n",
       "    .dataframe tbody tr th {\n",
       "        vertical-align: top;\n",
       "    }\n",
       "\n",
       "    .dataframe thead th {\n",
       "        text-align: right;\n",
       "    }\n",
       "</style>\n",
       "<table border=\"1\" class=\"dataframe\">\n",
       "  <thead>\n",
       "    <tr style=\"text-align: right;\">\n",
       "      <th>dataSemestre</th>\n",
       "      <th>1</th>\n",
       "      <th>2</th>\n",
       "    </tr>\n",
       "    <tr>\n",
       "      <th>dataAno</th>\n",
       "      <th></th>\n",
       "      <th></th>\n",
       "    </tr>\n",
       "  </thead>\n",
       "  <tbody>\n",
       "    <tr>\n",
       "      <th>2016</th>\n",
       "      <td>137</td>\n",
       "      <td>134</td>\n",
       "    </tr>\n",
       "    <tr>\n",
       "      <th>2017</th>\n",
       "      <td>256</td>\n",
       "      <td>281</td>\n",
       "    </tr>\n",
       "    <tr>\n",
       "      <th>2018</th>\n",
       "      <td>457</td>\n",
       "      <td>392</td>\n",
       "    </tr>\n",
       "    <tr>\n",
       "      <th>2019</th>\n",
       "      <td>619</td>\n",
       "      <td>603</td>\n",
       "    </tr>\n",
       "    <tr>\n",
       "      <th>2020</th>\n",
       "      <td>573</td>\n",
       "      <td>559</td>\n",
       "    </tr>\n",
       "  </tbody>\n",
       "</table>\n",
       "</div>"
      ],
      "text/plain": [
       "dataSemestre    1    2\n",
       "dataAno               \n",
       "2016          137  134\n",
       "2017          256  281\n",
       "2018          457  392\n",
       "2019          619  603\n",
       "2020          573  559"
      ]
     },
     "execution_count": 83,
     "metadata": {},
     "output_type": "execute_result"
    }
   ],
   "source": [
    "# Resposta do exercício\n",
    "negociacaoData = negociacao.merge(data, on = 'dataPK' )\n",
    "negociacaoData.groupby(['dataSemestre','dataAno'])['quantidadeNegociacoes'].sum().unstack(level=0)\n"
   ]
  },
  {
   "cell_type": "code",
   "execution_count": 85,
   "metadata": {},
   "outputs": [
    {
     "data": {
      "image/png": "[encoded data removed]",
      "text/plain": [
       "<Figure size 432x288 with 1 Axes>"
      ]
     },
     "metadata": {
      "needs_background": "light"
     },
     "output_type": "display_data"
    }
   ],
   "source": [
    "negociacaoData.groupby(['dataSemestre','dataAno'])['quantidadeNegociacoes'].sum().unstack(level=0).plot(kind='bar',stacked='True');"
   ]
  },
  {
   "cell_type": "markdown",
   "metadata": {
    "id": "09WwUp3X1Dfs"
   },
   "source": [
    "### **EXERCÍCIO 9 (Essencial)**\n",
    "\n",
    "Compare a quantidade de negociações que cada uma das equipes realizou nos anos de 2018 e 2019. \n",
    "\n",
    "Considere relacionar as equipes por meio da operação *drill-across*."
   ]
  },
  {
   "cell_type": "code",
   "execution_count": 86,
   "metadata": {},
   "outputs": [
    {
     "data": {
      "text/plain": [
       "Index(['equipePK', 'clientePK', 'dataPK', 'receita', 'quantidadeNegociacoes'], dtype='object')"
      ]
     },
     "execution_count": 86,
     "metadata": {},
     "output_type": "execute_result"
    }
   ],
   "source": [
    "negociacao.columns"
   ]
  },
  {
   "cell_type": "code",
   "execution_count": 92,
   "metadata": {
    "executionInfo": {
     "elapsed": 16,
     "status": "ok",
     "timestamp": 1635440443308,
     "user": {
      "displayName": "Cristina Aguiar",
      "photoUrl": "https://lh3.googleusercontent.com/a-/AOh14Ghm5-HutuB5OUCrYhu0nhLTQcZZyzBZhLySrDpjFQ=s64",
      "userId": "02805498492766545440"
     },
     "user_tz": 180
    },
    "id": "PoztaFETxujn"
   },
   "outputs": [
    {
     "data": {
      "text/html": [
       "<div>\n",
       "<style scoped>\n",
       "    .dataframe tbody tr th:only-of-type {\n",
       "        vertical-align: middle;\n",
       "    }\n",
       "\n",
       "    .dataframe tbody tr th {\n",
       "        vertical-align: top;\n",
       "    }\n",
       "\n",
       "    .dataframe thead th {\n",
       "        text-align: right;\n",
       "    }\n",
       "</style>\n",
       "<table border=\"1\" class=\"dataframe\">\n",
       "  <thead>\n",
       "    <tr style=\"text-align: right;\">\n",
       "      <th></th>\n",
       "      <th>quantidadeNegociacoes</th>\n",
       "    </tr>\n",
       "    <tr>\n",
       "      <th>equipePK</th>\n",
       "      <th></th>\n",
       "    </tr>\n",
       "  </thead>\n",
       "  <tbody>\n",
       "    <tr>\n",
       "      <th>1</th>\n",
       "      <td>132</td>\n",
       "    </tr>\n",
       "    <tr>\n",
       "      <th>2</th>\n",
       "      <td>149</td>\n",
       "    </tr>\n",
       "    <tr>\n",
       "      <th>3</th>\n",
       "      <td>76</td>\n",
       "    </tr>\n",
       "    <tr>\n",
       "      <th>4</th>\n",
       "      <td>91</td>\n",
       "    </tr>\n",
       "    <tr>\n",
       "      <th>5</th>\n",
       "      <td>100</td>\n",
       "    </tr>\n",
       "    <tr>\n",
       "      <th>6</th>\n",
       "      <td>104</td>\n",
       "    </tr>\n",
       "    <tr>\n",
       "      <th>7</th>\n",
       "      <td>99</td>\n",
       "    </tr>\n",
       "    <tr>\n",
       "      <th>8</th>\n",
       "      <td>98</td>\n",
       "    </tr>\n",
       "  </tbody>\n",
       "</table>\n",
       "</div>"
      ],
      "text/plain": [
       "          quantidadeNegociacoes\n",
       "equipePK                       \n",
       "1                           132\n",
       "2                           149\n",
       "3                            76\n",
       "4                            91\n",
       "5                           100\n",
       "6                           104\n",
       "7                            99\n",
       "8                            98"
      ]
     },
     "execution_count": 92,
     "metadata": {},
     "output_type": "execute_result"
    }
   ],
   "source": [
    "# Resposta do exercício\n",
    "#investigando a quantidade de negociações de cada equipe no ano de 2018 \n",
    "dataFiltrada = data.query('dataAno == 2018')\n",
    "negociacaoData = negociacao.merge(dataFiltrada, on = 'dataPK' )\n",
    "negociacaoData = negociacaoData.groupby(['equipePK'])['quantidadeNegociacoes'].sum().to_frame() \n",
    "negociacaoData"
   ]
  },
  {
   "cell_type": "code",
   "execution_count": 93,
   "metadata": {},
   "outputs": [
    {
     "data": {
      "text/html": [
       "<div>\n",
       "<style scoped>\n",
       "    .dataframe tbody tr th:only-of-type {\n",
       "        vertical-align: middle;\n",
       "    }\n",
       "\n",
       "    .dataframe tbody tr th {\n",
       "        vertical-align: top;\n",
       "    }\n",
       "\n",
       "    .dataframe thead th {\n",
       "        text-align: right;\n",
       "    }\n",
       "</style>\n",
       "<table border=\"1\" class=\"dataframe\">\n",
       "  <thead>\n",
       "    <tr style=\"text-align: right;\">\n",
       "      <th></th>\n",
       "      <th>quantidadeNegociacoes</th>\n",
       "    </tr>\n",
       "    <tr>\n",
       "      <th>equipePK</th>\n",
       "      <th></th>\n",
       "    </tr>\n",
       "  </thead>\n",
       "  <tbody>\n",
       "    <tr>\n",
       "      <th>1</th>\n",
       "      <td>135</td>\n",
       "    </tr>\n",
       "    <tr>\n",
       "      <th>2</th>\n",
       "      <td>135</td>\n",
       "    </tr>\n",
       "    <tr>\n",
       "      <th>3</th>\n",
       "      <td>87</td>\n",
       "    </tr>\n",
       "    <tr>\n",
       "      <th>4</th>\n",
       "      <td>106</td>\n",
       "    </tr>\n",
       "    <tr>\n",
       "      <th>5</th>\n",
       "      <td>95</td>\n",
       "    </tr>\n",
       "    <tr>\n",
       "      <th>6</th>\n",
       "      <td>108</td>\n",
       "    </tr>\n",
       "    <tr>\n",
       "      <th>7</th>\n",
       "      <td>112</td>\n",
       "    </tr>\n",
       "    <tr>\n",
       "      <th>8</th>\n",
       "      <td>88</td>\n",
       "    </tr>\n",
       "    <tr>\n",
       "      <th>9</th>\n",
       "      <td>181</td>\n",
       "    </tr>\n",
       "    <tr>\n",
       "      <th>10</th>\n",
       "      <td>175</td>\n",
       "    </tr>\n",
       "  </tbody>\n",
       "</table>\n",
       "</div>"
      ],
      "text/plain": [
       "          quantidadeNegociacoes\n",
       "equipePK                       \n",
       "1                           135\n",
       "2                           135\n",
       "3                            87\n",
       "4                           106\n",
       "5                            95\n",
       "6                           108\n",
       "7                           112\n",
       "8                            88\n",
       "9                           181\n",
       "10                          175"
      ]
     },
     "execution_count": 93,
     "metadata": {},
     "output_type": "execute_result"
    }
   ],
   "source": [
    "# Resposta do exercício\n",
    "#investigando a quantidade de negociações de cada equipe no ano de 2019 \n",
    "dataFiltrada = data.query('dataAno == 2019')\n",
    "negociacaoData = negociacao.merge(dataFiltrada, on = 'dataPK' )\n",
    "negociacaoData2 = negociacaoData.groupby(['equipePK'])['quantidadeNegociacoes'].sum().to_frame() \n",
    "negociacaoData2"
   ]
  },
  {
   "cell_type": "code",
   "execution_count": 94,
   "metadata": {},
   "outputs": [
    {
     "data": {
      "text/html": [
       "<div>\n",
       "<style scoped>\n",
       "    .dataframe tbody tr th:only-of-type {\n",
       "        vertical-align: middle;\n",
       "    }\n",
       "\n",
       "    .dataframe tbody tr th {\n",
       "        vertical-align: top;\n",
       "    }\n",
       "\n",
       "    .dataframe thead th {\n",
       "        text-align: right;\n",
       "    }\n",
       "</style>\n",
       "<table border=\"1\" class=\"dataframe\">\n",
       "  <thead>\n",
       "    <tr style=\"text-align: right;\">\n",
       "      <th></th>\n",
       "      <th>equipeNome</th>\n",
       "      <th>filialNome</th>\n",
       "      <th>quantidadeNegociacoes_2018</th>\n",
       "      <th>quantidadeNegociacoes_2019</th>\n",
       "    </tr>\n",
       "  </thead>\n",
       "  <tbody>\n",
       "    <tr>\n",
       "      <th>0</th>\n",
       "      <td>APP - DESKTOP</td>\n",
       "      <td>SAO PAULO - AV. PAULISTA</td>\n",
       "      <td>1</td>\n",
       "      <td>135</td>\n",
       "    </tr>\n",
       "    <tr>\n",
       "      <th>1</th>\n",
       "      <td>APP - DESKTOP</td>\n",
       "      <td>SAO PAULO - AV. PAULISTA</td>\n",
       "      <td>1</td>\n",
       "      <td>135</td>\n",
       "    </tr>\n",
       "    <tr>\n",
       "      <th>2</th>\n",
       "      <td>APP - DESKTOP</td>\n",
       "      <td>SAO PAULO - AV. PAULISTA</td>\n",
       "      <td>1</td>\n",
       "      <td>135</td>\n",
       "    </tr>\n",
       "    <tr>\n",
       "      <th>3</th>\n",
       "      <td>APP - DESKTOP</td>\n",
       "      <td>SAO PAULO - AV. PAULISTA</td>\n",
       "      <td>1</td>\n",
       "      <td>135</td>\n",
       "    </tr>\n",
       "    <tr>\n",
       "      <th>4</th>\n",
       "      <td>APP - DESKTOP</td>\n",
       "      <td>SAO PAULO - AV. PAULISTA</td>\n",
       "      <td>1</td>\n",
       "      <td>135</td>\n",
       "    </tr>\n",
       "    <tr>\n",
       "      <th>...</th>\n",
       "      <td>...</td>\n",
       "      <td>...</td>\n",
       "      <td>...</td>\n",
       "      <td>...</td>\n",
       "    </tr>\n",
       "    <tr>\n",
       "      <th>1217</th>\n",
       "      <td>BI &amp; ANALYTICS</td>\n",
       "      <td>RECIFE - CENTRO</td>\n",
       "      <td>1</td>\n",
       "      <td>175</td>\n",
       "    </tr>\n",
       "    <tr>\n",
       "      <th>1218</th>\n",
       "      <td>BI &amp; ANALYTICS</td>\n",
       "      <td>RECIFE - CENTRO</td>\n",
       "      <td>1</td>\n",
       "      <td>175</td>\n",
       "    </tr>\n",
       "    <tr>\n",
       "      <th>1219</th>\n",
       "      <td>BI &amp; ANALYTICS</td>\n",
       "      <td>RECIFE - CENTRO</td>\n",
       "      <td>1</td>\n",
       "      <td>175</td>\n",
       "    </tr>\n",
       "    <tr>\n",
       "      <th>1220</th>\n",
       "      <td>BI &amp; ANALYTICS</td>\n",
       "      <td>RECIFE - CENTRO</td>\n",
       "      <td>1</td>\n",
       "      <td>175</td>\n",
       "    </tr>\n",
       "    <tr>\n",
       "      <th>1221</th>\n",
       "      <td>BI &amp; ANALYTICS</td>\n",
       "      <td>RECIFE - CENTRO</td>\n",
       "      <td>1</td>\n",
       "      <td>175</td>\n",
       "    </tr>\n",
       "  </tbody>\n",
       "</table>\n",
       "<p>1222 rows × 4 columns</p>\n",
       "</div>"
      ],
      "text/plain": [
       "          equipeNome                filialNome  quantidadeNegociacoes_2018  \\\n",
       "0      APP - DESKTOP  SAO PAULO - AV. PAULISTA                           1   \n",
       "1      APP - DESKTOP  SAO PAULO - AV. PAULISTA                           1   \n",
       "2      APP - DESKTOP  SAO PAULO - AV. PAULISTA                           1   \n",
       "3      APP - DESKTOP  SAO PAULO - AV. PAULISTA                           1   \n",
       "4      APP - DESKTOP  SAO PAULO - AV. PAULISTA                           1   \n",
       "...              ...                       ...                         ...   \n",
       "1217  BI & ANALYTICS           RECIFE - CENTRO                           1   \n",
       "1218  BI & ANALYTICS           RECIFE - CENTRO                           1   \n",
       "1219  BI & ANALYTICS           RECIFE - CENTRO                           1   \n",
       "1220  BI & ANALYTICS           RECIFE - CENTRO                           1   \n",
       "1221  BI & ANALYTICS           RECIFE - CENTRO                           1   \n",
       "\n",
       "      quantidadeNegociacoes_2019  \n",
       "0                            135  \n",
       "1                            135  \n",
       "2                            135  \n",
       "3                            135  \n",
       "4                            135  \n",
       "...                          ...  \n",
       "1217                         175  \n",
       "1218                         175  \n",
       "1219                         175  \n",
       "1220                         175  \n",
       "1221                         175  \n",
       "\n",
       "[1222 rows x 4 columns]"
      ]
     },
     "execution_count": 94,
     "metadata": {},
     "output_type": "execute_result"
    }
   ],
   "source": [
    "# Realização da operação drill-accross\n",
    "negociacaoData = negociacaoData.merge(negociacaoData2, on = 'equipePK', suffixes=('_2018', '_2019'))\n",
    "\n",
    "# Adição dos dados sobre as equipes\n",
    "negociacaoDataEquipe = equipe.merge(negociacaoData, on = 'equipePK')\n",
    "negociacaoDataEquipe[['equipeNome', 'filialNome', 'quantidadeNegociacoes_2018', 'quantidadeNegociacoes_2019']]"
   ]
  },
  {
   "cell_type": "markdown",
   "metadata": {
    "id": "fWNSbsb-yoP_"
   },
   "source": [
    "### **EXERCÍCIO 10 (Essencial)**\n",
    "Qual a quantidade de negociações realizadas pelos clientes residentes no estado de Pernambuco, por ano? Apresente o resultado em um gráfico barra.\n",
    "\n",
    "\n",
    "\n",
    "\n"
   ]
  },
  {
   "cell_type": "code",
   "execution_count": 97,
   "metadata": {
    "executionInfo": {
     "elapsed": 15,
     "status": "ok",
     "timestamp": 1635440443308,
     "user": {
      "displayName": "Cristina Aguiar",
      "photoUrl": "https://lh3.googleusercontent.com/a-/AOh14Ghm5-HutuB5OUCrYhu0nhLTQcZZyzBZhLySrDpjFQ=s64",
      "userId": "02805498492766545440"
     },
     "user_tz": 180
    },
    "id": "n0tQjsD_ypnZ"
   },
   "outputs": [
    {
     "data": {
      "image/png": "[encoded data removed]",
      "text/plain": [
       "<Figure size 432x288 with 1 Axes>"
      ]
     },
     "metadata": {
      "needs_background": "light"
     },
     "output_type": "display_data"
    }
   ],
   "source": [
    "# Resposta do exercício\n",
    "negociacaoData = negociacao.merge(data, on = 'dataPK' )\n",
    "clientesPernambuco = cliente.query('clienteEstadoNome == \\'PERNAMBUCO\\'')\n",
    "# clientesPernambuco = cliente.query('clienteEstadoNome == \"PERNAMBUCO\"')\n",
    "negociacaoPernambuco = negociacaoData.merge(clientesPernambuco, on = 'clientePK')\n",
    "negociacaoPernambuco.groupby(['dataAno'])['quantidadeNegociacoes'].sum().plot(kind = 'bar');"
   ]
  },
  {
   "cell_type": "markdown",
   "metadata": {
    "id": "SPKBEUgp2pLh"
   },
   "source": [
    "## 3.5 Exercícios Complementares"
   ]
  },
  {
   "cell_type": "markdown",
   "metadata": {
    "id": "AWnhas3400q_"
   },
   "source": [
    "### **EXERCÍCIO 11 (Complementar)**\n",
    "\n",
    "Qual o setor de clientes que mais trouxe receita no último semestre de 2020?"
   ]
  },
  {
   "cell_type": "code",
   "execution_count": 100,
   "metadata": {
    "executionInfo": {
     "elapsed": 15,
     "status": "ok",
     "timestamp": 1635440443308,
     "user": {
      "displayName": "Cristina Aguiar",
      "photoUrl": "https://lh3.googleusercontent.com/a-/AOh14Ghm5-HutuB5OUCrYhu0nhLTQcZZyzBZhLySrDpjFQ=s64",
      "userId": "02805498492766545440"
     },
     "user_tz": 180
    },
    "id": "JUiBrXo7TuXD"
   },
   "outputs": [
    {
     "data": {
      "image/png": "[encoded data removed]",
      "text/plain": [
       "<Figure size 432x288 with 1 Axes>"
      ]
     },
     "metadata": {
      "needs_background": "light"
     },
     "output_type": "display_data"
    }
   ],
   "source": [
    "# Resposta do exercício\n",
    "dataFiltrada = data.query('dataSemestre == 2 and dataAno == 2019')\n",
    "negociacaoData = negociacao.merge(dataFiltrada, on = 'dataPK' )\n",
    "receitaDataCliente = negociacaoData.merge(cliente, on = 'clientePK')\n",
    "receitaDataCliente.groupby(['clienteSetor'])['receita'].sum().sort_values().plot(kind = 'bar');"
   ]
  },
  {
   "cell_type": "markdown",
   "metadata": {
    "id": "9Dt-pXmnz5km"
   },
   "source": [
    "### **EXERCÍCIO 12 (Complementar)**\n",
    "\n",
    "Qual foi a distribuição de receita por mês para o setor de clientes com maior receita no último semestre de 2020?"
   ]
  },
  {
   "cell_type": "code",
   "execution_count": 101,
   "metadata": {
    "executionInfo": {
     "elapsed": 15,
     "status": "ok",
     "timestamp": 1635440443308,
     "user": {
      "displayName": "Cristina Aguiar",
      "photoUrl": "https://lh3.googleusercontent.com/a-/AOh14Ghm5-HutuB5OUCrYhu0nhLTQcZZyzBZhLySrDpjFQ=s64",
      "userId": "02805498492766545440"
     },
     "user_tz": 180
    },
    "id": "FIz13R8C0O7f"
   },
   "outputs": [
    {
     "data": {
      "image/png": "[encoded data removed]",
      "text/plain": [
       "<Figure size 432x288 with 1 Axes>"
      ]
     },
     "metadata": {
      "needs_background": "light"
     },
     "output_type": "display_data"
    }
   ],
   "source": [
    "# Resposta do exercício\n",
    "dataFiltrada = data.query('dataSemestre == 2 and dataAno == 2020')\n",
    "clienteFiltrado = cliente.query('clienteSetor == \"BEBIDAS E ALIMENTOS\"')\n",
    "receitaData = negociacao.merge(dataFiltrada, on = 'dataPK')\n",
    "receitaDataCliente = receitaData.merge(clienteFiltrado, on = 'clientePK')\n",
    "receitaDataCliente.groupby(['dataMes'])['receita'].sum().plot(kind = 'bar');"
   ]
  },
  {
   "cell_type": "markdown",
   "metadata": {
    "id": "9q7_56470i4e"
   },
   "source": [
    "### **EXERCÍCIO 13 (Complementar)**\n",
    "\n",
    "Qual equipe trouxe mais receita para o mês de maior receita do exercício anterior?"
   ]
  },
  {
   "cell_type": "code",
   "execution_count": 102,
   "metadata": {
    "executionInfo": {
     "elapsed": 16,
     "status": "ok",
     "timestamp": 1635440443309,
     "user": {
      "displayName": "Cristina Aguiar",
      "photoUrl": "https://lh3.googleusercontent.com/a-/AOh14Ghm5-HutuB5OUCrYhu0nhLTQcZZyzBZhLySrDpjFQ=s64",
      "userId": "02805498492766545440"
     },
     "user_tz": 180
    },
    "id": "tqDirRPE0aHf"
   },
   "outputs": [
    {
     "data": {
      "image/png": "[encoded data removed]",
      "text/plain": [
       "<Figure size 432x288 with 1 Axes>"
      ]
     },
     "metadata": {
      "needs_background": "light"
     },
     "output_type": "display_data"
    }
   ],
   "source": [
    "# Resposta do exercício\n",
    "dataFiltrada = data.query('dataAno == 2020 and dataMes == 11')\n",
    "clienteFiltrado = cliente.query('clienteSetor == \"BEBIDAS E ALIMENTOS\"')\n",
    "receitaData = negociacao.merge(dataFiltrada, on = 'dataPK')\n",
    "receitaDataCliente = receitaData.merge(clienteFiltrado, on = 'clientePK')\n",
    "receitaDataClienteEquipe = receitaDataCliente.merge(equipe, on = 'equipePK')\n",
    "receitaDataClienteEquipe.groupby(['equipeNome'])['receita'].sum().sort_values().plot(kind = 'bar');"
   ]
  }
 ],
 "metadata": {
  "colab": {
   "collapsed_sections": [],
   "name": "MBA Aula 05 Lista de Exercicios.ipynb",
   "provenance": [],
   "toc_visible": true
  },
  "kernelspec": {
   "display_name": "Python 3",
   "language": "python",
   "name": "python3"
  },
  "language_info": {
   "codemirror_mode": {
    "name": "ipython",
    "version": 3
   },
   "file_extension": ".py",
   "mimetype": "text/x-python",
   "name": "python",
   "nbconvert_exporter": "python",
   "pygments_lexer": "ipython3",
   "version": "3.8.10"
  },
  "toc": {
   "base_numbering": 1,
   "nav_menu": {},
   "number_sections": true,
   "sideBar": true,
   "skip_h1_title": false,
   "title_cell": "Table of Contents",
   "title_sidebar": "Contents",
   "toc_cell": false,
   "toc_position": {},
   "toc_section_display": true,
   "toc_window_display": false
  }
 },
 "nbformat": 4,
 "nbformat_minor": 1
}

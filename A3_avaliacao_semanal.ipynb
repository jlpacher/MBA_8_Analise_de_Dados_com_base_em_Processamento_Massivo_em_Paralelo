{
 "cells": [
  {
   "cell_type": "markdown",
   "id": "bb86425a",
   "metadata": {},
   "source": [
    "# AS3 - ADPMP - Processo ETL/ELT"
   ]
  },
  {
   "cell_type": "markdown",
   "id": "592432d1",
   "metadata": {},
   "source": [
    "Questão 1:\n",
    "\n",
    "Considerando o processo ETL, as letras da sigla representam respectivamente as etapas de:\n",
    "\n",
    "a.Extração, Tradução, Limpeza.<br>\n",
    "b.Exportação, Tradução, Limpeza.<br>\n",
    "c.Extração, Transformação, Limpeza.<br>\n",
    "d.Exportação, Tradução, Carga.<br>\n",
    "<font color='red'>e.Extração, Transformação, Carga.</font><br>"
   ]
  },
  {
   "cell_type": "markdown",
   "id": "5e7e3452",
   "metadata": {},
   "source": [
    "Questão 2:\n",
    "\n",
    "No processo ETL da empresa BI Solutions, um dos cientistas de dados recebeu as seguintes tarefas:\n",
    "\n",
    "• Agrupar instâncias com mesmo número de CPF.<br>\n",
    "• Construir índices e armazenar conjuntos de dados pré-processados no data warehouse.<br>\n",
    "• Coletar dados do setor de vendas no formato JSON.<br>\n",
    "\n",
    "Tais tarefas podem ser mapeadas para as seguintes etapas do processo ETL, respectivamente:\n",
    "\n",
    "a.Integração de Instâncias, Integração de Esquemas, Carga<br>\n",
    "b.Extração, Limpeza, Carga<br>\n",
    "c.Tradução, Carga, Extração<br>\n",
    "d.Integração, Carga, Tradução<br>\n",
    "<font color='red'>e.Integração, Carga, Extração</font><br>"
   ]
  },
  {
   "cell_type": "markdown",
   "id": "d0ac3f88",
   "metadata": {},
   "source": [
    "Questão 3:\n",
    "\n",
    "Considere o seguinte cenário:\n",
    "\n",
    "Uma rede de supermercados, que também atua no modelo de e-commerce, está iniciando o desenvolvimento de uma aplicação de data warehousing com o intuito de analisar a quantidade e a qualidade das vendas e das entregas realizadas para cada produto e em cada localidade. A rede busca prover uma aplicação web interna com informações em tempo quase real, indicando possíveis gargalos em entregas e picos de horários de atividades, dentre outras possibilidades que permitam otimizar o funcionamento da equipe de suporte de vendas e de logística das entregas.\n",
    "\n",
    "Baseado nesse cenário, quais das opções define estratégias do processo de ETL/ELT que são mais indicadas para o objetivo da rede de supermercados?\n",
    "\n",
    "<font color='red'>a.Extração contínua, processamento em fluxo contínuo (data streaming) e periodicidade contínua.</font><br>\n",
    "b.Extração em lotes, processamento em fluxo contínuo (data streaming) e periodicidade semanal.<br>\n",
    "c.Extração em lotes, recomputação e periodicidade semanal.<br>\n",
    "d.Extração em lotes, processamento em lote e periodicidade diária.<br>\n",
    "e.Extração contínua, processamento em lote e periodicidade mensal.<br>"
   ]
  },
  {
   "cell_type": "markdown",
   "id": "2956ead0",
   "metadata": {},
   "source": [
    "Questão 4:\n",
    "\n",
    "Marque a alternativa **correta**:\n",
    "\n",
    "a.Em relação à periodicidade de incorporação de novos dados ao data warehouse, ela sempre é diária, independentemente do problema sendo resolvido.<br>\n",
    "b.Dentro do processo de ETL, a extração e a transformação são operações opcionais, sendo que a única operação obrigatória é a carga.<br>\n",
    "<font color='red'>c.A sigla CDC vem do termo Change Data Capture e se refere às técnicas que podem ser utilizadas na implementação de rotinas de detecção de alterações.</font><br>\n",
    "d.Durante a etapa de limpeza, é necessário realizar processamento adicional voltado à construção de índices com o objetivo de melhorar o desempenho na realização da operação de carga no data warehouse.<br>\n",
    "e.Uma técnica utilizada para atualização do data warehouse é a recomputação, a qual é responsável por propagar ao data warehousing apenas as últimas alterações nos dados das fontes monitoradas.<br>"
   ]
  },
  {
   "cell_type": "markdown",
   "id": "6046ad19",
   "metadata": {},
   "source": [
    "a.Periodicidade pode ser diária, mensal, online...<br>\n",
    "b.Extração e carga são obrigatórias, enquanto que a transformação pode ser postergada.<br>\n",
    "d.A construção de índices é feita na etapa final, ou seja, de carga.<br>\n",
    "e.Técnicas para detectar alterações são: timestamp, triggers, logs e snapshots, sendo a última a mais usada.<br>"
   ]
  },
  {
   "cell_type": "markdown",
   "id": "55cd7160",
   "metadata": {},
   "source": [
    "Questão 5:\n",
    "\n",
    "Com relação à integração de esquemas, leia as afirmações abaixo:\n",
    "\n",
    "(I) É a etapa na qual as instâncias são agrupadas em uma única fonte de dados. Em geral, tem-se uma identificação unívoca para essas instâncias.<br>\n",
    "<font color='red'>(II) É a etapa na qual são feitas definições de mapeamento para descrever relacionamentos entre o esquema de cada fonte de dados e do data warehouse.</font><br>\n",
    "<font color='red'>(III) É a etapa na qual podem ocorrer conflitos de nome, semânticos e estruturais.</font><br>\n",
    "(IV) É a etapa que ocorre após a integração de instâncias.<br>\n",
    "\n",
    "Quais das afirmações são **verdadeiras**:\n",
    "\n",
    "a.Apenas a I e II<br>\n",
    "b.Apenas a I, II e IV<br>\n",
    "<font color='red'>c.Apenas a II e III</font><br>\n",
    "d.Apenas a II e IV<br>\n",
    "e.Apenas a I e IV<br>"
   ]
  },
  {
   "cell_type": "markdown",
   "id": "78876ac3",
   "metadata": {},
   "source": [
    "I Agrupamento de instâncias em uma única fonte de dados é a etapa de integração de instâncias.<br>\n",
    "IV A integração de instâncias ocorre depois da integração de esquemas.<br>"
   ]
  }
 ],
 "metadata": {
  "kernelspec": {
   "display_name": "Python 3",
   "language": "python",
   "name": "python3"
  },
  "language_info": {
   "codemirror_mode": {
    "name": "ipython",
    "version": 3
   },
   "file_extension": ".py",
   "mimetype": "text/x-python",
   "name": "python",
   "nbconvert_exporter": "python",
   "pygments_lexer": "ipython3",
   "version": "3.8.10"
  }
 },
 "nbformat": 4,
 "nbformat_minor": 5
}

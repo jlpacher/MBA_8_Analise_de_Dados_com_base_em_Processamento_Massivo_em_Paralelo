{
 "cells": [
  {
   "cell_type": "markdown",
   "id": "546dff6b",
   "metadata": {},
   "source": [
    "# ADPMP - AS5 - Consultas OLAP"
   ]
  },
  {
   "cell_type": "markdown",
   "id": "df978a1d",
   "metadata": {},
   "source": [
    "Questão 1:\n",
    "\n",
    "Os dados de um data mart são:\n",
    "\n",
    "a.Orientados a setor, não voláteis, históricos e integrados.<br>\n",
    "b.Orientados a setor, voláteis, normalizados e heterogêneos.<br>\n",
    "c.Orientados a setor, não voláteis, normalizados e heterogêneos.<br>\n",
    "d.Orientados a assunto, não voláteis, históricos e heterogêneos.<br>\n",
    "<font color='red'>e.Orientados a assunto, não voláteis, históricos e integrados.</font><br>"
   ]
  },
  {
   "cell_type": "markdown",
   "id": "5dd3bd4b",
   "metadata": {},
   "source": [
    "Questão 2:\n",
    "    \n",
    "Assinale a **alternativa correta** acerca dos dados de um data warehouse:\n",
    "\n",
    "<font color='red'>a.Dados mais detalhados possuem grão pequeno.</font><br>\n",
    "b.A variedade de consultas que podem ser respondidas independe da granularidade dos dados.<br>\n",
    "c.O data warehouse é mais volumoso quando o grão é grande.<br>\n",
    "d.Dados menos agregados estão no nível superior de agregação.<br>\n",
    "e.Dados menos detalhados são dados menos agregados.    <br>"
   ]
  },
  {
   "cell_type": "markdown",
   "id": "8d9301f3",
   "metadata": {},
   "source": [
    "Questão 3:\n",
    "\n",
    "Considere as seguintes afirmações acerca das operações OLAP:\n",
    "\n",
    "I. A operação slice diminui a dimensionalidade do cubo de dados.<br>\n",
    "II. As operações drill-down e roll-up estão relacionados com agrupamentos dos dados.<br>\n",
    "III. A operação roll-up navega pela hierarquia de atributos no sentido de dados menos detalhados para mais detalhados.<br>\n",
    "IV. A operação drill-across compara medidas numéricas de dois cubos de dados diferentes que compartilham pelo menos uma dimensão em comum.<br>\n",
    "V. A operação pivot está relacionada com a seleção de dados.<br>\n",
    "\n",
    "Considerando V (Verdadeiro) e F (Falso), assinale a **alternativa correta**:\n",
    "\n",
    "a.V - F - V - F - V.<br>\n",
    "b.F - V - V - V - F.<br>\n",
    "c.F - V - F - V - F.<br>\n",
    "d.F - V - F - V - V.<br>\n",
    "<font color='red'>e.V - V - F - V - F.</font><br>"
   ]
  },
  {
   "cell_type": "code",
   "execution_count": null,
   "id": "7d7d88db",
   "metadata": {},
   "outputs": [],
   "source": [
    "v v f v f\n",
    "\n",
    "Roll-Up vai de dados mais detalhados/menos agregados para dados menos detalhados/mais agregados.\n",
    "\n",
    "Drill-Down é o inverso de Roll-Up.\n",
    "\n",
    "Operação Pivot está relacionada à combinação de dimensões"
   ]
  },
  {
   "cell_type": "markdown",
   "id": "41f18bf0",
   "metadata": {},
   "source": [
    "Questão 4:\n",
    "\n",
    "Assinale a **alternativa correta**:\n",
    "\n",
    "<font color='red'>a.A característica de não volatilidade está relacionada ao fato de que o conteúdo do data warehouse permanece estável por longos períodos.</font><br>\n",
    "b.A operação de slice and dice provê diferentes perspectivas dos mesmos dados por meio da alteração da ordem das dimensões.<br>\n",
    "c.A operação drill-down possibilita que as análises dos usuários de suporte à decisão sejam realizadas em níveis progressivamente de maior granularidade.<br>\n",
    "d.ROLAP (Resilient Online Analytical Processing) é uma variação de OLAP (Online Analytical Processing) onde os conjuntos de dados são distribuídos em pequenas partições e são imutáveis, realizando somente operações de leitura.<br>\n",
    "e.Dados mais detalhados significa que a granularidade é alta.<br>"
   ]
  },
  {
   "cell_type": "markdown",
   "id": "130d1a05",
   "metadata": {},
   "source": [
    "a.OK não volátil => estável<br>\n",
    "b.NOK slice/dice => faixa de valores de um atributo<br>\n",
    "c.NOK drill-down => Níveis de agregação progressivamente mais detalhados, ou de menor granularidade<br>\n",
    "d.NOK ROLAP => Relational On-Line Analytical Processing<br>\n",
    "e.NOK Mais detalhados => menor granularidade<br>"
   ]
  },
  {
   "cell_type": "markdown",
   "id": "68e24a97",
   "metadata": {},
   "source": [
    "Questão 5:\n",
    "\n",
    "Assinale a **alternativa correta** acerca dos tipos de esquema utilizados para organizar a visão multidimensional dos dados do data warehouse:\n",
    "\n",
    "a.O esquema estrela somente pode possuir uma tabela de fatos dominante no seu centro e uma tabela de dimensão dominante na sua extremidade.<br>\n",
    "<font color='red'>b.O esquema floco de neve consiste em uma extensão do esquema estrela na qual cada extremidade do esquema estrela é normalizada utilizando como base a hierarquia de atributos referente àquela extremidade.</font><br>\n",
    "c.A tabela de fatos é caracterizada por armazenar dados redundantes, desde que os mesmos dados aparecem várias vezes.<br>\n",
    "d.O esquema floco de neve consiste em uma extensão do esquema estrela na qual existem várias tabelas de fatos que compartilham tabelas de dimensão em comum.<br>\n",
    "e.Em contraste às tabelas de fatos, que usualmente possuem menos tuplas e uma grande quantidade de colunas, as tabelas de dimensão geralmente possuem um grande número de tuplas e uma quantidade reduzida de colunas.<br>"
   ]
  },
  {
   "cell_type": "markdown",
   "id": "daf3cfd3",
   "metadata": {},
   "source": [
    "a.NOK Estrela 1 tabela Fato e Várias Tabelas Dimensão<br>\n",
    "b.OK<br>\n",
    "c.NOK Tabela Fatos não possui dados redundantes, esses podem aparecer nas Tabelas Dimensão<br>\n",
    "d.NOK a Tabelas Fato que compartilham várias Tabelas dimensão são uma Constelação de Fatos<br>\n",
    "e.NOK  Informações invertidas entre tabelas de fatos e de dimensão<br>"
   ]
  }
 ],
 "metadata": {
  "kernelspec": {
   "display_name": "Python 3",
   "language": "python",
   "name": "python3"
  },
  "language_info": {
   "codemirror_mode": {
    "name": "ipython",
    "version": 3
   },
   "file_extension": ".py",
   "mimetype": "text/x-python",
   "name": "python",
   "nbconvert_exporter": "python",
   "pygments_lexer": "ipython3",
   "version": "3.8.10"
  }
 },
 "nbformat": 4,
 "nbformat_minor": 5
}

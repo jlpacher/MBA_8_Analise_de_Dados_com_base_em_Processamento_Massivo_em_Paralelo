{
 "cells": [
  {
   "cell_type": "markdown",
   "id": "b651a81d",
   "metadata": {},
   "source": [
    "# AS2 - ADPMP - Arquitetura de Data Warehousing"
   ]
  },
  {
   "cell_type": "markdown",
   "id": "13a66a10",
   "metadata": {},
   "source": [
    "Questão 1:\n",
    "\n",
    "Considerando as camadas da arquitetura de data warehousing, assinale a **alternativa incorreta**:\n",
    "\n",
    "a.O data mart é o componente da camada de data warehouse que consiste em um pequeno data warehouse com escopo limitado quando comparado ao data warehouse propriamente dito. <br>\n",
    "b.As ferramentas OLAP são exemplos de ferramentas que fazem parte da camada de ferramentas de análise e consulta.<br>\n",
    "c.Os bancos de dados operacionais fazem parte da camada de fonte de dados.<br>\n",
    "d.O repositório de metadados é o componente da camada de data warehouse que é responsável por armazenar os metadados de todos os dados e processos envolvidos no ambiente de data warehousing.<br>\n",
    "<font color='red'>e.O data lake é o componente da camada de data warehouse que armazena dados não estruturados, semiestruturados e estruturados.</font><br>"
   ]
  },
  {
   "cell_type": "markdown",
   "id": "3907bb7f",
   "metadata": {},
   "source": [
    "Data Lake é um componente da camada de Pré-Processamento dos Dados"
   ]
  },
  {
   "cell_type": "markdown",
   "id": "31c5bbd8",
   "metadata": {},
   "source": [
    "Questão 2:\n",
    "\n",
    "Considerando os conceitos relativos às ferramentas de análise e consulta, assinale a **alternativa incorreta**:\n",
    "\n",
    "a.Ferramentas de análise estatística permitem que usuários de sistemas de suporte à decisão analisem os dados usando métodos estatísticos.<br>\n",
    "b.As ferramentas de análise e consulta são a forma pela qual os usuários de sistemas de suporte à decisão interagem com o ambiente de data warehousing.<br>\n",
    "c.Geradores de relatório são os tipos mais simples de ferramentas e têm como objetivo principal produzir relatórios periódicos.<br>\n",
    "<font color='red'>d.Modelos de machine learning são ferramentas que reúnem diversos dados e indicadores por meio de gráficos e tabelas, permitindo o monitoramento simultâneo de um grande número de informações.</font><br>\n",
    "e.Ferramentas OLAP (on-line analytical processing) são caracterizadas por permitir que usuários de sistemas de suporte à decisão analisem os dados usando visões multidimensionais complexas e elaboradas.<br>"
   ]
  },
  {
   "cell_type": "markdown",
   "id": "167a618e",
   "metadata": {},
   "source": [
    "Modelos de Machine Learning permitem que padrões e tendências de negócios \"escondidos\" nos dados sejam descobertos.<br>\n",
    "Gráficos, indicadores e tabelas são encontrados dos Dashboards Interativos.<br>"
   ]
  },
  {
   "cell_type": "markdown",
   "id": "7b8aed3c",
   "metadata": {},
   "source": [
    "Questão 3:\n",
    "\n",
    "Considerando os conceitos de data warehouse e data mart, assinale a **alternativa incorreta**:\n",
    "\n",
    "a.É possível construir vários data marts e, à medida que esses data marts estiverem consolidados, iniciar a construção de um data warehouse corporativo.<br>\n",
    "b.A criação de data marts independentes pode conduzir a problemas de integração, desde que cada data mart independente pode assumir uma forma diferente de consolidar seus dados, gerando inconsistências.<br>\n",
    "c.Um data mart consiste na implementação de um data warehouse que possui escopo limitado quando comparado ao data warehouse propriamente dito.<br>\n",
    "d.Os dados armazenados em data marts compartilham as mesmas características dos dados armazenados no data warehouse.<br>\n",
    "<font color='red'>e.Construir um data warehouse é mais barato e simples do que construir um data mart, uma vez que o data warehouse possui um escopo limitado quando comparado ao data mart propriamente dito.</font><br>"
   ]
  },
  {
   "cell_type": "markdown",
   "id": "dbc7c85d",
   "metadata": {},
   "source": [
    "Data Mart tem menor custo e escopo limitado quando comparado ao DW."
   ]
  },
  {
   "cell_type": "markdown",
   "id": "698dceb9",
   "metadata": {},
   "source": [
    "Questão 4:\n",
    "\n",
    "Considerando os conceitos de data staging area, data lake e data warehouse, assinale a **alternativa incorreta**:\n",
    "\n",
    "a.O data lake contém um grande volume de dados extraídos das fontes de dados em seu formato nativo (raw data), incluindo dados estruturados, semiestruturados e não estruturados.<br>\n",
    "b.Para povoar o data warehouse, os dados precisam primeiro passar pelo processo de ETL. Já os dados armazenados no data lake são decorrentes do processo de ELT.<br>\n",
    "c.O data lake pode atuar também como data staging area.<br>\n",
    "<font color='red'>d.A data staging area se comunica diretamente com as ferramentas de análise e consulta, uma vez que pode ser necessário realizar análises sobre dados cuja transformação ainda não está concluída.</font><br>\n",
    "e.O processamento de consultas analíticas em um data lake é usualmente mais custoso do que o processamento de consultas analíticas em um data warehouse.<br>"
   ]
  },
  {
   "cell_type": "markdown",
   "id": "0363a9e6",
   "metadata": {},
   "source": [
    "Consultas são realizadas sobre os dados do DW (Servidor OLAP-OnLine Analytical Processing) ou do Data Lake (Motor de consulta ex.SQL)"
   ]
  },
  {
   "cell_type": "markdown",
   "id": "946c92c6",
   "metadata": {},
   "source": [
    "Questão 5:\n",
    "\n",
    "Considere os conceitos de big data, assinale a **alternativa incorreta**:\n",
    "\n",
    "a.Ambientes de computação em nuvem são ideais para lidar com big data porque eles são caracterizados por serem ambientes computacionais com grande capacidade de armazenamento e processamento.<br>\n",
    "b.De acordo com o modelo de 7Vs, o conceito de big data se refere não apenas a quão volumosos são os dados e a quão rápida é feita a coleta desses dados, mas também a vários outros fatores.<br>\n",
    "<font color='red'>c.O Apache Spark é um exemplo de sistema de arquivo distribuído que provê suporte para o armazenamento de grande quantidade de dados, inclusive em equipamentos de hardware de baixo custo.</font><br>\n",
    "d.Bases de dados NoSQL são ideais para manipular big data porque elas oferecem suporte para a variedade dos dados.<br>\n",
    "e.No modelo de 7Vs, o conceito de variabilidade se refere ao fato de que os valores dos dados e seus significados podem variar constantemente.<br>"
   ]
  },
  {
   "cell_type": "markdown",
   "id": "92d87f94",
   "metadata": {},
   "source": [
    "Apache Spark e Apache Hadoop são Frameworks de processamento paralelo e distribuído.<br>\n",
    "HDFS (Hadoop Distributed File System) é um sistema de arquivo distribuído.<br>"
   ]
  }
 ],
 "metadata": {
  "kernelspec": {
   "display_name": "Python 3",
   "language": "python",
   "name": "python3"
  },
  "language_info": {
   "codemirror_mode": {
    "name": "ipython",
    "version": 3
   },
   "file_extension": ".py",
   "mimetype": "text/x-python",
   "name": "python",
   "nbconvert_exporter": "python",
   "pygments_lexer": "ipython3",
   "version": "3.8.10"
  }
 },
 "nbformat": 4,
 "nbformat_minor": 5
}

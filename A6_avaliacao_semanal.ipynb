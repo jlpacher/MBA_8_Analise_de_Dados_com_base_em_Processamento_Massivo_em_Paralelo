{
 "cells": [
  {
   "cell_type": "markdown",
   "id": "13802157",
   "metadata": {},
   "source": [
    "# AS6_ ADBPMP_Processamento Paralelo e Distribuído"
   ]
  },
  {
   "cell_type": "markdown",
   "id": "f5e3618a",
   "metadata": {},
   "source": [
    "Questão 1:\n",
    "\n",
    "Considere que está sendo desenvolvida uma aplicação web para uma empresa que produz mensagens de texto ilustradas que podem ser usadas como cartões de presente em datas especiais. Suponha que seja o final de semana do dia das mães e que esteja se esperando uma grande quantidade de clientes acessando os cartões e escolhendo-os para enviar para as pessoas apropriadas.\n",
    "\n",
    "Assinale a alternativa **correta** acerca da demanda dessa aplicação.\n",
    "\n",
    "a.Uma solução adequada para a demanda é escolher um ambiente de computação em nuvem e implantar a aplicação em uma nuvem comunitária.<br>\n",
    "b.Uma solução adequada para a demanda é escolher somente um cluster de computadores de alto desempenho.<br>\n",
    "c.Uma solução adequada para a demanda é escolher um ambiente de computação em nuvem e implantar a aplicação utilizando dois modelos de aplicação, um em nuvem comunitária e outro em nuvem privada.<br>\n",
    "d.Uma solução adequada para a demanda é escolher um ambiente de computação em nuvem e implantar a aplicação em uma nuvem privada.<br>\n",
    "<font color='red'>e.Uma solução adequada para a demanda é escolher uma combinação de dois tipos de clusters de computadores, um de alta disponibilidade e outro para balanceamento de carga.</font><br>"
   ]
  },
  {
   "cell_type": "markdown",
   "id": "b3a695cf",
   "metadata": {},
   "source": [
    "Combinação de clusters:<br>\n",
    "Cluster de alta disponibilidade para funcionamento 24 x 7<br>\n",
    "Cluster de balanceamento de carga para garantir eventual aumento de requisições em períodos de pico<br>\n",
    "\n",
    "A questão de \"cluster de computadores x nuvem\" não é relevante tecnicamente, uma vez que nuvem é uma Abstração que oculta a complexidade de infraestrutura<br>\n",
    "\n",
    "Modelos de implantação (nuvem privada, comunitária, pública, híbrida) diferenciam-se pelas restrições de acesso.<br>"
   ]
  },
  {
   "cell_type": "markdown",
   "id": "42ddc2d9",
   "metadata": {},
   "source": [
    "Questão 2:\n",
    "\n",
    "Assinale a alternativa **correta** acerca do modelo MapReduce.\n",
    "\n",
    "a.A função map é responsável por processar saídas intermediárias, recebendo pares chave-valor como entrada e agrupando os valores associados a uma mesma chave em um resultado único.<br>\n",
    "b.Cada job MapReduce executa as funções map e reduce de forma paralela, além de fazer uso do processo de shuffling para realizar a organização e o agrupamento dos pares chave-valor para o usuário final.<br>\n",
    "c.A função reduce tem o objetivo de comprimir e serializar os dados de entrada para então enviá-los ao processo de mapping.<br>\n",
    "<font color='red'>d.O modelo MapReduce é definido em termos de duas funções base, a função map e a função reduce, as quais trabalham com pares chave-valor.</font><br>\n",
    "e.O uso de pares chave-valor, apesar de ser muito importante, não é um requisito necessário para o bom funcionamento do modelo MapReduce.<br>"
   ]
  },
  {
   "cell_type": "markdown",
   "id": "2ca952d2",
   "metadata": {},
   "source": [
    "A função map transforma os dados de entrada em pares chave-valor, mesmo formato da saída intermediária.\n",
    "\n",
    "A função reduce recebe a saída intermediária da funçao map  e os agrupa em resultados únicos, também no formato chave-valor."
   ]
  },
  {
   "cell_type": "markdown",
   "id": "cec69bfc",
   "metadata": {},
   "source": [
    "Questão 3:\n",
    "\n",
    "Assinale a alternativa **correta** acerca do sistema de arquivos distribuídos HDFS (Hadoop Distributed File System).\n",
    "\n",
    "a.Os três tipos de nós presentes na arquitetura do HDFS e suas respectivas funcionalidades são: (I) NameNode, responsável pela manutenção de metadados sobre os dados armazenados; (II) DataNode, responsável pela replicação dos dados armazenados; e (III) FileNode, responsável pelo armazenamento dos arquivos de dados propriamente ditos.<br>\n",
    "b.O HDFS é baseado em uma arquitetura mestre-escravo e é composto por vários nós chamados de DataNode, de forma que um único nó DataNode é escolhido aleatoriamente para ser o nó mestre e é responsável por realizar a distribuição de dados para todos os outros nós.<br>\n",
    "c.O HDFS é responsável pelo armazenamento de dados em um cluster Hadoop e também por realizar o gerenciamento de todos os recursos do cluster, tais como alocação de memória primária e secundária.<br>\n",
    "<font color='red'>d.O NameNode é considerado o nó mestre dentro da arquitetura do HDFS e uma de suas responsabilidades é realizar a manutenção de metadados sobre os dados armazenados no cluster.</font><br>\n",
    "e.O DataNode pode ser considerado como um nó NameNode secundário que é voltado especificamente para a replicação de dados no HDFS, sendo utilizado somente quando a aplicação necessita ser tolerante a falhas.<br>"
   ]
  },
  {
   "cell_type": "markdown",
   "id": "688ca41e",
   "metadata": {},
   "source": [
    "HDFS:\n",
    "\n",
    "1 NameNode Primário (nó mestre) responsável pela manutenção dos metadados dos dados armazenados\n",
    "\n",
    "1 NameNode Secundário, entra em operação em caso de falha do NameNode Primário\n",
    "\n",
    "Vários DataNodes (nós escravos) para armazenamento dos dados em arquivos particionados e replicados (3 réplicas), realizando operações de leitura e escrita"
   ]
  },
  {
   "cell_type": "markdown",
   "id": "08316803",
   "metadata": {},
   "source": [
    "Questão 4:\n",
    "\n",
    "Assinale a alternativa **correta** acerca dos ambientes de computação em nuvem.\n",
    "\n",
    "<font color='red'>a.O modelo de serviços SaaS (Software as a Service) possui o mais alto nível de abstração e permite que os usuários configurem apenas seus aplicativos específicos.</font><br>\n",
    "b.O serviço mensurável é uma característica essencial na qual os usuários pagam 100% pelos serviços utilizados e 50% pelos recursos ociosos, tendo uma visão bastante completa, precisa e detalhada dos recursos e serviços contratados.<br>\n",
    "c.A elasticidade é uma característica essencial na qual os recursos computacionais podem ser alocados e liberados somente em períodos específicos e de forma limitada.<br>\n",
    "d.Nuvem privada, nuvem comunitária, nuvem pública e nuvem híbrida são modelos de implantação que diferem entre si pela quantidade de recursos de infraestrutura oferecidos.<br>\n",
    "e.O modelo de serviços IaaS (Infrastructure as a Service) possui um alto nível de abstração e possibilita que os usuários tenham acesso a serviços de infraestrutura e software.<br>"
   ]
  },
  {
   "cell_type": "markdown",
   "id": "5cd7a2f2",
   "metadata": {},
   "source": [
    "Computação em nuvem tem 3 modelos de serviços:\n",
    "\n",
    "SaaS: Nível de abstração alto - programas aplicativos, usuários podem apenas configurar seus aplicativos específicos<br>\n",
    "PaaS: Nível de abstração intermediário - plataforma para a execução dos aplicativos, usuários têm controle sobre os aplicativos implantados e podem definir configurações para o ambiente de hospedagem de aplicativos<br>\n",
    "IaaS: Nível de abstração baixo - infraestrutura, camada física, hardware (rede, servidores, armazenamento), usuários têm controle sobre os sistemas operacionais, armazenamento e aplicativos implantados e podem ter controle limitado sobre componentes de rede selecionados <br>\n",
    "\n",
    "Modelos de implantação (nuvem privada, comunitária, pública, híbrida) diferenciam-se pelas restrições de acesso."
   ]
  },
  {
   "cell_type": "markdown",
   "id": "b40ab7ef",
   "metadata": {},
   "source": [
    "Questão 5:\n",
    "\n",
    "Considere as seguintes afirmações:\n",
    "\n",
    "I. Em um cluster Beowulf, não é necessário o uso de um hardware específico ou potente e a conexão entre os nós pode ser feita por redes Ethernet.<br>\n",
    "II. No modelo de serviços SaaS (Software as a Service), o recurso fornecido é a plataforma para a execução dos aplicativos e, como resultado, os usuários têm controle sobre os sistemas operacionais e os componentes de rede.<br>\n",
    "III. O modelo MapReduce é um modelo de programação funcional voltado ao processamento paralelo e distribuído de gigantescos volumes de dados.<br>\n",
    "IV. Uma grande diferença entre o fluxo de dados no Apache Spark e no Apache Hadoop está relacionado ao modo em que dados temporários são armazenados. O Apache Spark, por padrão, busca priorizar a utilização do armazenamento em memória primária (memória RAM), enquanto que o Apache Hadoop armazena em memória secundária (disco).<br>\n",
    "V. Resilient Distributed Datasets (RDDs) são coleções de dados distribuídos que permitem o armazenamento de resultados intermediários em memória primária e são intrínsecos ao framework Apache Hadoop.<br>\n",
    "\n",
    "Considerando V (Verdadeiro) e F (Falso), assinale a alternativa **correta**:\n",
    "\n",
    "a.F - F - V - V - F  <br>\n",
    "<font color='red'>b.V - F - V - V - F  </font><br>\n",
    "c.V - F - V - F - V  <br>\n",
    "d.V - V - F - F - F  <br>\n",
    "e.F - V - F - F - V  <br>"
   ]
  },
  {
   "cell_type": "markdown",
   "id": "be1148ee",
   "metadata": {},
   "source": [
    "a.V <br>\n",
    "Cluster Beowulf: Padrão de cluster disponibilizado pela NASA em 1994, características:<br>\n",
    "○ A conexão entre os nós pode ser feita por redes Ethernet<br>\n",
    "○ Não é necessário o uso de hardware específico ou potente<br>\n",
    "\n",
    "b.F <br>\n",
    "SaaS: Recursos fornecidos são os programas aplicativos e usuários podem apenas configurar seus aplicativos específicos<br>\n",
    "\n",
    "c.V <br>\n",
    "MapReduce: Modelo de programação funcional, voltado ao processamento massivo de dados (gigantescos), projetado para clusters formados por computadores comuns com foco em processamento paralelo e distribuído<br>\n",
    "\n",
    "d.V <br>\n",
    "Apache Hadoop armazena os resultados intermediários em memória secundária (disco) enquanto o Apache Spark armazena em memória primária (memória RAM), nesse último caso os dados estão prontos para serem utilizados e não precisam ser lidos antes.<br>\n",
    "\n",
    "e.F <br>\n",
    "RDD - Resilient Distributed Datasets permitem o armazenamento de resultados intermediários em memória primária, importante quando se deseja reutilizar essas saídas em operações futuras, e como resultado o uso de RDDs diminui o número de acessos a disco, e fazem parte do framwork Apache Spark.<br>\n"
   ]
  }
 ],
 "metadata": {
  "kernelspec": {
   "display_name": "Python 3",
   "language": "python",
   "name": "python3"
  },
  "language_info": {
   "codemirror_mode": {
    "name": "ipython",
    "version": 3
   },
   "file_extension": ".py",
   "mimetype": "text/x-python",
   "name": "python",
   "nbconvert_exporter": "python",
   "pygments_lexer": "ipython3",
   "version": "3.8.10"
  }
 },
 "nbformat": 4,
 "nbformat_minor": 5
}

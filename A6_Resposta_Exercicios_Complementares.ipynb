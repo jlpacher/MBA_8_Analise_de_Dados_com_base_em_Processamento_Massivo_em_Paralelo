{
 "cells": [
  {
   "cell_type": "markdown",
   "metadata": {
    "id": "2QbaUWeQxHYR"
   },
   "source": [
    "# <span style=\"color:blue\">MBA em Ciência de Dados</span>\n",
    "# <span style=\"color:blue\">Análise de Dados com Base em Processamento Massivo em Paralelo</span>\n",
    "\n",
    "## <span style=\"color:blue\">Aula 06: Processamento Paralelo e Distribuído</span>\n",
    "## <span style=\"color:blue\">Respostas dos Exercícios</span>\n",
    "\n",
    "**Material Produzido por:**<br>\n",
    ">**Profa. Dra. Cristina Dutra de Aguiar Ciferri**<br>\n",
    "\n",
    "**CEMEAI - ICMC/USP São Carlos**\n",
    "\n",
    "Esta lista de exercícios contém 9 exercícios, os quais estão espalhados ao longo do texto. Por favor, procurem por EXERCÍCIO para encontrar a especificação dos exercícios e as suas respectivas respostas. Também é possível localizar os exercícios utilizando o menu de navegação. Por completude, o notebook possui todas as descrições apresentadas na parte prática da Aula 06. Recomenda-se fortemente que a lista de exercícios seja respondida antes de se consultar as respostas dos exercícios Recomenda-se fortemente que a lista de exercícios seja respondida antes de se consultar as respostas dos exercícios."
   ]
  },
  {
   "cell_type": "markdown",
   "metadata": {
    "id": "AWKkx5f8xTMM"
   },
   "source": [
    "# 1 Introdução\n",
    "\n",
    "A aplicação de *data warehousing* da BI Solutions utiliza como base uma contelação de fatos que une dois esquemas estrela, conforme descrito a seguir.\n",
    "\n",
    "**Tabelas de dimensão**\n",
    "\n",
    "- data (dataPK, dataCompleta, dataDia, dataMes, dataBimestre, dataTrimestre, dataSemestre, dataAno)\n",
    "- funcionario (funcPK, funcMatricula, funcNome, funcSexo, funcDataNascimento, funcDiaNascimento, funcMesNascimento, funcAnoNascimento, funcCidade, funcEstadoNome, funcEstadoSigla, funcRegiaoNome, funcRegiaoSigla, funcPaisNome, funcPaisSigla)\n",
    "- equipe (equipePK, equipeNome, filialNome, filialCidade, filialEstadoNome, filialEstadoSigla, filialRegiaoNome, filialRegiaoSigla, filialPaisNome, filialPaisSigla)\n",
    "- cargo (cargoPK, cargoNome, cargoRegimeTrabalho, cargoEscolaridadeMinima, cargoNivel)\n",
    "- cliente (clientePK, clienteNomeFantasia, clienteSetor, clienteCidade, clienteEstadoNome, clienteEstadoSigla, clienteRegiaoNome, clienteRegiaoSigla, clientePaisNome, clientePaisSigla)\n",
    "\n",
    "**Tabelas de fatos**\n",
    "- pagamento (dataPK, funcPK, equipePK, cargoPK, salario, quantidadeLancamento)\n",
    "- negociacao (dataPK, equipePK, clientePK, receita, quantidadeNegociacao)"
   ]
  },
  {
   "cell_type": "markdown",
   "metadata": {
    "id": "vYmvShw4vfP5"
   },
   "source": [
    "Primeiramente, são definidos `paths`, sendo que cada `path` se refere a uma tabela de fatos ou uma tabela de dimensão. "
   ]
  },
  {
   "cell_type": "code",
   "execution_count": 1,
   "metadata": {
    "executionInfo": {
     "elapsed": 4,
     "status": "ok",
     "timestamp": 1635717534147,
     "user": {
      "displayName": "Cristina Aguiar",
      "photoUrl": "https://lh3.googleusercontent.com/a-/AOh14Ghm5-HutuB5OUCrYhu0nhLTQcZZyzBZhLySrDpjFQ=s64",
      "userId": "02805498492766545440"
     },
     "user_tz": 180
    },
    "id": "G1kwE479vk4N"
   },
   "outputs": [],
   "source": [
    "# Tabelas de dimensão\n",
    "pathData = 'dados/data.csv'\n",
    "pathFuncionario = 'dados/funcionario.csv'\n",
    "pathEquipe = 'dados/equipe.csv'\n",
    "pathCargo = 'dados/cargo.csv'\n",
    "pathCliente = 'dados/cliente.csv'\n",
    "\n",
    "# Tabelas de fato\n",
    "pathPagamento = 'dados/pagamento.csv'\n",
    "pathNegociacao = 'dados/negociacao.csv'"
   ]
  },
  {
   "cell_type": "markdown",
   "metadata": {
    "id": "hiIhXOKe11No"
   },
   "source": [
    "Na sequência,  todos os arquivos referentes às tabelas de fatos e às tabelas de dimensão são baixados, sendo armazenados na pasta `dados`."
   ]
  },
  {
   "cell_type": "code",
   "execution_count": 2,
   "metadata": {
    "executionInfo": {
     "elapsed": 1031,
     "status": "ok",
     "timestamp": 1635717535175,
     "user": {
      "displayName": "Cristina Aguiar",
      "photoUrl": "https://lh3.googleusercontent.com/a-/AOh14Ghm5-HutuB5OUCrYhu0nhLTQcZZyzBZhLySrDpjFQ=s64",
      "userId": "02805498492766545440"
     },
     "user_tz": 180
    },
    "id": "kHsUKNlvvaBT"
   },
   "outputs": [],
   "source": [
    "%%capture\n",
    "!git clone https://github.com/GuiMuzziUSP/Data_Mart_BI_Solutions.git dados"
   ]
  },
  {
   "cell_type": "markdown",
   "metadata": {
    "id": "qlYaf6zo0W_B"
   },
   "source": [
    "# 2 Apache Spark Cluster"
   ]
  },
  {
   "cell_type": "markdown",
   "metadata": {
    "id": "5Zl1gR_qy1PD"
   },
   "source": [
    "### 2.1 Instalação\n",
    "\n",
    "Neste *notebook* é criado um *cluster* Spark composto apenas por um **nó mestre**. Ou seja, o *cluster* não possui um ou mais **nós de trabalho** e o **gerenciador de cluster**. Nessa configuração, as tarefas (*tasks*) são realizadas no próprio *driver* localizado no **nó mestre**."
   ]
  },
  {
   "cell_type": "code",
   "execution_count": 3,
   "metadata": {
    "executionInfo": {
     "elapsed": 28658,
     "status": "ok",
     "timestamp": 1635717563831,
     "user": {
      "displayName": "Cristina Aguiar",
      "photoUrl": "https://lh3.googleusercontent.com/a-/AOh14Ghm5-HutuB5OUCrYhu0nhLTQcZZyzBZhLySrDpjFQ=s64",
      "userId": "02805498492766545440"
     },
     "user_tz": 180
    },
    "id": "vjO0nAeqyRna"
   },
   "outputs": [],
   "source": [
    "#instalando Java Runtime Environment (JRE) versão 8\n",
    "%%capture\n",
    "!apt-get remove openjdk*\n",
    "!apt-get update --fix-missing\n",
    "!apt-get install openjdk-8-jdk-headless -qq > /dev/null"
   ]
  },
  {
   "cell_type": "markdown",
   "metadata": {
    "id": "FDL6HLRhzHzL"
   },
   "source": [
    "Na sequência, é feito o *download* do Apache Spark versão 3.0.0."
   ]
  },
  {
   "cell_type": "code",
   "execution_count": 4,
   "metadata": {
    "executionInfo": {
     "elapsed": 11119,
     "status": "ok",
     "timestamp": 1635717574945,
     "user": {
      "displayName": "Cristina Aguiar",
      "photoUrl": "https://lh3.googleusercontent.com/a-/AOh14Ghm5-HutuB5OUCrYhu0nhLTQcZZyzBZhLySrDpjFQ=s64",
      "userId": "02805498492766545440"
     },
     "user_tz": 180
    },
    "id": "5ItvOmwstGOO"
   },
   "outputs": [],
   "source": [
    "#baixando Apache Spark versão 3.0.0\n",
    "%%capture\n",
    "!wget -q https://archive.apache.org/dist/spark/spark-3.0.0/spark-3.0.0-bin-hadoop2.7.tgz\n",
    "!tar xf spark-3.0.0-bin-hadoop2.7.tgz && rm spark-3.0.0-bin-hadoop2.7.tgz"
   ]
  },
  {
   "cell_type": "markdown",
   "metadata": {
    "id": "hcPvn_vgtJ6l"
   },
   "source": [
    "Na sequência, são configuradas as variáveis de ambiente JAVA_HOME e SPARK_HOME. Isto permite que tanto o Java quanto o Spark possam ser encontrados."
   ]
  },
  {
   "cell_type": "code",
   "execution_count": 5,
   "metadata": {
    "executionInfo": {
     "elapsed": 11,
     "status": "ok",
     "timestamp": 1635717574945,
     "user": {
      "displayName": "Cristina Aguiar",
      "photoUrl": "https://lh3.googleusercontent.com/a-/AOh14Ghm5-HutuB5OUCrYhu0nhLTQcZZyzBZhLySrDpjFQ=s64",
      "userId": "02805498492766545440"
     },
     "user_tz": 180
    },
    "id": "HAXvU63xtRck"
   },
   "outputs": [],
   "source": [
    "import os\n",
    "#configurando a variável de ambiente JAVA_HOME\n",
    "os.environ[\"JAVA_HOME\"] = \"/usr/lib/jvm/java-8-openjdk-amd64\"\n",
    "#configurando a variável de ambiente SPARK_HOME\n",
    "os.environ[\"SPARK_HOME\"] = \"/content/spark-3.0.0-bin-hadoop2.7\""
   ]
  },
  {
   "cell_type": "markdown",
   "metadata": {
    "id": "n8hAOJtBtY7M"
   },
   "source": [
    "Por fim, são instalados dois pacotes da linguagem de programação Python, cujas funcionalidades são descritas a seguir.\n",
    "\n",
    "Pacote findspark: Usado para ler a variável de ambiente SPARK_HOME e armazenar seu valor na variável dinâmica de ambiente PYTHONPATH. Como resultado, Python pode encontrar a instalação do Spark.\n",
    "\n",
    "Pacote pyspark: PySpark é a API do Python para Spark. Ela possibilita o uso de Python, considerando que o framework Apache Spark encontra-se desenvolvido na linguagem de programação Scala."
   ]
  },
  {
   "cell_type": "code",
   "execution_count": 6,
   "metadata": {
    "executionInfo": {
     "elapsed": 40522,
     "status": "ok",
     "timestamp": 1635717615458,
     "user": {
      "displayName": "Cristina Aguiar",
      "photoUrl": "https://lh3.googleusercontent.com/a-/AOh14Ghm5-HutuB5OUCrYhu0nhLTQcZZyzBZhLySrDpjFQ=s64",
      "userId": "02805498492766545440"
     },
     "user_tz": 180
    },
    "id": "X-0U9STdtZ4Y"
   },
   "outputs": [],
   "source": [
    "%%capture\n",
    "#instalando o pacote findspark\n",
    "!pip install -q findspark==1.4.2\n",
    "#instalando o pacote pyspark\n",
    "!pip install -q pyspark==3.0.0"
   ]
  },
  {
   "cell_type": "markdown",
   "metadata": {
    "id": "1xrBLEKI0OWx"
   },
   "source": [
    "### 2.4 Conexão\n",
    "\n",
    "PySpark não é adicionado ao *sys.path* por padrão. Isso significa que não é possível importá-lo, pois o interpretador da linguagem Python não sabe onde encontrá-lo. \n",
    "\n",
    "Para resolver esse aspecto, é necessário instalar o módulo `findspark`. Esse módulo mostra onde PySpark está localizado. Os comandos a seguir têm essa finalidade."
   ]
  },
  {
   "cell_type": "code",
   "execution_count": 7,
   "metadata": {
    "executionInfo": {
     "elapsed": 12,
     "status": "ok",
     "timestamp": 1635717615458,
     "user": {
      "displayName": "Cristina Aguiar",
      "photoUrl": "https://lh3.googleusercontent.com/a-/AOh14Ghm5-HutuB5OUCrYhu0nhLTQcZZyzBZhLySrDpjFQ=s64",
      "userId": "02805498492766545440"
     },
     "user_tz": 180
    },
    "id": "0RAqybyZYKdn"
   },
   "outputs": [],
   "source": [
    "#importando o módulo findspark\n",
    "import findspark\n",
    "#carregando a variávels SPARK_HOME na variável dinâmica PYTHONPATH\n",
    "findspark.init()"
   ]
  },
  {
   "cell_type": "markdown",
   "metadata": {
    "id": "bJjl5aEvtnur"
   },
   "source": [
    "Depois de configurados os pacotes e módulos e inicializadas as variáveis de ambiente, é possível criar o objeto SparkContext. No comando de criação a seguir, é definido que é utilizado o próprio sistema operacional deste notebook como nó mestre por meio do parâmetro local do método setMaster. O complemento do parametro [*] indica que são alocados todos os núcleos de processamento disponíveis para o objeto driver criado."
   ]
  },
  {
   "cell_type": "code",
   "execution_count": 8,
   "metadata": {
    "executionInfo": {
     "elapsed": 4635,
     "status": "ok",
     "timestamp": 1635717620082,
     "user": {
      "displayName": "Cristina Aguiar",
      "photoUrl": "https://lh3.googleusercontent.com/a-/AOh14Ghm5-HutuB5OUCrYhu0nhLTQcZZyzBZhLySrDpjFQ=s64",
      "userId": "02805498492766545440"
     },
     "user_tz": 180
    },
    "id": "KB7ZlgxIVss3"
   },
   "outputs": [],
   "source": [
    "from pyspark import SparkConf, SparkContext\n",
    "\n",
    "conf = SparkConf().setMaster(\"local[*]\")\n",
    "spark = SparkContext(conf=conf)"
   ]
  },
  {
   "cell_type": "markdown",
   "metadata": {
    "id": "c7SWE09n1sug"
   },
   "source": [
    "# 3 Carregamento dos Dados da Aplicação da BI Solutions"
   ]
  },
  {
   "cell_type": "markdown",
   "metadata": {
    "id": "G8D5I5Fb5YrL"
   },
   "source": [
    "### 3.1 Carregamento da tabela de dimensão **data**"
   ]
  },
  {
   "cell_type": "markdown",
   "metadata": {
    "id": "QPli-rPKjCMh"
   },
   "source": [
    "O comando a seguir utiliza o método `textFile()` para armazenar no RDD chamado `data` os registros do arquivo de texto `\"data.csv\"`, os quais possuem os dados da tabela de dimensão `data`."
   ]
  },
  {
   "cell_type": "code",
   "execution_count": 9,
   "metadata": {
    "executionInfo": {
     "elapsed": 1192,
     "status": "ok",
     "timestamp": 1635717621271,
     "user": {
      "displayName": "Cristina Aguiar",
      "photoUrl": "https://lh3.googleusercontent.com/a-/AOh14Ghm5-HutuB5OUCrYhu0nhLTQcZZyzBZhLySrDpjFQ=s64",
      "userId": "02805498492766545440"
     },
     "user_tz": 180
    },
    "id": "iWOM5WsQf2pa"
   },
   "outputs": [],
   "source": [
    "data_rdd = spark.textFile(pathData)"
   ]
  },
  {
   "cell_type": "markdown",
   "metadata": {
    "id": "2076gqycn_yS"
   },
   "source": [
    "Os comandos a seguir realizam alterações no RDD `data` de forma que seus elementos representem linhas (ou tuplas) da tabela."
   ]
  },
  {
   "cell_type": "code",
   "execution_count": 10,
   "metadata": {
    "colab": {
     "base_uri": "https://localhost:8080/"
    },
    "executionInfo": {
     "elapsed": 1748,
     "status": "ok",
     "timestamp": 1635717623017,
     "user": {
      "displayName": "Cristina Aguiar",
      "photoUrl": "https://lh3.googleusercontent.com/a-/AOh14Ghm5-HutuB5OUCrYhu0nhLTQcZZyzBZhLySrDpjFQ=s64",
      "userId": "02805498492766545440"
     },
     "user_tz": 180
    },
    "id": "FGN8-kownl0e",
    "outputId": "a048bef3-c153-4cbb-bde3-79638974ce35"
   },
   "outputs": [
    {
     "data": {
      "text/plain": [
       "['dataPK,dataCompleta,dataDia,dataMes,dataBimestre,dataTrimestre,dataSemestre,dataAno',\n",
       " '1,1/1/2016,1,1,1,1,1,2016',\n",
       " '2,2/1/2016,2,1,1,1,1,2016']"
      ]
     },
     "execution_count": 10,
     "metadata": {},
     "output_type": "execute_result"
    }
   ],
   "source": [
    "#imprimindo as 3 primeiras linhas de \"data\" e verificando que a primeira linha contém metadados (ou seja, o esquema referente aos dados)\n",
    "data_rdd.take(3)"
   ]
  },
  {
   "cell_type": "code",
   "execution_count": 11,
   "metadata": {
    "executionInfo": {
     "elapsed": 4,
     "status": "ok",
     "timestamp": 1635717623017,
     "user": {
      "displayName": "Cristina Aguiar",
      "photoUrl": "https://lh3.googleusercontent.com/a-/AOh14Ghm5-HutuB5OUCrYhu0nhLTQcZZyzBZhLySrDpjFQ=s64",
      "userId": "02805498492766545440"
     },
     "user_tz": 180
    },
    "id": "mjJZjQySf2ho"
   },
   "outputs": [],
   "source": [
    "#removendo a primeira linha de \"data\", desde que ela se refere a metadados\n",
    "#capturando o cabeçalho\n",
    "firstRow = data_rdd.first()\n",
    "#removendo o cabeçalho\n",
    "data_rdd = data_rdd.filter(lambda line: line != firstRow)"
   ]
  },
  {
   "cell_type": "code",
   "execution_count": 12,
   "metadata": {
    "colab": {
     "base_uri": "https://localhost:8080/"
    },
    "executionInfo": {
     "elapsed": 439,
     "status": "ok",
     "timestamp": 1635717623453,
     "user": {
      "displayName": "Cristina Aguiar",
      "photoUrl": "https://lh3.googleusercontent.com/a-/AOh14Ghm5-HutuB5OUCrYhu0nhLTQcZZyzBZhLySrDpjFQ=s64",
      "userId": "02805498492766545440"
     },
     "user_tz": 180
    },
    "id": "cAFiGv_qycSu",
    "outputId": "7653b712-1f9d-42eb-8b7d-739e751c474d"
   },
   "outputs": [
    {
     "data": {
      "text/plain": [
       "['1,1/1/2016,1,1,1,1,1,2016',\n",
       " '2,2/1/2016,2,1,1,1,1,2016',\n",
       " '3,3/1/2016,3,1,1,1,1,2016']"
      ]
     },
     "execution_count": 12,
     "metadata": {},
     "output_type": "execute_result"
    }
   ],
   "source": [
    "#imprimindo as 3 primeiras linhas de \"data\" e verificando que elas contêm apenas dados\n",
    "data_rdd.take(3)"
   ]
  },
  {
   "cell_type": "code",
   "execution_count": 13,
   "metadata": {
    "colab": {
     "base_uri": "https://localhost:8080/",
     "height": 156
    },
    "executionInfo": {
     "elapsed": 8,
     "status": "ok",
     "timestamp": 1635717623454,
     "user": {
      "displayName": "Cristina Aguiar",
      "photoUrl": "https://lh3.googleusercontent.com/a-/AOh14Ghm5-HutuB5OUCrYhu0nhLTQcZZyzBZhLySrDpjFQ=s64",
      "userId": "02805498492766545440"
     },
     "user_tz": 180
    },
    "id": "qvUk1tNTnCbO",
    "outputId": "89b75a35-1611-4f5a-d55c-d9de67014c0c"
   },
   "outputs": [
    {
     "data": {
      "text/plain": [
       "['dataPK',\n",
       " 'dataCompleta',\n",
       " 'dataDia',\n",
       " 'dataMes',\n",
       " 'dataBimestre',\n",
       " 'dataTrimestre',\n",
       " 'dataSemestre',\n",
       " 'dataAno']"
      ]
     },
     "metadata": {},
     "output_type": "display_data"
    }
   ],
   "source": [
    "#imprimindo o cabeçalho de \"data\" e verificando os metadados \n",
    "data_header = firstRow[:].split(\",\")\n",
    "display(data_header)"
   ]
  },
  {
   "cell_type": "markdown",
   "metadata": {
    "id": "Rm57ZD8bhE6G"
   },
   "source": [
    "Desde que o arquivo lido encontra-se no formato `.csv`, utiliza-se o método `()` para transformar os elementos do RDD `data` em uma lista de valores divididos por `\",\"`."
   ]
  },
  {
   "cell_type": "code",
   "execution_count": 14,
   "metadata": {
    "colab": {
     "base_uri": "https://localhost:8080/"
    },
    "executionInfo": {
     "elapsed": 8,
     "status": "ok",
     "timestamp": 1635717623455,
     "user": {
      "displayName": "Cristina Aguiar",
      "photoUrl": "https://lh3.googleusercontent.com/a-/AOh14Ghm5-HutuB5OUCrYhu0nhLTQcZZyzBZhLySrDpjFQ=s64",
      "userId": "02805498492766545440"
     },
     "user_tz": 180
    },
    "id": "yMt3gxSLf2d7",
    "outputId": "d03053a8-cd1d-4311-ee74-34d83b243f53"
   },
   "outputs": [
    {
     "data": {
      "text/plain": [
       "[('1', '1/1/2016', '1', '1', '1', '1', '1', '2016'),\n",
       " ('2', '2/1/2016', '2', '1', '1', '1', '1', '2016'),\n",
       " ('3', '3/1/2016', '3', '1', '1', '1', '1', '2016')]"
      ]
     },
     "execution_count": 14,
     "metadata": {},
     "output_type": "execute_result"
    }
   ],
   "source": [
    "#mapeando os valores do RDD \"data\" utilizando o separador vírgula\n",
    "data_rdd = data_rdd.map(lambda line: tuple(line.split(\",\")))\n",
    "#imprimindo as 3 primeiras linhas de \"data\"\n",
    "data_rdd.take(3)"
   ]
  },
  {
   "cell_type": "markdown",
   "metadata": {
    "id": "bCFWrvu8hSNx"
   },
   "source": [
    "### 3.2 Carregamento das demais tabelas"
   ]
  },
  {
   "cell_type": "markdown",
   "metadata": {
    "id": "NzmenlB1etNP"
   },
   "source": [
    "#### **EXERCÍCIO 1**\n",
    "\n",
    "Realize o carregamento dos demais arquivos referentes à constelação de fatos da BI solution, a saber: (i) tabelas de dimensão `funcionario`, `equipe`, `cargo` e `cliente`; e (ii) tabelas de fato `pagamento` e `negociação`. \n",
    "\n",
    "**Dica 1**: Crie uma função para executar este procedimento repetidas vezes. Utilize o esqueleto a seguir como base.\n",
    "\n",
    "**Dica 2**: Se tiver dificuldades em criar a função, replique os comandos descritos para o carregamento da tabela de dimensão data para todas as tabelas restantes.\n",
    "\n",
    "```python\n",
    "def processaRdd(spark, path):\n",
    "  ...\n",
    "  return header, rddCsv\n",
    "```"
   ]
  },
  {
   "cell_type": "code",
   "execution_count": 15,
   "metadata": {
    "executionInfo": {
     "elapsed": 6,
     "status": "ok",
     "timestamp": 1635717623455,
     "user": {
      "displayName": "Cristina Aguiar",
      "photoUrl": "https://lh3.googleusercontent.com/a-/AOh14Ghm5-HutuB5OUCrYhu0nhLTQcZZyzBZhLySrDpjFQ=s64",
      "userId": "02805498492766545440"
     },
     "user_tz": 180
    },
    "id": "3iLIztEIf2VW"
   },
   "outputs": [],
   "source": [
    "# Resposta do exercício\n",
    "\n",
    "#criando a função \n",
    "def processaRdd(spark, path):\n",
    "  rddCsv = spark.textFile(path)\n",
    "  #capturando o cabeçalho\n",
    "  firstRow = rddCsv.first()\n",
    "  rddCsv = rddCsv.filter(lambda line: line != firstRow)\n",
    "  header = firstRow[:].split(\",\")\n",
    "\n",
    "  #processando o rddCsv\n",
    "  rddCsv = rddCsv.map(lambda x: tuple(x.split(\",\")))\n",
    "\n",
    "  return header, rddCsv"
   ]
  },
  {
   "cell_type": "code",
   "execution_count": 16,
   "metadata": {
    "executionInfo": {
     "elapsed": 903,
     "status": "ok",
     "timestamp": 1635717624353,
     "user": {
      "displayName": "Cristina Aguiar",
      "photoUrl": "https://lh3.googleusercontent.com/a-/AOh14Ghm5-HutuB5OUCrYhu0nhLTQcZZyzBZhLySrDpjFQ=s64",
      "userId": "02805498492766545440"
     },
     "user_tz": 180
    },
    "id": "C896lye-f2RI"
   },
   "outputs": [],
   "source": [
    "#resposta do exercício 1\n",
    "\n",
    "#realizando o carregamento das tabelas de dimensão\n",
    "funcionario_header, funcionario_rdd = processaRdd(spark, pathFuncionario)\n",
    "equipe_header, equipe_rdd = processaRdd(spark, pathEquipe)\n",
    "cargo_header, cargo_rdd = processaRdd(spark, pathCargo)\n",
    "cliente_header, cliente_rdd = processaRdd(spark, pathCliente)\n",
    "\n",
    "#realizando o carregamento das tabelas de fatos\n",
    "pagamento_header, pagamento_rdd = processaRdd(spark, pathPagamento)\n",
    "negociacao_header, negociacao_rdd = processaRdd(spark, pathNegociacao)"
   ]
  },
  {
   "cell_type": "code",
   "execution_count": 17,
   "metadata": {
    "colab": {
     "base_uri": "https://localhost:8080/",
     "height": 1000
    },
    "executionInfo": {
     "elapsed": 6,
     "status": "ok",
     "timestamp": 1635717624354,
     "user": {
      "displayName": "Cristina Aguiar",
      "photoUrl": "https://lh3.googleusercontent.com/a-/AOh14Ghm5-HutuB5OUCrYhu0nhLTQcZZyzBZhLySrDpjFQ=s64",
      "userId": "02805498492766545440"
     },
     "user_tz": 180
    },
    "id": "eVzytHl4327L",
    "outputId": "a3a267a4-121f-4d6f-ed06-f96aa13b3d95"
   },
   "outputs": [
    {
     "data": {
      "text/plain": [
       "['funcPK',\n",
       " 'funcMatricula',\n",
       " 'funcNome',\n",
       " 'funcSexo',\n",
       " 'funcDataNascimento',\n",
       " 'funcDiaNascimento',\n",
       " 'funcMesNascimento',\n",
       " 'funcAnoNascimento',\n",
       " 'funcCidade',\n",
       " 'funcEstadoNome',\n",
       " 'funcEstadoSigla',\n",
       " 'funcRegiaoNome',\n",
       " 'funcRegiaoSigla',\n",
       " 'funcPaisNome',\n",
       " 'funcPaisSigla']"
      ]
     },
     "metadata": {},
     "output_type": "display_data"
    },
    {
     "data": {
      "text/plain": [
       "[('1',\n",
       "  'M-1',\n",
       "  'ALINE ALMEIDA',\n",
       "  'F',\n",
       "  '1/1/1990',\n",
       "  '1',\n",
       "  '1',\n",
       "  '1990',\n",
       "  'SAO PAULO',\n",
       "  'SAO PAULO',\n",
       "  'SP',\n",
       "  'SUDESTE',\n",
       "  'SE',\n",
       "  'BRASIL',\n",
       "  'BR'),\n",
       " ('2',\n",
       "  'M-2',\n",
       "  'ARAO ALVES',\n",
       "  'M',\n",
       "  '2/2/1990',\n",
       "  '2',\n",
       "  '2',\n",
       "  '1990',\n",
       "  'CAMPINAS',\n",
       "  'SAO PAULO',\n",
       "  'SP',\n",
       "  'SUDESTE',\n",
       "  'SE',\n",
       "  'BRASIL',\n",
       "  'BR'),\n",
       " ('3',\n",
       "  'M-3',\n",
       "  'ARON ANDRADE',\n",
       "  'M',\n",
       "  '3/3/1990',\n",
       "  '3',\n",
       "  '3',\n",
       "  '1990',\n",
       "  'SANTOS',\n",
       "  'SAO PAULO',\n",
       "  'SP',\n",
       "  'SUDESTE',\n",
       "  'SE',\n",
       "  'BRASIL',\n",
       "  'BR')]"
      ]
     },
     "execution_count": 17,
     "metadata": {},
     "output_type": "execute_result"
    }
   ],
   "source": [
    "#resposta do exercício 1\n",
    "\n",
    "#exibindo os metadados e as 3 primeiras linhas de funcionario \n",
    "display(funcionario_header)\n",
    "funcionario_rdd.take(3)"
   ]
  },
  {
   "cell_type": "code",
   "execution_count": 18,
   "metadata": {
    "colab": {
     "base_uri": "https://localhost:8080/",
     "height": 711
    },
    "executionInfo": {
     "elapsed": 459,
     "status": "ok",
     "timestamp": 1635717624808,
     "user": {
      "displayName": "Cristina Aguiar",
      "photoUrl": "https://lh3.googleusercontent.com/a-/AOh14Ghm5-HutuB5OUCrYhu0nhLTQcZZyzBZhLySrDpjFQ=s64",
      "userId": "02805498492766545440"
     },
     "user_tz": 180
    },
    "id": "dGKouLiY4dE8",
    "outputId": "46c1c689-a2a8-4f85-ed20-2d616756104a"
   },
   "outputs": [
    {
     "data": {
      "text/plain": [
       "['equipePK',\n",
       " 'equipeNome',\n",
       " 'filialNome',\n",
       " 'filialCidade',\n",
       " 'filialEstadoNome',\n",
       " 'filialEstadoSigla',\n",
       " 'filialRegiaoNome',\n",
       " 'filialRegiaoSigla',\n",
       " 'filialPaisNome',\n",
       " 'filialPaisSigla']"
      ]
     },
     "metadata": {},
     "output_type": "display_data"
    },
    {
     "data": {
      "text/plain": [
       "[('1',\n",
       "  'APP - DESKTOP',\n",
       "  'SAO PAULO - AV. PAULISTA',\n",
       "  'SAO PAULO',\n",
       "  'SAO PAULO',\n",
       "  'SP',\n",
       "  'SUDESTE',\n",
       "  'SE',\n",
       "  'BRASIL',\n",
       "  'BR'),\n",
       " ('2',\n",
       "  'APP - DESKTOP',\n",
       "  'RIO DE JANEIRO - BARRA DA TIJUCA',\n",
       "  'RIO DE JANEIRO',\n",
       "  'RIO DE JANEIRO',\n",
       "  'RJ',\n",
       "  'SUDESTE',\n",
       "  'SE',\n",
       "  'BRASIL',\n",
       "  'BR'),\n",
       " ('3',\n",
       "  'WEB',\n",
       "  'SAO PAULO - AV. PAULISTA',\n",
       "  'SAO PAULO',\n",
       "  'SAO PAULO',\n",
       "  'SP',\n",
       "  'SUDESTE',\n",
       "  'SE',\n",
       "  'BRASIL',\n",
       "  'BR')]"
      ]
     },
     "execution_count": 18,
     "metadata": {},
     "output_type": "execute_result"
    }
   ],
   "source": [
    "#resposta do exercício 1\n",
    "\n",
    "#exibindo os metadados e as 3 primeiras linhas de equipe \n",
    "display(equipe_header)\n",
    "equipe_rdd.take(3)"
   ]
  },
  {
   "cell_type": "code",
   "execution_count": 19,
   "metadata": {
    "colab": {
     "base_uri": "https://localhost:8080/",
     "height": 433
    },
    "executionInfo": {
     "elapsed": 9,
     "status": "ok",
     "timestamp": 1635717624808,
     "user": {
      "displayName": "Cristina Aguiar",
      "photoUrl": "https://lh3.googleusercontent.com/a-/AOh14Ghm5-HutuB5OUCrYhu0nhLTQcZZyzBZhLySrDpjFQ=s64",
      "userId": "02805498492766545440"
     },
     "user_tz": 180
    },
    "id": "fc7pQ_-e4kHG",
    "outputId": "7a670cf2-a678-4ba5-b602-a5022aababba"
   },
   "outputs": [
    {
     "data": {
      "text/plain": [
       "['cargoPK',\n",
       " 'cargoNome',\n",
       " 'cargoRegimeTrabalho',\n",
       " 'cargoJornadaTrabalho',\n",
       " 'cargoEscolaridadeMinima',\n",
       " 'cargoNivel']"
      ]
     },
     "metadata": {},
     "output_type": "display_data"
    },
    {
     "data": {
      "text/plain": [
       "[('1',\n",
       "  'PROGRAMADOR DE SISTEMAS DE INFORMACAO',\n",
       "  'TEMPORARIO',\n",
       "  '20H',\n",
       "  'MEDIO',\n",
       "  'JUNIOR'),\n",
       " ('2',\n",
       "  'PROGRAMADOR DE SISTEMAS DE INFORMACAO',\n",
       "  'TEMPORARIO',\n",
       "  '20H',\n",
       "  'SUPERIOR',\n",
       "  'PLENO'),\n",
       " ('3',\n",
       "  'PROGRAMADOR DE SISTEMAS DE INFORMACAO',\n",
       "  'TEMPORARIO',\n",
       "  '20H',\n",
       "  'POS',\n",
       "  'SENIOR')]"
      ]
     },
     "execution_count": 19,
     "metadata": {},
     "output_type": "execute_result"
    }
   ],
   "source": [
    "#resposta do exercício 1\n",
    "\n",
    "#exibindo os metadados e as 3 primeiras linhas de cargo \n",
    "display(cargo_header)\n",
    "cargo_rdd.take(3)"
   ]
  },
  {
   "cell_type": "code",
   "execution_count": 20,
   "metadata": {
    "colab": {
     "base_uri": "https://localhost:8080/",
     "height": 711
    },
    "executionInfo": {
     "elapsed": 9,
     "status": "ok",
     "timestamp": 1635717624809,
     "user": {
      "displayName": "Cristina Aguiar",
      "photoUrl": "https://lh3.googleusercontent.com/a-/AOh14Ghm5-HutuB5OUCrYhu0nhLTQcZZyzBZhLySrDpjFQ=s64",
      "userId": "02805498492766545440"
     },
     "user_tz": 180
    },
    "id": "klgGQnb54rEf",
    "outputId": "4e39725d-4416-4cf2-df7d-69114ffad2bc"
   },
   "outputs": [
    {
     "data": {
      "text/plain": [
       "['clientePK',\n",
       " 'clienteNomeFantasia',\n",
       " 'clienteSetor',\n",
       " 'clienteCidade',\n",
       " 'clienteEstadoNome',\n",
       " 'clienteEstadoSigla',\n",
       " 'clienteRegiaoNome',\n",
       " 'clienteRegiaoSigla',\n",
       " 'clientePaisNome',\n",
       " 'clientePaisSigla']"
      ]
     },
     "metadata": {},
     "output_type": "display_data"
    },
    {
     "data": {
      "text/plain": [
       "[('1',\n",
       "  'VIA FOOD',\n",
       "  'BEBIDAS E ALIMENTOS',\n",
       "  'SAO PAULO',\n",
       "  'SAO PAULO',\n",
       "  'SP',\n",
       "  'SUDESTE',\n",
       "  'SE',\n",
       "  'BRASIL',\n",
       "  'BR'),\n",
       " ('2',\n",
       "  'VIA PIZZA',\n",
       "  'BEBIDAS E ALIMENTOS',\n",
       "  'SAO PAULO',\n",
       "  'SAO PAULO',\n",
       "  'SP',\n",
       "  'SUDESTE',\n",
       "  'SE',\n",
       "  'BRASIL',\n",
       "  'BR'),\n",
       " ('3',\n",
       "  'VIA JAPA',\n",
       "  'BEBIDAS E ALIMENTOS',\n",
       "  'SAO PAULO',\n",
       "  'SAO PAULO',\n",
       "  'SP',\n",
       "  'SUDESTE',\n",
       "  'SE',\n",
       "  'BRASIL',\n",
       "  'BR')]"
      ]
     },
     "execution_count": 20,
     "metadata": {},
     "output_type": "execute_result"
    }
   ],
   "source": [
    "#resposta do exercício 1\n",
    "\n",
    "#exibindo os metadados e as 3 primeiras linhas de cliente \n",
    "display(cliente_header)\n",
    "cliente_rdd.take(3)"
   ]
  },
  {
   "cell_type": "code",
   "execution_count": 21,
   "metadata": {
    "colab": {
     "base_uri": "https://localhost:8080/",
     "height": 87
    },
    "executionInfo": {
     "elapsed": 8,
     "status": "ok",
     "timestamp": 1635717624809,
     "user": {
      "displayName": "Cristina Aguiar",
      "photoUrl": "https://lh3.googleusercontent.com/a-/AOh14Ghm5-HutuB5OUCrYhu0nhLTQcZZyzBZhLySrDpjFQ=s64",
      "userId": "02805498492766545440"
     },
     "user_tz": 180
    },
    "id": "MwptFWZb4yU4",
    "outputId": "349ac45d-acc5-4e25-b58d-0613218ef76a"
   },
   "outputs": [
    {
     "data": {
      "text/plain": [
       "['funcPK', 'equipePK', 'dataPK', 'cargoPK', 'salario', 'quantidadeLancamentos']"
      ]
     },
     "metadata": {},
     "output_type": "display_data"
    },
    {
     "data": {
      "text/plain": [
       "[('147', '2', '5', '64', '1559.94', '1'),\n",
       " ('124', '2', '5', '329', '8102.77', '1'),\n",
       " ('175', '1', '5', '328', '2532.51', '1')]"
      ]
     },
     "execution_count": 21,
     "metadata": {},
     "output_type": "execute_result"
    }
   ],
   "source": [
    "#resposta do exercício 1\n",
    "\n",
    "#exibindo os metadados e as 3 primeiras linhas de pagamento \n",
    "display(pagamento_header)\n",
    "pagamento_rdd.take(3)"
   ]
  },
  {
   "cell_type": "code",
   "execution_count": 22,
   "metadata": {
    "colab": {
     "base_uri": "https://localhost:8080/",
     "height": 87
    },
    "executionInfo": {
     "elapsed": 302,
     "status": "ok",
     "timestamp": 1635717625104,
     "user": {
      "displayName": "Cristina Aguiar",
      "photoUrl": "https://lh3.googleusercontent.com/a-/AOh14Ghm5-HutuB5OUCrYhu0nhLTQcZZyzBZhLySrDpjFQ=s64",
      "userId": "02805498492766545440"
     },
     "user_tz": 180
    },
    "id": "-ERCG-3_4269",
    "outputId": "a1946033-3ec3-4894-98fe-d3aecb048b0d"
   },
   "outputs": [
    {
     "data": {
      "text/plain": [
       "['equipePK', 'clientePK', 'dataPK', 'receita', 'quantidadeNegociacoes']"
      ]
     },
     "metadata": {},
     "output_type": "display_data"
    },
    {
     "data": {
      "text/plain": [
       "[('2', '9', '22', '11564.75', '1'),\n",
       " ('2', '24', '11', '17990.5', '1'),\n",
       " ('2', '28', '21', '16335.9', '1')]"
      ]
     },
     "execution_count": 22,
     "metadata": {},
     "output_type": "execute_result"
    }
   ],
   "source": [
    "#resposta do exercício 1\n",
    "\n",
    "#exibindo os metadados e as 3 primeiras linhas de negociacao \n",
    "display(negociacao_header)\n",
    "negociacao_rdd.take(3)"
   ]
  },
  {
   "cell_type": "markdown",
   "metadata": {
    "id": "VM8iMnU2AinB"
   },
   "source": [
    "# 4 Uso dos Métodos para Propósitos Específicos"
   ]
  },
  {
   "cell_type": "markdown",
   "metadata": {
    "id": "Jb07Xgblptuf"
   },
   "source": [
    "## 4.1 Método map()\n",
    "\n",
    "O método `map()` pode ser utilizado para selecionar colunas."
   ]
  },
  {
   "cell_type": "code",
   "execution_count": 23,
   "metadata": {
    "colab": {
     "base_uri": "https://localhost:8080/"
    },
    "executionInfo": {
     "elapsed": 310,
     "status": "ok",
     "timestamp": 1635717625412,
     "user": {
      "displayName": "Cristina Aguiar",
      "photoUrl": "https://lh3.googleusercontent.com/a-/AOh14Ghm5-HutuB5OUCrYhu0nhLTQcZZyzBZhLySrDpjFQ=s64",
      "userId": "02805498492766545440"
     },
     "user_tz": 180
    },
    "id": "Sq268iE9450V",
    "outputId": "3a3299e9-9403-4721-842a-8ccb2ec4a28d"
   },
   "outputs": [
    {
     "data": {
      "text/plain": [
       "[('M-1', 'ALINE ALMEIDA', 'SAO PAULO'),\n",
       " ('M-2', 'ARAO ALVES', 'SAO PAULO'),\n",
       " ('M-3', 'ARON ANDRADE', 'SAO PAULO'),\n",
       " ('M-4', 'ADA BARBOSA', 'SAO PAULO'),\n",
       " ('M-5', 'ABADE BATISTA', 'SAO PAULO')]"
      ]
     },
     "execution_count": 23,
     "metadata": {},
     "output_type": "execute_result"
    }
   ],
   "source": [
    "#selecionando as seguintes colunas do RDD \"funcionario\":  segunda, terceira, décima\n",
    "funcionario_rdd \\\n",
    "  .map(lambda x: (x[1], x[2], x[9])) \\\n",
    "  .take(5)"
   ]
  },
  {
   "cell_type": "markdown",
   "metadata": {
    "id": "Kugu7q5SY_qu"
   },
   "source": [
    "### **EXERCÍCIO 2**\n",
    "\n",
    "Selecione as seguintes colunas do RDD `cliente`: primeira, segunda, terceira e sexta. Exiba as 5 primeiras linhas resultantes. Consulte `cliente_header` caso necessário. "
   ]
  },
  {
   "cell_type": "code",
   "execution_count": 24,
   "metadata": {
    "colab": {
     "base_uri": "https://localhost:8080/",
     "height": 191
    },
    "executionInfo": {
     "elapsed": 9,
     "status": "ok",
     "timestamp": 1635717625412,
     "user": {
      "displayName": "Cristina Aguiar",
      "photoUrl": "https://lh3.googleusercontent.com/a-/AOh14Ghm5-HutuB5OUCrYhu0nhLTQcZZyzBZhLySrDpjFQ=s64",
      "userId": "02805498492766545440"
     },
     "user_tz": 180
    },
    "id": "qWYcVRXrZMPc",
    "outputId": "f4798809-ab1c-47f6-8acd-7883360365bd"
   },
   "outputs": [
    {
     "data": {
      "text/plain": [
       "['clientePK',\n",
       " 'clienteNomeFantasia',\n",
       " 'clienteSetor',\n",
       " 'clienteCidade',\n",
       " 'clienteEstadoNome',\n",
       " 'clienteEstadoSigla',\n",
       " 'clienteRegiaoNome',\n",
       " 'clienteRegiaoSigla',\n",
       " 'clientePaisNome',\n",
       " 'clientePaisSigla']"
      ]
     },
     "metadata": {},
     "output_type": "display_data"
    }
   ],
   "source": [
    "# Resposta do exercício\n",
    "\n",
    "#exibindo quais são as colunas do RDD \"cliente\"\n",
    "display(cliente_header)"
   ]
  },
  {
   "cell_type": "code",
   "execution_count": 25,
   "metadata": {
    "colab": {
     "base_uri": "https://localhost:8080/"
    },
    "executionInfo": {
     "elapsed": 9,
     "status": "ok",
     "timestamp": 1635717625413,
     "user": {
      "displayName": "Cristina Aguiar",
      "photoUrl": "https://lh3.googleusercontent.com/a-/AOh14Ghm5-HutuB5OUCrYhu0nhLTQcZZyzBZhLySrDpjFQ=s64",
      "userId": "02805498492766545440"
     },
     "user_tz": 180
    },
    "id": "p6KMxCHeZkFO",
    "outputId": "49735549-6a29-4b71-ba53-8687eadc5e4b"
   },
   "outputs": [
    {
     "data": {
      "text/plain": [
       "[('1', 'VIA FOOD', 'BEBIDAS E ALIMENTOS', 'SP'),\n",
       " ('2', 'VIA PIZZA', 'BEBIDAS E ALIMENTOS', 'SP'),\n",
       " ('3', 'VIA JAPA', 'BEBIDAS E ALIMENTOS', 'SP'),\n",
       " ('4', 'VIA VEG', 'BEBIDAS E ALIMENTOS', 'SP'),\n",
       " ('5', 'VIA DRINK', 'BEBIDAS E ALIMENTOS', 'SP')]"
      ]
     },
     "execution_count": 25,
     "metadata": {},
     "output_type": "execute_result"
    }
   ],
   "source": [
    "# Resposta do exercício\n",
    "\n",
    "#selecionando as seguintes colunas do RDD \"cliente\":  primeira, segunda, terceira e sexta\n",
    "#exibindo as 5 primeiras linhas\n",
    "cliente_rdd \\\n",
    "  .map(lambda x: (x[0], x[1], x[2], x[5])) \\\n",
    "  .take(5)"
   ]
  },
  {
   "cell_type": "markdown",
   "metadata": {
    "id": "5Ng3iGSNsnNH"
   },
   "source": [
    "## 4.2 Método filter()\n",
    "\n",
    "O método `filter()` pode ser utilizado para filtrar valores de acordo com  critérios de seleção."
   ]
  },
  {
   "cell_type": "markdown",
   "metadata": {
    "id": "d25JC1Jj8ML7"
   },
   "source": [
    "No exemplo a seguir, o método `filter()` é utilizado para filtrar os funcionários que **não** são do estado de `'SAO PAULO'`."
   ]
  },
  {
   "cell_type": "code",
   "execution_count": 26,
   "metadata": {
    "colab": {
     "base_uri": "https://localhost:8080/"
    },
    "executionInfo": {
     "elapsed": 6,
     "status": "ok",
     "timestamp": 1635717625413,
     "user": {
      "displayName": "Cristina Aguiar",
      "photoUrl": "https://lh3.googleusercontent.com/a-/AOh14Ghm5-HutuB5OUCrYhu0nhLTQcZZyzBZhLySrDpjFQ=s64",
      "userId": "02805498492766545440"
     },
     "user_tz": 180
    },
    "id": "MbSs7Bpx8O8j",
    "outputId": "26941f97-0351-4ad1-d404-791d7b8a8a75"
   },
   "outputs": [
    {
     "data": {
      "text/plain": [
       "[('1',\n",
       "  'M-1',\n",
       "  'ALINE ALMEIDA',\n",
       "  'F',\n",
       "  '1/1/1990',\n",
       "  '1',\n",
       "  '1',\n",
       "  '1990',\n",
       "  'SAO PAULO',\n",
       "  'SAO PAULO',\n",
       "  'SP',\n",
       "  'SUDESTE',\n",
       "  'SE',\n",
       "  'BRASIL',\n",
       "  'BR'),\n",
       " ('2',\n",
       "  'M-2',\n",
       "  'ARAO ALVES',\n",
       "  'M',\n",
       "  '2/2/1990',\n",
       "  '2',\n",
       "  '2',\n",
       "  '1990',\n",
       "  'CAMPINAS',\n",
       "  'SAO PAULO',\n",
       "  'SP',\n",
       "  'SUDESTE',\n",
       "  'SE',\n",
       "  'BRASIL',\n",
       "  'BR'),\n",
       " ('3',\n",
       "  'M-3',\n",
       "  'ARON ANDRADE',\n",
       "  'M',\n",
       "  '3/3/1990',\n",
       "  '3',\n",
       "  '3',\n",
       "  '1990',\n",
       "  'SANTOS',\n",
       "  'SAO PAULO',\n",
       "  'SP',\n",
       "  'SUDESTE',\n",
       "  'SE',\n",
       "  'BRASIL',\n",
       "  'BR'),\n",
       " ('4',\n",
       "  'M-4',\n",
       "  'ADA BARBOSA',\n",
       "  'F',\n",
       "  '4/4/1990',\n",
       "  '4',\n",
       "  '4',\n",
       "  '1990',\n",
       "  'SANTO ANDRE',\n",
       "  'SAO PAULO',\n",
       "  'SP',\n",
       "  'SUDESTE',\n",
       "  'SE',\n",
       "  'BRASIL',\n",
       "  'BR'),\n",
       " ('5',\n",
       "  'M-5',\n",
       "  'ABADE BATISTA',\n",
       "  'M',\n",
       "  '5/5/1990',\n",
       "  '5',\n",
       "  '5',\n",
       "  '1990',\n",
       "  'PIRACICABA',\n",
       "  'SAO PAULO',\n",
       "  'SP',\n",
       "  'SUDESTE',\n",
       "  'SE',\n",
       "  'BRASIL',\n",
       "  'BR')]"
      ]
     },
     "execution_count": 26,
     "metadata": {},
     "output_type": "execute_result"
    }
   ],
   "source": [
    "#exibindo os 5 primeiros funcionarios\n",
    "#verificando que esses funcionarios são do estado de SAO PAULO.\n",
    "funcionario_rdd.take(5)"
   ]
  },
  {
   "cell_type": "code",
   "execution_count": 27,
   "metadata": {
    "colab": {
     "base_uri": "https://localhost:8080/"
    },
    "executionInfo": {
     "elapsed": 345,
     "status": "ok",
     "timestamp": 1635717625753,
     "user": {
      "displayName": "Cristina Aguiar",
      "photoUrl": "https://lh3.googleusercontent.com/a-/AOh14Ghm5-HutuB5OUCrYhu0nhLTQcZZyzBZhLySrDpjFQ=s64",
      "userId": "02805498492766545440"
     },
     "user_tz": 180
    },
    "id": "Lpt3tFVJtIGX",
    "outputId": "4051e0c3-4100-4cdf-fb19-f0e1c5d504c2"
   },
   "outputs": [
    {
     "data": {
      "text/plain": [
       "[('M-13', 'ABDIEL DIAS', 'RIO DE JANEIRO'),\n",
       " ('M-14', 'ABDALA DUARTE', 'RIO DE JANEIRO'),\n",
       " ('M-15', 'ABDALLA FREITAS', 'RIO DE JANEIRO'),\n",
       " ('M-16', 'ABDALLA FERNANDES', 'RIO DE JANEIRO'),\n",
       " ('M-17', 'ABDAO FERREIRA', 'MINAS GERAIS')]"
      ]
     },
     "execution_count": 27,
     "metadata": {},
     "output_type": "execute_result"
    }
   ],
   "source": [
    "#aplicando o método filter() para recuperar apenas os funcionarios que não são do estado de SAO PAULO\n",
    "#mostrando os 5 primeiros funcionarios que atende ao critério de seleção\n",
    "def filterFuncionarioEstado(estado):\n",
    "  return True if estado[9] != 'SAO PAULO' else False\n",
    "\n",
    "funcionario_rdd \\\n",
    "  .filter(filterFuncionarioEstado) \\\n",
    "  .map(lambda x: (x[1], x[2], x[9])) \\\n",
    "  .take(5)"
   ]
  },
  {
   "cell_type": "markdown",
   "metadata": {
    "id": "6W4su6k1aGkZ"
   },
   "source": [
    "### **EXERCÍCIO 3**\n",
    "\n",
    "Recupere os clientes que moram no estado de Minas Gerais."
   ]
  },
  {
   "cell_type": "code",
   "execution_count": 28,
   "metadata": {
    "colab": {
     "base_uri": "https://localhost:8080/",
     "height": 191
    },
    "executionInfo": {
     "elapsed": 8,
     "status": "ok",
     "timestamp": 1635717625753,
     "user": {
      "displayName": "Cristina Aguiar",
      "photoUrl": "https://lh3.googleusercontent.com/a-/AOh14Ghm5-HutuB5OUCrYhu0nhLTQcZZyzBZhLySrDpjFQ=s64",
      "userId": "02805498492766545440"
     },
     "user_tz": 180
    },
    "id": "s4G8LmG_9xSI",
    "outputId": "1f761713-4b12-434d-a7fc-497346c499c2"
   },
   "outputs": [
    {
     "data": {
      "text/plain": [
       "['clientePK',\n",
       " 'clienteNomeFantasia',\n",
       " 'clienteSetor',\n",
       " 'clienteCidade',\n",
       " 'clienteEstadoNome',\n",
       " 'clienteEstadoSigla',\n",
       " 'clienteRegiaoNome',\n",
       " 'clienteRegiaoSigla',\n",
       " 'clientePaisNome',\n",
       " 'clientePaisSigla']"
      ]
     },
     "metadata": {},
     "output_type": "display_data"
    }
   ],
   "source": [
    "# Resposta do exercício\n",
    "\n",
    "#identificando qual a coluna a ser considerada na filtragem dos dados\n",
    "display(cliente_header)"
   ]
  },
  {
   "cell_type": "code",
   "execution_count": 29,
   "metadata": {
    "colab": {
     "base_uri": "https://localhost:8080/"
    },
    "executionInfo": {
     "elapsed": 8,
     "status": "ok",
     "timestamp": 1635717625754,
     "user": {
      "displayName": "Cristina Aguiar",
      "photoUrl": "https://lh3.googleusercontent.com/a-/AOh14Ghm5-HutuB5OUCrYhu0nhLTQcZZyzBZhLySrDpjFQ=s64",
      "userId": "02805498492766545440"
     },
     "user_tz": 180
    },
    "id": "Gw5ykFiR-AO2",
    "outputId": "94f2fe30-3b45-44cf-fe71-3ffa7996d541"
   },
   "outputs": [
    {
     "data": {
      "text/plain": [
       "[('10', 'VIA LIFE', 'SAUDE', 'MINAS GERAIS', 'MG'),\n",
       " ('11', 'VIA MED', 'SAUDE', 'MINAS GERAIS', 'MG'),\n",
       " ('30', 'SR. HAPPY HOUR', 'BEBIDAS E ALIMENTOS', 'MINAS GERAIS', 'MG'),\n",
       " ('31', 'SR. LIFE', 'SAUDE', 'MINAS GERAIS', 'MG'),\n",
       " ('50', 'SR. FRIENDS', 'BEBIDAS E ALIMENTOS', 'MINAS GERAIS', 'MG')]"
      ]
     },
     "execution_count": 29,
     "metadata": {},
     "output_type": "execute_result"
    }
   ],
   "source": [
    "#resposta do exercício 3\n",
    "\n",
    "#aplicando o método filter() para recuperar apenas os clientes que são do estado de MINAS GERAIS\n",
    "#mostrando os 5 primeiros clientes que atende ao critério de seleção\n",
    "def filterClienteEstado(estado):\n",
    "  return True if estado[4] == 'MINAS GERAIS' else False\n",
    "\n",
    "cliente_rdd \\\n",
    "  .filter(filterClienteEstado) \\\n",
    "  .map(lambda x: (x[0], x[1], x[2], x[4], x[5])) \\\n",
    "  .take(5)"
   ]
  },
  {
   "cell_type": "markdown",
   "metadata": {
    "id": "e4IYWDCguVhF"
   },
   "source": [
    "## 4.3 Método join()\n",
    "\n",
    "O método `join()` pode ser utilizado para juntar duas tabelas de acordo com a integridade referencial, ou seja, de acordo com a chave primária presente em uma primeira tabela e a chave secundária presente em uma segunda tabela."
   ]
  },
  {
   "cell_type": "markdown",
   "metadata": {
    "id": "aYQkRNwHCzhh"
   },
   "source": [
    "No exemplo a seguir, o método join() é utilizado para juntar dados da tabela de dimensão funcionario com dados da tabela de dimensão pagamento, utilizando a junção estrela definida em termos de funcionario.funcPK = pagamento.funcPK."
   ]
  },
  {
   "cell_type": "code",
   "execution_count": 30,
   "metadata": {
    "colab": {
     "base_uri": "https://localhost:8080/",
     "height": 364
    },
    "executionInfo": {
     "elapsed": 6,
     "status": "ok",
     "timestamp": 1635717625754,
     "user": {
      "displayName": "Cristina Aguiar",
      "photoUrl": "https://lh3.googleusercontent.com/a-/AOh14Ghm5-HutuB5OUCrYhu0nhLTQcZZyzBZhLySrDpjFQ=s64",
      "userId": "02805498492766545440"
     },
     "user_tz": 180
    },
    "id": "q4ub2lviuHat",
    "outputId": "c60f110d-c2fe-4d87-91d2-37cbb508ab90"
   },
   "outputs": [
    {
     "data": {
      "text/plain": [
       "['funcPK',\n",
       " 'funcMatricula',\n",
       " 'funcNome',\n",
       " 'funcSexo',\n",
       " 'funcDataNascimento',\n",
       " 'funcDiaNascimento',\n",
       " 'funcMesNascimento',\n",
       " 'funcAnoNascimento',\n",
       " 'funcCidade',\n",
       " 'funcEstadoNome',\n",
       " 'funcEstadoSigla',\n",
       " 'funcRegiaoNome',\n",
       " 'funcRegiaoSigla',\n",
       " 'funcPaisNome',\n",
       " 'funcPaisSigla']"
      ]
     },
     "metadata": {},
     "output_type": "display_data"
    },
    {
     "data": {
      "text/plain": [
       "[('1', 'ALINE ALMEIDA', 'SAO PAULO'),\n",
       " ('2', 'ARAO ALVES', 'SAO PAULO'),\n",
       " ('3', 'ARON ANDRADE', 'SAO PAULO'),\n",
       " ('4', 'ADA BARBOSA', 'SAO PAULO'),\n",
       " ('5', 'ABADE BATISTA', 'SAO PAULO')]"
      ]
     },
     "execution_count": 30,
     "metadata": {},
     "output_type": "execute_result"
    }
   ],
   "source": [
    "#listando os metadados de funcionário\n",
    "display(funcionario_header)\n",
    "\n",
    "#criando um RDD temporário para funcionário, contendo apenas algumas colunas \n",
    "funcionario_temp = funcionario_rdd \\\n",
    "  .map(lambda x: (x[0], x[2], x[9]))\n",
    "\n",
    "#listando os 5 primeiros elementos de \"funcionario_temp\"\n",
    "funcionario_temp \\\n",
    "  .take(5)"
   ]
  },
  {
   "cell_type": "code",
   "execution_count": 31,
   "metadata": {
    "colab": {
     "base_uri": "https://localhost:8080/",
     "height": 121
    },
    "executionInfo": {
     "elapsed": 338,
     "status": "ok",
     "timestamp": 1635717626086,
     "user": {
      "displayName": "Cristina Aguiar",
      "photoUrl": "https://lh3.googleusercontent.com/a-/AOh14Ghm5-HutuB5OUCrYhu0nhLTQcZZyzBZhLySrDpjFQ=s64",
      "userId": "02805498492766545440"
     },
     "user_tz": 180
    },
    "id": "qTdpAtxIvJnv",
    "outputId": "22003b2d-3014-439e-9947-58b5fda6ddd0"
   },
   "outputs": [
    {
     "data": {
      "text/plain": [
       "['funcPK', 'equipePK', 'dataPK', 'cargoPK', 'salario', 'quantidadeLancamentos']"
      ]
     },
     "metadata": {},
     "output_type": "display_data"
    },
    {
     "data": {
      "text/plain": [
       "[('4', '10498.14', '5'),\n",
       " ('4', '10498.14', '5'),\n",
       " ('4', '10498.14', '5'),\n",
       " ('4', '10498.14', '5'),\n",
       " ('4', '10498.14', '5')]"
      ]
     },
     "execution_count": 31,
     "metadata": {},
     "output_type": "execute_result"
    }
   ],
   "source": [
    "#listando os metadados de pagamento\n",
    "display(pagamento_header)\n",
    "\n",
    "#criando um RDD temporário para pagamento, contendo apenas as colunas referentes à funcPK e às medidas numéricas\n",
    "pagamento_temp = pagamento_rdd\\\n",
    "  .map(lambda x: (x[0], x[4], x[1]))\n",
    "\n",
    "#listando os 5 primeiros elementos de \"pagamento_temp\" para o funcionário com funcPK = 5\n",
    "def filterPagamentoFuncionario(func):\n",
    "  return True if func[0] == '4' else False\n",
    "pagamento_temp.filter(filterPagamentoFuncionario).take(5)"
   ]
  },
  {
   "cell_type": "code",
   "execution_count": 32,
   "metadata": {
    "colab": {
     "base_uri": "https://localhost:8080/"
    },
    "executionInfo": {
     "elapsed": 959,
     "status": "ok",
     "timestamp": 1635717627042,
     "user": {
      "displayName": "Cristina Aguiar",
      "photoUrl": "https://lh3.googleusercontent.com/a-/AOh14Ghm5-HutuB5OUCrYhu0nhLTQcZZyzBZhLySrDpjFQ=s64",
      "userId": "02805498492766545440"
     },
     "user_tz": 180
    },
    "id": "kwIve0rguezx",
    "outputId": "01bb91c9-4c07-4cc5-e378-e76bf18156a7"
   },
   "outputs": [
    {
     "data": {
      "text/plain": [
       "[('4', ('ADA BARBOSA', '10498.14')),\n",
       " ('4', ('ADA BARBOSA', '10498.14')),\n",
       " ('4', ('ADA BARBOSA', '10498.14')),\n",
       " ('4', ('ADA BARBOSA', '10498.14')),\n",
       " ('4', ('ADA BARBOSA', '10498.14'))]"
      ]
     },
     "execution_count": 32,
     "metadata": {},
     "output_type": "execute_result"
    }
   ],
   "source": [
    "#realizando a junção de funcionario_temp com pagamento_temp, para o funcionário com funcPK igual a 5\n",
    "#note que a juncao é feita considerando a igualdade na primeira coluna\n",
    "#note também que somente os valores da segunda coluna de funcionario e de pagamento são retornados \n",
    "funcionario_temp \\\n",
    "  .join(pagamento_temp) \\\n",
    "  .take(5)"
   ]
  },
  {
   "cell_type": "markdown",
   "metadata": {
    "id": "2C8HjkEpPHyw"
   },
   "source": [
    "### **EXERCÍCIO 4**\n",
    "\n",
    "Realize a junção da tabela cliente com a tabela negociacao, considerando a integridade referencial definida em termos de clientePK (ou seja, cliente.clientePK = negociacao.clientePK). "
   ]
  },
  {
   "cell_type": "code",
   "execution_count": 33,
   "metadata": {
    "colab": {
     "base_uri": "https://localhost:8080/",
     "height": 208
    },
    "executionInfo": {
     "elapsed": 4,
     "status": "ok",
     "timestamp": 1635717627042,
     "user": {
      "displayName": "Cristina Aguiar",
      "photoUrl": "https://lh3.googleusercontent.com/a-/AOh14Ghm5-HutuB5OUCrYhu0nhLTQcZZyzBZhLySrDpjFQ=s64",
      "userId": "02805498492766545440"
     },
     "user_tz": 180
    },
    "id": "u5p2pWyIPjPr",
    "outputId": "937b7b52-396d-41cf-d999-51344ffa52d8"
   },
   "outputs": [
    {
     "data": {
      "text/plain": [
       "['clientePK',\n",
       " 'clienteNomeFantasia',\n",
       " 'clienteSetor',\n",
       " 'clienteCidade',\n",
       " 'clienteEstadoNome',\n",
       " 'clienteEstadoSigla',\n",
       " 'clienteRegiaoNome',\n",
       " 'clienteRegiaoSigla',\n",
       " 'clientePaisNome',\n",
       " 'clientePaisSigla']"
      ]
     },
     "metadata": {},
     "output_type": "display_data"
    },
    {
     "data": {
      "text/plain": [
       "['equipePK', 'clientePK', 'dataPK', 'receita', 'quantidadeNegociacoes']"
      ]
     },
     "metadata": {},
     "output_type": "display_data"
    }
   ],
   "source": [
    "# Resposta do exercício\n",
    "\n",
    "display(cliente_header)\n",
    "display(negociacao_header)"
   ]
  },
  {
   "cell_type": "code",
   "execution_count": 34,
   "metadata": {
    "colab": {
     "base_uri": "https://localhost:8080/"
    },
    "executionInfo": {
     "elapsed": 427,
     "status": "ok",
     "timestamp": 1635717627466,
     "user": {
      "displayName": "Cristina Aguiar",
      "photoUrl": "https://lh3.googleusercontent.com/a-/AOh14Ghm5-HutuB5OUCrYhu0nhLTQcZZyzBZhLySrDpjFQ=s64",
      "userId": "02805498492766545440"
     },
     "user_tz": 180
    },
    "id": "_CO-hf1PPu-T",
    "outputId": "fb2356c8-3925-4f95-ed02-5d25b1a9df72"
   },
   "outputs": [
    {
     "data": {
      "text/plain": [
       "[('4', ('VIA VEG', '4')),\n",
       " ('4', ('VIA VEG', '18')),\n",
       " ('4', ('VIA VEG', '36')),\n",
       " ('4', ('VIA VEG', '135')),\n",
       " ('4', ('VIA VEG', '142'))]"
      ]
     },
     "execution_count": 34,
     "metadata": {},
     "output_type": "execute_result"
    }
   ],
   "source": [
    "# Resposta do exercício\n",
    "\n",
    "cliente_rdd.join(negociacao_rdd).take(5)"
   ]
  },
  {
   "cell_type": "markdown",
   "metadata": {
    "id": "ul9bgXCoAxFH"
   },
   "source": [
    "## 4.4 Método reduceByKey()\n",
    "\n",
    "O método `reduceByKey()` pode ser utilizado para calcular valores agregados para cada valor de chave presente em uma coluna. \n",
    "\n",
    "No exemplo a seguir, é listada a quantidade de funcionários por estado."
   ]
  },
  {
   "cell_type": "markdown",
   "metadata": {
    "id": "hL7uPdbVQjNm"
   },
   "source": [
    "Para responder a essa consulta, é necessário utilizar os dados de `funcionario_rdd`, usando a coluna `funcEstadoNome` e contando quantas vezes o mesmo nome de estado aparece. São executados os seguintes passos:\n",
    "\n",
    "- Utilização do método `map()` para selecionar a coluna desejada `funcEstadoNome`, que é a décima coluna de `funcionario_rdd`, e para criar pares chave-valor da seguinte forma: a chave corresponde à coluna `funcEstadoNome` e o valor corresponde a 1.\n",
    "- Utilização do método `reduceByKey()` para calcular, para cada chave a quantidade de vezes que ela aparece.\n",
    "- Utilização do método `collect()` para exibir os pares chave-valor obtidos."
   ]
  },
  {
   "cell_type": "code",
   "execution_count": 35,
   "metadata": {
    "colab": {
     "base_uri": "https://localhost:8080/",
     "height": 277
    },
    "executionInfo": {
     "elapsed": 302,
     "status": "ok",
     "timestamp": 1635717627766,
     "user": {
      "displayName": "Cristina Aguiar",
      "photoUrl": "https://lh3.googleusercontent.com/a-/AOh14Ghm5-HutuB5OUCrYhu0nhLTQcZZyzBZhLySrDpjFQ=s64",
      "userId": "02805498492766545440"
     },
     "user_tz": 180
    },
    "id": "6QS8GB9JRDQg",
    "outputId": "ce4fcd51-41c6-4972-fa91-72252e6176b6"
   },
   "outputs": [
    {
     "data": {
      "text/plain": [
       "['funcPK',\n",
       " 'funcMatricula',\n",
       " 'funcNome',\n",
       " 'funcSexo',\n",
       " 'funcDataNascimento',\n",
       " 'funcDiaNascimento',\n",
       " 'funcMesNascimento',\n",
       " 'funcAnoNascimento',\n",
       " 'funcCidade',\n",
       " 'funcEstadoNome',\n",
       " 'funcEstadoSigla',\n",
       " 'funcRegiaoNome',\n",
       " 'funcRegiaoSigla',\n",
       " 'funcPaisNome',\n",
       " 'funcPaisSigla']"
      ]
     },
     "metadata": {},
     "output_type": "display_data"
    }
   ],
   "source": [
    "#verificando o esquema de funcionario_rdd\n",
    "display(funcionario_header)"
   ]
  },
  {
   "cell_type": "code",
   "execution_count": 36,
   "metadata": {
    "colab": {
     "base_uri": "https://localhost:8080/"
    },
    "executionInfo": {
     "elapsed": 8,
     "status": "ok",
     "timestamp": 1635717627766,
     "user": {
      "displayName": "Cristina Aguiar",
      "photoUrl": "https://lh3.googleusercontent.com/a-/AOh14Ghm5-HutuB5OUCrYhu0nhLTQcZZyzBZhLySrDpjFQ=s64",
      "userId": "02805498492766545440"
     },
     "user_tz": 180
    },
    "id": "KG1XR6_O9dgS",
    "outputId": "3602e0b7-cc1d-4ff5-84d5-7d6198ab5dbf"
   },
   "outputs": [
    {
     "data": {
      "text/plain": [
       "[('MINAS GERAIS', 28),\n",
       " ('PARANA', 28),\n",
       " ('PERNAMBUCO', 21),\n",
       " ('SAO PAULO', 95),\n",
       " ('RIO DE JANEIRO', 28)]"
      ]
     },
     "execution_count": 36,
     "metadata": {},
     "output_type": "execute_result"
    }
   ],
   "source": [
    "#executando os passos definidos anteriormente\n",
    "funcionario_rdd \\\n",
    "  .map(lambda x: (x[9], 1)) \\\n",
    "  .reduceByKey(lambda x, y: x + y) \\\n",
    "  .collect()"
   ]
  },
  {
   "cell_type": "markdown",
   "metadata": {
    "id": "zOm-dvwzU73U"
   },
   "source": [
    "### **EXERCÍCIO 5** \n",
    "\n",
    "Liste a quantidade de clientes por região. Ordene o resultado pelo nome da região em ordem crescente."
   ]
  },
  {
   "cell_type": "markdown",
   "metadata": {
    "id": "mlKRRL4sXbP_"
   },
   "source": [
    "Para responder a essa consulta, é necessário utilizar os dados de `cliente_rdd`, usando a coluna `clienteRegiaoNome` e contando quantas vezes o mesmo nome de região aparece. São executados os seguintes passos:\n",
    "\n",
    "- Utilização do método `map()` para selecionar a coluna desejada `clienteRegiaoNome`, que é a sétima coluna de `funcionario_rdd`, e para criar pares chave-valor da seguinte forma: a chave corresponde à coluna `clienteRegiaoNome` e o valor corresponde a 1.\n",
    "- Utilização do método `reduceByKey()` para calcular, para cada chave a quantidade de vezes que ela aparece.\n",
    "- Utilização do método `sortBy()` para ordenar o resultado pelo nome da região em ordem crescente.\n",
    "- Utilização do método `collect()` para exibir os pares chave-valor obtidos."
   ]
  },
  {
   "cell_type": "code",
   "execution_count": 37,
   "metadata": {
    "colab": {
     "base_uri": "https://localhost:8080/",
     "height": 191
    },
    "executionInfo": {
     "elapsed": 6,
     "status": "ok",
     "timestamp": 1635717627767,
     "user": {
      "displayName": "Cristina Aguiar",
      "photoUrl": "https://lh3.googleusercontent.com/a-/AOh14Ghm5-HutuB5OUCrYhu0nhLTQcZZyzBZhLySrDpjFQ=s64",
      "userId": "02805498492766545440"
     },
     "user_tz": 180
    },
    "id": "s_Bh1DopVSGs",
    "outputId": "a1b97d5e-1796-41d0-9e78-27011570d924"
   },
   "outputs": [
    {
     "data": {
      "text/plain": [
       "['clientePK',\n",
       " 'clienteNomeFantasia',\n",
       " 'clienteSetor',\n",
       " 'clienteCidade',\n",
       " 'clienteEstadoNome',\n",
       " 'clienteEstadoSigla',\n",
       " 'clienteRegiaoNome',\n",
       " 'clienteRegiaoSigla',\n",
       " 'clientePaisNome',\n",
       " 'clientePaisSigla']"
      ]
     },
     "metadata": {},
     "output_type": "display_data"
    }
   ],
   "source": [
    "# Resposta do exercício\n",
    "\n",
    "#verificando o esquema de cliente_rdd\n",
    "display(cliente_header)"
   ]
  },
  {
   "cell_type": "code",
   "execution_count": 38,
   "metadata": {
    "colab": {
     "base_uri": "https://localhost:8080/"
    },
    "executionInfo": {
     "elapsed": 578,
     "status": "ok",
     "timestamp": 1635717628340,
     "user": {
      "displayName": "Cristina Aguiar",
      "photoUrl": "https://lh3.googleusercontent.com/a-/AOh14Ghm5-HutuB5OUCrYhu0nhLTQcZZyzBZhLySrDpjFQ=s64",
      "userId": "02805498492766545440"
     },
     "user_tz": 180
    },
    "id": "3bQs9s9hVcD1",
    "outputId": "e8200650-08f8-42f2-ed0a-bbc7727fbe96"
   },
   "outputs": [
    {
     "data": {
      "text/plain": [
       "[('CENTRO-OESTE', 10),\n",
       " ('NORDESTE', 30),\n",
       " ('NORTE', 10),\n",
       " ('SUDESTE', 130),\n",
       " ('SUL', 30)]"
      ]
     },
     "execution_count": 38,
     "metadata": {},
     "output_type": "execute_result"
    }
   ],
   "source": [
    "# Resposta do exercício\n",
    "\n",
    "#executando os passos definidos anteriormente\n",
    "cliente_rdd \\\n",
    "  .map(lambda x: (x[6], 1)) \\\n",
    "  .reduceByKey(lambda x, y: x + y) \\\n",
    "  .sortBy(lambda element: element[0]) \\\n",
    "  .collect()"
   ]
  },
  {
   "cell_type": "markdown",
   "metadata": {
    "id": "llaOX1EUa74F"
   },
   "source": [
    "# 5 Exercícios Adicionais"
   ]
  },
  {
   "cell_type": "markdown",
   "metadata": {
    "id": "Pv4GCfPed4_1"
   },
   "source": [
    "### **EXERCÍCIO 6** \n",
    "\n",
    "Qual o menor salário pago?\n",
    "\n"
   ]
  },
  {
   "cell_type": "markdown",
   "metadata": {
    "id": "z0fhwZpqb0o-"
   },
   "source": [
    "Para responder a essa consulta, é necessário utilizar os dados de `pagamento_rdd`, usando a coluna `salario` e aplicando o método `min()`, considerando a seguinte sequência de passos.\n",
    "\n",
    "- Utilização do método `map()` para transformar o tipo de dados da coluna salario em um número de ponto flutuante (ou seja, float)\n",
    "\n",
    "- Utilização do método `min()` para descobrir o menor salário."
   ]
  },
  {
   "cell_type": "code",
   "execution_count": 39,
   "metadata": {
    "colab": {
     "base_uri": "https://localhost:8080/",
     "height": 35
    },
    "executionInfo": {
     "elapsed": 438,
     "status": "ok",
     "timestamp": 1635717628776,
     "user": {
      "displayName": "Cristina Aguiar",
      "photoUrl": "https://lh3.googleusercontent.com/a-/AOh14Ghm5-HutuB5OUCrYhu0nhLTQcZZyzBZhLySrDpjFQ=s64",
      "userId": "02805498492766545440"
     },
     "user_tz": 180
    },
    "id": "odKMBNbHbYMo",
    "outputId": "ba3746fe-8251-4fe3-c3f8-c3a36d660635"
   },
   "outputs": [
    {
     "data": {
      "text/plain": [
       "['funcPK', 'equipePK', 'dataPK', 'cargoPK', 'salario', 'quantidadeLancamentos']"
      ]
     },
     "metadata": {},
     "output_type": "display_data"
    }
   ],
   "source": [
    "# Resposta do exercício\n",
    "\n",
    "#exibindo os metadados de \"pagamento_rdd\"\n",
    "display(pagamento_header)"
   ]
  },
  {
   "cell_type": "code",
   "execution_count": 40,
   "metadata": {
    "colab": {
     "base_uri": "https://localhost:8080/"
    },
    "executionInfo": {
     "elapsed": 14,
     "status": "ok",
     "timestamp": 1635717628777,
     "user": {
      "displayName": "Cristina Aguiar",
      "photoUrl": "https://lh3.googleusercontent.com/a-/AOh14Ghm5-HutuB5OUCrYhu0nhLTQcZZyzBZhLySrDpjFQ=s64",
      "userId": "02805498492766545440"
     },
     "user_tz": 180
    },
    "id": "deiTmJBgbXeS",
    "outputId": "f1d9a6c6-7ae2-459d-b5d8-280b680ffca9"
   },
   "outputs": [
    {
     "data": {
      "text/plain": [
       "1501.57"
      ]
     },
     "execution_count": 40,
     "metadata": {},
     "output_type": "execute_result"
    }
   ],
   "source": [
    "# Resposta do exercício\n",
    "\n",
    "#calculando o menor salário\n",
    "pagamento_rdd \\\n",
    "  .map(lambda x: float(x[4])) \\\n",
    "  .min()"
   ]
  },
  {
   "cell_type": "markdown",
   "metadata": {
    "id": "QFmWox4teixh"
   },
   "source": [
    "### **EXERCÍCIO 7** \n",
    "\n",
    "Qual foi o maior salário pago em 2019?"
   ]
  },
  {
   "cell_type": "markdown",
   "metadata": {
    "id": "ySxkkaTZc7H5"
   },
   "source": [
    "Para responder a essa consulta, é necessário utilizar os dados de `pagamento_rdd` e de `data_rdd`, desde que `salário` encontra-se em `pagamento_rdd` e o `ano` encontra-se em `data_rdd`. \n",
    "\n",
    "A seguinte sequência de passos deve ser realizada:\n",
    "\n",
    "- Utilização do método `filter()` para identificar as linhas de `data_rdd` que possuem valor igual a `2019`.\n",
    "- Utilização do método `map()` para transformar o resultado obtido em pares chave-valor da seguinte forma: chave identificada por `dataPK` e valor identificado como o ano desejado (ou seja, 2019). \n",
    "- Utilização do método `map()` para selecionar as colunas desejadas de `pagamento_rdd` (`dataPK` e `salario`), bem como para transformar o tipo de dados da coluna `salario` em um número de ponto flutuante (ou seja, float).\n",
    "- Utilização do método `join()` para juntar os elementos do primeiro RDD calculado e do segundo RDD calculado, usando como base a igualdade da coluna referente à `dataPK`.\n",
    "- Utilização do método `mapValues()` para mapear os valores referentes ao salário e do método `map()` para remover as chaves referentes à dataPK.\n",
    "- Utilização do método `max()` para calcular o maior salário."
   ]
  },
  {
   "cell_type": "code",
   "execution_count": 41,
   "metadata": {
    "colab": {
     "base_uri": "https://localhost:8080/",
     "height": 173
    },
    "executionInfo": {
     "elapsed": 10,
     "status": "ok",
     "timestamp": 1635717628777,
     "user": {
      "displayName": "Cristina Aguiar",
      "photoUrl": "https://lh3.googleusercontent.com/a-/AOh14Ghm5-HutuB5OUCrYhu0nhLTQcZZyzBZhLySrDpjFQ=s64",
      "userId": "02805498492766545440"
     },
     "user_tz": 180
    },
    "id": "865oRTYXe_WX",
    "outputId": "15e780dc-9b5d-4ea9-b8fb-270d43c2cbb3"
   },
   "outputs": [
    {
     "data": {
      "text/plain": [
       "['funcPK', 'equipePK', 'dataPK', 'cargoPK', 'salario', 'quantidadeLancamentos']"
      ]
     },
     "metadata": {},
     "output_type": "display_data"
    },
    {
     "data": {
      "text/plain": [
       "['dataPK',\n",
       " 'dataCompleta',\n",
       " 'dataDia',\n",
       " 'dataMes',\n",
       " 'dataBimestre',\n",
       " 'dataTrimestre',\n",
       " 'dataSemestre',\n",
       " 'dataAno']"
      ]
     },
     "metadata": {},
     "output_type": "display_data"
    }
   ],
   "source": [
    "# Resposta do exercício\n",
    "\n",
    "#exibindo os metadados de \"pagamento_rdd\" e de \"data_rdd\"\n",
    "display(pagamento_header)\n",
    "display(data_header)"
   ]
  },
  {
   "cell_type": "code",
   "execution_count": 42,
   "metadata": {
    "colab": {
     "base_uri": "https://localhost:8080/"
    },
    "executionInfo": {
     "elapsed": 9,
     "status": "ok",
     "timestamp": 1635717628777,
     "user": {
      "displayName": "Cristina Aguiar",
      "photoUrl": "https://lh3.googleusercontent.com/a-/AOh14Ghm5-HutuB5OUCrYhu0nhLTQcZZyzBZhLySrDpjFQ=s64",
      "userId": "02805498492766545440"
     },
     "user_tz": 180
    },
    "id": "-TVT92qgfERB",
    "outputId": "de2c09e1-5659-466e-c0c6-cfd15cc876c3"
   },
   "outputs": [
    {
     "data": {
      "text/plain": [
       "[('1097', '2019'),\n",
       " ('1098', '2019'),\n",
       " ('1099', '2019'),\n",
       " ('1100', '2019'),\n",
       " ('1101', '2019')]"
      ]
     },
     "execution_count": 42,
     "metadata": {},
     "output_type": "execute_result"
    }
   ],
   "source": [
    "# Resposta do exercício\n",
    "\n",
    "#identificando as linhas de data_rdd referentes ao ano de 2019 \n",
    "#transformando o resultado em pares chave-valor\n",
    "def filterDataAno(ano):\n",
    "  return True if ano[7] == '2019' else False\n",
    "\n",
    "data_temp = data_rdd \\\n",
    "  .filter(filterDataAno) \\\n",
    "  .map(lambda x: (x[0], x[7]))\n",
    "\n",
    "data_temp \\\n",
    "  .take(5)"
   ]
  },
  {
   "cell_type": "code",
   "execution_count": 43,
   "metadata": {
    "colab": {
     "base_uri": "https://localhost:8080/"
    },
    "executionInfo": {
     "elapsed": 296,
     "status": "ok",
     "timestamp": 1635717629067,
     "user": {
      "displayName": "Cristina Aguiar",
      "photoUrl": "https://lh3.googleusercontent.com/a-/AOh14Ghm5-HutuB5OUCrYhu0nhLTQcZZyzBZhLySrDpjFQ=s64",
      "userId": "02805498492766545440"
     },
     "user_tz": 180
    },
    "id": "AgWjfoVod357",
    "outputId": "6919e845-565f-40e5-8998-a3a9fc1a0cde"
   },
   "outputs": [
    {
     "data": {
      "text/plain": [
       "[('5', 1559.94), ('5', 8102.77), ('5', 2532.51), ('5', 7882.7), ('5', 4404.59)]"
      ]
     },
     "execution_count": 43,
     "metadata": {},
     "output_type": "execute_result"
    }
   ],
   "source": [
    "# Resposta do exercício\n",
    "\n",
    "#identificando as colunas de pagamento_rdd desejadas\n",
    "#transformando o resultado em pares chave-valor\n",
    "pagamento_temp = pagamento_rdd \\\n",
    "  .map(lambda x: (x[2], float(x[4])))\n",
    "\n",
    "pagamento_temp \\\n",
    "  .take(5)"
   ]
  },
  {
   "cell_type": "code",
   "execution_count": 44,
   "metadata": {
    "colab": {
     "base_uri": "https://localhost:8080/"
    },
    "executionInfo": {
     "elapsed": 579,
     "status": "ok",
     "timestamp": 1635717629645,
     "user": {
      "displayName": "Cristina Aguiar",
      "photoUrl": "https://lh3.googleusercontent.com/a-/AOh14Ghm5-HutuB5OUCrYhu0nhLTQcZZyzBZhLySrDpjFQ=s64",
      "userId": "02805498492766545440"
     },
     "user_tz": 180
    },
    "id": "ElEUSpSSfr15",
    "outputId": "37b0a661-cd6e-4926-e1d0-f2497f9c569d"
   },
   "outputs": [
    {
     "data": {
      "text/plain": [
       "47140.17"
      ]
     },
     "execution_count": 44,
     "metadata": {},
     "output_type": "execute_result"
    }
   ],
   "source": [
    "# Resposta do exercício\n",
    "\n",
    "#realizando a junção, mapeando o valor dos salários e removendo a chave dataPK\n",
    "#calculando o maior salário\n",
    "pagamento_temp \\\n",
    "  .join(data_temp) \\\n",
    "  .mapValues(lambda x: x[0]) \\\n",
    "  .map(lambda x: x[1]) \\\n",
    "  .max()"
   ]
  },
  {
   "cell_type": "markdown",
   "metadata": {
    "id": "Y6wTUtmqrvVg"
   },
   "source": [
    "### **EXERCÍCIO 8** \n",
    "\n",
    "Qual a idade média dos funcionários? Para fazer este exercício, não precisa considerar a idade exata, ou seja, não é necessário considerar o dia no qual o funcionário nasceu. Considere apenas o ano de nascimento do funcionário.  "
   ]
  },
  {
   "cell_type": "markdown",
   "metadata": {
    "id": "3djTT4Bqv3xZ"
   },
   "source": [
    "**EXERCÍCIO 8a** Resolva o exercício utilizando o método mean()."
   ]
  },
  {
   "cell_type": "markdown",
   "metadata": {
    "id": "11N0IoSKvydJ"
   },
   "source": [
    "A seguinte sequência de passos deve ser realizada:\n",
    "\n",
    "- Utilização do método `map()` para obter os anos de nascimento dos funcionários.\n",
    "- Utilização do método `map()` para calcular a idade do funcionário, considerando o ano atual de 2020 e o ano no qual o funcionário nasceu. \n",
    "- Utilização do método `mean()` para gerar o resultado final."
   ]
  },
  {
   "cell_type": "code",
   "execution_count": 45,
   "metadata": {
    "colab": {
     "base_uri": "https://localhost:8080/"
    },
    "executionInfo": {
     "elapsed": 5,
     "status": "ok",
     "timestamp": 1635717629645,
     "user": {
      "displayName": "Cristina Aguiar",
      "photoUrl": "https://lh3.googleusercontent.com/a-/AOh14Ghm5-HutuB5OUCrYhu0nhLTQcZZyzBZhLySrDpjFQ=s64",
      "userId": "02805498492766545440"
     },
     "user_tz": 180
    },
    "id": "Ofbsw6ntwL82",
    "outputId": "99127b37-83ac-4618-c42a-6e8cf8c15d3c"
   },
   "outputs": [
    {
     "data": {
      "text/plain": [
       "37.595"
      ]
     },
     "execution_count": 45,
     "metadata": {},
     "output_type": "execute_result"
    }
   ],
   "source": [
    "# Resposta do exercício\n",
    "\n",
    "#criando uma função que calcula o ano a partir de idade\n",
    "def idadeApartirDeAno(ano):\n",
    "  anoAtual = 2020\n",
    "  return anoAtual - int(ano)\n",
    "\n",
    "#calculando a idade média dos funcionários usando o método mean()\n",
    "funcionario_rdd \\\n",
    "  .map(lambda x: (x[7])) \\\n",
    "  .map(lambda x: idadeApartirDeAno(x)) \\\n",
    "  .mean()"
   ]
  },
  {
   "cell_type": "markdown",
   "metadata": {
    "id": "loLsid3QwfeW"
   },
   "source": [
    "**EXERCÍCIO 8b** Resolva o exercício sem usar o método mean()."
   ]
  },
  {
   "cell_type": "markdown",
   "metadata": {
    "id": "7ENTMSRetGJb"
   },
   "source": [
    "A seguinte sequência de passos deve ser realizada:\n",
    "\n",
    "- Utilização do método `map()` para obter os anos de nascimento dos funcionários.\n",
    "- Utilização do método `map()` para calcular a idade do funcionário, considerando o ano atual de 2020 e o ano no qual o funcionário nasceu. \n",
    "- Utilização do método `map()` para gerar pares chave-valor, de forma que a chave seja a idade do funcionário e o valor seja 1.\n",
    "- Utilização do método `reduceByKey()` reduzindo pelas chaves e somando as idades e as quantidades de linhas.\n",
    "- Utilização do método `mapValues()` para mapear os valores e para dividir as somas das idades pelas quantidades de linhas.\n",
    "- Utilização do método `map()` para mapear a idade média dos funcionários."
   ]
  },
  {
   "cell_type": "code",
   "execution_count": 46,
   "metadata": {
    "colab": {
     "base_uri": "https://localhost:8080/"
    },
    "executionInfo": {
     "elapsed": 302,
     "status": "ok",
     "timestamp": 1635717629944,
     "user": {
      "displayName": "Cristina Aguiar",
      "photoUrl": "https://lh3.googleusercontent.com/a-/AOh14Ghm5-HutuB5OUCrYhu0nhLTQcZZyzBZhLySrDpjFQ=s64",
      "userId": "02805498492766545440"
     },
     "user_tz": 180
    },
    "id": "tuQW4DGBsjur",
    "outputId": "76a4f99a-a3b2-4481-fd68-273792f3acd7"
   },
   "outputs": [
    {
     "data": {
      "text/plain": [
       "[37.595]"
      ]
     },
     "execution_count": 46,
     "metadata": {},
     "output_type": "execute_result"
    }
   ],
   "source": [
    "# Resposta do exercício\n",
    "\n",
    "#criando uma função que calcula o ano a partir de idade\n",
    "def idadeApartirDeAno(ano):\n",
    "  anoAtual = 2020\n",
    "  return anoAtual - int(ano)\n",
    "\n",
    "#calculando a idade média dos funcionários usando o método mean()\n",
    "funcionario_rdd \\\n",
    "  .map(lambda x: (x[7])) \\\n",
    "  .map(lambda x: idadeApartirDeAno(x)) \\\n",
    "  .map(lambda x: (1, (x, 1))) \\\n",
    "  .reduceByKey(lambda x, y: (x[0]+y[0], x[1]+y[1])) \\\n",
    "  .mapValues(lambda x: x[0]/x[1]) \\\n",
    "  .map(lambda x: x[1]) \\\n",
    "  .collect()\n"
   ]
  },
  {
   "cell_type": "markdown",
   "metadata": {
    "id": "ED2laZHr4oPO"
   },
   "source": [
    "### EXERCÍCIO 9\n",
    "\n",
    "Liste a quantidade de vezes que cada palavra individual aparece nos nomes de cidades que os funcionários moram. Por exemplo, na cidade de SAO JOSE DO RIO PRETO, existem 5 palavras individuais. Ordene o resultado de forma que as palavras individuais que mais se repetem sejam mostradas primeiro. \n"
   ]
  },
  {
   "cell_type": "code",
   "execution_count": 47,
   "metadata": {
    "colab": {
     "base_uri": "https://localhost:8080/",
     "height": 277
    },
    "executionInfo": {
     "elapsed": 5,
     "status": "ok",
     "timestamp": 1635717629945,
     "user": {
      "displayName": "Cristina Aguiar",
      "photoUrl": "https://lh3.googleusercontent.com/a-/AOh14Ghm5-HutuB5OUCrYhu0nhLTQcZZyzBZhLySrDpjFQ=s64",
      "userId": "02805498492766545440"
     },
     "user_tz": 180
    },
    "id": "JmC-TAih4s7l",
    "outputId": "9481eaee-e6d8-4e12-d65a-5b66bbf9bd1d"
   },
   "outputs": [
    {
     "data": {
      "text/plain": [
       "['funcPK',\n",
       " 'funcMatricula',\n",
       " 'funcNome',\n",
       " 'funcSexo',\n",
       " 'funcDataNascimento',\n",
       " 'funcDiaNascimento',\n",
       " 'funcMesNascimento',\n",
       " 'funcAnoNascimento',\n",
       " 'funcCidade',\n",
       " 'funcEstadoNome',\n",
       " 'funcEstadoSigla',\n",
       " 'funcRegiaoNome',\n",
       " 'funcRegiaoSigla',\n",
       " 'funcPaisNome',\n",
       " 'funcPaisSigla']"
      ]
     },
     "metadata": {},
     "output_type": "display_data"
    }
   ],
   "source": [
    "# Resposta do exercício\n",
    "display(funcionario_header)"
   ]
  },
  {
   "cell_type": "code",
   "execution_count": 48,
   "metadata": {
    "colab": {
     "base_uri": "https://localhost:8080/"
    },
    "executionInfo": {
     "elapsed": 663,
     "status": "ok",
     "timestamp": 1635717630605,
     "user": {
      "displayName": "Cristina Aguiar",
      "photoUrl": "https://lh3.googleusercontent.com/a-/AOh14Ghm5-HutuB5OUCrYhu0nhLTQcZZyzBZhLySrDpjFQ=s64",
      "userId": "02805498492766545440"
     },
     "user_tz": 180
    },
    "id": "A0yNzoU44rtv",
    "outputId": "961c8f61-a11a-44c3-9de4-0e76574d1920"
   },
   "outputs": [
    {
     "data": {
      "text/plain": [
       "[('SAO', 24),\n",
       " ('PRETO', 23),\n",
       " ('RECIFE', 21),\n",
       " ('RIO', 15),\n",
       " ('CAMPINAS', 8),\n",
       " ('RIBEIRAO', 8),\n",
       " ('ILHA', 8),\n",
       " ('JOSE', 8),\n",
       " ('PAULO', 8),\n",
       " ('SANTOS', 8),\n",
       " ('SANTO', 8),\n",
       " ('ANDRE', 8),\n",
       " ('PIRACICABA', 8),\n",
       " ('CARLOS', 8),\n",
       " ('BELA', 8),\n",
       " ('DO', 8),\n",
       " ('OSASCO', 8),\n",
       " ('ARARAQUARA', 8),\n",
       " ('BARUERI', 7),\n",
       " ('DE', 7),\n",
       " ('REDONDA', 7),\n",
       " ('ANGRA', 7),\n",
       " ('DOS', 7),\n",
       " ('PRAIA', 7),\n",
       " ('SECA', 7),\n",
       " ('HORIZONTE', 7),\n",
       " ('ARAGUARI', 7),\n",
       " ('MONTE', 7),\n",
       " ('CURITIBA', 7),\n",
       " ('GUARATUBA', 7),\n",
       " ('MORRETES', 7),\n",
       " ('JANEIRO', 7),\n",
       " ('VOLTA', 7),\n",
       " ('REIS', 7),\n",
       " ('BELO', 7),\n",
       " ('OURO', 7),\n",
       " ('VERDE', 7),\n",
       " ('LONDRINA', 7)]"
      ]
     },
     "execution_count": 48,
     "metadata": {},
     "output_type": "execute_result"
    }
   ],
   "source": [
    "# Resposta do exercício\n",
    "funcionario_rdd.map(lambda x: x[8]). \\\n",
    "    flatMap(lambda line: line.split(\" \")). \\\n",
    "    map(lambda word: (word, 1)). \\\n",
    "    reduceByKey(lambda x, y: x + y). \\\n",
    "    sortBy(lambda word_count: word_count[1], ascending=False). \\\n",
    "    collect()"
   ]
  }
 ],
 "metadata": {
  "colab": {
   "collapsed_sections": [],
   "name": "MBA Aula 06 Resposta dos Exercicios Complementares.ipynb",
   "provenance": [],
   "toc_visible": true
  },
  "kernelspec": {
   "display_name": "Python 3",
   "language": "python",
   "name": "python3"
  },
  "language_info": {
   "codemirror_mode": {
    "name": "ipython",
    "version": 3
   },
   "file_extension": ".py",
   "mimetype": "text/x-python",
   "name": "python",
   "nbconvert_exporter": "python",
   "pygments_lexer": "ipython3",
   "version": "3.8.10"
  }
 },
 "nbformat": 4,
 "nbformat_minor": 1
}

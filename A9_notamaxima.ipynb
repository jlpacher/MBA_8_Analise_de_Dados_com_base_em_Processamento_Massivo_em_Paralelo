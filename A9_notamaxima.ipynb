{
 "cells": [
  {
   "cell_type": "markdown",
   "metadata": {
    "id": "flekT6GFDN6m"
   },
   "source": [
    "# <span style=\"color:blue\">MBA em Ciência de Dados</span>\n",
    "# <span style=\"color:blue\">Análise de Dados com Base em Processamento Massivo em Paralelo</span>\n",
    "\n",
    "## <span style=\"color:blue\">Avaliação Final</span>\n",
    "\n",
    "**Material Produzido por:**<br>\n",
    ">**Profa. Dra. Cristina Dutra de Aguiar**<br>\n",
    "\n",
    "\n",
    "**CEMEAI - ICMC/USP São Carlos**\n",
    "\n",
    "As questões desta avaliação final estão espalhadas ao longo do texto. Por favor, procurem por Questão para encontrar a especificação das questões e o local no qual cada questão deve ser respondida. Também é possível localizar as questões utilizando o menu de navegação. O *notebook* contém a constelação de fatos da BI Solutions que deve ser utilizada para responder às questões e também todas as bibliotecas, bases de dados, inicializações, instalações, importações, geração de dataFrames, geração de visões temporárias e conversão dos tipos de dados necessárias para a realização da questão. Portanto, o notebook está preparado para ser executado usando Pandas, o método spark.sql() e os métodos do módulo pyspark.sql.\n",
    "\n",
    "O uso do *framework* Spark requer diversas configurações no ambiente de desenvolvimento para executar o *notebook*. Dado que tal complexidade foge do escopo de nossa disciplina, recomenda-se que o *notebook* seja executado na plataforma de desenvolvimento COLAB. O uso do COLAB  proporciona um ambiente de desenvolvimento pré-configurado e remove a complexidade de instalação e configuração de pacotes e *frameworks* que são utilizados na disciplina.\n",
    "\n",
    "**IMPORTANTE**\n",
    "\n",
    "**Antes de fazer a avaliação, leia atentamente a seção 5, que detalha instruções importantes sobre a avaliação e o critério de correção.**  \n",
    "\n",
    "**INSTRUÇÕES DE ENTREGA**\n",
    "\n",
    "**O que deve ser entregue:**\n",
    "- **O notebook com as respostas no formato .ipynb**\n",
    "- **O notebook com as respostas no formato .pdf**\n",
    "\n",
    "**Ambos arquivos devem ser nomeados usando o primeiro nome e o último sobrenome do aluno. Por exemplo: CristinaAguiar.ipynb e CristinaAguiar.pdf.**\n",
    "\n",
    "Boa avaliação!"
   ]
  },
  {
   "cell_type": "markdown",
   "metadata": {
    "id": "3o3dN_WLQcyD"
   },
   "source": [
    "#1 Constelação de Fatos da BI Solutions\n",
    "\n",
    "A aplicação de *data warehousing* da BI Solutions utiliza como base uma constelação de fatos, conforme descrita a seguir.\n",
    "\n",
    "**Tabelas de dimensão**\n",
    "\n",
    "- data (dataPK, dataCompleta, dataDia, dataMes, dataBimestre, dataTrimestre, dataSemestre, dataAno)\n",
    "- funcionario (funcPK, funcMatricula, funcNome, funcSexo, funcDataNascimento, funcDiaNascimento, funcMesNascimento, funcAnoNascimento, funcCidade, funcEstadoNome, funcEstadoSigla, funcRegiaoNome, funcRegiaoSigla, funcPaisNome, funcPaisSigla)\n",
    "- equipe (equipePK, equipeNome, filialNome, filialCidade, filialEstadoNome, filialEstadoSigla, filialRegiaoNome, filialRegiaoSigla, filialPaisNome, filialPaisSigla)\n",
    "- cargo (cargoPK, cargoNome, cargoRegimeTrabalho, cargoEscolaridadeMinima, cargoNivel)\n",
    "- cliente (clientePK, clienteNomeFantasia, clienteSetor, clienteCidade, clienteEstadoNome, clienteEstadoSigla, clienteRegiaoNome, clienteRegiaoSigla, clientePaisNome, clientePaisSigla)\n",
    "\n",
    "**Tabelas de fatos**\n",
    "- pagamento (dataPK, funcPK, equipePK, cargoPK, salario, quantidadeLancamentos)\n",
    "- negociacao (dataPK, equipePK, clientePK, receita, quantidadeNegociacoes)\n"
   ]
  },
  {
   "cell_type": "markdown",
   "metadata": {
    "id": "BGeh8KdXwVCQ"
   },
   "source": [
    "#2 Obtenção dos Dados da BI Solutions\n"
   ]
  },
  {
   "cell_type": "markdown",
   "metadata": {
    "id": "CCCNC64AzBG0"
   },
   "source": [
    "## 2.1 Baixando o Módulo wget\n",
    "\n",
    "Para baixar os dados referentes ao esquema relacional da constelação de fatos da BI Solutions, é utilizado o módulo  **wget**. O comando a seguir realiza a instalação desse módulo. <br>"
   ]
  },
  {
   "cell_type": "code",
   "execution_count": 1,
   "metadata": {
    "id": "3e0Eao1K0EYG"
   },
   "outputs": [],
   "source": [
    "#instalando o módulo wget\n",
    "%%capture\n",
    "!pip install -q wget\n",
    "!mkdir data"
   ]
  },
  {
   "cell_type": "markdown",
   "metadata": {
    "id": "j56pVJ2hZ2i5"
   },
   "source": [
    "## 2.2 Obtenção dos Dados das Tabelas de Dimensão\n",
    "\n",
    "Os comandos a seguir baixam os dados que povoam as tabelas de dimensão. "
   ]
  },
  {
   "cell_type": "code",
   "execution_count": 2,
   "metadata": {
    "cellView": "both",
    "colab": {
     "base_uri": "https://localhost:8080/",
     "height": 0
    },
    "id": "46QzTpLJwfkW",
    "outputId": "a73c6f64-4813-4783-8907-c816385ffd6c"
   },
   "outputs": [
    {
     "data": {
      "application/vnd.google.colaboratory.intrinsic+json": {
       "type": "string"
      },
      "text/plain": [
       "'data/cliente (1).csv'"
      ]
     },
     "execution_count": 2,
     "metadata": {},
     "output_type": "execute_result"
    }
   ],
   "source": [
    "#baixando os dados das tabelas de dimensão\n",
    "import wget\n",
    "\n",
    "url = \"https://raw.githubusercontent.com/GuiMuzziUSP/Data_Mart_BI_Solutions/main/data.csv\"\n",
    "wget.download(url, \"data/data.csv\")\n",
    "\n",
    "url = \"https://raw.githubusercontent.com/GuiMuzziUSP/Data_Mart_BI_Solutions/main/funcionario.csv\"\n",
    "wget.download(url, \"data/funcionario.csv\")\n",
    "\n",
    "url = \"https://raw.githubusercontent.com/GuiMuzziUSP/Data_Mart_BI_Solutions/main/equipe.csv\"\n",
    "wget.download(url, \"data/equipe.csv\")\n",
    "\n",
    "url = \"https://raw.githubusercontent.com/GuiMuzziUSP/Data_Mart_BI_Solutions/main/cargo.csv\"\n",
    "wget.download(url, \"data/cargo.csv\")\n",
    "\n",
    "url = \"https://raw.githubusercontent.com/GuiMuzziUSP/Data_Mart_BI_Solutions/main/cliente.csv\"\n",
    "wget.download(url, \"data/cliente.csv\")"
   ]
  },
  {
   "cell_type": "markdown",
   "metadata": {
    "id": "0o-dC7feszRc"
   },
   "source": [
    "## 2.3 Obtenção dos Dados Tabelas de Fatos\n",
    "\n",
    "Os comandos a seguir baixam os dados que povoam as tabelas de fatos. "
   ]
  },
  {
   "cell_type": "code",
   "execution_count": 3,
   "metadata": {
    "colab": {
     "base_uri": "https://localhost:8080/",
     "height": 0
    },
    "id": "XWM-CUFgBl_8",
    "outputId": "7b70d541-dc81-4453-b121-6b2f5d3f435b"
   },
   "outputs": [
    {
     "data": {
      "application/vnd.google.colaboratory.intrinsic+json": {
       "type": "string"
      },
      "text/plain": [
       "'data/negociacao (1).csv'"
      ]
     },
     "execution_count": 3,
     "metadata": {},
     "output_type": "execute_result"
    }
   ],
   "source": [
    "#baixando os dados das tabelas de fatos\n",
    "url = \"https://raw.githubusercontent.com/GuiMuzziUSP/Data_Mart_BI_Solutions/main/pagamento.csv\"\n",
    "wget.download(url, \"data/pagamento.csv\")\n",
    "\n",
    "url = \"https://raw.githubusercontent.com/GuiMuzziUSP/Data_Mart_BI_Solutions/main/negociacao.csv\"\n",
    "wget.download(url, \"data/negociacao.csv\")"
   ]
  },
  {
   "cell_type": "markdown",
   "metadata": {
    "id": "sO16-7-jOioq"
   },
   "source": [
    "# 3 Apache Spark Cluster"
   ]
  },
  {
   "cell_type": "markdown",
   "metadata": {
    "id": "YVEgY9qKflBV"
   },
   "source": [
    "## 3.1 Instalação\n",
    "\n",
    "Neste *notebook* é criado um *cluster* Spark composto apenas por um **nó mestre**. Ou seja, o *cluster* não possui um ou mais **nós de trabalho** e o **gerenciador de cluster**. Nessa configuração, as tarefas (*tasks*) são realizadas no próprio *driver* localizado no **nó mestre**."
   ]
  },
  {
   "cell_type": "markdown",
   "metadata": {
    "id": "KaM-OnIjgLS2"
   },
   "source": [
    "Para que o cluster possa ser criado, primeiramente é instalado o Java Runtime Environment (JRE) versão 8. "
   ]
  },
  {
   "cell_type": "code",
   "execution_count": 4,
   "metadata": {
    "id": "NXls3bfoglKW"
   },
   "outputs": [],
   "source": [
    "#instalando Java Runtime Environment (JRE) versão 8\n",
    "%%capture\n",
    "!apt-get remove openjdk*\n",
    "!apt-get update --fix-missing\n",
    "!apt-get install openjdk-8-jdk-headless -qq > /dev/null"
   ]
  },
  {
   "cell_type": "markdown",
   "metadata": {
    "id": "7BQzZfDYhb4j"
   },
   "source": [
    "Na sequência, é feito o *download* do Apache Spark versão 3.0.0."
   ]
  },
  {
   "cell_type": "code",
   "execution_count": 5,
   "metadata": {
    "id": "8a_Yv59zg3gm"
   },
   "outputs": [],
   "source": [
    "#baixando Apache Spark versão 3.0.0\n",
    "%%capture\n",
    "!wget -q https://archive.apache.org/dist/spark/spark-3.0.0/spark-3.0.0-bin-hadoop2.7.tgz\n",
    "!tar xf spark-3.0.0-bin-hadoop2.7.tgz && rm spark-3.0.0-bin-hadoop2.7.tgz"
   ]
  },
  {
   "cell_type": "markdown",
   "metadata": {
    "id": "RETWX6wqhkLf"
   },
   "source": [
    "Na sequência, são configuradas as variáveis de ambiente JAVA_HOME e SPARK_HOME. Isto permite que tanto o Java quanto o Spark possam ser encontrados."
   ]
  },
  {
   "cell_type": "code",
   "execution_count": 6,
   "metadata": {
    "id": "iZpR7NwOh2EB"
   },
   "outputs": [],
   "source": [
    "import os\n",
    "#configurando a variável de ambiente JAVA_HOME\n",
    "os.environ[\"JAVA_HOME\"] = \"/usr/lib/jvm/java-8-openjdk-amd64\"\n",
    "#configurando a variável de ambiente SPARK_HOME\n",
    "os.environ[\"SPARK_HOME\"] = \"/content/spark-3.0.0-bin-hadoop2.7\""
   ]
  },
  {
   "cell_type": "markdown",
   "metadata": {
    "id": "Ql0z7Ro1iHQb"
   },
   "source": [
    "Por fim, são instalados dois pacotes da linguagem de programação Python, cujas funcionalidades são descritas a seguir.\n",
    "\n",
    "> **Pacote findspark:** Usado para ler a variável de ambiente SPARK_HOME e armazenar seu valor na variável dinâmica de ambiente PYTHONPATH. Como resultado, Python pode encontrar a instalação do Spark. \n",
    "\n",
    "> **Pacote pyspark:** PySpark é a API do Python para Spark. Ela possibilita o uso de Python, considerando que o *framework* Apache Spark encontra-se desenvolvido na linguagem de programação Scala. "
   ]
  },
  {
   "cell_type": "code",
   "execution_count": 7,
   "metadata": {
    "id": "5oSYOwKljPf5"
   },
   "outputs": [],
   "source": [
    "%%capture\n",
    "#instalando o pacote findspark\n",
    "!pip install -q findspark==1.4.2\n",
    "#instalando o pacote pyspark\n",
    "!pip install -q pyspark==3.0.0"
   ]
  },
  {
   "cell_type": "markdown",
   "metadata": {
    "id": "eAaLyjPzmIwZ"
   },
   "source": [
    "## 3.2 Conexão\n",
    "\n",
    "PySpark não é adicionado ao *sys.path* por padrão. Isso significa que não é possível importá-lo, pois o interpretador da linguagem Python não sabe onde encontrá-lo. \n",
    "\n",
    "Para resolver esse aspecto, é necessário instalar o módulo `findspark`. Esse módulo mostra onde PySpark está localizado. Os comandos a seguir têm essa finalidade.\n"
   ]
  },
  {
   "cell_type": "code",
   "execution_count": 8,
   "metadata": {
    "id": "-zm1pBTEmjp4"
   },
   "outputs": [],
   "source": [
    "#importando o módulo findspark\n",
    "import findspark\n",
    "#carregando a variávels SPARK_HOME na variável dinâmica PYTHONPATH\n",
    "findspark.init()"
   ]
  },
  {
   "cell_type": "markdown",
   "metadata": {
    "id": "ZDqfefF7YUab"
   },
   "source": [
    "Depois de configurados os pacotes e módulos e inicializadas as variáveis de ambiente, é possível iniciar o uso do Spark na aplicação de `data warehousing`. Para tanto, é necessário importar o comando `SparkSession` do módulo `pyspark.sql`. São utilizados os seguintes conceitos: <br>\n",
    "\n",
    "- `SparkSession`: permite a criação de `DataFrames`. Como resultado, as tabelas relacionais podem ser manipuladas por meio de `DataFrames` e é possível realizar consultas OLAP por meio de comandos SQL. <br>\n",
    "- `builder`: cria uma instância de SparkSession. <br>\n",
    "- `appName`: define um nome para a aplicação, o qual pode ser visto na interface de usuário web do Spark. <br> \n",
    "- `master`: define onde está o nó mestre do *cluster*. Como a aplicação é executada localmente e não em um *cluster*, indica-se isso pela *string* `local` seguida do parâmetro `[*]`. Ou seja, define-se que apenas núcleos locais são utilizados. \n",
    "- `getOrCreate`: cria uma SparkSession. Caso ela já exista, retorna a instância existente. \n",
    "\n",
    "\n",
    "**Observação**: A lista completa de todos os parâmetros que podem ser utilizados na inicialização do *cluster* pode ser encontrada neste [link](https://spark.apache.org/docs/latest/spark-standalone.html#cluster-launch-scripts)."
   ]
  },
  {
   "cell_type": "code",
   "execution_count": 9,
   "metadata": {
    "id": "9TxljJ_cwBCy"
   },
   "outputs": [],
   "source": [
    "from pyspark.sql import SparkSession\n",
    "\n",
    "spark = SparkSession.builder.appName(\"pyspark-notebook\").master(\"local[*]\").getOrCreate()"
   ]
  },
  {
   "cell_type": "markdown",
   "metadata": {
    "id": "2IpYfoG_kx_8"
   },
   "source": [
    "# 4 Geração dos DataFrames em Pandas da BI Solutions\n",
    "\n",
    "Nesta seção são gerados os DataFrames em Pandas. Atenção aos nomes desses DataFrames. \n"
   ]
  },
  {
   "cell_type": "code",
   "execution_count": 10,
   "metadata": {
    "id": "9arYf_PHlJCR"
   },
   "outputs": [],
   "source": [
    "import pandas as pd\n",
    "pd.set_option('display.float_format', lambda x: '%.2f' % x)"
   ]
  },
  {
   "cell_type": "code",
   "execution_count": 11,
   "metadata": {
    "id": "qw4NfyDZ--6z"
   },
   "outputs": [],
   "source": [
    "cargoPandas = pd.read_csv('https://raw.githubusercontent.com/GuiMuzziUSP/Data_Mart_BI_Solutions/main/cargo.csv')\n",
    "clientePandas = pd.read_csv('https://raw.githubusercontent.com/GuiMuzziUSP/Data_Mart_BI_Solutions/main/cliente.csv')\n",
    "dataPandas = pd.read_csv('https://raw.githubusercontent.com/GuiMuzziUSP/Data_Mart_BI_Solutions/main/data.csv')\n",
    "equipePandas = pd.read_csv('https://raw.githubusercontent.com/GuiMuzziUSP/Data_Mart_BI_Solutions/main/equipe.csv')\n",
    "funcionarioPandas = pd.read_csv('https://raw.githubusercontent.com/GuiMuzziUSP/Data_Mart_BI_Solutions/main/funcionario.csv')\n",
    "negociacaoPandas = pd.read_csv('https://raw.githubusercontent.com/GuiMuzziUSP/Data_Mart_BI_Solutions/main/negociacao.csv')\n",
    "pagamentoPandas = pd.read_csv('https://raw.githubusercontent.com/GuiMuzziUSP/Data_Mart_BI_Solutions/main/pagamento.csv')"
   ]
  },
  {
   "cell_type": "markdown",
   "metadata": {
    "id": "5qL9SiR_pQE2"
   },
   "source": [
    "# 5 Geração dos DataFrames em Spark da BI Solutions\n",
    "\n",
    "Nesta seção são gerados dos DataFrames em Spark. Atenção aos nomes desses DataFrames. \n"
   ]
  },
  {
   "cell_type": "markdown",
   "metadata": {
    "id": "DRVoz-SGt87W"
   },
   "source": [
    "## 5.1 Criação dos DataFrames"
   ]
  },
  {
   "cell_type": "code",
   "execution_count": 12,
   "metadata": {
    "cellView": "both",
    "id": "FNR-3dV6oYk4"
   },
   "outputs": [],
   "source": [
    "#criando os DataFrames em Spark \n",
    "cargo = spark.read.csv(path=\"data/cargo.csv\", header=True, sep=\",\")\n",
    "cliente = spark.read.csv(path=\"data/cliente.csv\", header=True, sep=\",\")\n",
    "data = spark.read.csv(path=\"data/data.csv\", header=True, sep=\",\")\n",
    "equipe = spark.read.csv(path=\"data/equipe.csv\", header=True, sep=\",\")\n",
    "funcionario = spark.read.csv(path=\"data/funcionario.csv\", header=True, sep=\",\")\n",
    "negociacao = spark.read.csv(path=\"data/negociacao.csv\", header=True, sep=\",\")\n",
    "pagamento = spark.read.csv(path=\"data/pagamento.csv\", header=True, sep=\",\")"
   ]
  },
  {
   "cell_type": "markdown",
   "metadata": {
    "id": "mrch9vLgjl_H"
   },
   "source": [
    "## 5.2 Atualização dos Tipos de Dados "
   ]
  },
  {
   "cell_type": "markdown",
   "metadata": {
    "id": "9A_ot2pOjsWB"
   },
   "source": [
    "Nos comandos a seguir, primeiro são identificados quais colunas de quais `DataFrames` devem ser do tipo de dado inteiro. Na sequência, ocorre a conversão. Por fim, são exibidos os esquemas dos `DataFrames`, possibilitando visualizar a mudança de tipo de dados das colunas especificadas."
   ]
  },
  {
   "cell_type": "code",
   "execution_count": 13,
   "metadata": {
    "id": "jmCV6Mur__z6"
   },
   "outputs": [],
   "source": [
    "# identificando quais colunas de quais DataFrames devem ser do tipo de dado inteiro\n",
    "colunas_cargo = [\"cargoPK\"]\n",
    "colunas_cliente = [\"clientePK\"]\n",
    "colunas_data = [\"dataPK\", \"dataDia\", \"dataMes\", \"dataBimestre\", \"dataTrimestre\", \"dataSemestre\", \"dataAno\"]\n",
    "colunas_equipe = [\"equipePK\"]\n",
    "colunas_funcionario = [\"funcPK\", \"funcDiaNascimento\", \"funcMesNascimento\", \"funcAnoNascimento\"]\n",
    "colunas_negociacao = [\"equipePK\", \"clientePK\", \"dataPK\", \"quantidadeNegociacoes\"]\n",
    "colunas_pagamento = [\"funcPK\", \"equipePK\", \"dataPK\", \"cargoPK\", \"quantidadeLancamentos\"]"
   ]
  },
  {
   "cell_type": "code",
   "execution_count": 14,
   "metadata": {
    "id": "yPNnDJcG9R5H"
   },
   "outputs": [],
   "source": [
    "# importando o tipo de dado desejado\n",
    "from pyspark.sql.types import IntegerType\n",
    "\n",
    "\n",
    "# atualizando o tipo de dado das colunas especificadas \n",
    "# substituindo as colunas já existentes \n",
    "\n",
    "for coluna in colunas_cargo:\n",
    "  cargo = cargo.withColumn(coluna, cargo[coluna].cast(IntegerType()))\n",
    "\n",
    "for coluna in colunas_cliente:\n",
    "  cliente = cliente.withColumn(coluna, cliente[coluna].cast(IntegerType()))\n",
    "\n",
    "for coluna in colunas_data:\n",
    "  data = data.withColumn(coluna, data[coluna].cast(IntegerType()))\n",
    "\n",
    "for coluna in colunas_equipe:\n",
    "  equipe = equipe.withColumn(coluna, equipe[coluna].cast(IntegerType()))\n",
    "\n",
    "for coluna in colunas_funcionario:\n",
    "  funcionario = funcionario.withColumn(coluna, funcionario[coluna].cast(IntegerType()))\n",
    "\n",
    "for coluna in colunas_negociacao:\n",
    "  negociacao = negociacao.withColumn(coluna, negociacao[coluna].cast(IntegerType()))\n",
    "\n",
    "for coluna in colunas_pagamento:\n",
    "  pagamento = pagamento.withColumn(coluna, pagamento[coluna].cast(IntegerType()))"
   ]
  },
  {
   "cell_type": "markdown",
   "metadata": {
    "id": "J0dX_7U_AzIY"
   },
   "source": [
    "Nos comandos a seguir, primeiro são identificados quais colunas de quais `DataFrames` devem ser do tipo de dado número de ponto flutuante. Na sequência, ocorre a conversão. Por fim, são exibidos os esquemas dos `DataFrames`, possibilitando visualizar a mudança de tipo de dados das colunas especificadas."
   ]
  },
  {
   "cell_type": "code",
   "execution_count": 15,
   "metadata": {
    "id": "RBcQ7Ep7AWqN"
   },
   "outputs": [],
   "source": [
    "# identificando quais colunas de quais DataFrames devem ser do tipo de dado número de ponto flutuante\n",
    "colunas_negociacao = [\"receita\"]\n",
    "colunas_pagamento = [\"salario\"]"
   ]
  },
  {
   "cell_type": "code",
   "execution_count": 16,
   "metadata": {
    "id": "rcfvkIK1BRSp"
   },
   "outputs": [],
   "source": [
    "# importando o tipo de dado desejado\n",
    "from pyspark.sql.types import FloatType\n",
    "\n",
    "# atualizando o tipo de dado das colunas especificadas \n",
    "# substituindo as colunas já existentes \n",
    "\n",
    "for coluna in colunas_negociacao:\n",
    "  negociacao = negociacao.withColumn(coluna, negociacao[coluna].cast(FloatType()))\n",
    "\n",
    "for coluna in colunas_pagamento:\n",
    "  pagamento = pagamento.withColumn(coluna, pagamento[coluna].cast(FloatType()))"
   ]
  },
  {
   "cell_type": "code",
   "execution_count": 17,
   "metadata": {
    "id": "91nwfsV3_rKs"
   },
   "outputs": [],
   "source": [
    "# importando funções adicionais \n",
    "from pyspark.sql.functions import round, desc"
   ]
  },
  {
   "cell_type": "markdown",
   "metadata": {
    "id": "9wN5iOGKwnHG"
   },
   "source": [
    "## 5.3 Criação de Visões Temporárias"
   ]
  },
  {
   "cell_type": "code",
   "execution_count": 18,
   "metadata": {
    "id": "xJsqRI3TwsjS"
   },
   "outputs": [],
   "source": [
    "#criando as visões temporárias \n",
    "cargo.createOrReplaceTempView(\"cargo\")\n",
    "cliente.createOrReplaceTempView(\"cliente\")\n",
    "data.createOrReplaceTempView(\"data\")\n",
    "equipe.createOrReplaceTempView(\"equipe\")\n",
    "funcionario.createOrReplaceTempView(\"funcionario\")\n",
    "negociacao.createOrReplaceTempView(\"negociacao\")\n",
    "pagamento.createOrReplaceTempView(\"pagamento\")"
   ]
  },
  {
   "cell_type": "markdown",
   "metadata": {
    "id": "WkL4w2MMudL7"
   },
   "source": [
    "# 6 Instruções Importantes sobre a Avaliação"
   ]
  },
  {
   "cell_type": "markdown",
   "metadata": {
    "id": "uKdDsHnDwlaH"
   },
   "source": [
    "## 6.1 Especificação das Consultas OLAP\n",
    "\n",
    "As consultas OLAP devem ser respondidas de acordo com o solicitado em cada questão. As seguintes solicitações podem ser feitas:\n",
    "\n",
    "- Resolva a questão especificando a consulta OLAP usando **Pandas**. Neste caso, a consulta deve ser respondida usando os conceitos apresentados na Aula 05 da disciplina. Ou seja, a consulta deve ser respondida usando os métodos disponíveis na biblioteca Pandas para uso em Python. Não é possível usar o método `spark.sql()` para especificar a consulta. Também não é possível usar os demais métodos do módulo `pyspark.sql` para especificar a consulta.\n",
    "\n",
    "- Resolva a questão especificando a consulta OLAP na **linguagem SQL**. Neste caso, a consulta deve ser respondida usando os conceitos apresentados na Aula 07 da disciplina. Ou seja, a consulta deve ser respondida usando a linguagem SQL textual e o método `spark.sql()`. Não é possível usar os métodos disponíveis na biblioteca Pandas para especificar a consulta. Também não é possível usar os demais métodos do módulo `pyspark.sql` para especificar a consulta, com exceção do método `show()` para listar o resultado da consulta. \n",
    "\n",
    "- Resolva a questão especificando a consulta OLAP usando os **métodos de pyspark.sql**. Neste caso, a consulta deve ser respondida usando os conceitos apresentados na Aula 08 da disciplina. Ou seja, a consulta deve ser respondida usando os demais métodos do módulo `pyspark.sql`. Não é possível usar os métodos disponíveis na biblioteca Pandas para especificar a consulta. Também não é possível usar o método `spark.sql()` para especificar a consulta.\n",
    "\n",
    "**AVISO: Caso a consulta seja especificada de forma diferente do que foi solicitado, a resposta não será considerada, mesmo que ela esteja correta.**"
   ]
  },
  {
   "cell_type": "markdown",
   "metadata": {
    "id": "EsrYR2SJw-x3"
   },
   "source": [
    "## 6.2 Ordem das Colunas e das Linhas\n",
    "\n",
    "A resolução das questões deve seguir estritamente as especificações definidas em cada consulta. Isto significa que:\n",
    "\n",
    "- As **colunas** solicitadas devem ser exibidas exatamente na mesma ordem que a definida na questão. Note que todas as colunas a serem exibidas como resposta da consulta, bem como a ordem na qual elas devem aparecer são sempre definidas na questão. \n",
    "\n",
    "- As **linhas** retornadas como respostas devem ser exibidas exatamente na mesma ordem que a definida na questão. Note que a ordem na qual as linhas devem aparecer são sempre definidas na questão. \n",
    "\n",
    "- Os **nomes das colunas** renomeadas devem seguir estritamente os nomes definidos na questão. Para evitar possíveis erros, os nomes das colunas renomeadas não possuem acentos e espaços em branco, além de serem escritos utilizando apenas letras maiúsculas. Note que os nomes das colunas renomeadas são sempre definidos na questão.\n",
    "\n",
    "**AVISO: Essas orientações devem ser seguidas uma vez que a correção da avaliação será realizada de forma automática. Caso a consulta retorne resultados de forma diferente do que foi solicitado, a resposta não será considerada, mesmo que ela esteja correta.**  "
   ]
  },
  {
   "cell_type": "markdown",
   "metadata": {
    "id": "3AZ0475X4L59"
   },
   "source": [
    "## 6.3 Listagem das Respostas das Consultas\n",
    "\n",
    "A resposta de cada consulta deve ser listada usando o método `show()`. Nenhum outro método pode ser utilizado com essa finalidade.  \n",
    "\n",
    "Devem ser listadas apenas as `25` primeiras linhas de resposta de cada consulta. Adicionalmente, devem ser listadas *strings* com tamanho maior do que 20 caracteres, ou seja, o parâmetro `truncate` do método `show()` deve ser inicializado como `false`.\n",
    "\n",
    "Portanto, a listagem das respostas deve ser feita utilizando o método `show()` como especificado a seguir. \n",
    "\n",
    "- Quando a consulta OLAP for especificada usando **Pandas**. Utilize o comando `df.head(25)` para exibir o resultado da consulta.\n",
    "\n",
    "- Quando a consulta OLAP for especificada usando a **linguagem SQL**. Utilize o comando `spark.sql(consultaSQL).show(25,truncate=False)` para exibir o resultado da consulta. \n",
    "\n",
    "- Quando a consulta OLAP for especificada usando os demais **métodos de pyspark.sql**. Utilize o comando `nomeDoDataFrame.show(25,truncate=False)` para exibir o resultado da consulta."
   ]
  },
  {
   "cell_type": "markdown",
   "metadata": {
    "id": "VzIcWYeOVOsN"
   },
   "source": [
    "## 6.4 Arredondamento dos Dados\n",
    "\n",
    "Deve ser realizado o arredondamento dos dados todas as vezes que uma função de agregação for aplicada às medidas numéricas `salario` da tabela de dimensão `pagamento` e `receita` da tabela de dimensão `negociacao`. \n",
    "\n",
    "O arredondamento deve ser realizado usando a função `round()` na linguagem SQL e o método `round()` em `pyspark.sql` e deve arredondar os dados até duas casas decimais. Por exemplo, podem ser produzidos resultados da forma `112233.4` e `112233.44`. \n",
    "\n",
    "Portanto, o arredondamento dos dados deve ser feito como especificado a seguir.\n",
    "\n",
    "- Quando a consulta OLAP for especificada usando **Pandas**. Utilize o comando `df.round(2)` para arredondar os dados até duas casas decimais.\n",
    "\n",
    "- Quando a consulta OLAP for especificada usando a **linguagem SQL**. Utilize a função `ROUND(funçãoDeAgregação,2)` para arredondar o dado até duas casas decimais.\n",
    "\n",
    "- Quando a consulta OLAP for especificada usando os demais **métodos de pyspark.sql**. Utilize o método `round(funçãoDeAgregação,2)` para arredondar o dado até duas casas decimais."
   ]
  },
  {
   "cell_type": "markdown",
   "metadata": {
    "id": "8LOtvy-LrJ32"
   },
   "source": [
    "## 6.5 Respostas das Questões\n",
    "\n",
    "As respostas das questões devem ser fornecidas de duas formas diferentes:\n",
    "\n",
    "- Exibidas na saída padrão.\n",
    "\n",
    "- Armazenadas em um arquivo no formato csv.\n",
    "\n",
    "A seguir são detalhadas as instruções em **Pandas**, **spark.sql()** e **pyspark()** para que as respostas sejam mostradas de forma apropriada para as correções. \n"
   ]
  },
  {
   "cell_type": "markdown",
   "metadata": {
    "id": "drW2AS_V1MMr"
   },
   "source": [
    "Em **Pandas**\n",
    "\n",
    "```python\n",
    "# Resolve a questão usando a variável de nome questao\n",
    "QuestaoX = consulta.round(2).head(25)\n",
    "onde X é o número da questão, por exemplo Questao1, Questao2, ...\n",
    "\n",
    "# Exibe a resposta da questão na saída padrão\n",
    "display(QuestaoX)\n",
    "onde X é o número da questão, por exemplo Questao1, Questao2, ...\n",
    "\n",
    "# Gera o arquivo no formato csv com a resposta da questão\n",
    "QuestaoX.to_csv(\"questaoX.csv\", index=False, header=True)\n",
    "onde X é o número da questão, por exemplo Questao1, Questao2, ...\n",
    "```\n"
   ]
  },
  {
   "cell_type": "markdown",
   "metadata": {
    "id": "KaYNdTpk2PbL"
   },
   "source": [
    "**Em spark.sql()**\n",
    "\n",
    "```python\n",
    "# Resolve a questão usando a variável de nome questao\n",
    "QuestaoX = spark.sql(query)\n",
    "onde X é o número da questão, por exemplo Questao1, Questao2, ... \n",
    "\n",
    "# Exibe a resposta da questão na saída padrão\n",
    "QuestaoX.show(25, truncate=False)\n",
    "onde X é o número da questão, por exemplo Questao1, Questao2, ...\n",
    "\n",
    "# Gera o arquivo no formato csv com a resposta da questão\n",
    "QuestaoX\\\n",
    "  .coalesce(1).limit(25) \\\n",
    "  .toPandas().to_csv(\"questaoX.csv\", index=False, header=True)\n",
    "onde X é o número da questão, por exemplo Questao1, Questao2, ...\n",
    "```"
   ]
  },
  {
   "cell_type": "markdown",
   "metadata": {
    "id": "MG8Y5lT72eCS"
   },
   "source": [
    "**Em pyspark()**\n",
    "\n",
    "```python\n",
    "# Resolve a questão usando a variável de nome questao\n",
    "QuestaoX = consulta \n",
    "onde X é o número da questão, por exemplo Questao1, Questao2, ...\n",
    "\n",
    "# Exibe a resposta da questão na saída padrão\n",
    "QuestaoX.show(25, truncate=False)\n",
    "onde X é o número da questão, por exemplo Questao1, Questao2, ...\n",
    "\n",
    "# Gera o arquivo no formato csv com a resposta da questão\n",
    "QuestaoX\\\n",
    "  .coalesce(1).limit(25) \\\n",
    "  .toPandas().to_csv(\"QuestaoX.csv\", index=False, header=True)\n",
    "onde X é o número da questão, por exemplo Questao1, Questao2, ...\n",
    "```"
   ]
  },
  {
   "cell_type": "markdown",
   "metadata": {
    "id": "DQVQqm0pNDS1"
   },
   "source": [
    "## 6.6 Comentários Explicativos\n",
    "\n",
    "Devem ser colocados comentários no código que expliquem o passo a passo da resolução da questão. Os comentários explicativos devem ser realizados como especificado a seguir. \n",
    "\n",
    "- Quando a consulta OLAP for especificada usando **Pandas**. Utilize `#` para colocar comentário. Por exemplo:\n",
    "\n",
    "```\n",
    "# para a solução desta consulta OLAP, primeiramente é aplicado o método ... para ..... \n",
    "# Na sequência, é aplicado o método ... para ...\n",
    "```\n",
    "\n",
    "- Quando a consulta OLAP for especificada usando a **linguagem SQL**. Utilize `#` para colocar comentários gerais (conforme explicado para os demais métodos de `pyspark.sql`) ou utilize `--` para colocar comentários no comando SQL. Por exemplo:\n",
    "\n",
    "```\n",
    "# neste comentário são descritas as características de cada cláusula da consulta SQL. \n",
    "# A funcionalidade da cláusula SELECT nesta consulta é ... \n",
    "# A funcionalidade da cláusula FROM nesta consulta é ... \n",
    "# A funcionalidade da cláusula WHERE nesta consulta é ...\n",
    "```\n",
    "\n",
    "```\n",
    "-- A funcionalidade da cláusula SELECT nesta consulta é ...\n",
    "SELECT funcNome\n",
    "-- A funcionalidade da cláusula FROM nesta consulta é ...\n",
    "FROM funcionario\n",
    "-- A funcionalidade da cláusula WHERE nesta consulta é ...\n",
    "WHERE funcPK = 1\n",
    "```\n",
    "\n",
    "- Quando a consulta OLAP for especificada usando os demais **métodos de pyspark.sql**. Utilize `#` para colocar comentário. Por exemplo:\n",
    "\n",
    "```\n",
    "# para a solução desta consulta OLAP, primeiramente é aplicado o método ... para ..... \n",
    "# Na sequência, é aplicado o método ... para ...\n",
    "```"
   ]
  },
  {
   "cell_type": "markdown",
   "metadata": {
    "id": "6IcbpvZHPn3S"
   },
   "source": [
    "## 6.7 Indentação e Organização\n",
    "\n",
    "As consultas e os comandos que respondem às questões dessa avaliação devem ser escritos de forma indentada. Em caso de dúvida, observem os *notebooks* da Aula 05, da Aula 07 e da Aula 08 e verifiquem como as consultas e os comandos foram indentados.\n",
    "\n",
    "**AVISO: Com relação à organização, é necessário que as respostas às questões sejam localizadas aonde especificado no *notebook*. Por favor, procurem por \"Resposta da Questão\" para encontrar o local no qual as respostas devem ser especificadas. Também é possível localizar o local das respostas utilizando o menu de navegação.**"
   ]
  },
  {
   "cell_type": "markdown",
   "metadata": {
    "id": "uFjCivy1Mg-A"
   },
   "source": [
    "## 6.8 Critério de Avaliação\n",
    "\n",
    "Na correção da avaliação, serão ponderados os seguintes aspectos:\n",
    "\n",
    "- Corretude da execução das consultas OLAP.\n",
    "\n",
    "- Atendimento às especificações definidas nas seções 6.1, 6.2, 6.3, 6.4, 6.5.\n",
    "\n",
    "- Atendimento às especificações da sintaxe das cláusulas e dos métodos utilizados para resolver cada questão.\n",
    "\n",
    "- Qualidade da documentação entregue, de acordo com as especificações definidas nas seções 6.6 e 6.7. \n"
   ]
  },
  {
   "cell_type": "markdown",
   "metadata": {
    "id": "Ss0pmgplPAL3"
   },
   "source": [
    "# 7 Consultas OLAP"
   ]
  },
  {
   "cell_type": "markdown",
   "metadata": {
    "id": "_emI31_-uYc5"
   },
   "source": [
    "O objetivo das consultas OLAP é realizar diferentes investigações sobre aspectos específicos no que tange às atividades realizadas pela BI Solutions. Os resultados obtidos nas investigações poderão ser posteriormente utilizados para a definição de estratégias que a empresa deve executar para prover melhorias. \n"
   ]
  },
  {
   "cell_type": "markdown",
   "metadata": {
    "id": "2CrGAAl0s6f4"
   },
   "source": [
    "## 7.1 Análises Relacionadas aos Cargos\n",
    "\n",
    "Foi identificado que, nos últimos anos, o cargo de nome \"ADMINISTRADOR EM SEGURANCA DA INFORMACAO\" teve um aumento expressivo no que tange aos gastos com salários. O objetivo das análises desta seção é obter uma visão relacionada a esse aspecto, por meio da investigação dos gastos em salários considerando diferentes fatores. \n",
    "\n",
    "Podem ser realizadas diferentes análises, sendo que três delas são solicitadas a seguir."
   ]
  },
  {
   "cell_type": "markdown",
   "metadata": {
    "id": "_Zi-gqUljW18"
   },
   "source": [
    "### **Questão 1 (valor 1,0)**\n",
    "\n",
    "Liste, para cada ano, a soma dos salários para o cargo de nome \"ADMINISTRADOR EM SEGURANCA DA INFORMACAO\". Arredonde a soma dos salários para até duas casas decimais. Devem ser exibidas as colunas na ordem e com os nomes especificados a seguir: \"ANO\", \"TOTALDESPESA\". Ordene as linhas exibidas primeiro pelo total de despesa em ordem descendente e depois pelo ano em ordem descendente. Liste as primeiras 25 linhas da resposta, sem truncamento das *strings*. \n",
    "\n",
    "**Resolva a questão especificando a consulta OLAP usando Pandas**.\n"
   ]
  },
  {
   "cell_type": "markdown",
   "metadata": {
    "id": "bcSouuCk6N0-"
   },
   "source": [
    "### Resposta da Questão 1"
   ]
  },
  {
   "cell_type": "code",
   "execution_count": 19,
   "metadata": {
    "colab": {
     "base_uri": "https://localhost:8080/",
     "height": 206
    },
    "id": "x83QkKt5CKKY",
    "outputId": "ee9efc2e-82af-4574-88f9-5f18c430dfdf"
   },
   "outputs": [
    {
     "data": {
      "text/html": [
       "<div>\n",
       "<style scoped>\n",
       "    .dataframe tbody tr th:only-of-type {\n",
       "        vertical-align: middle;\n",
       "    }\n",
       "\n",
       "    .dataframe tbody tr th {\n",
       "        vertical-align: top;\n",
       "    }\n",
       "\n",
       "    .dataframe thead th {\n",
       "        text-align: right;\n",
       "    }\n",
       "</style>\n",
       "<table border=\"1\" class=\"dataframe\">\n",
       "  <thead>\n",
       "    <tr style=\"text-align: right;\">\n",
       "      <th></th>\n",
       "      <th>ANO</th>\n",
       "      <th>TOTALDESPESA</th>\n",
       "    </tr>\n",
       "  </thead>\n",
       "  <tbody>\n",
       "    <tr>\n",
       "      <th>0</th>\n",
       "      <td>2020</td>\n",
       "      <td>1883273.28</td>\n",
       "    </tr>\n",
       "    <tr>\n",
       "      <th>1</th>\n",
       "      <td>2019</td>\n",
       "      <td>1883273.28</td>\n",
       "    </tr>\n",
       "    <tr>\n",
       "      <th>2</th>\n",
       "      <td>2018</td>\n",
       "      <td>1239394.80</td>\n",
       "    </tr>\n",
       "    <tr>\n",
       "      <th>3</th>\n",
       "      <td>2017</td>\n",
       "      <td>943759.32</td>\n",
       "    </tr>\n",
       "    <tr>\n",
       "      <th>4</th>\n",
       "      <td>2016</td>\n",
       "      <td>475625.52</td>\n",
       "    </tr>\n",
       "  </tbody>\n",
       "</table>\n",
       "</div>"
      ],
      "text/plain": [
       "    ANO  TOTALDESPESA\n",
       "0  2020    1883273.28\n",
       "1  2019    1883273.28\n",
       "2  2018    1239394.80\n",
       "3  2017     943759.32\n",
       "4  2016     475625.52"
      ]
     },
     "metadata": {},
     "output_type": "display_data"
    }
   ],
   "source": [
    "'''EXPLICAÇÃO DA RESOLUÇÃO\n",
    "Primeiramente, carregamos a fato \"pagamento\" e fazemos a junção com a dimensão\n",
    "\"cargo\" (a partir da chave cargoPK) para podermos filtrar pelo cargo solicitado.\n",
    "Fazemos então a junção com a dimensão \"data\" (usando a chave dataPK) para\n",
    "podemos, em seguida, agrupar pelo ano e fazer a agregação (soma) do salário.\n",
    "A seguir, renomeamos as colunas para atender o formato de saída solicitado e\n",
    "também ordenamos baseado nos critérios solicitados.\n",
    "'''\n",
    "\n",
    "Questao1 = pagamentoPandas\\\n",
    "  .merge(cargoPandas, on = 'cargoPK')\\\n",
    "  .query('cargoNome == \"ADMINISTRADOR EM SEGURANCA DA INFORMACAO\"')\\\n",
    "  .merge(dataPandas, on = 'dataPK')\\\n",
    "  .groupby(['dataAno'])\\\n",
    "  .agg(salario = ('salario', 'sum'))\\\n",
    "  .round(2)\\\n",
    "  .reset_index()\\\n",
    "  .rename(columns = {'dataAno': 'ANO', 'salario':'TOTALDESPESA'})\\\n",
    "  .sort_values(by = ['TOTALDESPESA', 'ANO'], ascending = [False, False])\\\n",
    "  .reset_index(drop = True)\n",
    "\n",
    "display(Questao1.head(25))"
   ]
  },
  {
   "cell_type": "code",
   "execution_count": 20,
   "metadata": {
    "id": "HFtRYl5WlLL8"
   },
   "outputs": [],
   "source": [
    "Questao1.to_csv('questao1.csv', index = False, header = True)"
   ]
  },
  {
   "cell_type": "markdown",
   "metadata": {
    "id": "4FANzdCl6mAS"
   },
   "source": [
    "### **Questão 2 (valor: 1,0)**\n",
    "\n",
    "Liste, para cada nome da região da filial, a soma dos salários para o cargo de nome \"ADMINISTRADOR EM SEGURANCA DA INFORMACAO\". Arredonde a soma dos salários para até duas casas decimais. Devem ser exibidas as colunas na ordem e com os nomes especificados a seguir: \"REGIAO\", \"TOTALDESPESA\". Ordene as linhas exibidas primeiro pelo total de despesa em ordem descendente e depois pelo nome da região em ordem descendente. Liste as primeiras 25 linhas da resposta, sem truncamento das *strings*. \n",
    "\n",
    "**Resolva a questão especificando a consulta OLAP na linguagem SQL**."
   ]
  },
  {
   "cell_type": "markdown",
   "metadata": {
    "id": "fpFnRTk369Q5"
   },
   "source": [
    "### Resposta da Questão 2"
   ]
  },
  {
   "cell_type": "code",
   "execution_count": 21,
   "metadata": {
    "colab": {
     "base_uri": "https://localhost:8080/"
    },
    "id": "HucGyHEnnufA",
    "outputId": "2de92305-115d-4a71-de3f-970b705be9c7"
   },
   "outputs": [
    {
     "name": "stdout",
     "output_type": "stream",
     "text": [
      "+------------+------------+\n",
      "|REGIAO      |TOTALDESPESA|\n",
      "+------------+------------+\n",
      "|SUDESTE     |3923904.22  |\n",
      "|CENTRO-OESTE|1569126.83  |\n",
      "|NORDESTE    |932295.13   |\n",
      "+------------+------------+\n",
      "\n"
     ]
    }
   ],
   "source": [
    "'''EXPLICAÇÃO DA RESOLUÇÃO\n",
    "Juntamos as dimensões \"equipe\" e \"cargo\", a partir de suas respectivas\n",
    "chaves, com a fato \"pagamento\".\n",
    "Filtramos o cargo de nome \"ADMINISTRADOR EM SEGURANCA DA INFORMACAO\", agrupamos\n",
    "pelo nome da região da filial e calculamos a soma das despesas em salário para\n",
    "cada região. Por último, selecionamos as colunas de interesse e as ordenamos\n",
    "conforme solicitado.\n",
    "'''\n",
    "\n",
    "query = '''\n",
    "SELECT filialRegiaoNome as REGIAO, ROUND(SUM(salario), 2) as TOTALDESPESA\n",
    "FROM pagamento\n",
    "LEFT JOIN equipe\n",
    "ON pagamento.equipePK = equipe.equipePK\n",
    "LEFT JOIN cargo\n",
    "ON pagamento.cargoPK = cargo.cargoPK\n",
    "WHERE cargoNome = \"ADMINISTRADOR EM SEGURANCA DA INFORMACAO\"\n",
    "GROUP BY REGIAO\n",
    "ORDER BY TOTALDESPESA DESC, REGIAO DESC\n",
    "'''\n",
    "Questao2 = spark.sql(query)\n",
    "Questao2.show(25, truncate = False)"
   ]
  },
  {
   "cell_type": "code",
   "execution_count": 22,
   "metadata": {
    "id": "0P_91KaOHXv_"
   },
   "outputs": [],
   "source": [
    "Questao2\\\n",
    "  .coalesce(1).limit(25)\\\n",
    "  .toPandas()\\\n",
    "  .to_csv('questao2.csv', index = False, header = True)"
   ]
  },
  {
   "cell_type": "markdown",
   "metadata": {
    "id": "oj03JRHf7-am"
   },
   "source": [
    "### **Questão 3 (valor: 1,0)**\n",
    "\n",
    "Liste, por sexo, a soma dos salários para o cargo de nome \"ADMINISTRADOR EM SEGURANCA DA INFORMACAO\". Arredonde a soma dos salários para até duas casas decimais. Devem ser exibidas as colunas na ordem e com os nomes especificados a seguir: \"SEXO\", \"TOTALDESPESA\". Ordene as linhas exibidas primeiro pelo total de despesa em ordem descendente e depois pelo sexo em ordem descendente. Liste as primeiras 25 linhas da resposta, sem truncamento das *strings*. \n",
    "\n",
    "**Resolva a questão especificando a consulta OLAP usando os métodos de pyspark.sql**"
   ]
  },
  {
   "cell_type": "markdown",
   "metadata": {
    "id": "zCpy46lL8Xdn"
   },
   "source": [
    "### Resposta da Questão 3"
   ]
  },
  {
   "cell_type": "code",
   "execution_count": 23,
   "metadata": {
    "colab": {
     "base_uri": "https://localhost:8080/"
    },
    "id": "9Kqh5l8IMYMY",
    "outputId": "17933ec0-6377-4a10-f3c1-c149abc1301d"
   },
   "outputs": [
    {
     "name": "stdout",
     "output_type": "stream",
     "text": [
      "+----+------------+\n",
      "|SEXO|TOTALDESPESA|\n",
      "+----+------------+\n",
      "|M   |4380094.08  |\n",
      "|F   |2045232.1   |\n",
      "+----+------------+\n",
      "\n"
     ]
    }
   ],
   "source": [
    "'''EXPLICAÇÃO DA RESOLUÇÃO\n",
    "Juntamos as dimensões \"cargo\" e \"funcionario\", a partir de suas respectivas\n",
    "chaves, com a fato \"pagamento\".\n",
    "Filtramos o cargo de nome \"ADMINISTRADOR EM SEGURANCA DA INFORMACAO\", agrupamos\n",
    "pelo sexo do funcionário e calculamos a soma das despesas em salário para cada\n",
    "sexo. Por último, selecionamos as colunas de interesse e as ordenamos conforme\n",
    "solicitado.\n",
    "'''\n",
    "\n",
    "from pyspark.sql.functions import sum, col\n",
    "\n",
    "Questao3 = pagamento\\\n",
    "  .join(cargo, on = 'cargoPK', how = 'left')\\\n",
    "  .filter('cargoNome = \"ADMINISTRADOR EM SEGURANCA DA INFORMACAO\"')\\\n",
    "  .join(funcionario, on = 'funcPK', how = 'left')\\\n",
    "  .groupby(['funcSexo'])\\\n",
    "  .agg(round(sum('salario'), 2).alias('TOTALDESPESA'))\\\n",
    "  .withColumnRenamed('funcSexo', 'SEXO')\\\n",
    "  .orderBy(col('TOTALDESPESA').desc(), col('SEXO').desc())\n",
    "  \n",
    "Questao3.show(25, truncate = False)"
   ]
  },
  {
   "cell_type": "code",
   "execution_count": 24,
   "metadata": {
    "id": "_RT5IGStRi2E"
   },
   "outputs": [],
   "source": [
    "Questao3\\\n",
    "  .coalesce(1).limit(25)\\\n",
    "  .toPandas()\\\n",
    "  .to_csv('questao3.csv', index = False, header = True)"
   ]
  },
  {
   "cell_type": "markdown",
   "metadata": {
    "id": "z6s9Og_xCPc4"
   },
   "source": [
    "## 7.2 Análises Relacionadas às Regiões\n",
    "\n",
    "Foi identificada a necessidade de se investigar despesas e receitas no que tange às regiões. O objetivo das análises desta seção é obter uma visão relacionada a esse aspecto. \n",
    "\n",
    "Podem ser realizadas diferentes análises, sendo que três delas são solicitadas a seguir."
   ]
  },
  {
   "cell_type": "markdown",
   "metadata": {
    "id": "3wy13GBocw36"
   },
   "source": [
    "### **Questão 4 (valor: 1,0)** \n",
    "\n",
    "Liste, para cada nome do estado da filial, a soma das receitas por ano considerando apenas o trimestre 1 e os clientes cuja região na qual eles moram é a mesma região na qual a filial está localizada. Arredonde a soma das receitas para até duas casas decimais. Devem ser exibidas as colunas na ordem e com os nomes especificados a seguir: \"ESTADO\", \"ANO\", \"TOTALRECEITA\". Ordene as linhas exibidas primeiro pelo total de receitas em ordem descendente, depois por estado em ordem descendente, depois pelo ano em ordem descendente. Liste as primeiras 25 linhas da resposta, sem truncamento das *strings*.\n",
    "\n",
    "**Resolva a questão especificando a consulta OLAP usando Pandas**."
   ]
  },
  {
   "cell_type": "markdown",
   "metadata": {
    "id": "BzhYPIvqnLc8"
   },
   "source": [
    "### Resposta da Questão 4"
   ]
  },
  {
   "cell_type": "code",
   "execution_count": 25,
   "metadata": {
    "colab": {
     "base_uri": "https://localhost:8080/",
     "height": 520
    },
    "id": "H2QRpV4pwT1a",
    "outputId": "11c61834-994f-42d3-98fa-2c5b439cdeae"
   },
   "outputs": [
    {
     "data": {
      "text/html": [
       "<div>\n",
       "<style scoped>\n",
       "    .dataframe tbody tr th:only-of-type {\n",
       "        vertical-align: middle;\n",
       "    }\n",
       "\n",
       "    .dataframe tbody tr th {\n",
       "        vertical-align: top;\n",
       "    }\n",
       "\n",
       "    .dataframe thead th {\n",
       "        text-align: right;\n",
       "    }\n",
       "</style>\n",
       "<table border=\"1\" class=\"dataframe\">\n",
       "  <thead>\n",
       "    <tr style=\"text-align: right;\">\n",
       "      <th></th>\n",
       "      <th>ESTADO</th>\n",
       "      <th>ANO</th>\n",
       "      <th>TOTALRECEITA</th>\n",
       "    </tr>\n",
       "  </thead>\n",
       "  <tbody>\n",
       "    <tr>\n",
       "      <th>0</th>\n",
       "      <td>SAO PAULO</td>\n",
       "      <td>2019</td>\n",
       "      <td>3032795.35</td>\n",
       "    </tr>\n",
       "    <tr>\n",
       "      <th>1</th>\n",
       "      <td>SAO PAULO</td>\n",
       "      <td>2020</td>\n",
       "      <td>2103756.15</td>\n",
       "    </tr>\n",
       "    <tr>\n",
       "      <th>2</th>\n",
       "      <td>RIO DE JANEIRO</td>\n",
       "      <td>2019</td>\n",
       "      <td>1131381.35</td>\n",
       "    </tr>\n",
       "    <tr>\n",
       "      <th>3</th>\n",
       "      <td>RIO DE JANEIRO</td>\n",
       "      <td>2018</td>\n",
       "      <td>906128.70</td>\n",
       "    </tr>\n",
       "    <tr>\n",
       "      <th>4</th>\n",
       "      <td>RIO DE JANEIRO</td>\n",
       "      <td>2020</td>\n",
       "      <td>855852.70</td>\n",
       "    </tr>\n",
       "    <tr>\n",
       "      <th>5</th>\n",
       "      <td>SAO PAULO</td>\n",
       "      <td>2018</td>\n",
       "      <td>653687.70</td>\n",
       "    </tr>\n",
       "    <tr>\n",
       "      <th>6</th>\n",
       "      <td>PERNAMBUCO</td>\n",
       "      <td>2019</td>\n",
       "      <td>570269.35</td>\n",
       "    </tr>\n",
       "    <tr>\n",
       "      <th>7</th>\n",
       "      <td>RIO DE JANEIRO</td>\n",
       "      <td>2016</td>\n",
       "      <td>488947.40</td>\n",
       "    </tr>\n",
       "    <tr>\n",
       "      <th>8</th>\n",
       "      <td>SAO PAULO</td>\n",
       "      <td>2017</td>\n",
       "      <td>313013.85</td>\n",
       "    </tr>\n",
       "    <tr>\n",
       "      <th>9</th>\n",
       "      <td>RIO DE JANEIRO</td>\n",
       "      <td>2017</td>\n",
       "      <td>299341.90</td>\n",
       "    </tr>\n",
       "    <tr>\n",
       "      <th>10</th>\n",
       "      <td>SAO PAULO</td>\n",
       "      <td>2016</td>\n",
       "      <td>241678.25</td>\n",
       "    </tr>\n",
       "    <tr>\n",
       "      <th>11</th>\n",
       "      <td>PERNAMBUCO</td>\n",
       "      <td>2020</td>\n",
       "      <td>149554.20</td>\n",
       "    </tr>\n",
       "    <tr>\n",
       "      <th>12</th>\n",
       "      <td>MATO GROSSO DO SUL</td>\n",
       "      <td>2017</td>\n",
       "      <td>19250.10</td>\n",
       "    </tr>\n",
       "    <tr>\n",
       "      <th>13</th>\n",
       "      <td>MATO GROSSO DO SUL</td>\n",
       "      <td>2018</td>\n",
       "      <td>3650.25</td>\n",
       "    </tr>\n",
       "    <tr>\n",
       "      <th>14</th>\n",
       "      <td>MATO GROSSO DO SUL</td>\n",
       "      <td>2019</td>\n",
       "      <td>1564.45</td>\n",
       "    </tr>\n",
       "  </tbody>\n",
       "</table>\n",
       "</div>"
      ],
      "text/plain": [
       "                ESTADO   ANO  TOTALRECEITA\n",
       "0            SAO PAULO  2019    3032795.35\n",
       "1            SAO PAULO  2020    2103756.15\n",
       "2       RIO DE JANEIRO  2019    1131381.35\n",
       "3       RIO DE JANEIRO  2018     906128.70\n",
       "4       RIO DE JANEIRO  2020     855852.70\n",
       "5            SAO PAULO  2018     653687.70\n",
       "6           PERNAMBUCO  2019     570269.35\n",
       "7       RIO DE JANEIRO  2016     488947.40\n",
       "8            SAO PAULO  2017     313013.85\n",
       "9       RIO DE JANEIRO  2017     299341.90\n",
       "10           SAO PAULO  2016     241678.25\n",
       "11          PERNAMBUCO  2020     149554.20\n",
       "12  MATO GROSSO DO SUL  2017      19250.10\n",
       "13  MATO GROSSO DO SUL  2018       3650.25\n",
       "14  MATO GROSSO DO SUL  2019       1564.45"
      ]
     },
     "execution_count": 25,
     "metadata": {},
     "output_type": "execute_result"
    }
   ],
   "source": [
    "'''EXPLICAÇÃO DA RESOLUÇÃO\n",
    "Juntamos as dimensões \"data\", \"cliente\" e \"equipe\", a partir de suas respectivas\n",
    "chaves, com a fato \"negociacao\".\n",
    "Filtramos o primeiro trimestre e os clientes cuja região que moram é a mesma\n",
    "região em que a filial está situada.\n",
    "Agrupamos pela região e pelo ano e calculamos a soma das receitas.\n",
    "Por último, selecionamos as colunas de interesse e as ordenamos conforme \n",
    "solicitado.\n",
    "'''\n",
    "\n",
    "Questao4 = negociacaoPandas\\\n",
    "  .merge(dataPandas.filter(['dataPK', 'dataAno', 'dataTrimestre']), on = 'dataPK')\\\n",
    "  .merge(clientePandas.filter(['clientePK', 'clienteRegiaoNome']), on = 'clientePK')\\\n",
    "  .merge(equipePandas.filter(['equipePK', 'filialEstadoNome', 'filialRegiaoNome']), on = 'equipePK')\\\n",
    "  .query('dataTrimestre == 1 & clienteRegiaoNome == filialRegiaoNome')\\\n",
    "  .groupby(['filialEstadoNome', 'dataAno'])\\\n",
    "  .agg(receita_total = ('receita', 'sum'))\\\n",
    "  .round(2)\\\n",
    "  .reset_index()\\\n",
    "  .rename(columns = {'filialEstadoNome':'ESTADO', 'dataAno':'ANO', 'receita_total':'TOTALRECEITA'})\\\n",
    "  .sort_values(by = ['TOTALRECEITA', 'ESTADO', 'ANO'], ascending = [False, False, False])\\\n",
    "  .reset_index(drop = True)\n",
    "\n",
    "Questao4.head(25)"
   ]
  },
  {
   "cell_type": "code",
   "execution_count": 26,
   "metadata": {
    "id": "xMdhSvGNHF5J"
   },
   "outputs": [],
   "source": [
    "Questao4.to_csv('questao4.csv', index = False, header = True)"
   ]
  },
  {
   "cell_type": "markdown",
   "metadata": {
    "id": "QYHOKEoMaMg_"
   },
   "source": [
    "### **Questão 5 (valor: 1,0)** \n",
    "\n",
    "Liste, para cada nome da região da filial, a soma dos salários e a soma das receitas, considerando apenas o ano de 2017. Arredonde a soma dos salários e a soma das receitas para até duas casas decimais. Devem ser exibidas as colunas na ordem e com os nomes especificados a seguir: \"REGIAO\", \"TOTALRECEITAEQUIPE\", \"TOTALDESPESAEQUIPE\". Ordene as linhas exibidas primeiro pelo total de receitas em ordem descendente, depois pelo total de despesas ordem descendente. Liste as primeiras 25 linhas da resposta, sem truncamento das *strings*. \n",
    "\n",
    "**Resolva a questão especificando a consulta OLAP na linguagem SQL**."
   ]
  },
  {
   "cell_type": "markdown",
   "metadata": {
    "id": "-Og3mkliav8c"
   },
   "source": [
    "### Resposta da Questão 5"
   ]
  },
  {
   "cell_type": "code",
   "execution_count": 27,
   "metadata": {
    "colab": {
     "base_uri": "https://localhost:8080/"
    },
    "id": "wemtnuZE7KrS",
    "outputId": "3cd4b51e-1789-4380-c19d-9b128a922f1b"
   },
   "outputs": [
    {
     "name": "stdout",
     "output_type": "stream",
     "text": [
      "+------------+------------------+------------------+\n",
      "|REGIAO      |TOTALRECEITAEQUIPE|TOTALDESPESAEQUIPE|\n",
      "+------------+------------------+------------------+\n",
      "|SUDESTE     |6524616.11        |7957065.63        |\n",
      "|CENTRO-OESTE|675807.24         |1818214.21        |\n",
      "+------------+------------------+------------------+\n",
      "\n"
     ]
    }
   ],
   "source": [
    "'''\n",
    "COMENTÁRIO/EXPLICAÇÃO\n",
    "\n",
    "A query abaixo foi construída no modelo de operação \"Drill-Across\", em que as\n",
    "duas tabelas fato (\"pagamento\" e \"negociacao\") foram consultadas, filtradas e\n",
    "agrupadas individualmente e o resultado dessas duas operações foi juntado no\n",
    "resultado final (ou seja, fazendo a junção pela região).\n",
    "\n",
    "Para a fato \"pagamento\", juntamos as dimensões \"data\" e \"equipe\" a partir de\n",
    "suas respectivas chaves. Filtramos o ano de 2017, agrupamos por região da filial\n",
    "e calculamos a soma das despesas (salários).\n",
    "\n",
    "O mesmo processo foi feito para a fato \"negociacao\", alterando apenas a variável\n",
    "agregada para a receita (não os salários).\n",
    "\n",
    "Feitas as duas \"subconsultas\", juntamos ambas pela região e montamos a saída\n",
    "conforme solicitado.\n",
    "'''\n",
    "\n",
    "query = '''\n",
    "SELECT despesas.REGIAO, TOTALRECEITAEQUIPE, TOTALDESPESAEQUIPE\n",
    "FROM (\n",
    "  SELECT filialRegiaoNome AS REGIAO, ROUND(SUM(salario), 2) AS TOTALDESPESAEQUIPE\n",
    "  FROM pagamento\n",
    "  LEFT JOIN data\n",
    "  ON pagamento.dataPK = data.dataPK\n",
    "  LEFT JOIN equipe\n",
    "  ON pagamento.equipePK = equipe.equipePK\n",
    "  WHERE dataAno = 2017\n",
    "  GROUP BY filialRegiaoNome\n",
    "  ) despesas\n",
    "FULL OUTER JOIN (\n",
    "  SELECT filialRegiaoNome AS REGIAO, ROUND(SUM(receita), 2) AS TOTALRECEITAEQUIPE\n",
    "  FROM negociacao\n",
    "  LEFT JOIN data\n",
    "  ON negociacao.dataPK = data.dataPK\n",
    "  LEFT JOIN equipe\n",
    "  ON negociacao.equipePK = equipe.equipePK\n",
    "  WHERE dataAno = 2017\n",
    "  GROUP BY filialRegiaoNome\n",
    "  ) receitas\n",
    "ON despesas.REGIAO = receitas.REGIAO\n",
    "ORDER BY TOTALRECEITAEQUIPE DESC\n",
    "'''\n",
    "\n",
    "Questao5 = spark.sql(query)\n",
    "Questao5.show(25, truncate = False)"
   ]
  },
  {
   "cell_type": "code",
   "execution_count": 28,
   "metadata": {
    "id": "eFLDpmHJHtQE"
   },
   "outputs": [],
   "source": [
    "Questao5\\\n",
    "  .coalesce(1).limit(25) \\\n",
    "  .toPandas() \\\n",
    "  .to_csv('questao5.csv', index = False, header = True)"
   ]
  },
  {
   "cell_type": "markdown",
   "metadata": {
    "id": "QzcUw0CYHPB1"
   },
   "source": [
    "### **Questão 6 (valor: 1,5)** \n",
    "\n",
    "Liste todas as agregações que podem ser geradas para a partir da soma dos salários por nome do estado da filial e por ano, considerando apenas o trimestre 1 e os funcionários cuja região na qual eles moram é a mesma região na qual a filial está localizada. Arredonde a soma dos salários para até duas casas decimais. Devem ser exibidas as colunas na ordem e com os nomes especificados a seguir: \"ESTADO\", \"ANO\", \"TOTALRECEITA\". Ordene as linhas exibidas primeiro pelo total de receita em ordem descendente, depois por estado em ordem descendente, depois pelo ano em ordem descendente. Liste as primeiras 25 linhas da resposta, sem truncamento das *strings*. \n",
    "\n",
    "**Resolva a questão especificando a consulta OLAP usando os métodos de pyspark.sql.**"
   ]
  },
  {
   "cell_type": "markdown",
   "metadata": {
    "id": "ZqBE_EVMnO0S"
   },
   "source": [
    "### Resposta da Questão 6"
   ]
  },
  {
   "cell_type": "markdown",
   "metadata": {
    "id": "iDVJc29k_CdI"
   },
   "source": []
  },
  {
   "cell_type": "code",
   "execution_count": 29,
   "metadata": {
    "colab": {
     "base_uri": "https://localhost:8080/"
    },
    "id": "aZjTfdnK77h4",
    "outputId": "faab8e30-d8a4-4389-b913-986a1bf36d49"
   },
   "outputs": [
    {
     "name": "stdout",
     "output_type": "stream",
     "text": [
      "+--------------+----+------------+\n",
      "|        ESTADO| ANO|TOTALRECEITA|\n",
      "+--------------+----+------------+\n",
      "|          null|null|  9342133.85|\n",
      "|     SAO PAULO|null|  5657776.45|\n",
      "|RIO DE JANEIRO|null|  3549567.87|\n",
      "|          null|2020|   2450982.1|\n",
      "|          null|2019|   2450982.1|\n",
      "|          null|2018|  2065272.34|\n",
      "|          null|2017|   1550525.2|\n",
      "|     SAO PAULO|2020|  1514279.37|\n",
      "|     SAO PAULO|2019|  1514279.37|\n",
      "|     SAO PAULO|2018|  1195964.37|\n",
      "|     SAO PAULO|2017|   957678.16|\n",
      "|RIO DE JANEIRO|2020|   869307.97|\n",
      "|RIO DE JANEIRO|2019|   869307.97|\n",
      "|RIO DE JANEIRO|2018|   869307.97|\n",
      "|          null|2016|   824372.11|\n",
      "|RIO DE JANEIRO|2017|   592847.04|\n",
      "|     SAO PAULO|2016|   475575.18|\n",
      "|RIO DE JANEIRO|2016|   348796.92|\n",
      "|    PERNAMBUCO|null|   134789.52|\n",
      "|    PERNAMBUCO|2020|    67394.76|\n",
      "|    PERNAMBUCO|2019|    67394.76|\n",
      "+--------------+----+------------+\n",
      "\n"
     ]
    }
   ],
   "source": [
    "'''\n",
    "COMENTÁRIO/EXPLICAÇÃO\n",
    "\n",
    "Para a fato \"pagamento\", juntamos as dimensões \"data\", \"funcionario\" e \"equipe\"\n",
    "a partir de suas respectivas chaves. Filtramos o o trimestre 1 e os funcionários\n",
    "cuja região em que moram é a mesma região na qual a filial está localizada.\n",
    "Para calcular a soma das despesas (salários) em todas as combinações, usamos o\n",
    "método \".cube\" (ao invés de um \".groubBy\" simples), agrupando pelo estado e ano.\n",
    "Por último, ordenamos as colunas resultantes conforme solicitado.\n",
    "'''\n",
    "\n",
    "from pyspark.sql.functions import sum, col\n",
    "\n",
    "Questao6 = pagamento\\\n",
    "  .join(data, on = 'dataPK', how = 'left')\\\n",
    "  .join(funcionario, on = 'funcPK', how = 'left')\\\n",
    "  .join(equipe, on = 'equipePK', how = 'left')\\\n",
    "  .where('dataTrimestre = 1 AND funcRegiaoNome = filialRegiaoNome')\\\n",
    "  .cube(['filialEstadoNome', 'dataAno'])\\\n",
    "  .agg(round(sum('salario'), 2).alias('TOTALRECEITA'))\\\n",
    "  .withColumnRenamed('filialEstadoNome', 'ESTADO')\\\n",
    "  .withColumnRenamed('dataAno', 'ANO')\\\n",
    "  .orderBy(col('TOTALRECEITA').desc(),\n",
    "           col('ESTADO').desc(),\n",
    "           col('ANO').desc())\n",
    "\n",
    "Questao6.show(25)"
   ]
  },
  {
   "cell_type": "code",
   "execution_count": 30,
   "metadata": {
    "id": "TT6MSDzRBHjo"
   },
   "outputs": [],
   "source": [
    "Questao6\\\n",
    "  .coalesce(1).limit(25)\\\n",
    "  .toPandas()\\\n",
    "  .to_csv('questao6.csv', index = False, header = True)"
   ]
  },
  {
   "cell_type": "markdown",
   "metadata": {
    "id": "jDhW4jqlZawA"
   },
   "source": [
    "## 7.3 Análise Relacionada a Totais"
   ]
  },
  {
   "cell_type": "markdown",
   "metadata": {
    "id": "lCRlYyOCZwRu"
   },
   "source": [
    "O objetivo da análise desta seção é obter uma tabela de totais."
   ]
  },
  {
   "cell_type": "markdown",
   "metadata": {
    "id": "EZNTAgi0hg1M"
   },
   "source": [
    "### **Questão 7 (valor: 1,5)** \n",
    "\n",
    "Liste, para cada nome da região da filial, o número total de funcionários diferentes, o número total de clientes diferentes e o número total de equipes diferentes. Devem ser exibidas as colunas na ordem e com os nomes especificados a seguir: \"REGIAO\", \"TOTALFUNCIONARIOS\", \"TOTALCLIENTES\", \"TOTALEQUIPES\". Ordene as linhas exibidas primeiro pela região em ordem descendente, depois pelo total de funcionários em ordem descendente, depois pelo total de clientes em ordem descendente, depois pelo total de equipes em ordem descendente. Liste as primeiras 25 linhas da resposta, sem truncamento das *strings*.\n",
    "\n",
    "**Resolva a questão especificando a consulta OLAP na linguagem SQL**."
   ]
  },
  {
   "cell_type": "markdown",
   "metadata": {
    "id": "ca8OOwWznQoS"
   },
   "source": [
    "### Resposta da Questão 7"
   ]
  },
  {
   "cell_type": "code",
   "execution_count": 31,
   "metadata": {
    "colab": {
     "base_uri": "https://localhost:8080/"
    },
    "id": "RGCm8RG-_5QL",
    "outputId": "224287df-d7a6-4f50-876c-c5c1b773e180"
   },
   "outputs": [
    {
     "name": "stdout",
     "output_type": "stream",
     "text": [
      "+------------+-----------------+-------------+------------+\n",
      "|REGIAO      |TOTALFUNCIONARIOS|TOTALCLIENTES|TOTALEQUIPES|\n",
      "+------------+-----------------+-------------+------------+\n",
      "|SUDESTE     |134              |138          |7           |\n",
      "|NORDESTE    |20               |55           |1           |\n",
      "|CENTRO-OESTE|46               |86           |2           |\n",
      "+------------+-----------------+-------------+------------+\n",
      "\n"
     ]
    }
   ],
   "source": [
    "'''\n",
    "COMENTÁRIO/EXPLICAÇÃO\n",
    "\n",
    "A query abaixo foi construída no modelo de operação \"Drill-Across\", em que as\n",
    "duas tabelas fato (\"pagamento\" e \"negociacao\") foram consultadas, filtradas e\n",
    "agrupadas individualmente e o resultado dessas duas operações foi juntado no\n",
    "resultado (ou seja, fazendo a junção pela região).\n",
    "\n",
    "Para a fato \"pagamento\", juntamos a dimensão \"equipe\" para trazer a região da\n",
    "filial, agrupamos por essa variável e fazemos a contagem distinta de\n",
    "funcionários e equipes a partir de suas respectivas chaves.\n",
    "\n",
    "O mesmo processo foi feito para a fato \"negociacao\", porém aqui obtivemos o\n",
    "total de clientes distintos por região.\n",
    "\n",
    "Feitas as duas \"subconsultas\", juntamos ambas pela região e montamos a saída\n",
    "conforme solicitado.\n",
    "'''\n",
    "\n",
    "\n",
    "query = '''\n",
    "SELECT A.REGIAO, A.TOTALFUNCIONARIOS, B.TOTALCLIENTES, A.TOTALEQUIPES\n",
    "FROM (\n",
    "  SELECT\n",
    "    filialRegiaoNome as REGIAO,\n",
    "    COUNT(DISTINCT(pagamento.funcPK)) as TOTALFUNCIONARIOS,\n",
    "    COUNT(DISTINCT(equipe.equipePK)) as TOTALEQUIPES\n",
    "  FROM pagamento\n",
    "  LEFT JOIN equipe\n",
    "  ON pagamento.equipePK = equipe.equipePK\n",
    "  GROUP BY filialRegiaoNome\n",
    ") A\n",
    "FULL OUTER JOIN (\n",
    "  SELECT\n",
    "    filialRegiaoNome as REGIAO,\n",
    "    COUNT(DISTINCT(negociacao.clientePK)) as TOTALCLIENTES\n",
    "  FROM negociacao\n",
    "  LEFT JOIN equipe\n",
    "  ON negociacao.equipePK = equipe.equipePK\n",
    "  GROUP BY filialRegiaoNome\n",
    ") B\n",
    "ON A.REGIAO = B.REGIAO\n",
    "ORDER BY\n",
    "  REGIAO DESC,\n",
    "  TOTALFUNCIONARIOS DESC,\n",
    "  TOTALCLIENTES DESC,\n",
    "  TOTALEQUIPES DESC\n",
    "'''\n",
    "\n",
    "Questao7 = spark.sql(query)\n",
    "Questao7.show(25, truncate = False)"
   ]
  },
  {
   "cell_type": "code",
   "execution_count": 32,
   "metadata": {
    "id": "SzzQ29qaOqni"
   },
   "outputs": [],
   "source": [
    "Questao7\\\n",
    "  .coalesce(1).limit(25)\\\n",
    "  .toPandas()\\\n",
    "  .to_csv('questao7.csv', index = False, header = True)"
   ]
  },
  {
   "cell_type": "markdown",
   "metadata": {
    "id": "UgvlmwjQVBQm"
   },
   "source": [
    "# 8 Estendendo a Aplicação da BI Solutions\n",
    "\n",
    "A aplicação da BI Solutions está sendo estendida de forma a analisar um novo assunto de interesse: os gastos realizados na compra de equipamentos. Para tanto, é necessário criar uma nova tabela de dimensão chamada Equipamento, a qual tem como objetivo armazenar dados de equipamentos, os quais devem ser obtidos a partir de 3 fontes de dados heterogêneas.\n",
    "\n",
    "\n"
   ]
  },
  {
   "cell_type": "markdown",
   "metadata": {
    "id": "3F8-VAlRYjvf"
   },
   "source": [
    "### 8.1 Detalhamento das Fontes  \n",
    "\n",
    "Considere que o processo de integração de dados já tenha sido realizado. Como resultado, as 3 fontes de dados (Fonte1, Fonte2, Fonte3) possuem os mesmos  atributos, com os mesmos nomes. Esses atributos encontram-se listados a seguir, sendo seus nomes semânticos.\n",
    "\n",
    "- equipamentoPK\n",
    "\n",
    "- equipamentoNome\n",
    "\n",
    "- equipamentoCor\n",
    "\n",
    "- equipamentoTipo\n",
    "\n",
    "- equipamentoMoeda\n",
    "\n",
    "- equipamentoPreco \n"
   ]
  },
  {
   "cell_type": "code",
   "execution_count": 33,
   "metadata": {
    "id": "fC_CWyQhi6IU"
   },
   "outputs": [],
   "source": [
    "import pandas as pd"
   ]
  },
  {
   "cell_type": "code",
   "execution_count": 34,
   "metadata": {
    "colab": {
     "base_uri": "https://localhost:8080/",
     "height": 258
    },
    "id": "-v879EQkZs--",
    "outputId": "64353acb-16f7-4c39-a286-eba4498fa4d5"
   },
   "outputs": [
    {
     "name": "stdout",
     "output_type": "stream",
     "text": [
      "(27, 7)\n"
     ]
    },
    {
     "data": {
      "text/html": [
       "<div>\n",
       "<style scoped>\n",
       "    .dataframe tbody tr th:only-of-type {\n",
       "        vertical-align: middle;\n",
       "    }\n",
       "\n",
       "    .dataframe tbody tr th {\n",
       "        vertical-align: top;\n",
       "    }\n",
       "\n",
       "    .dataframe thead th {\n",
       "        text-align: right;\n",
       "    }\n",
       "</style>\n",
       "<table border=\"1\" class=\"dataframe\">\n",
       "  <thead>\n",
       "    <tr style=\"text-align: right;\">\n",
       "      <th></th>\n",
       "      <th>equipamentoPK</th>\n",
       "      <th>equipamentoNome</th>\n",
       "      <th>equipamentoDescricao</th>\n",
       "      <th>equipamentoCor</th>\n",
       "      <th>equipamentoTipo</th>\n",
       "      <th>equipamentoMoeda</th>\n",
       "      <th>equipamentoPreco</th>\n",
       "    </tr>\n",
       "  </thead>\n",
       "  <tbody>\n",
       "    <tr>\n",
       "      <th>0</th>\n",
       "      <td>1</td>\n",
       "      <td>monitor</td>\n",
       "      <td>monitor LCD LG 15 polegadas</td>\n",
       "      <td>preto</td>\n",
       "      <td>equip informatica</td>\n",
       "      <td>EUR</td>\n",
       "      <td>39.00</td>\n",
       "    </tr>\n",
       "    <tr>\n",
       "      <th>1</th>\n",
       "      <td>2</td>\n",
       "      <td>monitor</td>\n",
       "      <td>monitor LCD ITAUTEC 19 polegadas</td>\n",
       "      <td>preto</td>\n",
       "      <td>equip informatica</td>\n",
       "      <td>BRL</td>\n",
       "      <td>180.20</td>\n",
       "    </tr>\n",
       "    <tr>\n",
       "      <th>2</th>\n",
       "      <td>3</td>\n",
       "      <td>monitor</td>\n",
       "      <td>monitor LCD AOC 17 polegadas</td>\n",
       "      <td>preto</td>\n",
       "      <td>Equip informatica</td>\n",
       "      <td>BRL</td>\n",
       "      <td>167.41</td>\n",
       "    </tr>\n",
       "    <tr>\n",
       "      <th>3</th>\n",
       "      <td>5</td>\n",
       "      <td>NaN</td>\n",
       "      <td>LENOVO THINKCENTRE MT-M W/ INTEL CORE 2 DUO @ ...</td>\n",
       "      <td>preto</td>\n",
       "      <td>equip informatica</td>\n",
       "      <td>BRL</td>\n",
       "      <td>2399.41</td>\n",
       "    </tr>\n",
       "    <tr>\n",
       "      <th>4</th>\n",
       "      <td>6</td>\n",
       "      <td>NaN</td>\n",
       "      <td>ITAUTEC INFOWAY SM 3322 W/ AMD PHENOM X2 8GB 3...</td>\n",
       "      <td>NaN</td>\n",
       "      <td>NaN</td>\n",
       "      <td>NaN</td>\n",
       "      <td>nan</td>\n",
       "    </tr>\n",
       "  </tbody>\n",
       "</table>\n",
       "</div>"
      ],
      "text/plain": [
       "   equipamentoPK equipamentoNome  ... equipamentoMoeda equipamentoPreco\n",
       "0              1         monitor  ...              EUR            39.00\n",
       "1              2         monitor  ...              BRL           180.20\n",
       "2              3         monitor  ...              BRL           167.41\n",
       "3              5             NaN  ...              BRL          2399.41\n",
       "4              6             NaN  ...              NaN              nan\n",
       "\n",
       "[5 rows x 7 columns]"
      ]
     },
     "execution_count": 34,
     "metadata": {},
     "output_type": "execute_result"
    }
   ],
   "source": [
    "# Obtenção dos dados da Fonte1 e armazenamento desses dados no Dataframe chamado Fonte1\n",
    "Fonte1 = pd.read_csv('https://raw.githubusercontent.com/CristinaAguiar/QuestaoIntegra2021/main/Fonte1.csv')\n",
    "print(Fonte1.shape)\n",
    "Fonte1.head()"
   ]
  },
  {
   "cell_type": "code",
   "execution_count": 35,
   "metadata": {
    "colab": {
     "base_uri": "https://localhost:8080/",
     "height": 293
    },
    "id": "ZzrqPkFkQOW3",
    "outputId": "33e1780c-b414-4de8-e480-c3b4d4dddb2a"
   },
   "outputs": [
    {
     "name": "stdout",
     "output_type": "stream",
     "text": [
      "(25, 7)\n"
     ]
    },
    {
     "data": {
      "text/html": [
       "<div>\n",
       "<style scoped>\n",
       "    .dataframe tbody tr th:only-of-type {\n",
       "        vertical-align: middle;\n",
       "    }\n",
       "\n",
       "    .dataframe tbody tr th {\n",
       "        vertical-align: top;\n",
       "    }\n",
       "\n",
       "    .dataframe thead th {\n",
       "        text-align: right;\n",
       "    }\n",
       "</style>\n",
       "<table border=\"1\" class=\"dataframe\">\n",
       "  <thead>\n",
       "    <tr style=\"text-align: right;\">\n",
       "      <th></th>\n",
       "      <th>equipamentoPK</th>\n",
       "      <th>equipamentoNome</th>\n",
       "      <th>equipamentoDescricao</th>\n",
       "      <th>equipamentoCor</th>\n",
       "      <th>equipamentoTipo</th>\n",
       "      <th>equipamentoMoeda</th>\n",
       "      <th>equipamentoPreco</th>\n",
       "    </tr>\n",
       "  </thead>\n",
       "  <tbody>\n",
       "    <tr>\n",
       "      <th>0</th>\n",
       "      <td>1</td>\n",
       "      <td>monitor</td>\n",
       "      <td>MONITOR LCD ITAUTEC 17 polegadas</td>\n",
       "      <td>PRETO</td>\n",
       "      <td>equip informatica</td>\n",
       "      <td>BRL</td>\n",
       "      <td>126.35</td>\n",
       "    </tr>\n",
       "    <tr>\n",
       "      <th>1</th>\n",
       "      <td>4</td>\n",
       "      <td>computador</td>\n",
       "      <td>LENOVO THINKCENTRE MT-M W/ INTEL CORE 2 DUO @ ...</td>\n",
       "      <td>PRETO</td>\n",
       "      <td>equip informatica</td>\n",
       "      <td>BRL</td>\n",
       "      <td>2399.41</td>\n",
       "    </tr>\n",
       "    <tr>\n",
       "      <th>2</th>\n",
       "      <td>10</td>\n",
       "      <td>computador</td>\n",
       "      <td>HP COMPAQ DC5850 W/ AMD PHENOM X4 4GB RAM 250G...</td>\n",
       "      <td>PRATA</td>\n",
       "      <td>equip informatica</td>\n",
       "      <td>BRL</td>\n",
       "      <td>1583.74</td>\n",
       "    </tr>\n",
       "    <tr>\n",
       "      <th>3</th>\n",
       "      <td>11</td>\n",
       "      <td>computador</td>\n",
       "      <td>HP COMPAQ DC5850 W/ AMD PHENOM X4 8GB RAM 250G...</td>\n",
       "      <td>PRETO</td>\n",
       "      <td>equip informatica</td>\n",
       "      <td>USD</td>\n",
       "      <td>250.00</td>\n",
       "    </tr>\n",
       "    <tr>\n",
       "      <th>4</th>\n",
       "      <td>12</td>\n",
       "      <td>computador</td>\n",
       "      <td>HP COMPAQ DC5850 W/ AMD PHENOM X4 16GB RAM 250...</td>\n",
       "      <td>PRATA</td>\n",
       "      <td>equip informatica</td>\n",
       "      <td>BRL</td>\n",
       "      <td>2300.74</td>\n",
       "    </tr>\n",
       "  </tbody>\n",
       "</table>\n",
       "</div>"
      ],
      "text/plain": [
       "   equipamentoPK equipamentoNome  ... equipamentoMoeda equipamentoPreco\n",
       "0              1         monitor  ...              BRL           126.35\n",
       "1              4      computador  ...              BRL          2399.41\n",
       "2             10      computador  ...              BRL          1583.74\n",
       "3             11      computador  ...              USD           250.00\n",
       "4             12      computador  ...              BRL          2300.74\n",
       "\n",
       "[5 rows x 7 columns]"
      ]
     },
     "execution_count": 35,
     "metadata": {},
     "output_type": "execute_result"
    }
   ],
   "source": [
    "# Obtenção dos dados da Fonte2 e armazenamento desses dados no Dataframe chamado Fonte2\n",
    "Fonte2 = pd.read_csv('https://raw.githubusercontent.com/CristinaAguiar/QuestaoIntegra2021/main/Fonte2.csv')\n",
    "print(Fonte2.shape)\n",
    "Fonte2.head()"
   ]
  },
  {
   "cell_type": "code",
   "execution_count": 36,
   "metadata": {
    "colab": {
     "base_uri": "https://localhost:8080/",
     "height": 276
    },
    "id": "E--LvJfAQQ5x",
    "outputId": "7342171d-534b-4dce-8de4-99f0d3ad708a"
   },
   "outputs": [
    {
     "name": "stdout",
     "output_type": "stream",
     "text": [
      "(29, 7)\n"
     ]
    },
    {
     "data": {
      "text/html": [
       "<div>\n",
       "<style scoped>\n",
       "    .dataframe tbody tr th:only-of-type {\n",
       "        vertical-align: middle;\n",
       "    }\n",
       "\n",
       "    .dataframe tbody tr th {\n",
       "        vertical-align: top;\n",
       "    }\n",
       "\n",
       "    .dataframe thead th {\n",
       "        text-align: right;\n",
       "    }\n",
       "</style>\n",
       "<table border=\"1\" class=\"dataframe\">\n",
       "  <thead>\n",
       "    <tr style=\"text-align: right;\">\n",
       "      <th></th>\n",
       "      <th>equipamentoPK</th>\n",
       "      <th>equipamentoNome</th>\n",
       "      <th>equipamentoDescricao</th>\n",
       "      <th>equipamentoCor</th>\n",
       "      <th>equipamentoTipo</th>\n",
       "      <th>equipamentoMoeda</th>\n",
       "      <th>equipamentoPreco</th>\n",
       "    </tr>\n",
       "  </thead>\n",
       "  <tbody>\n",
       "    <tr>\n",
       "      <th>0</th>\n",
       "      <td>1</td>\n",
       "      <td>MONITOR</td>\n",
       "      <td>MONITOR LCD ITAUTEC 17 polegadas</td>\n",
       "      <td>prata</td>\n",
       "      <td>equip informatica</td>\n",
       "      <td>BRL</td>\n",
       "      <td>126.35</td>\n",
       "    </tr>\n",
       "    <tr>\n",
       "      <th>1</th>\n",
       "      <td>5</td>\n",
       "      <td>COMPUTADOR</td>\n",
       "      <td>LENOVO THINKCENTRE MT-M W/ INTEL CORE 2 DUO @ ...</td>\n",
       "      <td>prata</td>\n",
       "      <td>equip informatica</td>\n",
       "      <td>BRL</td>\n",
       "      <td>2399.41</td>\n",
       "    </tr>\n",
       "    <tr>\n",
       "      <th>2</th>\n",
       "      <td>6</td>\n",
       "      <td>COMPUTADOR</td>\n",
       "      <td>ITAUTEC INFOWAY SM 3322 W/ AMD PHENOM X2 8GB 3...</td>\n",
       "      <td>prata</td>\n",
       "      <td>equip informatica</td>\n",
       "      <td>BRL</td>\n",
       "      <td>1877.84</td>\n",
       "    </tr>\n",
       "    <tr>\n",
       "      <th>3</th>\n",
       "      <td>7</td>\n",
       "      <td>COMPUTADOR</td>\n",
       "      <td>POSITIVO PLUS R70 W/ MOBO ITAUTEC SM3322 AMD P...</td>\n",
       "      <td>preto</td>\n",
       "      <td>equip informatica</td>\n",
       "      <td>BRL</td>\n",
       "      <td>3500.47</td>\n",
       "    </tr>\n",
       "    <tr>\n",
       "      <th>4</th>\n",
       "      <td>8</td>\n",
       "      <td>COMPUTADOR</td>\n",
       "      <td>ITAUTEC INFOWAY ST 1430 W/ MB ITAUTEC SM3322 A...</td>\n",
       "      <td>prata</td>\n",
       "      <td>equip informatica</td>\n",
       "      <td>BRL</td>\n",
       "      <td>1474.87</td>\n",
       "    </tr>\n",
       "  </tbody>\n",
       "</table>\n",
       "</div>"
      ],
      "text/plain": [
       "   equipamentoPK equipamentoNome  ... equipamentoMoeda equipamentoPreco\n",
       "0              1         MONITOR  ...              BRL           126.35\n",
       "1              5      COMPUTADOR  ...              BRL          2399.41\n",
       "2              6      COMPUTADOR  ...              BRL          1877.84\n",
       "3              7      COMPUTADOR  ...              BRL          3500.47\n",
       "4              8      COMPUTADOR  ...              BRL          1474.87\n",
       "\n",
       "[5 rows x 7 columns]"
      ]
     },
     "execution_count": 36,
     "metadata": {},
     "output_type": "execute_result"
    }
   ],
   "source": [
    "# Obtenção dos dados da Fonte3 e armazenamento desses dados no Dataframe chamado Fonte3\n",
    "Fonte3 = pd.read_csv('https://raw.githubusercontent.com/CristinaAguiar/QuestaoIntegra2021/main/Fonte3.csv')\n",
    "print(Fonte3.shape)\n",
    "Fonte3.head()"
   ]
  },
  {
   "cell_type": "markdown",
   "metadata": {
    "id": "vLR7_aLRWEGY"
   },
   "source": [
    "### 8.2 Detalhamento da tabela de dimensão Equipamento  \n",
    "\n",
    "A tabela de dimensão Equipamento da BI Solutions deve possuir os seguintes atributos:\n",
    "\n",
    "- **equipamentoPK**, correspondente aos atributos de mesmo nome nas fontes de dados.\n",
    "\n",
    "- **equipamentoNome**, correspondente aos atributos de mesmo nome nas fontes de dados.\n",
    "\n",
    "- **equipamentoDescricao**, correspondente aos atributos de mesmo nome nas fontes de dados.\n",
    "\n",
    "- **equipamentoCor**, correspondente aos atributos de mesmo nome nas fontes de dados.\n",
    "\n",
    "- **equipamentoTipo**, correspondente aos atributos de mesmo nome nas fontes de dados.\n",
    "\n",
    "- **equipamentoPreco**, correspondente aos atributos equipamentoMoeda e equipamentoPreco nas fontes de dados. \n"
   ]
  },
  {
   "cell_type": "markdown",
   "metadata": {
    "id": "54DBU9oSWkH0"
   },
   "source": [
    "### 8.3 Regras de Negócio do Processo de Integração de Instâncias\n",
    "\n",
    "No processo de integração de instâncias, devem ser consideradas as seguintes regras de negócio:\n",
    "\n",
    "- A integração deve ser feita pelo atributo equipamentoPK. Equipamentos que possuam o mesmo valor desse atributo referem-se ao mesmo equipamento.\n",
    "\n",
    "- Todas as *strings* devem ser escritas em letras maiúsculas, sem acento e sem o uso de caracteres especiais.\n",
    "\n",
    "- Os valores das *strings* não devem ser truncados.\n",
    "\n",
    "- Os preços dos equipamentos devem ser armazenados somente em reais. Portanto, para se calcular os valores da coluna equipamentoPreco da tabela de dimensão Equipamento, deve ser feito o cálculo desse valor em reais, utilizando os atributos equipamentoMoeda e equipamentoPreco presentes nas fontes de dados originais. Considere, para isso, as seguintes conversões: (i) 1 dolar USD = 5 reais; e (ii) 1 euro EUR = 6 reais.\n",
    "\n",
    "- Os preços dos equipamentos devem ter duas casas decimais e não devem incluir a sigla \"R$\". \n",
    "\n",
    "- As cores dos equipamentos devem ser armazenadas por meio de números, da seguinte forma:\n",
    "\n",
    "  - 1: correspondente à cor PRETO nas fontes de dados\n",
    "  - 2: correspondente à cor AZUL nas fontes de dados\n",
    "  - 3: correspondente à cor BRANCO nas fontes de dados\n",
    "  - 4: correspondente à cor PRATA nas fontes de dados\n",
    "  - 5: correspondente à cor VERMELHO nas fontes de dados\n",
    "  - 6: correspondente à cor AMARELO nas fontes de dados\n",
    "\n",
    "- Para resolver inconsistências nos valores de cada atributo que aparecem nas diferentes fontes, desconsidere os valores nulos e considere que: \n",
    "\n",
    "  - (i) quando em uma coluna o valor for igual nas três fontes, esse valor deve ser armazenado na tabela de dimensão Equipamento na coluna equivalente. Por exemplo, se o nome do equipamento de PK = 1 for caneta nas três fontes de dados, então o valor a ser armazenado é CANETA.\n",
    "\n",
    "  - (ii) quando em uma coluna o valor for igual em duas fontes e diferente na terceira fonte, o  valor a ser armazenado na tabela de dimensão Equipamento na coluna equivalente é o valor que aparece nas duas fontes. Por exemplo, se o nome do equipamento de PK = 1 for caneta em duas fontes de dados e borracha na terceira fonte de dados, então o valor a ser armazenado é CANETA.\n",
    "\n",
    "  - (iii) quando em uma coluna quando o valor for diferente nas três fontes, escolhe-se por armazenar o valor da Fonte 1 na tabela de dimensão Equipamento na coluna equivalente. Caso o valor da Fonte 1 seja nulo (inexistente), escolhe-se por armazenar o valor da Fonte 2. Caso o valor da Fonte 2 também seja nulo (inexistente), escolhe-se por armazenar o valor da Fonte 3. Isso significa que Fonte1 é mais confiável do que Fonte2, a qual é mais confiável do que Fonte3. \n",
    "\n"
   ]
  },
  {
   "cell_type": "markdown",
   "metadata": {
    "id": "-B_xyFc3IoJ9"
   },
   "source": [
    "### **Questão 8 (valor: 2,0)** \n",
    "\n",
    "Realize a geração da tabela de dimensão Equipamento, considerando os detalhamentos dos atributos das seções 8.1 e 8.2 e as regras de negócio do processo de integração de instâncias definido na seção 8.3. A tabela de dimensão Equipamento deve possuir as colunas na ordem e com os nomes especificados a seguir: equipamentoPK, equipamentoNome, equipamentoDescricao, equipamentoCor, equipamentoTipo, equipamentoPreco. Ordene as linhas exibidas pelo atributo equipamentoPK em ordem **ascendente**. Liste **todas** as linhas da resposta, sem truncamento das *strings*.\n",
    "\n",
    "**Resolva a questão usando Pandas**. Coloque comentários detalhados explicando a sua resposta."
   ]
  },
  {
   "cell_type": "markdown",
   "metadata": {
    "id": "pzdJ-DJWaRaz"
   },
   "source": [
    "### Resposta da Questão 8"
   ]
  },
  {
   "cell_type": "markdown",
   "metadata": {
    "id": "N7cxrWtQIVGa"
   },
   "source": [
    "Listando as colunas que serão usadas:"
   ]
  },
  {
   "cell_type": "code",
   "execution_count": 37,
   "metadata": {
    "id": "b4KUjDP0lMHI"
   },
   "outputs": [],
   "source": [
    "col_chave = ['equipamentoPK']\n",
    "col_atributos = [\n",
    "  'equipamentoNome',\n",
    "  'equipamentoDescricao',\n",
    "  'equipamentoCor',\n",
    "  'equipamentoTipo',\n",
    "  'equipamentoPreco',\n",
    "]\n",
    "cols_output = col_chave + col_atributos"
   ]
  },
  {
   "cell_type": "markdown",
   "metadata": {
    "id": "iUM-MOZ8Igce"
   },
   "source": [
    "Primeiramente, vamos concatenar os 3 dataframes em um só com uma coluna apontando a origem do registro (1, 2 ou 3):"
   ]
  },
  {
   "cell_type": "code",
   "execution_count": 38,
   "metadata": {
    "colab": {
     "base_uri": "https://localhost:8080/",
     "height": 206
    },
    "id": "wklKt4K0G4Re",
    "outputId": "96d0120d-ca60-4a90-a94c-4757da9b048a"
   },
   "outputs": [
    {
     "data": {
      "text/html": [
       "<div>\n",
       "<style scoped>\n",
       "    .dataframe tbody tr th:only-of-type {\n",
       "        vertical-align: middle;\n",
       "    }\n",
       "\n",
       "    .dataframe tbody tr th {\n",
       "        vertical-align: top;\n",
       "    }\n",
       "\n",
       "    .dataframe thead th {\n",
       "        text-align: right;\n",
       "    }\n",
       "</style>\n",
       "<table border=\"1\" class=\"dataframe\">\n",
       "  <thead>\n",
       "    <tr style=\"text-align: right;\">\n",
       "      <th></th>\n",
       "      <th>equipamentoPK</th>\n",
       "      <th>equipamentoNome</th>\n",
       "      <th>equipamentoDescricao</th>\n",
       "      <th>equipamentoCor</th>\n",
       "      <th>equipamentoTipo</th>\n",
       "      <th>equipamentoMoeda</th>\n",
       "      <th>equipamentoPreco</th>\n",
       "      <th>origem</th>\n",
       "    </tr>\n",
       "  </thead>\n",
       "  <tbody>\n",
       "    <tr>\n",
       "      <th>0</th>\n",
       "      <td>1</td>\n",
       "      <td>monitor</td>\n",
       "      <td>monitor LCD LG 15 polegadas</td>\n",
       "      <td>preto</td>\n",
       "      <td>equip informatica</td>\n",
       "      <td>EUR</td>\n",
       "      <td>39.00</td>\n",
       "      <td>1</td>\n",
       "    </tr>\n",
       "    <tr>\n",
       "      <th>1</th>\n",
       "      <td>1</td>\n",
       "      <td>monitor</td>\n",
       "      <td>MONITOR LCD ITAUTEC 17 polegadas</td>\n",
       "      <td>PRETO</td>\n",
       "      <td>equip informatica</td>\n",
       "      <td>BRL</td>\n",
       "      <td>126.35</td>\n",
       "      <td>2</td>\n",
       "    </tr>\n",
       "    <tr>\n",
       "      <th>2</th>\n",
       "      <td>1</td>\n",
       "      <td>MONITOR</td>\n",
       "      <td>MONITOR LCD ITAUTEC 17 polegadas</td>\n",
       "      <td>prata</td>\n",
       "      <td>equip informatica</td>\n",
       "      <td>BRL</td>\n",
       "      <td>126.35</td>\n",
       "      <td>3</td>\n",
       "    </tr>\n",
       "    <tr>\n",
       "      <th>3</th>\n",
       "      <td>2</td>\n",
       "      <td>monitor</td>\n",
       "      <td>monitor LCD ITAUTEC 19 polegadas</td>\n",
       "      <td>preto</td>\n",
       "      <td>equip informatica</td>\n",
       "      <td>BRL</td>\n",
       "      <td>180.20</td>\n",
       "      <td>1</td>\n",
       "    </tr>\n",
       "    <tr>\n",
       "      <th>4</th>\n",
       "      <td>3</td>\n",
       "      <td>monitor</td>\n",
       "      <td>monitor LCD AOC 17 polegadas</td>\n",
       "      <td>preto</td>\n",
       "      <td>Equip informatica</td>\n",
       "      <td>BRL</td>\n",
       "      <td>167.41</td>\n",
       "      <td>1</td>\n",
       "    </tr>\n",
       "  </tbody>\n",
       "</table>\n",
       "</div>"
      ],
      "text/plain": [
       "   equipamentoPK equipamentoNome  ... equipamentoPreco origem\n",
       "0              1         monitor  ...            39.00      1\n",
       "1              1         monitor  ...           126.35      2\n",
       "2              1         MONITOR  ...           126.35      3\n",
       "3              2         monitor  ...           180.20      1\n",
       "4              3         monitor  ...           167.41      1\n",
       "\n",
       "[5 rows x 8 columns]"
      ]
     },
     "execution_count": 38,
     "metadata": {},
     "output_type": "execute_result"
    }
   ],
   "source": [
    "df_concat = (pd.concat(\n",
    "    [Fonte1.assign(origem = 1),\n",
    "     Fonte2.assign(origem = 2),\n",
    "     Fonte3.assign(origem = 3)])\n",
    "  .sort_values(by = 'equipamentoPK')\n",
    "  .reset_index(drop = True)\n",
    "  )\n",
    "\n",
    "df_concat.head()"
   ]
  },
  {
   "cell_type": "markdown",
   "metadata": {
    "id": "abU0_NtCIZ_d"
   },
   "source": [
    "Aplicando os tratamentos:\n",
    "- Normalização do texto (transformação para caixa alta, remoção de caracteres especiais e não alfanuméricos),\n",
    "- Conversão do preço (câmbio da moeda)\n",
    "- Codificação das cores"
   ]
  },
  {
   "cell_type": "code",
   "execution_count": 39,
   "metadata": {
    "id": "Uxd34_x_L-se"
   },
   "outputs": [],
   "source": [
    "def trata_serie_texto(sr: pd.Series):\n",
    "\n",
    "  # 1. Uppercase (caixa alta)\n",
    "  sr_upper = sr.str.upper()\n",
    "\n",
    "  # 2. Remoção de acentos. ã -> a, é -> e (...)\n",
    "  sr_norm = sr_upper.str.normalize('NFKD').str.encode('ascii', errors = 'ignore').str.decode('utf-8')\n",
    "\n",
    "  # 3. Substituição de não-alfanuméricos por espaço.\n",
    "  sr_alfanum = sr_norm.str.replace('[^a-zA-Z0-9]', ' ')\n",
    "  \n",
    "  return sr_alfanum\n",
    "\n",
    "def trata_colunas_de_texto(df: pd.DataFrame) -> pd.DataFrame:\n",
    "\n",
    "    obj_cols = [col for col, dtype in zip(df.columns, df.dtypes) if dtype == 'object']\n",
    "\n",
    "    return df.apply(lambda x: trata_serie_texto(x) if x.name in obj_cols else x)\n",
    "\n",
    "df_tratada = trata_colunas_de_texto(df_concat)"
   ]
  },
  {
   "cell_type": "code",
   "execution_count": 40,
   "metadata": {
    "id": "tIgcBBUnFZlJ"
   },
   "outputs": [],
   "source": [
    "dict_conversao_mooeda = {'BRL': 1, 'EUR': 6,'USD': 5}"
   ]
  },
  {
   "cell_type": "code",
   "execution_count": 41,
   "metadata": {
    "colab": {
     "base_uri": "https://localhost:8080/"
    },
    "id": "Udnq7pjrGMc4",
    "outputId": "f6081ca6-a5a9-432f-addc-b1976b25e6e9"
   },
   "outputs": [
    {
     "data": {
      "text/plain": [
       "{'AMARELO': 6, 'AZUL': 2, 'BRANCO': 3, 'PRATA': 4, 'PRETO': 1, 'VERMELHO': 5}"
      ]
     },
     "execution_count": 41,
     "metadata": {},
     "output_type": "execute_result"
    }
   ],
   "source": [
    "cores = ['PRETO', 'AZUL', 'BRANCO', 'PRATA', 'VERMELHO', 'AMARELO']\n",
    "dict_cores = {cor:num for cor, num in zip(cores, range(1, len(cores)+1))}\n",
    "dict_cores"
   ]
  },
  {
   "cell_type": "code",
   "execution_count": 42,
   "metadata": {
    "colab": {
     "base_uri": "https://localhost:8080/",
     "height": 365
    },
    "id": "fx_66HXjJ8Nh",
    "outputId": "a412c0d0-4c68-4ade-a3fd-ea6eb95a4b93"
   },
   "outputs": [
    {
     "data": {
      "text/html": [
       "<div>\n",
       "<style scoped>\n",
       "    .dataframe tbody tr th:only-of-type {\n",
       "        vertical-align: middle;\n",
       "    }\n",
       "\n",
       "    .dataframe tbody tr th {\n",
       "        vertical-align: top;\n",
       "    }\n",
       "\n",
       "    .dataframe thead th {\n",
       "        text-align: right;\n",
       "    }\n",
       "</style>\n",
       "<table border=\"1\" class=\"dataframe\">\n",
       "  <thead>\n",
       "    <tr style=\"text-align: right;\">\n",
       "      <th></th>\n",
       "      <th>equipamentoPK</th>\n",
       "      <th>equipamentoNome</th>\n",
       "      <th>equipamentoDescricao</th>\n",
       "      <th>equipamentoCor</th>\n",
       "      <th>equipamentoTipo</th>\n",
       "      <th>equipamentoMoeda</th>\n",
       "      <th>equipamentoPreco</th>\n",
       "      <th>origem</th>\n",
       "      <th>preco_original</th>\n",
       "      <th>cor_original</th>\n",
       "      <th>conv_moeda</th>\n",
       "    </tr>\n",
       "  </thead>\n",
       "  <tbody>\n",
       "    <tr>\n",
       "      <th>0</th>\n",
       "      <td>1</td>\n",
       "      <td>MONITOR</td>\n",
       "      <td>MONITOR LCD LG 15 POLEGADAS</td>\n",
       "      <td>1</td>\n",
       "      <td>EQUIP INFORMATICA</td>\n",
       "      <td>EUR</td>\n",
       "      <td>234.00</td>\n",
       "      <td>1</td>\n",
       "      <td>39.00</td>\n",
       "      <td>PRETO</td>\n",
       "      <td>6.00</td>\n",
       "    </tr>\n",
       "    <tr>\n",
       "      <th>1</th>\n",
       "      <td>1</td>\n",
       "      <td>MONITOR</td>\n",
       "      <td>MONITOR LCD ITAUTEC 17 POLEGADAS</td>\n",
       "      <td>1</td>\n",
       "      <td>EQUIP INFORMATICA</td>\n",
       "      <td>BRL</td>\n",
       "      <td>126.35</td>\n",
       "      <td>2</td>\n",
       "      <td>126.35</td>\n",
       "      <td>PRETO</td>\n",
       "      <td>1.00</td>\n",
       "    </tr>\n",
       "    <tr>\n",
       "      <th>2</th>\n",
       "      <td>1</td>\n",
       "      <td>MONITOR</td>\n",
       "      <td>MONITOR LCD ITAUTEC 17 POLEGADAS</td>\n",
       "      <td>4</td>\n",
       "      <td>EQUIP INFORMATICA</td>\n",
       "      <td>BRL</td>\n",
       "      <td>126.35</td>\n",
       "      <td>3</td>\n",
       "      <td>126.35</td>\n",
       "      <td>PRATA</td>\n",
       "      <td>1.00</td>\n",
       "    </tr>\n",
       "    <tr>\n",
       "      <th>3</th>\n",
       "      <td>2</td>\n",
       "      <td>MONITOR</td>\n",
       "      <td>MONITOR LCD ITAUTEC 19 POLEGADAS</td>\n",
       "      <td>1</td>\n",
       "      <td>EQUIP INFORMATICA</td>\n",
       "      <td>BRL</td>\n",
       "      <td>180.20</td>\n",
       "      <td>1</td>\n",
       "      <td>180.20</td>\n",
       "      <td>PRETO</td>\n",
       "      <td>1.00</td>\n",
       "    </tr>\n",
       "    <tr>\n",
       "      <th>4</th>\n",
       "      <td>3</td>\n",
       "      <td>MONITOR</td>\n",
       "      <td>MONITOR LCD AOC 17 POLEGADAS</td>\n",
       "      <td>1</td>\n",
       "      <td>EQUIP INFORMATICA</td>\n",
       "      <td>BRL</td>\n",
       "      <td>167.41</td>\n",
       "      <td>1</td>\n",
       "      <td>167.41</td>\n",
       "      <td>PRETO</td>\n",
       "      <td>1.00</td>\n",
       "    </tr>\n",
       "  </tbody>\n",
       "</table>\n",
       "</div>"
      ],
      "text/plain": [
       "   equipamentoPK equipamentoNome  ... cor_original conv_moeda\n",
       "0              1         MONITOR  ...        PRETO       6.00\n",
       "1              1         MONITOR  ...        PRETO       1.00\n",
       "2              1         MONITOR  ...        PRATA       1.00\n",
       "3              2         MONITOR  ...        PRETO       1.00\n",
       "4              3         MONITOR  ...        PRETO       1.00\n",
       "\n",
       "[5 rows x 11 columns]"
      ]
     },
     "execution_count": 42,
     "metadata": {},
     "output_type": "execute_result"
    }
   ],
   "source": [
    "df_tratada = df_tratada.assign(\n",
    "    preco_original = lambda x: x['equipamentoPreco'],\n",
    "    cor_original = lambda x: x['equipamentoCor'],\n",
    "    equipamentoCor = lambda x: x['equipamentoCor'].replace(dict_cores),\n",
    "    conv_moeda = lambda x: x['equipamentoMoeda'].replace(dict_conversao_mooeda),\n",
    "    equipamentoPreco = lambda x: x['preco_original']*x['conv_moeda']\n",
    ")\n",
    "\n",
    "df_tratada.head()"
   ]
  },
  {
   "cell_type": "code",
   "execution_count": 43,
   "metadata": {
    "colab": {
     "base_uri": "https://localhost:8080/",
     "height": 206
    },
    "id": "JR6pDrdHnkK2",
    "outputId": "1f498048-1e77-43d2-b8be-0a33f2fd7ffa"
   },
   "outputs": [
    {
     "data": {
      "text/html": [
       "<div>\n",
       "<style scoped>\n",
       "    .dataframe tbody tr th:only-of-type {\n",
       "        vertical-align: middle;\n",
       "    }\n",
       "\n",
       "    .dataframe tbody tr th {\n",
       "        vertical-align: top;\n",
       "    }\n",
       "\n",
       "    .dataframe thead th {\n",
       "        text-align: right;\n",
       "    }\n",
       "</style>\n",
       "<table border=\"1\" class=\"dataframe\">\n",
       "  <thead>\n",
       "    <tr style=\"text-align: right;\">\n",
       "      <th></th>\n",
       "      <th>equipamentoPK</th>\n",
       "      <th>equipamentoNome</th>\n",
       "      <th>equipamentoDescricao</th>\n",
       "      <th>equipamentoCor</th>\n",
       "      <th>equipamentoTipo</th>\n",
       "      <th>equipamentoPreco</th>\n",
       "      <th>origem</th>\n",
       "    </tr>\n",
       "  </thead>\n",
       "  <tbody>\n",
       "    <tr>\n",
       "      <th>0</th>\n",
       "      <td>1</td>\n",
       "      <td>MONITOR</td>\n",
       "      <td>MONITOR LCD LG 15 POLEGADAS</td>\n",
       "      <td>1</td>\n",
       "      <td>EQUIP INFORMATICA</td>\n",
       "      <td>234.00</td>\n",
       "      <td>1</td>\n",
       "    </tr>\n",
       "    <tr>\n",
       "      <th>1</th>\n",
       "      <td>1</td>\n",
       "      <td>MONITOR</td>\n",
       "      <td>MONITOR LCD ITAUTEC 17 POLEGADAS</td>\n",
       "      <td>1</td>\n",
       "      <td>EQUIP INFORMATICA</td>\n",
       "      <td>126.35</td>\n",
       "      <td>2</td>\n",
       "    </tr>\n",
       "    <tr>\n",
       "      <th>2</th>\n",
       "      <td>1</td>\n",
       "      <td>MONITOR</td>\n",
       "      <td>MONITOR LCD ITAUTEC 17 POLEGADAS</td>\n",
       "      <td>4</td>\n",
       "      <td>EQUIP INFORMATICA</td>\n",
       "      <td>126.35</td>\n",
       "      <td>3</td>\n",
       "    </tr>\n",
       "    <tr>\n",
       "      <th>3</th>\n",
       "      <td>2</td>\n",
       "      <td>MONITOR</td>\n",
       "      <td>MONITOR LCD ITAUTEC 19 POLEGADAS</td>\n",
       "      <td>1</td>\n",
       "      <td>EQUIP INFORMATICA</td>\n",
       "      <td>180.20</td>\n",
       "      <td>1</td>\n",
       "    </tr>\n",
       "    <tr>\n",
       "      <th>4</th>\n",
       "      <td>3</td>\n",
       "      <td>MONITOR</td>\n",
       "      <td>MONITOR LCD AOC 17 POLEGADAS</td>\n",
       "      <td>1</td>\n",
       "      <td>EQUIP INFORMATICA</td>\n",
       "      <td>167.41</td>\n",
       "      <td>1</td>\n",
       "    </tr>\n",
       "  </tbody>\n",
       "</table>\n",
       "</div>"
      ],
      "text/plain": [
       "   equipamentoPK equipamentoNome  ... equipamentoPreco origem\n",
       "0              1         MONITOR  ...           234.00      1\n",
       "1              1         MONITOR  ...           126.35      2\n",
       "2              1         MONITOR  ...           126.35      3\n",
       "3              2         MONITOR  ...           180.20      1\n",
       "4              3         MONITOR  ...           167.41      1\n",
       "\n",
       "[5 rows x 7 columns]"
      ]
     },
     "execution_count": 43,
     "metadata": {},
     "output_type": "execute_result"
    }
   ],
   "source": [
    "df_select = df_tratada.filter(cols_output + ['origem'])\n",
    "df_select.head()"
   ]
  },
  {
   "cell_type": "markdown",
   "metadata": {
    "id": "Q2kcQKdQJZkk"
   },
   "source": [
    "**EXPLICAÇÃO DA FUNÇÃO QUE APLICA AS REGRAS DE NEGÓCIO**  \n",
    "\n",
    "A seguir, foi construída uma função que aplica as regras de negócio definidas no enunciado coluna a coluna. A função seleciona apenas a coluna da chave (equipamentoPK) e a coluna sendo tratada na chamada da função, retornando um dataframe com apenas essas duas colunas.  \n",
    "A função funciona da seguinte forma:\n",
    "1. Primeiramente, guarda o tipo do dado da coluna de interesse em uma variável e converta-a em string (pois o tratamento definido não funciona para valores numéricos);\n",
    "1. Ordena os valores pela chave e pela origem. Dessa forma, dentro de um mesmo grupo (registros com a mesma chave), o primeiro registro será o que vem da fonte mais confiável;\n",
    "1. Agrupa os valores pela chave, formando os grupos;\n",
    "1. Para cada grupo, obtém as seguintes agregações:\n",
    "  1. Valor mais frequente\n",
    "  1. Contagem do valor mais frequente\n",
    "  1. Contagem total do grupo (desconsiderando os valores nulos)\n",
    "  1. Primeiro valor não-nulo do grupo\n",
    "1. Uma vez calculados os valores agregados, é possível aplicar as regras:\n",
    "  1. Se o valor mais frequente do grupo representar a maioria do grupo (ou seja, Contagem do valor mais frequente/Contagem total do grupo > 0.5), então o valor mais frequente é o valor que deve prevalecer.\n",
    "  1. Caso contrário, o primeiro valor não-nulo do grupo deve prevalecer (uma vez que já tínhamos ordenado os valores pela confiabilidade da origem - o critério de \"desempate\").\n",
    "1. Por último, convertemos essa \"tabela auxiliar\" para o output definido contendo a chave e o valor que prevaleceu da coluna de interesse e contamos as linhas antes e depois para verificar se o resultado fez sentido, uma vez que o objetivo é fazer com que o output tenha exatamente o mesmo número de linhas que a contagem distinta de chaves."
   ]
  },
  {
   "cell_type": "code",
   "execution_count": 44,
   "metadata": {
    "id": "Rrbh0S0YrCWR"
   },
   "outputs": [],
   "source": [
    "from numpy import where # Usado para aplicar a regra de negócio\n",
    "\n",
    "def aplica_regras_por_coluna(df, col):\n",
    "\n",
    "  aux_col_dtype = df[col].dtype\n",
    "\n",
    "  x = df.filter(['equipamentoPK', 'origem', col]).dropna(subset = [col])\n",
    "\n",
    "  x_aux = (x\n",
    "    .astype({col:'str'})\n",
    "    .sort_values(by = ['equipamentoPK', 'origem'])\n",
    "    .groupby(['equipamentoPK']).agg(\n",
    "        mais_freq = (col, lambda x: x.value_counts().index[0]),\n",
    "        cont_mais_freq = (col, lambda x: x.value_counts()[0]),\n",
    "        cont_total = (col, 'count'),\n",
    "        first = (col, 'first'),\n",
    "        origem_first = ('origem', 'first')\n",
    "    )\n",
    "    .assign(\n",
    "        razao_mais_freq = lambda x: (x['cont_mais_freq']/x['cont_total']).round(1),\n",
    "        valor_atributo = lambda x: where(\n",
    "            x['razao_mais_freq'] > 0.5,\n",
    "            x['mais_freq'],\n",
    "            x['first']\n",
    "        )\n",
    "    )\n",
    "    .rename(columns = {'valor_atributo': col})\n",
    "    .astype({col:aux_col_dtype})\n",
    "    .reset_index()\n",
    "  )\n",
    "\n",
    "  x_select = x_aux.filter(['equipamentoPK', col])\n",
    "\n",
    "  print(f'Coluna: {col}')\n",
    "  print(f'Linhas: {x.shape[0]} -> {x_select.shape[0]}')\n",
    "  print(f'Unicas: {x[\"equipamentoPK\"].unique().shape[0]} -> {x_select[\"equipamentoPK\"].unique().shape[0]}')\n",
    "\n",
    "  return x_select"
   ]
  },
  {
   "cell_type": "markdown",
   "metadata": {
    "id": "xecXhW-hMqmW"
   },
   "source": [
    "Definida a função, foi construído um loop que aplica a função a cada atributo e gera um dataframe \"reconstruído\":"
   ]
  },
  {
   "cell_type": "code",
   "execution_count": 45,
   "metadata": {
    "colab": {
     "base_uri": "https://localhost:8080/"
    },
    "id": "eOJsBImfsTeD",
    "outputId": "f97f45bd-372e-40f2-a084-d740abcfb22d"
   },
   "outputs": [
    {
     "name": "stdout",
     "output_type": "stream",
     "text": [
      "Coluna: equipamentoNome\n",
      "Linhas: 70 -> 52\n",
      "Unicas: 52 -> 52\n",
      "Coluna: equipamentoDescricao\n",
      "Linhas: 66 -> 52\n",
      "Unicas: 52 -> 52\n",
      "Coluna: equipamentoCor\n",
      "Linhas: 73 -> 52\n",
      "Unicas: 52 -> 52\n",
      "Coluna: equipamentoTipo\n",
      "Linhas: 69 -> 52\n",
      "Unicas: 52 -> 52\n",
      "Coluna: equipamentoPreco\n",
      "Linhas: 73 -> 52\n",
      "Unicas: 52 -> 52\n",
      "Coluna: equipamentoPreco\n",
      "Linhas: 81 -> 52\n",
      "Unicas: 52 -> 52\n"
     ]
    }
   ],
   "source": [
    "dfs = []\n",
    "\n",
    "for col in col_atributos:\n",
    "  x = aplica_regras_por_coluna(df_select, col)\n",
    "  dfs.append(x)\n",
    "\n",
    "dfs = [df.set_index('equipamentoPK') for df in dfs]\n",
    "Questao8 = pd.concat(dfs, axis = 1).reset_index()\n",
    "print(f'Coluna: {col}')\n",
    "print(f'Linhas: {df_select.shape[0]} -> {Questao8.shape[0]}')\n",
    "print(f'Unicas: {df_select[\"equipamentoPK\"].unique().shape[0]} -> {Questao8[\"equipamentoPK\"].unique().shape[0]}')"
   ]
  },
  {
   "cell_type": "markdown",
   "metadata": {
    "id": "AUfh-dlfwg0K"
   },
   "source": [
    "Verificação de um caso completo com as regras de negócio:"
   ]
  },
  {
   "cell_type": "code",
   "execution_count": 46,
   "metadata": {
    "colab": {
     "base_uri": "https://localhost:8080/",
     "height": 277
    },
    "id": "qxputNQnwLTn",
    "outputId": "beefb627-d7d9-4e6a-b692-a5da5d8bcaef"
   },
   "outputs": [
    {
     "name": "stdout",
     "output_type": "stream",
     "text": [
      "Base ANTES da aplicação das regras de tratamento das inconsistências:\n"
     ]
    },
    {
     "data": {
      "text/html": [
       "<div>\n",
       "<style scoped>\n",
       "    .dataframe tbody tr th:only-of-type {\n",
       "        vertical-align: middle;\n",
       "    }\n",
       "\n",
       "    .dataframe tbody tr th {\n",
       "        vertical-align: top;\n",
       "    }\n",
       "\n",
       "    .dataframe thead th {\n",
       "        text-align: right;\n",
       "    }\n",
       "</style>\n",
       "<table border=\"1\" class=\"dataframe\">\n",
       "  <thead>\n",
       "    <tr style=\"text-align: right;\">\n",
       "      <th></th>\n",
       "      <th>equipamentoPK</th>\n",
       "      <th>equipamentoNome</th>\n",
       "      <th>equipamentoDescricao</th>\n",
       "      <th>equipamentoCor</th>\n",
       "      <th>equipamentoTipo</th>\n",
       "      <th>equipamentoPreco</th>\n",
       "      <th>origem</th>\n",
       "    </tr>\n",
       "  </thead>\n",
       "  <tbody>\n",
       "    <tr>\n",
       "      <th>72</th>\n",
       "      <td>50</td>\n",
       "      <td>SERRA</td>\n",
       "      <td>NaN</td>\n",
       "      <td>1</td>\n",
       "      <td>FERRAMENTA</td>\n",
       "      <td>313.20</td>\n",
       "      <td>2</td>\n",
       "    </tr>\n",
       "    <tr>\n",
       "      <th>73</th>\n",
       "      <td>50</td>\n",
       "      <td>NaN</td>\n",
       "      <td>NaN</td>\n",
       "      <td>2</td>\n",
       "      <td>FERRAMENTAS ELETRICAS</td>\n",
       "      <td>313.20</td>\n",
       "      <td>1</td>\n",
       "    </tr>\n",
       "    <tr>\n",
       "      <th>74</th>\n",
       "      <td>50</td>\n",
       "      <td>SERROTE</td>\n",
       "      <td>SERRA TICO TICO BOSCH GST 650 450W 127V</td>\n",
       "      <td>1</td>\n",
       "      <td>FERRAMENTAS ELETRICAS</td>\n",
       "      <td>313.20</td>\n",
       "      <td>3</td>\n",
       "    </tr>\n",
       "  </tbody>\n",
       "</table>\n",
       "</div>"
      ],
      "text/plain": [
       "    equipamentoPK equipamentoNome  ... equipamentoPreco origem\n",
       "72             50           SERRA  ...           313.20      2\n",
       "73             50             NaN  ...           313.20      1\n",
       "74             50         SERROTE  ...           313.20      3\n",
       "\n",
       "[3 rows x 7 columns]"
      ]
     },
     "metadata": {},
     "output_type": "display_data"
    },
    {
     "name": "stdout",
     "output_type": "stream",
     "text": [
      "\n",
      "\n",
      "Base DEPOIS da aplicação das regras de tratamento das inconsistências:\n"
     ]
    },
    {
     "data": {
      "text/html": [
       "<div>\n",
       "<style scoped>\n",
       "    .dataframe tbody tr th:only-of-type {\n",
       "        vertical-align: middle;\n",
       "    }\n",
       "\n",
       "    .dataframe tbody tr th {\n",
       "        vertical-align: top;\n",
       "    }\n",
       "\n",
       "    .dataframe thead th {\n",
       "        text-align: right;\n",
       "    }\n",
       "</style>\n",
       "<table border=\"1\" class=\"dataframe\">\n",
       "  <thead>\n",
       "    <tr style=\"text-align: right;\">\n",
       "      <th></th>\n",
       "      <th>equipamentoPK</th>\n",
       "      <th>equipamentoNome</th>\n",
       "      <th>equipamentoDescricao</th>\n",
       "      <th>equipamentoCor</th>\n",
       "      <th>equipamentoTipo</th>\n",
       "      <th>equipamentoPreco</th>\n",
       "    </tr>\n",
       "  </thead>\n",
       "  <tbody>\n",
       "    <tr>\n",
       "      <th>49</th>\n",
       "      <td>50</td>\n",
       "      <td>SERRA</td>\n",
       "      <td>SERRA TICO TICO BOSCH GST 650 450W 127V</td>\n",
       "      <td>1</td>\n",
       "      <td>FERRAMENTAS ELETRICAS</td>\n",
       "      <td>313.20</td>\n",
       "    </tr>\n",
       "  </tbody>\n",
       "</table>\n",
       "</div>"
      ],
      "text/plain": [
       "    equipamentoPK equipamentoNome  ...        equipamentoTipo equipamentoPreco\n",
       "49             50           SERRA  ...  FERRAMENTAS ELETRICAS           313.20\n",
       "\n",
       "[1 rows x 6 columns]"
      ]
     },
     "metadata": {},
     "output_type": "display_data"
    }
   ],
   "source": [
    "print('Base ANTES da aplicação das regras de tratamento das inconsistências:')\n",
    "display(df_select.query('equipamentoPK == 50'))\n",
    "print('\\n')\n",
    "print('Base DEPOIS da aplicação das regras de tratamento das inconsistências:')\n",
    "display(Questao8.query('equipamentoPK == 50'))"
   ]
  },
  {
   "cell_type": "markdown",
   "metadata": {
    "id": "CCK0ciyow2R7"
   },
   "source": [
    "Visualizando o resultado final:"
   ]
  },
  {
   "cell_type": "code",
   "execution_count": 47,
   "metadata": {
    "colab": {
     "base_uri": "https://localhost:8080/",
     "height": 1000
    },
    "id": "AZzWfcuPw1oF",
    "outputId": "c5d36f75-70a0-4730-d042-34210ebe9077"
   },
   "outputs": [
    {
     "data": {
      "text/html": [
       "<div>\n",
       "<style scoped>\n",
       "    .dataframe tbody tr th:only-of-type {\n",
       "        vertical-align: middle;\n",
       "    }\n",
       "\n",
       "    .dataframe tbody tr th {\n",
       "        vertical-align: top;\n",
       "    }\n",
       "\n",
       "    .dataframe thead th {\n",
       "        text-align: right;\n",
       "    }\n",
       "</style>\n",
       "<table border=\"1\" class=\"dataframe\">\n",
       "  <thead>\n",
       "    <tr style=\"text-align: right;\">\n",
       "      <th></th>\n",
       "      <th>equipamentoPK</th>\n",
       "      <th>equipamentoNome</th>\n",
       "      <th>equipamentoDescricao</th>\n",
       "      <th>equipamentoCor</th>\n",
       "      <th>equipamentoTipo</th>\n",
       "      <th>equipamentoPreco</th>\n",
       "    </tr>\n",
       "  </thead>\n",
       "  <tbody>\n",
       "    <tr>\n",
       "      <th>0</th>\n",
       "      <td>1</td>\n",
       "      <td>MONITOR</td>\n",
       "      <td>MONITOR LCD ITAUTEC 17 POLEGADAS</td>\n",
       "      <td>1</td>\n",
       "      <td>EQUIP INFORMATICA</td>\n",
       "      <td>126.35</td>\n",
       "    </tr>\n",
       "    <tr>\n",
       "      <th>1</th>\n",
       "      <td>2</td>\n",
       "      <td>MONITOR</td>\n",
       "      <td>MONITOR LCD ITAUTEC 19 POLEGADAS</td>\n",
       "      <td>1</td>\n",
       "      <td>EQUIP INFORMATICA</td>\n",
       "      <td>180.20</td>\n",
       "    </tr>\n",
       "    <tr>\n",
       "      <th>2</th>\n",
       "      <td>3</td>\n",
       "      <td>MONITOR</td>\n",
       "      <td>MONITOR LCD AOC 17 POLEGADAS</td>\n",
       "      <td>1</td>\n",
       "      <td>EQUIP INFORMATICA</td>\n",
       "      <td>167.41</td>\n",
       "    </tr>\n",
       "    <tr>\n",
       "      <th>3</th>\n",
       "      <td>4</td>\n",
       "      <td>COMPUTADOR</td>\n",
       "      <td>LENOVO THINKCENTRE MT M W  INTEL CORE 2 DUO   ...</td>\n",
       "      <td>1</td>\n",
       "      <td>EQUIP INFORMATICA</td>\n",
       "      <td>2399.41</td>\n",
       "    </tr>\n",
       "    <tr>\n",
       "      <th>4</th>\n",
       "      <td>5</td>\n",
       "      <td>COMPUTADOR</td>\n",
       "      <td>LENOVO THINKCENTRE MT M W  INTEL CORE 2 DUO   ...</td>\n",
       "      <td>1</td>\n",
       "      <td>EQUIP INFORMATICA</td>\n",
       "      <td>2399.41</td>\n",
       "    </tr>\n",
       "    <tr>\n",
       "      <th>5</th>\n",
       "      <td>6</td>\n",
       "      <td>COMPUTADOR</td>\n",
       "      <td>ITAUTEC INFOWAY SM 3322 W  AMD PHENOM X2 8GB 3...</td>\n",
       "      <td>4</td>\n",
       "      <td>EQUIP INFORMATICA</td>\n",
       "      <td>1877.84</td>\n",
       "    </tr>\n",
       "    <tr>\n",
       "      <th>6</th>\n",
       "      <td>7</td>\n",
       "      <td>COMPUTADOR</td>\n",
       "      <td>POSITIVO PLUS R70 W  MOBO ITAUTEC SM3322 AMD P...</td>\n",
       "      <td>1</td>\n",
       "      <td>EQUIP INFORMATICA</td>\n",
       "      <td>3500.47</td>\n",
       "    </tr>\n",
       "    <tr>\n",
       "      <th>7</th>\n",
       "      <td>8</td>\n",
       "      <td>COMPUTADOR</td>\n",
       "      <td>ITAUTEC INFOWAY ST 1430 W  MB ITAUTEC SM3322 A...</td>\n",
       "      <td>4</td>\n",
       "      <td>EQUIP INFORMATICA</td>\n",
       "      <td>1474.87</td>\n",
       "    </tr>\n",
       "    <tr>\n",
       "      <th>8</th>\n",
       "      <td>9</td>\n",
       "      <td>COMPUTADOR</td>\n",
       "      <td>HP COMPAQ DC5850 W  AMD PHENOM X4 4GB RAM 250G...</td>\n",
       "      <td>4</td>\n",
       "      <td>EQUIP INFORMATICA</td>\n",
       "      <td>1500.00</td>\n",
       "    </tr>\n",
       "    <tr>\n",
       "      <th>9</th>\n",
       "      <td>10</td>\n",
       "      <td>COMPUTADOR</td>\n",
       "      <td>HP COMPAQ DC5850 W  AMD PHENOM X4 4GB RAM 250G...</td>\n",
       "      <td>4</td>\n",
       "      <td>EQUIP INFORMATICA</td>\n",
       "      <td>1583.74</td>\n",
       "    </tr>\n",
       "    <tr>\n",
       "      <th>10</th>\n",
       "      <td>11</td>\n",
       "      <td>COMPUTADOR</td>\n",
       "      <td>HP COMPAQ DC5850 W  AMD PHENOM X4 8GB RAM 250G...</td>\n",
       "      <td>1</td>\n",
       "      <td>EQUIP INFORMATICA</td>\n",
       "      <td>1250.00</td>\n",
       "    </tr>\n",
       "    <tr>\n",
       "      <th>11</th>\n",
       "      <td>12</td>\n",
       "      <td>COMPUTADOR</td>\n",
       "      <td>HP COMPAQ DC5850 W  AMD PHENOM X4 16GB RAM 250...</td>\n",
       "      <td>4</td>\n",
       "      <td>EQUIP INFORMATICA</td>\n",
       "      <td>2300.74</td>\n",
       "    </tr>\n",
       "    <tr>\n",
       "      <th>12</th>\n",
       "      <td>13</td>\n",
       "      <td>COMPUTADOR</td>\n",
       "      <td>HP COMPAQ DC5850 W  AMD PHENOM X4 16GB RAM 250...</td>\n",
       "      <td>1</td>\n",
       "      <td>EQUIP INFORMATICA</td>\n",
       "      <td>2300.74</td>\n",
       "    </tr>\n",
       "    <tr>\n",
       "      <th>13</th>\n",
       "      <td>14</td>\n",
       "      <td>COMPUTADOR</td>\n",
       "      <td>PAUTA CONNECT BB8701A W  MOBO ITAUTEC SM3322 A...</td>\n",
       "      <td>1</td>\n",
       "      <td>EQUIP INFORMATICA</td>\n",
       "      <td>2554.85</td>\n",
       "    </tr>\n",
       "    <tr>\n",
       "      <th>14</th>\n",
       "      <td>15</td>\n",
       "      <td>CADEIRA DE ESCRITORIO</td>\n",
       "      <td>CADEIRA DE ESCRITORIO COM RODAS REVESTIDA EM T...</td>\n",
       "      <td>2</td>\n",
       "      <td>MOVEIS</td>\n",
       "      <td>133.00</td>\n",
       "    </tr>\n",
       "    <tr>\n",
       "      <th>15</th>\n",
       "      <td>16</td>\n",
       "      <td>CADEIRA DE ESCRITORIO</td>\n",
       "      <td>CADEIRA DE ESCRITORIO COM RODAS REVESTIDA EM T...</td>\n",
       "      <td>2</td>\n",
       "      <td>MOVEIS</td>\n",
       "      <td>577.16</td>\n",
       "    </tr>\n",
       "    <tr>\n",
       "      <th>16</th>\n",
       "      <td>17</td>\n",
       "      <td>CADEIRA DE ESCRITORIO</td>\n",
       "      <td>CADEIRA DE ESCRITORIO COM RODAS REVESTIDA EM T...</td>\n",
       "      <td>1</td>\n",
       "      <td>MOVEIS</td>\n",
       "      <td>577.17</td>\n",
       "    </tr>\n",
       "    <tr>\n",
       "      <th>17</th>\n",
       "      <td>18</td>\n",
       "      <td>CADEIRA DE ESCRITORIO</td>\n",
       "      <td>CADEIRA DE ESCRITORIO COM RODAS REVESTIDA EM T...</td>\n",
       "      <td>2</td>\n",
       "      <td>MOVEIS</td>\n",
       "      <td>577.18</td>\n",
       "    </tr>\n",
       "    <tr>\n",
       "      <th>18</th>\n",
       "      <td>19</td>\n",
       "      <td>CADEIRA DE ESCRITORIO</td>\n",
       "      <td>CADEIRA DE ESCRITORIO COM RODAS REVESTIDA EM T...</td>\n",
       "      <td>2</td>\n",
       "      <td>MOVEIS</td>\n",
       "      <td>501.50</td>\n",
       "    </tr>\n",
       "    <tr>\n",
       "      <th>19</th>\n",
       "      <td>20</td>\n",
       "      <td>CADEIRA DE ESCRITORIO</td>\n",
       "      <td>CADEIRA DE ESCRITORIO REVESTIDA EM TECIDO NA C...</td>\n",
       "      <td>2</td>\n",
       "      <td>MOVEIS</td>\n",
       "      <td>577.20</td>\n",
       "    </tr>\n",
       "    <tr>\n",
       "      <th>20</th>\n",
       "      <td>21</td>\n",
       "      <td>CADEIRA DE ESCRITORIO</td>\n",
       "      <td>CADEIRA UNIVERSITARIA REVESTIDA EM TECIDO NA C...</td>\n",
       "      <td>2</td>\n",
       "      <td>MOVEIS</td>\n",
       "      <td>214.00</td>\n",
       "    </tr>\n",
       "    <tr>\n",
       "      <th>21</th>\n",
       "      <td>22</td>\n",
       "      <td>CADEIRA DE ESCRITORIO</td>\n",
       "      <td>CADEIRA UNIVERSITARIA REVESTIDA EM TECIDO NA C...</td>\n",
       "      <td>2</td>\n",
       "      <td>MOVEIS</td>\n",
       "      <td>214.01</td>\n",
       "    </tr>\n",
       "    <tr>\n",
       "      <th>22</th>\n",
       "      <td>23</td>\n",
       "      <td>CADEIRA DE ESCRITORIO</td>\n",
       "      <td>CADEIRA UNIVERSITARIA REVESTIDA EM TECIDO NA C...</td>\n",
       "      <td>3</td>\n",
       "      <td>MOVEIS</td>\n",
       "      <td>214.02</td>\n",
       "    </tr>\n",
       "    <tr>\n",
       "      <th>23</th>\n",
       "      <td>24</td>\n",
       "      <td>ESTABILIZADOR</td>\n",
       "      <td>ESTABILIZADOR RAGTECH 2480  1500 VA</td>\n",
       "      <td>1</td>\n",
       "      <td>EQUIP INFORMATICA</td>\n",
       "      <td>909.35</td>\n",
       "    </tr>\n",
       "    <tr>\n",
       "      <th>24</th>\n",
       "      <td>25</td>\n",
       "      <td>ESTABILIZADOR</td>\n",
       "      <td>ESTABILIZADOR RAGTECH 3480  1500 VA</td>\n",
       "      <td>1</td>\n",
       "      <td>EQUIP INFORMATICA</td>\n",
       "      <td>859.41</td>\n",
       "    </tr>\n",
       "    <tr>\n",
       "      <th>25</th>\n",
       "      <td>26</td>\n",
       "      <td>ESTABILIZADOR</td>\n",
       "      <td>ESTABILIZADOR RAGTECH 3480  1500 VA</td>\n",
       "      <td>4</td>\n",
       "      <td>EQUIP INFORMATICA</td>\n",
       "      <td>919.27</td>\n",
       "    </tr>\n",
       "    <tr>\n",
       "      <th>26</th>\n",
       "      <td>27</td>\n",
       "      <td>CONDICIONADOR</td>\n",
       "      <td>CONDICIONADOR DE AR GREE GWCO9MA DINNA3C I 900...</td>\n",
       "      <td>3</td>\n",
       "      <td>MOVEIS</td>\n",
       "      <td>1599.00</td>\n",
       "    </tr>\n",
       "    <tr>\n",
       "      <th>27</th>\n",
       "      <td>28</td>\n",
       "      <td>QUADRO BRANCO</td>\n",
       "      <td>QUADRO BRANCO REVESTIDO EM FORMICA COM MOLDURA...</td>\n",
       "      <td>3</td>\n",
       "      <td>MOVEIS</td>\n",
       "      <td>134.99</td>\n",
       "    </tr>\n",
       "    <tr>\n",
       "      <th>28</th>\n",
       "      <td>29</td>\n",
       "      <td>SUPORTE GABINETE</td>\n",
       "      <td>SUPORTE PARA GABINETE E ESTABILIZADOR REVESTID...</td>\n",
       "      <td>3</td>\n",
       "      <td>MOVEIS</td>\n",
       "      <td>139.90</td>\n",
       "    </tr>\n",
       "    <tr>\n",
       "      <th>29</th>\n",
       "      <td>30</td>\n",
       "      <td>COMPUTADOR</td>\n",
       "      <td>HP PAVILION 20 ALL IN ONE PC INTEL CORE I3</td>\n",
       "      <td>1</td>\n",
       "      <td>EQUIP INFORMATICA</td>\n",
       "      <td>1750.00</td>\n",
       "    </tr>\n",
       "    <tr>\n",
       "      <th>30</th>\n",
       "      <td>31</td>\n",
       "      <td>MONITOR</td>\n",
       "      <td>MONITOR HP L190HB 19 POLEGADAS</td>\n",
       "      <td>4</td>\n",
       "      <td>EQUIP INFORMATICA</td>\n",
       "      <td>650.00</td>\n",
       "    </tr>\n",
       "    <tr>\n",
       "      <th>31</th>\n",
       "      <td>32</td>\n",
       "      <td>MONITOR</td>\n",
       "      <td>MONITOR HP L190HB 19 POLEGADAS</td>\n",
       "      <td>1</td>\n",
       "      <td>EQUIP INFORMATICA</td>\n",
       "      <td>650.00</td>\n",
       "    </tr>\n",
       "    <tr>\n",
       "      <th>32</th>\n",
       "      <td>33</td>\n",
       "      <td>MONITOR</td>\n",
       "      <td>MONITOR HP L190HB 19 POLEGADAS</td>\n",
       "      <td>3</td>\n",
       "      <td>EQUIP INFORMATICA</td>\n",
       "      <td>650.00</td>\n",
       "    </tr>\n",
       "    <tr>\n",
       "      <th>33</th>\n",
       "      <td>34</td>\n",
       "      <td>COMPUTADOR</td>\n",
       "      <td>HP PAVILION 20 ALL IN ONE PC INTEL CORE I3</td>\n",
       "      <td>1</td>\n",
       "      <td>EQUIP INFORMATICA</td>\n",
       "      <td>1750.00</td>\n",
       "    </tr>\n",
       "    <tr>\n",
       "      <th>34</th>\n",
       "      <td>35</td>\n",
       "      <td>COMPUTADOR</td>\n",
       "      <td>HP PAVILION 20 ALL IN ONE PC INTEL CORE I3</td>\n",
       "      <td>1</td>\n",
       "      <td>EQUIP INFORMATICA</td>\n",
       "      <td>1839.47</td>\n",
       "    </tr>\n",
       "    <tr>\n",
       "      <th>35</th>\n",
       "      <td>36</td>\n",
       "      <td>MONITOR</td>\n",
       "      <td>MONITOR GAMER FULL HD LED SAMSUNG 27 POLEGADAS</td>\n",
       "      <td>3</td>\n",
       "      <td>EQUIP INFORMATICA</td>\n",
       "      <td>899.00</td>\n",
       "    </tr>\n",
       "    <tr>\n",
       "      <th>36</th>\n",
       "      <td>37</td>\n",
       "      <td>COMPUTADOR</td>\n",
       "      <td>DELL INSPIRON INS 3470 M40 8A GERACAO INTEL CO...</td>\n",
       "      <td>1</td>\n",
       "      <td>EQUIP INFORMATICA</td>\n",
       "      <td>2500.00</td>\n",
       "    </tr>\n",
       "    <tr>\n",
       "      <th>37</th>\n",
       "      <td>38</td>\n",
       "      <td>ROTEADOR</td>\n",
       "      <td>ROTEADOR RE057 MULTILASER</td>\n",
       "      <td>3</td>\n",
       "      <td>EQUIP INFORMATICA</td>\n",
       "      <td>90.80</td>\n",
       "    </tr>\n",
       "    <tr>\n",
       "      <th>38</th>\n",
       "      <td>39</td>\n",
       "      <td>ROTEADOR</td>\n",
       "      <td>ROTEADOR RE057 MULTILASER</td>\n",
       "      <td>1</td>\n",
       "      <td>EQUIP INFORMATICA</td>\n",
       "      <td>110.00</td>\n",
       "    </tr>\n",
       "    <tr>\n",
       "      <th>39</th>\n",
       "      <td>40</td>\n",
       "      <td>CAFETEIRA</td>\n",
       "      <td>CAFETEIRA BRITANIA 12 XICARAS</td>\n",
       "      <td>4</td>\n",
       "      <td>ELETRODOMESTICO</td>\n",
       "      <td>144.36</td>\n",
       "    </tr>\n",
       "    <tr>\n",
       "      <th>40</th>\n",
       "      <td>41</td>\n",
       "      <td>MICRO ONDAS</td>\n",
       "      <td>FORNO DE MICRO ONDAS ELECTROLUX MTO30   20L   ...</td>\n",
       "      <td>3</td>\n",
       "      <td>ELETRODOMESTICO</td>\n",
       "      <td>494.10</td>\n",
       "    </tr>\n",
       "    <tr>\n",
       "      <th>41</th>\n",
       "      <td>42</td>\n",
       "      <td>GELADEIRA</td>\n",
       "      <td>REFRIGERADOR ELECTROLUX DUPLEX DC35A 260L   BR...</td>\n",
       "      <td>3</td>\n",
       "      <td>ELETRODOMESTICO</td>\n",
       "      <td>1949.00</td>\n",
       "    </tr>\n",
       "    <tr>\n",
       "      <th>42</th>\n",
       "      <td>43</td>\n",
       "      <td>MESA</td>\n",
       "      <td>MESA RETANGULAR 60 CM</td>\n",
       "      <td>3</td>\n",
       "      <td>MOVEIS</td>\n",
       "      <td>549.98</td>\n",
       "    </tr>\n",
       "    <tr>\n",
       "      <th>43</th>\n",
       "      <td>44</td>\n",
       "      <td>MESA</td>\n",
       "      <td>MESA REDONDA REVESTIDA EM FORMICA</td>\n",
       "      <td>3</td>\n",
       "      <td>MOVEIS</td>\n",
       "      <td>549.98</td>\n",
       "    </tr>\n",
       "    <tr>\n",
       "      <th>44</th>\n",
       "      <td>45</td>\n",
       "      <td>CADEIRA</td>\n",
       "      <td>CADEIRA PREMIUM</td>\n",
       "      <td>3</td>\n",
       "      <td>MOVEIS</td>\n",
       "      <td>665.00</td>\n",
       "    </tr>\n",
       "    <tr>\n",
       "      <th>45</th>\n",
       "      <td>46</td>\n",
       "      <td>CADEIRA</td>\n",
       "      <td>CADEIRA PREMIUM</td>\n",
       "      <td>1</td>\n",
       "      <td>MOVEIS</td>\n",
       "      <td>665.00</td>\n",
       "    </tr>\n",
       "    <tr>\n",
       "      <th>46</th>\n",
       "      <td>47</td>\n",
       "      <td>CADEIRA</td>\n",
       "      <td>CADEIRA PLASTICA</td>\n",
       "      <td>3</td>\n",
       "      <td>MOVEIS</td>\n",
       "      <td>30.00</td>\n",
       "    </tr>\n",
       "    <tr>\n",
       "      <th>47</th>\n",
       "      <td>48</td>\n",
       "      <td>FURADEIRA</td>\n",
       "      <td>PARAFUSADEIRA E FURADEIRA BOSCH GSR 7 14 E 400...</td>\n",
       "      <td>2</td>\n",
       "      <td>FERRAMENTAS ELETRICAS</td>\n",
       "      <td>249.99</td>\n",
       "    </tr>\n",
       "    <tr>\n",
       "      <th>48</th>\n",
       "      <td>49</td>\n",
       "      <td>SERRA</td>\n",
       "      <td>SERRA CIRCULAR WAP ESC 1400 FERRAMENTA ELETRIC...</td>\n",
       "      <td>6</td>\n",
       "      <td>FERRAMENTAS ELETRICAS</td>\n",
       "      <td>1320.60</td>\n",
       "    </tr>\n",
       "    <tr>\n",
       "      <th>49</th>\n",
       "      <td>50</td>\n",
       "      <td>SERRA</td>\n",
       "      <td>SERRA TICO TICO BOSCH GST 650 450W 127V</td>\n",
       "      <td>1</td>\n",
       "      <td>FERRAMENTAS ELETRICAS</td>\n",
       "      <td>313.20</td>\n",
       "    </tr>\n",
       "    <tr>\n",
       "      <th>50</th>\n",
       "      <td>51</td>\n",
       "      <td>POLTRONA</td>\n",
       "      <td>POLTRONA VILLARE SOGNO RECLINAVEL REVESTIDA EM...</td>\n",
       "      <td>5</td>\n",
       "      <td>MOVEIS</td>\n",
       "      <td>845.50</td>\n",
       "    </tr>\n",
       "    <tr>\n",
       "      <th>51</th>\n",
       "      <td>52</td>\n",
       "      <td>SMARTPHONE</td>\n",
       "      <td>XIAOMI MI A2 LITE 3GB RAM 32GB ARMAZENAMENTO A...</td>\n",
       "      <td>4</td>\n",
       "      <td>SMARTPHONES</td>\n",
       "      <td>1177.00</td>\n",
       "    </tr>\n",
       "  </tbody>\n",
       "</table>\n",
       "</div>"
      ],
      "text/plain": [
       "    equipamentoPK  ... equipamentoPreco\n",
       "0               1  ...           126.35\n",
       "1               2  ...           180.20\n",
       "2               3  ...           167.41\n",
       "3               4  ...          2399.41\n",
       "4               5  ...          2399.41\n",
       "5               6  ...          1877.84\n",
       "6               7  ...          3500.47\n",
       "7               8  ...          1474.87\n",
       "8               9  ...          1500.00\n",
       "9              10  ...          1583.74\n",
       "10             11  ...          1250.00\n",
       "11             12  ...          2300.74\n",
       "12             13  ...          2300.74\n",
       "13             14  ...          2554.85\n",
       "14             15  ...           133.00\n",
       "15             16  ...           577.16\n",
       "16             17  ...           577.17\n",
       "17             18  ...           577.18\n",
       "18             19  ...           501.50\n",
       "19             20  ...           577.20\n",
       "20             21  ...           214.00\n",
       "21             22  ...           214.01\n",
       "22             23  ...           214.02\n",
       "23             24  ...           909.35\n",
       "24             25  ...           859.41\n",
       "25             26  ...           919.27\n",
       "26             27  ...          1599.00\n",
       "27             28  ...           134.99\n",
       "28             29  ...           139.90\n",
       "29             30  ...          1750.00\n",
       "30             31  ...           650.00\n",
       "31             32  ...           650.00\n",
       "32             33  ...           650.00\n",
       "33             34  ...          1750.00\n",
       "34             35  ...          1839.47\n",
       "35             36  ...           899.00\n",
       "36             37  ...          2500.00\n",
       "37             38  ...            90.80\n",
       "38             39  ...           110.00\n",
       "39             40  ...           144.36\n",
       "40             41  ...           494.10\n",
       "41             42  ...          1949.00\n",
       "42             43  ...           549.98\n",
       "43             44  ...           549.98\n",
       "44             45  ...           665.00\n",
       "45             46  ...           665.00\n",
       "46             47  ...            30.00\n",
       "47             48  ...           249.99\n",
       "48             49  ...          1320.60\n",
       "49             50  ...           313.20\n",
       "50             51  ...           845.50\n",
       "51             52  ...          1177.00\n",
       "\n",
       "[52 rows x 6 columns]"
      ]
     },
     "execution_count": 47,
     "metadata": {},
     "output_type": "execute_result"
    }
   ],
   "source": [
    "Questao8"
   ]
  },
  {
   "cell_type": "markdown",
   "metadata": {
    "id": "YyZFifeHw6KP"
   },
   "source": [
    "Exportando o csv do resultado:"
   ]
  },
  {
   "cell_type": "code",
   "execution_count": 48,
   "metadata": {
    "id": "zHdZh9wCw58g"
   },
   "outputs": [],
   "source": [
    "Questao8.to_csv('questao8.csv', index = False, header = True)"
   ]
  }
 ],
 "metadata": {
  "colab": {
   "collapsed_sections": [
    "BGeh8KdXwVCQ",
    "sO16-7-jOioq",
    "2IpYfoG_kx_8",
    "5qL9SiR_pQE2"
   ],
   "name": "JulianoMendonca.ipynb",
   "provenance": []
  },
  "kernelspec": {
   "display_name": "Python 3",
   "language": "python",
   "name": "python3"
  },
  "language_info": {
   "codemirror_mode": {
    "name": "ipython",
    "version": 3
   },
   "file_extension": ".py",
   "mimetype": "text/x-python",
   "name": "python",
   "nbconvert_exporter": "python",
   "pygments_lexer": "ipython3",
   "version": "3.8.10"
  }
 },
 "nbformat": 4,
 "nbformat_minor": 1
}

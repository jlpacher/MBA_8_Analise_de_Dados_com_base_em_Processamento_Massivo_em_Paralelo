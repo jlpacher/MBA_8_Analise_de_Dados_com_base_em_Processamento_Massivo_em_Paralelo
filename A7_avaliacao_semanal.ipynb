{
 "cells": [
  {
   "cell_type": "markdown",
   "id": "a34c1e64",
   "metadata": {},
   "source": [
    "# AS7 - ADPMP - CONSULTAS OLAP USANDO SPARK SQL"
   ]
  },
  {
   "cell_type": "markdown",
   "id": "ad912134",
   "metadata": {},
   "source": [
    "Questão 1:\n",
    "\n",
    "Considerando a constelação de fatos da BI Solutions, qual a ordem de processamento lógico da seguinte consulta?\n",
    "\n",
    "SELECT dataMes, SUM(quantidadeLancamentos) <br>\n",
    "FROM data, pagamento <br>\n",
    "WHERE data.dataPK = pagamento.dataPK AND dataAno = 2020 <br>\n",
    "GROUP BY dataMes <br>\n",
    "HAVING SUM(quantidadeLancamentos) > 5 <br>\n",
    "\n",
    "a.FROM - SELECT - WHERE - GROUP BY - HAVING <br>\n",
    "<font color='red'>b.FROM - WHERE - GROUP BY - HAVING - SELECT </font><br>\n",
    "c.FROM - GROUP BY - HAVING - WHERE - SELECT <br>\n",
    "d.SELECT - FROM - GROUP BY - HAVING - WHERE <br>\n",
    "e.SELECT - FROM - WHERE - GROUP BY - HAVING <br>"
   ]
  },
  {
   "cell_type": "markdown",
   "id": "5f55045f",
   "metadata": {},
   "source": [
    "Processamento Lógico de uma Consulta:<br>\n",
    "(usado para otimização da consulta)<br>\n",
    "1-FROM 2-WHERE 3-GROUP BY 4-HAVING 5-SELECT 6-ORDER BY"
   ]
  },
  {
   "cell_type": "markdown",
   "id": "cfaed614",
   "metadata": {},
   "source": [
    "Questão 2:\n",
    "\n",
    "Assinale a alternativa **correta** acerca das cláusulas [INNER] JOIN e FULL [OUTER] JOIN, considerando que essas cláusulas são aplicadas às relações R e S.\n",
    "\n",
    "a.A cláusula [INNER] JOIN mantém todas as tuplas de R e S mesmo sem correspondência, enquanto que FULL [OUTER] JOIN mantém somente as tuplas de R e S que têm correspondência. <br>\n",
    "b.A cláusula [INNER] JOIN mantém somente as tuplas de R e S que têm correspondência, enquanto que FULL [OUTER] JOIN mantém apenas as tuplas de R. <br>\n",
    "c.A cláusula [INNER] JOIN mantém somente as tuplas de R, enquanto que FULL [OUTER] JOIN mantém apenas as tuplas de S. <br>\n",
    "d.A cláusula [INNER] JOIN mantém somente as tuplas de R, enquanto que FULL [OUTER] JOIN mantém todas as tuplas de R e S mesmo sem correspondência. <br>\n",
    "<font color='red'>e.A cláusula [INNER] JOIN mantém somente as tuplas de R e S que têm correspondência, enquanto que FULL [OUTER] JOIN mantém todas as tuplas de R e S mesmo sem correspondência. </font><br>"
   ]
  },
  {
   "cell_type": "markdown",
   "id": "17147ae3",
   "metadata": {},
   "source": [
    "Questão 3:\n",
    "\n",
    "Considere as seguintes afirmações acerca da linguagem SQL:\n",
    "\n",
    "I. A linguagem SQL é amplamente utilizada por sua simplicidade, facilidade de utilização e grande poder de consulta. <br>\n",
    "II. A especificação de duas relações na cláusula FROM sem a especificação de uma condição de junção referente a essas duas relações gera um produto cartesiano das relações. <br>\n",
    "III. É possível especificar várias condições de seleção na cláusula ORDER BY usando os operadores lógicos booleanos AND e/ou OR, sendo que essas condições devem ser referentes a atributos presentes nas relações especificadas na cláusula FROM. <br>\n",
    "IV. A cláusula ORDER BY ordena os dados exibidos como resposta à consulta. <br>\n",
    "\n",
    "Assinale a **alternativa** que contém as afirmações corretas.\n",
    "\n",
    "a.III e IV <br>\n",
    "b.II e IV <br>\n",
    "<font color='red'>c.I, II e IV </font><br>\n",
    "d.II, III e IV <br>\n",
    "e.I e II <br>"
   ]
  },
  {
   "cell_type": "markdown",
   "id": "e2b57ef9",
   "metadata": {},
   "source": [
    "I-OK  <br>\n",
    "II-OK  Relações (tabelas) na cláusula FROM gerarão um produto cartesiano das relações. A especificação de junção das tuplas (linhas) é dada pela cláusula JOIN que ditará as tuplas que serão mantidas após a junção. <br>\n",
    "III-NOK  Os operadores lógicos booleanos AND/OR não são usados na ordenação de tuplas com o operador ORDER BT.  <br>   \n",
    "IV-OK  ORDER BY ordena as tuplas que aparecem no resultado da consulta (asc (padrão): ordem ascendente, desc: ordem descendente). A ordenação pode ser especificada em vários atributos, sendo que a referente ao primeiro atributo é prioritária, e se houver valores repetidos para o primeiro atributo, então é utilizada a ordenação referente ao segundo atributo e assim por diante. <br>\n"
   ]
  },
  {
   "cell_type": "markdown",
   "id": "3e0c333e",
   "metadata": {},
   "source": [
    "Questão 4:\n",
    "\n",
    "Considerando a constelação de fatos da BI Solutions, assinale a **alternativa** que corresponde à consulta SQL para: “Qual a quantidade de funcionários que tiveram salários lançados em outubro de 2020, por sexo? Ordene o resultado final pela quantidade de lançamentos”\n",
    "\n",
    "a.SELECT SUM(quantidadeLancamentos) <br>\n",
    "FROM funcionario JOIN pagamento ON funcionario.funcPK = pagamento.funcPK <br>\n",
    "JOIN data ON data.dataPK = pagamento.dataPK <br>\n",
    "WHERE dataMes = 10 AND dataAno = 2020 <br>\n",
    "GROUP BY funcSexo <br>\n",
    "ORDER BY SUM(quantidadeLancamentos) <br>\n",
    "\n",
    "<font color='red'>b.SELECT funcSexo, SUM(quantidadeLancamentos) <br>\n",
    "FROM funcionario JOIN pagamento ON funcionario.funcPK = pagamento.funcPK <br>\n",
    "JOIN data ON data.dataPK = pagamento.dataPK <br>\n",
    "WHERE dataMes = 10 AND dataAno = 2020 <br>\n",
    "GROUP BY funcSexo <br>\n",
    "ORDER BY SUM(quantidadeLancamentos) </font> <br>\n",
    "\n",
    "c.SELECT funcSexo, SUM(quantidadeLancamentos) <br>\n",
    "FROM funcionario JOIN pagamento JOIN data <br>\n",
    "WHERE dataMes = 10 AND dataAno = 2020 <br>\n",
    "GROUP BY funcSexo <br>\n",
    "ORDER BY SUM(quantidadeLancamentos) <br>\n",
    "\n",
    "d.SELECT funcSexo, SUM(quantidadeLancamentos) <br>\n",
    "FROM funcionario JOIN pagamento ON funcionario.funcPK = pagamento.funcPK <br>\n",
    "JOIN data ON data.dataPK = pagamento.dataPK <br>\n",
    "WHERE dataMes = 10 AND dataAno = 2020 <br>\n",
    "GROUP BY funcSexo <br>\n",
    "ORDER BY funcSexo <br>\n",
    "\n",
    "e.SELECT funcSexo, SUM(quantidadeLancamentos) <br>\n",
    "FROM funcionario JOIN pagamento ON funcionario.funcPK = pagamento.funcPK <br>\n",
    "JOIN data ON data.dataPK = pagamento.dataPK <br>\n",
    "WHERE dataMes = 10 AND dataAno = 2020 <br>\n",
    "ORDER BY SUM(quantidadeLancamentos)  <br>"
   ]
  },
  {
   "cell_type": "markdown",
   "id": "b0cfb672",
   "metadata": {},
   "source": [
    "Ver resultado no notebook da Lista de Exercícios"
   ]
  },
  {
   "cell_type": "markdown",
   "id": "83ec7df1",
   "metadata": {},
   "source": [
    "Questão 5:\n",
    "\n",
    "Considerando a constelação de fatos da BI Solutions, assinale a **alternativa** que corresponde à consulta SQL para: “Qual a média de salários no ano de 2020, considerando cada cargo e seus respectivos níveis? Ordene o resultado final pela média de salários, da maior média para a menor média.”\n",
    "\n",
    "a.SELECT cargoNome, cargoNivel, AVG(salario) <br>\n",
    "FROM cargo JOIN pagamento ON cargo.cargoPK = pagamento.cargoPK <br>\n",
    "JOIN data ON data.dataPK = pagamento.dataPK <br>\n",
    "GROUP BY cargoNome, cargoNivel <br>\n",
    "ORDER BY AVG(salario) <br>\n",
    "\n",
    "<font color='red'>b.SELECT cargoNome, cargoNivel, AVG(salario) <br>\n",
    "FROM cargo JOIN pagamento ON cargo.cargoPK = pagamento.cargoPK <br>\n",
    "JOIN data ON data.dataPK = pagamento.dataPK <br>\n",
    "WHERE dataAno = 2020 <br>\n",
    "GROUP BY cargoNome, cargoNivel <br>\n",
    "ORDER BY AVG(salario) DESC </font><br>\n",
    "\n",
    "c.SELECT cargoNome, cargoNivel, AVG(salario) <br>\n",
    "FROM cargo JOIN pagamento ON cargo.cargoPK = pagamento.cargoPK <br>\n",
    "JOIN data ON data.dataPK = pagamento.dataPK <br>\n",
    "WHERE dataAno = 2020 AND cargoNivel = ’SENIOR’ <br>\n",
    "GROUP BY cargoNome, cargoNivel <br>\n",
    "ORDER BY AVG(salario) DESC <br>\n",
    "\n",
    "d.SELECT cargoNome, cargoNivel, AVG(salario) <br>\n",
    "FROM cargo JOIN pagamento ON cargo.cargoPK = pagamento.cargoPK <br>\n",
    "WHERE dataAno = 2020 <br>\n",
    "GROUP BY cargoNome, cargoNivel <br>\n",
    "ORDER BY AVG(salario) DESC <br>\n",
    "\n",
    "e.SELECT cargoNome, AVG(salario) <br>\n",
    "FROM cargo JOIN pagamento ON cargo.cargoPK = pagamento.cargoPK <br>\n",
    "JOIN data ON data.dataPK = pagamento.dataPK <br>\n",
    "WHERE dataAno = 2020 <br>\n",
    "GROUP BY cargoNome <br>\n",
    "ORDER BY AVG(salario) <br>"
   ]
  },
  {
   "cell_type": "markdown",
   "id": "8afca857",
   "metadata": {},
   "source": [
    "Ver resultado no notebook da Lista de Exercícios"
   ]
  }
 ],
 "metadata": {
  "kernelspec": {
   "display_name": "Python 3",
   "language": "python",
   "name": "python3"
  },
  "language_info": {
   "codemirror_mode": {
    "name": "ipython",
    "version": 3
   },
   "file_extension": ".py",
   "mimetype": "text/x-python",
   "name": "python",
   "nbconvert_exporter": "python",
   "pygments_lexer": "ipython3",
   "version": "3.8.10"
  }
 },
 "nbformat": 4,
 "nbformat_minor": 5
}
